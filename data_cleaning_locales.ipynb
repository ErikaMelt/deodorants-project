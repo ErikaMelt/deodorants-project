{
 "cells": [
  {
   "cell_type": "markdown",
   "id": "7af5dfe1",
   "metadata": {},
   "source": [
    "# Limpieza de Datos"
   ]
  },
  {
   "cell_type": "markdown",
   "source": [
    "# Limpieza de Datos"
   ],
   "metadata": {
    "collapsed": false
   }
  },
  {
   "cell_type": "code",
   "execution_count": null,
   "id": "396705b3",
   "metadata": {},
   "outputs": [],
   "source": [
    "import pandas as pd\n",
    "from utils import convert_file, remove_non_ascii"
   ]
  },
  {
   "cell_type": "markdown",
   "id": "dbd04701",
   "metadata": {},
   "source": [
    "# Importar Datasets"
   ]
  },
  {
   "cell_type": "markdown",
   "source": [
    "### Dataset Movimientos-20190716"
   ],
   "metadata": {
    "collapsed": false
   }
  },
  {
   "cell_type": "markdown",
   "source": [
    "#### Importar el dataset y observar los primeros registros con head y verificar los tipos de datos con el método info."
   ],
   "metadata": {
    "collapsed": false
   }
  },
  {
   "cell_type": "code",
   "execution_count": null,
   "outputs": [],
   "source": [
    "movimientos_col_names = [\n",
    "    'idb', 'id_producto', 'fecha_trans', 'stock_unidades', 'venta_unidades', 'precio_unitario',\n",
    "    'cd_abast', 'is_prod_rol_local'\n",
    "]"
   ],
   "metadata": {
    "collapsed": false
   }
  },
  {
   "cell_type": "code",
   "execution_count": null,
   "outputs": [],
   "source": [
    "path = './data/VMI_Movimientos-20190716.txt'\n",
    "movimientos_df = pd.read_csv(path,\n",
    "                 delimiter = '\\t',\n",
    "                 header=None,\n",
    "                 names=movimientos_col_names)"
   ],
   "metadata": {
    "collapsed": false
   }
  },
  {
   "cell_type": "code",
   "execution_count": null,
   "outputs": [],
   "source": [
    "movimientos_df.head()"
   ],
   "metadata": {
    "collapsed": false
   }
  },
  {
   "cell_type": "code",
   "execution_count": null,
   "outputs": [],
   "source": [
    "movimientos_df.info()"
   ],
   "metadata": {
    "collapsed": false
   }
  },
  {
   "cell_type": "markdown",
   "source": [
    "#### Ajustes al dataframe\n",
    "- Convertir la columna fecha_trans a tipo de dato datetime.\n",
    "- Convertir la columna is_prod_rol_local a tipo de dato string.\n",
    "- Verificar por valores nulos y repetidos.\n",
    "- Convertir la columna is_prod_rol_local a variable numerica donde 1 corresponde a SI y 0 corresponde a NO.\n",
    "- Obtener las fechas máximas y minimas de transaciones\n",
    "- Obtener una análisis descriptivo de los datos."
   ],
   "metadata": {
    "collapsed": false
   }
  },
  {
   "cell_type": "code",
   "execution_count": null,
   "outputs": [],
   "source": [
    "movimientos_df = convert_file(movimientos_df, col_name='fecha_trans', data_type='date')"
   ],
   "metadata": {
    "collapsed": false
   }
  },
  {
   "cell_type": "code",
   "execution_count": null,
   "outputs": [],
   "source": [
    "movimientos_df.isnull().sum(axis=0)"
   ],
   "metadata": {
    "collapsed": false
   }
  },
  {
   "cell_type": "code",
   "execution_count": null,
   "outputs": [],
   "source": [
    "movimientos_df.duplicated().sum()"
   ],
   "metadata": {
    "collapsed": false
   }
  },
  {
   "cell_type": "code",
   "execution_count": null,
   "outputs": [],
   "source": [
    "movimientos_df = convert_file(movimientos_df, 'is_prod_rol_local', 'str')"
   ],
   "metadata": {
    "collapsed": false
   }
  },
  {
   "cell_type": "code",
   "execution_count": null,
   "outputs": [],
   "source": [
    "movimientos_df['is_prod_rol_local'] = movimientos_df['is_prod_rol_local'].str.lower().apply(lambda x: 1 if x == 'si' else 0)"
   ],
   "metadata": {
    "collapsed": false
   }
  },
  {
   "cell_type": "code",
   "execution_count": null,
   "outputs": [],
   "source": [
    "max_date = movimientos_df['fecha_trans'].max()\n",
    "min_date = movimientos_df['fecha_trans'].min()\n",
    "\n",
    "print(f\"Minimum date: {min_date}\")\n",
    "print(f\"Maximum date: {max_date}\")"
   ],
   "metadata": {
    "collapsed": false
   }
  },
  {
   "cell_type": "code",
   "execution_count": null,
   "outputs": [],
   "source": [
    "movimientos_df.info()"
   ],
   "metadata": {
    "collapsed": false
   }
  },
  {
   "cell_type": "code",
   "execution_count": null,
   "outputs": [],
   "source": [
    "movimientos_df.describe()"
   ],
   "metadata": {
    "collapsed": false
   }
  },
  {
   "cell_type": "code",
   "execution_count": null,
   "outputs": [],
   "source": [
    "# Verificar cuantos valores negativos tenemos en la columna venta_unidades\n",
    "ventas_unidades_negativas = movimientos_df[movimientos_df['venta_unidades'] < 0]\n",
    "ventas_unidades_negativas"
   ],
   "metadata": {
    "collapsed": false
   }
  },
  {
   "cell_type": "code",
   "execution_count": null,
   "outputs": [],
   "source": [
    "# Verificar cuantos valores negativos tenemos en la columna stock unidades\n",
    "stock_unidades_negativas = movimientos_df[movimientos_df['stock_unidades'] < 0]\n",
    "print(stock_unidades_negativas)\n",
    "stock_unidades_negativas.stock_unidades.sum()"
   ],
   "metadata": {
    "collapsed": false
   }
  },
  {
   "cell_type": "markdown",
   "source": [
    "#### Observaciones dataset Movimientos-20190716"
   ],
   "metadata": {
    "collapsed": false
   }
  },
  {
   "cell_type": "markdown",
   "source": [
    "1. El dataset contiene la información referente a los movimientos de productos comprendidos entre Julio 15 de 2016 hasta el día 14 de Julio de 2019.\n",
    "2. El dataset contiene 8347817 registros y 8 columnas identificadas así:\n",
    "    - idb: Identificador interno de Boca\n",
    "    - id_producto: Identificador interno de Artículo\n",
    "    - fecha: Fecha de la Transacción,  1 dia menos que la fecha actual\n",
    "    - stock_unidades: Stock en unidades del Artículo en la Boca\n",
    "    - venta_unidades: Venta en unidades\n",
    "    - precio_unitario: Precio de venta unitario\n",
    "    - cd_abast: Que CD de la region del local abastece este producto al local para productos almacenados.\n",
    "    - is_prod_rol_local: SI= sigue en Rol, NO= no esta en Rol el producto en el local.\n",
    "3. No se observan valores NAN ó valores repetidos.\n",
    "4. El valor medio de inventario en unidades es de 20.65585 unidades.\n",
    "5. El valor medio de ventas en unidades es de 0.3133696 unidades.\n",
    "6. La media del precio unitario es de 64.26050 pesos.\n",
    "7. Se observan 580 registros que contienen valores de ventas en unidades con valores negativos.\n",
    "8. Se observan 45483 registros que contienen valores de stock en unidades negativos, como se observa en la columna stock_unidades."
   ],
   "metadata": {
    "collapsed": false
   }
  },
  {
   "cell_type": "markdown",
   "source": [
    "### Dataset Promociones-20190715"
   ],
   "metadata": {
    "collapsed": false
   }
  },
  {
   "cell_type": "markdown",
   "source": [
    "#### Importar el dataset y observar los primeros registros con head y verificar los tipos de datos con el método info."
   ],
   "metadata": {
    "collapsed": false
   }
  },
  {
   "cell_type": "code",
   "execution_count": null,
   "outputs": [],
   "source": [
    "promo_col_names = [\n",
    "        'idb', 'id_producto', 'fecha_desde', 'fecha_hasta', 'ventas_estimadas_und',\n",
    "        'nro_prom', 'fecha_trans', 'porcentaje_dcto'\n",
    "]"
   ],
   "metadata": {
    "collapsed": false
   }
  },
  {
   "cell_type": "code",
   "execution_count": null,
   "outputs": [],
   "source": [
    "promo_df = pd.read_csv(\"./data/VMI_Promociones-20190715.txt\",\n",
    "                       encoding=\"utf-8\",\n",
    "                       header=None,\n",
    "                       delimiter='\\t',\n",
    "                       names=promo_col_names)"
   ],
   "metadata": {
    "collapsed": false
   }
  },
  {
   "cell_type": "code",
   "execution_count": null,
   "id": "8e7cd2e4",
   "metadata": {},
   "outputs": [],
   "source": [
    "promo_df.head()"
   ]
  },
  {
   "cell_type": "code",
   "execution_count": null,
   "outputs": [],
   "source": [
    "promo_df.info()"
   ],
   "metadata": {
    "collapsed": false
   }
  },
  {
   "cell_type": "markdown",
   "source": [
    "#### Ajustes al dataframe\n",
    "- Convertir la columnas fecha_desde, fecha_hasta y fecha_trans a tipo de dato datetime.\n",
    "- Verificar si existen valores nulos y/o repetidos.\n",
    "- Obtener las fechas máximas y minimas de transaciones.\n",
    "- Crear una nueva columnas llamada duracion_promo para obtener el delta de tiempo entre la fecha_desde y la fecha_hasta de una promoción.\n",
    "- Obtener una análisis descriptivo de los datos."
   ],
   "metadata": {
    "collapsed": false
   }
  },
  {
   "cell_type": "code",
   "execution_count": null,
   "outputs": [],
   "source": [
    "promo_df = convert_file(promo_df, 'fecha_desde',  'date')"
   ],
   "metadata": {
    "collapsed": false
   }
  },
  {
   "cell_type": "code",
   "execution_count": null,
   "outputs": [],
   "source": [
    "promo_df = convert_file(promo_df, 'fecha_hasta',  'date')"
   ],
   "metadata": {
    "collapsed": false
   }
  },
  {
   "cell_type": "code",
   "execution_count": null,
   "outputs": [],
   "source": [
    "promo_df = convert_file(promo_df, 'fecha_trans', 'date')"
   ],
   "metadata": {
    "collapsed": false
   }
  },
  {
   "cell_type": "code",
   "execution_count": null,
   "outputs": [],
   "source": [
    "promo_df.isnull().sum(axis=0)"
   ],
   "metadata": {
    "collapsed": false
   }
  },
  {
   "cell_type": "code",
   "execution_count": null,
   "outputs": [],
   "source": [
    "promo_df.duplicated().sum()"
   ],
   "metadata": {
    "collapsed": false
   }
  },
  {
   "cell_type": "code",
   "execution_count": null,
   "outputs": [],
   "source": [
    "min_date = promo_df['fecha_desde'].min()\n",
    "max_date = promo_df['fecha_hasta'].max()\n",
    "\n",
    "\n",
    "print(f\"Minimum date: {min_date}\")\n",
    "print(f\"Maximum date: {max_date}\")"
   ],
   "metadata": {
    "collapsed": false
   }
  },
  {
   "cell_type": "code",
   "execution_count": null,
   "outputs": [],
   "source": [
    "min_date = promo_df['fecha_trans'].min()\n",
    "max_date = promo_df['fecha_trans'].max()\n",
    "\n",
    "print(f\"Minimum date: {min_date}\")\n",
    "print(f\"Maximum date: {max_date}\")"
   ],
   "metadata": {
    "collapsed": false
   }
  },
  {
   "cell_type": "code",
   "execution_count": null,
   "outputs": [],
   "source": [
    "# Crear una nueva columna llamada duracion de la promoción.\n",
    "promo_df['duracion_promo'] = promo_df['fecha_hasta'] - promo_df['fecha_desde']"
   ],
   "metadata": {
    "collapsed": false
   }
  },
  {
   "cell_type": "code",
   "execution_count": null,
   "outputs": [],
   "source": [
    "promo_df.describe()"
   ],
   "metadata": {
    "collapsed": false
   }
  },
  {
   "cell_type": "code",
   "execution_count": null,
   "outputs": [],
   "source": [
    "promo_df.info()"
   ],
   "metadata": {
    "collapsed": false
   }
  },
  {
   "cell_type": "markdown",
   "source": [
    "#### Observaciones dataset Promociones-20190715"
   ],
   "metadata": {
    "collapsed": false
   }
  },
  {
   "cell_type": "markdown",
   "source": [
    "1. El dataset contiene la información referente a las promociones realizadas desde 2016-07-19 hasta el 2019-07-16.\n",
    "2. El dataset contiene 285253 registros y 9 columnas descritas así:\n",
    "    - idb:\tIdentificador interno de Boca\n",
    "    - id_producto:\tIdentificador interno de Artículo\n",
    "    - fecha-desde: \tFecha desde de la vigencia de la Promoción\n",
    "    - fecha_hasta:\tFecha hasta de la vigencia de la Promoción\n",
    "    - ventas_estimadas_und: Estimado de ventas en la promoción en Unidades\n",
    "    - nro_prom: Número de la Promoción\n",
    "    - fecha_trans: Fecha de la Información\n",
    "    - porcentaje_dcto: Porcentaje de Descuento\n",
    "    - duracion_promo: La diferencia entre fecha_desde y fecha_hasta.\n",
    "3. No se observan valores NAN ó duplicados.\n",
    "4. La media de ventas estimadas es de 24.62 unidades.\n",
    "5. El máximo porcentaje de descuento es de 18% y el mínimo es de 3%.\n",
    "6. La duración máxima de una promoción es de 18 días.\n",
    "7. La duración media de una promoción es de 8 días."
   ],
   "metadata": {
    "collapsed": false
   }
  },
  {
   "cell_type": "markdown",
   "source": [
    "### Dataset ProvProdu-20190712"
   ],
   "metadata": {
    "collapsed": false
   }
  },
  {
   "cell_type": "markdown",
   "source": [
    "#### Importar el dataset y observar los primeros registros con head y verificar los tipos de datos con el método info."
   ],
   "metadata": {
    "collapsed": false
   }
  },
  {
   "cell_type": "code",
   "execution_count": null,
   "outputs": [],
   "source": [
    "prov_prod_col_names = [\n",
    "    'id_proveedor', 'razon_social', 'id_sector', 'desc_sector', 'id_seccion',\n",
    "    'desc_seccion', 'id_gran_flia', 'desc_gran_flia', 'id_flia', 'desc_flia',\n",
    "    'id_sub_flia', 'desc_sub_flia', 'id_articulo', 'id_producto',\n",
    "    'desc_producto', 'id_region', 'fecha'\n",
    "]"
   ],
   "metadata": {
    "collapsed": false
   }
  },
  {
   "cell_type": "code",
   "execution_count": null,
   "outputs": [],
   "source": [
    "prov_prod_df = pd.read_csv(\"./data/VMI_ProvProdu-20190712.txt\",\n",
    "                           encoding=\"ISO-8859-1\",\n",
    "                           header=None,\n",
    "                           delimiter='\\t',\n",
    "                           names=prov_prod_col_names)"
   ],
   "metadata": {
    "collapsed": false
   }
  },
  {
   "cell_type": "code",
   "execution_count": null,
   "id": "ad3f0604",
   "metadata": {},
   "outputs": [],
   "source": [
    "prov_prod_df.head()"
   ]
  },
  {
   "cell_type": "code",
   "execution_count": null,
   "outputs": [],
   "source": [
    "prov_prod_df.info()"
   ],
   "metadata": {
    "collapsed": false
   }
  },
  {
   "cell_type": "markdown",
   "source": [
    "#### Ajustes al dataframe\n",
    "- Arreglar errores de ortografia para las columnas desc_sector y desc_gran_flia.\n",
    "- Convertir las columnas de tipo object a string y luego a lower case, esto nos va a facilitar realizar el análisis de variables categoricas.\n",
    "- Verificar valores nulos y/o duplicados.\n",
    "- Convertir la columna fecha a tipo datetime.\n",
    "- Hacer un análisis descriptivo."
   ],
   "metadata": {
    "collapsed": false
   }
  },
  {
   "cell_type": "code",
   "execution_count": null,
   "outputs": [],
   "source": [
    "prov_prod_df['desc_gran_flia'] = prov_prod_df['desc_gran_flia'].replace(to_replace=r'Ba¤o', value='Baño', regex=True)\n",
    "prov_prod_df['desc_sector'] = prov_prod_df['desc_sector'].replace(to_replace=r'Almacn', value='Almacén', regex=True)"
   ],
   "metadata": {
    "collapsed": false
   }
  },
  {
   "cell_type": "code",
   "execution_count": null,
   "outputs": [],
   "source": [
    "columnas_categoricas = ['razon_social', 'desc_sector', 'desc_seccion', 'desc_gran_flia', 'desc_flia', 'desc_sub_flia', 'desc_producto']\n",
    "prov_prod_df = convert_file(prov_prod_df, None,'str_m', columnas_categoricas,)"
   ],
   "metadata": {
    "collapsed": false
   }
  },
  {
   "cell_type": "code",
   "execution_count": null,
   "outputs": [],
   "source": [
    "prov_prod_df = prov_prod_df.applymap(lambda x: x.lower() if isinstance(x, str) else x)"
   ],
   "metadata": {
    "collapsed": false
   }
  },
  {
   "cell_type": "code",
   "execution_count": null,
   "outputs": [],
   "source": [
    "prov_prod_df = convert_file(prov_prod_df, 'fecha', 'date')"
   ],
   "metadata": {
    "collapsed": false
   }
  },
  {
   "cell_type": "code",
   "execution_count": null,
   "outputs": [],
   "source": [
    "prov_prod_df.info()"
   ],
   "metadata": {
    "collapsed": false
   }
  },
  {
   "cell_type": "code",
   "execution_count": null,
   "outputs": [],
   "source": [
    "# Conteo de los niveles en las diferentes columnas categóricas\n",
    "for col in columnas_categoricas:\n",
    "    print(f'Columna {col}: {prov_prod_df[col].nunique()} subnivele(s)')"
   ],
   "metadata": {
    "collapsed": false
   }
  },
  {
   "cell_type": "markdown",
   "source": [
    "#### Observaciones dataset ProvProdu-20190712\n",
    "\n",
    "1. El dataset de ProvProdu tiene 17 columnas y un total de 82 registros.\n",
    "2. Las columnas se describen así:\n",
    "    - id_proveedor: Identificador interno del Proveedor\n",
    "    - razon_social: Razón Social del Proveedor\n",
    "    - id_sector: Código de Sector del Artículo\n",
    "    - desc_sector: Descripción del Sector\n",
    "    - id_seccion: Código de Sección del Artículo\n",
    "    - desc_seccion: Descripción de la Sección\n",
    "    - id_gran_flia: Código de Gran Familia\n",
    "    - desc_gran_flia: Descripción de la Gran Familia\n",
    "    - id_flia: Código de Familia\n",
    "    - desc_flia: Descripción de la Familia\n",
    "    - id_sub_flia: Código de Sub Familia\n",
    "    - desc_sub_flia: Descripción de Sub Familia\n",
    "    - id_articulo: Código del articulo\n",
    "    - id_producto: Identificador del Producto (CLAVE con VMI_Promociones-yyyymmdd.txt)\n",
    "    - desc_producto: Descripción del Producto\n",
    "    - id_region: Código de Región\n",
    "    - fecha: Fecha\n",
    "\n",
    "3. Se observan 9 columnas de tipo numericos y 7 columnas de tipo categorico.\n",
    "4. Para las columnas categoricas podemos observar los siguientes subniveles:\n",
    "    - razon_social: 4 subnivele(s)\n",
    "    - desc_sector: 1 subnivele(s)\n",
    "    - desc_seccion: 1 subnivele(s)\n",
    "    - desc_gran_flia: 1 subnivele(s)\n",
    "    - desc_flia: 1 subnivele(s)\n",
    "    - desc_sub_flia: 1 subnivele(s)\n",
    "    - desc_producto: 81 subnivele(s)\n",
    "5. El dataset contiene una primary key id_producto que podemos usar para hacer un join con el dataset VMI_Promociones.\n"
   ],
   "metadata": {
    "collapsed": false
   }
  },
  {
   "cell_type": "markdown",
   "source": [
    "### Dataset Locales-20190712"
   ],
   "metadata": {
    "collapsed": false
   }
  },
  {
   "cell_type": "markdown",
   "source": [
    "#### Importar el dataset y observar los primeros registros con head y verificar los tipos de datos con el método info."
   ],
   "metadata": {
    "collapsed": false
   }
  },
  {
   "cell_type": "code",
   "execution_count": 136,
   "id": "db2a7cdd",
   "metadata": {},
   "outputs": [],
   "source": [
    "locales_col_names = [\n",
    "    'id_cadena', 'desc_cadena', 'id_region', 'desc_region', 'idb',\n",
    "    'desc_local', 'latitud', 'longitud', 'punto_dist'\n",
    "]"
   ]
  },
  {
   "cell_type": "code",
   "execution_count": 137,
   "outputs": [],
   "source": [
    "locales_df = pd.read_csv(\"./data/Locales.txt\",\n",
    "                         encoding=\"UTF-8\",\n",
    "                         header=None,\n",
    "                         delimiter='\\t',\n",
    "                         names=locales_col_names)"
   ],
   "metadata": {
    "collapsed": false
   }
  },
  {
   "cell_type": "code",
   "execution_count": 143,
   "outputs": [
    {
     "data": {
      "text/plain": "    id_cadena                     desc_cadena  id_region  \\\n0           1  plaza vea                               1   \n1           1  plaza vea                               1   \n2           1  plaza vea                               1   \n3           1  plaza vea                               1   \n4           1  plaza vea                               1   \n5           2  disco                                   1   \n6           2  disco                                   1   \n7           2  disco                                   1   \n8           2  disco                                   1   \n9           2  disco                                   1   \n10          2  disco                                   1   \n11          2  disco                                   1   \n12          2  disco                                   1   \n13          2  disco                                   1   \n14          2  disco                                   1   \n15          2  disco                                   1   \n16          2  disco                                   1   \n17          2  disco                                   1   \n18          2  disco                                   1   \n19          2  disco                                   1   \n20          2  disco                                   1   \n21          2  disco                                   1   \n22          2  disco                                   1   \n23          2  disco                                   1   \n24          2  disco                                   1   \n25          2  disco                                   1   \n26          2  disco                                   1   \n27          2  disco                                   1   \n28          2  disco                                   1   \n29          2  disco                                   1   \n30          2  disco                                   1   \n31          2  disco                                   1   \n32          2  disco                                   1   \n33          2  disco                                   1   \n34          2  disco                                   1   \n35          2  disco                                   1   \n36          2  disco                                   1   \n37          2  disco                                   1   \n38          2  disco                                   1   \n39          2  disco                                   1   \n\n                       desc_region   idb                desc_local    latitud  \\\n0   buenos aires                    9693      p vea villa urquiza.        NaN   \n1   buenos aires                    9694           p vea jb justo.        NaN   \n2   buenos aires                    9695             p vea acoyte.   0.000000   \n3   buenos aires                    9699          p vea rivadavia.   0.000000   \n4   buenos aires                    9889  plaza vea carpa de liqui        NaN   \n5   buenos aires                     247         sm 916 gorostiaga -34.565259   \n6   buenos aires                     257               tortuguitas -34.446043   \n7   buenos aires                     285             venado tuerto        NaN   \n8   buenos aires                     740                   canning -34.853221   \n9   buenos aires                     961              av. santa fç        NaN   \n10  buenos aires                    1190   bt saf (importaciones).        NaN   \n11  buenos aires                    1914     interno sll bsas 217.        NaN   \n12  buenos aires                    9001               san isidro. -34.471531   \n13  buenos aires                    9002               talcahuano. -34.596256   \n14  buenos aires                    9003                  camacua. -34.627893   \n15  buenos aires                    9004            vicente l¢pez. -34.520825   \n16  buenos aires                    9007               pte. per¢n.   0.000000   \n17  buenos aires                    9009          lomas de zamora. -34.764091   \n18  buenos aires                    9012                    sucre. -34.560842   \n19  buenos aires                    9014               las heras.. -34.581691   \n20  buenos aires                    9015                 salguero. -34.580101   \n21  buenos aires                    9016                 paraguay. -34.586090   \n22  buenos aires                    9017          virrey del pino. -34.566744   \n23  buenos aires                    9018                 quintana. -34.589375   \n24  buenos aires                    9022                 santa fe. -34.590488   \n25  buenos aires                    9023             alto palermo. -34.587061   \n26  buenos aires                    9025           rodr°guez pe§a. -34.593032   \n27  buenos aires                    9026               av. callao. -34.608787   \n28  buenos aires                    9030                rivadavia. -34.617352   \n29  buenos aires                    9035                  uriburu. -34.593885   \n30  buenos aires                    9037                  adroguç. -34.798951   \n31  buenos aires                    9038                    arcos. -34.561708   \n32  buenos aires                    9039                     pe§a. -34.585935   \n33  buenos aires                    9042               la plata i. -34.934655   \n34  buenos aires                    9045         gesell boulevard. -37.259025   \n35  buenos aires                    9046                esmeralda. -34.591519   \n36  buenos aires                    9048                   gasc¢n. -34.603435   \n37  buenos aires                    9049                  pinamar. -37.108689   \n38  buenos aires                    9050           gesell central. -37.263550   \n39  buenos aires                    9054                   elcano. -34.572857   \n\n     longitud punto_dist  \n0         NaN          n  \n1         NaN          n  \n2    0.000000          n  \n3    0.000000          n  \n4         NaN          n  \n5  -58.436583          n  \n6  -58.745098          n  \n7         NaN          n  \n8  -58.502247          n  \n9         NaN          n  \n10        NaN          s  \n11        NaN          s  \n12 -58.515350          n  \n13 -58.385701          n  \n14 -58.458295          n  \n15 -58.485332          n  \n16   0.000000          n  \n17 -58.398621          n  \n18 -58.449841          n  \n19 -58.414435          n  \n20 -58.408191          n  \n21 -58.422310          n  \n22 -58.453445          n  \n23 -58.388536          n  \n24 -58.408384          n  \n25 -58.410916          n  \n26 -58.391347          n  \n27 -58.392012          n  \n28 -58.434391          n  \n29 -58.397898          n  \n30 -58.404243          n  \n31 -58.452373          n  \n32 -58.405188          n  \n33 -57.975326          n  \n34 -56.982672          n  \n35 -58.378118          n  \n36 -58.424113          n  \n37 -56.871028          n  \n38 -56.974521          n  \n39 -58.459282          n  ",
      "text/html": "<div>\n<style scoped>\n    .dataframe tbody tr th:only-of-type {\n        vertical-align: middle;\n    }\n\n    .dataframe tbody tr th {\n        vertical-align: top;\n    }\n\n    .dataframe thead th {\n        text-align: right;\n    }\n</style>\n<table border=\"1\" class=\"dataframe\">\n  <thead>\n    <tr style=\"text-align: right;\">\n      <th></th>\n      <th>id_cadena</th>\n      <th>desc_cadena</th>\n      <th>id_region</th>\n      <th>desc_region</th>\n      <th>idb</th>\n      <th>desc_local</th>\n      <th>latitud</th>\n      <th>longitud</th>\n      <th>punto_dist</th>\n    </tr>\n  </thead>\n  <tbody>\n    <tr>\n      <th>0</th>\n      <td>1</td>\n      <td>plaza vea</td>\n      <td>1</td>\n      <td>buenos aires</td>\n      <td>9693</td>\n      <td>p vea villa urquiza.</td>\n      <td>NaN</td>\n      <td>NaN</td>\n      <td>n</td>\n    </tr>\n    <tr>\n      <th>1</th>\n      <td>1</td>\n      <td>plaza vea</td>\n      <td>1</td>\n      <td>buenos aires</td>\n      <td>9694</td>\n      <td>p vea jb justo.</td>\n      <td>NaN</td>\n      <td>NaN</td>\n      <td>n</td>\n    </tr>\n    <tr>\n      <th>2</th>\n      <td>1</td>\n      <td>plaza vea</td>\n      <td>1</td>\n      <td>buenos aires</td>\n      <td>9695</td>\n      <td>p vea acoyte.</td>\n      <td>0.000000</td>\n      <td>0.000000</td>\n      <td>n</td>\n    </tr>\n    <tr>\n      <th>3</th>\n      <td>1</td>\n      <td>plaza vea</td>\n      <td>1</td>\n      <td>buenos aires</td>\n      <td>9699</td>\n      <td>p vea rivadavia.</td>\n      <td>0.000000</td>\n      <td>0.000000</td>\n      <td>n</td>\n    </tr>\n    <tr>\n      <th>4</th>\n      <td>1</td>\n      <td>plaza vea</td>\n      <td>1</td>\n      <td>buenos aires</td>\n      <td>9889</td>\n      <td>plaza vea carpa de liqui</td>\n      <td>NaN</td>\n      <td>NaN</td>\n      <td>n</td>\n    </tr>\n    <tr>\n      <th>5</th>\n      <td>2</td>\n      <td>disco</td>\n      <td>1</td>\n      <td>buenos aires</td>\n      <td>247</td>\n      <td>sm 916 gorostiaga</td>\n      <td>-34.565259</td>\n      <td>-58.436583</td>\n      <td>n</td>\n    </tr>\n    <tr>\n      <th>6</th>\n      <td>2</td>\n      <td>disco</td>\n      <td>1</td>\n      <td>buenos aires</td>\n      <td>257</td>\n      <td>tortuguitas</td>\n      <td>-34.446043</td>\n      <td>-58.745098</td>\n      <td>n</td>\n    </tr>\n    <tr>\n      <th>7</th>\n      <td>2</td>\n      <td>disco</td>\n      <td>1</td>\n      <td>buenos aires</td>\n      <td>285</td>\n      <td>venado tuerto</td>\n      <td>NaN</td>\n      <td>NaN</td>\n      <td>n</td>\n    </tr>\n    <tr>\n      <th>8</th>\n      <td>2</td>\n      <td>disco</td>\n      <td>1</td>\n      <td>buenos aires</td>\n      <td>740</td>\n      <td>canning</td>\n      <td>-34.853221</td>\n      <td>-58.502247</td>\n      <td>n</td>\n    </tr>\n    <tr>\n      <th>9</th>\n      <td>2</td>\n      <td>disco</td>\n      <td>1</td>\n      <td>buenos aires</td>\n      <td>961</td>\n      <td>av. santa fç</td>\n      <td>NaN</td>\n      <td>NaN</td>\n      <td>n</td>\n    </tr>\n    <tr>\n      <th>10</th>\n      <td>2</td>\n      <td>disco</td>\n      <td>1</td>\n      <td>buenos aires</td>\n      <td>1190</td>\n      <td>bt saf (importaciones).</td>\n      <td>NaN</td>\n      <td>NaN</td>\n      <td>s</td>\n    </tr>\n    <tr>\n      <th>11</th>\n      <td>2</td>\n      <td>disco</td>\n      <td>1</td>\n      <td>buenos aires</td>\n      <td>1914</td>\n      <td>interno sll bsas 217.</td>\n      <td>NaN</td>\n      <td>NaN</td>\n      <td>s</td>\n    </tr>\n    <tr>\n      <th>12</th>\n      <td>2</td>\n      <td>disco</td>\n      <td>1</td>\n      <td>buenos aires</td>\n      <td>9001</td>\n      <td>san isidro.</td>\n      <td>-34.471531</td>\n      <td>-58.515350</td>\n      <td>n</td>\n    </tr>\n    <tr>\n      <th>13</th>\n      <td>2</td>\n      <td>disco</td>\n      <td>1</td>\n      <td>buenos aires</td>\n      <td>9002</td>\n      <td>talcahuano.</td>\n      <td>-34.596256</td>\n      <td>-58.385701</td>\n      <td>n</td>\n    </tr>\n    <tr>\n      <th>14</th>\n      <td>2</td>\n      <td>disco</td>\n      <td>1</td>\n      <td>buenos aires</td>\n      <td>9003</td>\n      <td>camacua.</td>\n      <td>-34.627893</td>\n      <td>-58.458295</td>\n      <td>n</td>\n    </tr>\n    <tr>\n      <th>15</th>\n      <td>2</td>\n      <td>disco</td>\n      <td>1</td>\n      <td>buenos aires</td>\n      <td>9004</td>\n      <td>vicente l¢pez.</td>\n      <td>-34.520825</td>\n      <td>-58.485332</td>\n      <td>n</td>\n    </tr>\n    <tr>\n      <th>16</th>\n      <td>2</td>\n      <td>disco</td>\n      <td>1</td>\n      <td>buenos aires</td>\n      <td>9007</td>\n      <td>pte. per¢n.</td>\n      <td>0.000000</td>\n      <td>0.000000</td>\n      <td>n</td>\n    </tr>\n    <tr>\n      <th>17</th>\n      <td>2</td>\n      <td>disco</td>\n      <td>1</td>\n      <td>buenos aires</td>\n      <td>9009</td>\n      <td>lomas de zamora.</td>\n      <td>-34.764091</td>\n      <td>-58.398621</td>\n      <td>n</td>\n    </tr>\n    <tr>\n      <th>18</th>\n      <td>2</td>\n      <td>disco</td>\n      <td>1</td>\n      <td>buenos aires</td>\n      <td>9012</td>\n      <td>sucre.</td>\n      <td>-34.560842</td>\n      <td>-58.449841</td>\n      <td>n</td>\n    </tr>\n    <tr>\n      <th>19</th>\n      <td>2</td>\n      <td>disco</td>\n      <td>1</td>\n      <td>buenos aires</td>\n      <td>9014</td>\n      <td>las heras..</td>\n      <td>-34.581691</td>\n      <td>-58.414435</td>\n      <td>n</td>\n    </tr>\n    <tr>\n      <th>20</th>\n      <td>2</td>\n      <td>disco</td>\n      <td>1</td>\n      <td>buenos aires</td>\n      <td>9015</td>\n      <td>salguero.</td>\n      <td>-34.580101</td>\n      <td>-58.408191</td>\n      <td>n</td>\n    </tr>\n    <tr>\n      <th>21</th>\n      <td>2</td>\n      <td>disco</td>\n      <td>1</td>\n      <td>buenos aires</td>\n      <td>9016</td>\n      <td>paraguay.</td>\n      <td>-34.586090</td>\n      <td>-58.422310</td>\n      <td>n</td>\n    </tr>\n    <tr>\n      <th>22</th>\n      <td>2</td>\n      <td>disco</td>\n      <td>1</td>\n      <td>buenos aires</td>\n      <td>9017</td>\n      <td>virrey del pino.</td>\n      <td>-34.566744</td>\n      <td>-58.453445</td>\n      <td>n</td>\n    </tr>\n    <tr>\n      <th>23</th>\n      <td>2</td>\n      <td>disco</td>\n      <td>1</td>\n      <td>buenos aires</td>\n      <td>9018</td>\n      <td>quintana.</td>\n      <td>-34.589375</td>\n      <td>-58.388536</td>\n      <td>n</td>\n    </tr>\n    <tr>\n      <th>24</th>\n      <td>2</td>\n      <td>disco</td>\n      <td>1</td>\n      <td>buenos aires</td>\n      <td>9022</td>\n      <td>santa fe.</td>\n      <td>-34.590488</td>\n      <td>-58.408384</td>\n      <td>n</td>\n    </tr>\n    <tr>\n      <th>25</th>\n      <td>2</td>\n      <td>disco</td>\n      <td>1</td>\n      <td>buenos aires</td>\n      <td>9023</td>\n      <td>alto palermo.</td>\n      <td>-34.587061</td>\n      <td>-58.410916</td>\n      <td>n</td>\n    </tr>\n    <tr>\n      <th>26</th>\n      <td>2</td>\n      <td>disco</td>\n      <td>1</td>\n      <td>buenos aires</td>\n      <td>9025</td>\n      <td>rodr°guez pe§a.</td>\n      <td>-34.593032</td>\n      <td>-58.391347</td>\n      <td>n</td>\n    </tr>\n    <tr>\n      <th>27</th>\n      <td>2</td>\n      <td>disco</td>\n      <td>1</td>\n      <td>buenos aires</td>\n      <td>9026</td>\n      <td>av. callao.</td>\n      <td>-34.608787</td>\n      <td>-58.392012</td>\n      <td>n</td>\n    </tr>\n    <tr>\n      <th>28</th>\n      <td>2</td>\n      <td>disco</td>\n      <td>1</td>\n      <td>buenos aires</td>\n      <td>9030</td>\n      <td>rivadavia.</td>\n      <td>-34.617352</td>\n      <td>-58.434391</td>\n      <td>n</td>\n    </tr>\n    <tr>\n      <th>29</th>\n      <td>2</td>\n      <td>disco</td>\n      <td>1</td>\n      <td>buenos aires</td>\n      <td>9035</td>\n      <td>uriburu.</td>\n      <td>-34.593885</td>\n      <td>-58.397898</td>\n      <td>n</td>\n    </tr>\n    <tr>\n      <th>30</th>\n      <td>2</td>\n      <td>disco</td>\n      <td>1</td>\n      <td>buenos aires</td>\n      <td>9037</td>\n      <td>adroguç.</td>\n      <td>-34.798951</td>\n      <td>-58.404243</td>\n      <td>n</td>\n    </tr>\n    <tr>\n      <th>31</th>\n      <td>2</td>\n      <td>disco</td>\n      <td>1</td>\n      <td>buenos aires</td>\n      <td>9038</td>\n      <td>arcos.</td>\n      <td>-34.561708</td>\n      <td>-58.452373</td>\n      <td>n</td>\n    </tr>\n    <tr>\n      <th>32</th>\n      <td>2</td>\n      <td>disco</td>\n      <td>1</td>\n      <td>buenos aires</td>\n      <td>9039</td>\n      <td>pe§a.</td>\n      <td>-34.585935</td>\n      <td>-58.405188</td>\n      <td>n</td>\n    </tr>\n    <tr>\n      <th>33</th>\n      <td>2</td>\n      <td>disco</td>\n      <td>1</td>\n      <td>buenos aires</td>\n      <td>9042</td>\n      <td>la plata i.</td>\n      <td>-34.934655</td>\n      <td>-57.975326</td>\n      <td>n</td>\n    </tr>\n    <tr>\n      <th>34</th>\n      <td>2</td>\n      <td>disco</td>\n      <td>1</td>\n      <td>buenos aires</td>\n      <td>9045</td>\n      <td>gesell boulevard.</td>\n      <td>-37.259025</td>\n      <td>-56.982672</td>\n      <td>n</td>\n    </tr>\n    <tr>\n      <th>35</th>\n      <td>2</td>\n      <td>disco</td>\n      <td>1</td>\n      <td>buenos aires</td>\n      <td>9046</td>\n      <td>esmeralda.</td>\n      <td>-34.591519</td>\n      <td>-58.378118</td>\n      <td>n</td>\n    </tr>\n    <tr>\n      <th>36</th>\n      <td>2</td>\n      <td>disco</td>\n      <td>1</td>\n      <td>buenos aires</td>\n      <td>9048</td>\n      <td>gasc¢n.</td>\n      <td>-34.603435</td>\n      <td>-58.424113</td>\n      <td>n</td>\n    </tr>\n    <tr>\n      <th>37</th>\n      <td>2</td>\n      <td>disco</td>\n      <td>1</td>\n      <td>buenos aires</td>\n      <td>9049</td>\n      <td>pinamar.</td>\n      <td>-37.108689</td>\n      <td>-56.871028</td>\n      <td>n</td>\n    </tr>\n    <tr>\n      <th>38</th>\n      <td>2</td>\n      <td>disco</td>\n      <td>1</td>\n      <td>buenos aires</td>\n      <td>9050</td>\n      <td>gesell central.</td>\n      <td>-37.263550</td>\n      <td>-56.974521</td>\n      <td>n</td>\n    </tr>\n    <tr>\n      <th>39</th>\n      <td>2</td>\n      <td>disco</td>\n      <td>1</td>\n      <td>buenos aires</td>\n      <td>9054</td>\n      <td>elcano.</td>\n      <td>-34.572857</td>\n      <td>-58.459282</td>\n      <td>n</td>\n    </tr>\n  </tbody>\n</table>\n</div>"
     },
     "execution_count": 143,
     "metadata": {},
     "output_type": "execute_result"
    }
   ],
   "source": [
    "locales_df.head(40)\n"
   ],
   "metadata": {
    "collapsed": false
   }
  },
  {
   "cell_type": "code",
   "execution_count": null,
   "outputs": [],
   "source": [
    "locales_df['desc_local'] = locales_df['desc_local'].apply(remove_non_ascii)"
   ],
   "metadata": {
    "collapsed": false
   }
  },
  {
   "cell_type": "code",
   "execution_count": 139,
   "outputs": [
    {
     "name": "stdout",
     "output_type": "stream",
     "text": [
      "<class 'pandas.core.frame.DataFrame'>\n",
      "RangeIndex: 175 entries, 0 to 174\n",
      "Data columns (total 9 columns):\n",
      " #   Column       Non-Null Count  Dtype  \n",
      "---  ------       --------------  -----  \n",
      " 0   id_cadena    175 non-null    int64  \n",
      " 1   desc_cadena  175 non-null    object \n",
      " 2   id_region    175 non-null    int64  \n",
      " 3   desc_region  175 non-null    object \n",
      " 4   idb          175 non-null    int64  \n",
      " 5   desc_local   175 non-null    object \n",
      " 6   latitud      140 non-null    float64\n",
      " 7   longitud     140 non-null    float64\n",
      " 8   punto_dist   175 non-null    object \n",
      "dtypes: float64(2), int64(3), object(4)\n",
      "memory usage: 12.4+ KB\n"
     ]
    }
   ],
   "source": [
    "locales_df.info()"
   ],
   "metadata": {
    "collapsed": false
   }
  },
  {
   "cell_type": "markdown",
   "source": [
    "#### Ajustes al dataframe\n",
    "\n",
    "- Limpiar la descripcion de la región, eliminando el numero y el simbolo (-) y convertir el nombre a minuscula.\n",
    "- Convertir a 1 y 0 la columna punto de distribucción con la siguiente regla si el valor es 'S' = 1 que significa que es un punto de distribucción de lo contrario sería 0.\n",
    "- Convertir a minusculas todos los tipos de datos object o string."
   ],
   "metadata": {
    "collapsed": false
   }
  },
  {
   "cell_type": "code",
   "execution_count": 140,
   "outputs": [],
   "source": [
    "locales_df = locales_df.applymap(lambda x: x.lower() if isinstance(x, str) else x)"
   ],
   "metadata": {
    "collapsed": false
   }
  },
  {
   "cell_type": "code",
   "execution_count": 142,
   "outputs": [],
   "source": [
    "locales_df['desc_local'] = locales_df['desc_local'].replace(to_replace=r'^\\d+\\s*-\\s*', value='', regex=True)"
   ],
   "metadata": {
    "collapsed": false
   }
  },
  {
   "cell_type": "code",
   "execution_count": null,
   "outputs": [],
   "source": [
    "locales_df['desc_local'] = locales_df['desc_local'].replace(to_replace=r'Ba¤o', value='Baño', regex=True)"
   ],
   "metadata": {
    "collapsed": false
   }
  },
  {
   "cell_type": "code",
   "execution_count": null,
   "outputs": [],
   "source": [
    "locales_df['desc_local'] = locales_df['desc_local'].replace(to_replace=r'Rinc¢n', value='Rincón', regex=True)"
   ],
   "metadata": {
    "collapsed": false
   }
  },
  {
   "cell_type": "code",
   "execution_count": null,
   "outputs": [],
   "source": [
    "locales_df['desc_local'] = locales_df['desc_local'].replace(to_replace=r'F', value='Fé', regex=True)"
   ],
   "metadata": {
    "collapsed": false
   }
  },
  {
   "cell_type": "code",
   "execution_count": null,
   "outputs": [],
   "source": [
    "locales_df['desc_local'] = locales_df['desc_local'].replace(to_replace=r'Mor¢n', value='Morén', regex=True)"
   ],
   "metadata": {
    "collapsed": false
   }
  },
  {
   "cell_type": "code",
   "execution_count": null,
   "outputs": [],
   "source": [
    "print(locales_df.isna().sum())"
   ],
   "metadata": {
    "collapsed": false
   }
  },
  {
   "cell_type": "code",
   "execution_count": null,
   "outputs": [],
   "source": [],
   "metadata": {
    "collapsed": false
   }
  },
  {
   "cell_type": "code",
   "execution_count": null,
   "outputs": [],
   "source": [
    "locales_df.isnull().sum(axis=0)"
   ],
   "metadata": {
    "collapsed": false
   }
  },
  {
   "cell_type": "code",
   "execution_count": null,
   "outputs": [],
   "source": [
    "locales_df.head(175)  Pte. Per¢n. Rodr¡guez Pe¤a."
   ],
   "metadata": {
    "collapsed": false
   }
  },
  {
   "cell_type": "code",
   "execution_count": null,
   "outputs": [],
   "source": [
    "locales_df.describe()"
   ],
   "metadata": {
    "collapsed": false
   }
  },
  {
   "cell_type": "markdown",
   "id": "9ddc5523",
   "metadata": {},
   "source": [
    "# Análisis Descriptivo"
   ]
  },
  {
   "cell_type": "code",
   "execution_count": null,
   "id": "4722677c",
   "metadata": {},
   "outputs": [],
   "source": [
    "merged_df = pd.merge(prov_prod_df, locales_df, on='id_region')\n",
    "merged_df.head()"
   ]
  },
  {
   "cell_type": "code",
   "execution_count": null,
   "id": "b02f40dd",
   "metadata": {},
   "outputs": [],
   "source": [
    "merged_df.info()"
   ]
  },
  {
   "cell_type": "code",
   "execution_count": null,
   "id": "7d57b904",
   "metadata": {},
   "outputs": [],
   "source": [
    "merged_df = pd.merge(merged_df, promo_df, on=\"idb\")"
   ]
  },
  {
   "cell_type": "code",
   "execution_count": null,
   "id": "3429e3de",
   "metadata": {},
   "outputs": [],
   "source": [
    "merged_df.describe()"
   ]
  },
  {
   "cell_type": "code",
   "execution_count": null,
   "id": "627d57fd",
   "metadata": {},
   "outputs": [],
   "source": [
    "print(merged_df.loc[:, ['id_producto_x', 'id_producto_y']])"
   ]
  },
  {
   "cell_type": "code",
   "execution_count": null,
   "id": "cee29598",
   "metadata": {},
   "outputs": [],
   "source": []
  }
 ],
 "metadata": {
  "kernelspec": {
   "display_name": "Python 3 (ipykernel)",
   "language": "python",
   "name": "python3"
  },
  "language_info": {
   "codemirror_mode": {
    "name": "ipython",
    "version": 3
   },
   "file_extension": ".py",
   "mimetype": "text/x-python",
   "name": "python",
   "nbconvert_exporter": "python",
   "pygments_lexer": "ipython3",
   "version": "3.10.8"
  },
  "toc": {
   "base_numbering": 1,
   "nav_menu": {},
   "number_sections": true,
   "sideBar": true,
   "skip_h1_title": false,
   "title_cell": "Table of Contents",
   "title_sidebar": "Contents",
   "toc_cell": false,
   "toc_position": {},
   "toc_section_display": true,
   "toc_window_display": false
  },
  "varInspector": {
   "cols": {
    "lenName": 16,
    "lenType": 16,
    "lenVar": 40
   },
   "kernels_config": {
    "python": {
     "delete_cmd_postfix": "",
     "delete_cmd_prefix": "del ",
     "library": "var_list.py",
     "varRefreshCmd": "print(var_dic_list())"
    },
    "r": {
     "delete_cmd_postfix": ") ",
     "delete_cmd_prefix": "rm(",
     "library": "var_list.r",
     "varRefreshCmd": "cat(var_dic_list()) "
    }
   },
   "types_to_exclude": [
    "module",
    "function",
    "builtin_function_or_method",
    "instance",
    "_Feature"
   ],
   "window_display": false
  }
 },
 "nbformat": 4,
 "nbformat_minor": 5
}
