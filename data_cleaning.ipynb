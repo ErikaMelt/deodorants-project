{
 "cells": [
  {
   "cell_type": "markdown",
   "id": "7af5dfe1",
   "metadata": {},
   "source": [
    "# Limpieza de Datos"
   ]
  },
  {
   "cell_type": "code",
   "execution_count": 363,
   "id": "396705b3",
   "metadata": {},
   "outputs": [],
   "source": [
    "import pandas as pd\n",
    "from utils import convert_file"
   ]
  },
  {
   "cell_type": "markdown",
   "id": "dbd04701",
   "metadata": {},
   "source": [
    "# Importar Datasets"
   ]
  },
  {
   "cell_type": "markdown",
   "source": [
    "### Dataset Movimientos-20190716"
   ],
   "metadata": {
    "collapsed": false
   }
  },
  {
   "cell_type": "markdown",
   "source": [
    "#### Importar el dataset y observar los primeros registros con head y verificar los tipos de datos con el método info."
   ],
   "metadata": {
    "collapsed": false
   }
  },
  {
   "cell_type": "code",
   "execution_count": 384,
   "outputs": [],
   "source": [
    "movimientos_col_names = [\n",
    "    'idb', 'id_producto', 'fecha_trans', 'stock_unidades', 'venta_unidades', 'precio_unitario',\n",
    "    'cd_abast', 'is_prod_rol_local'\n",
    "]"
   ],
   "metadata": {
    "collapsed": false
   }
  },
  {
   "cell_type": "code",
   "execution_count": 385,
   "outputs": [],
   "source": [
    "path = './data/VMI_Movimientos-20190716.txt'\n",
    "movimientos_df = pd.read_csv(path,\n",
    "                 delimiter = '\\t',\n",
    "                 header=None,\n",
    "                 names=movimientos_col_names)"
   ],
   "metadata": {
    "collapsed": false
   }
  },
  {
   "cell_type": "code",
   "execution_count": 386,
   "outputs": [
    {
     "data": {
      "text/plain": "   idb  id_producto  fecha_trans  stock_unidades  venta_unidades  \\\n0  242       228217     20160715            24.0             0.0   \n1  242       228217     20160716            24.0             0.0   \n2  242       228217     20160717            24.0             0.0   \n3  242       228217     20160718            24.0             0.0   \n4  242       228217     20160719            24.0             0.0   \n\n   precio_unitario  cd_abast is_prod_rol_local  \n0            13.63         0                SI  \n1            13.63         0                SI  \n2            13.63         0                SI  \n3            13.63         0                SI  \n4            13.63         0                SI  ",
      "text/html": "<div>\n<style scoped>\n    .dataframe tbody tr th:only-of-type {\n        vertical-align: middle;\n    }\n\n    .dataframe tbody tr th {\n        vertical-align: top;\n    }\n\n    .dataframe thead th {\n        text-align: right;\n    }\n</style>\n<table border=\"1\" class=\"dataframe\">\n  <thead>\n    <tr style=\"text-align: right;\">\n      <th></th>\n      <th>idb</th>\n      <th>id_producto</th>\n      <th>fecha_trans</th>\n      <th>stock_unidades</th>\n      <th>venta_unidades</th>\n      <th>precio_unitario</th>\n      <th>cd_abast</th>\n      <th>is_prod_rol_local</th>\n    </tr>\n  </thead>\n  <tbody>\n    <tr>\n      <th>0</th>\n      <td>242</td>\n      <td>228217</td>\n      <td>20160715</td>\n      <td>24.0</td>\n      <td>0.0</td>\n      <td>13.63</td>\n      <td>0</td>\n      <td>SI</td>\n    </tr>\n    <tr>\n      <th>1</th>\n      <td>242</td>\n      <td>228217</td>\n      <td>20160716</td>\n      <td>24.0</td>\n      <td>0.0</td>\n      <td>13.63</td>\n      <td>0</td>\n      <td>SI</td>\n    </tr>\n    <tr>\n      <th>2</th>\n      <td>242</td>\n      <td>228217</td>\n      <td>20160717</td>\n      <td>24.0</td>\n      <td>0.0</td>\n      <td>13.63</td>\n      <td>0</td>\n      <td>SI</td>\n    </tr>\n    <tr>\n      <th>3</th>\n      <td>242</td>\n      <td>228217</td>\n      <td>20160718</td>\n      <td>24.0</td>\n      <td>0.0</td>\n      <td>13.63</td>\n      <td>0</td>\n      <td>SI</td>\n    </tr>\n    <tr>\n      <th>4</th>\n      <td>242</td>\n      <td>228217</td>\n      <td>20160719</td>\n      <td>24.0</td>\n      <td>0.0</td>\n      <td>13.63</td>\n      <td>0</td>\n      <td>SI</td>\n    </tr>\n  </tbody>\n</table>\n</div>"
     },
     "execution_count": 386,
     "metadata": {},
     "output_type": "execute_result"
    }
   ],
   "source": [
    "movimientos_df.head()"
   ],
   "metadata": {
    "collapsed": false
   }
  },
  {
   "cell_type": "code",
   "execution_count": 387,
   "outputs": [
    {
     "name": "stdout",
     "output_type": "stream",
     "text": [
      "<class 'pandas.core.frame.DataFrame'>\n",
      "RangeIndex: 8347817 entries, 0 to 8347816\n",
      "Data columns (total 8 columns):\n",
      " #   Column             Dtype  \n",
      "---  ------             -----  \n",
      " 0   idb                int64  \n",
      " 1   id_producto        int64  \n",
      " 2   fecha_trans        int64  \n",
      " 3   stock_unidades     float64\n",
      " 4   venta_unidades     float64\n",
      " 5   precio_unitario    float64\n",
      " 6   cd_abast           int64  \n",
      " 7   is_prod_rol_local  object \n",
      "dtypes: float64(3), int64(4), object(1)\n",
      "memory usage: 509.5+ MB\n"
     ]
    }
   ],
   "source": [
    "movimientos_df.info()"
   ],
   "metadata": {
    "collapsed": false
   }
  },
  {
   "cell_type": "markdown",
   "source": [
    "#### Realizar ajustes a las columnas y verificar que no existan datos nulos, repetidos\n",
    "- Convertir la columna fecha_trans a tipo de dato datetime.\n",
    "- Convertir la columna is_prod_rol_local a tipo de dato string.\n",
    "- Verificar por valores nulos y repetidos.\n",
    "- Convertir la columna is_prod_rol_local a variable numerica donde 1 corresponde a SI y 0 corresponde a NO.\n",
    "- Obtener las fechas máximas y minimas de transaciones\n",
    "- Obtener una análisis descriptivo de los datos."
   ],
   "metadata": {
    "collapsed": false
   }
  },
  {
   "cell_type": "code",
   "execution_count": 388,
   "outputs": [],
   "source": [
    "movimientos_df = convert_file(movimientos_df, 'fecha_trans', 'date')"
   ],
   "metadata": {
    "collapsed": false
   }
  },
  {
   "cell_type": "code",
   "execution_count": 389,
   "outputs": [
    {
     "data": {
      "text/plain": "idb                  0\nid_producto          0\nfecha_trans          0\nstock_unidades       0\nventa_unidades       0\nprecio_unitario      0\ncd_abast             0\nis_prod_rol_local    0\ndtype: int64"
     },
     "execution_count": 389,
     "metadata": {},
     "output_type": "execute_result"
    }
   ],
   "source": [
    "movimientos_df.isnull().sum(axis=0)"
   ],
   "metadata": {
    "collapsed": false
   }
  },
  {
   "cell_type": "code",
   "execution_count": 390,
   "outputs": [
    {
     "data": {
      "text/plain": "0"
     },
     "execution_count": 390,
     "metadata": {},
     "output_type": "execute_result"
    }
   ],
   "source": [
    "movimientos_df.duplicated().sum()"
   ],
   "metadata": {
    "collapsed": false
   }
  },
  {
   "cell_type": "code",
   "execution_count": 391,
   "outputs": [],
   "source": [
    "movimientos_df = convert_file(movimientos_df, 'is_prod_rol_local', 'str')"
   ],
   "metadata": {
    "collapsed": false
   }
  },
  {
   "cell_type": "code",
   "execution_count": 392,
   "outputs": [],
   "source": [
    "movimientos_df['is_prod_rol_local'] = movimientos_df['is_prod_rol_local'].str.lower().apply(lambda x: 1 if x == 'si' else 0)"
   ],
   "metadata": {
    "collapsed": false
   }
  },
  {
   "cell_type": "code",
   "execution_count": 393,
   "outputs": [
    {
     "name": "stdout",
     "output_type": "stream",
     "text": [
      "Minimum date: 2016-07-15 00:00:00\n",
      "Maximum date: 2019-07-14 00:00:00\n"
     ]
    }
   ],
   "source": [
    "max_date = movimientos_df['fecha_trans'].max()\n",
    "min_date = movimientos_df['fecha_trans'].min()\n",
    "\n",
    "print(f\"Minimum date: {min_date}\")\n",
    "print(f\"Maximum date: {max_date}\")"
   ],
   "metadata": {
    "collapsed": false
   }
  },
  {
   "cell_type": "code",
   "execution_count": 394,
   "outputs": [
    {
     "name": "stdout",
     "output_type": "stream",
     "text": [
      "<class 'pandas.core.frame.DataFrame'>\n",
      "RangeIndex: 8347817 entries, 0 to 8347816\n",
      "Data columns (total 8 columns):\n",
      " #   Column             Dtype         \n",
      "---  ------             -----         \n",
      " 0   idb                int64         \n",
      " 1   id_producto        int64         \n",
      " 2   fecha_trans        datetime64[ns]\n",
      " 3   stock_unidades     float64       \n",
      " 4   venta_unidades     float64       \n",
      " 5   precio_unitario    float64       \n",
      " 6   cd_abast           int64         \n",
      " 7   is_prod_rol_local  int64         \n",
      "dtypes: datetime64[ns](1), float64(3), int64(4)\n",
      "memory usage: 509.5 MB\n"
     ]
    }
   ],
   "source": [
    "movimientos_df.info()"
   ],
   "metadata": {
    "collapsed": false
   }
  },
  {
   "cell_type": "code",
   "execution_count": 395,
   "outputs": [
    {
     "data": {
      "text/plain": "                idb   id_producto  stock_unidades  venta_unidades  \\\ncount  8.347817e+06  8.347817e+06    8.347817e+06    8.347817e+06   \nmean   6.988555e+03  3.785489e+05    2.065585e+01    3.133696e-01   \nstd    3.300353e+03  9.159373e+04    1.488001e+02    8.950359e-01   \nmin    2.420000e+02  1.641460e+05   -5.420000e+02   -4.500000e+01   \n25%    5.208000e+03  2.929450e+05    6.000000e+00    0.000000e+00   \n50%    9.026000e+03  4.152680e+05    1.000000e+01    0.000000e+00   \n75%    9.159000e+03  4.583930e+05    1.700000e+01    0.000000e+00   \nmax    9.977000e+03  5.113260e+05    1.621800e+04    6.120000e+02   \n\n       precio_unitario      cd_abast  is_prod_rol_local  \ncount     8.347817e+06  8.347817e+06       8.347817e+06  \nmean      6.426050e+01  5.435286e+03       9.609797e-01  \nstd       6.582745e+01  4.533729e+03       1.936432e-01  \nmin       0.000000e+00  0.000000e+00       0.000000e+00  \n25%       2.251000e+01  0.000000e+00       1.000000e+00  \n50%       3.823000e+01  9.217000e+03       1.000000e+00  \n75%       7.673000e+01  9.217000e+03       1.000000e+00  \nmax       4.238100e+02  9.217000e+03       1.000000e+00  ",
      "text/html": "<div>\n<style scoped>\n    .dataframe tbody tr th:only-of-type {\n        vertical-align: middle;\n    }\n\n    .dataframe tbody tr th {\n        vertical-align: top;\n    }\n\n    .dataframe thead th {\n        text-align: right;\n    }\n</style>\n<table border=\"1\" class=\"dataframe\">\n  <thead>\n    <tr style=\"text-align: right;\">\n      <th></th>\n      <th>idb</th>\n      <th>id_producto</th>\n      <th>stock_unidades</th>\n      <th>venta_unidades</th>\n      <th>precio_unitario</th>\n      <th>cd_abast</th>\n      <th>is_prod_rol_local</th>\n    </tr>\n  </thead>\n  <tbody>\n    <tr>\n      <th>count</th>\n      <td>8.347817e+06</td>\n      <td>8.347817e+06</td>\n      <td>8.347817e+06</td>\n      <td>8.347817e+06</td>\n      <td>8.347817e+06</td>\n      <td>8.347817e+06</td>\n      <td>8.347817e+06</td>\n    </tr>\n    <tr>\n      <th>mean</th>\n      <td>6.988555e+03</td>\n      <td>3.785489e+05</td>\n      <td>2.065585e+01</td>\n      <td>3.133696e-01</td>\n      <td>6.426050e+01</td>\n      <td>5.435286e+03</td>\n      <td>9.609797e-01</td>\n    </tr>\n    <tr>\n      <th>std</th>\n      <td>3.300353e+03</td>\n      <td>9.159373e+04</td>\n      <td>1.488001e+02</td>\n      <td>8.950359e-01</td>\n      <td>6.582745e+01</td>\n      <td>4.533729e+03</td>\n      <td>1.936432e-01</td>\n    </tr>\n    <tr>\n      <th>min</th>\n      <td>2.420000e+02</td>\n      <td>1.641460e+05</td>\n      <td>-5.420000e+02</td>\n      <td>-4.500000e+01</td>\n      <td>0.000000e+00</td>\n      <td>0.000000e+00</td>\n      <td>0.000000e+00</td>\n    </tr>\n    <tr>\n      <th>25%</th>\n      <td>5.208000e+03</td>\n      <td>2.929450e+05</td>\n      <td>6.000000e+00</td>\n      <td>0.000000e+00</td>\n      <td>2.251000e+01</td>\n      <td>0.000000e+00</td>\n      <td>1.000000e+00</td>\n    </tr>\n    <tr>\n      <th>50%</th>\n      <td>9.026000e+03</td>\n      <td>4.152680e+05</td>\n      <td>1.000000e+01</td>\n      <td>0.000000e+00</td>\n      <td>3.823000e+01</td>\n      <td>9.217000e+03</td>\n      <td>1.000000e+00</td>\n    </tr>\n    <tr>\n      <th>75%</th>\n      <td>9.159000e+03</td>\n      <td>4.583930e+05</td>\n      <td>1.700000e+01</td>\n      <td>0.000000e+00</td>\n      <td>7.673000e+01</td>\n      <td>9.217000e+03</td>\n      <td>1.000000e+00</td>\n    </tr>\n    <tr>\n      <th>max</th>\n      <td>9.977000e+03</td>\n      <td>5.113260e+05</td>\n      <td>1.621800e+04</td>\n      <td>6.120000e+02</td>\n      <td>4.238100e+02</td>\n      <td>9.217000e+03</td>\n      <td>1.000000e+00</td>\n    </tr>\n  </tbody>\n</table>\n</div>"
     },
     "execution_count": 395,
     "metadata": {},
     "output_type": "execute_result"
    }
   ],
   "source": [
    "movimientos_df.describe()"
   ],
   "metadata": {
    "collapsed": false
   }
  },
  {
   "cell_type": "code",
   "execution_count": 396,
   "outputs": [
    {
     "data": {
      "text/plain": "          idb  id_producto fecha_trans  stock_unidades  venta_unidades  \\\n36280     247       242232  2017-03-16             9.0            -1.0   \n68252     247       454775  2017-03-16             5.0            -1.0   \n69533     247       454813  2019-04-01             2.0            -2.0   \n114239    249       450347  2018-12-28             4.0            -1.0   \n155981    257       240911  2016-10-18             7.0            -1.0   \n...       ...          ...         ...             ...             ...   \n8289141  9977       249486  2017-09-02            10.0            -1.0   \n8297424  9977       342682  2017-07-21             5.0            -2.0   \n8301405  9977       342745  2018-07-28             7.0            -1.0   \n8302475  9977       342762  2019-03-28             2.0            -1.0   \n8337377  9977       468735  2018-07-28             8.0            -1.0   \n\n         precio_unitario  cd_abast  is_prod_rol_local  \n36280              17.60         0                  0  \n68252              17.60         0                  1  \n69533              90.15      9217                  1  \n114239             67.73      9217                  1  \n155981             15.82         0                  1  \n...                  ...       ...                ...  \n8289141            34.82         0                  1  \n8297424            19.63         0                  1  \n8301405            23.98      9217                  1  \n8302475            71.12      9217                  1  \n8337377            91.13      9217                  1  \n\n[580 rows x 8 columns]",
      "text/html": "<div>\n<style scoped>\n    .dataframe tbody tr th:only-of-type {\n        vertical-align: middle;\n    }\n\n    .dataframe tbody tr th {\n        vertical-align: top;\n    }\n\n    .dataframe thead th {\n        text-align: right;\n    }\n</style>\n<table border=\"1\" class=\"dataframe\">\n  <thead>\n    <tr style=\"text-align: right;\">\n      <th></th>\n      <th>idb</th>\n      <th>id_producto</th>\n      <th>fecha_trans</th>\n      <th>stock_unidades</th>\n      <th>venta_unidades</th>\n      <th>precio_unitario</th>\n      <th>cd_abast</th>\n      <th>is_prod_rol_local</th>\n    </tr>\n  </thead>\n  <tbody>\n    <tr>\n      <th>36280</th>\n      <td>247</td>\n      <td>242232</td>\n      <td>2017-03-16</td>\n      <td>9.0</td>\n      <td>-1.0</td>\n      <td>17.60</td>\n      <td>0</td>\n      <td>0</td>\n    </tr>\n    <tr>\n      <th>68252</th>\n      <td>247</td>\n      <td>454775</td>\n      <td>2017-03-16</td>\n      <td>5.0</td>\n      <td>-1.0</td>\n      <td>17.60</td>\n      <td>0</td>\n      <td>1</td>\n    </tr>\n    <tr>\n      <th>69533</th>\n      <td>247</td>\n      <td>454813</td>\n      <td>2019-04-01</td>\n      <td>2.0</td>\n      <td>-2.0</td>\n      <td>90.15</td>\n      <td>9217</td>\n      <td>1</td>\n    </tr>\n    <tr>\n      <th>114239</th>\n      <td>249</td>\n      <td>450347</td>\n      <td>2018-12-28</td>\n      <td>4.0</td>\n      <td>-1.0</td>\n      <td>67.73</td>\n      <td>9217</td>\n      <td>1</td>\n    </tr>\n    <tr>\n      <th>155981</th>\n      <td>257</td>\n      <td>240911</td>\n      <td>2016-10-18</td>\n      <td>7.0</td>\n      <td>-1.0</td>\n      <td>15.82</td>\n      <td>0</td>\n      <td>1</td>\n    </tr>\n    <tr>\n      <th>...</th>\n      <td>...</td>\n      <td>...</td>\n      <td>...</td>\n      <td>...</td>\n      <td>...</td>\n      <td>...</td>\n      <td>...</td>\n      <td>...</td>\n    </tr>\n    <tr>\n      <th>8289141</th>\n      <td>9977</td>\n      <td>249486</td>\n      <td>2017-09-02</td>\n      <td>10.0</td>\n      <td>-1.0</td>\n      <td>34.82</td>\n      <td>0</td>\n      <td>1</td>\n    </tr>\n    <tr>\n      <th>8297424</th>\n      <td>9977</td>\n      <td>342682</td>\n      <td>2017-07-21</td>\n      <td>5.0</td>\n      <td>-2.0</td>\n      <td>19.63</td>\n      <td>0</td>\n      <td>1</td>\n    </tr>\n    <tr>\n      <th>8301405</th>\n      <td>9977</td>\n      <td>342745</td>\n      <td>2018-07-28</td>\n      <td>7.0</td>\n      <td>-1.0</td>\n      <td>23.98</td>\n      <td>9217</td>\n      <td>1</td>\n    </tr>\n    <tr>\n      <th>8302475</th>\n      <td>9977</td>\n      <td>342762</td>\n      <td>2019-03-28</td>\n      <td>2.0</td>\n      <td>-1.0</td>\n      <td>71.12</td>\n      <td>9217</td>\n      <td>1</td>\n    </tr>\n    <tr>\n      <th>8337377</th>\n      <td>9977</td>\n      <td>468735</td>\n      <td>2018-07-28</td>\n      <td>8.0</td>\n      <td>-1.0</td>\n      <td>91.13</td>\n      <td>9217</td>\n      <td>1</td>\n    </tr>\n  </tbody>\n</table>\n<p>580 rows × 8 columns</p>\n</div>"
     },
     "execution_count": 396,
     "metadata": {},
     "output_type": "execute_result"
    }
   ],
   "source": [
    "# Verificar cuantos valores negativos tenemos en la columna venta_unidades\n",
    "negative_values = movimientos_df[movimientos_df['venta_unidades'] < 0]\n",
    "negative_values"
   ],
   "metadata": {
    "collapsed": false
   }
  },
  {
   "cell_type": "markdown",
   "source": [
    "#### Observaciones dataset Movimientos-20190716"
   ],
   "metadata": {
    "collapsed": false
   }
  },
  {
   "cell_type": "markdown",
   "source": [
    "1. El dataset contiene la información referente a los movimientos de productos comprendidos entre Julio 15 de 2016 hasta el día 14 de Julio de 2019.\n",
    "2. El dataset contiene 8347817 registros y 8 columnas identificadas así:\n",
    "    - idb: Identificador interno de Boca\n",
    "    - id_producto: Identificador interno de Artículo\n",
    "    - fecha: Fecha de la Transacción,  1 dia menos que la fecha actual\n",
    "    - stock_unidades: Stock en unidades del Artículo en la Boca\n",
    "    - venta_unidades: Venta en unidades\n",
    "    - precio_unitario: Precio de venta unitario\n",
    "    - cd_abast: Que CD de la region del local abastece este producto al local para productos almacenados.\n",
    "    - is_prod_rol_local: SI= sigue en Rol, NO= no esta en Rol el producto en el local.\n",
    "3. No se observan valores NAN ó valores repetidos.\n",
    "4. El valor medio de inventario en unidades es de 20.65585 unidades.\n",
    "5. El valor medio de ventas en unidades es de 0.3133696 unidades.\n",
    "6. La media del precio unitario es de 64.26050 pesos."
   ],
   "metadata": {
    "collapsed": false
   }
  },
  {
   "cell_type": "markdown",
   "source": [
    "### Dataset Promociones-20190715"
   ],
   "metadata": {
    "collapsed": false
   }
  },
  {
   "cell_type": "markdown",
   "source": [
    "#### Importar el dataset y observar los primeros registros con head y verificar los tipos de datos con el método info."
   ],
   "metadata": {
    "collapsed": false
   }
  },
  {
   "cell_type": "code",
   "execution_count": 399,
   "outputs": [],
   "source": [
    "promo_col_names = [\n",
    "        'idb', 'id_producto', 'fecha_desde', 'fecha_hasta', 'ventas_estimadas_und',\n",
    "        'nro_prom', 'fecha_trans', 'porcentaje_dcto'\n",
    "]"
   ],
   "metadata": {
    "collapsed": false
   }
  },
  {
   "cell_type": "code",
   "execution_count": 400,
   "outputs": [],
   "source": [
    "promo_df = pd.read_csv(\"./data/VMI_Promociones-20190715.txt\",\n",
    "                       encoding=\"utf-8\",\n",
    "                       header=None,\n",
    "                       delimiter='\\t',\n",
    "                       names=promo_col_names)"
   ],
   "metadata": {
    "collapsed": false
   }
  },
  {
   "cell_type": "code",
   "execution_count": 401,
   "id": "8e7cd2e4",
   "metadata": {},
   "outputs": [
    {
     "data": {
      "text/plain": "   idb  id_producto  fecha_desde  fecha_hasta  ventas_estimadas_und  nro_prom  \\\n0  242       228217     20161023     20161030                  0.98    436830   \n1  242       228217     20161023     20161030                  0.98    436830   \n2  242       228217     20161023     20161030                  0.98    436830   \n3  242       228217     20161023     20161030                  0.98    436830   \n4  242       228217     20161023     20161030                  0.98    436830   \n\n   fecha_trans  porcentaje_dcto  \n0     20161005              7.0  \n1     20161006              7.0  \n2     20161007              7.0  \n3     20161008              7.0  \n4     20161009              7.0  ",
      "text/html": "<div>\n<style scoped>\n    .dataframe tbody tr th:only-of-type {\n        vertical-align: middle;\n    }\n\n    .dataframe tbody tr th {\n        vertical-align: top;\n    }\n\n    .dataframe thead th {\n        text-align: right;\n    }\n</style>\n<table border=\"1\" class=\"dataframe\">\n  <thead>\n    <tr style=\"text-align: right;\">\n      <th></th>\n      <th>idb</th>\n      <th>id_producto</th>\n      <th>fecha_desde</th>\n      <th>fecha_hasta</th>\n      <th>ventas_estimadas_und</th>\n      <th>nro_prom</th>\n      <th>fecha_trans</th>\n      <th>porcentaje_dcto</th>\n    </tr>\n  </thead>\n  <tbody>\n    <tr>\n      <th>0</th>\n      <td>242</td>\n      <td>228217</td>\n      <td>20161023</td>\n      <td>20161030</td>\n      <td>0.98</td>\n      <td>436830</td>\n      <td>20161005</td>\n      <td>7.0</td>\n    </tr>\n    <tr>\n      <th>1</th>\n      <td>242</td>\n      <td>228217</td>\n      <td>20161023</td>\n      <td>20161030</td>\n      <td>0.98</td>\n      <td>436830</td>\n      <td>20161006</td>\n      <td>7.0</td>\n    </tr>\n    <tr>\n      <th>2</th>\n      <td>242</td>\n      <td>228217</td>\n      <td>20161023</td>\n      <td>20161030</td>\n      <td>0.98</td>\n      <td>436830</td>\n      <td>20161007</td>\n      <td>7.0</td>\n    </tr>\n    <tr>\n      <th>3</th>\n      <td>242</td>\n      <td>228217</td>\n      <td>20161023</td>\n      <td>20161030</td>\n      <td>0.98</td>\n      <td>436830</td>\n      <td>20161008</td>\n      <td>7.0</td>\n    </tr>\n    <tr>\n      <th>4</th>\n      <td>242</td>\n      <td>228217</td>\n      <td>20161023</td>\n      <td>20161030</td>\n      <td>0.98</td>\n      <td>436830</td>\n      <td>20161009</td>\n      <td>7.0</td>\n    </tr>\n  </tbody>\n</table>\n</div>"
     },
     "execution_count": 401,
     "metadata": {},
     "output_type": "execute_result"
    }
   ],
   "source": [
    "promo_df.head()"
   ]
  },
  {
   "cell_type": "code",
   "execution_count": 402,
   "outputs": [
    {
     "name": "stdout",
     "output_type": "stream",
     "text": [
      "<class 'pandas.core.frame.DataFrame'>\n",
      "RangeIndex: 285253 entries, 0 to 285252\n",
      "Data columns (total 8 columns):\n",
      " #   Column                Non-Null Count   Dtype  \n",
      "---  ------                --------------   -----  \n",
      " 0   idb                   285253 non-null  int64  \n",
      " 1   id_producto           285253 non-null  int64  \n",
      " 2   fecha_desde           285253 non-null  int64  \n",
      " 3   fecha_hasta           285253 non-null  int64  \n",
      " 4   ventas_estimadas_und  285253 non-null  float64\n",
      " 5   nro_prom              285253 non-null  int64  \n",
      " 6   fecha_trans           285253 non-null  int64  \n",
      " 7   porcentaje_dcto       285253 non-null  float64\n",
      "dtypes: float64(2), int64(6)\n",
      "memory usage: 17.4 MB\n"
     ]
    }
   ],
   "source": [
    "promo_df.info()"
   ],
   "metadata": {
    "collapsed": false
   }
  },
  {
   "cell_type": "markdown",
   "source": [
    "#### Realizar ajustes a las columnas y verificar que no existan datos nulos, repetidos\n",
    "- Convertir la columnas fecha_desde, fecha_hasta y fecha_trans a tipo de dato datetime.\n",
    "- Verificar si existen valores nulos y/o repetidos.\n",
    "- Obtener las fechas máximas y minimas de transaciones.\n",
    "- Crear una nueva columnas llamada duracion_promo para obtener el delta de tiempo entre la fecha_desde y la fecha_hasta de una promoción.\n",
    "- Obtener una análisis descriptivo de los datos."
   ],
   "metadata": {
    "collapsed": false
   }
  },
  {
   "cell_type": "code",
   "execution_count": 315,
   "outputs": [],
   "source": [
    "promo_df = convert_file(promo_df, 'fecha_desde', 'date')"
   ],
   "metadata": {
    "collapsed": false
   }
  },
  {
   "cell_type": "code",
   "execution_count": 316,
   "outputs": [],
   "source": [
    "promo_df = convert_file(promo_df, 'fecha_hasta', 'date')"
   ],
   "metadata": {
    "collapsed": false
   }
  },
  {
   "cell_type": "code",
   "execution_count": 317,
   "outputs": [],
   "source": [
    "promo_df = convert_file(promo_df, 'fecha_trans', 'date')"
   ],
   "metadata": {
    "collapsed": false
   }
  },
  {
   "cell_type": "code",
   "execution_count": 318,
   "outputs": [
    {
     "data": {
      "text/plain": "idb                     0\nid_producto             0\nfecha_desde             0\nfecha_hasta             0\nventas_estimadas_und    0\nnro_prom                0\nfecha_trans             0\nporcentaje_dcto         0\ndtype: int64"
     },
     "execution_count": 318,
     "metadata": {},
     "output_type": "execute_result"
    }
   ],
   "source": [
    "promo_df.isnull().sum(axis=0)"
   ],
   "metadata": {
    "collapsed": false
   }
  },
  {
   "cell_type": "code",
   "execution_count": 319,
   "outputs": [
    {
     "data": {
      "text/plain": "0"
     },
     "execution_count": 319,
     "metadata": {},
     "output_type": "execute_result"
    }
   ],
   "source": [
    "promo_df.duplicated().sum()"
   ],
   "metadata": {
    "collapsed": false
   }
  },
  {
   "cell_type": "code",
   "execution_count": 320,
   "outputs": [
    {
     "name": "stdout",
     "output_type": "stream",
     "text": [
      "Minimum date: 2016-07-19 00:00:00\n",
      "Maximum date: 2019-07-16 00:00:00\n"
     ]
    }
   ],
   "source": [
    "min_date = promo_df['fecha_desde'].min()\n",
    "max_date = promo_df['fecha_hasta'].max()\n",
    "\n",
    "\n",
    "print(f\"Minimum date: {min_date}\")\n",
    "print(f\"Maximum date: {max_date}\")"
   ],
   "metadata": {
    "collapsed": false
   }
  },
  {
   "cell_type": "code",
   "execution_count": 321,
   "outputs": [
    {
     "name": "stdout",
     "output_type": "stream",
     "text": [
      "Minimum date: 2016-07-14 00:00:00\n",
      "Maximum date: 2019-07-14 00:00:00\n"
     ]
    }
   ],
   "source": [
    "min_date = promo_df['fecha_trans'].min()\n",
    "max_date = promo_df['fecha_trans'].max()\n",
    "\n",
    "print(f\"Minimum date: {min_date}\")\n",
    "print(f\"Maximum date: {max_date}\")"
   ],
   "metadata": {
    "collapsed": false
   }
  },
  {
   "cell_type": "code",
   "execution_count": 325,
   "outputs": [],
   "source": [
    "# Crear una nueva columna llamada duracion de la promoción.\n",
    "promo_df['duracion_promo'] = promo_df['fecha_hasta'] - promo_df['fecha_desde']"
   ],
   "metadata": {
    "collapsed": false
   }
  },
  {
   "cell_type": "code",
   "execution_count": 326,
   "outputs": [
    {
     "data": {
      "text/plain": "                 idb    id_producto  ventas_estimadas_und       nro_prom  \\\ncount  285253.000000  285253.000000         285253.000000  285253.000000   \nmean     7065.578963  388393.367197             24.622701  471275.031435   \nstd      3169.254446   83906.420820             30.314661   37596.939924   \nmin       242.000000  164146.000000              0.000000  425196.000000   \n25%      5207.000000  342682.000000              6.000000  436830.000000   \n50%      9026.000000  427445.000000             12.520000  456807.000000   \n75%      9159.000000  458395.000000             30.440000  502702.000000   \nmax      9977.000000  507528.000000            300.820000  541066.000000   \n\n       porcentaje_dcto             duracion_promo  \ncount    285253.000000                     285253  \nmean          8.394103  8 days 09:27:30.480100121  \nstd           2.893570  2 days 21:26:44.418379945  \nmin           3.000000            3 days 00:00:00  \n25%           7.000000            7 days 00:00:00  \n50%           7.000000            7 days 00:00:00  \n75%           8.000000            8 days 00:00:00  \nmax          18.000000           18 days 00:00:00  ",
      "text/html": "<div>\n<style scoped>\n    .dataframe tbody tr th:only-of-type {\n        vertical-align: middle;\n    }\n\n    .dataframe tbody tr th {\n        vertical-align: top;\n    }\n\n    .dataframe thead th {\n        text-align: right;\n    }\n</style>\n<table border=\"1\" class=\"dataframe\">\n  <thead>\n    <tr style=\"text-align: right;\">\n      <th></th>\n      <th>idb</th>\n      <th>id_producto</th>\n      <th>ventas_estimadas_und</th>\n      <th>nro_prom</th>\n      <th>porcentaje_dcto</th>\n      <th>duracion_promo</th>\n    </tr>\n  </thead>\n  <tbody>\n    <tr>\n      <th>count</th>\n      <td>285253.000000</td>\n      <td>285253.000000</td>\n      <td>285253.000000</td>\n      <td>285253.000000</td>\n      <td>285253.000000</td>\n      <td>285253</td>\n    </tr>\n    <tr>\n      <th>mean</th>\n      <td>7065.578963</td>\n      <td>388393.367197</td>\n      <td>24.622701</td>\n      <td>471275.031435</td>\n      <td>8.394103</td>\n      <td>8 days 09:27:30.480100121</td>\n    </tr>\n    <tr>\n      <th>std</th>\n      <td>3169.254446</td>\n      <td>83906.420820</td>\n      <td>30.314661</td>\n      <td>37596.939924</td>\n      <td>2.893570</td>\n      <td>2 days 21:26:44.418379945</td>\n    </tr>\n    <tr>\n      <th>min</th>\n      <td>242.000000</td>\n      <td>164146.000000</td>\n      <td>0.000000</td>\n      <td>425196.000000</td>\n      <td>3.000000</td>\n      <td>3 days 00:00:00</td>\n    </tr>\n    <tr>\n      <th>25%</th>\n      <td>5207.000000</td>\n      <td>342682.000000</td>\n      <td>6.000000</td>\n      <td>436830.000000</td>\n      <td>7.000000</td>\n      <td>7 days 00:00:00</td>\n    </tr>\n    <tr>\n      <th>50%</th>\n      <td>9026.000000</td>\n      <td>427445.000000</td>\n      <td>12.520000</td>\n      <td>456807.000000</td>\n      <td>7.000000</td>\n      <td>7 days 00:00:00</td>\n    </tr>\n    <tr>\n      <th>75%</th>\n      <td>9159.000000</td>\n      <td>458395.000000</td>\n      <td>30.440000</td>\n      <td>502702.000000</td>\n      <td>8.000000</td>\n      <td>8 days 00:00:00</td>\n    </tr>\n    <tr>\n      <th>max</th>\n      <td>9977.000000</td>\n      <td>507528.000000</td>\n      <td>300.820000</td>\n      <td>541066.000000</td>\n      <td>18.000000</td>\n      <td>18 days 00:00:00</td>\n    </tr>\n  </tbody>\n</table>\n</div>"
     },
     "execution_count": 326,
     "metadata": {},
     "output_type": "execute_result"
    }
   ],
   "source": [
    "promo_df.describe()"
   ],
   "metadata": {
    "collapsed": false
   }
  },
  {
   "cell_type": "code",
   "execution_count": 327,
   "outputs": [
    {
     "name": "stdout",
     "output_type": "stream",
     "text": [
      "<class 'pandas.core.frame.DataFrame'>\n",
      "RangeIndex: 285253 entries, 0 to 285252\n",
      "Data columns (total 9 columns):\n",
      " #   Column                Non-Null Count   Dtype          \n",
      "---  ------                --------------   -----          \n",
      " 0   idb                   285253 non-null  int64          \n",
      " 1   id_producto           285253 non-null  int64          \n",
      " 2   fecha_desde           285253 non-null  datetime64[ns] \n",
      " 3   fecha_hasta           285253 non-null  datetime64[ns] \n",
      " 4   ventas_estimadas_und  285253 non-null  float64        \n",
      " 5   nro_prom              285253 non-null  int64          \n",
      " 6   fecha_trans           285253 non-null  datetime64[ns] \n",
      " 7   porcentaje_dcto       285253 non-null  float64        \n",
      " 8   duracion_promo        285253 non-null  timedelta64[ns]\n",
      "dtypes: datetime64[ns](3), float64(2), int64(3), timedelta64[ns](1)\n",
      "memory usage: 19.6 MB\n"
     ]
    }
   ],
   "source": [
    "promo_df.info()"
   ],
   "metadata": {
    "collapsed": false
   }
  },
  {
   "cell_type": "markdown",
   "source": [
    "#### Observaciones dataset Promociones-20190715"
   ],
   "metadata": {
    "collapsed": false
   }
  },
  {
   "cell_type": "markdown",
   "source": [
    "1. El dataset contiene la información referente a las promociones realizadas desde 2016-07-19 hasta el 2019-07-16.\n",
    "2. El dataset contiene 285253 registros y 9 columnas descritas así:\n",
    "    - idb:\tIdentificador interno de Boca\n",
    "    - id_producto:\tIdentificador interno de Artículo\n",
    "    - fecha-desde: \tFecha desde de la vigencia de la Promoción\n",
    "    - fecha_hasta:\tFecha hasta de la vigencia de la Promoción\n",
    "    - ventas_estimadas_und: Estimado de ventas en la promoción en Unidades\n",
    "    - nro_prom: Número de la Promoción\n",
    "    - fecha_trans: Fecha de la Información\n",
    "    - porcentaje_dcto: Porcentaje de Descuento\n",
    "    - duracion_promo: La diferencia entre fecha_desde y fecha_hasta.\n",
    "3. No se observan valores NAN ó duplicados.\n",
    "4. La media de ventas estimadas es de 24.62 unidades.\n",
    "5. El máximo porcentaje de descuento es de 18% y el mínimo es de 3%.\n",
    "6. La duración máxima de una promoción es de 18 días.\n",
    "7. La duración media de una promoción es de 8 días."
   ],
   "metadata": {
    "collapsed": false
   }
  },
  {
   "cell_type": "markdown",
   "source": [
    "### Dataset ProvProdu-20190712"
   ],
   "metadata": {
    "collapsed": false
   }
  },
  {
   "cell_type": "code",
   "execution_count": 350,
   "id": "517efa33",
   "metadata": {},
   "outputs": [],
   "source": [
    "prov_prod_col_names = [\n",
    "    'id_proveedor', 'razon_social', 'id_sector', 'desc_sector', 'id_seccion',\n",
    "    'desc_seccion', 'id_gran_flia', 'desc_gran_flia', 'id_flia', 'desc_flia',\n",
    "    'id_sub_flia', 'desc_sub_flia', 'id_articulo', 'id_producto',\n",
    "    'desc_producto', 'id_region', 'fecha'\n",
    "]"
   ]
  },
  {
   "cell_type": "code",
   "execution_count": 351,
   "outputs": [],
   "source": [
    "prov_prod_df = pd.read_csv(\"./data/VMI_ProvProdu-20190712.txt\",\n",
    "                           encoding=\"ISO-8859-1\",\n",
    "                           header=None,\n",
    "                           delimiter='\\t',\n",
    "                           names=prov_prod_col_names)"
   ],
   "metadata": {
    "collapsed": false
   }
  },
  {
   "cell_type": "code",
   "execution_count": 352,
   "id": "ad3f0604",
   "metadata": {},
   "outputs": [
    {
     "data": {
      "text/plain": "   id_proveedor                      razon_social  id_sector desc_sector  \\\n1           252  Reckitt Benckiser Argentina S.A.          1     Almacn   \n1           252  Reckitt Benckiser Argentina S.A.          1     Almacn   \n1           252  Reckitt Benckiser Argentina S.A.          1     Almacn   \n1           252  Reckitt Benckiser Argentina S.A.          1     Almacn   \n1           252  Reckitt Benckiser Argentina S.A.          1     Almacn   \n\n   id_seccion desc_seccion  id_gran_flia desc_gran_flia  id_flia  \\\n1           4     Limpieza             3   Ba¤o y Hogar        4   \n1           4     Limpieza             3   Ba¤o y Hogar        4   \n1           4     Limpieza             3   Ba¤o y Hogar        4   \n1           4     Limpieza             3   Ba¤o y Hogar        4   \n1           4     Limpieza             3   Ba¤o y Hogar        4   \n\n                   desc_flia  id_sub_flia            desc_sub_flia  \\\n1  Desodorantes de ambientes            1  Desodorantes en aerosol   \n1  Desodorantes de ambientes            1  Desodorantes en aerosol   \n1  Desodorantes de ambientes            1  Desodorantes en aerosol   \n1  Desodorantes de ambientes            1  Desodorantes en aerosol   \n1  Desodorantes de ambientes            1  Desodorantes en aerosol   \n\n   id_articulo  id_producto  \\\n1        27003       273920   \n1        27004       273921   \n1        27005       284012   \n1        27012       359572   \n1        27007       415268   \n\n                                       desc_producto  id_region  \\\n1  REFILL CITRICO  OIL ESCENCE AIR WICK CITRICOS ...          1   \n1     FRESHMATIC AIRWICK LAVANDA REPUESTO 250.00 MLT          1   \n1  AIR WICK CITRICO FULL REP.GRATIS AIR WICK AIR ...          1   \n1      MAGNOLIA Y CHERRY AIR WICK REPUESTO 175.00 GR          1   \n1  FRESHMATIC BOSQUE MµGICO APARATO AIR WICK LUSH...          1   \n\n                     fecha  \n1  2019-07-12 11:04:07.967  \n1  2019-07-12 11:04:07.967  \n1  2019-07-12 11:04:07.967  \n1  2019-07-12 11:04:07.967  \n1  2019-07-12 11:04:07.967  ",
      "text/html": "<div>\n<style scoped>\n    .dataframe tbody tr th:only-of-type {\n        vertical-align: middle;\n    }\n\n    .dataframe tbody tr th {\n        vertical-align: top;\n    }\n\n    .dataframe thead th {\n        text-align: right;\n    }\n</style>\n<table border=\"1\" class=\"dataframe\">\n  <thead>\n    <tr style=\"text-align: right;\">\n      <th></th>\n      <th>id_proveedor</th>\n      <th>razon_social</th>\n      <th>id_sector</th>\n      <th>desc_sector</th>\n      <th>id_seccion</th>\n      <th>desc_seccion</th>\n      <th>id_gran_flia</th>\n      <th>desc_gran_flia</th>\n      <th>id_flia</th>\n      <th>desc_flia</th>\n      <th>id_sub_flia</th>\n      <th>desc_sub_flia</th>\n      <th>id_articulo</th>\n      <th>id_producto</th>\n      <th>desc_producto</th>\n      <th>id_region</th>\n      <th>fecha</th>\n    </tr>\n  </thead>\n  <tbody>\n    <tr>\n      <th>1</th>\n      <td>252</td>\n      <td>Reckitt Benckiser Argentina S.A.</td>\n      <td>1</td>\n      <td>Almacn</td>\n      <td>4</td>\n      <td>Limpieza</td>\n      <td>3</td>\n      <td>Ba¤o y Hogar</td>\n      <td>4</td>\n      <td>Desodorantes de ambientes</td>\n      <td>1</td>\n      <td>Desodorantes en aerosol</td>\n      <td>27003</td>\n      <td>273920</td>\n      <td>REFILL CITRICO  OIL ESCENCE AIR WICK CITRICOS ...</td>\n      <td>1</td>\n      <td>2019-07-12 11:04:07.967</td>\n    </tr>\n    <tr>\n      <th>1</th>\n      <td>252</td>\n      <td>Reckitt Benckiser Argentina S.A.</td>\n      <td>1</td>\n      <td>Almacn</td>\n      <td>4</td>\n      <td>Limpieza</td>\n      <td>3</td>\n      <td>Ba¤o y Hogar</td>\n      <td>4</td>\n      <td>Desodorantes de ambientes</td>\n      <td>1</td>\n      <td>Desodorantes en aerosol</td>\n      <td>27004</td>\n      <td>273921</td>\n      <td>FRESHMATIC AIRWICK LAVANDA REPUESTO 250.00 MLT</td>\n      <td>1</td>\n      <td>2019-07-12 11:04:07.967</td>\n    </tr>\n    <tr>\n      <th>1</th>\n      <td>252</td>\n      <td>Reckitt Benckiser Argentina S.A.</td>\n      <td>1</td>\n      <td>Almacn</td>\n      <td>4</td>\n      <td>Limpieza</td>\n      <td>3</td>\n      <td>Ba¤o y Hogar</td>\n      <td>4</td>\n      <td>Desodorantes de ambientes</td>\n      <td>1</td>\n      <td>Desodorantes en aerosol</td>\n      <td>27005</td>\n      <td>284012</td>\n      <td>AIR WICK CITRICO FULL REP.GRATIS AIR WICK AIR ...</td>\n      <td>1</td>\n      <td>2019-07-12 11:04:07.967</td>\n    </tr>\n    <tr>\n      <th>1</th>\n      <td>252</td>\n      <td>Reckitt Benckiser Argentina S.A.</td>\n      <td>1</td>\n      <td>Almacn</td>\n      <td>4</td>\n      <td>Limpieza</td>\n      <td>3</td>\n      <td>Ba¤o y Hogar</td>\n      <td>4</td>\n      <td>Desodorantes de ambientes</td>\n      <td>1</td>\n      <td>Desodorantes en aerosol</td>\n      <td>27012</td>\n      <td>359572</td>\n      <td>MAGNOLIA Y CHERRY AIR WICK REPUESTO 175.00 GR</td>\n      <td>1</td>\n      <td>2019-07-12 11:04:07.967</td>\n    </tr>\n    <tr>\n      <th>1</th>\n      <td>252</td>\n      <td>Reckitt Benckiser Argentina S.A.</td>\n      <td>1</td>\n      <td>Almacn</td>\n      <td>4</td>\n      <td>Limpieza</td>\n      <td>3</td>\n      <td>Ba¤o y Hogar</td>\n      <td>4</td>\n      <td>Desodorantes de ambientes</td>\n      <td>1</td>\n      <td>Desodorantes en aerosol</td>\n      <td>27007</td>\n      <td>415268</td>\n      <td>FRESHMATIC BOSQUE MµGICO APARATO AIR WICK LUSH...</td>\n      <td>1</td>\n      <td>2019-07-12 11:04:07.967</td>\n    </tr>\n  </tbody>\n</table>\n</div>"
     },
     "execution_count": 352,
     "metadata": {},
     "output_type": "execute_result"
    }
   ],
   "source": [
    "prov_prod_df.head()"
   ]
  },
  {
   "cell_type": "code",
   "execution_count": 356,
   "outputs": [
    {
     "name": "stdout",
     "output_type": "stream",
     "text": [
      "<class 'pandas.core.frame.DataFrame'>\n",
      "Int64Index: 82 entries, 1 to 1\n",
      "Data columns (total 17 columns):\n",
      " #   Column          Non-Null Count  Dtype \n",
      "---  ------          --------------  ----- \n",
      " 0   id_proveedor    82 non-null     int64 \n",
      " 1   razon_social    82 non-null     object\n",
      " 2   id_sector       82 non-null     int64 \n",
      " 3   desc_sector     82 non-null     object\n",
      " 4   id_seccion      82 non-null     int64 \n",
      " 5   desc_seccion    82 non-null     object\n",
      " 6   id_gran_flia    82 non-null     int64 \n",
      " 7   desc_gran_flia  82 non-null     object\n",
      " 8   id_flia         82 non-null     int64 \n",
      " 9   desc_flia       82 non-null     object\n",
      " 10  id_sub_flia     82 non-null     int64 \n",
      " 11  desc_sub_flia   82 non-null     object\n",
      " 12  id_articulo     82 non-null     int64 \n",
      " 13  id_producto     82 non-null     int64 \n",
      " 14  desc_producto   82 non-null     object\n",
      " 15  id_region       82 non-null     int64 \n",
      " 16  fecha           82 non-null     object\n",
      "dtypes: int64(9), object(8)\n",
      "memory usage: 11.5+ KB\n"
     ]
    }
   ],
   "source": [
    "prov_prod_df.info()"
   ],
   "metadata": {
    "collapsed": false
   }
  },
  {
   "cell_type": "markdown",
   "source": [
    "- Arreglar errores de ortografia para las columnas desc_sector y desc_gran_flia.\n",
    "- Convertir las columnas de tipo string a lower case."
   ],
   "metadata": {
    "collapsed": false
   }
  },
  {
   "cell_type": "code",
   "execution_count": 353,
   "outputs": [],
   "source": [
    "prov_prod_df['desc_gran_flia'] = prov_prod_df['desc_gran_flia'].replace(to_replace=r'Ba¤o', value='Baño', regex=True)\n",
    "prov_prod_df['desc_sector'] = prov_prod_df['desc_sector'].replace(to_replace=r'Almacn', value='Almacén', regex=True)"
   ],
   "metadata": {
    "collapsed": false
   }
  },
  {
   "cell_type": "code",
   "execution_count": 354,
   "outputs": [],
   "source": [
    "prov_prod_df = prov_prod_df.applymap(lambda x: x.lower() if isinstance(x, str) else x)"
   ],
   "metadata": {
    "collapsed": false
   }
  },
  {
   "cell_type": "code",
   "execution_count": 355,
   "outputs": [
    {
     "data": {
      "text/plain": "   id_proveedor                      razon_social  id_sector desc_sector  \\\n1           252  reckitt benckiser argentina s.a.          1     almacén   \n1           252  reckitt benckiser argentina s.a.          1     almacén   \n1           252  reckitt benckiser argentina s.a.          1     almacén   \n1           252  reckitt benckiser argentina s.a.          1     almacén   \n1           252  reckitt benckiser argentina s.a.          1     almacén   \n\n   id_seccion desc_seccion  id_gran_flia desc_gran_flia  id_flia  \\\n1           4     limpieza             3   baño y hogar        4   \n1           4     limpieza             3   baño y hogar        4   \n1           4     limpieza             3   baño y hogar        4   \n1           4     limpieza             3   baño y hogar        4   \n1           4     limpieza             3   baño y hogar        4   \n\n                   desc_flia  id_sub_flia            desc_sub_flia  \\\n1  desodorantes de ambientes            1  desodorantes en aerosol   \n1  desodorantes de ambientes            1  desodorantes en aerosol   \n1  desodorantes de ambientes            1  desodorantes en aerosol   \n1  desodorantes de ambientes            1  desodorantes en aerosol   \n1  desodorantes de ambientes            1  desodorantes en aerosol   \n\n   id_articulo  id_producto  \\\n1        27003       273920   \n1        27004       273921   \n1        27005       284012   \n1        27012       359572   \n1        27007       415268   \n\n                                       desc_producto  id_region  \\\n1  refill citrico  oil escence air wick citricos ...          1   \n1     freshmatic airwick lavanda repuesto 250.00 mlt          1   \n1  air wick citrico full rep.gratis air wick air ...          1   \n1      magnolia y cherry air wick repuesto 175.00 gr          1   \n1  freshmatic bosque mµgico aparato air wick lush...          1   \n\n                     fecha  \n1  2019-07-12 11:04:07.967  \n1  2019-07-12 11:04:07.967  \n1  2019-07-12 11:04:07.967  \n1  2019-07-12 11:04:07.967  \n1  2019-07-12 11:04:07.967  ",
      "text/html": "<div>\n<style scoped>\n    .dataframe tbody tr th:only-of-type {\n        vertical-align: middle;\n    }\n\n    .dataframe tbody tr th {\n        vertical-align: top;\n    }\n\n    .dataframe thead th {\n        text-align: right;\n    }\n</style>\n<table border=\"1\" class=\"dataframe\">\n  <thead>\n    <tr style=\"text-align: right;\">\n      <th></th>\n      <th>id_proveedor</th>\n      <th>razon_social</th>\n      <th>id_sector</th>\n      <th>desc_sector</th>\n      <th>id_seccion</th>\n      <th>desc_seccion</th>\n      <th>id_gran_flia</th>\n      <th>desc_gran_flia</th>\n      <th>id_flia</th>\n      <th>desc_flia</th>\n      <th>id_sub_flia</th>\n      <th>desc_sub_flia</th>\n      <th>id_articulo</th>\n      <th>id_producto</th>\n      <th>desc_producto</th>\n      <th>id_region</th>\n      <th>fecha</th>\n    </tr>\n  </thead>\n  <tbody>\n    <tr>\n      <th>1</th>\n      <td>252</td>\n      <td>reckitt benckiser argentina s.a.</td>\n      <td>1</td>\n      <td>almacén</td>\n      <td>4</td>\n      <td>limpieza</td>\n      <td>3</td>\n      <td>baño y hogar</td>\n      <td>4</td>\n      <td>desodorantes de ambientes</td>\n      <td>1</td>\n      <td>desodorantes en aerosol</td>\n      <td>27003</td>\n      <td>273920</td>\n      <td>refill citrico  oil escence air wick citricos ...</td>\n      <td>1</td>\n      <td>2019-07-12 11:04:07.967</td>\n    </tr>\n    <tr>\n      <th>1</th>\n      <td>252</td>\n      <td>reckitt benckiser argentina s.a.</td>\n      <td>1</td>\n      <td>almacén</td>\n      <td>4</td>\n      <td>limpieza</td>\n      <td>3</td>\n      <td>baño y hogar</td>\n      <td>4</td>\n      <td>desodorantes de ambientes</td>\n      <td>1</td>\n      <td>desodorantes en aerosol</td>\n      <td>27004</td>\n      <td>273921</td>\n      <td>freshmatic airwick lavanda repuesto 250.00 mlt</td>\n      <td>1</td>\n      <td>2019-07-12 11:04:07.967</td>\n    </tr>\n    <tr>\n      <th>1</th>\n      <td>252</td>\n      <td>reckitt benckiser argentina s.a.</td>\n      <td>1</td>\n      <td>almacén</td>\n      <td>4</td>\n      <td>limpieza</td>\n      <td>3</td>\n      <td>baño y hogar</td>\n      <td>4</td>\n      <td>desodorantes de ambientes</td>\n      <td>1</td>\n      <td>desodorantes en aerosol</td>\n      <td>27005</td>\n      <td>284012</td>\n      <td>air wick citrico full rep.gratis air wick air ...</td>\n      <td>1</td>\n      <td>2019-07-12 11:04:07.967</td>\n    </tr>\n    <tr>\n      <th>1</th>\n      <td>252</td>\n      <td>reckitt benckiser argentina s.a.</td>\n      <td>1</td>\n      <td>almacén</td>\n      <td>4</td>\n      <td>limpieza</td>\n      <td>3</td>\n      <td>baño y hogar</td>\n      <td>4</td>\n      <td>desodorantes de ambientes</td>\n      <td>1</td>\n      <td>desodorantes en aerosol</td>\n      <td>27012</td>\n      <td>359572</td>\n      <td>magnolia y cherry air wick repuesto 175.00 gr</td>\n      <td>1</td>\n      <td>2019-07-12 11:04:07.967</td>\n    </tr>\n    <tr>\n      <th>1</th>\n      <td>252</td>\n      <td>reckitt benckiser argentina s.a.</td>\n      <td>1</td>\n      <td>almacén</td>\n      <td>4</td>\n      <td>limpieza</td>\n      <td>3</td>\n      <td>baño y hogar</td>\n      <td>4</td>\n      <td>desodorantes de ambientes</td>\n      <td>1</td>\n      <td>desodorantes en aerosol</td>\n      <td>27007</td>\n      <td>415268</td>\n      <td>freshmatic bosque mµgico aparato air wick lush...</td>\n      <td>1</td>\n      <td>2019-07-12 11:04:07.967</td>\n    </tr>\n  </tbody>\n</table>\n</div>"
     },
     "execution_count": 355,
     "metadata": {},
     "output_type": "execute_result"
    }
   ],
   "source": [
    "prov_prod_df.head()"
   ],
   "metadata": {
    "collapsed": false
   }
  },
  {
   "cell_type": "code",
   "execution_count": 357,
   "outputs": [],
   "source": [
    "prov_prod_df = convert_file(prov_prod_df, 'fecha', 'date')"
   ],
   "metadata": {
    "collapsed": false
   }
  },
  {
   "cell_type": "markdown",
   "source": [
    "### Dataset Locales-20190712"
   ],
   "metadata": {
    "collapsed": false
   }
  },
  {
   "cell_type": "code",
   "execution_count": 284,
   "outputs": [],
   "source": [
    "locales_df = pd.read_csv(\"./data/VMI_Locales-20190712.txt\",\n",
    "                         encoding=\"ISO-8859-1\",\n",
    "                         header=None,\n",
    "                         delimiter='\\t')"
   ],
   "metadata": {
    "collapsed": false
   }
  },
  {
   "cell_type": "code",
   "execution_count": 285,
   "id": "db2a7cdd",
   "metadata": {},
   "outputs": [],
   "source": [
    "locales_col_names = [\n",
    "    'id_cadena', 'desc_cadena', 'id_region', 'desc_region', 'idb',\n",
    "    'desc_local', 'latitud', 'longitud', 'pd'\n",
    "]\n",
    "locales_df.columns = locales_col_names"
   ]
  },
  {
   "cell_type": "code",
   "execution_count": 286,
   "id": "83636823",
   "metadata": {},
   "outputs": [],
   "source": [
    "locales_df['desc_local'] = locales_df['desc_local'].replace(to_replace=r'Rinc¢n', value='Rincón', regex=True)"
   ]
  },
  {
   "cell_type": "code",
   "execution_count": 287,
   "id": "78b99360",
   "metadata": {},
   "outputs": [
    {
     "data": {
      "text/plain": "   id_cadena                     desc_cadena  id_region  \\\n0          1  Plaza Vea                               1   \n1          1  Plaza Vea                               1   \n2          1  Plaza Vea                               1   \n3          1  Plaza Vea                               1   \n4          1  Plaza Vea                               1   \n\n                      desc_region   idb                      desc_local  \\\n0  Buenos Aires                    9693     9693 - P Vea Villa Urquiza.   \n1  Buenos Aires                    9694          9694 - P Vea JB Justo.   \n2  Buenos Aires                    9695             695 - P Vea Acoyte.   \n3  Buenos Aires                    9699          699 - P Vea Rivadavia.   \n4  Buenos Aires                    9889  889 - Plaza Vea Carpa de liqui   \n\n   latitud  longitud pd  \n0      NaN       NaN  N  \n1      NaN       NaN  N  \n2      0.0       0.0  N  \n3      0.0       0.0  N  \n4      NaN       NaN  N  ",
      "text/html": "<div>\n<style scoped>\n    .dataframe tbody tr th:only-of-type {\n        vertical-align: middle;\n    }\n\n    .dataframe tbody tr th {\n        vertical-align: top;\n    }\n\n    .dataframe thead th {\n        text-align: right;\n    }\n</style>\n<table border=\"1\" class=\"dataframe\">\n  <thead>\n    <tr style=\"text-align: right;\">\n      <th></th>\n      <th>id_cadena</th>\n      <th>desc_cadena</th>\n      <th>id_region</th>\n      <th>desc_region</th>\n      <th>idb</th>\n      <th>desc_local</th>\n      <th>latitud</th>\n      <th>longitud</th>\n      <th>pd</th>\n    </tr>\n  </thead>\n  <tbody>\n    <tr>\n      <th>0</th>\n      <td>1</td>\n      <td>Plaza Vea</td>\n      <td>1</td>\n      <td>Buenos Aires</td>\n      <td>9693</td>\n      <td>9693 - P Vea Villa Urquiza.</td>\n      <td>NaN</td>\n      <td>NaN</td>\n      <td>N</td>\n    </tr>\n    <tr>\n      <th>1</th>\n      <td>1</td>\n      <td>Plaza Vea</td>\n      <td>1</td>\n      <td>Buenos Aires</td>\n      <td>9694</td>\n      <td>9694 - P Vea JB Justo.</td>\n      <td>NaN</td>\n      <td>NaN</td>\n      <td>N</td>\n    </tr>\n    <tr>\n      <th>2</th>\n      <td>1</td>\n      <td>Plaza Vea</td>\n      <td>1</td>\n      <td>Buenos Aires</td>\n      <td>9695</td>\n      <td>695 - P Vea Acoyte.</td>\n      <td>0.0</td>\n      <td>0.0</td>\n      <td>N</td>\n    </tr>\n    <tr>\n      <th>3</th>\n      <td>1</td>\n      <td>Plaza Vea</td>\n      <td>1</td>\n      <td>Buenos Aires</td>\n      <td>9699</td>\n      <td>699 - P Vea Rivadavia.</td>\n      <td>0.0</td>\n      <td>0.0</td>\n      <td>N</td>\n    </tr>\n    <tr>\n      <th>4</th>\n      <td>1</td>\n      <td>Plaza Vea</td>\n      <td>1</td>\n      <td>Buenos Aires</td>\n      <td>9889</td>\n      <td>889 - Plaza Vea Carpa de liqui</td>\n      <td>NaN</td>\n      <td>NaN</td>\n      <td>N</td>\n    </tr>\n  </tbody>\n</table>\n</div>"
     },
     "execution_count": 287,
     "metadata": {},
     "output_type": "execute_result"
    }
   ],
   "source": [
    "locales_df.head()"
   ]
  },
  {
   "cell_type": "code",
   "execution_count": 288,
   "outputs": [
    {
     "name": "stdout",
     "output_type": "stream",
     "text": [
      "<class 'pandas.core.frame.DataFrame'>\n",
      "RangeIndex: 175 entries, 0 to 174\n",
      "Data columns (total 9 columns):\n",
      " #   Column       Non-Null Count  Dtype  \n",
      "---  ------       --------------  -----  \n",
      " 0   id_cadena    175 non-null    int64  \n",
      " 1   desc_cadena  175 non-null    object \n",
      " 2   id_region    175 non-null    int64  \n",
      " 3   desc_region  175 non-null    object \n",
      " 4   idb          175 non-null    int64  \n",
      " 5   desc_local   175 non-null    object \n",
      " 6   latitud      140 non-null    float64\n",
      " 7   longitud     140 non-null    float64\n",
      " 8   pd           175 non-null    object \n",
      "dtypes: float64(2), int64(3), object(4)\n",
      "memory usage: 12.4+ KB\n"
     ]
    }
   ],
   "source": [
    "locales_df.info()"
   ],
   "metadata": {
    "collapsed": false
   }
  },
  {
   "cell_type": "code",
   "execution_count": 289,
   "outputs": [
    {
     "data": {
      "text/plain": "id_cadena       0\ndesc_cadena     0\nid_region       0\ndesc_region     0\nidb             0\ndesc_local      0\nlatitud        35\nlongitud       35\npd              0\ndtype: int64"
     },
     "execution_count": 289,
     "metadata": {},
     "output_type": "execute_result"
    }
   ],
   "source": [
    "locales_df.isnull().sum(axis=0)"
   ],
   "metadata": {
    "collapsed": false
   }
  },
  {
   "cell_type": "code",
   "execution_count": 290,
   "outputs": [
    {
     "data": {
      "text/plain": "        id_cadena  id_region          idb     latitud    longitud\ncount  175.000000      175.0   175.000000  140.000000  140.000000\nmean     4.502857        1.0  6909.617143  -31.533832  -52.839588\nstd      2.945627        0.0  3421.539461   10.718891   17.724343\nmin      1.000000        1.0   242.000000  -45.872649  -67.496036\n25%      2.000000        1.0  5213.500000  -34.730633  -58.632039\n50%      4.000000        1.0  9019.000000  -34.601654  -58.434434\n75%      4.000000        1.0  9158.500000  -34.546212  -58.251974\nmax     11.000000        1.0  9977.000000    0.000000    0.000000",
      "text/html": "<div>\n<style scoped>\n    .dataframe tbody tr th:only-of-type {\n        vertical-align: middle;\n    }\n\n    .dataframe tbody tr th {\n        vertical-align: top;\n    }\n\n    .dataframe thead th {\n        text-align: right;\n    }\n</style>\n<table border=\"1\" class=\"dataframe\">\n  <thead>\n    <tr style=\"text-align: right;\">\n      <th></th>\n      <th>id_cadena</th>\n      <th>id_region</th>\n      <th>idb</th>\n      <th>latitud</th>\n      <th>longitud</th>\n    </tr>\n  </thead>\n  <tbody>\n    <tr>\n      <th>count</th>\n      <td>175.000000</td>\n      <td>175.0</td>\n      <td>175.000000</td>\n      <td>140.000000</td>\n      <td>140.000000</td>\n    </tr>\n    <tr>\n      <th>mean</th>\n      <td>4.502857</td>\n      <td>1.0</td>\n      <td>6909.617143</td>\n      <td>-31.533832</td>\n      <td>-52.839588</td>\n    </tr>\n    <tr>\n      <th>std</th>\n      <td>2.945627</td>\n      <td>0.0</td>\n      <td>3421.539461</td>\n      <td>10.718891</td>\n      <td>17.724343</td>\n    </tr>\n    <tr>\n      <th>min</th>\n      <td>1.000000</td>\n      <td>1.0</td>\n      <td>242.000000</td>\n      <td>-45.872649</td>\n      <td>-67.496036</td>\n    </tr>\n    <tr>\n      <th>25%</th>\n      <td>2.000000</td>\n      <td>1.0</td>\n      <td>5213.500000</td>\n      <td>-34.730633</td>\n      <td>-58.632039</td>\n    </tr>\n    <tr>\n      <th>50%</th>\n      <td>4.000000</td>\n      <td>1.0</td>\n      <td>9019.000000</td>\n      <td>-34.601654</td>\n      <td>-58.434434</td>\n    </tr>\n    <tr>\n      <th>75%</th>\n      <td>4.000000</td>\n      <td>1.0</td>\n      <td>9158.500000</td>\n      <td>-34.546212</td>\n      <td>-58.251974</td>\n    </tr>\n    <tr>\n      <th>max</th>\n      <td>11.000000</td>\n      <td>1.0</td>\n      <td>9977.000000</td>\n      <td>0.000000</td>\n      <td>0.000000</td>\n    </tr>\n  </tbody>\n</table>\n</div>"
     },
     "execution_count": 290,
     "metadata": {},
     "output_type": "execute_result"
    }
   ],
   "source": [
    "locales_df.describe()"
   ],
   "metadata": {
    "collapsed": false
   }
  },
  {
   "cell_type": "markdown",
   "id": "9ddc5523",
   "metadata": {},
   "source": [
    "# Análisis Descriptivo"
   ]
  },
  {
   "cell_type": "code",
   "execution_count": 159,
   "id": "4722677c",
   "metadata": {},
   "outputs": [
    {
     "data": {
      "text/html": [
       "<div>\n",
       "<style scoped>\n",
       "    .dataframe tbody tr th:only-of-type {\n",
       "        vertical-align: middle;\n",
       "    }\n",
       "\n",
       "    .dataframe tbody tr th {\n",
       "        vertical-align: top;\n",
       "    }\n",
       "\n",
       "    .dataframe thead th {\n",
       "        text-align: right;\n",
       "    }\n",
       "</style>\n",
       "<table border=\"1\" class=\"dataframe\">\n",
       "  <thead>\n",
       "    <tr style=\"text-align: right;\">\n",
       "      <th></th>\n",
       "      <th>id_proveedor</th>\n",
       "      <th>razon_social</th>\n",
       "      <th>id_sector</th>\n",
       "      <th>desc_sector</th>\n",
       "      <th>id_seccion</th>\n",
       "      <th>desc_seccion</th>\n",
       "      <th>id_gran_flia</th>\n",
       "      <th>desc_gran_flia</th>\n",
       "      <th>id_flia</th>\n",
       "      <th>desc_flia</th>\n",
       "      <th>...</th>\n",
       "      <th>desc_articulo</th>\n",
       "      <th>id_region</th>\n",
       "      <th>id_cadena</th>\n",
       "      <th>desc_cadena</th>\n",
       "      <th>desc_region</th>\n",
       "      <th>idb</th>\n",
       "      <th>desc_local</th>\n",
       "      <th>latitud</th>\n",
       "      <th>longitud</th>\n",
       "      <th>pd</th>\n",
       "    </tr>\n",
       "  </thead>\n",
       "  <tbody>\n",
       "    <tr>\n",
       "      <th>0</th>\n",
       "      <td>252</td>\n",
       "      <td>Reckitt Benckiser Argentina S.A.</td>\n",
       "      <td>1</td>\n",
       "      <td>Almacén</td>\n",
       "      <td>4</td>\n",
       "      <td>Limpieza</td>\n",
       "      <td>3</td>\n",
       "      <td>Baño y Hogar</td>\n",
       "      <td>4</td>\n",
       "      <td>Desodorantes de ambientes</td>\n",
       "      <td>...</td>\n",
       "      <td>refill citrico  oil escence air wick citricos ...</td>\n",
       "      <td>1</td>\n",
       "      <td>1</td>\n",
       "      <td>Plaza Vea</td>\n",
       "      <td>Buenos Aires</td>\n",
       "      <td>9693</td>\n",
       "      <td>9693 - P Vea Villa Urquiza.</td>\n",
       "      <td>NaN</td>\n",
       "      <td>NaN</td>\n",
       "      <td>N</td>\n",
       "    </tr>\n",
       "    <tr>\n",
       "      <th>1</th>\n",
       "      <td>252</td>\n",
       "      <td>Reckitt Benckiser Argentina S.A.</td>\n",
       "      <td>1</td>\n",
       "      <td>Almacén</td>\n",
       "      <td>4</td>\n",
       "      <td>Limpieza</td>\n",
       "      <td>3</td>\n",
       "      <td>Baño y Hogar</td>\n",
       "      <td>4</td>\n",
       "      <td>Desodorantes de ambientes</td>\n",
       "      <td>...</td>\n",
       "      <td>refill citrico  oil escence air wick citricos ...</td>\n",
       "      <td>1</td>\n",
       "      <td>1</td>\n",
       "      <td>Plaza Vea</td>\n",
       "      <td>Buenos Aires</td>\n",
       "      <td>9694</td>\n",
       "      <td>9694 - P Vea JB Justo.</td>\n",
       "      <td>NaN</td>\n",
       "      <td>NaN</td>\n",
       "      <td>N</td>\n",
       "    </tr>\n",
       "    <tr>\n",
       "      <th>2</th>\n",
       "      <td>252</td>\n",
       "      <td>Reckitt Benckiser Argentina S.A.</td>\n",
       "      <td>1</td>\n",
       "      <td>Almacén</td>\n",
       "      <td>4</td>\n",
       "      <td>Limpieza</td>\n",
       "      <td>3</td>\n",
       "      <td>Baño y Hogar</td>\n",
       "      <td>4</td>\n",
       "      <td>Desodorantes de ambientes</td>\n",
       "      <td>...</td>\n",
       "      <td>refill citrico  oil escence air wick citricos ...</td>\n",
       "      <td>1</td>\n",
       "      <td>1</td>\n",
       "      <td>Plaza Vea</td>\n",
       "      <td>Buenos Aires</td>\n",
       "      <td>9695</td>\n",
       "      <td>695 - P Vea Acoyte.</td>\n",
       "      <td>0.0</td>\n",
       "      <td>0.0</td>\n",
       "      <td>N</td>\n",
       "    </tr>\n",
       "    <tr>\n",
       "      <th>3</th>\n",
       "      <td>252</td>\n",
       "      <td>Reckitt Benckiser Argentina S.A.</td>\n",
       "      <td>1</td>\n",
       "      <td>Almacén</td>\n",
       "      <td>4</td>\n",
       "      <td>Limpieza</td>\n",
       "      <td>3</td>\n",
       "      <td>Baño y Hogar</td>\n",
       "      <td>4</td>\n",
       "      <td>Desodorantes de ambientes</td>\n",
       "      <td>...</td>\n",
       "      <td>refill citrico  oil escence air wick citricos ...</td>\n",
       "      <td>1</td>\n",
       "      <td>1</td>\n",
       "      <td>Plaza Vea</td>\n",
       "      <td>Buenos Aires</td>\n",
       "      <td>9699</td>\n",
       "      <td>699 - P Vea Rivadavia.</td>\n",
       "      <td>0.0</td>\n",
       "      <td>0.0</td>\n",
       "      <td>N</td>\n",
       "    </tr>\n",
       "    <tr>\n",
       "      <th>4</th>\n",
       "      <td>252</td>\n",
       "      <td>Reckitt Benckiser Argentina S.A.</td>\n",
       "      <td>1</td>\n",
       "      <td>Almacén</td>\n",
       "      <td>4</td>\n",
       "      <td>Limpieza</td>\n",
       "      <td>3</td>\n",
       "      <td>Baño y Hogar</td>\n",
       "      <td>4</td>\n",
       "      <td>Desodorantes de ambientes</td>\n",
       "      <td>...</td>\n",
       "      <td>refill citrico  oil escence air wick citricos ...</td>\n",
       "      <td>1</td>\n",
       "      <td>1</td>\n",
       "      <td>Plaza Vea</td>\n",
       "      <td>Buenos Aires</td>\n",
       "      <td>9889</td>\n",
       "      <td>889 - Plaza Vea Carpa de liqui</td>\n",
       "      <td>NaN</td>\n",
       "      <td>NaN</td>\n",
       "      <td>N</td>\n",
       "    </tr>\n",
       "  </tbody>\n",
       "</table>\n",
       "<p>5 rows × 24 columns</p>\n",
       "</div>"
      ],
      "text/plain": [
       "   id_proveedor                      razon_social  id_sector desc_sector  \\\n",
       "0           252  Reckitt Benckiser Argentina S.A.          1     Almacén   \n",
       "1           252  Reckitt Benckiser Argentina S.A.          1     Almacén   \n",
       "2           252  Reckitt Benckiser Argentina S.A.          1     Almacén   \n",
       "3           252  Reckitt Benckiser Argentina S.A.          1     Almacén   \n",
       "4           252  Reckitt Benckiser Argentina S.A.          1     Almacén   \n",
       "\n",
       "   id_seccion desc_seccion  id_gran_flia desc_gran_flia  id_flia  \\\n",
       "0           4     Limpieza             3   Baño y Hogar        4   \n",
       "1           4     Limpieza             3   Baño y Hogar        4   \n",
       "2           4     Limpieza             3   Baño y Hogar        4   \n",
       "3           4     Limpieza             3   Baño y Hogar        4   \n",
       "4           4     Limpieza             3   Baño y Hogar        4   \n",
       "\n",
       "                   desc_flia  ...  \\\n",
       "0  Desodorantes de ambientes  ...   \n",
       "1  Desodorantes de ambientes  ...   \n",
       "2  Desodorantes de ambientes  ...   \n",
       "3  Desodorantes de ambientes  ...   \n",
       "4  Desodorantes de ambientes  ...   \n",
       "\n",
       "                                       desc_articulo id_region  id_cadena  \\\n",
       "0  refill citrico  oil escence air wick citricos ...         1          1   \n",
       "1  refill citrico  oil escence air wick citricos ...         1          1   \n",
       "2  refill citrico  oil escence air wick citricos ...         1          1   \n",
       "3  refill citrico  oil escence air wick citricos ...         1          1   \n",
       "4  refill citrico  oil escence air wick citricos ...         1          1   \n",
       "\n",
       "                      desc_cadena                     desc_region   idb  \\\n",
       "0  Plaza Vea                       Buenos Aires                    9693   \n",
       "1  Plaza Vea                       Buenos Aires                    9694   \n",
       "2  Plaza Vea                       Buenos Aires                    9695   \n",
       "3  Plaza Vea                       Buenos Aires                    9699   \n",
       "4  Plaza Vea                       Buenos Aires                    9889   \n",
       "\n",
       "                       desc_local latitud longitud  pd  \n",
       "0     9693 - P Vea Villa Urquiza.     NaN      NaN   N  \n",
       "1          9694 - P Vea JB Justo.     NaN      NaN   N  \n",
       "2             695 - P Vea Acoyte.     0.0      0.0   N  \n",
       "3          699 - P Vea Rivadavia.     0.0      0.0   N  \n",
       "4  889 - Plaza Vea Carpa de liqui     NaN      NaN   N  \n",
       "\n",
       "[5 rows x 24 columns]"
      ]
     },
     "execution_count": 159,
     "metadata": {},
     "output_type": "execute_result"
    }
   ],
   "source": [
    "merged_df = pd.merge(prov_prod_df, locales_df, on='id_region')\n",
    "merged_df.head()"
   ]
  },
  {
   "cell_type": "code",
   "execution_count": 160,
   "id": "b02f40dd",
   "metadata": {},
   "outputs": [
    {
     "name": "stdout",
     "output_type": "stream",
     "text": [
      "<class 'pandas.core.frame.DataFrame'>\n",
      "Int64Index: 14350 entries, 0 to 14349\n",
      "Data columns (total 24 columns):\n",
      " #   Column          Non-Null Count  Dtype  \n",
      "---  ------          --------------  -----  \n",
      " 0   id_proveedor    14350 non-null  int64  \n",
      " 1   razon_social    14350 non-null  object \n",
      " 2   id_sector       14350 non-null  int64  \n",
      " 3   desc_sector     14350 non-null  object \n",
      " 4   id_seccion      14350 non-null  int64  \n",
      " 5   desc_seccion    14350 non-null  object \n",
      " 6   id_gran_flia    14350 non-null  int64  \n",
      " 7   desc_gran_flia  14350 non-null  object \n",
      " 8   id_flia         14350 non-null  int64  \n",
      " 9   desc_flia       14350 non-null  object \n",
      " 10  id_sub_flia     14350 non-null  int64  \n",
      " 11  desc_sub_flia   14350 non-null  object \n",
      " 12  id_articulo     14350 non-null  int64  \n",
      " 13  id_producto     14350 non-null  int64  \n",
      " 14  desc_articulo   14350 non-null  object \n",
      " 15  id_region       14350 non-null  int64  \n",
      " 16  id_cadena       14350 non-null  int64  \n",
      " 17  desc_cadena     14350 non-null  object \n",
      " 18  desc_region     14350 non-null  object \n",
      " 19  idb             14350 non-null  int64  \n",
      " 20  desc_local      14350 non-null  object \n",
      " 21  latitud         11480 non-null  float64\n",
      " 22  longitud        11480 non-null  float64\n",
      " 23  pd              14350 non-null  object \n",
      "dtypes: float64(2), int64(11), object(11)\n",
      "memory usage: 2.7+ MB\n"
     ]
    }
   ],
   "source": [
    "merged_df.info()"
   ]
  },
  {
   "cell_type": "code",
   "execution_count": null,
   "id": "7d57b904",
   "metadata": {},
   "outputs": [],
   "source": [
    "merged_df = pd.merge(merged_df, promo_df, on=\"idb\")"
   ]
  },
  {
   "cell_type": "code",
   "execution_count": 147,
   "id": "3429e3de",
   "metadata": {},
   "outputs": [
    {
     "data": {
      "text/html": [
       "<div>\n",
       "<style scoped>\n",
       "    .dataframe tbody tr th:only-of-type {\n",
       "        vertical-align: middle;\n",
       "    }\n",
       "\n",
       "    .dataframe tbody tr th {\n",
       "        vertical-align: top;\n",
       "    }\n",
       "\n",
       "    .dataframe thead th {\n",
       "        text-align: right;\n",
       "    }\n",
       "</style>\n",
       "<table border=\"1\" class=\"dataframe\">\n",
       "  <thead>\n",
       "    <tr style=\"text-align: right;\">\n",
       "      <th></th>\n",
       "      <th>id_proveedor</th>\n",
       "      <th>id_sector</th>\n",
       "      <th>id_seccion</th>\n",
       "      <th>id_gran_flia</th>\n",
       "      <th>id_flia</th>\n",
       "      <th>id_sub_flia</th>\n",
       "      <th>id_articulo</th>\n",
       "      <th>id_producto_x</th>\n",
       "      <th>id_region</th>\n",
       "      <th>id_cadena</th>\n",
       "      <th>idb</th>\n",
       "      <th>latitud</th>\n",
       "      <th>longitud</th>\n",
       "      <th>id_producto_y</th>\n",
       "      <th>fecha_desde</th>\n",
       "      <th>fecha_hasta</th>\n",
       "      <th>ventas_est_val</th>\n",
       "      <th>nro_prom</th>\n",
       "      <th>fecha</th>\n",
       "      <th>porc_dcto</th>\n",
       "    </tr>\n",
       "  </thead>\n",
       "  <tbody>\n",
       "    <tr>\n",
       "      <th>count</th>\n",
       "      <td>2.339075e+07</td>\n",
       "      <td>23390746.0</td>\n",
       "      <td>23390746.0</td>\n",
       "      <td>23390746.0</td>\n",
       "      <td>23390746.0</td>\n",
       "      <td>23390746.0</td>\n",
       "      <td>2.339075e+07</td>\n",
       "      <td>2.339075e+07</td>\n",
       "      <td>23390746.0</td>\n",
       "      <td>2.339075e+07</td>\n",
       "      <td>2.339075e+07</td>\n",
       "      <td>2.057856e+07</td>\n",
       "      <td>2.057856e+07</td>\n",
       "      <td>2.339075e+07</td>\n",
       "      <td>2.339075e+07</td>\n",
       "      <td>2.339075e+07</td>\n",
       "      <td>2.339075e+07</td>\n",
       "      <td>2.339075e+07</td>\n",
       "      <td>2.339075e+07</td>\n",
       "      <td>2.339075e+07</td>\n",
       "    </tr>\n",
       "    <tr>\n",
       "      <th>mean</th>\n",
       "      <td>6.309390e+02</td>\n",
       "      <td>1.0</td>\n",
       "      <td>4.0</td>\n",
       "      <td>3.0</td>\n",
       "      <td>4.0</td>\n",
       "      <td>1.0</td>\n",
       "      <td>9.979622e+03</td>\n",
       "      <td>3.899406e+05</td>\n",
       "      <td>1.0</td>\n",
       "      <td>4.585547e+00</td>\n",
       "      <td>7.065579e+03</td>\n",
       "      <td>-3.458282e+01</td>\n",
       "      <td>-5.794420e+01</td>\n",
       "      <td>3.883934e+05</td>\n",
       "      <td>2.017279e+07</td>\n",
       "      <td>2.017281e+07</td>\n",
       "      <td>2.462270e+01</td>\n",
       "      <td>4.712750e+05</td>\n",
       "      <td>2.017272e+07</td>\n",
       "      <td>8.394103e+00</td>\n",
       "    </tr>\n",
       "    <tr>\n",
       "      <th>std</th>\n",
       "      <td>5.444794e+02</td>\n",
       "      <td>0.0</td>\n",
       "      <td>0.0</td>\n",
       "      <td>0.0</td>\n",
       "      <td>0.0</td>\n",
       "      <td>0.0</td>\n",
       "      <td>1.300619e+04</td>\n",
       "      <td>9.324810e+04</td>\n",
       "      <td>0.0</td>\n",
       "      <td>2.661784e+00</td>\n",
       "      <td>3.169249e+03</td>\n",
       "      <td>4.395837e+00</td>\n",
       "      <td>6.619960e+00</td>\n",
       "      <td>8.390628e+04</td>\n",
       "      <td>1.079948e+04</td>\n",
       "      <td>1.080525e+04</td>\n",
       "      <td>3.031461e+01</td>\n",
       "      <td>3.759687e+04</td>\n",
       "      <td>1.080004e+04</td>\n",
       "      <td>2.893565e+00</td>\n",
       "    </tr>\n",
       "    <tr>\n",
       "      <th>min</th>\n",
       "      <td>2.520000e+02</td>\n",
       "      <td>1.0</td>\n",
       "      <td>4.0</td>\n",
       "      <td>3.0</td>\n",
       "      <td>4.0</td>\n",
       "      <td>1.0</td>\n",
       "      <td>1.088000e+03</td>\n",
       "      <td>1.641490e+05</td>\n",
       "      <td>1.0</td>\n",
       "      <td>2.000000e+00</td>\n",
       "      <td>2.420000e+02</td>\n",
       "      <td>-4.587265e+01</td>\n",
       "      <td>-6.749604e+01</td>\n",
       "      <td>1.641460e+05</td>\n",
       "      <td>2.016072e+07</td>\n",
       "      <td>2.016073e+07</td>\n",
       "      <td>0.000000e+00</td>\n",
       "      <td>4.251960e+05</td>\n",
       "      <td>2.016071e+07</td>\n",
       "      <td>3.000000e+00</td>\n",
       "    </tr>\n",
       "    <tr>\n",
       "      <th>25%</th>\n",
       "      <td>3.140000e+02</td>\n",
       "      <td>1.0</td>\n",
       "      <td>4.0</td>\n",
       "      <td>3.0</td>\n",
       "      <td>4.0</td>\n",
       "      <td>1.0</td>\n",
       "      <td>4.044000e+03</td>\n",
       "      <td>3.426790e+05</td>\n",
       "      <td>1.0</td>\n",
       "      <td>2.000000e+00</td>\n",
       "      <td>5.207000e+03</td>\n",
       "      <td>-3.476409e+01</td>\n",
       "      <td>-5.857491e+01</td>\n",
       "      <td>3.426820e+05</td>\n",
       "      <td>2.016102e+07</td>\n",
       "      <td>2.016103e+07</td>\n",
       "      <td>6.000000e+00</td>\n",
       "      <td>4.368300e+05</td>\n",
       "      <td>2.016102e+07</td>\n",
       "      <td>7.000000e+00</td>\n",
       "    </tr>\n",
       "    <tr>\n",
       "      <th>50%</th>\n",
       "      <td>3.140000e+02</td>\n",
       "      <td>1.0</td>\n",
       "      <td>4.0</td>\n",
       "      <td>3.0</td>\n",
       "      <td>4.0</td>\n",
       "      <td>1.0</td>\n",
       "      <td>6.551000e+03</td>\n",
       "      <td>4.274445e+05</td>\n",
       "      <td>1.0</td>\n",
       "      <td>4.000000e+00</td>\n",
       "      <td>9.026000e+03</td>\n",
       "      <td>-3.461339e+01</td>\n",
       "      <td>-5.843481e+01</td>\n",
       "      <td>4.274450e+05</td>\n",
       "      <td>2.017042e+07</td>\n",
       "      <td>2.017042e+07</td>\n",
       "      <td>1.252000e+01</td>\n",
       "      <td>4.568070e+05</td>\n",
       "      <td>2.017042e+07</td>\n",
       "      <td>7.000000e+00</td>\n",
       "    </tr>\n",
       "    <tr>\n",
       "      <th>75%</th>\n",
       "      <td>1.550000e+03</td>\n",
       "      <td>1.0</td>\n",
       "      <td>4.0</td>\n",
       "      <td>3.0</td>\n",
       "      <td>4.0</td>\n",
       "      <td>1.0</td>\n",
       "      <td>1.102200e+04</td>\n",
       "      <td>4.660690e+05</td>\n",
       "      <td>1.0</td>\n",
       "      <td>4.000000e+00</td>\n",
       "      <td>9.159000e+03</td>\n",
       "      <td>-3.457286e+01</td>\n",
       "      <td>-5.838981e+01</td>\n",
       "      <td>4.583950e+05</td>\n",
       "      <td>2.018072e+07</td>\n",
       "      <td>2.018080e+07</td>\n",
       "      <td>3.044000e+01</td>\n",
       "      <td>5.027020e+05</td>\n",
       "      <td>2.018072e+07</td>\n",
       "      <td>8.000000e+00</td>\n",
       "    </tr>\n",
       "    <tr>\n",
       "      <th>max</th>\n",
       "      <td>1.550000e+03</td>\n",
       "      <td>1.0</td>\n",
       "      <td>4.0</td>\n",
       "      <td>3.0</td>\n",
       "      <td>4.0</td>\n",
       "      <td>1.0</td>\n",
       "      <td>7.702300e+04</td>\n",
       "      <td>5.113260e+05</td>\n",
       "      <td>1.0</td>\n",
       "      <td>9.000000e+00</td>\n",
       "      <td>9.977000e+03</td>\n",
       "      <td>0.000000e+00</td>\n",
       "      <td>0.000000e+00</td>\n",
       "      <td>5.075280e+05</td>\n",
       "      <td>2.019071e+07</td>\n",
       "      <td>2.019072e+07</td>\n",
       "      <td>3.008200e+02</td>\n",
       "      <td>5.410660e+05</td>\n",
       "      <td>2.019071e+07</td>\n",
       "      <td>1.800000e+01</td>\n",
       "    </tr>\n",
       "  </tbody>\n",
       "</table>\n",
       "</div>"
      ],
      "text/plain": [
       "       id_proveedor   id_sector  id_seccion  id_gran_flia     id_flia  \\\n",
       "count  2.339075e+07  23390746.0  23390746.0    23390746.0  23390746.0   \n",
       "mean   6.309390e+02         1.0         4.0           3.0         4.0   \n",
       "std    5.444794e+02         0.0         0.0           0.0         0.0   \n",
       "min    2.520000e+02         1.0         4.0           3.0         4.0   \n",
       "25%    3.140000e+02         1.0         4.0           3.0         4.0   \n",
       "50%    3.140000e+02         1.0         4.0           3.0         4.0   \n",
       "75%    1.550000e+03         1.0         4.0           3.0         4.0   \n",
       "max    1.550000e+03         1.0         4.0           3.0         4.0   \n",
       "\n",
       "       id_sub_flia   id_articulo  id_producto_x   id_region     id_cadena  \\\n",
       "count   23390746.0  2.339075e+07   2.339075e+07  23390746.0  2.339075e+07   \n",
       "mean           1.0  9.979622e+03   3.899406e+05         1.0  4.585547e+00   \n",
       "std            0.0  1.300619e+04   9.324810e+04         0.0  2.661784e+00   \n",
       "min            1.0  1.088000e+03   1.641490e+05         1.0  2.000000e+00   \n",
       "25%            1.0  4.044000e+03   3.426790e+05         1.0  2.000000e+00   \n",
       "50%            1.0  6.551000e+03   4.274445e+05         1.0  4.000000e+00   \n",
       "75%            1.0  1.102200e+04   4.660690e+05         1.0  4.000000e+00   \n",
       "max            1.0  7.702300e+04   5.113260e+05         1.0  9.000000e+00   \n",
       "\n",
       "                idb       latitud      longitud  id_producto_y   fecha_desde  \\\n",
       "count  2.339075e+07  2.057856e+07  2.057856e+07   2.339075e+07  2.339075e+07   \n",
       "mean   7.065579e+03 -3.458282e+01 -5.794420e+01   3.883934e+05  2.017279e+07   \n",
       "std    3.169249e+03  4.395837e+00  6.619960e+00   8.390628e+04  1.079948e+04   \n",
       "min    2.420000e+02 -4.587265e+01 -6.749604e+01   1.641460e+05  2.016072e+07   \n",
       "25%    5.207000e+03 -3.476409e+01 -5.857491e+01   3.426820e+05  2.016102e+07   \n",
       "50%    9.026000e+03 -3.461339e+01 -5.843481e+01   4.274450e+05  2.017042e+07   \n",
       "75%    9.159000e+03 -3.457286e+01 -5.838981e+01   4.583950e+05  2.018072e+07   \n",
       "max    9.977000e+03  0.000000e+00  0.000000e+00   5.075280e+05  2.019071e+07   \n",
       "\n",
       "        fecha_hasta  ventas_est_val      nro_prom         fecha     porc_dcto  \n",
       "count  2.339075e+07    2.339075e+07  2.339075e+07  2.339075e+07  2.339075e+07  \n",
       "mean   2.017281e+07    2.462270e+01  4.712750e+05  2.017272e+07  8.394103e+00  \n",
       "std    1.080525e+04    3.031461e+01  3.759687e+04  1.080004e+04  2.893565e+00  \n",
       "min    2.016073e+07    0.000000e+00  4.251960e+05  2.016071e+07  3.000000e+00  \n",
       "25%    2.016103e+07    6.000000e+00  4.368300e+05  2.016102e+07  7.000000e+00  \n",
       "50%    2.017042e+07    1.252000e+01  4.568070e+05  2.017042e+07  7.000000e+00  \n",
       "75%    2.018080e+07    3.044000e+01  5.027020e+05  2.018072e+07  8.000000e+00  \n",
       "max    2.019072e+07    3.008200e+02  5.410660e+05  2.019071e+07  1.800000e+01  "
      ]
     },
     "execution_count": 147,
     "metadata": {},
     "output_type": "execute_result"
    }
   ],
   "source": [
    "merged_df.describe()"
   ]
  },
  {
   "cell_type": "code",
   "execution_count": 158,
   "id": "627d57fd",
   "metadata": {},
   "outputs": [
    {
     "name": "stdout",
     "output_type": "stream",
     "text": [
      "          id_producto_x  id_producto_y\n",
      "0                273920         164149\n",
      "1                273920         164149\n",
      "2                273920         164149\n",
      "3                273920         164149\n",
      "4                273920         164149\n",
      "...                 ...            ...\n",
      "23390741         507832         484434\n",
      "23390742         507832         484434\n",
      "23390743         507832         484434\n",
      "23390744         507832         484434\n",
      "23390745         507832         484434\n",
      "\n",
      "[23390746 rows x 2 columns]\n"
     ]
    }
   ],
   "source": [
    "print(merged_df.loc[:, ['id_producto_x', 'id_producto_y']])"
   ]
  },
  {
   "cell_type": "code",
   "execution_count": null,
   "id": "cee29598",
   "metadata": {},
   "outputs": [],
   "source": []
  }
 ],
 "metadata": {
  "kernelspec": {
   "display_name": "Python 3 (ipykernel)",
   "language": "python",
   "name": "python3"
  },
  "language_info": {
   "codemirror_mode": {
    "name": "ipython",
    "version": 3
   },
   "file_extension": ".py",
   "mimetype": "text/x-python",
   "name": "python",
   "nbconvert_exporter": "python",
   "pygments_lexer": "ipython3",
   "version": "3.10.8"
  },
  "toc": {
   "base_numbering": 1,
   "nav_menu": {},
   "number_sections": true,
   "sideBar": true,
   "skip_h1_title": false,
   "title_cell": "Table of Contents",
   "title_sidebar": "Contents",
   "toc_cell": false,
   "toc_position": {},
   "toc_section_display": true,
   "toc_window_display": false
  },
  "varInspector": {
   "cols": {
    "lenName": 16,
    "lenType": 16,
    "lenVar": 40
   },
   "kernels_config": {
    "python": {
     "delete_cmd_postfix": "",
     "delete_cmd_prefix": "del ",
     "library": "var_list.py",
     "varRefreshCmd": "print(var_dic_list())"
    },
    "r": {
     "delete_cmd_postfix": ") ",
     "delete_cmd_prefix": "rm(",
     "library": "var_list.r",
     "varRefreshCmd": "cat(var_dic_list()) "
    }
   },
   "types_to_exclude": [
    "module",
    "function",
    "builtin_function_or_method",
    "instance",
    "_Feature"
   ],
   "window_display": false
  }
 },
 "nbformat": 4,
 "nbformat_minor": 5
}
