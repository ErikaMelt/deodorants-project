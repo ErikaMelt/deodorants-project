{
 "cells": [
  {
   "cell_type": "markdown",
   "source": [
    "# Limpieza de Datos Dataset Promociones-20190715"
   ],
   "metadata": {
    "collapsed": false
   }
  },
  {
   "cell_type": "code",
   "execution_count": 1,
   "outputs": [],
   "source": [
    "import pandas as pd\n",
    "from utils_functions import convert_file, upload_to_bucket"
   ],
   "metadata": {
    "collapsed": false
   }
  },
  {
   "cell_type": "markdown",
   "source": [
    "#### Importar el dataset y observar los primeros registros con head y verificar los tipos de datos con el método info."
   ],
   "metadata": {
    "collapsed": false
   }
  },
  {
   "cell_type": "code",
   "execution_count": 2,
   "outputs": [],
   "source": [
    "promo_col_names = [\n",
    "        'idb', 'id_producto', 'fecha_desde', 'fecha_hasta', 'ventas_estimadas_und',\n",
    "        'nro_prom', 'fecha_trans', 'porcentaje_dcto'\n",
    "]"
   ],
   "metadata": {
    "collapsed": false
   }
  },
  {
   "cell_type": "code",
   "execution_count": 3,
   "outputs": [],
   "source": [
    "promo_df = pd.read_csv(\"../data/VMI_Promociones-20190715.txt\",\n",
    "                       encoding=\"utf-8\",\n",
    "                       header=None,\n",
    "                       delimiter='\\t',\n",
    "                       names=promo_col_names)"
   ],
   "metadata": {
    "collapsed": false
   }
  },
  {
   "cell_type": "code",
   "execution_count": 4,
   "outputs": [
    {
     "data": {
      "text/plain": "   idb  id_producto  fecha_desde  fecha_hasta  ventas_estimadas_und  nro_prom  \\\n0  242       228217     20161023     20161030                  0.98    436830   \n1  242       228217     20161023     20161030                  0.98    436830   \n2  242       228217     20161023     20161030                  0.98    436830   \n3  242       228217     20161023     20161030                  0.98    436830   \n4  242       228217     20161023     20161030                  0.98    436830   \n\n   fecha_trans  porcentaje_dcto  \n0     20161005              7.0  \n1     20161006              7.0  \n2     20161007              7.0  \n3     20161008              7.0  \n4     20161009              7.0  ",
      "text/html": "<div>\n<style scoped>\n    .dataframe tbody tr th:only-of-type {\n        vertical-align: middle;\n    }\n\n    .dataframe tbody tr th {\n        vertical-align: top;\n    }\n\n    .dataframe thead th {\n        text-align: right;\n    }\n</style>\n<table border=\"1\" class=\"dataframe\">\n  <thead>\n    <tr style=\"text-align: right;\">\n      <th></th>\n      <th>idb</th>\n      <th>id_producto</th>\n      <th>fecha_desde</th>\n      <th>fecha_hasta</th>\n      <th>ventas_estimadas_und</th>\n      <th>nro_prom</th>\n      <th>fecha_trans</th>\n      <th>porcentaje_dcto</th>\n    </tr>\n  </thead>\n  <tbody>\n    <tr>\n      <th>0</th>\n      <td>242</td>\n      <td>228217</td>\n      <td>20161023</td>\n      <td>20161030</td>\n      <td>0.98</td>\n      <td>436830</td>\n      <td>20161005</td>\n      <td>7.0</td>\n    </tr>\n    <tr>\n      <th>1</th>\n      <td>242</td>\n      <td>228217</td>\n      <td>20161023</td>\n      <td>20161030</td>\n      <td>0.98</td>\n      <td>436830</td>\n      <td>20161006</td>\n      <td>7.0</td>\n    </tr>\n    <tr>\n      <th>2</th>\n      <td>242</td>\n      <td>228217</td>\n      <td>20161023</td>\n      <td>20161030</td>\n      <td>0.98</td>\n      <td>436830</td>\n      <td>20161007</td>\n      <td>7.0</td>\n    </tr>\n    <tr>\n      <th>3</th>\n      <td>242</td>\n      <td>228217</td>\n      <td>20161023</td>\n      <td>20161030</td>\n      <td>0.98</td>\n      <td>436830</td>\n      <td>20161008</td>\n      <td>7.0</td>\n    </tr>\n    <tr>\n      <th>4</th>\n      <td>242</td>\n      <td>228217</td>\n      <td>20161023</td>\n      <td>20161030</td>\n      <td>0.98</td>\n      <td>436830</td>\n      <td>20161009</td>\n      <td>7.0</td>\n    </tr>\n  </tbody>\n</table>\n</div>"
     },
     "execution_count": 4,
     "metadata": {},
     "output_type": "execute_result"
    }
   ],
   "source": [
    "promo_df.head()"
   ],
   "metadata": {
    "collapsed": false
   }
  },
  {
   "cell_type": "code",
   "execution_count": 5,
   "outputs": [
    {
     "name": "stdout",
     "output_type": "stream",
     "text": [
      "<class 'pandas.core.frame.DataFrame'>\n",
      "RangeIndex: 285253 entries, 0 to 285252\n",
      "Data columns (total 8 columns):\n",
      " #   Column                Non-Null Count   Dtype  \n",
      "---  ------                --------------   -----  \n",
      " 0   idb                   285253 non-null  int64  \n",
      " 1   id_producto           285253 non-null  int64  \n",
      " 2   fecha_desde           285253 non-null  int64  \n",
      " 3   fecha_hasta           285253 non-null  int64  \n",
      " 4   ventas_estimadas_und  285253 non-null  float64\n",
      " 5   nro_prom              285253 non-null  int64  \n",
      " 6   fecha_trans           285253 non-null  int64  \n",
      " 7   porcentaje_dcto       285253 non-null  float64\n",
      "dtypes: float64(2), int64(6)\n",
      "memory usage: 17.4 MB\n"
     ]
    }
   ],
   "source": [
    "promo_df.info()"
   ],
   "metadata": {
    "collapsed": false
   }
  },
  {
   "cell_type": "markdown",
   "source": [
    "#### Ajustes al dataframe\n",
    "- Convertir la columnas fecha_desde, fecha_hasta y fecha_trans a tipo de dato datetime.\n",
    "- Verificar si existen valores nulos y/o repetidos.\n",
    "- Obtener las fechas máximas y minimas de transaciones.\n",
    "- Crear una nueva columnas llamada duracion_promo para obtener el delta de tiempo entre la fecha_desde y la fecha_hasta de una promoción.\n",
    "- Obtener una análisis descriptivo de los datos."
   ],
   "metadata": {
    "collapsed": false
   }
  },
  {
   "cell_type": "code",
   "execution_count": 6,
   "outputs": [],
   "source": [
    "promo_df = convert_file(promo_df, 'fecha_desde',  'date')"
   ],
   "metadata": {
    "collapsed": false
   }
  },
  {
   "cell_type": "code",
   "execution_count": 7,
   "outputs": [],
   "source": [
    "promo_df = convert_file(promo_df, 'fecha_hasta',  'date')"
   ],
   "metadata": {
    "collapsed": false
   }
  },
  {
   "cell_type": "code",
   "execution_count": 10,
   "outputs": [],
   "source": [
    "promo_df = convert_file(promo_df, 'ventas_estimadas_und', 'int')"
   ],
   "metadata": {
    "collapsed": false
   }
  },
  {
   "cell_type": "code",
   "execution_count": 11,
   "outputs": [
    {
     "data": {
      "text/plain": "idb                     0\nid_producto             0\nfecha_desde             0\nfecha_hasta             0\nventas_estimadas_und    0\nnro_prom                0\nfecha_trans             0\nporcentaje_dcto         0\ndtype: int64"
     },
     "execution_count": 11,
     "metadata": {},
     "output_type": "execute_result"
    }
   ],
   "source": [
    "promo_df.isnull().sum(axis=0)"
   ],
   "metadata": {
    "collapsed": false
   }
  },
  {
   "cell_type": "code",
   "execution_count": 12,
   "outputs": [
    {
     "name": "stdout",
     "output_type": "stream",
     "text": [
      "El total de registros duplicados en el dataset es: 268692\n"
     ]
    }
   ],
   "source": [
    "# Identify the duplicate rows using a subset of columns\n",
    "subset_cols = ['idb', 'id_producto', 'fecha_desde', 'fecha_hasta', 'nro_prom', 'ventas_estimadas_und']\n",
    "duplicate_mask = promo_df.duplicated(subset=subset_cols, keep='first')\n",
    "\n",
    "# Count the number of duplicate rows\n",
    "total_duplicates = sum(duplicate_mask)\n",
    "\n",
    "# Remove the duplicate rows from promo_df\n",
    "promo_df = promo_df[~duplicate_mask]\n",
    "\n",
    "print(f\"El total de registros duplicados en el dataset es: {total_duplicates}\")"
   ],
   "metadata": {
    "collapsed": false
   }
  },
  {
   "cell_type": "markdown",
   "source": [
    "Después de analizar los datos, hemos encontrado 268,692 registros duplicados en la tabla de promociones. Estos registros tienen la misma información, excepto por la fecha de transacción. Como esta información no es relevante en este caso, la hemos eliminado de nuestro conjunto de datos.\n",
    "\n",
    "También hemos notado que la columna \"porcentaje_dcto\" parece tener información duplicada con la columna \"duracion_promo\". Después de revisar cuidadosamente los datos, hemos decidido eliminar la columna \"porcentaje_dcto\" y conservar solo la columna \"duracion_promo\" como la fuente de información para la duración de la promoción. La columna \"duracion_promo\" se ha creado calculando el tiempo transcurrido entre la fecha de inicio y la fecha de finalización de la promoción."
   ],
   "metadata": {
    "collapsed": false
   }
  },
  {
   "cell_type": "code",
   "execution_count": 13,
   "outputs": [],
   "source": [
    "promo_df['duracion_promo'] = (promo_df.fecha_hasta - promo_df.fecha_desde).astype('timedelta64[D]').astype(int)"
   ],
   "metadata": {
    "collapsed": false
   }
  },
  {
   "cell_type": "code",
   "execution_count": 14,
   "outputs": [
    {
     "name": "stdout",
     "output_type": "stream",
     "text": [
      "El total de registros después de eliminar duplicados es: 16561\n"
     ]
    }
   ],
   "source": [
    "# group the dataframe by all columns except 'ventas_estimadas_und'\n",
    "grouped = promo_df.groupby(['idb', 'id_producto', 'fecha_desde', 'fecha_hasta', 'nro_prom',  'duracion_promo'], as_index=False)\n",
    "\n",
    "# sum the 'ventas_estimadas_und' column for each group\n",
    "summed = grouped.agg({'ventas_estimadas_und': 'sum'})\n",
    "\n",
    "# drop the duplicated rows\n",
    "result = summed.drop_duplicates()\n",
    "\n",
    "print(f\"El total de registros después de eliminar duplicados es: {len(promo_df)}\")"
   ],
   "metadata": {
    "collapsed": false
   }
  },
  {
   "cell_type": "code",
   "execution_count": 15,
   "outputs": [
    {
     "name": "stdout",
     "output_type": "stream",
     "text": [
      "Minimum date: 2016-07-19 00:00:00\n",
      "Maximum date: 2019-07-16 00:00:00\n"
     ]
    }
   ],
   "source": [
    "min_date = result['fecha_desde'].min()\n",
    "max_date = result['fecha_hasta'].max()\n",
    "\n",
    "\n",
    "print(f\"Minimum date: {min_date}\")\n",
    "print(f\"Maximum date: {max_date}\")"
   ],
   "metadata": {
    "collapsed": false
   }
  },
  {
   "cell_type": "code",
   "execution_count": 16,
   "outputs": [
    {
     "data": {
      "text/plain": "                idb    id_producto       nro_prom  duracion_promo  \\\ncount  15270.000000   15270.000000   15270.000000    15270.000000   \nmean    7187.241257  388184.750491  472094.586182        8.320825   \nstd     3128.103999   84684.306020   38182.677713        2.885136   \nmin      242.000000  164146.000000  425196.000000        3.000000   \n25%     5208.000000  342682.000000  436830.000000        7.000000   \n50%     9036.000000  427445.000000  456807.000000        7.000000   \n75%     9160.000000  458395.000000  502704.000000        8.000000   \nmax     9977.000000  507528.000000  541066.000000       18.000000   \n\n       ventas_estimadas_und  \ncount          15270.000000  \nmean              22.427898  \nstd               29.979450  \nmin                0.000000  \n25%                4.000000  \n50%               12.000000  \n75%               30.000000  \nmax              300.000000  ",
      "text/html": "<div>\n<style scoped>\n    .dataframe tbody tr th:only-of-type {\n        vertical-align: middle;\n    }\n\n    .dataframe tbody tr th {\n        vertical-align: top;\n    }\n\n    .dataframe thead th {\n        text-align: right;\n    }\n</style>\n<table border=\"1\" class=\"dataframe\">\n  <thead>\n    <tr style=\"text-align: right;\">\n      <th></th>\n      <th>idb</th>\n      <th>id_producto</th>\n      <th>nro_prom</th>\n      <th>duracion_promo</th>\n      <th>ventas_estimadas_und</th>\n    </tr>\n  </thead>\n  <tbody>\n    <tr>\n      <th>count</th>\n      <td>15270.000000</td>\n      <td>15270.000000</td>\n      <td>15270.000000</td>\n      <td>15270.000000</td>\n      <td>15270.000000</td>\n    </tr>\n    <tr>\n      <th>mean</th>\n      <td>7187.241257</td>\n      <td>388184.750491</td>\n      <td>472094.586182</td>\n      <td>8.320825</td>\n      <td>22.427898</td>\n    </tr>\n    <tr>\n      <th>std</th>\n      <td>3128.103999</td>\n      <td>84684.306020</td>\n      <td>38182.677713</td>\n      <td>2.885136</td>\n      <td>29.979450</td>\n    </tr>\n    <tr>\n      <th>min</th>\n      <td>242.000000</td>\n      <td>164146.000000</td>\n      <td>425196.000000</td>\n      <td>3.000000</td>\n      <td>0.000000</td>\n    </tr>\n    <tr>\n      <th>25%</th>\n      <td>5208.000000</td>\n      <td>342682.000000</td>\n      <td>436830.000000</td>\n      <td>7.000000</td>\n      <td>4.000000</td>\n    </tr>\n    <tr>\n      <th>50%</th>\n      <td>9036.000000</td>\n      <td>427445.000000</td>\n      <td>456807.000000</td>\n      <td>7.000000</td>\n      <td>12.000000</td>\n    </tr>\n    <tr>\n      <th>75%</th>\n      <td>9160.000000</td>\n      <td>458395.000000</td>\n      <td>502704.000000</td>\n      <td>8.000000</td>\n      <td>30.000000</td>\n    </tr>\n    <tr>\n      <th>max</th>\n      <td>9977.000000</td>\n      <td>507528.000000</td>\n      <td>541066.000000</td>\n      <td>18.000000</td>\n      <td>300.000000</td>\n    </tr>\n  </tbody>\n</table>\n</div>"
     },
     "execution_count": 16,
     "metadata": {},
     "output_type": "execute_result"
    }
   ],
   "source": [
    "result.describe()"
   ],
   "metadata": {
    "collapsed": false
   }
  },
  {
   "cell_type": "markdown",
   "source": [
    "#### Observaciones dataset Promociones-20190715"
   ],
   "metadata": {
    "collapsed": false
   }
  },
  {
   "cell_type": "markdown",
   "source": [
    "1. El conjunto de datos contiene información sobre promociones realizadas desde el 19 de julio de 2016 hasta el 16 de julio de 2019.\n",
    "\n",
    "2. Hay un total de 15.270 registros y 8 columnas en el conjunto de datos, que se describen de la siguiente manera:\n",
    "\n",
    "    idb: Identificador interno de Boca\n",
    "    id_producto: Identificador interno del artículo\n",
    "    fecha_desde: Fecha de inicio de la promoción\n",
    "    fecha_hasta: Fecha de finalización de la promoción\n",
    "    ventas_estimadas_und: Estimación de ventas en unidades durante la promoción\n",
    "    nro_prom: Número de la promoción\n",
    "    duracion_promo: Duración de la promoción (diferencia entre fecha_desde y fecha_hasta)\n",
    "\n",
    "3. Observamos que hay 268.692 registros duplicados en la tabla de promociones. Estos registros comparten la misma fecha_desde,\n",
    "fecha_hasta, id_producto, idb, nro_prom y ventas_estimadas_und, diferenciándose únicamente por el valor de fecha_transacción. Por lo tanto, podemos concluir con certeza que estos registros son duplicados.\n",
    "\n",
    "4. Es importante tener en cuenta que esta tabla no registra transacciones, sino que registra el número de promoción, la fecha de inicio y final, y el valor estimado de las ventas en la promoción. Por esta razón, la fecha de transacción no es relevante en este caso.\n",
    "\n",
    "5. La media de ventas estimadas en unidades durante las promociones es de 22 unidades.\n",
    "\n",
    "6. La duración máxima de una promoción es de 18 días, mientras que la duración mínima es de 8 días, la media es de 8 días."
   ],
   "metadata": {
    "collapsed": false
   }
  },
  {
   "cell_type": "markdown",
   "source": [
    "### Guardar el dataset limpio"
   ],
   "metadata": {
    "collapsed": false
   }
  },
  {
   "cell_type": "code",
   "execution_count": 17,
   "outputs": [],
   "source": [
    "promo_df.to_csv('../clean_data/promociones_clean.csv', index=False)"
   ],
   "metadata": {
    "collapsed": false
   }
  },
  {
   "cell_type": "markdown",
   "source": [
    "#### Subir csv a google cloud storage"
   ],
   "metadata": {
    "collapsed": false
   }
  },
  {
   "cell_type": "code",
   "execution_count": 18,
   "outputs": [
    {
     "name": "stdout",
     "output_type": "stream",
     "text": [
      "File ../clean_data/promociones_clean.csv uploaded successfully to bucket deodorants/promociones\n"
     ]
    }
   ],
   "source": [
    "upload_to_bucket('deodorants', '../clean_data/promociones_clean.csv', 'promociones')"
   ],
   "metadata": {
    "collapsed": false
   }
  }
 ],
 "metadata": {
  "kernelspec": {
   "display_name": "Python 3 (ipykernel)",
   "language": "python",
   "name": "python3"
  },
  "language_info": {
   "codemirror_mode": {
    "name": "ipython",
    "version": 3
   },
   "file_extension": ".py",
   "mimetype": "text/x-python",
   "name": "python",
   "nbconvert_exporter": "python",
   "pygments_lexer": "ipython3",
   "version": "3.10.8"
  },
  "toc": {
   "base_numbering": 1,
   "nav_menu": {},
   "number_sections": true,
   "sideBar": true,
   "skip_h1_title": false,
   "title_cell": "Table of Contents",
   "title_sidebar": "Contents",
   "toc_cell": false,
   "toc_position": {},
   "toc_section_display": true,
   "toc_window_display": false
  },
  "varInspector": {
   "cols": {
    "lenName": 16,
    "lenType": 16,
    "lenVar": 40
   },
   "kernels_config": {
    "python": {
     "delete_cmd_postfix": "",
     "delete_cmd_prefix": "del ",
     "library": "var_list.py",
     "varRefreshCmd": "print(var_dic_list())"
    },
    "r": {
     "delete_cmd_postfix": ") ",
     "delete_cmd_prefix": "rm(",
     "library": "var_list.r",
     "varRefreshCmd": "cat(var_dic_list()) "
    }
   },
   "types_to_exclude": [
    "module",
    "function",
    "builtin_function_or_method",
    "instance",
    "_Feature"
   ],
   "window_display": false
  }
 },
 "nbformat": 4,
 "nbformat_minor": 5
}
