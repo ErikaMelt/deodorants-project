{
 "cells": [
  {
   "cell_type": "markdown",
   "source": [
    "# Limpieza de Datos Dataset Promociones-20190715"
   ],
   "metadata": {
    "collapsed": false
   }
  },
  {
   "cell_type": "code",
   "execution_count": 3,
   "outputs": [],
   "source": [
    "import pandas as pd\n",
    "from utils_functions import convert_file, upload_to_bucket"
   ],
   "metadata": {
    "collapsed": false
   }
  },
  {
   "cell_type": "markdown",
   "source": [
    "#### Importar el dataset y observar los primeros registros con head y verificar los tipos de datos con el método info."
   ],
   "metadata": {
    "collapsed": false
   }
  },
  {
   "cell_type": "code",
   "execution_count": 4,
   "outputs": [],
   "source": [
    "promo_col_names = [\n",
    "        'idb', 'id_producto', 'fecha_desde', 'fecha_hasta', 'ventas_estimadas_und',\n",
    "        'nro_prom', 'fecha_trans', 'porcentaje_dcto'\n",
    "]"
   ],
   "metadata": {
    "collapsed": false
   }
  },
  {
   "cell_type": "code",
   "execution_count": 5,
   "outputs": [],
   "source": [
    "promo_df = pd.read_csv(\"../data/VMI_Promociones-20190715.txt\",\n",
    "                       encoding=\"utf-8\",\n",
    "                       header=None,\n",
    "                       delimiter='\\t',\n",
    "                       names=promo_col_names)"
   ],
   "metadata": {
    "collapsed": false
   }
  },
  {
   "cell_type": "code",
   "execution_count": 6,
   "outputs": [
    {
     "data": {
      "text/plain": "   idb  id_producto  fecha_desde  fecha_hasta  ventas_estimadas_und  nro_prom  \\\n0  242       228217     20161023     20161030                  0.98    436830   \n1  242       228217     20161023     20161030                  0.98    436830   \n2  242       228217     20161023     20161030                  0.98    436830   \n3  242       228217     20161023     20161030                  0.98    436830   \n4  242       228217     20161023     20161030                  0.98    436830   \n\n   fecha_trans  porcentaje_dcto  \n0     20161005              7.0  \n1     20161006              7.0  \n2     20161007              7.0  \n3     20161008              7.0  \n4     20161009              7.0  ",
      "text/html": "<div>\n<style scoped>\n    .dataframe tbody tr th:only-of-type {\n        vertical-align: middle;\n    }\n\n    .dataframe tbody tr th {\n        vertical-align: top;\n    }\n\n    .dataframe thead th {\n        text-align: right;\n    }\n</style>\n<table border=\"1\" class=\"dataframe\">\n  <thead>\n    <tr style=\"text-align: right;\">\n      <th></th>\n      <th>idb</th>\n      <th>id_producto</th>\n      <th>fecha_desde</th>\n      <th>fecha_hasta</th>\n      <th>ventas_estimadas_und</th>\n      <th>nro_prom</th>\n      <th>fecha_trans</th>\n      <th>porcentaje_dcto</th>\n    </tr>\n  </thead>\n  <tbody>\n    <tr>\n      <th>0</th>\n      <td>242</td>\n      <td>228217</td>\n      <td>20161023</td>\n      <td>20161030</td>\n      <td>0.98</td>\n      <td>436830</td>\n      <td>20161005</td>\n      <td>7.0</td>\n    </tr>\n    <tr>\n      <th>1</th>\n      <td>242</td>\n      <td>228217</td>\n      <td>20161023</td>\n      <td>20161030</td>\n      <td>0.98</td>\n      <td>436830</td>\n      <td>20161006</td>\n      <td>7.0</td>\n    </tr>\n    <tr>\n      <th>2</th>\n      <td>242</td>\n      <td>228217</td>\n      <td>20161023</td>\n      <td>20161030</td>\n      <td>0.98</td>\n      <td>436830</td>\n      <td>20161007</td>\n      <td>7.0</td>\n    </tr>\n    <tr>\n      <th>3</th>\n      <td>242</td>\n      <td>228217</td>\n      <td>20161023</td>\n      <td>20161030</td>\n      <td>0.98</td>\n      <td>436830</td>\n      <td>20161008</td>\n      <td>7.0</td>\n    </tr>\n    <tr>\n      <th>4</th>\n      <td>242</td>\n      <td>228217</td>\n      <td>20161023</td>\n      <td>20161030</td>\n      <td>0.98</td>\n      <td>436830</td>\n      <td>20161009</td>\n      <td>7.0</td>\n    </tr>\n  </tbody>\n</table>\n</div>"
     },
     "execution_count": 6,
     "metadata": {},
     "output_type": "execute_result"
    }
   ],
   "source": [
    "promo_df.head()"
   ],
   "metadata": {
    "collapsed": false
   }
  },
  {
   "cell_type": "code",
   "execution_count": 7,
   "outputs": [
    {
     "name": "stdout",
     "output_type": "stream",
     "text": [
      "<class 'pandas.core.frame.DataFrame'>\n",
      "RangeIndex: 285253 entries, 0 to 285252\n",
      "Data columns (total 8 columns):\n",
      " #   Column                Non-Null Count   Dtype  \n",
      "---  ------                --------------   -----  \n",
      " 0   idb                   285253 non-null  int64  \n",
      " 1   id_producto           285253 non-null  int64  \n",
      " 2   fecha_desde           285253 non-null  int64  \n",
      " 3   fecha_hasta           285253 non-null  int64  \n",
      " 4   ventas_estimadas_und  285253 non-null  float64\n",
      " 5   nro_prom              285253 non-null  int64  \n",
      " 6   fecha_trans           285253 non-null  int64  \n",
      " 7   porcentaje_dcto       285253 non-null  float64\n",
      "dtypes: float64(2), int64(6)\n",
      "memory usage: 17.4 MB\n"
     ]
    }
   ],
   "source": [
    "promo_df.info()"
   ],
   "metadata": {
    "collapsed": false
   }
  },
  {
   "cell_type": "markdown",
   "source": [
    "#### Ajustes al dataframe\n",
    "- Convertir la columnas fecha_desde, fecha_hasta y fecha_trans a tipo de dato datetime.\n",
    "- Verificar si existen valores nulos y/o repetidos.\n",
    "- Obtener las fechas máximas y minimas de transaciones.\n",
    "- Crear una nueva columnas llamada duracion_promo para obtener el delta de tiempo entre la fecha_desde y la fecha_hasta de una promoción.\n",
    "- Obtener una análisis descriptivo de los datos."
   ],
   "metadata": {
    "collapsed": false
   }
  },
  {
   "cell_type": "code",
   "execution_count": 8,
   "outputs": [],
   "source": [
    "promo_df = convert_file(promo_df, 'fecha_desde',  'date')"
   ],
   "metadata": {
    "collapsed": false
   }
  },
  {
   "cell_type": "code",
   "execution_count": 9,
   "outputs": [],
   "source": [
    "promo_df = convert_file(promo_df, 'fecha_hasta',  'date')"
   ],
   "metadata": {
    "collapsed": false
   }
  },
  {
   "cell_type": "code",
   "execution_count": 10,
   "outputs": [],
   "source": [
    "promo_df = convert_file(promo_df, 'fecha_trans', 'date')"
   ],
   "metadata": {
    "collapsed": false
   }
  },
  {
   "cell_type": "code",
   "execution_count": 11,
   "outputs": [
    {
     "data": {
      "text/plain": "idb                     0\nid_producto             0\nfecha_desde             0\nfecha_hasta             0\nventas_estimadas_und    0\nnro_prom                0\nfecha_trans             0\nporcentaje_dcto         0\ndtype: int64"
     },
     "execution_count": 11,
     "metadata": {},
     "output_type": "execute_result"
    }
   ],
   "source": [
    "promo_df.isnull().sum(axis=0)"
   ],
   "metadata": {
    "collapsed": false
   }
  },
  {
   "cell_type": "code",
   "execution_count": 12,
   "outputs": [
    {
     "name": "stdout",
     "output_type": "stream",
     "text": [
      "El total de registros duplicados en el dataset es: 268557\n",
      "El total de registros después de eliminar duplicados es: 16696\n"
     ]
    }
   ],
   "source": [
    "# Identify the duplicate rows using a subset of columns\n",
    "subset_cols = ['idb', 'id_producto', 'fecha_desde', 'fecha_hasta', 'nro_prom', 'ventas_estimadas_und']\n",
    "duplicate_mask = promo_df.duplicated(subset=subset_cols, keep='first')\n",
    "\n",
    "# Count the number of duplicate rows\n",
    "total_duplicates = sum(duplicate_mask)\n",
    "\n",
    "# Remove the duplicate rows from promo_df\n",
    "promo_df = promo_df[~duplicate_mask]\n",
    "\n",
    "print(f\"El total de registros duplicados en el dataset es: {total_duplicates}\")\n",
    "print(f\"El total de registros después de eliminar duplicados es: {len(promo_df)}\")\n"
   ],
   "metadata": {
    "collapsed": false
   }
  },
  {
   "cell_type": "markdown",
   "source": [
    "Observamos que existen 268557 registros duplicados en la tabla de promociones. Esto significa que estos registros comparten la misma fecha_desde y fecha_hasta, el mismo id_producto y idb, y el mismo número de promoción y número de ventas estimadas en la promoción, diferenciándose únicamente por el valor de fecha de transacción. Por lo tanto, podemos concluir con certeza que estos registros son duplicados.\n",
    "\n",
    "Es importante tener en cuenta que esta tabla no registra transacciones, sino que registra el número de promoción, la fecha de inicio y final, y el valor estimado de las ventas en la promoción. Por esta razón, la fecha de transacción no es relevante en este caso."
   ],
   "metadata": {
    "collapsed": false
   }
  },
  {
   "cell_type": "code",
   "execution_count": 14,
   "outputs": [],
   "source": [
    "promo_df['duracion_promo'] = (promo_df.fecha_hasta - promo_df.fecha_desde).astype('timedelta64[D]').astype(int)"
   ],
   "metadata": {
    "collapsed": false
   }
  },
  {
   "cell_type": "code",
   "execution_count": 15,
   "outputs": [
    {
     "data": {
      "text/plain": "   idb  id_producto fecha_desde fecha_hasta  nro_prom  duracion_promo  \\\n0  242       228217  2016-10-23  2016-10-30    436830               7   \n1  242       228217  2016-11-21  2016-11-28    440561               7   \n2  242       240911  2016-07-23  2016-07-30    425200               7   \n3  242       240911  2016-09-18  2016-09-25    432776               7   \n4  242       240911  2016-10-23  2016-10-30    436830               7   \n\n   ventas_estimadas_und  \n0                  0.98  \n1                 60.08  \n2                  6.51  \n3                 25.50  \n4                 24.11  ",
      "text/html": "<div>\n<style scoped>\n    .dataframe tbody tr th:only-of-type {\n        vertical-align: middle;\n    }\n\n    .dataframe tbody tr th {\n        vertical-align: top;\n    }\n\n    .dataframe thead th {\n        text-align: right;\n    }\n</style>\n<table border=\"1\" class=\"dataframe\">\n  <thead>\n    <tr style=\"text-align: right;\">\n      <th></th>\n      <th>idb</th>\n      <th>id_producto</th>\n      <th>fecha_desde</th>\n      <th>fecha_hasta</th>\n      <th>nro_prom</th>\n      <th>duracion_promo</th>\n      <th>ventas_estimadas_und</th>\n    </tr>\n  </thead>\n  <tbody>\n    <tr>\n      <th>0</th>\n      <td>242</td>\n      <td>228217</td>\n      <td>2016-10-23</td>\n      <td>2016-10-30</td>\n      <td>436830</td>\n      <td>7</td>\n      <td>0.98</td>\n    </tr>\n    <tr>\n      <th>1</th>\n      <td>242</td>\n      <td>228217</td>\n      <td>2016-11-21</td>\n      <td>2016-11-28</td>\n      <td>440561</td>\n      <td>7</td>\n      <td>60.08</td>\n    </tr>\n    <tr>\n      <th>2</th>\n      <td>242</td>\n      <td>240911</td>\n      <td>2016-07-23</td>\n      <td>2016-07-30</td>\n      <td>425200</td>\n      <td>7</td>\n      <td>6.51</td>\n    </tr>\n    <tr>\n      <th>3</th>\n      <td>242</td>\n      <td>240911</td>\n      <td>2016-09-18</td>\n      <td>2016-09-25</td>\n      <td>432776</td>\n      <td>7</td>\n      <td>25.50</td>\n    </tr>\n    <tr>\n      <th>4</th>\n      <td>242</td>\n      <td>240911</td>\n      <td>2016-10-23</td>\n      <td>2016-10-30</td>\n      <td>436830</td>\n      <td>7</td>\n      <td>24.11</td>\n    </tr>\n  </tbody>\n</table>\n</div>"
     },
     "execution_count": 15,
     "metadata": {},
     "output_type": "execute_result"
    }
   ],
   "source": [
    "# group the dataframe by all columns except 'ventas_estimadas_und'\n",
    "grouped = promo_df.groupby(['idb', 'id_producto', 'fecha_desde', 'fecha_hasta', 'nro_prom',  'duracion_promo'], as_index=False)\n",
    "\n",
    "# sum the 'ventas_estimadas_und' column for each group\n",
    "summed = grouped.agg({'ventas_estimadas_und': 'sum'})\n",
    "\n",
    "# drop the duplicated rows\n",
    "result = summed.drop_duplicates()\n",
    "\n",
    "result.head()\n",
    "\n"
   ],
   "metadata": {
    "collapsed": false
   }
  },
  {
   "cell_type": "code",
   "execution_count": 17,
   "outputs": [
    {
     "data": {
      "text/plain": "       idb  id_producto fecha_desde fecha_hasta  nro_prom  duracion_promo  \\\n2601  5202       427444  2016-08-16  2016-08-23    428908               7   \n2602  5202       427444  2017-01-16  2017-01-23    446144               7   \n2603  5202       427444  2017-04-17  2017-04-24    456807               7   \n2604  5202       427444  2017-09-19  2017-09-26    473864               7   \n2605  5202       427444  2017-11-21  2017-11-28    480036               7   \n2606  5202       427444  2018-03-18  2018-03-25    491206               7   \n2607  5202       427444  2018-04-21  2018-04-28    493122               7   \n2608  5202       427444  2019-03-17  2019-03-24    527744               7   \n\n      ventas_estimadas_und  \n2601                 61.47  \n2602                 53.56  \n2603                 62.52  \n2604                 44.03  \n2605                 39.00  \n2606                 34.09  \n2607                 38.01  \n2608                  5.88  ",
      "text/html": "<div>\n<style scoped>\n    .dataframe tbody tr th:only-of-type {\n        vertical-align: middle;\n    }\n\n    .dataframe tbody tr th {\n        vertical-align: top;\n    }\n\n    .dataframe thead th {\n        text-align: right;\n    }\n</style>\n<table border=\"1\" class=\"dataframe\">\n  <thead>\n    <tr style=\"text-align: right;\">\n      <th></th>\n      <th>idb</th>\n      <th>id_producto</th>\n      <th>fecha_desde</th>\n      <th>fecha_hasta</th>\n      <th>nro_prom</th>\n      <th>duracion_promo</th>\n      <th>ventas_estimadas_und</th>\n    </tr>\n  </thead>\n  <tbody>\n    <tr>\n      <th>2601</th>\n      <td>5202</td>\n      <td>427444</td>\n      <td>2016-08-16</td>\n      <td>2016-08-23</td>\n      <td>428908</td>\n      <td>7</td>\n      <td>61.47</td>\n    </tr>\n    <tr>\n      <th>2602</th>\n      <td>5202</td>\n      <td>427444</td>\n      <td>2017-01-16</td>\n      <td>2017-01-23</td>\n      <td>446144</td>\n      <td>7</td>\n      <td>53.56</td>\n    </tr>\n    <tr>\n      <th>2603</th>\n      <td>5202</td>\n      <td>427444</td>\n      <td>2017-04-17</td>\n      <td>2017-04-24</td>\n      <td>456807</td>\n      <td>7</td>\n      <td>62.52</td>\n    </tr>\n    <tr>\n      <th>2604</th>\n      <td>5202</td>\n      <td>427444</td>\n      <td>2017-09-19</td>\n      <td>2017-09-26</td>\n      <td>473864</td>\n      <td>7</td>\n      <td>44.03</td>\n    </tr>\n    <tr>\n      <th>2605</th>\n      <td>5202</td>\n      <td>427444</td>\n      <td>2017-11-21</td>\n      <td>2017-11-28</td>\n      <td>480036</td>\n      <td>7</td>\n      <td>39.00</td>\n    </tr>\n    <tr>\n      <th>2606</th>\n      <td>5202</td>\n      <td>427444</td>\n      <td>2018-03-18</td>\n      <td>2018-03-25</td>\n      <td>491206</td>\n      <td>7</td>\n      <td>34.09</td>\n    </tr>\n    <tr>\n      <th>2607</th>\n      <td>5202</td>\n      <td>427444</td>\n      <td>2018-04-21</td>\n      <td>2018-04-28</td>\n      <td>493122</td>\n      <td>7</td>\n      <td>38.01</td>\n    </tr>\n    <tr>\n      <th>2608</th>\n      <td>5202</td>\n      <td>427444</td>\n      <td>2019-03-17</td>\n      <td>2019-03-24</td>\n      <td>527744</td>\n      <td>7</td>\n      <td>5.88</td>\n    </tr>\n  </tbody>\n</table>\n</div>"
     },
     "execution_count": 17,
     "metadata": {},
     "output_type": "execute_result"
    }
   ],
   "source": [
    "result[(result['idb']==5202) & (result['id_producto']==427444) ]"
   ],
   "metadata": {
    "collapsed": false
   }
  },
  {
   "cell_type": "code",
   "execution_count": null,
   "outputs": [],
   "source": [
    "min_date = promo_df['fecha_desde'].min()\n",
    "max_date = promo_df['fecha_hasta'].max()\n",
    "\n",
    "\n",
    "print(f\"Minimum date: {min_date}\")\n",
    "print(f\"Maximum date: {max_date}\")"
   ],
   "metadata": {
    "collapsed": false
   }
  },
  {
   "cell_type": "code",
   "execution_count": null,
   "outputs": [],
   "source": [
    "min_date = promo_df['fecha_trans'].min()\n",
    "max_date = promo_df['fecha_trans'].max()\n",
    "\n",
    "print(f\"Minimum date: {min_date}\")\n",
    "print(f\"Maximum date: {max_date}\")"
   ],
   "metadata": {
    "collapsed": false
   }
  },
  {
   "cell_type": "markdown",
   "source": [
    "Luego de una revisión cuidadosa de los datos, hemos encontrado que la columna 'porcentaje_dcto' parece contener información duplicada con la columna 'duracion_promo'. Aunque inicialmente obtuvimos el valor de 'porcentaje_dcto' directamente del archivo de texto, no estamos seguros de su precisión y consideramos la columna 'duracion_promo' como una mejor fuente de información para inferir el nivel de agresividad de la promoción, tal como se describe en la estructura de datos.\n",
    "\n",
    "Dado que las dos columnas contienen información similar y que 'duracion_promo' es una mejor fuente de información, hemos decidido eliminar la columna 'porcentaje_dcto' y conservar solo 'duracion_promo' como la columna representativa de la duración de la promoción."
   ],
   "metadata": {
    "collapsed": false
   }
  },
  {
   "cell_type": "code",
   "execution_count": null,
   "outputs": [],
   "source": [
    "promo_df.drop('porcentaje_dcto', axis=1, inplace=True)"
   ],
   "metadata": {
    "collapsed": false
   }
  },
  {
   "cell_type": "code",
   "execution_count": null,
   "outputs": [],
   "source": [
    "promo_df.describe()"
   ],
   "metadata": {
    "collapsed": false
   }
  },
  {
   "cell_type": "markdown",
   "source": [
    "#### Observaciones dataset Promociones-20190715"
   ],
   "metadata": {
    "collapsed": false
   }
  },
  {
   "cell_type": "markdown",
   "source": [
    "1. El conjunto de datos contiene información sobre promociones realizadas desde el 19 de julio de 2016 hasta el 16 de julio de 2019.\n",
    "\n",
    "2. Hay un total de 16,696 registros y 8 columnas en el conjunto de datos, que se describen de la siguiente manera:\n",
    "\n",
    "    idb: Identificador interno de Boca\n",
    "    id_producto: Identificador interno del artículo\n",
    "    fecha_desde: Fecha de inicio de la promoción\n",
    "    fecha_hasta: Fecha de finalización de la promoción\n",
    "    ventas_estimadas_und: Estimación de ventas en unidades durante la promoción\n",
    "    nro_prom: Número de la promoción\n",
    "    fecha_trans: Fecha de la información\n",
    "    duracion_promo: Duración de la promoción (diferencia entre fecha_desde y fecha_hasta)\n",
    "\n",
    "3. Observamos que hay 268,557 registros duplicados en la tabla de promociones. Estos registros comparten la misma fecha_desde,\n",
    "fecha_hasta, id_producto, idb, nro_prom y ventas_estimadas_und, diferenciándose únicamente por el valor de fecha_transacción. Por lo tanto, podemos concluir con certeza que estos registros son duplicados.\n",
    "\n",
    "4. Es importante tener en cuenta que esta tabla no registra transacciones, sino que registra el número de promoción, la fecha de inicio y final, y el valor estimado de las ventas en la promoción. Por esta razón, la fecha de transacción no es relevante en este caso.\n",
    "\n",
    "5. La media de ventas estimadas en unidades durante las promociones es de 20.88 unidades.\n",
    "\n",
    "6. La duración máxima de una promoción es de 18 días, mientras que la duración mínima es de 8 días, la media es de 8 días."
   ],
   "metadata": {
    "collapsed": false
   }
  },
  {
   "cell_type": "markdown",
   "source": [
    "### Guardar el dataset limpio"
   ],
   "metadata": {
    "collapsed": false
   }
  },
  {
   "cell_type": "code",
   "execution_count": null,
   "outputs": [],
   "source": [
    "promo_df.to_csv('../clean_data/promociones_clean.csv', index=False)"
   ],
   "metadata": {
    "collapsed": false
   }
  },
  {
   "cell_type": "markdown",
   "source": [
    "#### Subir csv a google cloud storage"
   ],
   "metadata": {
    "collapsed": false
   }
  },
  {
   "cell_type": "code",
   "execution_count": null,
   "outputs": [],
   "source": [
    "upload_to_bucket('deodorants', '../clean_data/promociones_clean.csv', 'promociones')"
   ],
   "metadata": {
    "collapsed": false
   }
  },
  {
   "cell_type": "code",
   "execution_count": null,
   "outputs": [],
   "source": [],
   "metadata": {
    "collapsed": false
   }
  }
 ],
 "metadata": {
  "kernelspec": {
   "display_name": "Python 3 (ipykernel)",
   "language": "python",
   "name": "python3"
  },
  "language_info": {
   "codemirror_mode": {
    "name": "ipython",
    "version": 3
   },
   "file_extension": ".py",
   "mimetype": "text/x-python",
   "name": "python",
   "nbconvert_exporter": "python",
   "pygments_lexer": "ipython3",
   "version": "3.10.8"
  },
  "toc": {
   "base_numbering": 1,
   "nav_menu": {},
   "number_sections": true,
   "sideBar": true,
   "skip_h1_title": false,
   "title_cell": "Table of Contents",
   "title_sidebar": "Contents",
   "toc_cell": false,
   "toc_position": {},
   "toc_section_display": true,
   "toc_window_display": false
  },
  "varInspector": {
   "cols": {
    "lenName": 16,
    "lenType": 16,
    "lenVar": 40
   },
   "kernels_config": {
    "python": {
     "delete_cmd_postfix": "",
     "delete_cmd_prefix": "del ",
     "library": "var_list.py",
     "varRefreshCmd": "print(var_dic_list())"
    },
    "r": {
     "delete_cmd_postfix": ") ",
     "delete_cmd_prefix": "rm(",
     "library": "var_list.r",
     "varRefreshCmd": "cat(var_dic_list()) "
    }
   },
   "types_to_exclude": [
    "module",
    "function",
    "builtin_function_or_method",
    "instance",
    "_Feature"
   ],
   "window_display": false
  }
 },
 "nbformat": 4,
 "nbformat_minor": 5
}
