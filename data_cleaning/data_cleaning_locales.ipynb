{
 "cells": [
  {
   "cell_type": "markdown",
   "source": [
    "# Limpieza de Datos Locales 20190712"
   ],
   "metadata": {
    "collapsed": false
   }
  },
  {
   "cell_type": "code",
   "execution_count": 453,
   "id": "396705b3",
   "metadata": {},
   "outputs": [],
   "source": [
    "import pandas as pd\n",
    "from utils_functions import  upload_to_bucket"
   ]
  },
  {
   "cell_type": "markdown",
   "id": "dbd04701",
   "metadata": {},
   "source": [
    "# Importar Datasets"
   ]
  },
  {
   "cell_type": "code",
   "execution_count": 454,
   "outputs": [],
   "source": [
    "locales_col_names = [\n",
    "    'id_cadena', 'desc_cadena', 'id_region', 'desc_region', 'idb',\n",
    "    'desc_local', 'latitud', 'longitud', 'punto_dist'\n",
    "]\n",
    "\n",
    "dtypes = {\n",
    "    'desc_region': 'string',\n",
    "    'desc_local': 'string',\n",
    "    'punto_dist': 'string',\n",
    "}"
   ],
   "metadata": {
    "collapsed": false
   }
  },
  {
   "cell_type": "code",
   "execution_count": 455,
   "outputs": [],
   "source": [
    "locales_df = pd.read_csv(\"../data/Locales.txt\",\n",
    "                         encoding=\"UTF-8\",\n",
    "                         header=None,\n",
    "                         delimiter='\\t',\n",
    "                         names=locales_col_names,\n",
    "                         dtype=dtypes)"
   ],
   "metadata": {
    "collapsed": false
   }
  },
  {
   "cell_type": "code",
   "execution_count": 456,
   "outputs": [
    {
     "data": {
      "text/plain": "    id_cadena                     desc_cadena  id_region  \\\n0           1  Plaza Vea                               1   \n1           1  Plaza Vea                               1   \n2           1  Plaza Vea                               1   \n3           1  Plaza Vea                               1   \n4           1  Plaza Vea                               1   \n5           2  Disco                                   1   \n6           2  Disco                                   1   \n7           2  Disco                                   1   \n8           2  Disco                                   1   \n9           2  Disco                                   1   \n10          2  Disco                                   1   \n11          2  Disco                                   1   \n12          2  Disco                                   1   \n13          2  Disco                                   1   \n14          2  Disco                                   1   \n15          2  Disco                                   1   \n16          2  Disco                                   1   \n17          2  Disco                                   1   \n18          2  Disco                                   1   \n19          2  Disco                                   1   \n20          2  Disco                                   1   \n21          2  Disco                                   1   \n22          2  Disco                                   1   \n23          2  Disco                                   1   \n24          2  Disco                                   1   \n25          2  Disco                                   1   \n26          2  Disco                                   1   \n27          2  Disco                                   1   \n28          2  Disco                                   1   \n29          2  Disco                                   1   \n30          2  Disco                                   1   \n31          2  Disco                                   1   \n32          2  Disco                                   1   \n33          2  Disco                                   1   \n34          2  Disco                                   1   \n35          2  Disco                                   1   \n36          2  Disco                                   1   \n37          2  Disco                                   1   \n38          2  Disco                                   1   \n39          2  Disco                                   1   \n\n                       desc_region   idb                      desc_local  \\\n0   Buenos Aires                    9693     9693 - P Vea Villa Urquiza.   \n1   Buenos Aires                    9694          9694 - P Vea JB Justo.   \n2   Buenos Aires                    9695             695 - P Vea Acoyte.   \n3   Buenos Aires                    9699          699 - P Vea Rivadavia.   \n4   Buenos Aires                    9889  889 - Plaza Vea Carpa de liqui   \n5   Buenos Aires                     247         916 - SM 916 Gorostiaga   \n6   Buenos Aires                     257                61 - Tortuguitas   \n7   Buenos Aires                     285             953 - Venado Tuerto   \n8   Buenos Aires                     740                   740 - Canning   \n9   Buenos Aires                     961              961 - Av. Santa FÇ   \n10  Buenos Aires                    1190  6190 - BT SAF (Importaciones).   \n11  Buenos Aires                    1914    3914 - Interno SLL BsAs 217.   \n12  Buenos Aires                    9001                 1 - San Isidro.   \n13  Buenos Aires                    9002                 2 - Talcahuano.   \n14  Buenos Aires                    9003                    3 - Camacua.   \n15  Buenos Aires                    9004              4 - Vicente L¢pez.   \n16  Buenos Aires                    9007                 7 - Pte. Per¢n.   \n17  Buenos Aires                    9009            9 - Lomas de Zamora.   \n18  Buenos Aires                    9012                     12 - Sucre.   \n19  Buenos Aires                    9014                14 - Las Heras..   \n20  Buenos Aires                    9015                  15 - Salguero.   \n21  Buenos Aires                    9016                  16 - Paraguay.   \n22  Buenos Aires                    9017           17 - Virrey del Pino.   \n23  Buenos Aires                    9018                  18 - Quintana.   \n24  Buenos Aires                    9022                  22 - Santa Fe.   \n25  Buenos Aires                    9023              23 - Alto Palermo.   \n26  Buenos Aires                    9025            25 - Rodr°guez Pe§a.   \n27  Buenos Aires                    9026                26 - Av. Callao.   \n28  Buenos Aires                    9030                 30 - Rivadavia.   \n29  Buenos Aires                    9035                   35 - Uriburu.   \n30  Buenos Aires                    9037                   37 - AdroguÇ.   \n31  Buenos Aires                    9038                     38 - Arcos.   \n32  Buenos Aires                    9039                      39 - Pe§a.   \n33  Buenos Aires                    9042                42 - La Plata I.   \n34  Buenos Aires                    9045          45 - Gesell Boulevard.   \n35  Buenos Aires                    9046                 46 - Esmeralda.   \n36  Buenos Aires                    9048                    48 - Gasc¢n.   \n37  Buenos Aires                    9049                   49 - Pinamar.   \n38  Buenos Aires                    9050            50 - Gesell Central.   \n39  Buenos Aires                    9054                    54 - Elcano.   \n\n      latitud   longitud punto_dist  \n0         NaN        NaN          N  \n1         NaN        NaN          N  \n2    0.000000   0.000000          N  \n3    0.000000   0.000000          N  \n4         NaN        NaN          N  \n5  -34.565259 -58.436583          N  \n6  -34.446043 -58.745098          N  \n7         NaN        NaN          N  \n8  -34.853221 -58.502247          N  \n9         NaN        NaN          N  \n10        NaN        NaN          S  \n11        NaN        NaN          S  \n12 -34.471531 -58.515350          N  \n13 -34.596256 -58.385701          N  \n14 -34.627893 -58.458295          N  \n15 -34.520825 -58.485332          N  \n16   0.000000   0.000000          N  \n17 -34.764091 -58.398621          N  \n18 -34.560842 -58.449841          N  \n19 -34.581691 -58.414435          N  \n20 -34.580101 -58.408191          N  \n21 -34.586090 -58.422310          N  \n22 -34.566744 -58.453445          N  \n23 -34.589375 -58.388536          N  \n24 -34.590488 -58.408384          N  \n25 -34.587061 -58.410916          N  \n26 -34.593032 -58.391347          N  \n27 -34.608787 -58.392012          N  \n28 -34.617352 -58.434391          N  \n29 -34.593885 -58.397898          N  \n30 -34.798951 -58.404243          N  \n31 -34.561708 -58.452373          N  \n32 -34.585935 -58.405188          N  \n33 -34.934655 -57.975326          N  \n34 -37.259025 -56.982672          N  \n35 -34.591519 -58.378118          N  \n36 -34.603435 -58.424113          N  \n37 -37.108689 -56.871028          N  \n38 -37.263550 -56.974521          N  \n39 -34.572857 -58.459282          N  ",
      "text/html": "<div>\n<style scoped>\n    .dataframe tbody tr th:only-of-type {\n        vertical-align: middle;\n    }\n\n    .dataframe tbody tr th {\n        vertical-align: top;\n    }\n\n    .dataframe thead th {\n        text-align: right;\n    }\n</style>\n<table border=\"1\" class=\"dataframe\">\n  <thead>\n    <tr style=\"text-align: right;\">\n      <th></th>\n      <th>id_cadena</th>\n      <th>desc_cadena</th>\n      <th>id_region</th>\n      <th>desc_region</th>\n      <th>idb</th>\n      <th>desc_local</th>\n      <th>latitud</th>\n      <th>longitud</th>\n      <th>punto_dist</th>\n    </tr>\n  </thead>\n  <tbody>\n    <tr>\n      <th>0</th>\n      <td>1</td>\n      <td>Plaza Vea</td>\n      <td>1</td>\n      <td>Buenos Aires</td>\n      <td>9693</td>\n      <td>9693 - P Vea Villa Urquiza.</td>\n      <td>NaN</td>\n      <td>NaN</td>\n      <td>N</td>\n    </tr>\n    <tr>\n      <th>1</th>\n      <td>1</td>\n      <td>Plaza Vea</td>\n      <td>1</td>\n      <td>Buenos Aires</td>\n      <td>9694</td>\n      <td>9694 - P Vea JB Justo.</td>\n      <td>NaN</td>\n      <td>NaN</td>\n      <td>N</td>\n    </tr>\n    <tr>\n      <th>2</th>\n      <td>1</td>\n      <td>Plaza Vea</td>\n      <td>1</td>\n      <td>Buenos Aires</td>\n      <td>9695</td>\n      <td>695 - P Vea Acoyte.</td>\n      <td>0.000000</td>\n      <td>0.000000</td>\n      <td>N</td>\n    </tr>\n    <tr>\n      <th>3</th>\n      <td>1</td>\n      <td>Plaza Vea</td>\n      <td>1</td>\n      <td>Buenos Aires</td>\n      <td>9699</td>\n      <td>699 - P Vea Rivadavia.</td>\n      <td>0.000000</td>\n      <td>0.000000</td>\n      <td>N</td>\n    </tr>\n    <tr>\n      <th>4</th>\n      <td>1</td>\n      <td>Plaza Vea</td>\n      <td>1</td>\n      <td>Buenos Aires</td>\n      <td>9889</td>\n      <td>889 - Plaza Vea Carpa de liqui</td>\n      <td>NaN</td>\n      <td>NaN</td>\n      <td>N</td>\n    </tr>\n    <tr>\n      <th>5</th>\n      <td>2</td>\n      <td>Disco</td>\n      <td>1</td>\n      <td>Buenos Aires</td>\n      <td>247</td>\n      <td>916 - SM 916 Gorostiaga</td>\n      <td>-34.565259</td>\n      <td>-58.436583</td>\n      <td>N</td>\n    </tr>\n    <tr>\n      <th>6</th>\n      <td>2</td>\n      <td>Disco</td>\n      <td>1</td>\n      <td>Buenos Aires</td>\n      <td>257</td>\n      <td>61 - Tortuguitas</td>\n      <td>-34.446043</td>\n      <td>-58.745098</td>\n      <td>N</td>\n    </tr>\n    <tr>\n      <th>7</th>\n      <td>2</td>\n      <td>Disco</td>\n      <td>1</td>\n      <td>Buenos Aires</td>\n      <td>285</td>\n      <td>953 - Venado Tuerto</td>\n      <td>NaN</td>\n      <td>NaN</td>\n      <td>N</td>\n    </tr>\n    <tr>\n      <th>8</th>\n      <td>2</td>\n      <td>Disco</td>\n      <td>1</td>\n      <td>Buenos Aires</td>\n      <td>740</td>\n      <td>740 - Canning</td>\n      <td>-34.853221</td>\n      <td>-58.502247</td>\n      <td>N</td>\n    </tr>\n    <tr>\n      <th>9</th>\n      <td>2</td>\n      <td>Disco</td>\n      <td>1</td>\n      <td>Buenos Aires</td>\n      <td>961</td>\n      <td>961 - Av. Santa FÇ</td>\n      <td>NaN</td>\n      <td>NaN</td>\n      <td>N</td>\n    </tr>\n    <tr>\n      <th>10</th>\n      <td>2</td>\n      <td>Disco</td>\n      <td>1</td>\n      <td>Buenos Aires</td>\n      <td>1190</td>\n      <td>6190 - BT SAF (Importaciones).</td>\n      <td>NaN</td>\n      <td>NaN</td>\n      <td>S</td>\n    </tr>\n    <tr>\n      <th>11</th>\n      <td>2</td>\n      <td>Disco</td>\n      <td>1</td>\n      <td>Buenos Aires</td>\n      <td>1914</td>\n      <td>3914 - Interno SLL BsAs 217.</td>\n      <td>NaN</td>\n      <td>NaN</td>\n      <td>S</td>\n    </tr>\n    <tr>\n      <th>12</th>\n      <td>2</td>\n      <td>Disco</td>\n      <td>1</td>\n      <td>Buenos Aires</td>\n      <td>9001</td>\n      <td>1 - San Isidro.</td>\n      <td>-34.471531</td>\n      <td>-58.515350</td>\n      <td>N</td>\n    </tr>\n    <tr>\n      <th>13</th>\n      <td>2</td>\n      <td>Disco</td>\n      <td>1</td>\n      <td>Buenos Aires</td>\n      <td>9002</td>\n      <td>2 - Talcahuano.</td>\n      <td>-34.596256</td>\n      <td>-58.385701</td>\n      <td>N</td>\n    </tr>\n    <tr>\n      <th>14</th>\n      <td>2</td>\n      <td>Disco</td>\n      <td>1</td>\n      <td>Buenos Aires</td>\n      <td>9003</td>\n      <td>3 - Camacua.</td>\n      <td>-34.627893</td>\n      <td>-58.458295</td>\n      <td>N</td>\n    </tr>\n    <tr>\n      <th>15</th>\n      <td>2</td>\n      <td>Disco</td>\n      <td>1</td>\n      <td>Buenos Aires</td>\n      <td>9004</td>\n      <td>4 - Vicente L¢pez.</td>\n      <td>-34.520825</td>\n      <td>-58.485332</td>\n      <td>N</td>\n    </tr>\n    <tr>\n      <th>16</th>\n      <td>2</td>\n      <td>Disco</td>\n      <td>1</td>\n      <td>Buenos Aires</td>\n      <td>9007</td>\n      <td>7 - Pte. Per¢n.</td>\n      <td>0.000000</td>\n      <td>0.000000</td>\n      <td>N</td>\n    </tr>\n    <tr>\n      <th>17</th>\n      <td>2</td>\n      <td>Disco</td>\n      <td>1</td>\n      <td>Buenos Aires</td>\n      <td>9009</td>\n      <td>9 - Lomas de Zamora.</td>\n      <td>-34.764091</td>\n      <td>-58.398621</td>\n      <td>N</td>\n    </tr>\n    <tr>\n      <th>18</th>\n      <td>2</td>\n      <td>Disco</td>\n      <td>1</td>\n      <td>Buenos Aires</td>\n      <td>9012</td>\n      <td>12 - Sucre.</td>\n      <td>-34.560842</td>\n      <td>-58.449841</td>\n      <td>N</td>\n    </tr>\n    <tr>\n      <th>19</th>\n      <td>2</td>\n      <td>Disco</td>\n      <td>1</td>\n      <td>Buenos Aires</td>\n      <td>9014</td>\n      <td>14 - Las Heras..</td>\n      <td>-34.581691</td>\n      <td>-58.414435</td>\n      <td>N</td>\n    </tr>\n    <tr>\n      <th>20</th>\n      <td>2</td>\n      <td>Disco</td>\n      <td>1</td>\n      <td>Buenos Aires</td>\n      <td>9015</td>\n      <td>15 - Salguero.</td>\n      <td>-34.580101</td>\n      <td>-58.408191</td>\n      <td>N</td>\n    </tr>\n    <tr>\n      <th>21</th>\n      <td>2</td>\n      <td>Disco</td>\n      <td>1</td>\n      <td>Buenos Aires</td>\n      <td>9016</td>\n      <td>16 - Paraguay.</td>\n      <td>-34.586090</td>\n      <td>-58.422310</td>\n      <td>N</td>\n    </tr>\n    <tr>\n      <th>22</th>\n      <td>2</td>\n      <td>Disco</td>\n      <td>1</td>\n      <td>Buenos Aires</td>\n      <td>9017</td>\n      <td>17 - Virrey del Pino.</td>\n      <td>-34.566744</td>\n      <td>-58.453445</td>\n      <td>N</td>\n    </tr>\n    <tr>\n      <th>23</th>\n      <td>2</td>\n      <td>Disco</td>\n      <td>1</td>\n      <td>Buenos Aires</td>\n      <td>9018</td>\n      <td>18 - Quintana.</td>\n      <td>-34.589375</td>\n      <td>-58.388536</td>\n      <td>N</td>\n    </tr>\n    <tr>\n      <th>24</th>\n      <td>2</td>\n      <td>Disco</td>\n      <td>1</td>\n      <td>Buenos Aires</td>\n      <td>9022</td>\n      <td>22 - Santa Fe.</td>\n      <td>-34.590488</td>\n      <td>-58.408384</td>\n      <td>N</td>\n    </tr>\n    <tr>\n      <th>25</th>\n      <td>2</td>\n      <td>Disco</td>\n      <td>1</td>\n      <td>Buenos Aires</td>\n      <td>9023</td>\n      <td>23 - Alto Palermo.</td>\n      <td>-34.587061</td>\n      <td>-58.410916</td>\n      <td>N</td>\n    </tr>\n    <tr>\n      <th>26</th>\n      <td>2</td>\n      <td>Disco</td>\n      <td>1</td>\n      <td>Buenos Aires</td>\n      <td>9025</td>\n      <td>25 - Rodr°guez Pe§a.</td>\n      <td>-34.593032</td>\n      <td>-58.391347</td>\n      <td>N</td>\n    </tr>\n    <tr>\n      <th>27</th>\n      <td>2</td>\n      <td>Disco</td>\n      <td>1</td>\n      <td>Buenos Aires</td>\n      <td>9026</td>\n      <td>26 - Av. Callao.</td>\n      <td>-34.608787</td>\n      <td>-58.392012</td>\n      <td>N</td>\n    </tr>\n    <tr>\n      <th>28</th>\n      <td>2</td>\n      <td>Disco</td>\n      <td>1</td>\n      <td>Buenos Aires</td>\n      <td>9030</td>\n      <td>30 - Rivadavia.</td>\n      <td>-34.617352</td>\n      <td>-58.434391</td>\n      <td>N</td>\n    </tr>\n    <tr>\n      <th>29</th>\n      <td>2</td>\n      <td>Disco</td>\n      <td>1</td>\n      <td>Buenos Aires</td>\n      <td>9035</td>\n      <td>35 - Uriburu.</td>\n      <td>-34.593885</td>\n      <td>-58.397898</td>\n      <td>N</td>\n    </tr>\n    <tr>\n      <th>30</th>\n      <td>2</td>\n      <td>Disco</td>\n      <td>1</td>\n      <td>Buenos Aires</td>\n      <td>9037</td>\n      <td>37 - AdroguÇ.</td>\n      <td>-34.798951</td>\n      <td>-58.404243</td>\n      <td>N</td>\n    </tr>\n    <tr>\n      <th>31</th>\n      <td>2</td>\n      <td>Disco</td>\n      <td>1</td>\n      <td>Buenos Aires</td>\n      <td>9038</td>\n      <td>38 - Arcos.</td>\n      <td>-34.561708</td>\n      <td>-58.452373</td>\n      <td>N</td>\n    </tr>\n    <tr>\n      <th>32</th>\n      <td>2</td>\n      <td>Disco</td>\n      <td>1</td>\n      <td>Buenos Aires</td>\n      <td>9039</td>\n      <td>39 - Pe§a.</td>\n      <td>-34.585935</td>\n      <td>-58.405188</td>\n      <td>N</td>\n    </tr>\n    <tr>\n      <th>33</th>\n      <td>2</td>\n      <td>Disco</td>\n      <td>1</td>\n      <td>Buenos Aires</td>\n      <td>9042</td>\n      <td>42 - La Plata I.</td>\n      <td>-34.934655</td>\n      <td>-57.975326</td>\n      <td>N</td>\n    </tr>\n    <tr>\n      <th>34</th>\n      <td>2</td>\n      <td>Disco</td>\n      <td>1</td>\n      <td>Buenos Aires</td>\n      <td>9045</td>\n      <td>45 - Gesell Boulevard.</td>\n      <td>-37.259025</td>\n      <td>-56.982672</td>\n      <td>N</td>\n    </tr>\n    <tr>\n      <th>35</th>\n      <td>2</td>\n      <td>Disco</td>\n      <td>1</td>\n      <td>Buenos Aires</td>\n      <td>9046</td>\n      <td>46 - Esmeralda.</td>\n      <td>-34.591519</td>\n      <td>-58.378118</td>\n      <td>N</td>\n    </tr>\n    <tr>\n      <th>36</th>\n      <td>2</td>\n      <td>Disco</td>\n      <td>1</td>\n      <td>Buenos Aires</td>\n      <td>9048</td>\n      <td>48 - Gasc¢n.</td>\n      <td>-34.603435</td>\n      <td>-58.424113</td>\n      <td>N</td>\n    </tr>\n    <tr>\n      <th>37</th>\n      <td>2</td>\n      <td>Disco</td>\n      <td>1</td>\n      <td>Buenos Aires</td>\n      <td>9049</td>\n      <td>49 - Pinamar.</td>\n      <td>-37.108689</td>\n      <td>-56.871028</td>\n      <td>N</td>\n    </tr>\n    <tr>\n      <th>38</th>\n      <td>2</td>\n      <td>Disco</td>\n      <td>1</td>\n      <td>Buenos Aires</td>\n      <td>9050</td>\n      <td>50 - Gesell Central.</td>\n      <td>-37.263550</td>\n      <td>-56.974521</td>\n      <td>N</td>\n    </tr>\n    <tr>\n      <th>39</th>\n      <td>2</td>\n      <td>Disco</td>\n      <td>1</td>\n      <td>Buenos Aires</td>\n      <td>9054</td>\n      <td>54 - Elcano.</td>\n      <td>-34.572857</td>\n      <td>-58.459282</td>\n      <td>N</td>\n    </tr>\n  </tbody>\n</table>\n</div>"
     },
     "execution_count": 456,
     "metadata": {},
     "output_type": "execute_result"
    }
   ],
   "source": [
    "locales_df.head(40)\n"
   ],
   "metadata": {
    "collapsed": false
   }
  },
  {
   "cell_type": "code",
   "execution_count": 457,
   "outputs": [
    {
     "name": "stdout",
     "output_type": "stream",
     "text": [
      "<class 'pandas.core.frame.DataFrame'>\n",
      "RangeIndex: 175 entries, 0 to 174\n",
      "Data columns (total 9 columns):\n",
      " #   Column       Non-Null Count  Dtype  \n",
      "---  ------       --------------  -----  \n",
      " 0   id_cadena    175 non-null    int64  \n",
      " 1   desc_cadena  175 non-null    object \n",
      " 2   id_region    175 non-null    int64  \n",
      " 3   desc_region  175 non-null    string \n",
      " 4   idb          175 non-null    int64  \n",
      " 5   desc_local   175 non-null    string \n",
      " 6   latitud      140 non-null    float64\n",
      " 7   longitud     140 non-null    float64\n",
      " 8   punto_dist   175 non-null    string \n",
      "dtypes: float64(2), int64(3), object(1), string(3)\n",
      "memory usage: 12.4+ KB\n"
     ]
    }
   ],
   "source": [
    "locales_df.info()"
   ],
   "metadata": {
    "collapsed": false
   }
  },
  {
   "cell_type": "markdown",
   "source": [
    "#### Ajustes al dataframe\n",
    "\n",
    "- Eliminar la columna \"desc_local\" debido a que no aporta información relevante para el análisis y se dispone de las coordenadas.\n",
    "- Convertir todas las cadenas de texto en minúsculas para unificar la información y facilitar su procesamiento.\n",
    "- Verificar si existen valores nulos o duplicados en el conjunto de datos para asegurar la integridad de la información y decidir cómo manejarlos si es necesario.\n",
    "- Convertir la columna categórica \"punto_dist\" a una variable binaria con la siguiente regla: asignar 1 a las observaciones en las que el valor de la columna sea \"s\", lo que indica que es un punto de distribución, y asignar 0 a todas las demás observaciones.\n",
    "- Crear una nueva columna llamada \"local\" usando la columna \"punto_dist\" de la siguiente manera: si \"punto_dist\" es 1, entonces la observación es un local y \"local\" se establece en 1; de lo contrario, \"local\" se establece en 0.\n",
    "- Rellenar los valores \"NaN\" de latitud y longitud con la media de sus respectivas columnas. Esto permitirá mantener la integridad del conjunto de datos y evitar problemas en el procesamiento posterior.\n",
    "- Identificar las observaciones con valores 0.00 en las columnas de latitud y longitud. Esto puede indicar datos faltantes o imprecisos, por lo que es necesario revisar estos casos y tomar las medidas adecuadas, como la eliminación o la imputación de valores.\n"
   ],
   "metadata": {
    "collapsed": false
   }
  },
  {
   "cell_type": "code",
   "execution_count": 458,
   "outputs": [],
   "source": [
    "locales_df.drop('desc_local', axis=1, inplace=True)"
   ],
   "metadata": {
    "collapsed": false
   }
  },
  {
   "cell_type": "code",
   "execution_count": 459,
   "outputs": [],
   "source": [
    "locales_df = locales_df.applymap(lambda x: x.lower() if isinstance(x, str) else x)"
   ],
   "metadata": {
    "collapsed": false
   }
  },
  {
   "cell_type": "code",
   "execution_count": 460,
   "outputs": [
    {
     "name": "stdout",
     "output_type": "stream",
     "text": [
      "id_cadena       0\n",
      "desc_cadena     0\n",
      "id_region       0\n",
      "desc_region     0\n",
      "idb             0\n",
      "latitud        35\n",
      "longitud       35\n",
      "punto_dist      0\n",
      "dtype: int64\n"
     ]
    }
   ],
   "source": [
    "print(locales_df.isna().sum())"
   ],
   "metadata": {
    "collapsed": false
   }
  },
  {
   "cell_type": "code",
   "execution_count": 461,
   "outputs": [
    {
     "data": {
      "text/plain": "id_cadena       0\ndesc_cadena     0\nid_region       0\ndesc_region     0\nidb             0\nlatitud        35\nlongitud       35\npunto_dist      0\ndtype: int64"
     },
     "execution_count": 461,
     "metadata": {},
     "output_type": "execute_result"
    }
   ],
   "source": [
    "locales_df.isnull().sum(axis=0)"
   ],
   "metadata": {
    "collapsed": false
   }
  },
  {
   "cell_type": "code",
   "execution_count": 462,
   "outputs": [],
   "source": [
    "# Convertir la columna categorica punto_dist a binaria\n",
    "punto_dist_mapping = {\"s\": 1, \"n\": 0}\n",
    "locales_df['punto_dist'] = locales_df['punto_dist'].map(punto_dist_mapping)"
   ],
   "metadata": {
    "collapsed": false
   }
  },
  {
   "cell_type": "code",
   "execution_count": 463,
   "outputs": [],
   "source": [
    "# Crear una columna binaria para identificar si es un local\n",
    "locales_df['local'] = locales_df['punto_dist'].apply(lambda x: 1 if x == 0 else 0)"
   ],
   "metadata": {
    "collapsed": false
   }
  },
  {
   "cell_type": "code",
   "execution_count": 464,
   "outputs": [
    {
     "name": "stdout",
     "output_type": "stream",
     "text": [
      "El total de registros duplicados en el dataset es: 0\n"
     ]
    }
   ],
   "source": [
    "# Identify the duplicate rows using a subset of columns\n",
    "subset_cols = ['idb', 'id_cadena']\n",
    "duplicate_mask = locales_df.duplicated(subset=subset_cols, keep='first')\n",
    "\n",
    "# Count the number of duplicate rows\n",
    "total_duplicates = sum(duplicate_mask)\n",
    "\n",
    "print(f\"El total de registros duplicados en el dataset es: {total_duplicates}\")"
   ],
   "metadata": {
    "collapsed": false
   }
  },
  {
   "cell_type": "code",
   "execution_count": 465,
   "outputs": [
    {
     "name": "stdout",
     "output_type": "stream",
     "text": [
      "La columna categorica desc_cadena tiene 5 subnivele(s)\n",
      "La columna categorica desc_region tiene 1 subnivele(s)\n"
     ]
    }
   ],
   "source": [
    "# Conteo de los niveles en las diferentes columnas categóricas\n",
    "col_categoricas = ['desc_cadena', 'desc_region']\n",
    "for col in col_categoricas:\n",
    "    print(f'La columna categorica {col} tiene {locales_df[col].nunique()} subnivele(s)')"
   ],
   "metadata": {
    "collapsed": false
   }
  },
  {
   "cell_type": "code",
   "execution_count": 466,
   "outputs": [],
   "source": [
    "coordinates = pd.read_csv('../data/coordinates.csv', encoding='utf-8', delimiter='\\t')"
   ],
   "metadata": {
    "collapsed": false
   }
  },
  {
   "cell_type": "code",
   "execution_count": 467,
   "outputs": [],
   "source": [
    "# merge the two dataframes on the key column\n",
    "merged_df = pd.merge(locales_df, coordinates, on='idb', suffixes=('', '_right'))\n",
    "\n",
    "# use boolean indexing to replace zero values with values from the second dataframe\n",
    "merged_df.loc[merged_df['latitud'] == 0.0, 'latitud'] = merged_df['latitud_right']\n",
    "merged_df.loc[merged_df['longitud'] == 0.0, 'longitud'] = merged_df['longitud_right']\n",
    "\n",
    "#drop the extra column\n",
    "merged_df.drop(['longitud_right', 'latitud_right'], axis=1, inplace=True)"
   ],
   "metadata": {
    "collapsed": false
   }
  },
  {
   "cell_type": "code",
   "execution_count": 468,
   "outputs": [
    {
     "name": "stdout",
     "output_type": "stream",
     "text": [
      "<class 'pandas.core.frame.DataFrame'>\n",
      "Int64Index: 14 entries, 0 to 13\n",
      "Data columns (total 9 columns):\n",
      " #   Column       Non-Null Count  Dtype  \n",
      "---  ------       --------------  -----  \n",
      " 0   id_cadena    14 non-null     int64  \n",
      " 1   desc_cadena  14 non-null     object \n",
      " 2   id_region    14 non-null     int64  \n",
      " 3   desc_region  14 non-null     object \n",
      " 4   idb          14 non-null     int64  \n",
      " 5   latitud      14 non-null     float64\n",
      " 6   longitud     14 non-null     float64\n",
      " 7   punto_dist   14 non-null     int64  \n",
      " 8   local        14 non-null     int64  \n",
      "dtypes: float64(2), int64(5), object(2)\n",
      "memory usage: 1.1+ KB\n"
     ]
    }
   ],
   "source": [
    "merged_df.info()"
   ],
   "metadata": {
    "collapsed": false
   }
  },
  {
   "cell_type": "code",
   "execution_count": 481,
   "outputs": [],
   "source": [
    "locales_df.set_index('idb', inplace=True)\n",
    "locales_df.update(merged_df.set_index('idb'))\n",
    "locales_df.reset_index(inplace=True)\n",
    "locales_df = locales_df.astype({'idb': 'int64', 'punto_dist': 'int64', 'id_cadena': 'int64', 'id_region': 'int64', 'desc_cadena':'string', 'desc_region':'string', 'local':'int64' })"
   ],
   "metadata": {
    "collapsed": false
   }
  },
  {
   "cell_type": "code",
   "execution_count": 482,
   "outputs": [],
   "source": [
    "# Llenar los valores missing de latitud y longitud con la media de cada columna.\n",
    "mean_latitud = locales_df['latitud'].mean()\n",
    "mean_longitud = locales_df['longitud'].mean()\n",
    "locales_df['latitud'].fillna(mean_latitud, inplace=True)\n",
    "locales_df['longitud'].fillna(mean_longitud, inplace=True)"
   ],
   "metadata": {
    "collapsed": false
   }
  },
  {
   "cell_type": "code",
   "execution_count": 483,
   "outputs": [
    {
     "name": "stdout",
     "output_type": "stream",
     "text": [
      "0\n",
      "longitud    0\n",
      "latitud     0\n",
      "dtype: int64\n"
     ]
    }
   ],
   "source": [
    "# Verificar que no existan valores missing o 0.0 para las columnas latitud y longitud.\n",
    "print(len(locales_df[(locales_df['latitud'] == 0.0) | (locales_df['longitud'] == 0.0)]))\n",
    "print(locales_df[['longitud','latitud']].isna().sum(axis=0))"
   ],
   "metadata": {
    "collapsed": false
   }
  },
  {
   "cell_type": "code",
   "execution_count": 502,
   "outputs": [
    {
     "data": {
      "text/plain": "id_cadena  id_region  desc_region                     desc_cadena                   \n1          1          buenos aires                    plaza vea                          5\n2          1          buenos aires                    disco                             61\n4          1          buenos aires                    vea                               68\n9          1          buenos aires                    jumbo                             31\n11         1          buenos aires                    rincon jumbo                      10\nName: idb, dtype: int64"
     },
     "execution_count": 502,
     "metadata": {},
     "output_type": "execute_result"
    }
   ],
   "source": [
    "grouped_data = locales_df.groupby(['id_cadena', 'id_region', 'desc_region', 'desc_cadena']).idb.count()\n",
    "grouped_data"
   ],
   "metadata": {
    "collapsed": false
   }
  },
  {
   "cell_type": "code",
   "execution_count": 505,
   "outputs": [
    {
     "data": {
      "text/plain": "local  punto_dist\n0      1               6\n1      0             169\nName: idb, dtype: int64"
     },
     "execution_count": 505,
     "metadata": {},
     "output_type": "execute_result"
    }
   ],
   "source": [
    "grouped_data_pd = locales_df.groupby(['local', 'punto_dist']).idb.count()\n",
    "grouped_data_pd"
   ],
   "metadata": {
    "collapsed": false
   }
  },
  {
   "cell_type": "code",
   "execution_count": 485,
   "outputs": [
    {
     "name": "stdout",
     "output_type": "stream",
     "text": [
      "<class 'pandas.core.frame.DataFrame'>\n",
      "RangeIndex: 175 entries, 0 to 174\n",
      "Data columns (total 9 columns):\n",
      " #   Column       Non-Null Count  Dtype  \n",
      "---  ------       --------------  -----  \n",
      " 0   idb          175 non-null    int64  \n",
      " 1   id_cadena    175 non-null    int64  \n",
      " 2   desc_cadena  175 non-null    string \n",
      " 3   id_region    175 non-null    int64  \n",
      " 4   desc_region  175 non-null    string \n",
      " 5   latitud      175 non-null    float64\n",
      " 6   longitud     175 non-null    float64\n",
      " 7   punto_dist   175 non-null    int64  \n",
      " 8   local        175 non-null    int64  \n",
      "dtypes: float64(2), int64(5), string(2)\n",
      "memory usage: 12.4 KB\n"
     ]
    }
   ],
   "source": [
    "locales_df.info()"
   ],
   "metadata": {
    "collapsed": false
   }
  },
  {
   "cell_type": "code",
   "execution_count": 486,
   "outputs": [
    {
     "data": {
      "text/plain": "(175, 9)"
     },
     "execution_count": 486,
     "metadata": {},
     "output_type": "execute_result"
    }
   ],
   "source": [
    "locales_df.shape"
   ],
   "metadata": {
    "collapsed": false
   }
  },
  {
   "cell_type": "code",
   "execution_count": 487,
   "outputs": [
    {
     "data": {
      "text/plain": "               idb   id_cadena  id_region     latitud    longitud  punto_dist  \\\ncount   175.000000  175.000000      175.0  175.000000  175.000000  175.000000   \nmean   6909.617143    4.502857        1.0  -34.989573  -58.696112    0.034286   \nstd    3421.539461    2.945627        0.0    1.703919    1.165324    0.182484   \nmin     242.000000    1.000000        1.0  -45.872649  -67.496036    0.000000   \n25%    5213.500000    2.000000        1.0  -34.989573  -58.696112    0.000000   \n50%    9019.000000    4.000000        1.0  -34.643518  -58.521727    0.000000   \n75%    9158.500000    4.000000        1.0  -34.582761  -58.408676    0.000000   \nmax    9977.000000   11.000000        1.0  -29.141976  -56.683531    1.000000   \n\n            local  \ncount  175.000000  \nmean     0.965714  \nstd      0.182484  \nmin      0.000000  \n25%      1.000000  \n50%      1.000000  \n75%      1.000000  \nmax      1.000000  ",
      "text/html": "<div>\n<style scoped>\n    .dataframe tbody tr th:only-of-type {\n        vertical-align: middle;\n    }\n\n    .dataframe tbody tr th {\n        vertical-align: top;\n    }\n\n    .dataframe thead th {\n        text-align: right;\n    }\n</style>\n<table border=\"1\" class=\"dataframe\">\n  <thead>\n    <tr style=\"text-align: right;\">\n      <th></th>\n      <th>idb</th>\n      <th>id_cadena</th>\n      <th>id_region</th>\n      <th>latitud</th>\n      <th>longitud</th>\n      <th>punto_dist</th>\n      <th>local</th>\n    </tr>\n  </thead>\n  <tbody>\n    <tr>\n      <th>count</th>\n      <td>175.000000</td>\n      <td>175.000000</td>\n      <td>175.0</td>\n      <td>175.000000</td>\n      <td>175.000000</td>\n      <td>175.000000</td>\n      <td>175.000000</td>\n    </tr>\n    <tr>\n      <th>mean</th>\n      <td>6909.617143</td>\n      <td>4.502857</td>\n      <td>1.0</td>\n      <td>-34.989573</td>\n      <td>-58.696112</td>\n      <td>0.034286</td>\n      <td>0.965714</td>\n    </tr>\n    <tr>\n      <th>std</th>\n      <td>3421.539461</td>\n      <td>2.945627</td>\n      <td>0.0</td>\n      <td>1.703919</td>\n      <td>1.165324</td>\n      <td>0.182484</td>\n      <td>0.182484</td>\n    </tr>\n    <tr>\n      <th>min</th>\n      <td>242.000000</td>\n      <td>1.000000</td>\n      <td>1.0</td>\n      <td>-45.872649</td>\n      <td>-67.496036</td>\n      <td>0.000000</td>\n      <td>0.000000</td>\n    </tr>\n    <tr>\n      <th>25%</th>\n      <td>5213.500000</td>\n      <td>2.000000</td>\n      <td>1.0</td>\n      <td>-34.989573</td>\n      <td>-58.696112</td>\n      <td>0.000000</td>\n      <td>1.000000</td>\n    </tr>\n    <tr>\n      <th>50%</th>\n      <td>9019.000000</td>\n      <td>4.000000</td>\n      <td>1.0</td>\n      <td>-34.643518</td>\n      <td>-58.521727</td>\n      <td>0.000000</td>\n      <td>1.000000</td>\n    </tr>\n    <tr>\n      <th>75%</th>\n      <td>9158.500000</td>\n      <td>4.000000</td>\n      <td>1.0</td>\n      <td>-34.582761</td>\n      <td>-58.408676</td>\n      <td>0.000000</td>\n      <td>1.000000</td>\n    </tr>\n    <tr>\n      <th>max</th>\n      <td>9977.000000</td>\n      <td>11.000000</td>\n      <td>1.0</td>\n      <td>-29.141976</td>\n      <td>-56.683531</td>\n      <td>1.000000</td>\n      <td>1.000000</td>\n    </tr>\n  </tbody>\n</table>\n</div>"
     },
     "execution_count": 487,
     "metadata": {},
     "output_type": "execute_result"
    }
   ],
   "source": [
    "locales_df.describe()"
   ],
   "metadata": {
    "collapsed": false
   }
  },
  {
   "cell_type": "markdown",
   "source": [
    "#### Observaciones\n",
    "1. El conjunto de datos está compuesto por 175 registros y 9 columnas. Las columnas son: \"id_cadena\", \"desc_cadena\", \"id_region\", \"desc_region\", \"idb\", \"latitud\", \"longitud\", \"punto_distr\" y \"local\". Estas columnas se describen a continuación:\n",
    "\n",
    "    - id_cadena: Identificador interno de la cadena.\n",
    "    - desc_cadena: Descripción de la cadena.\n",
    "    - id_region: Identificador interno de la región.\n",
    "    - desc_region: Descripción de la región.\n",
    "    - idb: Identificador interno de la boca.\n",
    "    - latitud: Ubicación en el eje Y de la boca.\n",
    "    - longitud: Ubicación en el eje X de la boca.\n",
    "    - punto_distr: Indica si el valor es 1 que es un centro de distribución, de lo contrario es un local.\n",
    "    - local: Indica si el valor es 1 que es un local, si es 0 no es un local.\n",
    "\n",
    "2. Se ha eliminado la columna \"desc_local\" debido a que no aporta información relevante para el análisis y se dispone de las coordenadas de latitud y longitud.\n",
    "\n",
    "3. Se encontraron 35 valores de latitud y longitud que contenían valores nulos y 14 registros con valores en 0.0. Para los valores nulos se rellenaron con el valor medio de las columnas de latitud y longitud, y para los registros con valores en 0.0 se encontraron los valores correspondientes de las coordenadas y se realizaron las imputaciones.\n",
    "\n",
    "4. Se encontraron dos columnas categóricas con los siguientes subniveles:\n",
    "    - La columna \"desc_cadena\" tiene 5 subniveles: Plaza Vea, Vea, Jumbo, Disco y Rinco Jumbo.\n",
    "    - La columna \"desc_region\" tiene 1 subnivel, el cual es Buenos Aires.\n",
    "\n",
    "5. Todos los registros de la columna \"desc_region\" tienen el valor \"Buenos Aires\", lo que indica que solo hay una región.\n",
    "\n",
    "6. Se agruparon las categorías de la columna \"desc_cadena\" de la siguiente manera:\n",
    "\n",
    "    | **Cadena** | **Total Locales** |\n",
    "    |---------------|-------------------|\n",
    "    | Plaza Vea | 5                 |\n",
    "    | Disco | 61                |\n",
    "    | Vea | 68                |\n",
    "    | Jumbo | 31                |\n",
    "    | Rincon Jumbo | 10                |\n",
    "\n",
    "7. El conjunto de datos contiene 6 centros de distribución y 169 locales.\n",
    "\n",
    "\n"
   ],
   "metadata": {
    "collapsed": false
   }
  },
  {
   "cell_type": "code",
   "execution_count": 507,
   "outputs": [
    {
     "data": {
      "text/plain": "<folium.folium.Map at 0x7fc311427820>",
      "text/html": "<div style=\"width:100%;\"><div style=\"position:relative;width:100%;height:0;padding-bottom:60%;\"><span style=\"color:#565656\">Make this Notebook Trusted to load map: File -> Trust Notebook</span><iframe srcdoc=\"&lt;!DOCTYPE html&gt;\n&lt;html&gt;\n&lt;head&gt;\n    \n    &lt;meta http-equiv=&quot;content-type&quot; content=&quot;text/html; charset=UTF-8&quot; /&gt;\n    \n        &lt;script&gt;\n            L_NO_TOUCH = false;\n            L_DISABLE_3D = false;\n        &lt;/script&gt;\n    \n    &lt;style&gt;html, body {width: 100%;height: 100%;margin: 0;padding: 0;}&lt;/style&gt;\n    &lt;style&gt;#map {position:absolute;top:0;bottom:0;right:0;left:0;}&lt;/style&gt;\n    &lt;script src=&quot;https://cdn.jsdelivr.net/npm/leaflet@1.9.3/dist/leaflet.js&quot;&gt;&lt;/script&gt;\n    &lt;script src=&quot;https://code.jquery.com/jquery-1.12.4.min.js&quot;&gt;&lt;/script&gt;\n    &lt;script src=&quot;https://cdn.jsdelivr.net/npm/bootstrap@5.2.2/dist/js/bootstrap.bundle.min.js&quot;&gt;&lt;/script&gt;\n    &lt;script src=&quot;https://cdnjs.cloudflare.com/ajax/libs/Leaflet.awesome-markers/2.0.2/leaflet.awesome-markers.js&quot;&gt;&lt;/script&gt;\n    &lt;link rel=&quot;stylesheet&quot; href=&quot;https://cdn.jsdelivr.net/npm/leaflet@1.9.3/dist/leaflet.css&quot;/&gt;\n    &lt;link rel=&quot;stylesheet&quot; href=&quot;https://cdn.jsdelivr.net/npm/bootstrap@5.2.2/dist/css/bootstrap.min.css&quot;/&gt;\n    &lt;link rel=&quot;stylesheet&quot; href=&quot;https://netdna.bootstrapcdn.com/bootstrap/3.0.0/css/bootstrap.min.css&quot;/&gt;\n    &lt;link rel=&quot;stylesheet&quot; href=&quot;https://cdn.jsdelivr.net/npm/@fortawesome/fontawesome-free@6.2.0/css/all.min.css&quot;/&gt;\n    &lt;link rel=&quot;stylesheet&quot; href=&quot;https://cdnjs.cloudflare.com/ajax/libs/Leaflet.awesome-markers/2.0.2/leaflet.awesome-markers.css&quot;/&gt;\n    &lt;link rel=&quot;stylesheet&quot; href=&quot;https://cdn.jsdelivr.net/gh/python-visualization/folium/folium/templates/leaflet.awesome.rotate.min.css&quot;/&gt;\n    \n            &lt;meta name=&quot;viewport&quot; content=&quot;width=device-width,\n                initial-scale=1.0, maximum-scale=1.0, user-scalable=no&quot; /&gt;\n            &lt;style&gt;\n                #map_ef60072dd0e5ad724b5d959d8e6ff3c4 {\n                    position: relative;\n                    width: 100.0%;\n                    height: 100.0%;\n                    left: 0.0%;\n                    top: 0.0%;\n                }\n                .leaflet-container { font-size: 1rem; }\n            &lt;/style&gt;\n        \n&lt;/head&gt;\n&lt;body&gt;\n    \n    \n            &lt;div class=&quot;folium-map&quot; id=&quot;map_ef60072dd0e5ad724b5d959d8e6ff3c4&quot; &gt;&lt;/div&gt;\n        \n&lt;/body&gt;\n&lt;script&gt;\n    \n    \n            var map_ef60072dd0e5ad724b5d959d8e6ff3c4 = L.map(\n                &quot;map_ef60072dd0e5ad724b5d959d8e6ff3c4&quot;,\n                {\n                    center: [-34.989573120653844, -58.69611196853447],\n                    crs: L.CRS.EPSG3857,\n                    zoom: 5,\n                    zoomControl: true,\n                    preferCanvas: false,\n                }\n            );\n\n            \n\n        \n    \n            var tile_layer_c46a02895fc841dc17b11c605d3e04cf = L.tileLayer(\n                &quot;https://{s}.tile.openstreetmap.org/{z}/{x}/{y}.png&quot;,\n                {&quot;attribution&quot;: &quot;Data by \\u0026copy; \\u003ca target=\\&quot;_blank\\&quot; href=\\&quot;http://openstreetmap.org\\&quot;\\u003eOpenStreetMap\\u003c/a\\u003e, under \\u003ca target=\\&quot;_blank\\&quot; href=\\&quot;http://www.openstreetmap.org/copyright\\&quot;\\u003eODbL\\u003c/a\\u003e.&quot;, &quot;detectRetina&quot;: false, &quot;maxNativeZoom&quot;: 18, &quot;maxZoom&quot;: 18, &quot;minZoom&quot;: 0, &quot;noWrap&quot;: false, &quot;opacity&quot;: 1, &quot;subdomains&quot;: &quot;abc&quot;, &quot;tms&quot;: false}\n            ).addTo(map_ef60072dd0e5ad724b5d959d8e6ff3c4);\n        \n    \n            var marker_74864258671e03bcf72327f7045e699e = L.marker(\n                [-34.989573120653844, -58.69611196853447],\n                {}\n            ).addTo(map_ef60072dd0e5ad724b5d959d8e6ff3c4);\n        \n    \n            var marker_c471c273380c01a589a90ea548d7bb54 = L.marker(\n                [-34.989573120653844, -58.69611196853447],\n                {}\n            ).addTo(map_ef60072dd0e5ad724b5d959d8e6ff3c4);\n        \n    \n            var marker_2a7cc0e605520ad70e25142a1448601d = L.marker(\n                [-34.6211284287713, -58.4257657850452],\n                {}\n            ).addTo(map_ef60072dd0e5ad724b5d959d8e6ff3c4);\n        \n    \n            var marker_2a481029f006838446c1c7b328da4e64 = L.marker(\n                [-34.6480853433326, -58.611685130688],\n                {}\n            ).addTo(map_ef60072dd0e5ad724b5d959d8e6ff3c4);\n        \n    \n            var marker_26df2dd52e1980be77c4a0c66bba38cc = L.marker(\n                [-34.989573120653844, -58.69611196853447],\n                {}\n            ).addTo(map_ef60072dd0e5ad724b5d959d8e6ff3c4);\n        \n    \n            var marker_744e3205421b2d7aacfc581acfe331fc = L.marker(\n                [-34.565259, -58.436583],\n                {}\n            ).addTo(map_ef60072dd0e5ad724b5d959d8e6ff3c4);\n        \n    \n            var marker_410107d56e8f2d302c0363b035b04b19 = L.marker(\n                [-34.446043, -58.745098],\n                {}\n            ).addTo(map_ef60072dd0e5ad724b5d959d8e6ff3c4);\n        \n    \n            var marker_a4e50ac9f80514869bd0427813d7e972 = L.marker(\n                [-34.989573120653844, -58.69611196853447],\n                {}\n            ).addTo(map_ef60072dd0e5ad724b5d959d8e6ff3c4);\n        \n    \n            var marker_1628e8995f7497eb22b323a70999af70 = L.marker(\n                [-34.853221, -58.502247],\n                {}\n            ).addTo(map_ef60072dd0e5ad724b5d959d8e6ff3c4);\n        \n    \n            var marker_4a20e02f90c601e4254135e726aa004b = L.marker(\n                [-34.989573120653844, -58.69611196853447],\n                {}\n            ).addTo(map_ef60072dd0e5ad724b5d959d8e6ff3c4);\n        \n    \n            var marker_81c067740f13b0e22fe06518872ef689 = L.marker(\n                [-34.989573120653844, -58.69611196853447],\n                {}\n            ).addTo(map_ef60072dd0e5ad724b5d959d8e6ff3c4);\n        \n    \n            var marker_04f10077c10d012562f39c1fccc84f2f = L.marker(\n                [-34.989573120653844, -58.69611196853447],\n                {}\n            ).addTo(map_ef60072dd0e5ad724b5d959d8e6ff3c4);\n        \n    \n            var marker_25be7f30f8a3df888841f6091328fff3 = L.marker(\n                [-34.4715309, -58.5153501],\n                {}\n            ).addTo(map_ef60072dd0e5ad724b5d959d8e6ff3c4);\n        \n    \n            var marker_09ef285be329e8627ac06b8b3df6ef58 = L.marker(\n                [-34.5962563, -58.3857009],\n                {}\n            ).addTo(map_ef60072dd0e5ad724b5d959d8e6ff3c4);\n        \n    \n            var marker_2d8a7a38d522e5951a77349a6d490617 = L.marker(\n                [-34.627893, -58.458295],\n                {}\n            ).addTo(map_ef60072dd0e5ad724b5d959d8e6ff3c4);\n        \n    \n            var marker_9928b547784d4286b5659e968f73981b = L.marker(\n                [-34.520825, -58.485332],\n                {}\n            ).addTo(map_ef60072dd0e5ad724b5d959d8e6ff3c4);\n        \n    \n            var marker_6f25bb9e4236eecab6ecd2d83d5e6864 = L.marker(\n                [-34.5621132478232, -58.5569668747],\n                {}\n            ).addTo(map_ef60072dd0e5ad724b5d959d8e6ff3c4);\n        \n    \n            var marker_77dfb5dd392611ba6ee5f471de7456a6 = L.marker(\n                [-34.764091, -58.398621],\n                {}\n            ).addTo(map_ef60072dd0e5ad724b5d959d8e6ff3c4);\n        \n    \n            var marker_1d987a6b42401a7508982b71123bb77a = L.marker(\n                [-34.560842, -58.449841],\n                {}\n            ).addTo(map_ef60072dd0e5ad724b5d959d8e6ff3c4);\n        \n    \n            var marker_c52bcd4c6d45530501c35f87464fee8b = L.marker(\n                [-34.581691, -58.414435],\n                {}\n            ).addTo(map_ef60072dd0e5ad724b5d959d8e6ff3c4);\n        \n    \n            var marker_19faa79a5959ccd4b210cfafc988af1d = L.marker(\n                [-34.580101, -58.408191],\n                {}\n            ).addTo(map_ef60072dd0e5ad724b5d959d8e6ff3c4);\n        \n    \n            var marker_4d8a5bba3017bd659254fd2241503bb8 = L.marker(\n                [-34.58609, -58.42231],\n                {}\n            ).addTo(map_ef60072dd0e5ad724b5d959d8e6ff3c4);\n        \n    \n            var marker_bdb3a360a9584518fcf00abecc5e1848 = L.marker(\n                [-34.566744, -58.453445],\n                {}\n            ).addTo(map_ef60072dd0e5ad724b5d959d8e6ff3c4);\n        \n    \n            var marker_c696a52bc6605041cf4177b8eb071869 = L.marker(\n                [-34.589375, -58.388536],\n                {}\n            ).addTo(map_ef60072dd0e5ad724b5d959d8e6ff3c4);\n        \n    \n            var marker_e47fb90b294d82db2474b6cbbff0ff7b = L.marker(\n                [-34.590488, -58.408384],\n                {}\n            ).addTo(map_ef60072dd0e5ad724b5d959d8e6ff3c4);\n        \n    \n            var marker_de8a3abea1bec3f58f129f27d6fc7cf3 = L.marker(\n                [-34.587061, -58.410916],\n                {}\n            ).addTo(map_ef60072dd0e5ad724b5d959d8e6ff3c4);\n        \n    \n            var marker_3fe8f22ef96ef1d372dd8e934b217435 = L.marker(\n                [-34.593032, -58.391347],\n                {}\n            ).addTo(map_ef60072dd0e5ad724b5d959d8e6ff3c4);\n        \n    \n            var marker_84e94a9250e50f6933a917bfb8d23300 = L.marker(\n                [-34.608787, -58.392012],\n                {}\n            ).addTo(map_ef60072dd0e5ad724b5d959d8e6ff3c4);\n        \n    \n            var marker_a45de00a42f30d67e06bb8555ce1cf05 = L.marker(\n                [-34.617352, -58.434391],\n                {}\n            ).addTo(map_ef60072dd0e5ad724b5d959d8e6ff3c4);\n        \n    \n            var marker_030d18b38f24ddcea025db24a0c925e1 = L.marker(\n                [-34.593885, -58.3978981],\n                {}\n            ).addTo(map_ef60072dd0e5ad724b5d959d8e6ff3c4);\n        \n    \n            var marker_e71f76c4635f66c175441a0199decd19 = L.marker(\n                [-34.798951, -58.404243],\n                {}\n            ).addTo(map_ef60072dd0e5ad724b5d959d8e6ff3c4);\n        \n    \n            var marker_3f563e2573ee97ca4b452034a60363b4 = L.marker(\n                [-34.561708, -58.452373],\n                {}\n            ).addTo(map_ef60072dd0e5ad724b5d959d8e6ff3c4);\n        \n    \n            var marker_694b68927b24ce40413af9fb4bf4f6c4 = L.marker(\n                [-34.5859346, -58.4051877],\n                {}\n            ).addTo(map_ef60072dd0e5ad724b5d959d8e6ff3c4);\n        \n    \n            var marker_fc6943b09af4bad3d51db9a17c8e8ac6 = L.marker(\n                [-34.934655, -57.975326],\n                {}\n            ).addTo(map_ef60072dd0e5ad724b5d959d8e6ff3c4);\n        \n    \n            var marker_0f1ab8d4694a79160eb0ca86e6101f81 = L.marker(\n                [-37.259025, -56.982672],\n                {}\n            ).addTo(map_ef60072dd0e5ad724b5d959d8e6ff3c4);\n        \n    \n            var marker_3740f527a8c6cd45012266a4733fa0ae = L.marker(\n                [-34.5915193, -58.378118],\n                {}\n            ).addTo(map_ef60072dd0e5ad724b5d959d8e6ff3c4);\n        \n    \n            var marker_4138482753e8e6a29d03a31b44c638c9 = L.marker(\n                [-34.603435, -58.424113],\n                {}\n            ).addTo(map_ef60072dd0e5ad724b5d959d8e6ff3c4);\n        \n    \n            var marker_6a8204e60d87b43439ce4ea56e14ccbe = L.marker(\n                [-37.108689, -56.871028],\n                {}\n            ).addTo(map_ef60072dd0e5ad724b5d959d8e6ff3c4);\n        \n    \n            var marker_8288885a581bc390089907dd6fb96506 = L.marker(\n                [-37.2635495, -56.9745208],\n                {}\n            ).addTo(map_ef60072dd0e5ad724b5d959d8e6ff3c4);\n        \n    \n            var marker_f4c674694b62a679560afa88e4e38383 = L.marker(\n                [-34.572857, -58.459282],\n                {}\n            ).addTo(map_ef60072dd0e5ad724b5d959d8e6ff3c4);\n        \n    \n            var marker_7c9722b55b088b1d04f2220be52ac42b = L.marker(\n                [-38.024498, -57.563767],\n                {}\n            ).addTo(map_ef60072dd0e5ad724b5d959d8e6ff3c4);\n        \n    \n            var marker_1e35492bd3334ba0e20d6ae20a177131 = L.marker(\n                [-38.0016165, -57.5499759],\n                {}\n            ).addTo(map_ef60072dd0e5ad724b5d959d8e6ff3c4);\n        \n    \n            var marker_72a2ac365f1800f774e71125c02a08c6 = L.marker(\n                [-37.960018, -57.564476],\n                {}\n            ).addTo(map_ef60072dd0e5ad724b5d959d8e6ff3c4);\n        \n    \n            var marker_862bec3d7d4c94d267a5c160a38f4759 = L.marker(\n                [-37.998259, -57.545421],\n                {}\n            ).addTo(map_ef60072dd0e5ad724b5d959d8e6ff3c4);\n        \n    \n            var marker_d428d2ff44a99dbd141a45270321f621 = L.marker(\n                [-34.915544, -57.942746],\n                {}\n            ).addTo(map_ef60072dd0e5ad724b5d959d8e6ff3c4);\n        \n    \n            var marker_ab0a4b9cb6f3f3d2e335c9631fb61935 = L.marker(\n                [-34.569783, -58.470676],\n                {}\n            ).addTo(map_ef60072dd0e5ad724b5d959d8e6ff3c4);\n        \n    \n            var marker_0376561d69c3fde9daaaa10a028d73af = L.marker(\n                [-34.786031, -58.252974],\n                {}\n            ).addTo(map_ef60072dd0e5ad724b5d959d8e6ff3c4);\n        \n    \n            var marker_ff4d6c9d575924a2594a123eb785c759 = L.marker(\n                [-34.738192, -58.408967],\n                {}\n            ).addTo(map_ef60072dd0e5ad724b5d959d8e6ff3c4);\n        \n    \n            var marker_775fee15b81b1e915ac080b7876efb5c = L.marker(\n                [-34.596317, -58.389805],\n                {}\n            ).addTo(map_ef60072dd0e5ad724b5d959d8e6ff3c4);\n        \n    \n            var marker_f97771e86e87b0bf98f547c8da54f4e5 = L.marker(\n                [-34.6547671, -58.50615],\n                {}\n            ).addTo(map_ef60072dd0e5ad724b5d959d8e6ff3c4);\n        \n    \n            var marker_4139a4e1e8d5e1ae285541a970d6e502 = L.marker(\n                [-34.6417334, -58.5710307],\n                {}\n            ).addTo(map_ef60072dd0e5ad724b5d959d8e6ff3c4);\n        \n    \n            var marker_9156b0b8f94c56c6c72ed4b30e379f44 = L.marker(\n                [-34.6539, -58.6207],\n                {}\n            ).addTo(map_ef60072dd0e5ad724b5d959d8e6ff3c4);\n        \n    \n            var marker_1f3b0407761158ae1d1a45e337b39ee7 = L.marker(\n                [-34.649273, -58.654032],\n                {}\n            ).addTo(map_ef60072dd0e5ad724b5d959d8e6ff3c4);\n        \n    \n            var marker_6e298fe2e5201efce9dbdda96a5f9755 = L.marker(\n                [-34.634367, -58.791778],\n                {}\n            ).addTo(map_ef60072dd0e5ad724b5d959d8e6ff3c4);\n        \n    \n            var marker_1af72a86b460997fd90f1d761c051eac = L.marker(\n                [-34.5614535, -58.6802181],\n                {}\n            ).addTo(map_ef60072dd0e5ad724b5d959d8e6ff3c4);\n        \n    \n            var marker_294e5bec5d25c289c7a6de01d5aae385 = L.marker(\n                [-34.599236141785, -58.5027540198578],\n                {}\n            ).addTo(map_ef60072dd0e5ad724b5d959d8e6ff3c4);\n        \n    \n            var marker_0d972cc2b73fa0e364410ef4f9f26403 = L.marker(\n                [-34.807942, -58.508362],\n                {}\n            ).addTo(map_ef60072dd0e5ad724b5d959d8e6ff3c4);\n        \n    \n            var marker_8b2a431e36f1f3d6dde1cd453b9bfeb5 = L.marker(\n                [-38.014727, -57.539134],\n                {}\n            ).addTo(map_ef60072dd0e5ad724b5d959d8e6ff3c4);\n        \n    \n            var marker_fc8ab5292b51feb56bfa67e44f15eeae = L.marker(\n                [-34.4657445, -58.5749095],\n                {}\n            ).addTo(map_ef60072dd0e5ad724b5d959d8e6ff3c4);\n        \n    \n            var marker_c625cfd98a7f048d25e29f0fa73cd3d8 = L.marker(\n                [-34.6003328, -58.502862],\n                {}\n            ).addTo(map_ef60072dd0e5ad724b5d959d8e6ff3c4);\n        \n    \n            var marker_dcd0eb87e7851f8a34928d0094ac7645 = L.marker(\n                [-34.6224616, -58.4348107],\n                {}\n            ).addTo(map_ef60072dd0e5ad724b5d959d8e6ff3c4);\n        \n    \n            var marker_3ada7037dc31d4e2199c0552ccb41dd2 = L.marker(\n                [-36.688037, -56.683531],\n                {}\n            ).addTo(map_ef60072dd0e5ad724b5d959d8e6ff3c4);\n        \n    \n            var marker_ee3439652c8986c7399992d20632f881 = L.marker(\n                [-34.6133869, -58.3917308],\n                {}\n            ).addTo(map_ef60072dd0e5ad724b5d959d8e6ff3c4);\n        \n    \n            var marker_6cb22f218f3397214b1a3f336270fa72 = L.marker(\n                [-34.5996158764666, -58.5031874316552],\n                {}\n            ).addTo(map_ef60072dd0e5ad724b5d959d8e6ff3c4);\n        \n    \n            var marker_79582fbf1156578c1544915a320d446b = L.marker(\n                [-34.629588, -58.445295],\n                {}\n            ).addTo(map_ef60072dd0e5ad724b5d959d8e6ff3c4);\n        \n    \n            var marker_122beaf39fb6c644841865d4f3f33024 = L.marker(\n                [-34.564535, -58.451564],\n                {}\n            ).addTo(map_ef60072dd0e5ad724b5d959d8e6ff3c4);\n        \n    \n            var marker_463f4c4d64d8daf182af3f712cfb8d68 = L.marker(\n                [-34.58321, -60.95419],\n                {}\n            ).addTo(map_ef60072dd0e5ad724b5d959d8e6ff3c4);\n        \n    \n            var marker_3d8ca99f4dd0baac4cb3852602dcde36 = L.marker(\n                [-34.989573120653844, -58.69611196853447],\n                {}\n            ).addTo(map_ef60072dd0e5ad724b5d959d8e6ff3c4);\n        \n    \n            var marker_f9e3ac983e13f486e0bcea0cba4dddfb = L.marker(\n                [-34.691168, -58.498985],\n                {}\n            ).addTo(map_ef60072dd0e5ad724b5d959d8e6ff3c4);\n        \n    \n            var marker_3127d3ef2e8df79918e91e33d9ae8041 = L.marker(\n                [-34.989573120653844, -58.69611196853447],\n                {}\n            ).addTo(map_ef60072dd0e5ad724b5d959d8e6ff3c4);\n        \n    \n            var marker_ba520bc67124d8236218b07c20d3e829 = L.marker(\n                [-34.6236132632893, -58.4914709711639],\n                {}\n            ).addTo(map_ef60072dd0e5ad724b5d959d8e6ff3c4);\n        \n    \n            var marker_ca4f52ffd1cabef9e47f77b752e592e3 = L.marker(\n                [-34.989573120653844, -58.69611196853447],\n                {}\n            ).addTo(map_ef60072dd0e5ad724b5d959d8e6ff3c4);\n        \n    \n            var marker_e27ea254595aeb70c14ab4dafd14c947 = L.marker(\n                [-34.8918342, -60.0206],\n                {}\n            ).addTo(map_ef60072dd0e5ad724b5d959d8e6ff3c4);\n        \n    \n            var marker_61919947fae0fd2dba5b86586e1a25fd = L.marker(\n                [-38.561925, -58.729802],\n                {}\n            ).addTo(map_ef60072dd0e5ad724b5d959d8e6ff3c4);\n        \n    \n            var marker_4f9b893d1e811ed59226c97113f43dd6 = L.marker(\n                [-34.665727, -58.696967],\n                {}\n            ).addTo(map_ef60072dd0e5ad724b5d959d8e6ff3c4);\n        \n    \n            var marker_21320ee73b6deefa3424aed8b7a01b70 = L.marker(\n                [-36.360308, -56.722051],\n                {}\n            ).addTo(map_ef60072dd0e5ad724b5d959d8e6ff3c4);\n        \n    \n            var marker_3017ef88ed8f7ef841eca563aa5833a6 = L.marker(\n                [-32.946868, -60.636206],\n                {}\n            ).addTo(map_ef60072dd0e5ad724b5d959d8e6ff3c4);\n        \n    \n            var marker_c3ae22c9ec7b1ee2863f598b56dbf998 = L.marker(\n                [-33.677926, -59.668511],\n                {}\n            ).addTo(map_ef60072dd0e5ad724b5d959d8e6ff3c4);\n        \n    \n            var marker_ed5fe94d8db183529dd149c15b7f6451 = L.marker(\n                [-34.403227, -60.733159],\n                {}\n            ).addTo(map_ef60072dd0e5ad724b5d959d8e6ff3c4);\n        \n    \n            var marker_8c75f0935d1664b13d4d2b24c0c3c89b = L.marker(\n                [-33.899131, -60.576621],\n                {}\n            ).addTo(map_ef60072dd0e5ad724b5d959d8e6ff3c4);\n        \n    \n            var marker_dd07a962d5b2061f80f3830581fca8d6 = L.marker(\n                [-34.691113247567, -58.3898539510018],\n                {}\n            ).addTo(map_ef60072dd0e5ad724b5d959d8e6ff3c4);\n        \n    \n            var marker_a07f8fcc02b7316339f8f42e0c92a9df = L.marker(\n                [-35.635604, -59.776489],\n                {}\n            ).addTo(map_ef60072dd0e5ad724b5d959d8e6ff3c4);\n        \n    \n            var marker_7b143150ed382e3fe4fb1a735ed403d9 = L.marker(\n                [-30.739331, -57.966514],\n                {}\n            ).addTo(map_ef60072dd0e5ad724b5d959d8e6ff3c4);\n        \n    \n            var marker_35061ab38cc760d8b7059c77bffc9eeb = L.marker(\n                [-33.010391, -58.526405],\n                {}\n            ).addTo(map_ef60072dd0e5ad724b5d959d8e6ff3c4);\n        \n    \n            var marker_6406827e756a8979a9b9c5de2d13b002 = L.marker(\n                [-29.141976, -59.265382],\n                {}\n            ).addTo(map_ef60072dd0e5ad724b5d959d8e6ff3c4);\n        \n    \n            var marker_1582eff330801bf173b5688e2f6a3282 = L.marker(\n                [-29.715194, -57.088845],\n                {}\n            ).addTo(map_ef60072dd0e5ad724b5d959d8e6ff3c4);\n        \n    \n            var marker_b2b819b7f83fb4b1dce3d80f65b16e96 = L.marker(\n                [-34.4934, -58.627174],\n                {}\n            ).addTo(map_ef60072dd0e5ad724b5d959d8e6ff3c4);\n        \n    \n            var marker_7650316377354f22d40bea24c71f912d = L.marker(\n                [-37.327035, -59.132931],\n                {}\n            ).addTo(map_ef60072dd0e5ad724b5d959d8e6ff3c4);\n        \n    \n            var marker_8a9a94ef33e29e889de6e67c283e9fc1 = L.marker(\n                [-34.637957, -58.377636],\n                {}\n            ).addTo(map_ef60072dd0e5ad724b5d959d8e6ff3c4);\n        \n    \n            var marker_b24c47cd3161e2cfd406262e49bf56bf = L.marker(\n                [-43.2688, -65.281627],\n                {}\n            ).addTo(map_ef60072dd0e5ad724b5d959d8e6ff3c4);\n        \n    \n            var marker_7be1eebb6a9775effb9639b1285b1860 = L.marker(\n                [-34.595805, -60.928165],\n                {}\n            ).addTo(map_ef60072dd0e5ad724b5d959d8e6ff3c4);\n        \n    \n            var marker_000360f5f0e26fe2067e3247c5a21f60 = L.marker(\n                [-31.384417, -58.020819],\n                {}\n            ).addTo(map_ef60072dd0e5ad724b5d959d8e6ff3c4);\n        \n    \n            var marker_541845a7e7b67a165c78207bd0315f41 = L.marker(\n                [-31.755795, -60.496477],\n                {}\n            ).addTo(map_ef60072dd0e5ad724b5d959d8e6ff3c4);\n        \n    \n            var marker_b746de1e881910c19fe76eb55b6b0413 = L.marker(\n                [-34.590859, -58.414865],\n                {}\n            ).addTo(map_ef60072dd0e5ad724b5d959d8e6ff3c4);\n        \n    \n            var marker_bd0703c0f9fdc2622826316f16247f23 = L.marker(\n                [-34.625104, -58.447309],\n                {}\n            ).addTo(map_ef60072dd0e5ad724b5d959d8e6ff3c4);\n        \n    \n            var marker_80128387b123b4782b6c8289d802756d = L.marker(\n                [-34.598614, -58.402398],\n                {}\n            ).addTo(map_ef60072dd0e5ad724b5d959d8e6ff3c4);\n        \n    \n            var marker_11ba90569755db223e711288f1141af7 = L.marker(\n                [-34.613838, -58.420486],\n                {}\n            ).addTo(map_ef60072dd0e5ad724b5d959d8e6ff3c4);\n        \n    \n            var marker_9ab5221965f8771e3cb49f712de164b8 = L.marker(\n                [-34.599373, -58.417697],\n                {}\n            ).addTo(map_ef60072dd0e5ad724b5d959d8e6ff3c4);\n        \n    \n            var marker_11839627e4c815f89ebf601c625fdff2 = L.marker(\n                [-34.703165, -58.391991],\n                {}\n            ).addTo(map_ef60072dd0e5ad724b5d959d8e6ff3c4);\n        \n    \n            var marker_3afa98d14ec752af92b6ffb6bc539662 = L.marker(\n                [-34.593668, -58.404329],\n                {}\n            ).addTo(map_ef60072dd0e5ad724b5d959d8e6ff3c4);\n        \n    \n            var marker_9303a27280d9c86d50f5764a75eb098f = L.marker(\n                [-34.726218, -58.395638],\n                {}\n            ).addTo(map_ef60072dd0e5ad724b5d959d8e6ff3c4);\n        \n    \n            var marker_aed90da72c8fd68f02b995a926983526 = L.marker(\n                [-34.9074365, -57.949567],\n                {}\n            ).addTo(map_ef60072dd0e5ad724b5d959d8e6ff3c4);\n        \n    \n            var marker_0cffe7bd60d42364ee7350dd514e3110 = L.marker(\n                [-37.991867, -57.559326],\n                {}\n            ).addTo(map_ef60072dd0e5ad724b5d959d8e6ff3c4);\n        \n    \n            var marker_1c03a50e61f097655dadc53387788f88 = L.marker(\n                [-34.61495, -58.434477],\n                {}\n            ).addTo(map_ef60072dd0e5ad724b5d959d8e6ff3c4);\n        \n    \n            var marker_683b6557999a6bda00a365599e4c4281 = L.marker(\n                [-34.989573120653844, -58.69611196853447],\n                {}\n            ).addTo(map_ef60072dd0e5ad724b5d959d8e6ff3c4);\n        \n    \n            var marker_c25666eafbaad8566a1b549bc83ceefe = L.marker(\n                [-34.989573120653844, -58.69611196853447],\n                {}\n            ).addTo(map_ef60072dd0e5ad724b5d959d8e6ff3c4);\n        \n    \n            var marker_4bb4ef8bfce943ed8ddf24045fe0edf0 = L.marker(\n                [-34.6487126, -58.6115311],\n                {}\n            ).addTo(map_ef60072dd0e5ad724b5d959d8e6ff3c4);\n        \n    \n            var marker_e3c257144d9afdaa8d5d3105eb036a5f = L.marker(\n                [-34.655963, -58.651543],\n                {}\n            ).addTo(map_ef60072dd0e5ad724b5d959d8e6ff3c4);\n        \n    \n            var marker_d2876ff4097ce62d11398285aac49b15 = L.marker(\n                [-34.568452, -58.742759],\n                {}\n            ).addTo(map_ef60072dd0e5ad724b5d959d8e6ff3c4);\n        \n    \n            var marker_15b6f47234781e82fc31d1d982037fba = L.marker(\n                [-34.6668243, -58.7273322],\n                {}\n            ).addTo(map_ef60072dd0e5ad724b5d959d8e6ff3c4);\n        \n    \n            var marker_ab8a8083fb007929e8ed540d0953f595 = L.marker(\n                [-34.6729584, -58.7239622],\n                {}\n            ).addTo(map_ef60072dd0e5ad724b5d959d8e6ff3c4);\n        \n    \n            var marker_960029b91c5eef2a4a9e071f6cb3f071 = L.marker(\n                [-34.643518, -58.789194],\n                {}\n            ).addTo(map_ef60072dd0e5ad724b5d959d8e6ff3c4);\n        \n    \n            var marker_674ab17dd8eda2e0ef6fb218cbdf379e = L.marker(\n                [-34.562532, -59.117523],\n                {}\n            ).addTo(map_ef60072dd0e5ad724b5d959d8e6ff3c4);\n        \n    \n            var marker_81a3dd9bced838c7521a44cacd885e50 = L.marker(\n                [-34.602976, -58.635385],\n                {}\n            ).addTo(map_ef60072dd0e5ad724b5d959d8e6ff3c4);\n        \n    \n            var marker_54e621de60d35960ae9a50b1a99cf16f = L.marker(\n                [-34.6531158, -59.4326084],\n                {}\n            ).addTo(map_ef60072dd0e5ad724b5d959d8e6ff3c4);\n        \n    \n            var marker_f25d24468b3a3147b43876d92a17b02b = L.marker(\n                [-34.6101417, -58.5615015],\n                {}\n            ).addTo(map_ef60072dd0e5ad724b5d959d8e6ff3c4);\n        \n    \n            var marker_04c80559b2e9808826eae41acaad204c = L.marker(\n                [-34.6217365, -58.4254639],\n                {}\n            ).addTo(map_ef60072dd0e5ad724b5d959d8e6ff3c4);\n        \n    \n            var marker_50cb81a2ed03d3eb28434e8d92281070 = L.marker(\n                [-38.046367, -57.55394],\n                {}\n            ).addTo(map_ef60072dd0e5ad724b5d959d8e6ff3c4);\n        \n    \n            var marker_5ac01e3914ad715ea80f148c9066912c = L.marker(\n                [-34.989573120653844, -58.69611196853447],\n                {}\n            ).addTo(map_ef60072dd0e5ad724b5d959d8e6ff3c4);\n        \n    \n            var marker_c9bf6620e079361a5d8f4d1b4be338e6 = L.marker(\n                [-34.989573120653844, -58.69611196853447],\n                {}\n            ).addTo(map_ef60072dd0e5ad724b5d959d8e6ff3c4);\n        \n    \n            var marker_58a7c7ef371091d9eb03281c0102a3f8 = L.marker(\n                [-34.989573120653844, -58.69611196853447],\n                {}\n            ).addTo(map_ef60072dd0e5ad724b5d959d8e6ff3c4);\n        \n    \n            var marker_c3bd3148c50f34e02f98fa4fe6e2d9a0 = L.marker(\n                [-34.91673, -57.956336],\n                {}\n            ).addTo(map_ef60072dd0e5ad724b5d959d8e6ff3c4);\n        \n    \n            var marker_43cb9e26c331e7d94e980beba0318d4b = L.marker(\n                [-34.554674, -58.483486],\n                {}\n            ).addTo(map_ef60072dd0e5ad724b5d959d8e6ff3c4);\n        \n    \n            var marker_37e835b2e09c9dec7dc4d3131c86e8dd = L.marker(\n                [-34.989573120653844, -58.69611196853447],\n                {}\n            ).addTo(map_ef60072dd0e5ad724b5d959d8e6ff3c4);\n        \n    \n            var marker_df49cbce3f7edf5621880ae4f02979dc = L.marker(\n                [-34.989573120653844, -58.69611196853447],\n                {}\n            ).addTo(map_ef60072dd0e5ad724b5d959d8e6ff3c4);\n        \n    \n            var marker_c6d8c729738277213f09a47c647b8a54 = L.marker(\n                [-34.989573120653844, -58.69611196853447],\n                {}\n            ).addTo(map_ef60072dd0e5ad724b5d959d8e6ff3c4);\n        \n    \n            var marker_2d650cdfd04cfec8de527f2541f5783f = L.marker(\n                [-34.989573120653844, -58.69611196853447],\n                {}\n            ).addTo(map_ef60072dd0e5ad724b5d959d8e6ff3c4);\n        \n    \n            var marker_61ea695ea4f9650d6abb7b3de9f01d6c = L.marker(\n                [-34.989573120653844, -58.69611196853447],\n                {}\n            ).addTo(map_ef60072dd0e5ad724b5d959d8e6ff3c4);\n        \n    \n            var marker_fe201883de49e92ebf27358f85e72965 = L.marker(\n                [-35.18598, -59.097955],\n                {}\n            ).addTo(map_ef60072dd0e5ad724b5d959d8e6ff3c4);\n        \n    \n            var marker_b0587c65bbbbb7f60879b7d85e4077c4 = L.marker(\n                [-35.050042, -58.756238],\n                {}\n            ).addTo(map_ef60072dd0e5ad724b5d959d8e6ff3c4);\n        \n    \n            var marker_a4a12ec042468f1c0cdf89a3a5b0693c = L.marker(\n                [-38.377394, -60.272848],\n                {}\n            ).addTo(map_ef60072dd0e5ad724b5d959d8e6ff3c4);\n        \n    \n            var marker_bc039ab6721e057a635de998d2f7903b = L.marker(\n                [-42.768281, -65.037972],\n                {}\n            ).addTo(map_ef60072dd0e5ad724b5d959d8e6ff3c4);\n        \n    \n            var marker_49476d1707a8e0e013669d372d071d31 = L.marker(\n                [-38.01236, -57.565788],\n                {}\n            ).addTo(map_ef60072dd0e5ad724b5d959d8e6ff3c4);\n        \n    \n            var marker_f617ee85adecb4968130af377ceee60b = L.marker(\n                [-34.989573120653844, -58.69611196853447],\n                {}\n            ).addTo(map_ef60072dd0e5ad724b5d959d8e6ff3c4);\n        \n    \n            var marker_6c5a5b9180ab406bb2ce2578a4f39202 = L.marker(\n                [-34.4498554737083, -58.717492385383],\n                {}\n            ).addTo(map_ef60072dd0e5ad724b5d959d8e6ff3c4);\n        \n    \n            var marker_1c48dfea6b48bf715f6816df244b08c7 = L.marker(\n                [-34.728113, -58.248973],\n                {}\n            ).addTo(map_ef60072dd0e5ad724b5d959d8e6ff3c4);\n        \n    \n            var marker_d2276a8a1e417671d5bec96709ad86ef = L.marker(\n                [-34.674547, -58.460834],\n                {}\n            ).addTo(map_ef60072dd0e5ad724b5d959d8e6ff3c4);\n        \n    \n            var marker_fb0f9ef01d8c578c6f5e6a7dc8fd330a = L.marker(\n                [-34.508767, -58.521727],\n                {}\n            ).addTo(map_ef60072dd0e5ad724b5d959d8e6ff3c4);\n        \n    \n            var marker_678e7d532bc2b0a7d656c3bbc5418d2f = L.marker(\n                [-34.792731, -58.414739],\n                {}\n            ).addTo(map_ef60072dd0e5ad724b5d959d8e6ff3c4);\n        \n    \n            var marker_49898f5dfd657ce40ce3b869efab4f64 = L.marker(\n                [-34.565295, -58.554622],\n                {}\n            ).addTo(map_ef60072dd0e5ad724b5d959d8e6ff3c4);\n        \n    \n            var marker_eb1f25df3cf82dde0fe951ee2b7a1ca0 = L.marker(\n                [-34.575083, -58.425211],\n                {}\n            ).addTo(map_ef60072dd0e5ad724b5d959d8e6ff3c4);\n        \n    \n            var marker_26276660d970d3a7a2ad951652bbc980 = L.marker(\n                [-34.759719, -58.278783],\n                {}\n            ).addTo(map_ef60072dd0e5ad724b5d959d8e6ff3c4);\n        \n    \n            var marker_bbd1fa522378555b187fb8a9b313186a = L.marker(\n                [-34.701083, -58.647552],\n                {}\n            ).addTo(map_ef60072dd0e5ad724b5d959d8e6ff3c4);\n        \n    \n            var marker_b8fcef07b52d638b8012820b18b76249 = L.marker(\n                [-34.446786, -58.870454],\n                {}\n            ).addTo(map_ef60072dd0e5ad724b5d959d8e6ff3c4);\n        \n    \n            var marker_7c436a3451ce356fa18e94d44653a7a2 = L.marker(\n                [-34.621431, -58.360854],\n                {}\n            ).addTo(map_ef60072dd0e5ad724b5d959d8e6ff3c4);\n        \n    \n            var marker_d2e18ec68b7cc46023104b2e4294a914 = L.marker(\n                [-34.355837, -58.797712],\n                {}\n            ).addTo(map_ef60072dd0e5ad724b5d959d8e6ff3c4);\n        \n    \n            var marker_77203649ca4f587000e7c51a3d93d906 = L.marker(\n                [-32.909118, -60.683434],\n                {}\n            ).addTo(map_ef60072dd0e5ad724b5d959d8e6ff3c4);\n        \n    \n            var marker_819869dfd1d5825b4ddbe78484621aee = L.marker(\n                [-34.989573120653844, -58.69611196853447],\n                {}\n            ).addTo(map_ef60072dd0e5ad724b5d959d8e6ff3c4);\n        \n    \n            var marker_cc60ca74d274dc5aa27a5f03a8cf1ba7 = L.marker(\n                [-34.599815, -58.429112],\n                {}\n            ).addTo(map_ef60072dd0e5ad724b5d959d8e6ff3c4);\n        \n    \n            var marker_ae4e8b9673929d503429b10e1a12a46e = L.marker(\n                [-34.583457, -58.464818],\n                {}\n            ).addTo(map_ef60072dd0e5ad724b5d959d8e6ff3c4);\n        \n    \n            var marker_af9cc9d97e1c5fab2e85011d22bc1579 = L.marker(\n                [-34.610676, -58.439326],\n                {}\n            ).addTo(map_ef60072dd0e5ad724b5d959d8e6ff3c4);\n        \n    \n            var marker_eafa7c20c5c280e128d53f5971d699b4 = L.marker(\n                [-34.609829, -58.465505],\n                {}\n            ).addTo(map_ef60072dd0e5ad724b5d959d8e6ff3c4);\n        \n    \n            var marker_aa51fb9c94b2e1cea738eb40458e1323 = L.marker(\n                [-34.989573120653844, -58.69611196853447],\n                {}\n            ).addTo(map_ef60072dd0e5ad724b5d959d8e6ff3c4);\n        \n    \n            var marker_ff5a8030e23d4385b9aa191521ed749e = L.marker(\n                [-34.5940033781696, -58.3793940015611],\n                {}\n            ).addTo(map_ef60072dd0e5ad724b5d959d8e6ff3c4);\n        \n    \n            var marker_89467903efc7b4ccc8a2b896a1e4c24e = L.marker(\n                [-45.872649, -67.496036],\n                {}\n            ).addTo(map_ef60072dd0e5ad724b5d959d8e6ff3c4);\n        \n    \n            var marker_2e4adce4883cc22153a73d76612012be = L.marker(\n                [-34.4337144350578, -58.7503626422235],\n                {}\n            ).addTo(map_ef60072dd0e5ad724b5d959d8e6ff3c4);\n        \n    \n            var marker_ad8fb68c2ffd0393285b43a61e074a13 = L.marker(\n                [-34.4467414794387, -58.7475078061746],\n                {}\n            ).addTo(map_ef60072dd0e5ad724b5d959d8e6ff3c4);\n        \n    \n            var marker_ac83ee6b98469e47f955e70be8bdc854 = L.marker(\n                [-34.989573120653844, -58.69611196853447],\n                {}\n            ).addTo(map_ef60072dd0e5ad724b5d959d8e6ff3c4);\n        \n    \n            var marker_6014502cb35be6f4ee7f00a7eb2464fe = L.marker(\n                [-34.989573120653844, -58.69611196853447],\n                {}\n            ).addTo(map_ef60072dd0e5ad724b5d959d8e6ff3c4);\n        \n    \n            var marker_6f91e9e9fcdf84842c1cd5da58daa0ed = L.marker(\n                [-34.453186, -58.630924],\n                {}\n            ).addTo(map_ef60072dd0e5ad724b5d959d8e6ff3c4);\n        \n    \n            var marker_0d81072f95c40923de10d9f38afdf2e1 = L.marker(\n                [-34.577317, -58.428886],\n                {}\n            ).addTo(map_ef60072dd0e5ad724b5d959d8e6ff3c4);\n        \n    \n            var marker_4c12dba6dc94483944163b2f95ddcb05 = L.marker(\n                [-34.989573120653844, -58.69611196853447],\n                {}\n            ).addTo(map_ef60072dd0e5ad724b5d959d8e6ff3c4);\n        \n    \n            var marker_256452a8a545415c4288fc79751db1fb = L.marker(\n                [-34.989573120653844, -58.69611196853447],\n                {}\n            ).addTo(map_ef60072dd0e5ad724b5d959d8e6ff3c4);\n        \n    \n            var marker_42098fd7f14ebcf5acc50377db73da68 = L.marker(\n                [-34.4467025, -58.5450372],\n                {}\n            ).addTo(map_ef60072dd0e5ad724b5d959d8e6ff3c4);\n        \n    \n            var marker_1533b3b002d708180aaea1b7aa65a5b5 = L.marker(\n                [-34.989573120653844, -58.69611196853447],\n                {}\n            ).addTo(map_ef60072dd0e5ad724b5d959d8e6ff3c4);\n        \n    \n            var marker_892a6343af1044f19ccf7f48d3ee2fbf = L.marker(\n                [-34.989573120653844, -58.69611196853447],\n                {}\n            ).addTo(map_ef60072dd0e5ad724b5d959d8e6ff3c4);\n        \n    \n            var marker_03f9371a331468879a38a6921b933a45 = L.marker(\n                [-34.989573120653844, -58.69611196853447],\n                {}\n            ).addTo(map_ef60072dd0e5ad724b5d959d8e6ff3c4);\n        \n    \n            var marker_04488aca1a6a75df6a5a2e0e38e47365 = L.marker(\n                [-34.5084240372453, -58.5232987322514],\n                {}\n            ).addTo(map_ef60072dd0e5ad724b5d959d8e6ff3c4);\n        \n    \n            var marker_7377deefba5fcddca4c5434bb13fff76 = L.marker(\n                [-34.5823112676416, -58.4438209903914],\n                {}\n            ).addTo(map_ef60072dd0e5ad724b5d959d8e6ff3c4);\n        \n    \n            var marker_c33ba1c990b711ca18afa92570704420 = L.marker(\n                [-34.989573120653844, -58.69611196853447],\n                {}\n            ).addTo(map_ef60072dd0e5ad724b5d959d8e6ff3c4);\n        \n    \n            var marker_2aa59a8e4f71175e077dc24894ec3bbb = L.marker(\n                [-34.989573120653844, -58.69611196853447],\n                {}\n            ).addTo(map_ef60072dd0e5ad724b5d959d8e6ff3c4);\n        \n    \n            var marker_c4600af9f1a61bcf122c0fe446894e4f = L.marker(\n                [-34.4438618712425, -58.8698580727284],\n                {}\n            ).addTo(map_ef60072dd0e5ad724b5d959d8e6ff3c4);\n        \n    \n            var marker_b920a4aefa63037e12dde7dce0973e2b = L.marker(\n                [-34.989573120653844, -58.69611196853447],\n                {}\n            ).addTo(map_ef60072dd0e5ad724b5d959d8e6ff3c4);\n        \n    \n            var marker_e525c544488c7021a064418c7af6a212 = L.marker(\n                [-34.989573120653844, -58.69611196853447],\n                {}\n            ).addTo(map_ef60072dd0e5ad724b5d959d8e6ff3c4);\n        \n    \n            var marker_8befd6a86eecf3738f9af1169c40c450 = L.marker(\n                [-34.989573120653844, -58.69611196853447],\n                {}\n            ).addTo(map_ef60072dd0e5ad724b5d959d8e6ff3c4);\n        \n&lt;/script&gt;\n&lt;/html&gt;\" style=\"position:absolute;width:100%;height:100%;left:0;top:0;border:none !important;\" allowfullscreen webkitallowfullscreen mozallowfullscreen></iframe></div></div>"
     },
     "execution_count": 507,
     "metadata": {},
     "output_type": "execute_result"
    }
   ],
   "source": [
    "import folium\n",
    "\n",
    "# Combine the latitude and longitude columns into a list of locations\n",
    "locations = [[lat, lon] for lat, lon in zip(locales_df['latitud'], locales_df['longitud'])]\n",
    "\n",
    "# Create a map centered at the first location in the list\n",
    "m = folium.Map(location=locations[0], zoom_start=5)\n",
    "\n",
    "# Add markers to the map for each location in the list\n",
    "for location in locations:\n",
    "    folium.Marker(location=location).add_to(m)\n",
    "\n",
    "# Display the map\n",
    "m"
   ],
   "metadata": {
    "collapsed": false
   }
  },
  {
   "cell_type": "markdown",
   "source": [
    "#### Guardar el dataset limpio"
   ],
   "metadata": {
    "collapsed": false
   }
  },
  {
   "cell_type": "code",
   "execution_count": 508,
   "outputs": [],
   "source": [
    "locales_df.to_csv('../clean_data/locales_clean.csv', index=False)"
   ],
   "metadata": {
    "collapsed": false
   }
  },
  {
   "cell_type": "markdown",
   "source": [
    "#### Subir csv a google cloud storage"
   ],
   "metadata": {
    "collapsed": false
   }
  },
  {
   "cell_type": "code",
   "execution_count": 509,
   "outputs": [
    {
     "name": "stdout",
     "output_type": "stream",
     "text": [
      "File ../clean_data/locales_clean.csv uploaded successfully to bucket deodorants/locales\n"
     ]
    }
   ],
   "source": [
    "upload_to_bucket('deodorants', '../clean_data/locales_clean.csv', 'locales')"
   ],
   "metadata": {
    "collapsed": false
   }
  },
  {
   "cell_type": "code",
   "execution_count": null,
   "outputs": [],
   "source": [],
   "metadata": {
    "collapsed": false
   }
  }
 ],
 "metadata": {
  "kernelspec": {
   "display_name": "Python 3 (ipykernel)",
   "language": "python",
   "name": "python3"
  },
  "language_info": {
   "codemirror_mode": {
    "name": "ipython",
    "version": 3
   },
   "file_extension": ".py",
   "mimetype": "text/x-python",
   "name": "python",
   "nbconvert_exporter": "python",
   "pygments_lexer": "ipython3",
   "version": "3.10.8"
  },
  "toc": {
   "base_numbering": 1,
   "nav_menu": {},
   "number_sections": true,
   "sideBar": true,
   "skip_h1_title": false,
   "title_cell": "Table of Contents",
   "title_sidebar": "Contents",
   "toc_cell": false,
   "toc_position": {},
   "toc_section_display": true,
   "toc_window_display": false
  },
  "varInspector": {
   "cols": {
    "lenName": 16,
    "lenType": 16,
    "lenVar": 40
   },
   "kernels_config": {
    "python": {
     "delete_cmd_postfix": "",
     "delete_cmd_prefix": "del ",
     "library": "var_list.py",
     "varRefreshCmd": "print(var_dic_list())"
    },
    "r": {
     "delete_cmd_postfix": ") ",
     "delete_cmd_prefix": "rm(",
     "library": "var_list.r",
     "varRefreshCmd": "cat(var_dic_list()) "
    }
   },
   "types_to_exclude": [
    "module",
    "function",
    "builtin_function_or_method",
    "instance",
    "_Feature"
   ],
   "window_display": false
  }
 },
 "nbformat": 4,
 "nbformat_minor": 5
}
