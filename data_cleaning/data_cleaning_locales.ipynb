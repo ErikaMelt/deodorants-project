{
 "cells": [
  {
   "cell_type": "markdown",
   "id": "75cf6f51",
   "metadata": {},
   "source": [
    "# Limpieza de Datos Locales 20190712"
   ]
  },
  {
   "cell_type": "code",
   "execution_count": 33,
   "id": "396705b3",
   "metadata": {},
   "outputs": [],
   "source": [
    "import pandas as pd\n",
    "from utils import  upload_to_bucket"
   ]
  },
  {
   "cell_type": "markdown",
   "id": "dbd04701",
   "metadata": {},
   "source": [
    "# Importar Datasets"
   ]
  },
  {
   "cell_type": "code",
   "execution_count": 34,
   "id": "6e040db7",
   "metadata": {},
   "outputs": [],
   "source": [
    "locales_col_names = [\n",
    "    'id_cadena', 'desc_cadena', 'id_region', 'desc_region', 'idb',\n",
    "    'desc_local', 'latitud', 'longitud', 'punto_dist'\n",
    "]\n",
    "\n",
    "dtypes = {\n",
    "    'desc_region': 'string',\n",
    "    'desc_local': 'string',\n",
    "    'punto_dist': 'string',\n",
    "}"
   ]
  },
  {
   "cell_type": "code",
   "execution_count": 35,
   "id": "5790f442",
   "metadata": {},
   "outputs": [],
   "source": [
    "locales_df = pd.read_csv(\"../data/Locales.txt\",\n",
    "                         encoding=\"UTF-8\",\n",
    "                         header=None,\n",
    "                         delimiter='\\t',\n",
    "                         names=locales_col_names,\n",
    "                         dtype=dtypes)"
   ]
  },
  {
   "cell_type": "code",
   "execution_count": 36,
   "id": "92a9f42d",
   "metadata": {},
   "outputs": [
    {
     "data": {
      "text/html": [
       "<div>\n",
       "<style scoped>\n",
       "    .dataframe tbody tr th:only-of-type {\n",
       "        vertical-align: middle;\n",
       "    }\n",
       "\n",
       "    .dataframe tbody tr th {\n",
       "        vertical-align: top;\n",
       "    }\n",
       "\n",
       "    .dataframe thead th {\n",
       "        text-align: right;\n",
       "    }\n",
       "</style>\n",
       "<table border=\"1\" class=\"dataframe\">\n",
       "  <thead>\n",
       "    <tr style=\"text-align: right;\">\n",
       "      <th></th>\n",
       "      <th>id_cadena</th>\n",
       "      <th>desc_cadena</th>\n",
       "      <th>id_region</th>\n",
       "      <th>desc_region</th>\n",
       "      <th>idb</th>\n",
       "      <th>desc_local</th>\n",
       "      <th>latitud</th>\n",
       "      <th>longitud</th>\n",
       "      <th>punto_dist</th>\n",
       "    </tr>\n",
       "  </thead>\n",
       "  <tbody>\n",
       "    <tr>\n",
       "      <th>0</th>\n",
       "      <td>1</td>\n",
       "      <td>Plaza Vea</td>\n",
       "      <td>1</td>\n",
       "      <td>Buenos Aires</td>\n",
       "      <td>9693</td>\n",
       "      <td>9693 - P Vea Villa Urquiza.</td>\n",
       "      <td>NaN</td>\n",
       "      <td>NaN</td>\n",
       "      <td>N</td>\n",
       "    </tr>\n",
       "    <tr>\n",
       "      <th>1</th>\n",
       "      <td>1</td>\n",
       "      <td>Plaza Vea</td>\n",
       "      <td>1</td>\n",
       "      <td>Buenos Aires</td>\n",
       "      <td>9694</td>\n",
       "      <td>9694 - P Vea JB Justo.</td>\n",
       "      <td>NaN</td>\n",
       "      <td>NaN</td>\n",
       "      <td>N</td>\n",
       "    </tr>\n",
       "    <tr>\n",
       "      <th>2</th>\n",
       "      <td>1</td>\n",
       "      <td>Plaza Vea</td>\n",
       "      <td>1</td>\n",
       "      <td>Buenos Aires</td>\n",
       "      <td>9695</td>\n",
       "      <td>695 - P Vea Acoyte.</td>\n",
       "      <td>0.0</td>\n",
       "      <td>0.0</td>\n",
       "      <td>N</td>\n",
       "    </tr>\n",
       "    <tr>\n",
       "      <th>3</th>\n",
       "      <td>1</td>\n",
       "      <td>Plaza Vea</td>\n",
       "      <td>1</td>\n",
       "      <td>Buenos Aires</td>\n",
       "      <td>9699</td>\n",
       "      <td>699 - P Vea Rivadavia.</td>\n",
       "      <td>0.0</td>\n",
       "      <td>0.0</td>\n",
       "      <td>N</td>\n",
       "    </tr>\n",
       "    <tr>\n",
       "      <th>4</th>\n",
       "      <td>1</td>\n",
       "      <td>Plaza Vea</td>\n",
       "      <td>1</td>\n",
       "      <td>Buenos Aires</td>\n",
       "      <td>9889</td>\n",
       "      <td>889 - Plaza Vea Carpa de liqui</td>\n",
       "      <td>NaN</td>\n",
       "      <td>NaN</td>\n",
       "      <td>N</td>\n",
       "    </tr>\n",
       "  </tbody>\n",
       "</table>\n",
       "</div>"
      ],
      "text/plain": [
       "   id_cadena                     desc_cadena  id_region  \\\n",
       "0          1  Plaza Vea                               1   \n",
       "1          1  Plaza Vea                               1   \n",
       "2          1  Plaza Vea                               1   \n",
       "3          1  Plaza Vea                               1   \n",
       "4          1  Plaza Vea                               1   \n",
       "\n",
       "                      desc_region   idb                      desc_local  \\\n",
       "0  Buenos Aires                    9693     9693 - P Vea Villa Urquiza.   \n",
       "1  Buenos Aires                    9694          9694 - P Vea JB Justo.   \n",
       "2  Buenos Aires                    9695             695 - P Vea Acoyte.   \n",
       "3  Buenos Aires                    9699          699 - P Vea Rivadavia.   \n",
       "4  Buenos Aires                    9889  889 - Plaza Vea Carpa de liqui   \n",
       "\n",
       "   latitud  longitud punto_dist  \n",
       "0      NaN       NaN          N  \n",
       "1      NaN       NaN          N  \n",
       "2      0.0       0.0          N  \n",
       "3      0.0       0.0          N  \n",
       "4      NaN       NaN          N  "
      ]
     },
     "execution_count": 36,
     "metadata": {},
     "output_type": "execute_result"
    }
   ],
   "source": [
    "locales_df.head()\n"
   ]
  },
  {
   "cell_type": "code",
   "execution_count": 37,
   "id": "93e85013",
   "metadata": {},
   "outputs": [
    {
     "name": "stdout",
     "output_type": "stream",
     "text": [
      "<class 'pandas.core.frame.DataFrame'>\n",
      "RangeIndex: 175 entries, 0 to 174\n",
      "Data columns (total 9 columns):\n",
      " #   Column       Non-Null Count  Dtype  \n",
      "---  ------       --------------  -----  \n",
      " 0   id_cadena    175 non-null    int64  \n",
      " 1   desc_cadena  175 non-null    object \n",
      " 2   id_region    175 non-null    int64  \n",
      " 3   desc_region  175 non-null    string \n",
      " 4   idb          175 non-null    int64  \n",
      " 5   desc_local   175 non-null    string \n",
      " 6   latitud      140 non-null    float64\n",
      " 7   longitud     140 non-null    float64\n",
      " 8   punto_dist   175 non-null    string \n",
      "dtypes: float64(2), int64(3), object(1), string(3)\n",
      "memory usage: 12.4+ KB\n"
     ]
    }
   ],
   "source": [
    "locales_df.info()"
   ]
  },
  {
   "cell_type": "markdown",
   "id": "45437b48",
   "metadata": {},
   "source": [
    "#### Ajustes al dataframe\n",
    "\n",
    "- Eliminar la columna \"desc_local\" debido a que no aporta información relevante para el análisis y se dispone de las coordenadas.\n",
    "- Convertir todas las cadenas de texto en minúsculas para unificar la información y facilitar su procesamiento.\n",
    "- Verificar si existen valores nulos o duplicados en el conjunto de datos para asegurar la integridad de la información y decidir cómo manejarlos si es necesario.\n",
    "- Convertir la columna categórica \"punto_dist\" a una variable binaria con la siguiente regla: asignar 1 a las observaciones en las que el valor de la columna sea \"s\", lo que indica que es un punto de distribución, y asignar 0 a todas las demás observaciones.\n",
    "- Crear una nueva columna llamada \"local\" usando la columna \"punto_dist\" de la siguiente manera: si \"punto_dist\" es 1, entonces la observación es un local y \"local\" se establece en 1; de lo contrario, \"local\" se establece en 0.\n",
    "- Rellenar los valores \"NaN\" de latitud y longitud con la media de sus respectivas columnas. Esto permitirá mantener la integridad del conjunto de datos y evitar problemas en el procesamiento posterior.\n",
    "- Identificar las observaciones con valores 0.00 en las columnas de latitud y longitud. Esto puede indicar datos faltantes o imprecisos, por lo que es necesario revisar estos casos y tomar las medidas adecuadas, como la eliminación o la imputación de valores.\n"
   ]
  },
  {
   "cell_type": "code",
   "execution_count": 38,
   "id": "2af61127",
   "metadata": {},
   "outputs": [],
   "source": [
    "locales_df.drop('desc_local', axis=1, inplace=True)"
   ]
  },
  {
   "cell_type": "code",
   "execution_count": 39,
   "id": "59300b91",
   "metadata": {},
   "outputs": [],
   "source": [
    "locales_df = locales_df.applymap(lambda x: x.lower() if isinstance(x, str) else x)"
   ]
  },
  {
   "cell_type": "code",
   "execution_count": 40,
   "id": "cd1775a3",
   "metadata": {},
   "outputs": [
    {
     "name": "stdout",
     "output_type": "stream",
     "text": [
      "id_cadena       0\n",
      "desc_cadena     0\n",
      "id_region       0\n",
      "desc_region     0\n",
      "idb             0\n",
      "latitud        35\n",
      "longitud       35\n",
      "punto_dist      0\n",
      "dtype: int64\n"
     ]
    }
   ],
   "source": [
    "print(locales_df.isna().sum())"
   ]
  },
  {
   "cell_type": "code",
   "execution_count": 41,
   "id": "7f23d972",
   "metadata": {},
   "outputs": [
    {
     "data": {
      "text/plain": [
       "id_cadena       0\n",
       "desc_cadena     0\n",
       "id_region       0\n",
       "desc_region     0\n",
       "idb             0\n",
       "latitud        35\n",
       "longitud       35\n",
       "punto_dist      0\n",
       "dtype: int64"
      ]
     },
     "execution_count": 41,
     "metadata": {},
     "output_type": "execute_result"
    }
   ],
   "source": [
    "locales_df.isnull().sum(axis=0)"
   ]
  },
  {
   "cell_type": "code",
   "execution_count": 42,
   "id": "462b217b",
   "metadata": {},
   "outputs": [],
   "source": [
    "# Convertir la columna categorica punto_dist a binaria\n",
    "punto_dist_mapping = {\"s\": 1, \"n\": 0}\n",
    "locales_df['punto_dist'] = locales_df['punto_dist'].map(punto_dist_mapping)"
   ]
  },
  {
   "cell_type": "code",
   "execution_count": 43,
   "id": "8e21843a",
   "metadata": {},
   "outputs": [],
   "source": [
    "# Crear una columna binaria para identificar si es un local\n",
    "locales_df['local'] = locales_df['punto_dist'].apply(lambda x: 1 if x == 0 else 0)"
   ]
  },
  {
   "cell_type": "code",
   "execution_count": 44,
   "id": "5e26a0f9",
   "metadata": {},
   "outputs": [
    {
     "name": "stdout",
     "output_type": "stream",
     "text": [
      "El total de registros duplicados en el dataset es: 0\n"
     ]
    }
   ],
   "source": [
    "# Identify the duplicate rows using a subset of columns\n",
    "subset_cols = ['idb', 'id_cadena']\n",
    "duplicate_mask = locales_df.duplicated(subset=subset_cols, keep='first')\n",
    "\n",
    "# Count the number of duplicate rows\n",
    "total_duplicates = sum(duplicate_mask)\n",
    "\n",
    "print(f\"El total de registros duplicados en el dataset es: {total_duplicates}\")"
   ]
  },
  {
   "cell_type": "code",
   "execution_count": 45,
   "id": "f9051bda",
   "metadata": {},
   "outputs": [
    {
     "name": "stdout",
     "output_type": "stream",
     "text": [
      "La columna categorica desc_cadena tiene 5 subnivele(s)\n",
      "La columna categorica desc_region tiene 1 subnivele(s)\n"
     ]
    }
   ],
   "source": [
    "# Conteo de los niveles en las diferentes columnas categóricas\n",
    "col_categoricas = ['desc_cadena', 'desc_region']\n",
    "for col in col_categoricas:\n",
    "    print(f'La columna categorica {col} tiene {locales_df[col].nunique()} subnivele(s)')"
   ]
  },
  {
   "cell_type": "code",
   "execution_count": 15,
   "id": "2e59d685",
   "metadata": {},
   "outputs": [],
   "source": [
    "coordinates = pd.read_csv('../data/coordinates.csv', encoding='utf-8', delimiter='\\t')"
   ]
  },
  {
   "cell_type": "code",
   "execution_count": 16,
   "id": "b14c20cc",
   "metadata": {},
   "outputs": [],
   "source": [
    "# merge the two dataframes on the key column\n",
    "merged_df = pd.merge(locales_df, coordinates, on='idb', suffixes=('', '_right'))\n",
    "\n",
    "# use boolean indexing to replace zero values with values from the second dataframe\n",
    "merged_df.loc[merged_df['latitud'] == 0.0, 'latitud'] = merged_df['latitud_right']\n",
    "merged_df.loc[merged_df['longitud'] == 0.0, 'longitud'] = merged_df['longitud_right']\n",
    "\n",
    "#drop the extra column\n",
    "merged_df.drop(['longitud_right', 'latitud_right'], axis=1, inplace=True)"
   ]
  },
  {
   "cell_type": "code",
   "execution_count": 17,
   "id": "a3c0b539",
   "metadata": {},
   "outputs": [
    {
     "name": "stdout",
     "output_type": "stream",
     "text": [
      "<class 'pandas.core.frame.DataFrame'>\n",
      "Int64Index: 14 entries, 0 to 13\n",
      "Data columns (total 9 columns):\n",
      " #   Column       Non-Null Count  Dtype  \n",
      "---  ------       --------------  -----  \n",
      " 0   id_cadena    14 non-null     int64  \n",
      " 1   desc_cadena  14 non-null     object \n",
      " 2   id_region    14 non-null     int64  \n",
      " 3   desc_region  14 non-null     object \n",
      " 4   idb          14 non-null     int64  \n",
      " 5   latitud      14 non-null     float64\n",
      " 6   longitud     14 non-null     float64\n",
      " 7   punto_dist   14 non-null     int64  \n",
      " 8   local        14 non-null     int64  \n",
      "dtypes: float64(2), int64(5), object(2)\n",
      "memory usage: 1.1+ KB\n"
     ]
    }
   ],
   "source": [
    "merged_df.info()"
   ]
  },
  {
   "cell_type": "code",
   "execution_count": 18,
   "id": "c0cda5e1",
   "metadata": {},
   "outputs": [],
   "source": [
    "locales_df.set_index('idb', inplace=True)\n",
    "locales_df.update(merged_df.set_index('idb'))\n",
    "locales_df.reset_index(inplace=True)\n",
    "locales_df = locales_df.astype({'idb': 'int64', 'punto_dist': 'int64', 'id_cadena': 'int64', 'id_region': 'int64', 'desc_cadena':'string', 'desc_region':'string', 'local':'int64' })"
   ]
  },
  {
   "cell_type": "code",
   "execution_count": 19,
   "id": "837a15b1",
   "metadata": {},
   "outputs": [],
   "source": [
    "# Llenar los valores missing de latitud y longitud con la media de cada columna.\n",
    "mean_latitud = locales_df['latitud'].mean()\n",
    "mean_longitud = locales_df['longitud'].mean()\n",
    "locales_df['latitud'].fillna(mean_latitud, inplace=True)\n",
    "locales_df['longitud'].fillna(mean_longitud, inplace=True)"
   ]
  },
  {
   "cell_type": "code",
   "execution_count": 20,
   "id": "a4e136d3",
   "metadata": {},
   "outputs": [
    {
     "name": "stdout",
     "output_type": "stream",
     "text": [
      "0\n",
      "longitud    0\n",
      "latitud     0\n",
      "dtype: int64\n"
     ]
    }
   ],
   "source": [
    "# Verificar que no existan valores missing o 0.0 para las columnas latitud y longitud.\n",
    "print(len(locales_df[(locales_df['latitud'] == 0.0) | (locales_df['longitud'] == 0.0)]))\n",
    "print(locales_df[['longitud','latitud']].isna().sum(axis=0))"
   ]
  },
  {
   "cell_type": "code",
   "execution_count": 46,
   "id": "4056888b",
   "metadata": {},
   "outputs": [
    {
     "data": {
      "text/html": [
       "<div>\n",
       "<style scoped>\n",
       "    .dataframe tbody tr th:only-of-type {\n",
       "        vertical-align: middle;\n",
       "    }\n",
       "\n",
       "    .dataframe tbody tr th {\n",
       "        vertical-align: top;\n",
       "    }\n",
       "\n",
       "    .dataframe thead th {\n",
       "        text-align: right;\n",
       "    }\n",
       "</style>\n",
       "<table border=\"1\" class=\"dataframe\">\n",
       "  <thead>\n",
       "    <tr style=\"text-align: right;\">\n",
       "      <th></th>\n",
       "      <th></th>\n",
       "      <th>idb</th>\n",
       "    </tr>\n",
       "    <tr>\n",
       "      <th>id_cadena</th>\n",
       "      <th>desc_cadena</th>\n",
       "      <th></th>\n",
       "    </tr>\n",
       "  </thead>\n",
       "  <tbody>\n",
       "    <tr>\n",
       "      <th>1</th>\n",
       "      <th>plaza vea</th>\n",
       "      <td>2.857143</td>\n",
       "    </tr>\n",
       "    <tr>\n",
       "      <th>2</th>\n",
       "      <th>disco</th>\n",
       "      <td>34.857143</td>\n",
       "    </tr>\n",
       "    <tr>\n",
       "      <th>4</th>\n",
       "      <th>vea</th>\n",
       "      <td>38.857143</td>\n",
       "    </tr>\n",
       "    <tr>\n",
       "      <th>9</th>\n",
       "      <th>jumbo</th>\n",
       "      <td>17.714286</td>\n",
       "    </tr>\n",
       "    <tr>\n",
       "      <th>11</th>\n",
       "      <th>rincon jumbo</th>\n",
       "      <td>5.714286</td>\n",
       "    </tr>\n",
       "  </tbody>\n",
       "</table>\n",
       "</div>"
      ],
      "text/plain": [
       "                              idb\n",
       "id_cadena desc_cadena            \n",
       "1         plaza vea      2.857143\n",
       "2         disco         34.857143\n",
       "4         vea           38.857143\n",
       "9         jumbo         17.714286\n",
       "11        rincon jumbo   5.714286"
      ]
     },
     "execution_count": 46,
     "metadata": {},
     "output_type": "execute_result"
    }
   ],
   "source": [
    "grouped_data = locales_df.groupby(['id_cadena', 'desc_cadena']).idb.count()\n",
    "grouped_data_percent = locales_df.groupby(['id_cadena', 'desc_cadena'])['idb'].count() / locales_df['idb'].count() * 100\n",
    "grouped_data_percent.index = grouped_data_percent.index.map(lambda x: (str(x[0]).strip(), str(x[1]).strip()))\n",
    "grouped_data_percent = grouped_data_percent.reset_index().set_index(['id_cadena', 'desc_cadena'])\n",
    "grouped_data_percent"
   ]
  },
  {
   "cell_type": "code",
   "execution_count": 49,
   "id": "0408dde1",
   "metadata": {},
   "outputs": [
    {
     "data": {
      "image/png": "[encoded data removed]",
      "text/plain": [
       "<Figure size 800x800 with 1 Axes>"
      ]
     },
     "metadata": {},
     "output_type": "display_data"
    }
   ],
   "source": [
    "import seaborn as sns\n",
    "import matplotlib.pyplot as plt\n",
    "\n",
    "# Set the style and color palette\n",
    "sns.set_style(\"whitegrid\")\n",
    "color = \"blend:#7AB,#EDA\"\n",
    "sns.set_palette(sns.color_palette(color))\n",
    "\n",
    "# Create the pie chart\n",
    "fig, ax = plt.subplots(figsize=(8, 8))\n",
    "grouped_data_percent.plot(kind='pie', y='idb', ax=ax, autopct='%1.1f%%', startangle=90, shadow=False, legend=False)\n",
    "\n",
    "# Add title and legend\n",
    "ax.set_title('Porcentaje de locales por cadena de supermercado', fontsize=14)\n",
    "ax.legend(grouped_data_percent.index, loc='upper left', bbox_to_anchor=(1.0, 0.5))\n",
    "\n",
    "# Save the plot as an image file\n",
    "plt.savefig(f'../eda/images/porcentaje_locales.png', dpi=300, bbox_inches='tight')\n",
    "\n",
    "plt.show()\n"
   ]
  },
  {
   "cell_type": "code",
   "execution_count": 51,
   "id": "35f92872",
   "metadata": {},
   "outputs": [
    {
     "data": {
      "text/plain": [
       "local  punto_dist  desc_cadena                   \n",
       "0      1           disco                              3\n",
       "                   jumbo                              3\n",
       "1      0           disco                             58\n",
       "                   jumbo                             28\n",
       "                   plaza vea                          5\n",
       "                   rincon jumbo                      10\n",
       "                   vea                               68\n",
       "Name: idb, dtype: int64"
      ]
     },
     "execution_count": 51,
     "metadata": {},
     "output_type": "execute_result"
    }
   ],
   "source": [
    "grouped_data_pd = locales_df.groupby(['local', 'punto_dist', 'desc_cadena']).idb.count()\n",
    "grouped_data_pd"
   ]
  },
  {
   "cell_type": "code",
   "execution_count": 52,
   "id": "21f3f685",
   "metadata": {},
   "outputs": [
    {
     "name": "stdout",
     "output_type": "stream",
     "text": [
      "<class 'pandas.core.frame.DataFrame'>\n",
      "RangeIndex: 175 entries, 0 to 174\n",
      "Data columns (total 9 columns):\n",
      " #   Column       Non-Null Count  Dtype  \n",
      "---  ------       --------------  -----  \n",
      " 0   id_cadena    175 non-null    int64  \n",
      " 1   desc_cadena  175 non-null    object \n",
      " 2   id_region    175 non-null    int64  \n",
      " 3   desc_region  175 non-null    object \n",
      " 4   idb          175 non-null    int64  \n",
      " 5   latitud      140 non-null    float64\n",
      " 6   longitud     140 non-null    float64\n",
      " 7   punto_dist   175 non-null    int64  \n",
      " 8   local        175 non-null    int64  \n",
      "dtypes: float64(2), int64(5), object(2)\n",
      "memory usage: 12.4+ KB\n"
     ]
    }
   ],
   "source": [
    "locales_df.info()"
   ]
  },
  {
   "cell_type": "code",
   "execution_count": 56,
   "id": "d3a8ca86",
   "metadata": {},
   "outputs": [
    {
     "data": {
      "text/plain": [
       "(140, 9)"
      ]
     },
     "execution_count": 56,
     "metadata": {},
     "output_type": "execute_result"
    }
   ],
   "source": [
    "locales_df.shape"
   ]
  },
  {
   "cell_type": "code",
   "execution_count": 54,
   "id": "ad1ab2b2",
   "metadata": {},
   "outputs": [
    {
     "data": {
      "text/html": [
       "<div>\n",
       "<style scoped>\n",
       "    .dataframe tbody tr th:only-of-type {\n",
       "        vertical-align: middle;\n",
       "    }\n",
       "\n",
       "    .dataframe tbody tr th {\n",
       "        vertical-align: top;\n",
       "    }\n",
       "\n",
       "    .dataframe thead th {\n",
       "        text-align: right;\n",
       "    }\n",
       "</style>\n",
       "<table border=\"1\" class=\"dataframe\">\n",
       "  <thead>\n",
       "    <tr style=\"text-align: right;\">\n",
       "      <th></th>\n",
       "      <th>id_cadena</th>\n",
       "      <th>id_region</th>\n",
       "      <th>idb</th>\n",
       "      <th>latitud</th>\n",
       "      <th>longitud</th>\n",
       "      <th>punto_dist</th>\n",
       "      <th>local</th>\n",
       "    </tr>\n",
       "  </thead>\n",
       "  <tbody>\n",
       "    <tr>\n",
       "      <th>count</th>\n",
       "      <td>175.000000</td>\n",
       "      <td>175.0</td>\n",
       "      <td>175.000000</td>\n",
       "      <td>140.000000</td>\n",
       "      <td>140.000000</td>\n",
       "      <td>175.000000</td>\n",
       "      <td>175.000000</td>\n",
       "    </tr>\n",
       "    <tr>\n",
       "      <th>mean</th>\n",
       "      <td>4.502857</td>\n",
       "      <td>1.0</td>\n",
       "      <td>6909.617143</td>\n",
       "      <td>-31.533832</td>\n",
       "      <td>-52.839588</td>\n",
       "      <td>0.034286</td>\n",
       "      <td>0.965714</td>\n",
       "    </tr>\n",
       "    <tr>\n",
       "      <th>std</th>\n",
       "      <td>2.945627</td>\n",
       "      <td>0.0</td>\n",
       "      <td>3421.539461</td>\n",
       "      <td>10.718891</td>\n",
       "      <td>17.724343</td>\n",
       "      <td>0.182484</td>\n",
       "      <td>0.182484</td>\n",
       "    </tr>\n",
       "    <tr>\n",
       "      <th>min</th>\n",
       "      <td>1.000000</td>\n",
       "      <td>1.0</td>\n",
       "      <td>242.000000</td>\n",
       "      <td>-45.872649</td>\n",
       "      <td>-67.496036</td>\n",
       "      <td>0.000000</td>\n",
       "      <td>0.000000</td>\n",
       "    </tr>\n",
       "    <tr>\n",
       "      <th>25%</th>\n",
       "      <td>2.000000</td>\n",
       "      <td>1.0</td>\n",
       "      <td>5213.500000</td>\n",
       "      <td>-34.730633</td>\n",
       "      <td>-58.632039</td>\n",
       "      <td>0.000000</td>\n",
       "      <td>1.000000</td>\n",
       "    </tr>\n",
       "    <tr>\n",
       "      <th>50%</th>\n",
       "      <td>4.000000</td>\n",
       "      <td>1.0</td>\n",
       "      <td>9019.000000</td>\n",
       "      <td>-34.601654</td>\n",
       "      <td>-58.434434</td>\n",
       "      <td>0.000000</td>\n",
       "      <td>1.000000</td>\n",
       "    </tr>\n",
       "    <tr>\n",
       "      <th>75%</th>\n",
       "      <td>4.000000</td>\n",
       "      <td>1.0</td>\n",
       "      <td>9158.500000</td>\n",
       "      <td>-34.546212</td>\n",
       "      <td>-58.251974</td>\n",
       "      <td>0.000000</td>\n",
       "      <td>1.000000</td>\n",
       "    </tr>\n",
       "    <tr>\n",
       "      <th>max</th>\n",
       "      <td>11.000000</td>\n",
       "      <td>1.0</td>\n",
       "      <td>9977.000000</td>\n",
       "      <td>0.000000</td>\n",
       "      <td>0.000000</td>\n",
       "      <td>1.000000</td>\n",
       "      <td>1.000000</td>\n",
       "    </tr>\n",
       "  </tbody>\n",
       "</table>\n",
       "</div>"
      ],
      "text/plain": [
       "        id_cadena  id_region          idb     latitud    longitud  punto_dist  \\\n",
       "count  175.000000      175.0   175.000000  140.000000  140.000000  175.000000   \n",
       "mean     4.502857        1.0  6909.617143  -31.533832  -52.839588    0.034286   \n",
       "std      2.945627        0.0  3421.539461   10.718891   17.724343    0.182484   \n",
       "min      1.000000        1.0   242.000000  -45.872649  -67.496036    0.000000   \n",
       "25%      2.000000        1.0  5213.500000  -34.730633  -58.632039    0.000000   \n",
       "50%      4.000000        1.0  9019.000000  -34.601654  -58.434434    0.000000   \n",
       "75%      4.000000        1.0  9158.500000  -34.546212  -58.251974    0.000000   \n",
       "max     11.000000        1.0  9977.000000    0.000000    0.000000    1.000000   \n",
       "\n",
       "            local  \n",
       "count  175.000000  \n",
       "mean     0.965714  \n",
       "std      0.182484  \n",
       "min      0.000000  \n",
       "25%      1.000000  \n",
       "50%      1.000000  \n",
       "75%      1.000000  \n",
       "max      1.000000  "
      ]
     },
     "execution_count": 54,
     "metadata": {},
     "output_type": "execute_result"
    }
   ],
   "source": [
    "locales_df.describe()"
   ]
  },
  {
   "cell_type": "markdown",
   "id": "71df5584",
   "metadata": {},
   "source": [
    "#### Observaciones\n",
    "1. El conjunto de datos está compuesto por 175 registros y 9 columnas. Las columnas son: \"id_cadena\", \"desc_cadena\", \"id_region\", \"desc_region\", \"idb\", \"latitud\", \"longitud\", \"punto_distr\" y \"local\". Estas columnas se describen a continuación:\n",
    "\n",
    "    - id_cadena: Identificador interno de la cadena.\n",
    "    - desc_cadena: Descripción de la cadena.\n",
    "    - id_region: Identificador interno de la región.\n",
    "    - desc_region: Descripción de la región.\n",
    "    - idb: Identificador interno de la boca.\n",
    "    - latitud: Ubicación en el eje Y de la boca.\n",
    "    - longitud: Ubicación en el eje X de la boca.\n",
    "    - punto_distr: Indica si el valor es 1 que es un centro de distribución, de lo contrario es un local.\n",
    "    - local: Indica si el valor es 1 que es un local, si es 0 no es un local.\n",
    "\n",
    "2. Se ha eliminado la columna \"desc_local\" debido a que no aporta información relevante para el análisis y se dispone de las coordenadas de latitud y longitud.\n",
    "\n",
    "3. Se encontraron 35 valores de latitud y longitud que contenían valores nulos y 14 registros con valores en 0.0. Para los valores nulos se rellenaron con el valor medio de las columnas de latitud y longitud, y para los registros con valores en 0.0 se encontraron los valores correspondientes de las coordenadas y se realizaron las imputaciones.\n",
    "\n",
    "4. Se encontraron dos columnas categóricas con los siguientes subniveles:\n",
    "    - La columna \"desc_cadena\" tiene 5 subniveles: Plaza Vea, Vea, Jumbo, Disco y Rinco Jumbo.\n",
    "    - La columna \"desc_region\" tiene 1 subnivel, el cual es Buenos Aires.\n",
    "\n",
    "5. Todos los registros de la columna \"desc_region\" tienen el valor \"Buenos Aires\", lo que indica que solo hay una región.\n",
    "\n",
    "6. Se agruparon las categorías de la columna \"desc_cadena\" de la siguiente manera:\n",
    "\n",
    "    | **Cadena** | **Total Locales** |\n",
    "        Plaza Vea | 5\n",
    "        Disco | 61\n",
    "        Vea | 68\n",
    "        Jumbo | 31\n",
    "        Rincon Jumbo | 10\n",
    "\n",
    "7. El conjunto de datos contiene 6 centros de distribución y 169 locales.\n",
    "\n",
    "\n"
   ]
  },
  {
   "cell_type": "markdown",
   "id": "c7a5c42d",
   "metadata": {},
   "source": [
    "#### Guardar el dataset limpio"
   ]
  },
  {
   "cell_type": "code",
   "execution_count": 508,
   "id": "0cec9e61",
   "metadata": {},
   "outputs": [],
   "source": [
    "locales_df.to_csv('../clean_data/locales_clean.csv', index=False)"
   ]
  },
  {
   "cell_type": "markdown",
   "id": "2b198339",
   "metadata": {},
   "source": [
    "#### Subir csv a google cloud storage"
   ]
  },
  {
   "cell_type": "code",
   "execution_count": 509,
   "id": "634ac055",
   "metadata": {},
   "outputs": [
    {
     "name": "stdout",
     "output_type": "stream",
     "text": [
      "File ../clean_data/locales_clean.csv uploaded successfully to bucket deodorants/locales\n"
     ]
    }
   ],
   "source": [
    "upload_to_bucket('deodorants', '../clean_data/locales_clean.csv', 'locales')"
   ]
  }
 ],
 "metadata": {
  "kernelspec": {
   "display_name": "Python 3 (ipykernel)",
   "language": "python",
   "name": "python3"
  },
  "language_info": {
   "codemirror_mode": {
    "name": "ipython",
    "version": 3
   },
   "file_extension": ".py",
   "mimetype": "text/x-python",
   "name": "python",
   "nbconvert_exporter": "python",
   "pygments_lexer": "ipython3",
   "version": "3.10.9"
  },
  "toc": {
   "base_numbering": 1,
   "nav_menu": {},
   "number_sections": true,
   "sideBar": true,
   "skip_h1_title": false,
   "title_cell": "Table of Contents",
   "title_sidebar": "Contents",
   "toc_cell": false,
   "toc_position": {},
   "toc_section_display": true,
   "toc_window_display": false
  },
  "varInspector": {
   "cols": {
    "lenName": 16,
    "lenType": 16,
    "lenVar": 40
   },
   "kernels_config": {
    "python": {
     "delete_cmd_postfix": "",
     "delete_cmd_prefix": "del ",
     "library": "var_list.py",
     "varRefreshCmd": "print(var_dic_list())"
    },
    "r": {
     "delete_cmd_postfix": ") ",
     "delete_cmd_prefix": "rm(",
     "library": "var_list.r",
     "varRefreshCmd": "cat(var_dic_list()) "
    }
   },
   "types_to_exclude": [
    "module",
    "function",
    "builtin_function_or_method",
    "instance",
    "_Feature"
   ],
   "window_display": false
  }
 },
 "nbformat": 4,
 "nbformat_minor": 5
}
