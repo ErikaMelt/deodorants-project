{
 "cells": [
  {
   "cell_type": "markdown",
   "id": "7af5dfe1",
   "metadata": {},
   "source": [
    "# Limpieza de Datos Dataset ProvProdu-20190712"
   ]
  },
  {
   "cell_type": "code",
   "execution_count": 1,
   "id": "396705b3",
   "metadata": {},
   "outputs": [],
   "source": [
    "import pandas as pd\n",
    "from utils_functions import  upload_to_bucket\n",
    "import matplotlib.pyplot as plt\n",
    "import seaborn as sns"
   ]
  },
  {
   "cell_type": "markdown",
   "id": "dbd04701",
   "metadata": {},
   "source": [
    "# Importar Dataset"
   ]
  },
  {
   "cell_type": "markdown",
   "source": [
    "#### Importar el dataset y observar los primeros registros con head y verificar los tipos de datos con el método info."
   ],
   "metadata": {
    "collapsed": false
   }
  },
  {
   "cell_type": "code",
   "execution_count": 2,
   "outputs": [],
   "source": [
    "prov_prod_col_names = [\n",
    "    'id_proveedor', 'razon_social', 'id_sector', 'desc_sector', 'id_seccion',\n",
    "    'desc_seccion', 'id_gran_flia', 'desc_gran_flia', 'id_flia', 'desc_flia',\n",
    "    'id_sub_flia', 'desc_sub_flia', 'id_articulo', 'id_producto',\n",
    "    'desc_producto', 'id_region', 'fecha'\n",
    "]"
   ],
   "metadata": {
    "collapsed": false
   }
  },
  {
   "cell_type": "code",
   "execution_count": 3,
   "outputs": [],
   "source": [
    "prov_prod_df = pd.read_csv(\"../data/VMI_ProvProdu-20190712.txt\",\n",
    "                           encoding=\"UTF-8\",\n",
    "                           encoding_errors='replace',\n",
    "                           header=None,\n",
    "                           delimiter='\\t',\n",
    "                           names=prov_prod_col_names)"
   ],
   "metadata": {
    "collapsed": false
   }
  },
  {
   "cell_type": "code",
   "execution_count": 6,
   "id": "ad3f0604",
   "metadata": {},
   "outputs": [
    {
     "data": {
      "text/plain": "   id_proveedor                      razon_social  id_sector desc_sector  \\\n1           252  Reckitt Benckiser Argentina S.A.          1     Almac�n   \n1           252  Reckitt Benckiser Argentina S.A.          1     Almac�n   \n1           252  Reckitt Benckiser Argentina S.A.          1     Almac�n   \n1           252  Reckitt Benckiser Argentina S.A.          1     Almac�n   \n1           252  Reckitt Benckiser Argentina S.A.          1     Almac�n   \n\n   id_seccion desc_seccion  id_gran_flia desc_gran_flia  id_flia  \\\n1           4     Limpieza             3   Ba�o y Hogar        4   \n1           4     Limpieza             3   Ba�o y Hogar        4   \n1           4     Limpieza             3   Ba�o y Hogar        4   \n1           4     Limpieza             3   Ba�o y Hogar        4   \n1           4     Limpieza             3   Ba�o y Hogar        4   \n\n                   desc_flia  id_sub_flia            desc_sub_flia  \\\n1  Desodorantes de ambientes            1  Desodorantes en aerosol   \n1  Desodorantes de ambientes            1  Desodorantes en aerosol   \n1  Desodorantes de ambientes            1  Desodorantes en aerosol   \n1  Desodorantes de ambientes            1  Desodorantes en aerosol   \n1  Desodorantes de ambientes            1  Desodorantes en aerosol   \n\n   id_articulo  id_producto  \\\n1        27003       273920   \n1        27004       273921   \n1        27005       284012   \n1        27012       359572   \n1        27007       415268   \n\n                                       desc_producto  id_region  \\\n1  REFILL CITRICO  OIL ESCENCE AIR WICK CITRICOS ...          1   \n1     FRESHMATIC AIRWICK LAVANDA REPUESTO 250.00 MLT          1   \n1  AIR WICK CITRICO FULL REP.GRATIS AIR WICK AIR ...          1   \n1      MAGNOLIA Y CHERRY AIR WICK REPUESTO 175.00 GR          1   \n1  FRESHMATIC BOSQUE M�GICO APARATO AIR WICK LUSH...          1   \n\n                     fecha  \n1  2019-07-12 11:04:07.967  \n1  2019-07-12 11:04:07.967  \n1  2019-07-12 11:04:07.967  \n1  2019-07-12 11:04:07.967  \n1  2019-07-12 11:04:07.967  ",
      "text/html": "<div>\n<style scoped>\n    .dataframe tbody tr th:only-of-type {\n        vertical-align: middle;\n    }\n\n    .dataframe tbody tr th {\n        vertical-align: top;\n    }\n\n    .dataframe thead th {\n        text-align: right;\n    }\n</style>\n<table border=\"1\" class=\"dataframe\">\n  <thead>\n    <tr style=\"text-align: right;\">\n      <th></th>\n      <th>id_proveedor</th>\n      <th>razon_social</th>\n      <th>id_sector</th>\n      <th>desc_sector</th>\n      <th>id_seccion</th>\n      <th>desc_seccion</th>\n      <th>id_gran_flia</th>\n      <th>desc_gran_flia</th>\n      <th>id_flia</th>\n      <th>desc_flia</th>\n      <th>id_sub_flia</th>\n      <th>desc_sub_flia</th>\n      <th>id_articulo</th>\n      <th>id_producto</th>\n      <th>desc_producto</th>\n      <th>id_region</th>\n      <th>fecha</th>\n    </tr>\n  </thead>\n  <tbody>\n    <tr>\n      <th>1</th>\n      <td>252</td>\n      <td>Reckitt Benckiser Argentina S.A.</td>\n      <td>1</td>\n      <td>Almac�n</td>\n      <td>4</td>\n      <td>Limpieza</td>\n      <td>3</td>\n      <td>Ba�o y Hogar</td>\n      <td>4</td>\n      <td>Desodorantes de ambientes</td>\n      <td>1</td>\n      <td>Desodorantes en aerosol</td>\n      <td>27003</td>\n      <td>273920</td>\n      <td>REFILL CITRICO  OIL ESCENCE AIR WICK CITRICOS ...</td>\n      <td>1</td>\n      <td>2019-07-12 11:04:07.967</td>\n    </tr>\n    <tr>\n      <th>1</th>\n      <td>252</td>\n      <td>Reckitt Benckiser Argentina S.A.</td>\n      <td>1</td>\n      <td>Almac�n</td>\n      <td>4</td>\n      <td>Limpieza</td>\n      <td>3</td>\n      <td>Ba�o y Hogar</td>\n      <td>4</td>\n      <td>Desodorantes de ambientes</td>\n      <td>1</td>\n      <td>Desodorantes en aerosol</td>\n      <td>27004</td>\n      <td>273921</td>\n      <td>FRESHMATIC AIRWICK LAVANDA REPUESTO 250.00 MLT</td>\n      <td>1</td>\n      <td>2019-07-12 11:04:07.967</td>\n    </tr>\n    <tr>\n      <th>1</th>\n      <td>252</td>\n      <td>Reckitt Benckiser Argentina S.A.</td>\n      <td>1</td>\n      <td>Almac�n</td>\n      <td>4</td>\n      <td>Limpieza</td>\n      <td>3</td>\n      <td>Ba�o y Hogar</td>\n      <td>4</td>\n      <td>Desodorantes de ambientes</td>\n      <td>1</td>\n      <td>Desodorantes en aerosol</td>\n      <td>27005</td>\n      <td>284012</td>\n      <td>AIR WICK CITRICO FULL REP.GRATIS AIR WICK AIR ...</td>\n      <td>1</td>\n      <td>2019-07-12 11:04:07.967</td>\n    </tr>\n    <tr>\n      <th>1</th>\n      <td>252</td>\n      <td>Reckitt Benckiser Argentina S.A.</td>\n      <td>1</td>\n      <td>Almac�n</td>\n      <td>4</td>\n      <td>Limpieza</td>\n      <td>3</td>\n      <td>Ba�o y Hogar</td>\n      <td>4</td>\n      <td>Desodorantes de ambientes</td>\n      <td>1</td>\n      <td>Desodorantes en aerosol</td>\n      <td>27012</td>\n      <td>359572</td>\n      <td>MAGNOLIA Y CHERRY AIR WICK REPUESTO 175.00 GR</td>\n      <td>1</td>\n      <td>2019-07-12 11:04:07.967</td>\n    </tr>\n    <tr>\n      <th>1</th>\n      <td>252</td>\n      <td>Reckitt Benckiser Argentina S.A.</td>\n      <td>1</td>\n      <td>Almac�n</td>\n      <td>4</td>\n      <td>Limpieza</td>\n      <td>3</td>\n      <td>Ba�o y Hogar</td>\n      <td>4</td>\n      <td>Desodorantes de ambientes</td>\n      <td>1</td>\n      <td>Desodorantes en aerosol</td>\n      <td>27007</td>\n      <td>415268</td>\n      <td>FRESHMATIC BOSQUE M�GICO APARATO AIR WICK LUSH...</td>\n      <td>1</td>\n      <td>2019-07-12 11:04:07.967</td>\n    </tr>\n  </tbody>\n</table>\n</div>"
     },
     "execution_count": 6,
     "metadata": {},
     "output_type": "execute_result"
    }
   ],
   "source": [
    "prov_prod_df.head()"
   ]
  },
  {
   "cell_type": "code",
   "execution_count": 7,
   "outputs": [
    {
     "name": "stdout",
     "output_type": "stream",
     "text": [
      "<class 'pandas.core.frame.DataFrame'>\n",
      "Int64Index: 82 entries, 1 to 1\n",
      "Data columns (total 17 columns):\n",
      " #   Column          Non-Null Count  Dtype \n",
      "---  ------          --------------  ----- \n",
      " 0   id_proveedor    82 non-null     int64 \n",
      " 1   razon_social    82 non-null     object\n",
      " 2   id_sector       82 non-null     int64 \n",
      " 3   desc_sector     82 non-null     object\n",
      " 4   id_seccion      82 non-null     int64 \n",
      " 5   desc_seccion    82 non-null     object\n",
      " 6   id_gran_flia    82 non-null     int64 \n",
      " 7   desc_gran_flia  82 non-null     object\n",
      " 8   id_flia         82 non-null     int64 \n",
      " 9   desc_flia       82 non-null     object\n",
      " 10  id_sub_flia     82 non-null     int64 \n",
      " 11  desc_sub_flia   82 non-null     object\n",
      " 12  id_articulo     82 non-null     int64 \n",
      " 13  id_producto     82 non-null     int64 \n",
      " 14  desc_producto   82 non-null     object\n",
      " 15  id_region       82 non-null     int64 \n",
      " 16  fecha           82 non-null     object\n",
      "dtypes: int64(9), object(8)\n",
      "memory usage: 11.5+ KB\n"
     ]
    }
   ],
   "source": [
    "prov_prod_df.info()"
   ],
   "metadata": {
    "collapsed": false
   }
  },
  {
   "cell_type": "markdown",
   "source": [
    "#### Observaciones Iniciales\n",
    "- El dataset contiene 82 registros que contienen la relacion entre la descripcion del producto, la familia, subfamilia y gran familia, asi mismo contiene el nombre del proveedor de los productos.\n",
    "- Vamos a revisar las diferents categorias de las variables tipo object que se encuentran en el dataset para identificar los tipos de categoria presentes en el dataset."
   ],
   "metadata": {
    "collapsed": false
   }
  },
  {
   "cell_type": "code",
   "execution_count": null,
   "outputs": [],
   "source": [
    "columnas_categoricas = ['razon_social', 'desc_sector', 'desc_seccion', 'desc_gran_flia', 'desc_flia', 'desc_sub_flia', 'desc_producto']"
   ],
   "metadata": {
    "collapsed": false
   }
  },
  {
   "cell_type": "code",
   "execution_count": null,
   "outputs": [],
   "source": [
    "# Conteo de los niveles en las diferentes columnas categóricas\n",
    "for col in columnas_categoricas:\n",
    "    print(f'Columna {col}: {prov_prod_df[col].nunique()} subnivele(s)')"
   ],
   "metadata": {
    "collapsed": false
   }
  },
  {
   "cell_type": "code",
   "execution_count": null,
   "outputs": [],
   "source": [
    "grouped_data = prov_prod_df.groupby(['razon_social']).id_producto.count()\n",
    "print(f\"Total de productos suministrados por los cuatro principales proveedores: \\n {grouped_data}\")"
   ],
   "metadata": {
    "collapsed": false
   }
  },
  {
   "cell_type": "code",
   "execution_count": null,
   "outputs": [],
   "source": [
    "grouped_data_by_flia = prov_prod_df.groupby(['desc_sector', 'desc_seccion', 'desc_gran_flia', 'desc_flia', 'desc_sub_flia']).id_producto.count()\n",
    "print(f\"Agrupacion de prooductos por gran familia, familia y subfamilia: \\n{grouped_data_by_flia}\")"
   ],
   "metadata": {
    "collapsed": false
   }
  },
  {
   "cell_type": "markdown",
   "source": [
    "Podemos concluir que existen 82 únicos productos en el dataset y cuatro proveedores principales que los suministran, los productos principalment corresponden a productos de la categoria desodorantes en aerosol perteneciente a la familia de desodorantes de ambientes clasificados en productos de Limpieza para el baño y hogar.\n",
    "\n",
    "Para el objetivo de este análisis hemos concluido que vamos a tomar de este dataset unicamente las columnas de razon social, id del proveedor, id del producto y descripción del producto.  Las demás columnas se van  a eliminar del dataset."
   ],
   "metadata": {
    "collapsed": false
   }
  },
  {
   "cell_type": "code",
   "execution_count": null,
   "outputs": [],
   "source": [
    "# Eliminar del dataset las columnas que no son relevantes para el análisis.\n",
    "prov_prod_df.drop(['id_sector', 'desc_sector', 'id_seccion', 'desc_seccion', 'id_gran_flia', 'desc_gran_flia', 'id_flia', 'desc_flia', 'id_sub_flia', 'desc_sub_flia', 'id_articulo', 'fecha'], axis=1, inplace=True)"
   ],
   "metadata": {
    "collapsed": false
   }
  },
  {
   "cell_type": "code",
   "execution_count": null,
   "outputs": [],
   "source": [
    "prov_prod_df = prov_prod_df.applymap(lambda x: x.lower() if isinstance(x, str) else x)"
   ],
   "metadata": {
    "collapsed": false
   }
  },
  {
   "cell_type": "code",
   "execution_count": null,
   "outputs": [],
   "source": [
    "prov_prod_df.info()"
   ],
   "metadata": {
    "collapsed": false
   }
  },
  {
   "cell_type": "code",
   "execution_count": 5,
   "outputs": [
    {
     "name": "stdout",
     "output_type": "stream",
     "text": [
      "82\n"
     ]
    }
   ],
   "source": [
    "print(prov_prod_df.id_producto.nunique())"
   ],
   "metadata": {
    "collapsed": false
   }
  },
  {
   "cell_type": "code",
   "execution_count": null,
   "outputs": [],
   "source": [
    "# set the seaborn theme\n",
    "sns.set_theme(style=\"ticks\")\n",
    "\n",
    "plt.figure(figsize=(12, 8))\n",
    "\n",
    "# create a bar chart of the grouped data\n",
    "grouped_data = prov_prod_df.groupby(['razon_social']).id_producto.count()\n",
    "ax = grouped_data.plot(kind='bar')\n",
    "\n",
    "# set chart labels and title\n",
    "ax.set_xlabel('Proveedor')\n",
    "ax.set_ylabel('Cantidad de Productos')\n",
    "ax.set_title('Productos por Proveedor')\n",
    "\n",
    "# add labels to the bars\n",
    "for i, v in enumerate(grouped_data):\n",
    "    ax.text(i, v + 1, str(v), color='blue', fontweight='bold', ha='center')\n",
    "\n",
    "# rotate the x-axis labels by 45 degrees\n",
    "ax.set_xticklabels(ax.get_xticklabels(), rotation=10, ha='right')\n",
    "\n",
    "# save the chart as a PNG image\n",
    "plt.savefig('productos_por_proveedor.png')\n",
    "\n",
    "# display the chart\n",
    "plt.show()\n"
   ],
   "metadata": {
    "collapsed": false
   }
  },
  {
   "cell_type": "markdown",
   "source": [
    "#### Guardar el dataset limpio"
   ],
   "metadata": {
    "collapsed": false
   }
  },
  {
   "cell_type": "code",
   "execution_count": null,
   "id": "cee29598",
   "metadata": {},
   "outputs": [],
   "source": [
    "prov_prod_df.to_csv('../clean_data/prov_prod_clean.csv', index=False)"
   ]
  },
  {
   "cell_type": "markdown",
   "source": [
    "#### Subir csv a google cloud storage"
   ],
   "metadata": {
    "collapsed": false
   }
  },
  {
   "cell_type": "code",
   "execution_count": null,
   "outputs": [],
   "source": [
    "upload_to_bucket('deodorants', '../clean_data/prov_prod_clean.csv', 'prov_prod')"
   ],
   "metadata": {
    "collapsed": false
   }
  },
  {
   "cell_type": "code",
   "execution_count": null,
   "outputs": [],
   "source": [],
   "metadata": {
    "collapsed": false
   }
  }
 ],
 "metadata": {
  "kernelspec": {
   "display_name": "Python 3 (ipykernel)",
   "language": "python",
   "name": "python3"
  },
  "language_info": {
   "codemirror_mode": {
    "name": "ipython",
    "version": 3
   },
   "file_extension": ".py",
   "mimetype": "text/x-python",
   "name": "python",
   "nbconvert_exporter": "python",
   "pygments_lexer": "ipython3",
   "version": "3.10.8"
  },
  "toc": {
   "base_numbering": 1,
   "nav_menu": {},
   "number_sections": true,
   "sideBar": true,
   "skip_h1_title": false,
   "title_cell": "Table of Contents",
   "title_sidebar": "Contents",
   "toc_cell": false,
   "toc_position": {},
   "toc_section_display": true,
   "toc_window_display": false
  },
  "varInspector": {
   "cols": {
    "lenName": 16,
    "lenType": 16,
    "lenVar": 40
   },
   "kernels_config": {
    "python": {
     "delete_cmd_postfix": "",
     "delete_cmd_prefix": "del ",
     "library": "var_list.py",
     "varRefreshCmd": "print(var_dic_list())"
    },
    "r": {
     "delete_cmd_postfix": ") ",
     "delete_cmd_prefix": "rm(",
     "library": "var_list.r",
     "varRefreshCmd": "cat(var_dic_list()) "
    }
   },
   "types_to_exclude": [
    "module",
    "function",
    "builtin_function_or_method",
    "instance",
    "_Feature"
   ],
   "window_display": false
  }
 },
 "nbformat": 4,
 "nbformat_minor": 5
}
