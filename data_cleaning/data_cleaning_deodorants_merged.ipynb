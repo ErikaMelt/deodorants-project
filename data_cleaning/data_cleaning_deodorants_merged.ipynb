{
 "cells": [
  {
   "cell_type": "code",
   "execution_count": 30,
   "outputs": [],
   "source": [
    "import pandas as pd\n",
    "import  constants\n",
    "from utils import get_season"
   ],
   "metadata": {
    "collapsed": false
   }
  },
  {
   "cell_type": "code",
   "execution_count": 2,
   "outputs": [],
   "source": [
    "deodorants_df_0 = pd.read_csv(\"../clean_data/deodorants_0.csv\", parse_dates=['fecha_trans', 'fecha_desde', 'fecha_hasta'])\n",
    "deodorants_df_1 = pd.read_csv(\"../clean_data/deodorants_1.csv\", parse_dates=['fecha_trans', 'fecha_desde', 'fecha_hasta'])\n",
    "deodorants_df_2 = pd.read_csv(\"../clean_data/deodorants_2.csv\", parse_dates=['fecha_trans', 'fecha_desde', 'fecha_hasta'])\n",
    "deodorants_df_3 = pd.read_csv(\"../clean_data/deodorants_3.csv\", parse_dates=['fecha_trans', 'fecha_desde', 'fecha_hasta'])\n",
    "deodorants_df_4 = pd.read_csv(\"../clean_data/deodorants_4.csv\", parse_dates=['fecha_trans', 'fecha_desde', 'fecha_hasta'])\n",
    "deodorants_df_5 = pd.read_csv(\"../clean_data/deodorants_5.csv\", parse_dates=['fecha_trans', 'fecha_desde', 'fecha_hasta'])\n",
    "deodorants_df_6 = pd.read_csv(\"../clean_data/deodorants_6.csv\", parse_dates=['fecha_trans', 'fecha_desde', 'fecha_hasta'])\n",
    "deodorants_df_7 = pd.read_csv(\"../clean_data/deodorants_7.csv\", parse_dates=['fecha_trans', 'fecha_desde', 'fecha_hasta'])\n",
    "deodorants_df_8 = pd.read_csv(\"../clean_data/deodorants_8.csv\", parse_dates=['fecha_trans', 'fecha_desde', 'fecha_hasta'])\n",
    "deodorants_df_9 = pd.read_csv(\"../clean_data/deodorants_9.csv\", parse_dates=['fecha_trans', 'fecha_desde', 'fecha_hasta'])\n",
    "deodorants_df_10 = pd.read_csv(\"../clean_data/deodorants_10.csv\", parse_dates=['fecha_trans', 'fecha_desde', 'fecha_hasta'])\n",
    "deodorants_df_11 = pd.read_csv(\"../clean_data/deodorants_11.csv\", parse_dates=['fecha_trans', 'fecha_desde', 'fecha_hasta'])"
   ],
   "metadata": {
    "collapsed": false
   }
  },
  {
   "cell_type": "code",
   "execution_count": 3,
   "outputs": [],
   "source": [
    "deodorants_df = pd.concat([deodorants_df_0, deodorants_df_1,deodorants_df_2, deodorants_df_3,\n",
    "                           deodorants_df_4, deodorants_df_5, deodorants_df_6,\n",
    "                           deodorants_df_7, deodorants_df_8, deodorants_df_9,\n",
    "                           deodorants_df_10, deodorants_df_11], axis=0, ignore_index=True)"
   ],
   "metadata": {
    "collapsed": false
   }
  },
  {
   "cell_type": "code",
   "execution_count": 4,
   "outputs": [
    {
     "data": {
      "text/plain": "0"
     },
     "execution_count": 4,
     "metadata": {},
     "output_type": "execute_result"
    }
   ],
   "source": [
    "deodorants_df.duplicated().sum()"
   ],
   "metadata": {
    "collapsed": false
   }
  },
  {
   "cell_type": "code",
   "execution_count": 5,
   "outputs": [
    {
     "data": {
      "text/plain": "(8356436, 26)"
     },
     "execution_count": 5,
     "metadata": {},
     "output_type": "execute_result"
    }
   ],
   "source": [
    "deodorants_df.shape"
   ],
   "metadata": {
    "collapsed": false
   }
  },
  {
   "cell_type": "code",
   "execution_count": 6,
   "outputs": [
    {
     "name": "stdout",
     "output_type": "stream",
     "text": [
      "<class 'pandas.core.frame.DataFrame'>\n",
      "RangeIndex: 8356436 entries, 0 to 8356435\n",
      "Data columns (total 26 columns):\n",
      " #   Column                  Dtype         \n",
      "---  ------                  -----         \n",
      " 0   idb                     int64         \n",
      " 1   id_producto             int64         \n",
      " 2   fecha_trans             datetime64[ns]\n",
      " 3   fecha_desde             datetime64[ns]\n",
      " 4   fecha_hasta             datetime64[ns]\n",
      " 5   stock_unidades          int64         \n",
      " 6   venta_unidades          int64         \n",
      " 7   precio_unitario         float64       \n",
      " 8   sigue_prod_en_rol       int64         \n",
      " 9   cd_abast                int64         \n",
      " 10  mov_month               int64         \n",
      " 11  mov_year                int64         \n",
      " 12  mov_weekday             int64         \n",
      " 13  ventas_estimadas_promo  float64       \n",
      " 14  nro_prom                float64       \n",
      " 15  duracion_promo          float64       \n",
      " 16  id_cadena               int64         \n",
      " 17  desc_cadena             object        \n",
      " 18  desc_region             object        \n",
      " 19  longitud                float64       \n",
      " 20  latitud                 float64       \n",
      " 21  local                   int64         \n",
      " 22  punto_dist              int64         \n",
      " 23  desc_producto           object        \n",
      " 24  razon_social            object        \n",
      " 25  id_region               float64       \n",
      "dtypes: datetime64[ns](3), float64(7), int64(12), object(4)\n",
      "memory usage: 1.6+ GB\n"
     ]
    }
   ],
   "source": [
    "deodorants_df.info()"
   ],
   "metadata": {
    "collapsed": false
   }
  },
  {
   "cell_type": "code",
   "execution_count": 7,
   "outputs": [],
   "source": [
    "# create new column with 1 or 0 based on conditions\n",
    "deodorants_df['tiene_promo'] = ((deodorants_df['nro_prom'].notnull()) & (deodorants_df['fecha_desde'].notnull()) & (deodorants_df['fecha_hasta'].notnull())).astype(int)"
   ],
   "metadata": {
    "collapsed": false
   }
  },
  {
   "cell_type": "code",
   "execution_count": 8,
   "outputs": [
    {
     "name": "stdout",
     "output_type": "stream",
     "text": [
      "tiene_promo\n",
      "0    8220158\n",
      "1     136278\n",
      "dtype: int64\n"
     ]
    }
   ],
   "source": [
    "counts = deodorants_df.groupby('tiene_promo').size()\n",
    "print(counts)"
   ],
   "metadata": {
    "collapsed": false
   }
  },
  {
   "cell_type": "code",
   "execution_count": 9,
   "outputs": [
    {
     "name": "stdout",
     "output_type": "stream",
     "text": [
      "      id_producto   idb  id_cadena  count\n",
      "0          164146   285          2     16\n",
      "1          164146  5034          9     10\n",
      "2          164146  5201          9     40\n",
      "3          164146  5202          9     50\n",
      "4          164146  5204          9     50\n",
      "...           ...   ...        ...    ...\n",
      "5125       507528  9138          9      8\n",
      "5126       507528  9234          4     15\n",
      "5127       507528  9240          4     15\n",
      "5128       507528  9692          4     15\n",
      "5129       507528  9698          4     15\n",
      "\n",
      "[5130 rows x 4 columns]\n"
     ]
    }
   ],
   "source": [
    "# filter dataframe where nro_promo is not null\n",
    "filtered_df = deodorants_df[deodorants_df['nro_prom'].notnull()]\n",
    "\n",
    "# group by producto and idb and count number of rows in each group\n",
    "grouped_df = filtered_df.groupby(['id_producto', 'idb', 'id_cadena']).size().reset_index(name='count')\n",
    "\n",
    "# print grouped dataframe\n",
    "print(grouped_df)"
   ],
   "metadata": {
    "collapsed": false
   }
  },
  {
   "cell_type": "code",
   "execution_count": 10,
   "outputs": [],
   "source": [
    "deodorants_df['dia_semana'] = deodorants_df['fecha_trans'].dt.day_name()"
   ],
   "metadata": {
    "collapsed": false
   }
  },
  {
   "cell_type": "code",
   "execution_count": 11,
   "outputs": [
    {
     "data": {
      "text/plain": "    idb  id_producto fecha_trans fecha_desde fecha_hasta  stock_unidades  \\\n0  5205       273921  2019-07-14         NaT         NaT               7   \n1  9026       273920  2019-07-14         NaT         NaT              18   \n2  5263       468735  2019-07-14         NaT         NaT              11   \n3  9030       461280  2019-07-14         NaT         NaT              10   \n4  9159       470446  2019-07-14         NaT         NaT               2   \n\n   venta_unidades  precio_unitario  sigue_prod_en_rol  cd_abast  ...  \\\n0               0           157.03                  1      9217  ...   \n1               0           157.03                  1      9217  ...   \n2               0           145.10                  1      9217  ...   \n3               0           145.10                  1      9217  ...   \n4               0           145.10                  1      9217  ...   \n\n                      desc_region   longitud    latitud  local  punto_dist  \\\n0  buenos aires                   -58.554622 -34.565295      1           0   \n1  buenos aires                   -58.392012 -34.608787      1           0   \n2  buenos aires                   -58.465505 -34.609829      1           0   \n3  buenos aires                   -58.434391 -34.617352      1           0   \n4  buenos aires                   -58.723962 -34.672958      1           0   \n\n                                       desc_producto  \\\n0     freshmatic airwick lavanda repuesto 250.00 mlt   \n1  refill citrico  oil escence air wick citricos ...   \n2  glade automatico 3 en 1 aromatizante de ambien...   \n3  glade automatico desodorante de ambientes vain...   \n4  glade automatico ref ed ltda 1 175gx6 pop frut...   \n\n                       razon_social id_region tiene_promo  dia_semana  \n0  reckitt benckiser argentina s.a.       1.0           0      Sunday  \n1  reckitt benckiser argentina s.a.       1.0           0      Sunday  \n2  s. c. johnson y son de arg. s.a.       1.0           0      Sunday  \n3  s. c. johnson y son de arg. s.a.       1.0           0      Sunday  \n4  s. c. johnson y son de arg. s.a.       1.0           0      Sunday  \n\n[5 rows x 28 columns]",
      "text/html": "<div>\n<style scoped>\n    .dataframe tbody tr th:only-of-type {\n        vertical-align: middle;\n    }\n\n    .dataframe tbody tr th {\n        vertical-align: top;\n    }\n\n    .dataframe thead th {\n        text-align: right;\n    }\n</style>\n<table border=\"1\" class=\"dataframe\">\n  <thead>\n    <tr style=\"text-align: right;\">\n      <th></th>\n      <th>idb</th>\n      <th>id_producto</th>\n      <th>fecha_trans</th>\n      <th>fecha_desde</th>\n      <th>fecha_hasta</th>\n      <th>stock_unidades</th>\n      <th>venta_unidades</th>\n      <th>precio_unitario</th>\n      <th>sigue_prod_en_rol</th>\n      <th>cd_abast</th>\n      <th>...</th>\n      <th>desc_region</th>\n      <th>longitud</th>\n      <th>latitud</th>\n      <th>local</th>\n      <th>punto_dist</th>\n      <th>desc_producto</th>\n      <th>razon_social</th>\n      <th>id_region</th>\n      <th>tiene_promo</th>\n      <th>dia_semana</th>\n    </tr>\n  </thead>\n  <tbody>\n    <tr>\n      <th>0</th>\n      <td>5205</td>\n      <td>273921</td>\n      <td>2019-07-14</td>\n      <td>NaT</td>\n      <td>NaT</td>\n      <td>7</td>\n      <td>0</td>\n      <td>157.03</td>\n      <td>1</td>\n      <td>9217</td>\n      <td>...</td>\n      <td>buenos aires</td>\n      <td>-58.554622</td>\n      <td>-34.565295</td>\n      <td>1</td>\n      <td>0</td>\n      <td>freshmatic airwick lavanda repuesto 250.00 mlt</td>\n      <td>reckitt benckiser argentina s.a.</td>\n      <td>1.0</td>\n      <td>0</td>\n      <td>Sunday</td>\n    </tr>\n    <tr>\n      <th>1</th>\n      <td>9026</td>\n      <td>273920</td>\n      <td>2019-07-14</td>\n      <td>NaT</td>\n      <td>NaT</td>\n      <td>18</td>\n      <td>0</td>\n      <td>157.03</td>\n      <td>1</td>\n      <td>9217</td>\n      <td>...</td>\n      <td>buenos aires</td>\n      <td>-58.392012</td>\n      <td>-34.608787</td>\n      <td>1</td>\n      <td>0</td>\n      <td>refill citrico  oil escence air wick citricos ...</td>\n      <td>reckitt benckiser argentina s.a.</td>\n      <td>1.0</td>\n      <td>0</td>\n      <td>Sunday</td>\n    </tr>\n    <tr>\n      <th>2</th>\n      <td>5263</td>\n      <td>468735</td>\n      <td>2019-07-14</td>\n      <td>NaT</td>\n      <td>NaT</td>\n      <td>11</td>\n      <td>0</td>\n      <td>145.10</td>\n      <td>1</td>\n      <td>9217</td>\n      <td>...</td>\n      <td>buenos aires</td>\n      <td>-58.465505</td>\n      <td>-34.609829</td>\n      <td>1</td>\n      <td>0</td>\n      <td>glade automatico 3 en 1 aromatizante de ambien...</td>\n      <td>s. c. johnson y son de arg. s.a.</td>\n      <td>1.0</td>\n      <td>0</td>\n      <td>Sunday</td>\n    </tr>\n    <tr>\n      <th>3</th>\n      <td>9030</td>\n      <td>461280</td>\n      <td>2019-07-14</td>\n      <td>NaT</td>\n      <td>NaT</td>\n      <td>10</td>\n      <td>0</td>\n      <td>145.10</td>\n      <td>1</td>\n      <td>9217</td>\n      <td>...</td>\n      <td>buenos aires</td>\n      <td>-58.434391</td>\n      <td>-34.617352</td>\n      <td>1</td>\n      <td>0</td>\n      <td>glade automatico desodorante de ambientes vain...</td>\n      <td>s. c. johnson y son de arg. s.a.</td>\n      <td>1.0</td>\n      <td>0</td>\n      <td>Sunday</td>\n    </tr>\n    <tr>\n      <th>4</th>\n      <td>9159</td>\n      <td>470446</td>\n      <td>2019-07-14</td>\n      <td>NaT</td>\n      <td>NaT</td>\n      <td>2</td>\n      <td>0</td>\n      <td>145.10</td>\n      <td>1</td>\n      <td>9217</td>\n      <td>...</td>\n      <td>buenos aires</td>\n      <td>-58.723962</td>\n      <td>-34.672958</td>\n      <td>1</td>\n      <td>0</td>\n      <td>glade automatico ref ed ltda 1 175gx6 pop frut...</td>\n      <td>s. c. johnson y son de arg. s.a.</td>\n      <td>1.0</td>\n      <td>0</td>\n      <td>Sunday</td>\n    </tr>\n  </tbody>\n</table>\n<p>5 rows × 28 columns</p>\n</div>"
     },
     "execution_count": 11,
     "metadata": {},
     "output_type": "execute_result"
    }
   ],
   "source": [
    "deodorants_df.head()"
   ],
   "metadata": {
    "collapsed": false
   }
  },
  {
   "cell_type": "code",
   "execution_count": 12,
   "outputs": [
    {
     "name": "stdout",
     "output_type": "stream",
     "text": [
      "          idb  id_producto fecha_trans fecha_desde fecha_hasta  \\\n",
      "0        5205       273921  2019-07-14         NaT         NaT   \n",
      "1        9026       273920  2019-07-14         NaT         NaT   \n",
      "2        5263       468735  2019-07-14         NaT         NaT   \n",
      "3        9030       461280  2019-07-14         NaT         NaT   \n",
      "4        9159       470446  2019-07-14         NaT         NaT   \n",
      "...       ...          ...         ...         ...         ...   \n",
      "8356431  9030       273920  2018-01-10         NaT         NaT   \n",
      "8356432  9240       238237  2018-01-10         NaT         NaT   \n",
      "8356433  9942       385535  2018-01-10         NaT         NaT   \n",
      "8356434  9155       238237  2018-01-10         NaT         NaT   \n",
      "8356435  9036       443547  2018-01-10         NaT         NaT   \n",
      "\n",
      "         stock_unidades  venta_unidades  precio_unitario  sigue_prod_en_rol  \\\n",
      "0                     7               0           157.03                  1   \n",
      "1                    18               0           157.03                  1   \n",
      "2                    11               0           145.10                  1   \n",
      "3                    10               0           145.10                  1   \n",
      "4                     2               0           145.10                  1   \n",
      "...                 ...             ...              ...                ...   \n",
      "8356431              12               0            81.91                  1   \n",
      "8356432              12               0            28.42                  1   \n",
      "8356433              -4               0            28.42                  1   \n",
      "8356434               6               0            28.42                  1   \n",
      "8356435               9               0            33.95                  1   \n",
      "\n",
      "         cd_abast  ...   longitud    latitud  local  punto_dist  \\\n",
      "0            9217  ... -58.554622 -34.565295      1           0   \n",
      "1            9217  ... -58.392012 -34.608787      1           0   \n",
      "2            9217  ... -58.465505 -34.609829      1           0   \n",
      "3            9217  ... -58.434391 -34.617352      1           0   \n",
      "4            9217  ... -58.723962 -34.672958      1           0   \n",
      "...           ...  ...        ...        ...    ...         ...   \n",
      "8356431      9217  ... -58.434391 -34.617352      1           0   \n",
      "8356432      9217  ... -58.425464 -34.621736      1           0   \n",
      "8356433      9217  ... -57.565788 -38.012360      1           0   \n",
      "8356434      9217  ... -58.651543 -34.655963      1           0   \n",
      "8356435      9217  ... -57.949567 -34.907437      1           0   \n",
      "\n",
      "                                             desc_producto  \\\n",
      "0           freshmatic airwick lavanda repuesto 250.00 mlt   \n",
      "1        refill citrico  oil escence air wick citricos ...   \n",
      "2        glade automatico 3 en 1 aromatizante de ambien...   \n",
      "3        glade automatico desodorante de ambientes vain...   \n",
      "4        glade automatico ref ed ltda 1 175gx6 pop frut...   \n",
      "...                                                    ...   \n",
      "8356431  refill citrico  oil escence air wick citricos ...   \n",
      "8356432  poett poett lavanda full ab nuevo poett lavand...   \n",
      "8356433  poett poett primavera full ab nuevo poett prim...   \n",
      "8356434  poett poett lavanda full ab nuevo poett lavand...   \n",
      "8356435     poett poett natural blends hojas verdes 450 gr   \n",
      "\n",
      "                             razon_social  id_region tiene_promo dia_semana  \\\n",
      "0        reckitt benckiser argentina s.a.        1.0           0     Sunday   \n",
      "1        reckitt benckiser argentina s.a.        1.0           0     Sunday   \n",
      "2        s. c. johnson y son de arg. s.a.        1.0           0     Sunday   \n",
      "3        s. c. johnson y son de arg. s.a.        1.0           0     Sunday   \n",
      "4        s. c. johnson y son de arg. s.a.        1.0           0     Sunday   \n",
      "...                                   ...        ...         ...        ...   \n",
      "8356431  reckitt benckiser argentina s.a.        1.0           0  Wednesday   \n",
      "8356432             clorox argentina s.a.        1.0           0  Wednesday   \n",
      "8356433             clorox argentina s.a.        1.0           0  Wednesday   \n",
      "8356434             clorox argentina s.a.        1.0           0  Wednesday   \n",
      "8356435             clorox argentina s.a.        1.0           0  Wednesday   \n",
      "\n",
      "         is_weekend  \n",
      "0                 1  \n",
      "1                 1  \n",
      "2                 1  \n",
      "3                 1  \n",
      "4                 1  \n",
      "...             ...  \n",
      "8356431           0  \n",
      "8356432           0  \n",
      "8356433           0  \n",
      "8356434           0  \n",
      "8356435           0  \n",
      "\n",
      "[8356436 rows x 29 columns]\n"
     ]
    }
   ],
   "source": [
    "# Add a column indicating if the day is a weekend day or a weekday\n",
    "deodorants_df['is_weekend'] = deodorants_df['dia_semana'].apply(lambda x: 1 if x in ['Sunday', 'Saturday'] else 0)\n",
    "\n",
    "# Print the resulting DataFrame\n",
    "print(deodorants_df)"
   ],
   "metadata": {
    "collapsed": false
   }
  },
  {
   "cell_type": "code",
   "execution_count": 13,
   "outputs": [
    {
     "name": "stdout",
     "output_type": "stream",
     "text": [
      "['fecha_desde', 'fecha_hasta', 'ventas_estimadas_promo', 'nro_prom', 'duracion_promo', 'desc_producto', 'razon_social', 'id_region']\n"
     ]
    }
   ],
   "source": [
    "# check for null or NaN values in each column\n",
    "null_cols = deodorants_df.isnull().any()\n",
    "\n",
    "# print columns with null or NaN values\n",
    "print(null_cols[null_cols == True].index.tolist())"
   ],
   "metadata": {
    "collapsed": false
   }
  },
  {
   "cell_type": "code",
   "execution_count": 14,
   "outputs": [],
   "source": [
    "deodorants_df.fillna(value={'nro_prom': constants.DEFAULT_FLOAT,\n",
    "                            'ventas_estimadas_promo': constants.DEFAULT_FLOAT,\n",
    "                            'id_region' : constants.DEFAULT_FLOAT,\n",
    "                            'desc_producto': constants.DEFAULT_STRING,\n",
    "                            'duracion_promo': constants.DEFAULT_FLOAT,\n",
    "                            'razon_social': constants.DEFAULT_STRING},\n",
    "                            inplace=True)"
   ],
   "metadata": {
    "collapsed": false
   }
  },
  {
   "cell_type": "code",
   "execution_count": 15,
   "outputs": [],
   "source": [
    "# Group the DataFrame by 'id_producto' and 'tiene_promo', and count the number of rows for each group\n",
    "promo_counts = deodorants_df.groupby(['id_producto', 'tiene_promo']).size().reset_index(name='count')\n",
    "\n",
    "# Create a Boolean Series indicating if a product has a count for both 'tiene_promo' values\n",
    "has_both_promos = promo_counts.groupby('id_producto')['tiene_promo'].count() == 2\n",
    "\n",
    "# Filter the DataFrame to get the products that do not have a count for either 'tiene_promo' value\n",
    "no_promos = promo_counts[~promo_counts['id_producto'].isin(has_both_promos[has_both_promos].index)]\n",
    "\n",
    "# Get the unique products IDs that do not have a count for either 'tiene_promo' value\n",
    "no_promo_products = no_promos['id_producto'].unique()"
   ],
   "metadata": {
    "collapsed": false
   }
  },
  {
   "cell_type": "code",
   "execution_count": 16,
   "outputs": [
    {
     "data": {
      "text/plain": "array([238237, 249049, 385535, 407845, 443520, 443521, 443547, 450083,\n       454813, 469286, 485719, 497936, 507832, 511324, 511325, 511326])"
     },
     "execution_count": 16,
     "metadata": {},
     "output_type": "execute_result"
    }
   ],
   "source": [
    "no_promo_products"
   ],
   "metadata": {
    "collapsed": false
   }
  },
  {
   "cell_type": "code",
   "execution_count": 18,
   "outputs": [
    {
     "data": {
      "text/plain": "          idb  id_producto fecha_trans fecha_desde fecha_hasta  \\\n29       5263       443520  2019-07-14         NaT         NaT   \n30       5205       443547  2019-07-14         NaT         NaT   \n31       9703       443521  2019-07-14         NaT         NaT   \n32        688       443521  2019-07-14         NaT         NaT   \n33        249       443521  2019-07-14         NaT         NaT   \n...       ...          ...         ...         ...         ...   \n8356413  9698       443521  2018-01-10         NaT         NaT   \n8356432  9240       238237  2018-01-10         NaT         NaT   \n8356433  9942       385535  2018-01-10         NaT         NaT   \n8356434  9155       238237  2018-01-10         NaT         NaT   \n8356435  9036       443547  2018-01-10         NaT         NaT   \n\n         stock_unidades  venta_unidades  precio_unitario  sigue_prod_en_rol  \\\n29                    9               0            62.06                  1   \n30                   14               0            62.06                  1   \n31                    5               0            62.06                  1   \n32                   21               0            62.06                  1   \n33                   11               0            62.06                  1   \n...                 ...             ...              ...                ...   \n8356413               5               0            33.95                  1   \n8356432              12               0            28.42                  1   \n8356433              -4               0            28.42                  1   \n8356434               6               0            28.42                  1   \n8356435               9               0            33.95                  1   \n\n         cd_abast  ...   longitud    latitud  local  punto_dist  \\\n29           9217  ... -58.465505 -34.609829      1           0   \n30           9217  ... -58.554622 -34.565295      1           0   \n31           9217  ... -58.756238 -35.050042      1           0   \n32           9217  ... -59.265382 -29.141976      1           0   \n33           9217  ... -58.498985 -34.691168      1           0   \n...           ...  ...        ...        ...    ...         ...   \n8356413      9217  ... -58.696112 -34.989573      1           0   \n8356432      9217  ... -58.425464 -34.621736      1           0   \n8356433      9217  ... -57.565788 -38.012360      1           0   \n8356434      9217  ... -58.651543 -34.655963      1           0   \n8356435      9217  ... -57.949567 -34.907437      1           0   \n\n                                             desc_producto  \\\n29                poett poett natural blends frutal 450 gr   \n30          poett poett natural blends hojas verdes 450 gr   \n31                poett poett natural blends floral 450 gr   \n32                poett poett natural blends floral 450 gr   \n33                poett poett natural blends floral 450 gr   \n...                                                    ...   \n8356413           poett poett natural blends floral 450 gr   \n8356432  poett poett lavanda full ab nuevo poett lavand...   \n8356433  poett poett primavera full ab nuevo poett prim...   \n8356434  poett poett lavanda full ab nuevo poett lavand...   \n8356435     poett poett natural blends hojas verdes 450 gr   \n\n                  razon_social  id_region tiene_promo dia_semana  is_weekend  \n29       clorox argentina s.a.        1.0           0     Sunday           1  \n30       clorox argentina s.a.        1.0           0     Sunday           1  \n31       clorox argentina s.a.        1.0           0     Sunday           1  \n32       clorox argentina s.a.        1.0           0     Sunday           1  \n33       clorox argentina s.a.        1.0           0     Sunday           1  \n...                        ...        ...         ...        ...         ...  \n8356413  clorox argentina s.a.        1.0           0  Wednesday           0  \n8356432  clorox argentina s.a.        1.0           0  Wednesday           0  \n8356433  clorox argentina s.a.        1.0           0  Wednesday           0  \n8356434  clorox argentina s.a.        1.0           0  Wednesday           0  \n8356435  clorox argentina s.a.        1.0           0  Wednesday           0  \n\n[1002665 rows x 29 columns]",
      "text/html": "<div>\n<style scoped>\n    .dataframe tbody tr th:only-of-type {\n        vertical-align: middle;\n    }\n\n    .dataframe tbody tr th {\n        vertical-align: top;\n    }\n\n    .dataframe thead th {\n        text-align: right;\n    }\n</style>\n<table border=\"1\" class=\"dataframe\">\n  <thead>\n    <tr style=\"text-align: right;\">\n      <th></th>\n      <th>idb</th>\n      <th>id_producto</th>\n      <th>fecha_trans</th>\n      <th>fecha_desde</th>\n      <th>fecha_hasta</th>\n      <th>stock_unidades</th>\n      <th>venta_unidades</th>\n      <th>precio_unitario</th>\n      <th>sigue_prod_en_rol</th>\n      <th>cd_abast</th>\n      <th>...</th>\n      <th>longitud</th>\n      <th>latitud</th>\n      <th>local</th>\n      <th>punto_dist</th>\n      <th>desc_producto</th>\n      <th>razon_social</th>\n      <th>id_region</th>\n      <th>tiene_promo</th>\n      <th>dia_semana</th>\n      <th>is_weekend</th>\n    </tr>\n  </thead>\n  <tbody>\n    <tr>\n      <th>29</th>\n      <td>5263</td>\n      <td>443520</td>\n      <td>2019-07-14</td>\n      <td>NaT</td>\n      <td>NaT</td>\n      <td>9</td>\n      <td>0</td>\n      <td>62.06</td>\n      <td>1</td>\n      <td>9217</td>\n      <td>...</td>\n      <td>-58.465505</td>\n      <td>-34.609829</td>\n      <td>1</td>\n      <td>0</td>\n      <td>poett poett natural blends frutal 450 gr</td>\n      <td>clorox argentina s.a.</td>\n      <td>1.0</td>\n      <td>0</td>\n      <td>Sunday</td>\n      <td>1</td>\n    </tr>\n    <tr>\n      <th>30</th>\n      <td>5205</td>\n      <td>443547</td>\n      <td>2019-07-14</td>\n      <td>NaT</td>\n      <td>NaT</td>\n      <td>14</td>\n      <td>0</td>\n      <td>62.06</td>\n      <td>1</td>\n      <td>9217</td>\n      <td>...</td>\n      <td>-58.554622</td>\n      <td>-34.565295</td>\n      <td>1</td>\n      <td>0</td>\n      <td>poett poett natural blends hojas verdes 450 gr</td>\n      <td>clorox argentina s.a.</td>\n      <td>1.0</td>\n      <td>0</td>\n      <td>Sunday</td>\n      <td>1</td>\n    </tr>\n    <tr>\n      <th>31</th>\n      <td>9703</td>\n      <td>443521</td>\n      <td>2019-07-14</td>\n      <td>NaT</td>\n      <td>NaT</td>\n      <td>5</td>\n      <td>0</td>\n      <td>62.06</td>\n      <td>1</td>\n      <td>9217</td>\n      <td>...</td>\n      <td>-58.756238</td>\n      <td>-35.050042</td>\n      <td>1</td>\n      <td>0</td>\n      <td>poett poett natural blends floral 450 gr</td>\n      <td>clorox argentina s.a.</td>\n      <td>1.0</td>\n      <td>0</td>\n      <td>Sunday</td>\n      <td>1</td>\n    </tr>\n    <tr>\n      <th>32</th>\n      <td>688</td>\n      <td>443521</td>\n      <td>2019-07-14</td>\n      <td>NaT</td>\n      <td>NaT</td>\n      <td>21</td>\n      <td>0</td>\n      <td>62.06</td>\n      <td>1</td>\n      <td>9217</td>\n      <td>...</td>\n      <td>-59.265382</td>\n      <td>-29.141976</td>\n      <td>1</td>\n      <td>0</td>\n      <td>poett poett natural blends floral 450 gr</td>\n      <td>clorox argentina s.a.</td>\n      <td>1.0</td>\n      <td>0</td>\n      <td>Sunday</td>\n      <td>1</td>\n    </tr>\n    <tr>\n      <th>33</th>\n      <td>249</td>\n      <td>443521</td>\n      <td>2019-07-14</td>\n      <td>NaT</td>\n      <td>NaT</td>\n      <td>11</td>\n      <td>0</td>\n      <td>62.06</td>\n      <td>1</td>\n      <td>9217</td>\n      <td>...</td>\n      <td>-58.498985</td>\n      <td>-34.691168</td>\n      <td>1</td>\n      <td>0</td>\n      <td>poett poett natural blends floral 450 gr</td>\n      <td>clorox argentina s.a.</td>\n      <td>1.0</td>\n      <td>0</td>\n      <td>Sunday</td>\n      <td>1</td>\n    </tr>\n    <tr>\n      <th>...</th>\n      <td>...</td>\n      <td>...</td>\n      <td>...</td>\n      <td>...</td>\n      <td>...</td>\n      <td>...</td>\n      <td>...</td>\n      <td>...</td>\n      <td>...</td>\n      <td>...</td>\n      <td>...</td>\n      <td>...</td>\n      <td>...</td>\n      <td>...</td>\n      <td>...</td>\n      <td>...</td>\n      <td>...</td>\n      <td>...</td>\n      <td>...</td>\n      <td>...</td>\n      <td>...</td>\n    </tr>\n    <tr>\n      <th>8356413</th>\n      <td>9698</td>\n      <td>443521</td>\n      <td>2018-01-10</td>\n      <td>NaT</td>\n      <td>NaT</td>\n      <td>5</td>\n      <td>0</td>\n      <td>33.95</td>\n      <td>1</td>\n      <td>9217</td>\n      <td>...</td>\n      <td>-58.696112</td>\n      <td>-34.989573</td>\n      <td>1</td>\n      <td>0</td>\n      <td>poett poett natural blends floral 450 gr</td>\n      <td>clorox argentina s.a.</td>\n      <td>1.0</td>\n      <td>0</td>\n      <td>Wednesday</td>\n      <td>0</td>\n    </tr>\n    <tr>\n      <th>8356432</th>\n      <td>9240</td>\n      <td>238237</td>\n      <td>2018-01-10</td>\n      <td>NaT</td>\n      <td>NaT</td>\n      <td>12</td>\n      <td>0</td>\n      <td>28.42</td>\n      <td>1</td>\n      <td>9217</td>\n      <td>...</td>\n      <td>-58.425464</td>\n      <td>-34.621736</td>\n      <td>1</td>\n      <td>0</td>\n      <td>poett poett lavanda full ab nuevo poett lavand...</td>\n      <td>clorox argentina s.a.</td>\n      <td>1.0</td>\n      <td>0</td>\n      <td>Wednesday</td>\n      <td>0</td>\n    </tr>\n    <tr>\n      <th>8356433</th>\n      <td>9942</td>\n      <td>385535</td>\n      <td>2018-01-10</td>\n      <td>NaT</td>\n      <td>NaT</td>\n      <td>-4</td>\n      <td>0</td>\n      <td>28.42</td>\n      <td>1</td>\n      <td>9217</td>\n      <td>...</td>\n      <td>-57.565788</td>\n      <td>-38.012360</td>\n      <td>1</td>\n      <td>0</td>\n      <td>poett poett primavera full ab nuevo poett prim...</td>\n      <td>clorox argentina s.a.</td>\n      <td>1.0</td>\n      <td>0</td>\n      <td>Wednesday</td>\n      <td>0</td>\n    </tr>\n    <tr>\n      <th>8356434</th>\n      <td>9155</td>\n      <td>238237</td>\n      <td>2018-01-10</td>\n      <td>NaT</td>\n      <td>NaT</td>\n      <td>6</td>\n      <td>0</td>\n      <td>28.42</td>\n      <td>1</td>\n      <td>9217</td>\n      <td>...</td>\n      <td>-58.651543</td>\n      <td>-34.655963</td>\n      <td>1</td>\n      <td>0</td>\n      <td>poett poett lavanda full ab nuevo poett lavand...</td>\n      <td>clorox argentina s.a.</td>\n      <td>1.0</td>\n      <td>0</td>\n      <td>Wednesday</td>\n      <td>0</td>\n    </tr>\n    <tr>\n      <th>8356435</th>\n      <td>9036</td>\n      <td>443547</td>\n      <td>2018-01-10</td>\n      <td>NaT</td>\n      <td>NaT</td>\n      <td>9</td>\n      <td>0</td>\n      <td>33.95</td>\n      <td>1</td>\n      <td>9217</td>\n      <td>...</td>\n      <td>-57.949567</td>\n      <td>-34.907437</td>\n      <td>1</td>\n      <td>0</td>\n      <td>poett poett natural blends hojas verdes 450 gr</td>\n      <td>clorox argentina s.a.</td>\n      <td>1.0</td>\n      <td>0</td>\n      <td>Wednesday</td>\n      <td>0</td>\n    </tr>\n  </tbody>\n</table>\n<p>1002665 rows × 29 columns</p>\n</div>"
     },
     "execution_count": 18,
     "metadata": {},
     "output_type": "execute_result"
    }
   ],
   "source": [
    "deodorants_without_promo = deodorants_df[deodorants_df['id_producto'].isin(no_promo_products)]\n",
    "deodorants_without_promo"
   ],
   "metadata": {
    "collapsed": false
   }
  },
  {
   "cell_type": "code",
   "execution_count": 19,
   "outputs": [
    {
     "name": "stdout",
     "output_type": "stream",
     "text": [
      "['fecha_desde', 'fecha_hasta']\n"
     ]
    }
   ],
   "source": [
    "# check for null or NaN values in each column\n",
    "null_cols = deodorants_df.isnull().any()\n",
    "\n",
    "# print columns with null or NaN values\n",
    "print(null_cols[null_cols == True].index.tolist())"
   ],
   "metadata": {
    "collapsed": false
   }
  },
  {
   "cell_type": "code",
   "execution_count": 20,
   "outputs": [
    {
     "data": {
      "text/plain": "                idb   id_producto  stock_unidades  venta_unidades  \\\ncount  8.356436e+06  8.356436e+06    8.356436e+06    8.356436e+06   \nmean   6.989773e+03  3.785508e+05    2.065137e+01    3.136310e-01   \nstd    3.299906e+03  9.158304e+04    1.487243e+02    8.953579e-01   \nmin    2.420000e+02  1.641460e+05   -5.420000e+02   -4.500000e+01   \n25%    5.208000e+03  2.929450e+05    6.000000e+00    0.000000e+00   \n50%    9.026000e+03  4.152680e+05    1.000000e+01    0.000000e+00   \n75%    9.159000e+03  4.583930e+05    1.700000e+01    0.000000e+00   \nmax    9.977000e+03  5.113260e+05    1.621800e+04    6.120000e+02   \n\n       precio_unitario  sigue_prod_en_rol      cd_abast     mov_month  \\\ncount     8.356436e+06       8.356436e+06  8.356436e+06  8.356436e+06   \nmean      6.423475e+01       9.610200e-01  5.434609e+03  6.485025e+00   \nstd       6.580358e+01       1.935474e-01  4.533852e+03  3.453803e+00   \nmin       0.000000e+00       0.000000e+00  0.000000e+00  1.000000e+00   \n25%       2.251000e+01       1.000000e+00  0.000000e+00  3.000000e+00   \n50%       3.823000e+01       1.000000e+00  9.217000e+03  6.000000e+00   \n75%       7.673000e+01       1.000000e+00  9.217000e+03  1.000000e+01   \nmax       4.238100e+02       1.000000e+00  9.217000e+03  1.200000e+01   \n\n           mov_year   mov_weekday  ...      nro_prom  duracion_promo  \\\ncount  8.356436e+06  8.356436e+06  ...  8.356436e+06    8.356436e+06   \nmean   2.017666e+03  3.002266e+00  ...  7.780377e+03    1.485333e-01   \nstd    9.815391e-01  2.000099e+00  ...  6.063741e+04    1.240366e+00   \nmin    2.016000e+03  0.000000e+00  ...  0.000000e+00    0.000000e+00   \n25%    2.017000e+03  1.000000e+00  ...  0.000000e+00    0.000000e+00   \n50%    2.018000e+03  3.000000e+00  ...  0.000000e+00    0.000000e+00   \n75%    2.018000e+03  5.000000e+00  ...  0.000000e+00    0.000000e+00   \nmax    2.019000e+03  6.000000e+00  ...  5.410660e+05    1.800000e+01   \n\n          id_cadena      longitud       latitud         local    punto_dist  \\\ncount  8.356436e+06  8.356436e+06  8.356436e+06  8.356436e+06  8.356436e+06   \nmean   4.277160e+00 -5.872835e+01 -3.506354e+01  9.897948e-01  1.020519e-02   \nstd    2.618480e+00  1.394684e+00  2.036040e+00  1.005039e-01  1.005039e-01   \nmin    2.000000e+00 -6.749604e+01 -4.587265e+01  0.000000e+00  0.000000e+00   \n25%    2.000000e+00 -5.869611e+01 -3.498957e+01  1.000000e+00  0.000000e+00   \n50%    4.000000e+00 -5.846482e+01 -3.462789e+01  1.000000e+00  0.000000e+00   \n75%    4.000000e+00 -5.839790e+01 -3.457732e+01  1.000000e+00  0.000000e+00   \nmax    9.000000e+00 -5.668353e+01 -2.914198e+01  1.000000e+00  1.000000e+00   \n\n          id_region   tiene_promo    is_weekend  \ncount  8.356436e+06  8.356436e+06  8.356436e+06  \nmean   9.283848e-01  1.630815e-02  2.866340e-01  \nstd    2.578497e-01  1.266578e-01  4.521891e-01  \nmin    0.000000e+00  0.000000e+00  0.000000e+00  \n25%    1.000000e+00  0.000000e+00  0.000000e+00  \n50%    1.000000e+00  0.000000e+00  0.000000e+00  \n75%    1.000000e+00  0.000000e+00  1.000000e+00  \nmax    1.000000e+00  1.000000e+00  1.000000e+00  \n\n[8 rows x 21 columns]",
      "text/html": "<div>\n<style scoped>\n    .dataframe tbody tr th:only-of-type {\n        vertical-align: middle;\n    }\n\n    .dataframe tbody tr th {\n        vertical-align: top;\n    }\n\n    .dataframe thead th {\n        text-align: right;\n    }\n</style>\n<table border=\"1\" class=\"dataframe\">\n  <thead>\n    <tr style=\"text-align: right;\">\n      <th></th>\n      <th>idb</th>\n      <th>id_producto</th>\n      <th>stock_unidades</th>\n      <th>venta_unidades</th>\n      <th>precio_unitario</th>\n      <th>sigue_prod_en_rol</th>\n      <th>cd_abast</th>\n      <th>mov_month</th>\n      <th>mov_year</th>\n      <th>mov_weekday</th>\n      <th>...</th>\n      <th>nro_prom</th>\n      <th>duracion_promo</th>\n      <th>id_cadena</th>\n      <th>longitud</th>\n      <th>latitud</th>\n      <th>local</th>\n      <th>punto_dist</th>\n      <th>id_region</th>\n      <th>tiene_promo</th>\n      <th>is_weekend</th>\n    </tr>\n  </thead>\n  <tbody>\n    <tr>\n      <th>count</th>\n      <td>8.356436e+06</td>\n      <td>8.356436e+06</td>\n      <td>8.356436e+06</td>\n      <td>8.356436e+06</td>\n      <td>8.356436e+06</td>\n      <td>8.356436e+06</td>\n      <td>8.356436e+06</td>\n      <td>8.356436e+06</td>\n      <td>8.356436e+06</td>\n      <td>8.356436e+06</td>\n      <td>...</td>\n      <td>8.356436e+06</td>\n      <td>8.356436e+06</td>\n      <td>8.356436e+06</td>\n      <td>8.356436e+06</td>\n      <td>8.356436e+06</td>\n      <td>8.356436e+06</td>\n      <td>8.356436e+06</td>\n      <td>8.356436e+06</td>\n      <td>8.356436e+06</td>\n      <td>8.356436e+06</td>\n    </tr>\n    <tr>\n      <th>mean</th>\n      <td>6.989773e+03</td>\n      <td>3.785508e+05</td>\n      <td>2.065137e+01</td>\n      <td>3.136310e-01</td>\n      <td>6.423475e+01</td>\n      <td>9.610200e-01</td>\n      <td>5.434609e+03</td>\n      <td>6.485025e+00</td>\n      <td>2.017666e+03</td>\n      <td>3.002266e+00</td>\n      <td>...</td>\n      <td>7.780377e+03</td>\n      <td>1.485333e-01</td>\n      <td>4.277160e+00</td>\n      <td>-5.872835e+01</td>\n      <td>-3.506354e+01</td>\n      <td>9.897948e-01</td>\n      <td>1.020519e-02</td>\n      <td>9.283848e-01</td>\n      <td>1.630815e-02</td>\n      <td>2.866340e-01</td>\n    </tr>\n    <tr>\n      <th>std</th>\n      <td>3.299906e+03</td>\n      <td>9.158304e+04</td>\n      <td>1.487243e+02</td>\n      <td>8.953579e-01</td>\n      <td>6.580358e+01</td>\n      <td>1.935474e-01</td>\n      <td>4.533852e+03</td>\n      <td>3.453803e+00</td>\n      <td>9.815391e-01</td>\n      <td>2.000099e+00</td>\n      <td>...</td>\n      <td>6.063741e+04</td>\n      <td>1.240366e+00</td>\n      <td>2.618480e+00</td>\n      <td>1.394684e+00</td>\n      <td>2.036040e+00</td>\n      <td>1.005039e-01</td>\n      <td>1.005039e-01</td>\n      <td>2.578497e-01</td>\n      <td>1.266578e-01</td>\n      <td>4.521891e-01</td>\n    </tr>\n    <tr>\n      <th>min</th>\n      <td>2.420000e+02</td>\n      <td>1.641460e+05</td>\n      <td>-5.420000e+02</td>\n      <td>-4.500000e+01</td>\n      <td>0.000000e+00</td>\n      <td>0.000000e+00</td>\n      <td>0.000000e+00</td>\n      <td>1.000000e+00</td>\n      <td>2.016000e+03</td>\n      <td>0.000000e+00</td>\n      <td>...</td>\n      <td>0.000000e+00</td>\n      <td>0.000000e+00</td>\n      <td>2.000000e+00</td>\n      <td>-6.749604e+01</td>\n      <td>-4.587265e+01</td>\n      <td>0.000000e+00</td>\n      <td>0.000000e+00</td>\n      <td>0.000000e+00</td>\n      <td>0.000000e+00</td>\n      <td>0.000000e+00</td>\n    </tr>\n    <tr>\n      <th>25%</th>\n      <td>5.208000e+03</td>\n      <td>2.929450e+05</td>\n      <td>6.000000e+00</td>\n      <td>0.000000e+00</td>\n      <td>2.251000e+01</td>\n      <td>1.000000e+00</td>\n      <td>0.000000e+00</td>\n      <td>3.000000e+00</td>\n      <td>2.017000e+03</td>\n      <td>1.000000e+00</td>\n      <td>...</td>\n      <td>0.000000e+00</td>\n      <td>0.000000e+00</td>\n      <td>2.000000e+00</td>\n      <td>-5.869611e+01</td>\n      <td>-3.498957e+01</td>\n      <td>1.000000e+00</td>\n      <td>0.000000e+00</td>\n      <td>1.000000e+00</td>\n      <td>0.000000e+00</td>\n      <td>0.000000e+00</td>\n    </tr>\n    <tr>\n      <th>50%</th>\n      <td>9.026000e+03</td>\n      <td>4.152680e+05</td>\n      <td>1.000000e+01</td>\n      <td>0.000000e+00</td>\n      <td>3.823000e+01</td>\n      <td>1.000000e+00</td>\n      <td>9.217000e+03</td>\n      <td>6.000000e+00</td>\n      <td>2.018000e+03</td>\n      <td>3.000000e+00</td>\n      <td>...</td>\n      <td>0.000000e+00</td>\n      <td>0.000000e+00</td>\n      <td>4.000000e+00</td>\n      <td>-5.846482e+01</td>\n      <td>-3.462789e+01</td>\n      <td>1.000000e+00</td>\n      <td>0.000000e+00</td>\n      <td>1.000000e+00</td>\n      <td>0.000000e+00</td>\n      <td>0.000000e+00</td>\n    </tr>\n    <tr>\n      <th>75%</th>\n      <td>9.159000e+03</td>\n      <td>4.583930e+05</td>\n      <td>1.700000e+01</td>\n      <td>0.000000e+00</td>\n      <td>7.673000e+01</td>\n      <td>1.000000e+00</td>\n      <td>9.217000e+03</td>\n      <td>1.000000e+01</td>\n      <td>2.018000e+03</td>\n      <td>5.000000e+00</td>\n      <td>...</td>\n      <td>0.000000e+00</td>\n      <td>0.000000e+00</td>\n      <td>4.000000e+00</td>\n      <td>-5.839790e+01</td>\n      <td>-3.457732e+01</td>\n      <td>1.000000e+00</td>\n      <td>0.000000e+00</td>\n      <td>1.000000e+00</td>\n      <td>0.000000e+00</td>\n      <td>1.000000e+00</td>\n    </tr>\n    <tr>\n      <th>max</th>\n      <td>9.977000e+03</td>\n      <td>5.113260e+05</td>\n      <td>1.621800e+04</td>\n      <td>6.120000e+02</td>\n      <td>4.238100e+02</td>\n      <td>1.000000e+00</td>\n      <td>9.217000e+03</td>\n      <td>1.200000e+01</td>\n      <td>2.019000e+03</td>\n      <td>6.000000e+00</td>\n      <td>...</td>\n      <td>5.410660e+05</td>\n      <td>1.800000e+01</td>\n      <td>9.000000e+00</td>\n      <td>-5.668353e+01</td>\n      <td>-2.914198e+01</td>\n      <td>1.000000e+00</td>\n      <td>1.000000e+00</td>\n      <td>1.000000e+00</td>\n      <td>1.000000e+00</td>\n      <td>1.000000e+00</td>\n    </tr>\n  </tbody>\n</table>\n<p>8 rows × 21 columns</p>\n</div>"
     },
     "execution_count": 20,
     "metadata": {},
     "output_type": "execute_result"
    }
   ],
   "source": [
    "deodorants_df.describe()"
   ],
   "metadata": {
    "collapsed": false
   }
  },
  {
   "cell_type": "code",
   "execution_count": 21,
   "outputs": [
    {
     "data": {
      "text/plain": "0"
     },
     "execution_count": 21,
     "metadata": {},
     "output_type": "execute_result"
    }
   ],
   "source": [
    "filtered_df = deodorants_df[~deodorants_df['desc_region'].str.contains('buenos aires')]\n",
    "filtered_df.size"
   ],
   "metadata": {
    "collapsed": false
   }
  },
  {
   "cell_type": "code",
   "execution_count": 22,
   "outputs": [],
   "source": [
    "deodorants_df.drop('desc_region', axis=1, inplace=True)"
   ],
   "metadata": {
    "collapsed": false
   }
  },
  {
   "cell_type": "code",
   "execution_count": 31,
   "outputs": [],
   "source": [
    "deodorants_df.drop('estacion', axis=1, inplace=True)"
   ],
   "metadata": {
    "collapsed": false
   }
  },
  {
   "cell_type": "code",
   "execution_count": 32,
   "outputs": [
    {
     "name": "stderr",
     "output_type": "stream",
     "text": [
      "/Users/eo/src/deodorants-project/data_cleaning/utils.py:146: FutureWarning: Comparison of Timestamp with datetime.date is deprecated in order to match the standard library behavior. In a future version these will be considered non-comparable. Use 'ts == pd.Timestamp(date)' or 'ts.date() == date' instead.\n",
      "  if start_date <= pd.Timestamp(date) <= end_date:\n"
     ]
    }
   ],
   "source": [
    " # Map the month to the corresponding season\n",
    "deodorants_df['estacion'] = deodorants_df['fecha_trans'].apply(get_season)"
   ],
   "metadata": {
    "collapsed": false
   }
  },
  {
   "cell_type": "code",
   "execution_count": 35,
   "outputs": [
    {
     "data": {
      "text/plain": "    idb  id_producto fecha_trans fecha_desde fecha_hasta  stock_unidades  \\\n0  5205       273921  2019-07-14         NaT         NaT               7   \n1  9026       273920  2019-07-14         NaT         NaT              18   \n2  5263       468735  2019-07-14         NaT         NaT              11   \n3  9030       461280  2019-07-14         NaT         NaT              10   \n4  9159       470446  2019-07-14         NaT         NaT               2   \n\n   venta_unidades  precio_unitario  sigue_prod_en_rol  cd_abast  ...  \\\n0               0           157.03                  1      9217  ...   \n1               0           157.03                  1      9217  ...   \n2               0           145.10                  1      9217  ...   \n3               0           145.10                  1      9217  ...   \n4               0           145.10                  1      9217  ...   \n\n     latitud  local  punto_dist  \\\n0 -34.565295      1           0   \n1 -34.608787      1           0   \n2 -34.609829      1           0   \n3 -34.617352      1           0   \n4 -34.672958      1           0   \n\n                                       desc_producto  \\\n0     freshmatic airwick lavanda repuesto 250.00 mlt   \n1  refill citrico  oil escence air wick citricos ...   \n2  glade automatico 3 en 1 aromatizante de ambien...   \n3  glade automatico desodorante de ambientes vain...   \n4  glade automatico ref ed ltda 1 175gx6 pop frut...   \n\n                       razon_social  id_region  tiene_promo dia_semana  \\\n0  reckitt benckiser argentina s.a.        1.0            0     Sunday   \n1  reckitt benckiser argentina s.a.        1.0            0     Sunday   \n2  s. c. johnson y son de arg. s.a.        1.0            0     Sunday   \n3  s. c. johnson y son de arg. s.a.        1.0            0     Sunday   \n4  s. c. johnson y son de arg. s.a.        1.0            0     Sunday   \n\n   is_weekend  estacion  \n0           1    verano  \n1           1    verano  \n2           1    verano  \n3           1    verano  \n4           1    verano  \n\n[5 rows x 29 columns]",
      "text/html": "<div>\n<style scoped>\n    .dataframe tbody tr th:only-of-type {\n        vertical-align: middle;\n    }\n\n    .dataframe tbody tr th {\n        vertical-align: top;\n    }\n\n    .dataframe thead th {\n        text-align: right;\n    }\n</style>\n<table border=\"1\" class=\"dataframe\">\n  <thead>\n    <tr style=\"text-align: right;\">\n      <th></th>\n      <th>idb</th>\n      <th>id_producto</th>\n      <th>fecha_trans</th>\n      <th>fecha_desde</th>\n      <th>fecha_hasta</th>\n      <th>stock_unidades</th>\n      <th>venta_unidades</th>\n      <th>precio_unitario</th>\n      <th>sigue_prod_en_rol</th>\n      <th>cd_abast</th>\n      <th>...</th>\n      <th>latitud</th>\n      <th>local</th>\n      <th>punto_dist</th>\n      <th>desc_producto</th>\n      <th>razon_social</th>\n      <th>id_region</th>\n      <th>tiene_promo</th>\n      <th>dia_semana</th>\n      <th>is_weekend</th>\n      <th>estacion</th>\n    </tr>\n  </thead>\n  <tbody>\n    <tr>\n      <th>0</th>\n      <td>5205</td>\n      <td>273921</td>\n      <td>2019-07-14</td>\n      <td>NaT</td>\n      <td>NaT</td>\n      <td>7</td>\n      <td>0</td>\n      <td>157.03</td>\n      <td>1</td>\n      <td>9217</td>\n      <td>...</td>\n      <td>-34.565295</td>\n      <td>1</td>\n      <td>0</td>\n      <td>freshmatic airwick lavanda repuesto 250.00 mlt</td>\n      <td>reckitt benckiser argentina s.a.</td>\n      <td>1.0</td>\n      <td>0</td>\n      <td>Sunday</td>\n      <td>1</td>\n      <td>verano</td>\n    </tr>\n    <tr>\n      <th>1</th>\n      <td>9026</td>\n      <td>273920</td>\n      <td>2019-07-14</td>\n      <td>NaT</td>\n      <td>NaT</td>\n      <td>18</td>\n      <td>0</td>\n      <td>157.03</td>\n      <td>1</td>\n      <td>9217</td>\n      <td>...</td>\n      <td>-34.608787</td>\n      <td>1</td>\n      <td>0</td>\n      <td>refill citrico  oil escence air wick citricos ...</td>\n      <td>reckitt benckiser argentina s.a.</td>\n      <td>1.0</td>\n      <td>0</td>\n      <td>Sunday</td>\n      <td>1</td>\n      <td>verano</td>\n    </tr>\n    <tr>\n      <th>2</th>\n      <td>5263</td>\n      <td>468735</td>\n      <td>2019-07-14</td>\n      <td>NaT</td>\n      <td>NaT</td>\n      <td>11</td>\n      <td>0</td>\n      <td>145.10</td>\n      <td>1</td>\n      <td>9217</td>\n      <td>...</td>\n      <td>-34.609829</td>\n      <td>1</td>\n      <td>0</td>\n      <td>glade automatico 3 en 1 aromatizante de ambien...</td>\n      <td>s. c. johnson y son de arg. s.a.</td>\n      <td>1.0</td>\n      <td>0</td>\n      <td>Sunday</td>\n      <td>1</td>\n      <td>verano</td>\n    </tr>\n    <tr>\n      <th>3</th>\n      <td>9030</td>\n      <td>461280</td>\n      <td>2019-07-14</td>\n      <td>NaT</td>\n      <td>NaT</td>\n      <td>10</td>\n      <td>0</td>\n      <td>145.10</td>\n      <td>1</td>\n      <td>9217</td>\n      <td>...</td>\n      <td>-34.617352</td>\n      <td>1</td>\n      <td>0</td>\n      <td>glade automatico desodorante de ambientes vain...</td>\n      <td>s. c. johnson y son de arg. s.a.</td>\n      <td>1.0</td>\n      <td>0</td>\n      <td>Sunday</td>\n      <td>1</td>\n      <td>verano</td>\n    </tr>\n    <tr>\n      <th>4</th>\n      <td>9159</td>\n      <td>470446</td>\n      <td>2019-07-14</td>\n      <td>NaT</td>\n      <td>NaT</td>\n      <td>2</td>\n      <td>0</td>\n      <td>145.10</td>\n      <td>1</td>\n      <td>9217</td>\n      <td>...</td>\n      <td>-34.672958</td>\n      <td>1</td>\n      <td>0</td>\n      <td>glade automatico ref ed ltda 1 175gx6 pop frut...</td>\n      <td>s. c. johnson y son de arg. s.a.</td>\n      <td>1.0</td>\n      <td>0</td>\n      <td>Sunday</td>\n      <td>1</td>\n      <td>verano</td>\n    </tr>\n  </tbody>\n</table>\n<p>5 rows × 29 columns</p>\n</div>"
     },
     "execution_count": 35,
     "metadata": {},
     "output_type": "execute_result"
    }
   ],
   "source": [
    "deodorants_df.head()"
   ],
   "metadata": {
    "collapsed": false
   }
  },
  {
   "cell_type": "code",
   "execution_count": 34,
   "outputs": [],
   "source": [
    "deodorants_df['estacion'] = deodorants_df['estacion'].replace(to_replace='Veranoo', value='verano', regex=True)"
   ],
   "metadata": {
    "collapsed": false
   }
  },
  {
   "cell_type": "code",
   "execution_count": 36,
   "outputs": [
    {
     "data": {
      "text/plain": "0            verano\n1            verano\n2            verano\n3            verano\n4            verano\n             ...   \n8356431    invierno\n8356432    invierno\n8356433    invierno\n8356434    invierno\n8356435    invierno\nName: estacion, Length: 8356436, dtype: object"
     },
     "execution_count": 36,
     "metadata": {},
     "output_type": "execute_result"
    }
   ],
   "source": [
    "deodorants_df['estacion'].apply(lambda x: x.lower())"
   ],
   "metadata": {
    "collapsed": false
   }
  },
  {
   "cell_type": "code",
   "execution_count": 37,
   "outputs": [],
   "source": [
    "deodorants_df.to_csv('../clean_data/deodorants_final_merged.csv', index=False)"
   ],
   "metadata": {
    "collapsed": false
   }
  },
  {
   "cell_type": "code",
   "execution_count": 38,
   "outputs": [
    {
     "name": "stdout",
     "output_type": "stream",
     "text": [
      "<class 'pandas.core.frame.DataFrame'>\n",
      "RangeIndex: 8356436 entries, 0 to 8356435\n",
      "Data columns (total 29 columns):\n",
      " #   Column                  Dtype         \n",
      "---  ------                  -----         \n",
      " 0   idb                     int64         \n",
      " 1   id_producto             int64         \n",
      " 2   fecha_trans             datetime64[ns]\n",
      " 3   fecha_desde             datetime64[ns]\n",
      " 4   fecha_hasta             datetime64[ns]\n",
      " 5   stock_unidades          int64         \n",
      " 6   venta_unidades          int64         \n",
      " 7   precio_unitario         float64       \n",
      " 8   sigue_prod_en_rol       int64         \n",
      " 9   cd_abast                int64         \n",
      " 10  mov_month               int64         \n",
      " 11  mov_year                int64         \n",
      " 12  mov_weekday             int64         \n",
      " 13  ventas_estimadas_promo  float64       \n",
      " 14  nro_prom                float64       \n",
      " 15  duracion_promo          float64       \n",
      " 16  id_cadena               int64         \n",
      " 17  desc_cadena             object        \n",
      " 18  longitud                float64       \n",
      " 19  latitud                 float64       \n",
      " 20  local                   int64         \n",
      " 21  punto_dist              int64         \n",
      " 22  desc_producto           object        \n",
      " 23  razon_social            object        \n",
      " 24  id_region               float64       \n",
      " 25  tiene_promo             int64         \n",
      " 26  dia_semana              object        \n",
      " 27  is_weekend              int64         \n",
      " 28  estacion                object        \n",
      "dtypes: datetime64[ns](3), float64(7), int64(14), object(5)\n",
      "memory usage: 1.8+ GB\n"
     ]
    }
   ],
   "source": [
    "deodorants_df.info()"
   ],
   "metadata": {
    "collapsed": false
   }
  }
 ],
 "metadata": {
  "kernelspec": {
   "display_name": "Python 3",
   "language": "python",
   "name": "python3"
  },
  "language_info": {
   "codemirror_mode": {
    "name": "ipython",
    "version": 2
   },
   "file_extension": ".py",
   "mimetype": "text/x-python",
   "name": "python",
   "nbconvert_exporter": "python",
   "pygments_lexer": "ipython2",
   "version": "2.7.6"
  }
 },
 "nbformat": 4,
 "nbformat_minor": 0
}
