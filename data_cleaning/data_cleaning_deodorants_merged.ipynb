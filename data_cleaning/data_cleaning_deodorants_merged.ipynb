{
 "cells": [
  {
   "cell_type": "code",
   "execution_count": 24,
   "metadata": {},
   "outputs": [],
   "source": [
    "import pandas as pd\n",
    "import constants\n",
    "from utils import get_season, remove_duplicates"
   ]
  },
  {
   "cell_type": "code",
   "execution_count": 25,
   "metadata": {},
   "outputs": [],
   "source": [
    "deodorants_df_0 = pd.read_csv(\n",
    "    \"../clean_data/deodorants_0.csv\",\n",
    "    parse_dates=['fecha_trans', 'fecha_desde', 'fecha_hasta'])\n",
    "deodorants_df_1 = pd.read_csv(\n",
    "    \"../clean_data/deodorants_1.csv\",\n",
    "    parse_dates=['fecha_trans', 'fecha_desde', 'fecha_hasta'])\n",
    "deodorants_df_2 = pd.read_csv(\n",
    "    \"../clean_data/deodorants_2.csv\",\n",
    "    parse_dates=['fecha_trans', 'fecha_desde', 'fecha_hasta'])\n",
    "deodorants_df_3 = pd.read_csv(\n",
    "    \"../clean_data/deodorants_3.csv\",\n",
    "    parse_dates=['fecha_trans', 'fecha_desde', 'fecha_hasta'])\n",
    "deodorants_df_4 = pd.read_csv(\n",
    "    \"../clean_data/deodorants_4.csv\",\n",
    "    parse_dates=['fecha_trans', 'fecha_desde', 'fecha_hasta'])\n",
    "deodorants_df_5 = pd.read_csv(\n",
    "    \"../clean_data/deodorants_5.csv\",\n",
    "    parse_dates=['fecha_trans', 'fecha_desde', 'fecha_hasta'])\n",
    "deodorants_df_6 = pd.read_csv(\n",
    "    \"../clean_data/deodorants_6.csv\",\n",
    "    parse_dates=['fecha_trans', 'fecha_desde', 'fecha_hasta'])\n",
    "deodorants_df_7 = pd.read_csv(\n",
    "    \"../clean_data/deodorants_7.csv\",\n",
    "    parse_dates=['fecha_trans', 'fecha_desde', 'fecha_hasta'])\n",
    "deodorants_df_8 = pd.read_csv(\n",
    "    \"../clean_data/deodorants_8.csv\",\n",
    "    parse_dates=['fecha_trans', 'fecha_desde', 'fecha_hasta'])\n",
    "deodorants_df_9 = pd.read_csv(\n",
    "    \"../clean_data/deodorants_9.csv\",\n",
    "    parse_dates=['fecha_trans', 'fecha_desde', 'fecha_hasta'])\n",
    "deodorants_df_10 = pd.read_csv(\n",
    "    \"../clean_data/deodorants_10.csv\",\n",
    "    parse_dates=['fecha_trans', 'fecha_desde', 'fecha_hasta'])\n",
    "deodorants_df_11 = pd.read_csv(\n",
    "    \"../clean_data/deodorants_11.csv\",\n",
    "    parse_dates=['fecha_trans', 'fecha_desde', 'fecha_hasta'])"
   ]
  },
  {
   "cell_type": "code",
   "execution_count": 26,
   "metadata": {},
   "outputs": [],
   "source": [
    "deodorants_df = pd.concat([\n",
    "    deodorants_df_0, deodorants_df_1, deodorants_df_2, deodorants_df_3,\n",
    "    deodorants_df_4, deodorants_df_5, deodorants_df_6, deodorants_df_7,\n",
    "    deodorants_df_8, deodorants_df_9, deodorants_df_10, deodorants_df_11\n",
    "],\n",
    "                          axis=0,\n",
    "                          ignore_index=True)"
   ]
  },
  {
   "cell_type": "code",
   "execution_count": 27,
   "metadata": {},
   "outputs": [
    {
     "data": {
      "text/plain": [
       "0"
      ]
     },
     "execution_count": 27,
     "metadata": {},
     "output_type": "execute_result"
    }
   ],
   "source": [
    "deodorants_df.duplicated().sum()"
   ]
  },
  {
   "cell_type": "code",
   "execution_count": 28,
   "metadata": {},
   "outputs": [
    {
     "data": {
      "text/plain": [
       "(8356436, 26)"
      ]
     },
     "execution_count": 28,
     "metadata": {},
     "output_type": "execute_result"
    }
   ],
   "source": [
    "deodorants_df.shape"
   ]
  },
  {
   "cell_type": "code",
   "execution_count": 29,
   "metadata": {},
   "outputs": [
    {
     "name": "stdout",
     "output_type": "stream",
     "text": [
      "<class 'pandas.core.frame.DataFrame'>\n",
      "RangeIndex: 8356436 entries, 0 to 8356435\n",
      "Data columns (total 26 columns):\n",
      " #   Column                  Dtype         \n",
      "---  ------                  -----         \n",
      " 0   idb                     int64         \n",
      " 1   id_producto             int64         \n",
      " 2   fecha_trans             datetime64[ns]\n",
      " 3   fecha_desde             datetime64[ns]\n",
      " 4   fecha_hasta             datetime64[ns]\n",
      " 5   stock_unidades          int64         \n",
      " 6   venta_unidades          int64         \n",
      " 7   precio_unitario         float64       \n",
      " 8   sigue_prod_en_rol       int64         \n",
      " 9   cd_abast                int64         \n",
      " 10  mov_month               int64         \n",
      " 11  mov_year                int64         \n",
      " 12  mov_weekday             int64         \n",
      " 13  ventas_estimadas_promo  float64       \n",
      " 14  nro_prom                float64       \n",
      " 15  duracion_promo          float64       \n",
      " 16  id_cadena               int64         \n",
      " 17  desc_cadena             object        \n",
      " 18  desc_region             object        \n",
      " 19  longitud                float64       \n",
      " 20  latitud                 float64       \n",
      " 21  local                   int64         \n",
      " 22  punto_dist              int64         \n",
      " 23  desc_producto           object        \n",
      " 24  razon_social            object        \n",
      " 25  id_region               float64       \n",
      "dtypes: datetime64[ns](3), float64(7), int64(12), object(4)\n",
      "memory usage: 1.6+ GB\n"
     ]
    }
   ],
   "source": [
    "deodorants_df.info()"
   ]
  },
  {
   "cell_type": "code",
   "execution_count": 33,
   "metadata": {},
   "outputs": [],
   "source": [
    "deodorants_df['dia_semana'] = deodorants_df['fecha_trans'].dt.day_name()"
   ]
  },
  {
   "cell_type": "code",
   "execution_count": 34,
   "metadata": {},
   "outputs": [],
   "source": [
    "# Add a column indicating if the day is a weekend day or a weekday\n",
    "deodorants_df['is_weekend'] = deodorants_df['dia_semana'].apply(\n",
    "    lambda x: 1 if x in ['Sunday', 'Saturday'] else 0)"
   ]
  },
  {
   "cell_type": "code",
   "execution_count": 35,
   "metadata": {},
   "outputs": [],
   "source": [
    "# create new column with 1 or 0 based on conditions\n",
    "deodorants_df['tiene_promo'] = (\n",
    "    (deodorants_df['nro_prom'].notnull()) &\n",
    "    (deodorants_df['fecha_desde'].notnull()) &\n",
    "    (deodorants_df['fecha_hasta'].notnull())).astype(int)"
   ]
  },
  {
   "cell_type": "code",
   "execution_count": 36,
   "metadata": {},
   "outputs": [],
   "source": [
    "deodorants_df.drop(['fecha_desde', 'fecha_hasta'], axis=1, inplace=True)"
   ]
  },
  {
   "cell_type": "code",
   "execution_count": 37,
   "metadata": {},
   "outputs": [
    {
     "name": "stdout",
     "output_type": "stream",
     "text": [
      "['ventas_estimadas_promo', 'nro_prom', 'duracion_promo', 'desc_producto', 'razon_social', 'id_region']\n"
     ]
    }
   ],
   "source": [
    "# check for null or NaN values in each column\n",
    "null_cols = deodorants_df.isnull().any()\n",
    "\n",
    "# print columns with null or NaN values\n",
    "print(null_cols[null_cols == True].index.tolist())"
   ]
  },
  {
   "cell_type": "code",
   "execution_count": 42,
   "metadata": {},
   "outputs": [
    {
     "name": "stdout",
     "output_type": "stream",
     "text": [
      "tiene_promo\n",
      "0    8220158\n",
      "1     136278\n",
      "Name: idb, dtype: int64\n"
     ]
    }
   ],
   "source": [
    "print(deodorants_df.groupby('tiene_promo').idb.count())\n"
   ]
  },
  {
   "cell_type": "code",
   "execution_count": 38,
   "metadata": {},
   "outputs": [
    {
     "name": "stdout",
     "output_type": "stream",
     "text": [
      "Count of missing values with no promo: idb                             0\n",
      "id_producto                     0\n",
      "fecha_trans                     0\n",
      "stock_unidades                  0\n",
      "venta_unidades                  0\n",
      "precio_unitario                 0\n",
      "sigue_prod_en_rol               0\n",
      "cd_abast                        0\n",
      "mov_month                       0\n",
      "mov_year                        0\n",
      "mov_weekday                     0\n",
      "ventas_estimadas_promo    8220158\n",
      "nro_prom                  8220158\n",
      "duracion_promo            8220158\n",
      "id_cadena                       0\n",
      "desc_cadena                     0\n",
      "desc_region                     0\n",
      "longitud                        0\n",
      "latitud                         0\n",
      "local                           0\n",
      "punto_dist                      0\n",
      "desc_producto              591692\n",
      "razon_social               591692\n",
      "id_region                  591692\n",
      "dia_semana                      0\n",
      "is_weekend                      0\n",
      "tiene_promo                     0\n",
      "dtype: int64\n"
     ]
    }
   ],
   "source": [
    "missing_and_no_promo = deodorants_df[deodorants_df['tiene_promo'] == 0].isna().sum()\n",
    "\n",
    "# print the count of missing values with no promo\n",
    "print(f\"Count of missing values with no promo: {missing_and_no_promo}\")"
   ]
  },
  {
   "cell_type": "code",
   "execution_count": 15,
   "metadata": {},
   "outputs": [],
   "source": [
    "deodorants_df.fillna(value={\n",
    "    'ventas_estimadas_promo': constants.DEFAULT_FLOAT,\n",
    "    'nro_prom': constants.DEFAULT_FLOAT,\n",
    "    'duracion_promo': constants.DEFAULT_FLOAT,\n",
    "    'razon_social': constants.DEFAULT_STRING,\n",
    "    'id_region': constants.DEFAULT_FLOAT\n",
    "},\n",
    "                     inplace=True)"
   ]
  },
  {
   "cell_type": "code",
   "execution_count": 16,
   "metadata": {},
   "outputs": [],
   "source": [
    "deodorants_df[[\n",
    "    'ventas_estimadas_promo', 'nro_prom', 'duracion_promo', 'id_region'\n",
    "]] = deodorants_df[[\n",
    "    'ventas_estimadas_promo', 'nro_prom', 'duracion_promo', 'id_region'\n",
    "]].astype(int)"
   ]
  },
  {
   "cell_type": "code",
   "execution_count": 17,
   "metadata": {},
   "outputs": [
    {
     "data": {
      "text/plain": [
       "0"
      ]
     },
     "execution_count": 17,
     "metadata": {},
     "output_type": "execute_result"
    }
   ],
   "source": [
    "filtered_df = deodorants_df[~deodorants_df['desc_region'].str.\n",
    "                            contains('buenos aires')]\n",
    "filtered_df.size"
   ]
  },
  {
   "cell_type": "code",
   "execution_count": 18,
   "metadata": {},
   "outputs": [],
   "source": [
    "deodorants_df.drop('desc_region', axis=1, inplace=True)"
   ]
  },
  {
   "cell_type": "code",
   "execution_count": 19,
   "metadata": {},
   "outputs": [
    {
     "name": "stderr",
     "output_type": "stream",
     "text": [
      "/Users/eo/src/deodorants-project/data_cleaning/utils.py:103: FutureWarning: Comparison of Timestamp with datetime.date is deprecated in order to match the standard library behavior. In a future version these will be considered non-comparable. Use 'ts == pd.Timestamp(date)' or 'ts.date() == date' instead.\n",
      "  if start_date <= pd.Timestamp(date) <= end_date:\n"
     ]
    }
   ],
   "source": [
    "# Map the month to the corresponding season\n",
    "deodorants_df['estacion'] = deodorants_df['fecha_trans'].apply(get_season)"
   ]
  },
  {
   "cell_type": "code",
   "execution_count": 20,
   "metadata": {},
   "outputs": [],
   "source": [
    "deodorants_df['desc_producto'] = deodorants_df['desc_producto'].astype(str)"
   ]
  },
  {
   "cell_type": "code",
   "execution_count": 21,
   "metadata": {},
   "outputs": [],
   "source": [
    "deodorants_df['desc_producto'] = deodorants_df['desc_producto'].str.strip()"
   ]
  },
  {
   "cell_type": "code",
   "execution_count": 22,
   "metadata": {},
   "outputs": [],
   "source": [
    "def remove_duplicates_here(s):\n",
    "    if s == 'nan':\n",
    "        return s\n",
    "    seen = set()\n",
    "    result = []\n",
    "    for word in s.split():\n",
    "        if word not in seen or word == 'nan':\n",
    "            result.append(word)\n",
    "            seen.add(word)\n",
    "    return \" \".join(result)"
   ]
  },
  {
   "cell_type": "code",
   "execution_count": 23,
   "metadata": {},
   "outputs": [],
   "source": [
    "deodorants_df['desc_producto'] = deodorants_df['desc_producto'].apply(\n",
    "    remove_duplicates_here)"
   ]
  },
  {
   "cell_type": "code",
   "execution_count": 125,
   "metadata": {},
   "outputs": [
    {
     "name": "stdout",
     "output_type": "stream",
     "text": [
      "[]\n"
     ]
    }
   ],
   "source": [
    "# check for null or NaN values in each column\n",
    "null_cols = deodorants_df.isnull().any()\n",
    "\n",
    "# print columns with null or NaN values\n",
    "print(null_cols[null_cols == True].index.tolist())"
   ]
  },
  {
   "cell_type": "code",
   "execution_count": 126,
   "metadata": {},
   "outputs": [
    {
     "data": {
      "text/html": [
       "<div>\n",
       "<style scoped>\n",
       "    .dataframe tbody tr th:only-of-type {\n",
       "        vertical-align: middle;\n",
       "    }\n",
       "\n",
       "    .dataframe tbody tr th {\n",
       "        vertical-align: top;\n",
       "    }\n",
       "\n",
       "    .dataframe thead th {\n",
       "        text-align: right;\n",
       "    }\n",
       "</style>\n",
       "<table border=\"1\" class=\"dataframe\">\n",
       "  <thead>\n",
       "    <tr style=\"text-align: right;\">\n",
       "      <th></th>\n",
       "      <th>id_producto</th>\n",
       "      <th>desc_producto</th>\n",
       "      <th>venta_unidades</th>\n",
       "    </tr>\n",
       "  </thead>\n",
       "  <tbody>\n",
       "    <tr>\n",
       "      <th>0</th>\n",
       "      <td>342686</td>\n",
       "      <td>glade desodorante de ambientes lavander nueva ...</td>\n",
       "      <td>109531</td>\n",
       "    </tr>\n",
       "    <tr>\n",
       "      <th>1</th>\n",
       "      <td>240911</td>\n",
       "      <td>poett ambiental lavanda nuevo d 0.377 kg</td>\n",
       "      <td>100861</td>\n",
       "    </tr>\n",
       "    <tr>\n",
       "      <th>2</th>\n",
       "      <td>429883</td>\n",
       "      <td>glade desodorante de ambientes ocean oasis nue...</td>\n",
       "      <td>89345</td>\n",
       "    </tr>\n",
       "    <tr>\n",
       "      <th>3</th>\n",
       "      <td>249486</td>\n",
       "      <td>glade toque rep lavandax2 9gr/6 lavanda 9 grm</td>\n",
       "      <td>86737</td>\n",
       "    </tr>\n",
       "    <tr>\n",
       "      <th>4</th>\n",
       "      <td>342745</td>\n",
       "      <td>glade desodorante de ambientes jazmin nueva fo...</td>\n",
       "      <td>72907</td>\n",
       "    </tr>\n",
       "    <tr>\n",
       "      <th>...</th>\n",
       "      <td>...</td>\n",
       "      <td>...</td>\n",
       "      <td>...</td>\n",
       "    </tr>\n",
       "    <tr>\n",
       "      <th>87</th>\n",
       "      <td>511324</td>\n",
       "      <td>pure aerosol air wick cherry blossom 250.00 mlt</td>\n",
       "      <td>2927</td>\n",
       "    </tr>\n",
       "    <tr>\n",
       "      <th>88</th>\n",
       "      <td>466069</td>\n",
       "      <td>glade toque aromatizante de ambientes campos l...</td>\n",
       "      <td>2812</td>\n",
       "    </tr>\n",
       "    <tr>\n",
       "      <th>89</th>\n",
       "      <td>284013</td>\n",
       "      <td>nan</td>\n",
       "      <td>2562</td>\n",
       "    </tr>\n",
       "    <tr>\n",
       "      <th>90</th>\n",
       "      <td>511325</td>\n",
       "      <td>nan</td>\n",
       "      <td>1983</td>\n",
       "    </tr>\n",
       "    <tr>\n",
       "      <th>91</th>\n",
       "      <td>497936</td>\n",
       "      <td>nan</td>\n",
       "      <td>0</td>\n",
       "    </tr>\n",
       "  </tbody>\n",
       "</table>\n",
       "<p>92 rows × 3 columns</p>\n",
       "</div>"
      ],
      "text/plain": [
       "    id_producto                                      desc_producto  \\\n",
       "0        342686  glade desodorante de ambientes lavander nueva ...   \n",
       "1        240911           poett ambiental lavanda nuevo d 0.377 kg   \n",
       "2        429883  glade desodorante de ambientes ocean oasis nue...   \n",
       "3        249486      glade toque rep lavandax2 9gr/6 lavanda 9 grm   \n",
       "4        342745  glade desodorante de ambientes jazmin nueva fo...   \n",
       "..          ...                                                ...   \n",
       "87       511324    pure aerosol air wick cherry blossom 250.00 mlt   \n",
       "88       466069  glade toque aromatizante de ambientes campos l...   \n",
       "89       284013                                                nan   \n",
       "90       511325                                                nan   \n",
       "91       497936                                                nan   \n",
       "\n",
       "    venta_unidades  \n",
       "0           109531  \n",
       "1           100861  \n",
       "2            89345  \n",
       "3            86737  \n",
       "4            72907  \n",
       "..             ...  \n",
       "87            2927  \n",
       "88            2812  \n",
       "89            2562  \n",
       "90            1983  \n",
       "91               0  \n",
       "\n",
       "[92 rows x 3 columns]"
      ]
     },
     "execution_count": 126,
     "metadata": {},
     "output_type": "execute_result"
    }
   ],
   "source": [
    "product_grouped_bottom = deodorants_df.groupby([\n",
    "    'id_producto', 'desc_producto'\n",
    "])['venta_unidades'].sum().sort_values(ascending=False).reset_index()\n",
    "product_grouped_bottom"
   ]
  },
  {
   "cell_type": "code",
   "execution_count": 127,
   "metadata": {},
   "outputs": [
    {
     "data": {
      "text/html": [
       "<div>\n",
       "<style scoped>\n",
       "    .dataframe tbody tr th:only-of-type {\n",
       "        vertical-align: middle;\n",
       "    }\n",
       "\n",
       "    .dataframe tbody tr th {\n",
       "        vertical-align: top;\n",
       "    }\n",
       "\n",
       "    .dataframe thead th {\n",
       "        text-align: right;\n",
       "    }\n",
       "</style>\n",
       "<table border=\"1\" class=\"dataframe\">\n",
       "  <thead>\n",
       "    <tr style=\"text-align: right;\">\n",
       "      <th></th>\n",
       "      <th>id_producto</th>\n",
       "      <th>venta_unidades</th>\n",
       "    </tr>\n",
       "  </thead>\n",
       "  <tbody>\n",
       "    <tr>\n",
       "      <th>0</th>\n",
       "      <td>497936</td>\n",
       "      <td>0</td>\n",
       "    </tr>\n",
       "    <tr>\n",
       "      <th>1</th>\n",
       "      <td>511325</td>\n",
       "      <td>1983</td>\n",
       "    </tr>\n",
       "    <tr>\n",
       "      <th>2</th>\n",
       "      <td>284013</td>\n",
       "      <td>2562</td>\n",
       "    </tr>\n",
       "    <tr>\n",
       "      <th>3</th>\n",
       "      <td>466069</td>\n",
       "      <td>2812</td>\n",
       "    </tr>\n",
       "    <tr>\n",
       "      <th>4</th>\n",
       "      <td>511324</td>\n",
       "      <td>2927</td>\n",
       "    </tr>\n",
       "    <tr>\n",
       "      <th>...</th>\n",
       "      <td>...</td>\n",
       "      <td>...</td>\n",
       "    </tr>\n",
       "    <tr>\n",
       "      <th>87</th>\n",
       "      <td>342745</td>\n",
       "      <td>72907</td>\n",
       "    </tr>\n",
       "    <tr>\n",
       "      <th>88</th>\n",
       "      <td>249486</td>\n",
       "      <td>86737</td>\n",
       "    </tr>\n",
       "    <tr>\n",
       "      <th>89</th>\n",
       "      <td>429883</td>\n",
       "      <td>89345</td>\n",
       "    </tr>\n",
       "    <tr>\n",
       "      <th>90</th>\n",
       "      <td>240911</td>\n",
       "      <td>100861</td>\n",
       "    </tr>\n",
       "    <tr>\n",
       "      <th>91</th>\n",
       "      <td>342686</td>\n",
       "      <td>109531</td>\n",
       "    </tr>\n",
       "  </tbody>\n",
       "</table>\n",
       "<p>92 rows × 2 columns</p>\n",
       "</div>"
      ],
      "text/plain": [
       "    id_producto  venta_unidades\n",
       "0        497936               0\n",
       "1        511325            1983\n",
       "2        284013            2562\n",
       "3        466069            2812\n",
       "4        511324            2927\n",
       "..          ...             ...\n",
       "87       342745           72907\n",
       "88       249486           86737\n",
       "89       429883           89345\n",
       "90       240911          100861\n",
       "91       342686          109531\n",
       "\n",
       "[92 rows x 2 columns]"
      ]
     },
     "execution_count": 127,
     "metadata": {},
     "output_type": "execute_result"
    }
   ],
   "source": [
    "value = deodorants_df.groupby('id_producto')['venta_unidades'].sum(\n",
    ").sort_values(ascending=True).reset_index()\n",
    "value"
   ]
  },
  {
   "cell_type": "code",
   "execution_count": 129,
   "metadata": {},
   "outputs": [],
   "source": [
    "# Convert estacion and desc_cadena in categorical\n",
    "deodorants_df['estacion'] = deodorants_df['estacion'].astype('category')\n",
    "deodorants_df['desc_cadena'] = deodorants_df['desc_cadena'].astype('category')"
   ]
  },
  {
   "cell_type": "code",
   "execution_count": 130,
   "metadata": {},
   "outputs": [
    {
     "name": "stdout",
     "output_type": "stream",
     "text": [
      "<class 'pandas.core.frame.DataFrame'>\n",
      "RangeIndex: 8356436 entries, 0 to 8356435\n",
      "Data columns (total 27 columns):\n",
      " #   Column                  Dtype         \n",
      "---  ------                  -----         \n",
      " 0   idb                     int64         \n",
      " 1   id_producto             int64         \n",
      " 2   fecha_trans             datetime64[ns]\n",
      " 3   stock_unidades          int64         \n",
      " 4   venta_unidades          int64         \n",
      " 5   precio_unitario         float64       \n",
      " 6   sigue_prod_en_rol       int64         \n",
      " 7   cd_abast                int64         \n",
      " 8   mov_month               int64         \n",
      " 9   mov_year                int64         \n",
      " 10  mov_weekday             int64         \n",
      " 11  ventas_estimadas_promo  int64         \n",
      " 12  nro_prom                int64         \n",
      " 13  duracion_promo          int64         \n",
      " 14  id_cadena               int64         \n",
      " 15  desc_cadena             category      \n",
      " 16  longitud                float64       \n",
      " 17  latitud                 float64       \n",
      " 18  local                   int64         \n",
      " 19  punto_dist              int64         \n",
      " 20  desc_producto           object        \n",
      " 21  razon_social            object        \n",
      " 22  id_region               int64         \n",
      " 23  dia_semana              object        \n",
      " 24  is_weekend              int64         \n",
      " 25  tiene_promo             int64         \n",
      " 26  estacion                category      \n",
      "dtypes: category(2), datetime64[ns](1), float64(3), int64(18), object(3)\n",
      "memory usage: 1.6+ GB\n"
     ]
    }
   ],
   "source": [
    "deodorants_df.info()"
   ]
  },
  {
   "cell_type": "code",
   "execution_count": 131,
   "metadata": {},
   "outputs": [],
   "source": [
    "deodorants_df.to_csv('../clean_data/deodorants_final_merged.csv', index=False)"
   ]
  },
  {
   "cell_type": "code",
   "execution_count": null,
   "metadata": {},
   "outputs": [],
   "source": []
  }
 ],
 "metadata": {
  "kernelspec": {
   "display_name": "Python 3 (ipykernel)",
   "language": "python",
   "name": "python3"
  },
  "language_info": {
   "codemirror_mode": {
    "name": "ipython",
    "version": 3
   },
   "file_extension": ".py",
   "mimetype": "text/x-python",
   "name": "python",
   "nbconvert_exporter": "python",
   "pygments_lexer": "ipython3",
   "version": "3.10.9"
  },
  "toc": {
   "base_numbering": 1,
   "nav_menu": {},
   "number_sections": true,
   "sideBar": true,
   "skip_h1_title": false,
   "title_cell": "Table of Contents",
   "title_sidebar": "Contents",
   "toc_cell": false,
   "toc_position": {},
   "toc_section_display": true,
   "toc_window_display": false
  },
  "varInspector": {
   "cols": {
    "lenName": 16,
    "lenType": 16,
    "lenVar": 40
   },
   "kernels_config": {
    "python": {
     "delete_cmd_postfix": "",
     "delete_cmd_prefix": "del ",
     "library": "var_list.py",
     "varRefreshCmd": "print(var_dic_list())"
    },
    "r": {
     "delete_cmd_postfix": ") ",
     "delete_cmd_prefix": "rm(",
     "library": "var_list.r",
     "varRefreshCmd": "cat(var_dic_list()) "
    }
   },
   "types_to_exclude": [
    "module",
    "function",
    "builtin_function_or_method",
    "instance",
    "_Feature"
   ],
   "window_display": false
  }
 },
 "nbformat": 4,
 "nbformat_minor": 1
}
