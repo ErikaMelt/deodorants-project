{
 "cells": [
  {
   "cell_type": "code",
   "execution_count": 8,
   "outputs": [],
   "source": [
    "import pandas as pd"
   ],
   "metadata": {
    "collapsed": false
   }
  },
  {
   "cell_type": "code",
   "execution_count": 55,
   "outputs": [],
   "source": [
    "deodorants_df_0 = pd.read_csv(\"../clean_data/deodorants_0.csv\", parse_dates=['fecha_trans', 'fecha_desde', 'fecha_hasta'])\n",
    "deodorants_df_1 = pd.read_csv(\"../clean_data/deodorants_1.csv\", parse_dates=['fecha_trans', 'fecha_desde', 'fecha_hasta'])\n",
    "deodorants_df_2 = pd.read_csv(\"../clean_data/deodorants_2.csv\", parse_dates=['fecha_trans', 'fecha_desde', 'fecha_hasta'])\n",
    "deodorants_df_3 = pd.read_csv(\"../clean_data/deodorants_3.csv\", parse_dates=['fecha_trans', 'fecha_desde', 'fecha_hasta'])\n",
    "deodorants_df_4 = pd.read_csv(\"../clean_data/deodorants_4.csv\", parse_dates=['fecha_trans', 'fecha_desde', 'fecha_hasta'])\n",
    "deodorants_df_5 = pd.read_csv(\"../clean_data/deodorants_5.csv\", parse_dates=['fecha_trans', 'fecha_desde', 'fecha_hasta'])\n",
    "deodorants_df_6 = pd.read_csv(\"../clean_data/deodorants_6.csv\", parse_dates=['fecha_trans', 'fecha_desde', 'fecha_hasta'])\n",
    "deodorants_df_7 = pd.read_csv(\"../clean_data/deodorants_7.csv\", parse_dates=['fecha_trans', 'fecha_desde', 'fecha_hasta'])\n",
    "deodorants_df_8 = pd.read_csv(\"../clean_data/deodorants_8.csv\", parse_dates=['fecha_trans', 'fecha_desde', 'fecha_hasta'])\n",
    "deodorants_df_9 = pd.read_csv(\"../clean_data/deodorants_9.csv\", parse_dates=['fecha_trans', 'fecha_desde', 'fecha_hasta'])\n",
    "deodorants_df_10 = pd.read_csv(\"../clean_data/deodorants_10.csv\", parse_dates=['fecha_trans', 'fecha_desde', 'fecha_hasta'])\n",
    "deodorants_df_11 = pd.read_csv(\"../clean_data/deodorants_11.csv\", parse_dates=['fecha_trans', 'fecha_desde', 'fecha_hasta'])"
   ],
   "metadata": {
    "collapsed": false
   }
  },
  {
   "cell_type": "code",
   "execution_count": 73,
   "outputs": [],
   "source": [
    "deodorants_df = pd.concat([deodorants_df_0, deodorants_df_1,deodorants_df_2, deodorants_df_3,\n",
    "                           deodorants_df_4, deodorants_df_5, deodorants_df_6,\n",
    "                           deodorants_df_7, deodorants_df_8, deodorants_df_9,\n",
    "                           deodorants_df_10, deodorants_df_11], axis=0, ignore_index=True)"
   ],
   "metadata": {
    "collapsed": false
   }
  },
  {
   "cell_type": "code",
   "execution_count": 74,
   "outputs": [
    {
     "data": {
      "text/plain": "0"
     },
     "execution_count": 74,
     "metadata": {},
     "output_type": "execute_result"
    }
   ],
   "source": [
    "deodorants_df.duplicated().sum()"
   ],
   "metadata": {
    "collapsed": false
   }
  },
  {
   "cell_type": "code",
   "execution_count": 75,
   "outputs": [
    {
     "data": {
      "text/plain": "(8356436, 26)"
     },
     "execution_count": 75,
     "metadata": {},
     "output_type": "execute_result"
    }
   ],
   "source": [
    "deodorants_df.shape"
   ],
   "metadata": {
    "collapsed": false
   }
  },
  {
   "cell_type": "code",
   "execution_count": 80,
   "outputs": [
    {
     "name": "stdout",
     "output_type": "stream",
     "text": [
      "<class 'pandas.core.frame.DataFrame'>\n",
      "RangeIndex: 8356436 entries, 0 to 8356435\n",
      "Data columns (total 26 columns):\n",
      " #   Column                  Dtype         \n",
      "---  ------                  -----         \n",
      " 0   idb                     int64         \n",
      " 1   id_producto             int64         \n",
      " 2   fecha_trans             datetime64[ns]\n",
      " 3   fecha_desde             datetime64[ns]\n",
      " 4   fecha_hasta             datetime64[ns]\n",
      " 5   stock_unidades          int64         \n",
      " 6   venta_unidades          int64         \n",
      " 7   precio_unitario         float64       \n",
      " 8   sigue_prod_en_rol       int64         \n",
      " 9   cd_abast                int64         \n",
      " 10  mov_month               int64         \n",
      " 11  mov_year                int64         \n",
      " 12  mov_weekday             int64         \n",
      " 13  ventas_estimadas_promo  float64       \n",
      " 14  nro_prom                float64       \n",
      " 15  duracion_promo          float64       \n",
      " 16  id_cadena               int64         \n",
      " 17  desc_cadena             object        \n",
      " 18  desc_region             object        \n",
      " 19  longitud                float64       \n",
      " 20  latitud                 float64       \n",
      " 21  local                   int64         \n",
      " 22  punto_dist              int64         \n",
      " 23  desc_producto           object        \n",
      " 24  razon_social            object        \n",
      " 25  id_region               float64       \n",
      "dtypes: datetime64[ns](3), float64(7), int64(12), object(4)\n",
      "memory usage: 1.6+ GB\n"
     ]
    }
   ],
   "source": [
    "deodorants_df.info()"
   ],
   "metadata": {
    "collapsed": false
   }
  },
  {
   "cell_type": "code",
   "execution_count": null,
   "outputs": [],
   "source": [
    "deodorants_df.shape"
   ],
   "metadata": {
    "collapsed": false
   }
  },
  {
   "cell_type": "code",
   "execution_count": 81,
   "outputs": [],
   "source": [
    "# create new column with 1 or 0 based on conditions\n",
    "deodorants_df['tiene_promo'] = ((deodorants_df['nro_prom'].notnull()) & (deodorants_df['fecha_desde'].notnull()) & (deodorants_df['fecha_hasta'].notnull())).astype(int)"
   ],
   "metadata": {
    "collapsed": false
   }
  },
  {
   "cell_type": "code",
   "execution_count": 82,
   "outputs": [
    {
     "name": "stdout",
     "output_type": "stream",
     "text": [
      "tiene_promo\n",
      "0    8220158\n",
      "1     136278\n",
      "dtype: int64\n"
     ]
    }
   ],
   "source": [
    "counts = deodorants_df.groupby('tiene_promo').size()\n",
    "# print counts\n",
    "print(counts)"
   ],
   "metadata": {
    "collapsed": false
   }
  },
  {
   "cell_type": "code",
   "execution_count": 85,
   "outputs": [
    {
     "name": "stdout",
     "output_type": "stream",
     "text": [
      "      id_producto   idb  id_cadena  count\n",
      "0          164146   285          2     16\n",
      "1          164146  5034          9     10\n",
      "2          164146  5201          9     40\n",
      "3          164146  5202          9     50\n",
      "4          164146  5204          9     50\n",
      "...           ...   ...        ...    ...\n",
      "5125       507528  9138          9      8\n",
      "5126       507528  9234          4     15\n",
      "5127       507528  9240          4     15\n",
      "5128       507528  9692          4     15\n",
      "5129       507528  9698          4     15\n",
      "\n",
      "[5130 rows x 4 columns]\n"
     ]
    }
   ],
   "source": [
    "# filter dataframe where nro_promo is not null\n",
    "filtered_df = deodorants_df[deodorants_df['nro_prom'].notnull()]\n",
    "\n",
    "# group by producto and idb and count number of rows in each group\n",
    "grouped_df = filtered_df.groupby(['id_producto', 'idb', 'id_cadena']).size().reset_index(name='count')\n",
    "\n",
    "# print grouped dataframe\n",
    "print(grouped_df)"
   ],
   "metadata": {
    "collapsed": false
   }
  },
  {
   "cell_type": "code",
   "execution_count": null,
   "outputs": [],
   "source": [
    "deodorants_df.to_csv('../clean_data/deodorants_final_merged.csv', index=False)"
   ],
   "metadata": {
    "collapsed": false
   }
  },
  {
   "cell_type": "code",
   "execution_count": 86,
   "outputs": [
    {
     "data": {
      "text/plain": "                idb   id_producto  stock_unidades  venta_unidades  \\\ncount  8.356436e+06  8.356436e+06    8.356436e+06    8.356436e+06   \nmean   6.989773e+03  3.785508e+05    2.065137e+01    3.136310e-01   \nstd    3.299906e+03  9.158304e+04    1.487243e+02    8.953579e-01   \nmin    2.420000e+02  1.641460e+05   -5.420000e+02   -4.500000e+01   \n25%    5.208000e+03  2.929450e+05    6.000000e+00    0.000000e+00   \n50%    9.026000e+03  4.152680e+05    1.000000e+01    0.000000e+00   \n75%    9.159000e+03  4.583930e+05    1.700000e+01    0.000000e+00   \nmax    9.977000e+03  5.113260e+05    1.621800e+04    6.120000e+02   \n\n       precio_unitario  sigue_prod_en_rol      cd_abast     mov_month  \\\ncount     8.356436e+06       8.356436e+06  8.356436e+06  8.356436e+06   \nmean      6.423475e+01       9.610200e-01  5.434609e+03  6.485025e+00   \nstd       6.580358e+01       1.935474e-01  4.533852e+03  3.453803e+00   \nmin       0.000000e+00       0.000000e+00  0.000000e+00  1.000000e+00   \n25%       2.251000e+01       1.000000e+00  0.000000e+00  3.000000e+00   \n50%       3.823000e+01       1.000000e+00  9.217000e+03  6.000000e+00   \n75%       7.673000e+01       1.000000e+00  9.217000e+03  1.000000e+01   \nmax       4.238100e+02       1.000000e+00  9.217000e+03  1.200000e+01   \n\n           mov_year   mov_weekday  ventas_estimadas_promo       nro_prom  \\\ncount  8.356436e+06  8.356436e+06           136278.000000  136278.000000   \nmean   2.017666e+03  3.002266e+00               23.915526  477085.219096   \nstd    9.815391e-01  2.000099e+00               31.778576   39563.177966   \nmin    2.016000e+03  0.000000e+00                0.000000  425196.000000   \n25%    2.017000e+03  1.000000e+00                4.000000  440560.000000   \n50%    2.018000e+03  3.000000e+00               12.000000  473864.000000   \n75%    2.018000e+03  5.000000e+00               30.000000  518153.000000   \nmax    2.019000e+03  6.000000e+00              300.000000  541066.000000   \n\n       duracion_promo     id_cadena      longitud       latitud         local  \\\ncount   136278.000000  8.356436e+06  8.356436e+06  8.356436e+06  8.356436e+06   \nmean         9.107919  4.277160e+00 -5.872835e+01 -3.506354e+01  9.897948e-01   \nstd          3.569107  2.618480e+00  1.394684e+00  2.036040e+00  1.005039e-01   \nmin          3.000000  2.000000e+00 -6.749604e+01 -4.587265e+01  0.000000e+00   \n25%          7.000000  2.000000e+00 -5.869611e+01 -3.498957e+01  1.000000e+00   \n50%          7.000000  4.000000e+00 -5.846482e+01 -3.462789e+01  1.000000e+00   \n75%          9.000000  4.000000e+00 -5.839790e+01 -3.457732e+01  1.000000e+00   \nmax         18.000000  9.000000e+00 -5.668353e+01 -2.914198e+01  1.000000e+00   \n\n         punto_dist  id_region   tiene_promo  \ncount  8.356436e+06  7757988.0  8.356436e+06  \nmean   1.020519e-02        1.0  1.630815e-02  \nstd    1.005039e-01        0.0  1.266578e-01  \nmin    0.000000e+00        1.0  0.000000e+00  \n25%    0.000000e+00        1.0  0.000000e+00  \n50%    0.000000e+00        1.0  0.000000e+00  \n75%    0.000000e+00        1.0  0.000000e+00  \nmax    1.000000e+00        1.0  1.000000e+00  ",
      "text/html": "<div>\n<style scoped>\n    .dataframe tbody tr th:only-of-type {\n        vertical-align: middle;\n    }\n\n    .dataframe tbody tr th {\n        vertical-align: top;\n    }\n\n    .dataframe thead th {\n        text-align: right;\n    }\n</style>\n<table border=\"1\" class=\"dataframe\">\n  <thead>\n    <tr style=\"text-align: right;\">\n      <th></th>\n      <th>idb</th>\n      <th>id_producto</th>\n      <th>stock_unidades</th>\n      <th>venta_unidades</th>\n      <th>precio_unitario</th>\n      <th>sigue_prod_en_rol</th>\n      <th>cd_abast</th>\n      <th>mov_month</th>\n      <th>mov_year</th>\n      <th>mov_weekday</th>\n      <th>ventas_estimadas_promo</th>\n      <th>nro_prom</th>\n      <th>duracion_promo</th>\n      <th>id_cadena</th>\n      <th>longitud</th>\n      <th>latitud</th>\n      <th>local</th>\n      <th>punto_dist</th>\n      <th>id_region</th>\n      <th>tiene_promo</th>\n    </tr>\n  </thead>\n  <tbody>\n    <tr>\n      <th>count</th>\n      <td>8.356436e+06</td>\n      <td>8.356436e+06</td>\n      <td>8.356436e+06</td>\n      <td>8.356436e+06</td>\n      <td>8.356436e+06</td>\n      <td>8.356436e+06</td>\n      <td>8.356436e+06</td>\n      <td>8.356436e+06</td>\n      <td>8.356436e+06</td>\n      <td>8.356436e+06</td>\n      <td>136278.000000</td>\n      <td>136278.000000</td>\n      <td>136278.000000</td>\n      <td>8.356436e+06</td>\n      <td>8.356436e+06</td>\n      <td>8.356436e+06</td>\n      <td>8.356436e+06</td>\n      <td>8.356436e+06</td>\n      <td>7757988.0</td>\n      <td>8.356436e+06</td>\n    </tr>\n    <tr>\n      <th>mean</th>\n      <td>6.989773e+03</td>\n      <td>3.785508e+05</td>\n      <td>2.065137e+01</td>\n      <td>3.136310e-01</td>\n      <td>6.423475e+01</td>\n      <td>9.610200e-01</td>\n      <td>5.434609e+03</td>\n      <td>6.485025e+00</td>\n      <td>2.017666e+03</td>\n      <td>3.002266e+00</td>\n      <td>23.915526</td>\n      <td>477085.219096</td>\n      <td>9.107919</td>\n      <td>4.277160e+00</td>\n      <td>-5.872835e+01</td>\n      <td>-3.506354e+01</td>\n      <td>9.897948e-01</td>\n      <td>1.020519e-02</td>\n      <td>1.0</td>\n      <td>1.630815e-02</td>\n    </tr>\n    <tr>\n      <th>std</th>\n      <td>3.299906e+03</td>\n      <td>9.158304e+04</td>\n      <td>1.487243e+02</td>\n      <td>8.953579e-01</td>\n      <td>6.580358e+01</td>\n      <td>1.935474e-01</td>\n      <td>4.533852e+03</td>\n      <td>3.453803e+00</td>\n      <td>9.815391e-01</td>\n      <td>2.000099e+00</td>\n      <td>31.778576</td>\n      <td>39563.177966</td>\n      <td>3.569107</td>\n      <td>2.618480e+00</td>\n      <td>1.394684e+00</td>\n      <td>2.036040e+00</td>\n      <td>1.005039e-01</td>\n      <td>1.005039e-01</td>\n      <td>0.0</td>\n      <td>1.266578e-01</td>\n    </tr>\n    <tr>\n      <th>min</th>\n      <td>2.420000e+02</td>\n      <td>1.641460e+05</td>\n      <td>-5.420000e+02</td>\n      <td>-4.500000e+01</td>\n      <td>0.000000e+00</td>\n      <td>0.000000e+00</td>\n      <td>0.000000e+00</td>\n      <td>1.000000e+00</td>\n      <td>2.016000e+03</td>\n      <td>0.000000e+00</td>\n      <td>0.000000</td>\n      <td>425196.000000</td>\n      <td>3.000000</td>\n      <td>2.000000e+00</td>\n      <td>-6.749604e+01</td>\n      <td>-4.587265e+01</td>\n      <td>0.000000e+00</td>\n      <td>0.000000e+00</td>\n      <td>1.0</td>\n      <td>0.000000e+00</td>\n    </tr>\n    <tr>\n      <th>25%</th>\n      <td>5.208000e+03</td>\n      <td>2.929450e+05</td>\n      <td>6.000000e+00</td>\n      <td>0.000000e+00</td>\n      <td>2.251000e+01</td>\n      <td>1.000000e+00</td>\n      <td>0.000000e+00</td>\n      <td>3.000000e+00</td>\n      <td>2.017000e+03</td>\n      <td>1.000000e+00</td>\n      <td>4.000000</td>\n      <td>440560.000000</td>\n      <td>7.000000</td>\n      <td>2.000000e+00</td>\n      <td>-5.869611e+01</td>\n      <td>-3.498957e+01</td>\n      <td>1.000000e+00</td>\n      <td>0.000000e+00</td>\n      <td>1.0</td>\n      <td>0.000000e+00</td>\n    </tr>\n    <tr>\n      <th>50%</th>\n      <td>9.026000e+03</td>\n      <td>4.152680e+05</td>\n      <td>1.000000e+01</td>\n      <td>0.000000e+00</td>\n      <td>3.823000e+01</td>\n      <td>1.000000e+00</td>\n      <td>9.217000e+03</td>\n      <td>6.000000e+00</td>\n      <td>2.018000e+03</td>\n      <td>3.000000e+00</td>\n      <td>12.000000</td>\n      <td>473864.000000</td>\n      <td>7.000000</td>\n      <td>4.000000e+00</td>\n      <td>-5.846482e+01</td>\n      <td>-3.462789e+01</td>\n      <td>1.000000e+00</td>\n      <td>0.000000e+00</td>\n      <td>1.0</td>\n      <td>0.000000e+00</td>\n    </tr>\n    <tr>\n      <th>75%</th>\n      <td>9.159000e+03</td>\n      <td>4.583930e+05</td>\n      <td>1.700000e+01</td>\n      <td>0.000000e+00</td>\n      <td>7.673000e+01</td>\n      <td>1.000000e+00</td>\n      <td>9.217000e+03</td>\n      <td>1.000000e+01</td>\n      <td>2.018000e+03</td>\n      <td>5.000000e+00</td>\n      <td>30.000000</td>\n      <td>518153.000000</td>\n      <td>9.000000</td>\n      <td>4.000000e+00</td>\n      <td>-5.839790e+01</td>\n      <td>-3.457732e+01</td>\n      <td>1.000000e+00</td>\n      <td>0.000000e+00</td>\n      <td>1.0</td>\n      <td>0.000000e+00</td>\n    </tr>\n    <tr>\n      <th>max</th>\n      <td>9.977000e+03</td>\n      <td>5.113260e+05</td>\n      <td>1.621800e+04</td>\n      <td>6.120000e+02</td>\n      <td>4.238100e+02</td>\n      <td>1.000000e+00</td>\n      <td>9.217000e+03</td>\n      <td>1.200000e+01</td>\n      <td>2.019000e+03</td>\n      <td>6.000000e+00</td>\n      <td>300.000000</td>\n      <td>541066.000000</td>\n      <td>18.000000</td>\n      <td>9.000000e+00</td>\n      <td>-5.668353e+01</td>\n      <td>-2.914198e+01</td>\n      <td>1.000000e+00</td>\n      <td>1.000000e+00</td>\n      <td>1.0</td>\n      <td>1.000000e+00</td>\n    </tr>\n  </tbody>\n</table>\n</div>"
     },
     "execution_count": 86,
     "metadata": {},
     "output_type": "execute_result"
    }
   ],
   "source": [
    "deodorants_df.describe()"
   ],
   "metadata": {
    "collapsed": false
   }
  },
  {
   "cell_type": "code",
   "execution_count": 89,
   "outputs": [
    {
     "name": "stdout",
     "output_type": "stream",
     "text": [
      "['fecha_desde', 'fecha_hasta', 'ventas_estimadas_promo', 'nro_prom', 'duracion_promo', 'desc_producto', 'id_region']\n"
     ]
    }
   ],
   "source": [
    "# check for null or NaN values in each column\n",
    "null_cols = deodorants_df.isnull().any()\n",
    "\n",
    "# print columns with null or NaN values\n",
    "print(null_cols[null_cols == True].index.tolist())"
   ],
   "metadata": {
    "collapsed": false
   }
  },
  {
   "cell_type": "code",
   "execution_count": 88,
   "outputs": [],
   "source": [
    "deodorants_df.drop('razon_social', axis=1, inplace=True)"
   ],
   "metadata": {
    "collapsed": false
   }
  },
  {
   "cell_type": "code",
   "execution_count": 105,
   "outputs": [
    {
     "data": {
      "text/plain": "[238237,\n 249049,\n 385535,\n 407845,\n 443520,\n 443521,\n 443547,\n 450083,\n 454813,\n 469286,\n 485719,\n 497936,\n 507832,\n 511324,\n 511325,\n 511326]"
     },
     "execution_count": 105,
     "metadata": {},
     "output_type": "execute_result"
    }
   ],
   "source": [
    "# group by id_producto and check if any tiene_prom value is 1\n",
    "products_with_promotion = deodorants_df.groupby(['id_producto'])['tiene_promo'].any()\n",
    "\n",
    "# products_with_promotion now contains a boolean value for each id_producto indicating if that product has ever had a promotion (True) or not (False)\n",
    "products_without_promotion = products_with_promotion[~products_with_promotion].index.tolist()\n",
    "\n",
    "products_without_promotion"
   ],
   "metadata": {
    "collapsed": false
   }
  },
  {
   "cell_type": "code",
   "execution_count": null,
   "outputs": [],
   "source": [],
   "metadata": {
    "collapsed": false,
    "pycharm": {
     "is_executing": true
    }
   }
  },
  {
   "cell_type": "code",
   "execution_count": 93,
   "outputs": [],
   "source": [],
   "metadata": {
    "collapsed": false
   }
  }
 ],
 "metadata": {
  "kernelspec": {
   "display_name": "Python 3",
   "language": "python",
   "name": "python3"
  },
  "language_info": {
   "codemirror_mode": {
    "name": "ipython",
    "version": 2
   },
   "file_extension": ".py",
   "mimetype": "text/x-python",
   "name": "python",
   "nbconvert_exporter": "python",
   "pygments_lexer": "ipython2",
   "version": "2.7.6"
  }
 },
 "nbformat": 4,
 "nbformat_minor": 0
}
