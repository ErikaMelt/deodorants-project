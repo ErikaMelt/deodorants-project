{
 "cells": [
  {
   "cell_type": "markdown",
   "id": "7af5dfe1",
   "metadata": {},
   "source": [
    "# Limpieza de Datos Dataset ProvProdu-20190712"
   ]
  },
  {
   "cell_type": "code",
   "execution_count": 1,
   "id": "396705b3",
   "metadata": {},
   "outputs": [],
   "source": [
    "import pandas as pd\n",
    "from utils import  upload_to_bucket, replace_regex\n",
    "import matplotlib.pyplot as plt\n",
    "import seaborn as sns"
   ]
  },
  {
   "cell_type": "markdown",
   "id": "dbd04701",
   "metadata": {},
   "source": [
    "# Importar Dataset"
   ]
  },
  {
   "cell_type": "markdown",
   "id": "6efedfb4",
   "metadata": {},
   "source": [
    "#### Importar el dataset y observar los primeros registros con head y verificar los tipos de datos con el método info."
   ]
  },
  {
   "cell_type": "code",
   "execution_count": 2,
   "id": "64fb7e61",
   "metadata": {},
   "outputs": [],
   "source": [
    "prov_prod_col_names = [\n",
    "    'id_proveedor', 'razon_social', 'id_sector', 'desc_sector', 'id_seccion',\n",
    "    'desc_seccion', 'id_gran_flia', 'desc_gran_flia', 'id_flia', 'desc_flia',\n",
    "    'id_sub_flia', 'desc_sub_flia', 'id_articulo', 'id_producto',\n",
    "    'desc_producto', 'id_region', 'fecha'\n",
    "]"
   ]
  },
  {
   "cell_type": "code",
   "execution_count": 3,
   "id": "ffb8777c",
   "metadata": {},
   "outputs": [],
   "source": [
    "prov_prod_df = pd.read_csv(\"../data/VMI_ProvProdu-20190712.txt\",\n",
    "                           encoding=\"UTF-8\",\n",
    "                           encoding_errors='replace',\n",
    "                           header=None,\n",
    "                           delimiter='\\t',\n",
    "                           names=prov_prod_col_names)"
   ]
  },
  {
   "cell_type": "code",
   "execution_count": 4,
   "id": "ad3f0604",
   "metadata": {},
   "outputs": [
    {
     "data": {
      "text/html": [
       "<div>\n",
       "<style scoped>\n",
       "    .dataframe tbody tr th:only-of-type {\n",
       "        vertical-align: middle;\n",
       "    }\n",
       "\n",
       "    .dataframe tbody tr th {\n",
       "        vertical-align: top;\n",
       "    }\n",
       "\n",
       "    .dataframe thead th {\n",
       "        text-align: right;\n",
       "    }\n",
       "</style>\n",
       "<table border=\"1\" class=\"dataframe\">\n",
       "  <thead>\n",
       "    <tr style=\"text-align: right;\">\n",
       "      <th></th>\n",
       "      <th>id_proveedor</th>\n",
       "      <th>razon_social</th>\n",
       "      <th>id_sector</th>\n",
       "      <th>desc_sector</th>\n",
       "      <th>id_seccion</th>\n",
       "      <th>desc_seccion</th>\n",
       "      <th>id_gran_flia</th>\n",
       "      <th>desc_gran_flia</th>\n",
       "      <th>id_flia</th>\n",
       "      <th>desc_flia</th>\n",
       "      <th>id_sub_flia</th>\n",
       "      <th>desc_sub_flia</th>\n",
       "      <th>id_articulo</th>\n",
       "      <th>id_producto</th>\n",
       "      <th>desc_producto</th>\n",
       "      <th>id_region</th>\n",
       "      <th>fecha</th>\n",
       "    </tr>\n",
       "  </thead>\n",
       "  <tbody>\n",
       "    <tr>\n",
       "      <th>1</th>\n",
       "      <td>252</td>\n",
       "      <td>Reckitt Benckiser Argentina S.A.</td>\n",
       "      <td>1</td>\n",
       "      <td>Almac�n</td>\n",
       "      <td>4</td>\n",
       "      <td>Limpieza</td>\n",
       "      <td>3</td>\n",
       "      <td>Ba�o y Hogar</td>\n",
       "      <td>4</td>\n",
       "      <td>Desodorantes de ambientes</td>\n",
       "      <td>1</td>\n",
       "      <td>Desodorantes en aerosol</td>\n",
       "      <td>27003</td>\n",
       "      <td>273920</td>\n",
       "      <td>REFILL CITRICO  OIL ESCENCE AIR WICK CITRICOS ...</td>\n",
       "      <td>1</td>\n",
       "      <td>2019-07-12 11:04:07.967</td>\n",
       "    </tr>\n",
       "    <tr>\n",
       "      <th>1</th>\n",
       "      <td>252</td>\n",
       "      <td>Reckitt Benckiser Argentina S.A.</td>\n",
       "      <td>1</td>\n",
       "      <td>Almac�n</td>\n",
       "      <td>4</td>\n",
       "      <td>Limpieza</td>\n",
       "      <td>3</td>\n",
       "      <td>Ba�o y Hogar</td>\n",
       "      <td>4</td>\n",
       "      <td>Desodorantes de ambientes</td>\n",
       "      <td>1</td>\n",
       "      <td>Desodorantes en aerosol</td>\n",
       "      <td>27004</td>\n",
       "      <td>273921</td>\n",
       "      <td>FRESHMATIC AIRWICK LAVANDA REPUESTO 250.00 MLT</td>\n",
       "      <td>1</td>\n",
       "      <td>2019-07-12 11:04:07.967</td>\n",
       "    </tr>\n",
       "    <tr>\n",
       "      <th>1</th>\n",
       "      <td>252</td>\n",
       "      <td>Reckitt Benckiser Argentina S.A.</td>\n",
       "      <td>1</td>\n",
       "      <td>Almac�n</td>\n",
       "      <td>4</td>\n",
       "      <td>Limpieza</td>\n",
       "      <td>3</td>\n",
       "      <td>Ba�o y Hogar</td>\n",
       "      <td>4</td>\n",
       "      <td>Desodorantes de ambientes</td>\n",
       "      <td>1</td>\n",
       "      <td>Desodorantes en aerosol</td>\n",
       "      <td>27005</td>\n",
       "      <td>284012</td>\n",
       "      <td>AIR WICK CITRICO FULL REP.GRATIS AIR WICK AIR ...</td>\n",
       "      <td>1</td>\n",
       "      <td>2019-07-12 11:04:07.967</td>\n",
       "    </tr>\n",
       "    <tr>\n",
       "      <th>1</th>\n",
       "      <td>252</td>\n",
       "      <td>Reckitt Benckiser Argentina S.A.</td>\n",
       "      <td>1</td>\n",
       "      <td>Almac�n</td>\n",
       "      <td>4</td>\n",
       "      <td>Limpieza</td>\n",
       "      <td>3</td>\n",
       "      <td>Ba�o y Hogar</td>\n",
       "      <td>4</td>\n",
       "      <td>Desodorantes de ambientes</td>\n",
       "      <td>1</td>\n",
       "      <td>Desodorantes en aerosol</td>\n",
       "      <td>27012</td>\n",
       "      <td>359572</td>\n",
       "      <td>MAGNOLIA Y CHERRY AIR WICK REPUESTO 175.00 GR</td>\n",
       "      <td>1</td>\n",
       "      <td>2019-07-12 11:04:07.967</td>\n",
       "    </tr>\n",
       "    <tr>\n",
       "      <th>1</th>\n",
       "      <td>252</td>\n",
       "      <td>Reckitt Benckiser Argentina S.A.</td>\n",
       "      <td>1</td>\n",
       "      <td>Almac�n</td>\n",
       "      <td>4</td>\n",
       "      <td>Limpieza</td>\n",
       "      <td>3</td>\n",
       "      <td>Ba�o y Hogar</td>\n",
       "      <td>4</td>\n",
       "      <td>Desodorantes de ambientes</td>\n",
       "      <td>1</td>\n",
       "      <td>Desodorantes en aerosol</td>\n",
       "      <td>27007</td>\n",
       "      <td>415268</td>\n",
       "      <td>FRESHMATIC BOSQUE M�GICO APARATO AIR WICK LUSH...</td>\n",
       "      <td>1</td>\n",
       "      <td>2019-07-12 11:04:07.967</td>\n",
       "    </tr>\n",
       "  </tbody>\n",
       "</table>\n",
       "</div>"
      ],
      "text/plain": [
       "   id_proveedor                      razon_social  id_sector desc_sector  \\\n",
       "1           252  Reckitt Benckiser Argentina S.A.          1     Almac�n   \n",
       "1           252  Reckitt Benckiser Argentina S.A.          1     Almac�n   \n",
       "1           252  Reckitt Benckiser Argentina S.A.          1     Almac�n   \n",
       "1           252  Reckitt Benckiser Argentina S.A.          1     Almac�n   \n",
       "1           252  Reckitt Benckiser Argentina S.A.          1     Almac�n   \n",
       "\n",
       "   id_seccion desc_seccion  id_gran_flia desc_gran_flia  id_flia  \\\n",
       "1           4     Limpieza             3   Ba�o y Hogar        4   \n",
       "1           4     Limpieza             3   Ba�o y Hogar        4   \n",
       "1           4     Limpieza             3   Ba�o y Hogar        4   \n",
       "1           4     Limpieza             3   Ba�o y Hogar        4   \n",
       "1           4     Limpieza             3   Ba�o y Hogar        4   \n",
       "\n",
       "                   desc_flia  id_sub_flia            desc_sub_flia  \\\n",
       "1  Desodorantes de ambientes            1  Desodorantes en aerosol   \n",
       "1  Desodorantes de ambientes            1  Desodorantes en aerosol   \n",
       "1  Desodorantes de ambientes            1  Desodorantes en aerosol   \n",
       "1  Desodorantes de ambientes            1  Desodorantes en aerosol   \n",
       "1  Desodorantes de ambientes            1  Desodorantes en aerosol   \n",
       "\n",
       "   id_articulo  id_producto  \\\n",
       "1        27003       273920   \n",
       "1        27004       273921   \n",
       "1        27005       284012   \n",
       "1        27012       359572   \n",
       "1        27007       415268   \n",
       "\n",
       "                                       desc_producto  id_region  \\\n",
       "1  REFILL CITRICO  OIL ESCENCE AIR WICK CITRICOS ...          1   \n",
       "1     FRESHMATIC AIRWICK LAVANDA REPUESTO 250.00 MLT          1   \n",
       "1  AIR WICK CITRICO FULL REP.GRATIS AIR WICK AIR ...          1   \n",
       "1      MAGNOLIA Y CHERRY AIR WICK REPUESTO 175.00 GR          1   \n",
       "1  FRESHMATIC BOSQUE M�GICO APARATO AIR WICK LUSH...          1   \n",
       "\n",
       "                     fecha  \n",
       "1  2019-07-12 11:04:07.967  \n",
       "1  2019-07-12 11:04:07.967  \n",
       "1  2019-07-12 11:04:07.967  \n",
       "1  2019-07-12 11:04:07.967  \n",
       "1  2019-07-12 11:04:07.967  "
      ]
     },
     "execution_count": 4,
     "metadata": {},
     "output_type": "execute_result"
    }
   ],
   "source": [
    "prov_prod_df.head()"
   ]
  },
  {
   "cell_type": "code",
   "execution_count": 5,
   "id": "7821385e",
   "metadata": {},
   "outputs": [
    {
     "name": "stdout",
     "output_type": "stream",
     "text": [
      "<class 'pandas.core.frame.DataFrame'>\n",
      "Int64Index: 82 entries, 1 to 1\n",
      "Data columns (total 17 columns):\n",
      " #   Column          Non-Null Count  Dtype \n",
      "---  ------          --------------  ----- \n",
      " 0   id_proveedor    82 non-null     int64 \n",
      " 1   razon_social    82 non-null     object\n",
      " 2   id_sector       82 non-null     int64 \n",
      " 3   desc_sector     82 non-null     object\n",
      " 4   id_seccion      82 non-null     int64 \n",
      " 5   desc_seccion    82 non-null     object\n",
      " 6   id_gran_flia    82 non-null     int64 \n",
      " 7   desc_gran_flia  82 non-null     object\n",
      " 8   id_flia         82 non-null     int64 \n",
      " 9   desc_flia       82 non-null     object\n",
      " 10  id_sub_flia     82 non-null     int64 \n",
      " 11  desc_sub_flia   82 non-null     object\n",
      " 12  id_articulo     82 non-null     int64 \n",
      " 13  id_producto     82 non-null     int64 \n",
      " 14  desc_producto   82 non-null     object\n",
      " 15  id_region       82 non-null     int64 \n",
      " 16  fecha           82 non-null     object\n",
      "dtypes: int64(9), object(8)\n",
      "memory usage: 11.5+ KB\n"
     ]
    }
   ],
   "source": [
    "prov_prod_df.info()"
   ]
  },
  {
   "cell_type": "markdown",
   "id": "b7cd3f38",
   "metadata": {},
   "source": [
    "#### Observaciones Iniciales\n",
    "-  El conjunto de datos analizado consta de 82 registros que proporcionan información sobre la relación entre la descripción del producto, la familia, subfamilia y gran familia, así como el nombre del proveedor correspondiente. Durante el análisis exploratorio de datos, se ha llevado a cabo una revisión exhaustiva de las diferentes categorías de variables de tipo objeto en el conjunto de datos con el objetivo de identificar los tipos de categorías presentes en el mismo."
   ]
  },
  {
   "cell_type": "code",
   "execution_count": 6,
   "id": "4ece68a9",
   "metadata": {},
   "outputs": [],
   "source": [
    "columnas_categoricas = ['razon_social', 'desc_sector', 'desc_seccion', 'desc_gran_flia', 'desc_flia', 'desc_sub_flia', 'desc_producto']"
   ]
  },
  {
   "cell_type": "code",
   "execution_count": 7,
   "id": "2c90247d",
   "metadata": {},
   "outputs": [
    {
     "name": "stdout",
     "output_type": "stream",
     "text": [
      "Columna razon_social: 4 subnivele(s)\n",
      "Columna desc_sector: 1 subnivele(s)\n",
      "Columna desc_seccion: 1 subnivele(s)\n",
      "Columna desc_gran_flia: 1 subnivele(s)\n",
      "Columna desc_flia: 1 subnivele(s)\n",
      "Columna desc_sub_flia: 1 subnivele(s)\n",
      "Columna desc_producto: 81 subnivele(s)\n"
     ]
    }
   ],
   "source": [
    "# Conteo de los niveles en las diferentes columnas categóricas\n",
    "for col in columnas_categoricas:\n",
    "    print(f\"Columna {col}: {prov_prod_df[col].nunique()} subnivele(s)\")"
   ]
  },
  {
   "cell_type": "code",
   "execution_count": 8,
   "id": "b7bbba3d",
   "metadata": {},
   "outputs": [
    {
     "name": "stdout",
     "output_type": "stream",
     "text": [
      "Total de productos suministrados por los cuatro principales proveedores: \n",
      " razon_social\n",
      "Clorox argentina s.a.               21\n",
      "Industrias iberia s.a.i.c.           1\n",
      "Reckitt Benckiser Argentina S.A.    10\n",
      "S. c. johnson y son de arg. s.a.    50\n",
      "Name: id_producto, dtype: int64\n"
     ]
    }
   ],
   "source": [
    "grouped_data = prov_prod_df.groupby(['razon_social']).id_producto.count()\n",
    "print(f\"Total de productos suministrados por los cuatro principales proveedores: \\n {grouped_data}\")"
   ]
  },
  {
   "cell_type": "code",
   "execution_count": 9,
   "id": "8b92148b",
   "metadata": {},
   "outputs": [
    {
     "name": "stdout",
     "output_type": "stream",
     "text": [
      "Agrupacion de prooductos por gran familia, familia y subfamilia: \n",
      "desc_sector  desc_seccion  desc_gran_flia  desc_flia                  desc_sub_flia          \n",
      "Almac�n      Limpieza      Ba�o y Hogar    Desodorantes de ambientes  Desodorantes en aerosol    82\n",
      "Name: id_producto, dtype: int64\n"
     ]
    }
   ],
   "source": [
    "grouped_data_by_flia = prov_prod_df.groupby(['desc_sector', 'desc_seccion', 'desc_gran_flia', 'desc_flia', 'desc_sub_flia']).id_producto.count()\n",
    "print(f\"Agrupacion de prooductos por gran familia, familia y subfamilia: \\n{grouped_data_by_flia}\")"
   ]
  },
  {
   "cell_type": "markdown",
   "id": "9e7e3a55",
   "metadata": {},
   "source": [
    "- Podemos concluir que el conjunto de datos contiene un total de 82 productos únicos que son suministrados por cuatro proveedores principales. En su mayoría, estos productos pertenecen a la categoría de desodorantes en aerosol, que se encuentra dentro de la familia de desodorantes de ambientes clasificados como productos de limpieza para el baño y hogar.\n",
    "\n",
    "- En función de los objetivos específicos de este análisis, se ha decidido que las columnas de razon social, id del proveedor, id del producto y descripción del producto son las únicas que se utilizarán, eliminando así las demás columnas del dataset."
   ]
  },
  {
   "cell_type": "code",
   "execution_count": 10,
   "id": "eb178133",
   "metadata": {},
   "outputs": [],
   "source": [
    "# Eliminar del dataset las columnas que no son relevantes para el análisis.\n",
    "prov_prod_df.drop(['id_sector', 'desc_sector', 'id_seccion', 'desc_seccion', 'id_gran_flia', 'desc_gran_flia', 'id_flia', 'desc_flia', 'id_sub_flia', 'desc_sub_flia', 'id_articulo', 'fecha'], axis=1, inplace=True)"
   ]
  },
  {
   "cell_type": "code",
   "execution_count": 11,
   "id": "cdb7e848",
   "metadata": {},
   "outputs": [],
   "source": [
    "prov_prod_df = prov_prod_df.applymap(lambda x: x.lower() if isinstance(x, str) else x)"
   ]
  },
  {
   "cell_type": "code",
   "execution_count": 12,
   "id": "95404aa0",
   "metadata": {},
   "outputs": [
    {
     "name": "stdout",
     "output_type": "stream",
     "text": [
      "<class 'pandas.core.frame.DataFrame'>\n",
      "Int64Index: 82 entries, 1 to 1\n",
      "Data columns (total 5 columns):\n",
      " #   Column         Non-Null Count  Dtype \n",
      "---  ------         --------------  ----- \n",
      " 0   id_proveedor   82 non-null     int64 \n",
      " 1   razon_social   82 non-null     object\n",
      " 2   id_producto    82 non-null     int64 \n",
      " 3   desc_producto  82 non-null     object\n",
      " 4   id_region      82 non-null     int64 \n",
      "dtypes: int64(3), object(2)\n",
      "memory usage: 3.8+ KB\n"
     ]
    }
   ],
   "source": [
    "prov_prod_df.info()"
   ]
  },
  {
   "cell_type": "code",
   "execution_count": 13,
   "id": "064dca27",
   "metadata": {},
   "outputs": [
    {
     "name": "stdout",
     "output_type": "stream",
     "text": [
      "82\n"
     ]
    }
   ],
   "source": [
    "print(prov_prod_df.id_producto.nunique())"
   ]
  },
  {
   "cell_type": "markdown",
   "id": "ae354f3a",
   "metadata": {},
   "source": [
    "#### Arreglar errores de semantica en la columna desc_producto, remover characteres especiales."
   ]
  },
  {
   "cell_type": "code",
   "execution_count": 14,
   "id": "9db7e9c2",
   "metadata": {},
   "outputs": [],
   "source": [
    "replace_regex(prov_prod_df, 'desc_producto', 'm�gico', 'magico')\n",
    "replace_regex(prov_prod_df, 'desc_producto', 'el�c', 'elec')\n",
    "replace_regex(prov_prod_df, 'desc_producto', 'lim�n', 'limon')\n",
    "replace_regex(prov_prod_df, 'desc_producto', 'autom�tico', 'automatico')\n",
    "replace_regex(prov_prod_df, 'desc_producto', 'algod�n', 'algodon')\n",
    "replace_regex(prov_prod_df, 'desc_producto', 'man�na', 'manana')\n",
    "replace_regex(prov_prod_df, 'desc_producto', 'el�ctricos', 'electricos')\n",
    "replace_regex(prov_prod_df, 'desc_producto', 'ac�stica', 'acustica')"
   ]
  },
  {
   "cell_type": "code",
   "execution_count": 26,
   "id": "33e3bd3e",
   "metadata": {},
   "outputs": [
    {
     "data": {
      "image/png": "[encoded data removed]",
      "text/plain": [
       "<Figure size 1200x800 with 1 Axes>"
      ]
     },
     "metadata": {},
     "output_type": "display_data"
    }
   ],
   "source": [
    "import seaborn as sns\n",
    "import matplotlib.pyplot as plt\n",
    "\n",
    "# set the seaborn theme\n",
    "sns.set_style(\"whitegrid\")\n",
    "\n",
    "# set the color palette\n",
    "color = \"blend:#7AB,#EDA\"\n",
    "sns.set_palette(sns.color_palette(color))\n",
    "\n",
    "# set the figure size and title font size\n",
    "plt.figure(figsize=(12, 8))\n",
    "plt.title('Análisis de la cantidad de desodorantes en aerosol suministrados por proveedor', fontsize=16)\n",
    "\n",
    "# create a bar chart of the grouped data\n",
    "grouped_data = prov_prod_df.groupby(['razon_social']).id_producto.count()\n",
    "ax = grouped_data.plot(kind='bar', color=sns.color_palette())\n",
    "\n",
    "# set chart labels and axis font size\n",
    "ax.set_xlabel('Nombre del Proveedor', fontsize=14)\n",
    "ax.set_ylabel('Cantidad de Desodorantes', fontsize=14)\n",
    "\n",
    "# add labels to the bars\n",
    "for i, v in enumerate(grouped_data):\n",
    "    ax.text(i, v + 1, str(v), color='black', fontweight='bold', ha='center')\n",
    "\n",
    "ax.set_xticklabels(ax.get_xticklabels(), rotation=20, ha='right')\n",
    "\n",
    "# save the chart as a PNG image\n",
    "plt.savefig('../eda/images/productos_por_proveedor.png')\n",
    "\n",
    "# display the chart\n",
    "plt.show()\n"
   ]
  },
  {
   "cell_type": "markdown",
   "id": "5a4d0e00",
   "metadata": {},
   "source": [
    "#### Guardar el dataset limpio"
   ]
  },
  {
   "cell_type": "code",
   "execution_count": 62,
   "id": "cee29598",
   "metadata": {},
   "outputs": [],
   "source": [
    "prov_prod_df.to_csv('../clean_data/prov_prod_clean.csv', index=False)"
   ]
  },
  {
   "cell_type": "markdown",
   "id": "7541b993",
   "metadata": {},
   "source": [
    "#### Subir csv a google cloud storage"
   ]
  },
  {
   "cell_type": "code",
   "execution_count": 63,
   "id": "b1b15ac5",
   "metadata": {},
   "outputs": [
    {
     "name": "stdout",
     "output_type": "stream",
     "text": [
      "File ../clean_data/prov_prod_clean.csv uploaded successfully to bucket deodorants/prov_prod\n"
     ]
    }
   ],
   "source": [
    "upload_to_bucket('deodorants', '../clean_data/prov_prod_clean.csv', 'prov_prod')"
   ]
  }
 ],
 "metadata": {
  "kernelspec": {
   "display_name": "Python 3 (ipykernel)",
   "language": "python",
   "name": "python3"
  },
  "language_info": {
   "codemirror_mode": {
    "name": "ipython",
    "version": 3
   },
   "file_extension": ".py",
   "mimetype": "text/x-python",
   "name": "python",
   "nbconvert_exporter": "python",
   "pygments_lexer": "ipython3",
   "version": "3.10.9"
  },
  "toc": {
   "base_numbering": 1,
   "nav_menu": {},
   "number_sections": true,
   "sideBar": true,
   "skip_h1_title": false,
   "title_cell": "Table of Contents",
   "title_sidebar": "Contents",
   "toc_cell": false,
   "toc_position": {},
   "toc_section_display": true,
   "toc_window_display": false
  },
  "varInspector": {
   "cols": {
    "lenName": 16,
    "lenType": 16,
    "lenVar": 40
   },
   "kernels_config": {
    "python": {
     "delete_cmd_postfix": "",
     "delete_cmd_prefix": "del ",
     "library": "var_list.py",
     "varRefreshCmd": "print(var_dic_list())"
    },
    "r": {
     "delete_cmd_postfix": ") ",
     "delete_cmd_prefix": "rm(",
     "library": "var_list.r",
     "varRefreshCmd": "cat(var_dic_list()) "
    }
   },
   "types_to_exclude": [
    "module",
    "function",
    "builtin_function_or_method",
    "instance",
    "_Feature"
   ],
   "window_display": false
  }
 },
 "nbformat": 4,
 "nbformat_minor": 5
}
