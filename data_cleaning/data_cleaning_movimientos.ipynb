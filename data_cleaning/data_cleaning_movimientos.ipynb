{
 "cells": [
  {
   "cell_type": "markdown",
   "id": "7af5dfe1",
   "metadata": {},
   "source": [
    "# Limpieza de Datos Dataset Movimientos-20190716"
   ]
  },
  {
   "cell_type": "code",
   "execution_count": 1,
   "id": "396705b3",
   "metadata": {},
   "outputs": [],
   "source": [
    "import pandas as pd\n",
    "from utils_functions import  upload_to_bucket"
   ]
  },
  {
   "cell_type": "markdown",
   "source": [
    "# Importar Dataset"
   ],
   "metadata": {
    "collapsed": false
   }
  },
  {
   "cell_type": "markdown",
   "source": [
    "#### Importar el dataset y observar los primeros registros con head y verificar los tipos de datos con el método info."
   ],
   "metadata": {
    "collapsed": false
   }
  },
  {
   "cell_type": "code",
   "execution_count": 2,
   "outputs": [],
   "source": [
    "movimientos_col_names = [\n",
    "    'idb', 'id_producto', 'fecha_trans', 'stock_unidades', 'venta_unidades', 'precio_unitario',\n",
    "    'cd_abast', 'sigue_prod_en_rol'\n",
    "]\n",
    "\n",
    "dtypes = {\n",
    "    'stock_unidades': 'int64',\n",
    "    'venta_unidades': 'int64'\n",
    "}"
   ],
   "metadata": {
    "collapsed": false
   }
  },
  {
   "cell_type": "code",
   "execution_count": 3,
   "outputs": [],
   "source": [
    "path = '../data/VMI_Movimientos-20190716.txt'\n",
    "movimientos_df = pd.read_csv(path,\n",
    "                 delimiter = '\\t',\n",
    "                 header=None,\n",
    "                 names=movimientos_col_names,\n",
    "                 dtype=dtypes)"
   ],
   "metadata": {
    "collapsed": false
   }
  },
  {
   "cell_type": "code",
   "execution_count": 4,
   "outputs": [
    {
     "data": {
      "text/plain": "   idb  id_producto  fecha_trans  stock_unidades  venta_unidades  \\\n0  242       228217     20160715              24               0   \n1  242       228217     20160716              24               0   \n2  242       228217     20160717              24               0   \n3  242       228217     20160718              24               0   \n4  242       228217     20160719              24               0   \n\n   precio_unitario  cd_abast sigue_prod_en_rol  \n0            13.63         0                SI  \n1            13.63         0                SI  \n2            13.63         0                SI  \n3            13.63         0                SI  \n4            13.63         0                SI  ",
      "text/html": "<div>\n<style scoped>\n    .dataframe tbody tr th:only-of-type {\n        vertical-align: middle;\n    }\n\n    .dataframe tbody tr th {\n        vertical-align: top;\n    }\n\n    .dataframe thead th {\n        text-align: right;\n    }\n</style>\n<table border=\"1\" class=\"dataframe\">\n  <thead>\n    <tr style=\"text-align: right;\">\n      <th></th>\n      <th>idb</th>\n      <th>id_producto</th>\n      <th>fecha_trans</th>\n      <th>stock_unidades</th>\n      <th>venta_unidades</th>\n      <th>precio_unitario</th>\n      <th>cd_abast</th>\n      <th>sigue_prod_en_rol</th>\n    </tr>\n  </thead>\n  <tbody>\n    <tr>\n      <th>0</th>\n      <td>242</td>\n      <td>228217</td>\n      <td>20160715</td>\n      <td>24</td>\n      <td>0</td>\n      <td>13.63</td>\n      <td>0</td>\n      <td>SI</td>\n    </tr>\n    <tr>\n      <th>1</th>\n      <td>242</td>\n      <td>228217</td>\n      <td>20160716</td>\n      <td>24</td>\n      <td>0</td>\n      <td>13.63</td>\n      <td>0</td>\n      <td>SI</td>\n    </tr>\n    <tr>\n      <th>2</th>\n      <td>242</td>\n      <td>228217</td>\n      <td>20160717</td>\n      <td>24</td>\n      <td>0</td>\n      <td>13.63</td>\n      <td>0</td>\n      <td>SI</td>\n    </tr>\n    <tr>\n      <th>3</th>\n      <td>242</td>\n      <td>228217</td>\n      <td>20160718</td>\n      <td>24</td>\n      <td>0</td>\n      <td>13.63</td>\n      <td>0</td>\n      <td>SI</td>\n    </tr>\n    <tr>\n      <th>4</th>\n      <td>242</td>\n      <td>228217</td>\n      <td>20160719</td>\n      <td>24</td>\n      <td>0</td>\n      <td>13.63</td>\n      <td>0</td>\n      <td>SI</td>\n    </tr>\n  </tbody>\n</table>\n</div>"
     },
     "execution_count": 4,
     "metadata": {},
     "output_type": "execute_result"
    }
   ],
   "source": [
    "movimientos_df.head()"
   ],
   "metadata": {
    "collapsed": false
   }
  },
  {
   "cell_type": "code",
   "execution_count": 5,
   "outputs": [
    {
     "name": "stdout",
     "output_type": "stream",
     "text": [
      "<class 'pandas.core.frame.DataFrame'>\n",
      "RangeIndex: 8347817 entries, 0 to 8347816\n",
      "Data columns (total 8 columns):\n",
      " #   Column             Dtype  \n",
      "---  ------             -----  \n",
      " 0   idb                int64  \n",
      " 1   id_producto        int64  \n",
      " 2   fecha_trans        int64  \n",
      " 3   stock_unidades     int64  \n",
      " 4   venta_unidades     int64  \n",
      " 5   precio_unitario    float64\n",
      " 6   cd_abast           int64  \n",
      " 7   sigue_prod_en_rol  object \n",
      "dtypes: float64(1), int64(6), object(1)\n",
      "memory usage: 509.5+ MB\n"
     ]
    }
   ],
   "source": [
    "movimientos_df.info()"
   ],
   "metadata": {
    "collapsed": false
   }
  },
  {
   "cell_type": "markdown",
   "source": [
    "#### Ajustes al dataframe\n",
    "- Convertir la columna fecha_trans a tipo de dato datetime.\n",
    "- Crear columnas de año, mes y día apartir de la columna fecha.\n",
    "- Convertir la columna sigue_prod_en_rol a tipo de dato string.\n",
    "- Verificar por valores nulos y repetidos.\n",
    "- Convertir la columna sigue_prod_en_rol a variable numerica donde 1 corresponde a SI y 0 corresponde a NO.\n",
    "- Obtener las fechas máximas y minimas de transaciones\n",
    "- Obtener una análisis descriptivo de los datos."
   ],
   "metadata": {
    "collapsed": false
   }
  },
  {
   "cell_type": "code",
   "execution_count": 6,
   "outputs": [],
   "source": [
    "movimientos_df['fecha_trans'] = pd.to_datetime(movimientos_df['fecha_trans'], format='%Y%m%d')"
   ],
   "metadata": {
    "collapsed": false
   }
  },
  {
   "cell_type": "code",
   "execution_count": 7,
   "outputs": [],
   "source": [
    "movimientos_df['year'] = movimientos_df['fecha_trans'].dt.year\n",
    "movimientos_df['month'] = movimientos_df['fecha_trans'].dt.month\n",
    "movimientos_df['weekday'] = movimientos_df['fecha_trans'].dt.weekday"
   ],
   "metadata": {
    "collapsed": false
   }
  },
  {
   "cell_type": "markdown",
   "source": [
    "- Obtener la cantidad de transacciones por año."
   ],
   "metadata": {
    "collapsed": false
   }
  },
  {
   "cell_type": "code",
   "execution_count": 10,
   "outputs": [
    {
     "name": "stdout",
     "output_type": "stream",
     "text": [
      "La cantidad de movimientos por año es:\n",
      "year\n",
      "2016    1177264\n",
      "2017    2343400\n",
      "2018    2914155\n",
      "2019    1912998\n",
      "Name: idb, dtype: int64\n"
     ]
    }
   ],
   "source": [
    "print(f\"La cantidad de movimientos por año es:\\n{movimientos_df.groupby('year').idb.count()}\")"
   ],
   "metadata": {
    "collapsed": false
   }
  },
  {
   "cell_type": "code",
   "execution_count": 11,
   "outputs": [
    {
     "data": {
      "text/plain": "idb                  0\nid_producto          0\nfecha_trans          0\nstock_unidades       0\nventa_unidades       0\nprecio_unitario      0\ncd_abast             0\nsigue_prod_en_rol    0\nyear                 0\nmonth                0\nweekday              0\ndtype: int64"
     },
     "execution_count": 11,
     "metadata": {},
     "output_type": "execute_result"
    }
   ],
   "source": [
    "movimientos_df.isnull().sum(axis=0)"
   ],
   "metadata": {
    "collapsed": false
   }
  },
  {
   "cell_type": "code",
   "execution_count": 12,
   "outputs": [
    {
     "data": {
      "text/plain": "0"
     },
     "execution_count": 12,
     "metadata": {},
     "output_type": "execute_result"
    }
   ],
   "source": [
    "movimientos_df.duplicated().sum()"
   ],
   "metadata": {
    "collapsed": false
   }
  },
  {
   "cell_type": "code",
   "execution_count": 21,
   "outputs": [
    {
     "name": "stdout",
     "output_type": "stream",
     "text": [
      "La cantidad de productos de referencias únicas en el dataset son: 92\n"
     ]
    }
   ],
   "source": [
    "print(f\"La cantidad de productos de referencias únicas en el dataset son: {movimientos_df.id_producto.nunique()}\")"
   ],
   "metadata": {
    "collapsed": false
   }
  },
  {
   "cell_type": "code",
   "execution_count": 14,
   "outputs": [
    {
     "name": "stdout",
     "output_type": "stream",
     "text": [
      "El número de registros duplicados es: 0\n"
     ]
    }
   ],
   "source": [
    "# Verificar si existen valores duplicados para el subset: idb, id_producto, fecha_trans, precio_unitario\n",
    "duplicated_mask = movimientos_df.duplicated(subset=['idb', 'id_producto', 'precio_unitario', 'fecha_trans'], keep='first')\n",
    "num_duplicated_records = sum(duplicated_mask)\n",
    "print(f\"El número de registros duplicados es: {num_duplicated_records}\")"
   ],
   "metadata": {
    "collapsed": false
   }
  },
  {
   "cell_type": "code",
   "execution_count": 15,
   "outputs": [],
   "source": [
    "movimientos_df['sigue_prod_en_rol'] = movimientos_df['sigue_prod_en_rol'].str.lower().apply(lambda x: 1 if x == 'si' else 0)"
   ],
   "metadata": {
    "collapsed": false
   }
  },
  {
   "cell_type": "code",
   "execution_count": 16,
   "outputs": [
    {
     "name": "stdout",
     "output_type": "stream",
     "text": [
      "Minimum date: 2016-07-15 00:00:00\n",
      "Maximum date: 2019-07-14 00:00:00\n"
     ]
    }
   ],
   "source": [
    "max_date = movimientos_df['fecha_trans'].max()\n",
    "min_date = movimientos_df['fecha_trans'].min()\n",
    "\n",
    "print(f\"Minimum date: {min_date}\")\n",
    "print(f\"Maximum date: {max_date}\")"
   ],
   "metadata": {
    "collapsed": false
   }
  },
  {
   "cell_type": "code",
   "execution_count": 17,
   "outputs": [
    {
     "data": {
      "text/plain": "                idb   id_producto  stock_unidades  venta_unidades  \\\ncount  8.347817e+06  8.347817e+06    8.347817e+06    8.347817e+06   \nmean   6.988555e+03  3.785489e+05    2.065585e+01    3.133696e-01   \nstd    3.300353e+03  9.159373e+04    1.488001e+02    8.950359e-01   \nmin    2.420000e+02  1.641460e+05   -5.420000e+02   -4.500000e+01   \n25%    5.208000e+03  2.929450e+05    6.000000e+00    0.000000e+00   \n50%    9.026000e+03  4.152680e+05    1.000000e+01    0.000000e+00   \n75%    9.159000e+03  4.583930e+05    1.700000e+01    0.000000e+00   \nmax    9.977000e+03  5.113260e+05    1.621800e+04    6.120000e+02   \n\n       precio_unitario      cd_abast  sigue_prod_en_rol          year  \\\ncount     8.347817e+06  8.347817e+06       8.347817e+06  8.347817e+06   \nmean      6.426050e+01  5.435286e+03       9.609797e-01  2.017666e+03   \nstd       6.582745e+01  4.533729e+03       1.936432e-01  9.811683e-01   \nmin       0.000000e+00  0.000000e+00       0.000000e+00  2.016000e+03   \n25%       2.251000e+01  0.000000e+00       1.000000e+00  2.017000e+03   \n50%       3.823000e+01  9.217000e+03       1.000000e+00  2.018000e+03   \n75%       7.673000e+01  9.217000e+03       1.000000e+00  2.018000e+03   \nmax       4.238100e+02  9.217000e+03       1.000000e+00  2.019000e+03   \n\n              month       weekday  \ncount  8.347817e+06  8.347817e+06  \nmean   6.485551e+00  3.002297e+00  \nstd    3.454577e+00  2.000007e+00  \nmin    1.000000e+00  0.000000e+00  \n25%    3.000000e+00  1.000000e+00  \n50%    6.000000e+00  3.000000e+00  \n75%    1.000000e+01  5.000000e+00  \nmax    1.200000e+01  6.000000e+00  ",
      "text/html": "<div>\n<style scoped>\n    .dataframe tbody tr th:only-of-type {\n        vertical-align: middle;\n    }\n\n    .dataframe tbody tr th {\n        vertical-align: top;\n    }\n\n    .dataframe thead th {\n        text-align: right;\n    }\n</style>\n<table border=\"1\" class=\"dataframe\">\n  <thead>\n    <tr style=\"text-align: right;\">\n      <th></th>\n      <th>idb</th>\n      <th>id_producto</th>\n      <th>stock_unidades</th>\n      <th>venta_unidades</th>\n      <th>precio_unitario</th>\n      <th>cd_abast</th>\n      <th>sigue_prod_en_rol</th>\n      <th>year</th>\n      <th>month</th>\n      <th>weekday</th>\n    </tr>\n  </thead>\n  <tbody>\n    <tr>\n      <th>count</th>\n      <td>8.347817e+06</td>\n      <td>8.347817e+06</td>\n      <td>8.347817e+06</td>\n      <td>8.347817e+06</td>\n      <td>8.347817e+06</td>\n      <td>8.347817e+06</td>\n      <td>8.347817e+06</td>\n      <td>8.347817e+06</td>\n      <td>8.347817e+06</td>\n      <td>8.347817e+06</td>\n    </tr>\n    <tr>\n      <th>mean</th>\n      <td>6.988555e+03</td>\n      <td>3.785489e+05</td>\n      <td>2.065585e+01</td>\n      <td>3.133696e-01</td>\n      <td>6.426050e+01</td>\n      <td>5.435286e+03</td>\n      <td>9.609797e-01</td>\n      <td>2.017666e+03</td>\n      <td>6.485551e+00</td>\n      <td>3.002297e+00</td>\n    </tr>\n    <tr>\n      <th>std</th>\n      <td>3.300353e+03</td>\n      <td>9.159373e+04</td>\n      <td>1.488001e+02</td>\n      <td>8.950359e-01</td>\n      <td>6.582745e+01</td>\n      <td>4.533729e+03</td>\n      <td>1.936432e-01</td>\n      <td>9.811683e-01</td>\n      <td>3.454577e+00</td>\n      <td>2.000007e+00</td>\n    </tr>\n    <tr>\n      <th>min</th>\n      <td>2.420000e+02</td>\n      <td>1.641460e+05</td>\n      <td>-5.420000e+02</td>\n      <td>-4.500000e+01</td>\n      <td>0.000000e+00</td>\n      <td>0.000000e+00</td>\n      <td>0.000000e+00</td>\n      <td>2.016000e+03</td>\n      <td>1.000000e+00</td>\n      <td>0.000000e+00</td>\n    </tr>\n    <tr>\n      <th>25%</th>\n      <td>5.208000e+03</td>\n      <td>2.929450e+05</td>\n      <td>6.000000e+00</td>\n      <td>0.000000e+00</td>\n      <td>2.251000e+01</td>\n      <td>0.000000e+00</td>\n      <td>1.000000e+00</td>\n      <td>2.017000e+03</td>\n      <td>3.000000e+00</td>\n      <td>1.000000e+00</td>\n    </tr>\n    <tr>\n      <th>50%</th>\n      <td>9.026000e+03</td>\n      <td>4.152680e+05</td>\n      <td>1.000000e+01</td>\n      <td>0.000000e+00</td>\n      <td>3.823000e+01</td>\n      <td>9.217000e+03</td>\n      <td>1.000000e+00</td>\n      <td>2.018000e+03</td>\n      <td>6.000000e+00</td>\n      <td>3.000000e+00</td>\n    </tr>\n    <tr>\n      <th>75%</th>\n      <td>9.159000e+03</td>\n      <td>4.583930e+05</td>\n      <td>1.700000e+01</td>\n      <td>0.000000e+00</td>\n      <td>7.673000e+01</td>\n      <td>9.217000e+03</td>\n      <td>1.000000e+00</td>\n      <td>2.018000e+03</td>\n      <td>1.000000e+01</td>\n      <td>5.000000e+00</td>\n    </tr>\n    <tr>\n      <th>max</th>\n      <td>9.977000e+03</td>\n      <td>5.113260e+05</td>\n      <td>1.621800e+04</td>\n      <td>6.120000e+02</td>\n      <td>4.238100e+02</td>\n      <td>9.217000e+03</td>\n      <td>1.000000e+00</td>\n      <td>2.019000e+03</td>\n      <td>1.200000e+01</td>\n      <td>6.000000e+00</td>\n    </tr>\n  </tbody>\n</table>\n</div>"
     },
     "execution_count": 17,
     "metadata": {},
     "output_type": "execute_result"
    }
   ],
   "source": [
    "movimientos_df.describe()"
   ],
   "metadata": {
    "collapsed": false
   }
  },
  {
   "cell_type": "code",
   "execution_count": 18,
   "outputs": [
    {
     "name": "stdout",
     "output_type": "stream",
     "text": [
      "<class 'pandas.core.frame.DataFrame'>\n",
      "RangeIndex: 8347817 entries, 0 to 8347816\n",
      "Data columns (total 11 columns):\n",
      " #   Column             Dtype         \n",
      "---  ------             -----         \n",
      " 0   idb                int64         \n",
      " 1   id_producto        int64         \n",
      " 2   fecha_trans        datetime64[ns]\n",
      " 3   stock_unidades     int64         \n",
      " 4   venta_unidades     int64         \n",
      " 5   precio_unitario    float64       \n",
      " 6   cd_abast           int64         \n",
      " 7   sigue_prod_en_rol  int64         \n",
      " 8   year               int64         \n",
      " 9   month              int64         \n",
      " 10  weekday            int64         \n",
      "dtypes: datetime64[ns](1), float64(1), int64(9)\n",
      "memory usage: 700.6 MB\n"
     ]
    }
   ],
   "source": [
    "movimientos_df.info()"
   ],
   "metadata": {
    "collapsed": false
   }
  },
  {
   "cell_type": "code",
   "execution_count": 19,
   "outputs": [
    {
     "name": "stdout",
     "output_type": "stream",
     "text": [
      "Las ventas en unidades con valores negativos son en total: 580\n"
     ]
    }
   ],
   "source": [
    "# Verificar cuantos valores negativos tenemos en la columna venta_unidades\n",
    "ventas_unidades_negativas = movimientos_df[movimientos_df['venta_unidades'] < 0]\n",
    "print(f\"Las ventas en unidades con valores negativos son en total: {ventas_unidades_negativas.id_producto.count()}\")"
   ],
   "metadata": {
    "collapsed": false
   }
  },
  {
   "cell_type": "code",
   "execution_count": 20,
   "outputs": [
    {
     "name": "stdout",
     "output_type": "stream",
     "text": [
      "El total de inventario en unidades negativos son en total: 45483\n"
     ]
    }
   ],
   "source": [
    "# Verificar cuantos valores negativos tenemos en la columna stock unidades\n",
    "stock_unidades_negativas = movimientos_df[movimientos_df['stock_unidades'] < 0]\n",
    "print(f\"El total de inventario en unidades negativos son en total: {stock_unidades_negativas.id_producto.count()}\")"
   ],
   "metadata": {
    "collapsed": false
   }
  },
  {
   "cell_type": "markdown",
   "source": [
    "#### Observaciones dataset Movimientos-20190716"
   ],
   "metadata": {
    "collapsed": false
   }
  },
  {
   "cell_type": "markdown",
   "source": [
    "1. El conjunto de datos contiene información sobre los movimientos de productos desde el 15 de julio de 2016 hasta el 14 de julio de 2019.\n",
    "2. El número de registros por año es el siguiente:\n",
    "        2016: 1,177,264\n",
    "        2017: 2,343,400\n",
    "        2018: 2,914,155\n",
    "        2019: 1,912,998\n",
    "3. El conjunto de datos consta de 8 columnas identificadas de la siguiente manera:\n",
    "        - idb: identificador interno de la ubicación\n",
    "        - id_producto: identificador interno del producto\n",
    "        - fecha: fecha de la transacción (un día antes de la fecha actual)\n",
    "        - stock_unidades: número de unidades de producto en la ubicación\n",
    "        - venta_unidades: número de unidades vendidas\n",
    "        - precio_unitario: precio de venta unitario\n",
    "        - cd_abast: identificador de la ubicación de la tienda que suministra el producto a la ubicación actual.\n",
    "        - sigue_prod_en_rol: indica si el producto sigue en rol (SI) o no (NO) en la ubicación actual.\n",
    "4. No se observan valores faltantes o duplicados. Esta es una tabla transaccional, por lo que puede haber múltiples registros para el mismo producto y ubicación con diferentes fechas de transacciones.\n",
    "5. El valor medio de unidades de inventario es de 21 unidades.\n",
    "6. El valor medio de unidades vendidas es de 0.31 unidades.\n",
    "7. El valor máximo de ventas es de 612 unidades.\n",
    "8. El valor mínimo de ventas es de -40 unidades.\n",
    "9. La media del precio unitario es de 64.26 pesos.\n",
    "10. Se observan 580 registros que contienen valores negativos en la columna venta_unidades.\n",
    "11. Se observan 45,483 registros que contienen valores negativos en la columna stock_unidades.\n",
    "12. La cantidad de productos únicos en el conjunto de datos es de 92.\n",
    "\n"
   ],
   "metadata": {
    "collapsed": false
   }
  },
  {
   "cell_type": "markdown",
   "source": [
    "### Guardar el dataset limpio"
   ],
   "metadata": {
    "collapsed": false
   }
  },
  {
   "cell_type": "code",
   "execution_count": 23,
   "outputs": [],
   "source": [
    "movimientos_df.to_csv('../clean_data/movimientos_clean.csv', index=False)"
   ],
   "metadata": {
    "collapsed": false
   }
  },
  {
   "cell_type": "markdown",
   "source": [
    "#### Subir csv a google cloud storage"
   ],
   "metadata": {
    "collapsed": false
   }
  },
  {
   "cell_type": "code",
   "execution_count": 24,
   "outputs": [
    {
     "name": "stdout",
     "output_type": "stream",
     "text": [
      "File ../clean_data/movimientos_clean.csv uploaded successfully to bucket deodorants/movimientos\n"
     ]
    }
   ],
   "source": [
    "upload_to_bucket('deodorants', '../clean_data/movimientos_clean.csv', 'movimientos')"
   ],
   "metadata": {
    "collapsed": false
   }
  }
 ],
 "metadata": {
  "kernelspec": {
   "display_name": "Python 3 (ipykernel)",
   "language": "python",
   "name": "python3"
  },
  "language_info": {
   "codemirror_mode": {
    "name": "ipython",
    "version": 3
   },
   "file_extension": ".py",
   "mimetype": "text/x-python",
   "name": "python",
   "nbconvert_exporter": "python",
   "pygments_lexer": "ipython3",
   "version": "3.10.8"
  },
  "toc": {
   "base_numbering": 1,
   "nav_menu": {},
   "number_sections": true,
   "sideBar": true,
   "skip_h1_title": false,
   "title_cell": "Table of Contents",
   "title_sidebar": "Contents",
   "toc_cell": false,
   "toc_position": {},
   "toc_section_display": true,
   "toc_window_display": false
  },
  "varInspector": {
   "cols": {
    "lenName": 16,
    "lenType": 16,
    "lenVar": 40
   },
   "kernels_config": {
    "python": {
     "delete_cmd_postfix": "",
     "delete_cmd_prefix": "del ",
     "library": "var_list.py",
     "varRefreshCmd": "print(var_dic_list())"
    },
    "r": {
     "delete_cmd_postfix": ") ",
     "delete_cmd_prefix": "rm(",
     "library": "var_list.r",
     "varRefreshCmd": "cat(var_dic_list()) "
    }
   },
   "types_to_exclude": [
    "module",
    "function",
    "builtin_function_or_method",
    "instance",
    "_Feature"
   ],
   "window_display": false
  }
 },
 "nbformat": 4,
 "nbformat_minor": 5
}
