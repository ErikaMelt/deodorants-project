{
 "cells": [
  {
   "cell_type": "markdown",
   "id": "7af5dfe1",
   "metadata": {},
   "source": [
    "# Limpieza de Datos Dataset Movimientos-20190716"
   ]
  },
  {
   "cell_type": "code",
   "execution_count": null,
   "id": "396705b3",
   "metadata": {},
   "outputs": [],
   "source": [
    "import pandas as pd\n",
    "from utils_functions import  upload_to_bucket"
   ]
  },
  {
   "cell_type": "markdown",
   "source": [
    "# Importar Dataset"
   ],
   "metadata": {
    "collapsed": false
   }
  },
  {
   "cell_type": "markdown",
   "source": [
    "#### Importar el dataset y observar los primeros registros con head y verificar los tipos de datos con el método info."
   ],
   "metadata": {
    "collapsed": false
   }
  },
  {
   "cell_type": "code",
   "execution_count": null,
   "outputs": [],
   "source": [
    "movimientos_col_names = [\n",
    "    'idb', 'id_producto', 'fecha_trans', 'stock_unidades', 'venta_unidades', 'precio_unitario',\n",
    "    'cd_abast', 'sigue_prod_en_rol'\n",
    "]"
   ],
   "metadata": {
    "collapsed": false
   }
  },
  {
   "cell_type": "code",
   "execution_count": null,
   "outputs": [],
   "source": [
    "path = '../data/VMI_Movimientos-20190716.txt'\n",
    "movimientos_df = pd.read_csv(path,\n",
    "                 delimiter = '\\t',\n",
    "                 header=None,\n",
    "                 names=movimientos_col_names)"
   ],
   "metadata": {
    "collapsed": false
   }
  },
  {
   "cell_type": "code",
   "execution_count": null,
   "outputs": [],
   "source": [
    "movimientos_df.head()"
   ],
   "metadata": {
    "collapsed": false
   }
  },
  {
   "cell_type": "code",
   "execution_count": null,
   "outputs": [],
   "source": [
    "movimientos_df.info()"
   ],
   "metadata": {
    "collapsed": false
   }
  },
  {
   "cell_type": "markdown",
   "source": [
    "#### Ajustes al dataframe\n",
    "- Convertir la columna fecha_trans a tipo de dato datetime.\n",
    "- Crear columnas de año, mes y día apartir de la columna fecha.\n",
    "- Convertir la columna sigue_prod_en_rol a tipo de dato string.\n",
    "- Verificar por valores nulos y repetidos.\n",
    "- Convertir la columna sigue_prod_en_rol a variable numerica donde 1 corresponde a SI y 0 corresponde a NO.\n",
    "- Obtener las fechas máximas y minimas de transaciones\n",
    "- Obtener una análisis descriptivo de los datos."
   ],
   "metadata": {
    "collapsed": false
   }
  },
  {
   "cell_type": "code",
   "execution_count": null,
   "outputs": [],
   "source": [
    "movimientos_df['fecha_trans'] = pd.to_datetime(movimientos_df['fecha_trans'], format='%Y-%m-%d')\n",
    "movimientos_df['year'] = movimientos_df['fecha_trans'].dt.year\n",
    "movimientos_df['month'] = movimientos_df['fecha_trans'].dt.month\n",
    "movimientos_df['weekday'] = movimientos_df['fecha_trans'].dt.weekday"
   ],
   "metadata": {
    "collapsed": false
   }
  },
  {
   "cell_type": "code",
   "execution_count": null,
   "outputs": [],
   "source": [
    "movimientos_df.isnull().sum(axis=0)"
   ],
   "metadata": {
    "collapsed": false
   }
  },
  {
   "cell_type": "code",
   "execution_count": null,
   "outputs": [],
   "source": [
    "movimientos_df.duplicated().sum()"
   ],
   "metadata": {
    "collapsed": false
   }
  },
  {
   "cell_type": "code",
   "execution_count": null,
   "outputs": [],
   "source": [
    "print(f\"La cantidad de productos únicos en el dataset son: {movimientos_df.id_producto.nunique()}\")"
   ],
   "metadata": {
    "collapsed": false
   }
  },
  {
   "cell_type": "code",
   "execution_count": null,
   "outputs": [],
   "source": [
    "# Verificar si existen valores duplicados para el subset: idb, id_producto, fecha_trans, precio_unitario\n",
    "duplicated_mask = movimientos_df.duplicated(subset=['idb', 'id_producto', 'precio_unitario', 'fecha_trans'], keep='first')\n",
    "num_duplicated_records = sum(duplicated_mask)\n",
    "print(f\"El número de registros duplicados es: {num_duplicated_records}\")"
   ],
   "metadata": {
    "collapsed": false
   }
  },
  {
   "cell_type": "code",
   "execution_count": null,
   "outputs": [],
   "source": [
    "movimientos_df['sigue_prod_en_rol'] = movimientos_df['sigue_prod_en_rol'].str.lower().apply(lambda x: 1 if x == 'si' else 0)"
   ],
   "metadata": {
    "collapsed": false
   }
  },
  {
   "cell_type": "code",
   "execution_count": null,
   "outputs": [],
   "source": [
    "max_date = movimientos_df['fecha_trans'].max()\n",
    "min_date = movimientos_df['fecha_trans'].min()\n",
    "\n",
    "print(f\"Minimum date: {min_date}\")\n",
    "print(f\"Maximum date: {max_date}\")"
   ],
   "metadata": {
    "collapsed": false
   }
  },
  {
   "cell_type": "code",
   "execution_count": null,
   "outputs": [],
   "source": [
    "movimientos_df.describe()"
   ],
   "metadata": {
    "collapsed": false
   }
  },
  {
   "cell_type": "code",
   "execution_count": null,
   "outputs": [],
   "source": [
    "# Verificar cuantos valores negativos tenemos en la columna venta_unidades\n",
    "ventas_unidades_negativas = movimientos_df[movimientos_df['venta_unidades'] < 0]\n",
    "print(f\"Las ventas en unidades con valores negativos son en total: {ventas_unidades_negativas.id_producto.count()}\")"
   ],
   "metadata": {
    "collapsed": false
   }
  },
  {
   "cell_type": "code",
   "execution_count": null,
   "outputs": [],
   "source": [
    "# Verificar cuantos valores negativos tenemos en la columna stock unidades\n",
    "stock_unidades_negativas = movimientos_df[movimientos_df['stock_unidades'] < 0]\n",
    "print(f\"El total de inventario en unidades negativos son en total: {stock_unidades_negativas.id_producto.count()}\")"
   ],
   "metadata": {
    "collapsed": false
   }
  },
  {
   "cell_type": "markdown",
   "source": [
    "#### Observaciones dataset Movimientos-20190716"
   ],
   "metadata": {
    "collapsed": false
   }
  },
  {
   "cell_type": "markdown",
   "source": [
    "1. El conjunto de datos contiene información sobre los movimientos de productos desde el 15 de julio de 2016 hasta el 14 de julio de 2019.\n",
    "2. El número de registros por año es el siguiente:\n",
    "        2016: 1,177,264\n",
    "        2017: 2,343,400\n",
    "        2018: 2,914,155\n",
    "        2019: 1,912,998\n",
    "3. El conjunto de datos consta de 8 columnas identificadas de la siguiente manera:\n",
    "        - idb: identificador interno de la ubicación\n",
    "        - id_producto: identificador interno del producto\n",
    "        - fecha: fecha de la transacción (un día antes de la fecha actual)\n",
    "        - stock_unidades: número de unidades de producto en la ubicación\n",
    "        - venta_unidades: número de unidades vendidas\n",
    "        - precio_unitario: precio de venta unitario\n",
    "        - cd_abast: identificador de la ubicación de la tienda que suministra el producto a la ubicación actual.\n",
    "        - sigue_prod_en_rol: indica si el producto sigue en rol (SI) o no (NO) en la ubicación actual.\n",
    "4. No se observan valores faltantes o duplicados. Esta es una tabla transaccional, por lo que puede haber múltiples registros para el mismo producto y ubicación con diferentes fechas de transacciones.\n",
    "5. El valor medio de unidades de inventario es de 20.65585 unidades.\n",
    "6. El valor medio de unidades vendidas es de 0.3133696 unidades.\n",
    "7. La media del precio unitario es de 64.26050 pesos.\n",
    "8. Se observan 580 registros que contienen valores negativos en la columna venta_unidades.\n",
    "9. Se observan 45,483 registros que contienen valores negativos en la columna stock_unidades.\n",
    "10. La cantidad de productos únicos en el conjunto de datos es de 92.\n",
    "\n"
   ],
   "metadata": {
    "collapsed": false
   }
  },
  {
   "cell_type": "markdown",
   "source": [
    "### Guardar el dataset limpio"
   ],
   "metadata": {
    "collapsed": false
   }
  },
  {
   "cell_type": "code",
   "execution_count": null,
   "outputs": [],
   "source": [
    "movimientos_df.to_csv('../clean_data/movimientos_clean.csv', index=False)"
   ],
   "metadata": {
    "collapsed": false
   }
  },
  {
   "cell_type": "markdown",
   "source": [
    "#### Subir csv a google cloud storage"
   ],
   "metadata": {
    "collapsed": false
   }
  },
  {
   "cell_type": "code",
   "execution_count": null,
   "outputs": [],
   "source": [
    "upload_to_bucket('deodorants', '../clean_data/movimientos_clean.csv', 'movimientos')"
   ],
   "metadata": {
    "collapsed": false
   }
  }
 ],
 "metadata": {
  "kernelspec": {
   "display_name": "Python 3 (ipykernel)",
   "language": "python",
   "name": "python3"
  },
  "language_info": {
   "codemirror_mode": {
    "name": "ipython",
    "version": 3
   },
   "file_extension": ".py",
   "mimetype": "text/x-python",
   "name": "python",
   "nbconvert_exporter": "python",
   "pygments_lexer": "ipython3",
   "version": "3.10.8"
  },
  "toc": {
   "base_numbering": 1,
   "nav_menu": {},
   "number_sections": true,
   "sideBar": true,
   "skip_h1_title": false,
   "title_cell": "Table of Contents",
   "title_sidebar": "Contents",
   "toc_cell": false,
   "toc_position": {},
   "toc_section_display": true,
   "toc_window_display": false
  },
  "varInspector": {
   "cols": {
    "lenName": 16,
    "lenType": 16,
    "lenVar": 40
   },
   "kernels_config": {
    "python": {
     "delete_cmd_postfix": "",
     "delete_cmd_prefix": "del ",
     "library": "var_list.py",
     "varRefreshCmd": "print(var_dic_list())"
    },
    "r": {
     "delete_cmd_postfix": ") ",
     "delete_cmd_prefix": "rm(",
     "library": "var_list.r",
     "varRefreshCmd": "cat(var_dic_list()) "
    }
   },
   "types_to_exclude": [
    "module",
    "function",
    "builtin_function_or_method",
    "instance",
    "_Feature"
   ],
   "window_display": false
  }
 },
 "nbformat": 4,
 "nbformat_minor": 5
}
