{
 "cells": [
  {
   "cell_type": "markdown",
   "id": "7af5dfe1",
   "metadata": {},
   "source": [
    "# Limpieza de Datos Dataset Movimientos-20190716"
   ]
  },
  {
   "cell_type": "code",
   "execution_count": 14,
   "id": "396705b3",
   "metadata": {},
   "outputs": [],
   "source": [
    "import pandas as pd\n",
    "from utils_functions import convert_file"
   ]
  },
  {
   "cell_type": "markdown",
   "source": [
    "# Importar Dataset"
   ],
   "metadata": {
    "collapsed": false
   }
  },
  {
   "cell_type": "markdown",
   "source": [
    "#### Importar el dataset y observar los primeros registros con head y verificar los tipos de datos con el método info."
   ],
   "metadata": {
    "collapsed": false
   }
  },
  {
   "cell_type": "code",
   "execution_count": 29,
   "outputs": [],
   "source": [
    "movimientos_col_names = [\n",
    "    'idb', 'id_producto', 'fecha_trans', 'stock_unidades', 'venta_unidades', 'precio_unitario',\n",
    "    'cd_abast', 'is_prod_rol_local'\n",
    "]"
   ],
   "metadata": {
    "collapsed": false
   }
  },
  {
   "cell_type": "code",
   "execution_count": 30,
   "outputs": [],
   "source": [
    "path = '../data/VMI_Movimientos-20190716.txt'\n",
    "movimientos_df = pd.read_csv(path,\n",
    "                 delimiter = '\\t',\n",
    "                 header=None,\n",
    "                 names=movimientos_col_names)"
   ],
   "metadata": {
    "collapsed": false
   }
  },
  {
   "cell_type": "code",
   "execution_count": 31,
   "outputs": [
    {
     "data": {
      "text/plain": "   idb  id_producto  fecha_trans  stock_unidades  venta_unidades  \\\n0  242       228217     20160715            24.0             0.0   \n1  242       228217     20160716            24.0             0.0   \n2  242       228217     20160717            24.0             0.0   \n3  242       228217     20160718            24.0             0.0   \n4  242       228217     20160719            24.0             0.0   \n\n   precio_unitario  cd_abast is_prod_rol_local  \n0            13.63         0                SI  \n1            13.63         0                SI  \n2            13.63         0                SI  \n3            13.63         0                SI  \n4            13.63         0                SI  ",
      "text/html": "<div>\n<style scoped>\n    .dataframe tbody tr th:only-of-type {\n        vertical-align: middle;\n    }\n\n    .dataframe tbody tr th {\n        vertical-align: top;\n    }\n\n    .dataframe thead th {\n        text-align: right;\n    }\n</style>\n<table border=\"1\" class=\"dataframe\">\n  <thead>\n    <tr style=\"text-align: right;\">\n      <th></th>\n      <th>idb</th>\n      <th>id_producto</th>\n      <th>fecha_trans</th>\n      <th>stock_unidades</th>\n      <th>venta_unidades</th>\n      <th>precio_unitario</th>\n      <th>cd_abast</th>\n      <th>is_prod_rol_local</th>\n    </tr>\n  </thead>\n  <tbody>\n    <tr>\n      <th>0</th>\n      <td>242</td>\n      <td>228217</td>\n      <td>20160715</td>\n      <td>24.0</td>\n      <td>0.0</td>\n      <td>13.63</td>\n      <td>0</td>\n      <td>SI</td>\n    </tr>\n    <tr>\n      <th>1</th>\n      <td>242</td>\n      <td>228217</td>\n      <td>20160716</td>\n      <td>24.0</td>\n      <td>0.0</td>\n      <td>13.63</td>\n      <td>0</td>\n      <td>SI</td>\n    </tr>\n    <tr>\n      <th>2</th>\n      <td>242</td>\n      <td>228217</td>\n      <td>20160717</td>\n      <td>24.0</td>\n      <td>0.0</td>\n      <td>13.63</td>\n      <td>0</td>\n      <td>SI</td>\n    </tr>\n    <tr>\n      <th>3</th>\n      <td>242</td>\n      <td>228217</td>\n      <td>20160718</td>\n      <td>24.0</td>\n      <td>0.0</td>\n      <td>13.63</td>\n      <td>0</td>\n      <td>SI</td>\n    </tr>\n    <tr>\n      <th>4</th>\n      <td>242</td>\n      <td>228217</td>\n      <td>20160719</td>\n      <td>24.0</td>\n      <td>0.0</td>\n      <td>13.63</td>\n      <td>0</td>\n      <td>SI</td>\n    </tr>\n  </tbody>\n</table>\n</div>"
     },
     "execution_count": 31,
     "metadata": {},
     "output_type": "execute_result"
    }
   ],
   "source": [
    "movimientos_df.head()"
   ],
   "metadata": {
    "collapsed": false
   }
  },
  {
   "cell_type": "code",
   "execution_count": 32,
   "outputs": [
    {
     "name": "stdout",
     "output_type": "stream",
     "text": [
      "<class 'pandas.core.frame.DataFrame'>\n",
      "RangeIndex: 8347817 entries, 0 to 8347816\n",
      "Data columns (total 8 columns):\n",
      " #   Column             Dtype  \n",
      "---  ------             -----  \n",
      " 0   idb                int64  \n",
      " 1   id_producto        int64  \n",
      " 2   fecha_trans        int64  \n",
      " 3   stock_unidades     float64\n",
      " 4   venta_unidades     float64\n",
      " 5   precio_unitario    float64\n",
      " 6   cd_abast           int64  \n",
      " 7   is_prod_rol_local  object \n",
      "dtypes: float64(3), int64(4), object(1)\n",
      "memory usage: 509.5+ MB\n"
     ]
    }
   ],
   "source": [
    "movimientos_df.info()"
   ],
   "metadata": {
    "collapsed": false
   }
  },
  {
   "cell_type": "markdown",
   "source": [
    "#### Ajustes al dataframe\n",
    "- Convertir la columna fecha_trans a tipo de dato datetime.\n",
    "- Convertir la columna is_prod_rol_local a tipo de dato string.\n",
    "- Verificar por valores nulos y repetidos.\n",
    "- Convertir la columna is_prod_rol_local a variable numerica donde 1 corresponde a SI y 0 corresponde a NO.\n",
    "- Obtener las fechas máximas y minimas de transaciones\n",
    "- Obtener una análisis descriptivo de los datos."
   ],
   "metadata": {
    "collapsed": false
   }
  },
  {
   "cell_type": "code",
   "execution_count": 33,
   "outputs": [],
   "source": [
    "movimientos_df = convert_file(movimientos_df, col_name='fecha_trans', data_type='date')"
   ],
   "metadata": {
    "collapsed": false
   }
  },
  {
   "cell_type": "code",
   "execution_count": 34,
   "outputs": [
    {
     "data": {
      "text/plain": "idb                  0\nid_producto          0\nfecha_trans          0\nstock_unidades       0\nventa_unidades       0\nprecio_unitario      0\ncd_abast             0\nis_prod_rol_local    0\ndtype: int64"
     },
     "execution_count": 34,
     "metadata": {},
     "output_type": "execute_result"
    }
   ],
   "source": [
    "movimientos_df.isnull().sum(axis=0)"
   ],
   "metadata": {
    "collapsed": false
   }
  },
  {
   "cell_type": "code",
   "execution_count": 35,
   "outputs": [
    {
     "data": {
      "text/plain": "0"
     },
     "execution_count": 35,
     "metadata": {},
     "output_type": "execute_result"
    }
   ],
   "source": [
    "movimientos_df.duplicated().sum()"
   ],
   "metadata": {
    "collapsed": false
   }
  },
  {
   "cell_type": "code",
   "execution_count": 36,
   "outputs": [
    {
     "name": "stdout",
     "output_type": "stream",
     "text": [
      "<class 'pandas.core.frame.DataFrame'>\n",
      "RangeIndex: 8347817 entries, 0 to 8347816\n",
      "Data columns (total 8 columns):\n",
      " #   Column             Dtype         \n",
      "---  ------             -----         \n",
      " 0   idb                int64         \n",
      " 1   id_producto        int64         \n",
      " 2   fecha_trans        datetime64[ns]\n",
      " 3   stock_unidades     float64       \n",
      " 4   venta_unidades     float64       \n",
      " 5   precio_unitario    float64       \n",
      " 6   cd_abast           int64         \n",
      " 7   is_prod_rol_local  object        \n",
      "dtypes: datetime64[ns](1), float64(3), int64(3), object(1)\n",
      "memory usage: 509.5+ MB\n"
     ]
    }
   ],
   "source": [
    "movimientos_df.info()"
   ],
   "metadata": {
    "collapsed": false
   }
  },
  {
   "cell_type": "code",
   "execution_count": 37,
   "outputs": [],
   "source": [
    "movimientos_df['is_prod_rol_local'] = movimientos_df['is_prod_rol_local'].str.lower().apply(lambda x: 1 if x == 'si' else 0)"
   ],
   "metadata": {
    "collapsed": false
   }
  },
  {
   "cell_type": "code",
   "execution_count": 38,
   "outputs": [
    {
     "name": "stdout",
     "output_type": "stream",
     "text": [
      "Minimum date: 2016-07-15 00:00:00\n",
      "Maximum date: 2019-07-14 00:00:00\n"
     ]
    }
   ],
   "source": [
    "max_date = movimientos_df['fecha_trans'].max()\n",
    "min_date = movimientos_df['fecha_trans'].min()\n",
    "\n",
    "print(f\"Minimum date: {min_date}\")\n",
    "print(f\"Maximum date: {max_date}\")"
   ],
   "metadata": {
    "collapsed": false
   }
  },
  {
   "cell_type": "code",
   "execution_count": 39,
   "outputs": [
    {
     "name": "stdout",
     "output_type": "stream",
     "text": [
      "<class 'pandas.core.frame.DataFrame'>\n",
      "RangeIndex: 8347817 entries, 0 to 8347816\n",
      "Data columns (total 8 columns):\n",
      " #   Column             Dtype         \n",
      "---  ------             -----         \n",
      " 0   idb                int64         \n",
      " 1   id_producto        int64         \n",
      " 2   fecha_trans        datetime64[ns]\n",
      " 3   stock_unidades     float64       \n",
      " 4   venta_unidades     float64       \n",
      " 5   precio_unitario    float64       \n",
      " 6   cd_abast           int64         \n",
      " 7   is_prod_rol_local  int64         \n",
      "dtypes: datetime64[ns](1), float64(3), int64(4)\n",
      "memory usage: 509.5 MB\n"
     ]
    }
   ],
   "source": [
    "movimientos_df.info()"
   ],
   "metadata": {
    "collapsed": false
   }
  },
  {
   "cell_type": "code",
   "execution_count": 40,
   "outputs": [
    {
     "data": {
      "text/plain": "                idb   id_producto  stock_unidades  venta_unidades  \\\ncount  8.347817e+06  8.347817e+06    8.347817e+06    8.347817e+06   \nmean   6.988555e+03  3.785489e+05    2.065585e+01    3.133696e-01   \nstd    3.300353e+03  9.159373e+04    1.488001e+02    8.950359e-01   \nmin    2.420000e+02  1.641460e+05   -5.420000e+02   -4.500000e+01   \n25%    5.208000e+03  2.929450e+05    6.000000e+00    0.000000e+00   \n50%    9.026000e+03  4.152680e+05    1.000000e+01    0.000000e+00   \n75%    9.159000e+03  4.583930e+05    1.700000e+01    0.000000e+00   \nmax    9.977000e+03  5.113260e+05    1.621800e+04    6.120000e+02   \n\n       precio_unitario      cd_abast  is_prod_rol_local  \ncount     8.347817e+06  8.347817e+06       8.347817e+06  \nmean      6.426050e+01  5.435286e+03       9.609797e-01  \nstd       6.582745e+01  4.533729e+03       1.936432e-01  \nmin       0.000000e+00  0.000000e+00       0.000000e+00  \n25%       2.251000e+01  0.000000e+00       1.000000e+00  \n50%       3.823000e+01  9.217000e+03       1.000000e+00  \n75%       7.673000e+01  9.217000e+03       1.000000e+00  \nmax       4.238100e+02  9.217000e+03       1.000000e+00  ",
      "text/html": "<div>\n<style scoped>\n    .dataframe tbody tr th:only-of-type {\n        vertical-align: middle;\n    }\n\n    .dataframe tbody tr th {\n        vertical-align: top;\n    }\n\n    .dataframe thead th {\n        text-align: right;\n    }\n</style>\n<table border=\"1\" class=\"dataframe\">\n  <thead>\n    <tr style=\"text-align: right;\">\n      <th></th>\n      <th>idb</th>\n      <th>id_producto</th>\n      <th>stock_unidades</th>\n      <th>venta_unidades</th>\n      <th>precio_unitario</th>\n      <th>cd_abast</th>\n      <th>is_prod_rol_local</th>\n    </tr>\n  </thead>\n  <tbody>\n    <tr>\n      <th>count</th>\n      <td>8.347817e+06</td>\n      <td>8.347817e+06</td>\n      <td>8.347817e+06</td>\n      <td>8.347817e+06</td>\n      <td>8.347817e+06</td>\n      <td>8.347817e+06</td>\n      <td>8.347817e+06</td>\n    </tr>\n    <tr>\n      <th>mean</th>\n      <td>6.988555e+03</td>\n      <td>3.785489e+05</td>\n      <td>2.065585e+01</td>\n      <td>3.133696e-01</td>\n      <td>6.426050e+01</td>\n      <td>5.435286e+03</td>\n      <td>9.609797e-01</td>\n    </tr>\n    <tr>\n      <th>std</th>\n      <td>3.300353e+03</td>\n      <td>9.159373e+04</td>\n      <td>1.488001e+02</td>\n      <td>8.950359e-01</td>\n      <td>6.582745e+01</td>\n      <td>4.533729e+03</td>\n      <td>1.936432e-01</td>\n    </tr>\n    <tr>\n      <th>min</th>\n      <td>2.420000e+02</td>\n      <td>1.641460e+05</td>\n      <td>-5.420000e+02</td>\n      <td>-4.500000e+01</td>\n      <td>0.000000e+00</td>\n      <td>0.000000e+00</td>\n      <td>0.000000e+00</td>\n    </tr>\n    <tr>\n      <th>25%</th>\n      <td>5.208000e+03</td>\n      <td>2.929450e+05</td>\n      <td>6.000000e+00</td>\n      <td>0.000000e+00</td>\n      <td>2.251000e+01</td>\n      <td>0.000000e+00</td>\n      <td>1.000000e+00</td>\n    </tr>\n    <tr>\n      <th>50%</th>\n      <td>9.026000e+03</td>\n      <td>4.152680e+05</td>\n      <td>1.000000e+01</td>\n      <td>0.000000e+00</td>\n      <td>3.823000e+01</td>\n      <td>9.217000e+03</td>\n      <td>1.000000e+00</td>\n    </tr>\n    <tr>\n      <th>75%</th>\n      <td>9.159000e+03</td>\n      <td>4.583930e+05</td>\n      <td>1.700000e+01</td>\n      <td>0.000000e+00</td>\n      <td>7.673000e+01</td>\n      <td>9.217000e+03</td>\n      <td>1.000000e+00</td>\n    </tr>\n    <tr>\n      <th>max</th>\n      <td>9.977000e+03</td>\n      <td>5.113260e+05</td>\n      <td>1.621800e+04</td>\n      <td>6.120000e+02</td>\n      <td>4.238100e+02</td>\n      <td>9.217000e+03</td>\n      <td>1.000000e+00</td>\n    </tr>\n  </tbody>\n</table>\n</div>"
     },
     "execution_count": 40,
     "metadata": {},
     "output_type": "execute_result"
    }
   ],
   "source": [
    "movimientos_df.describe()"
   ],
   "metadata": {
    "collapsed": false
   }
  },
  {
   "cell_type": "code",
   "execution_count": 41,
   "outputs": [
    {
     "data": {
      "text/plain": "          idb  id_producto fecha_trans  stock_unidades  venta_unidades  \\\n36280     247       242232  2017-03-16             9.0            -1.0   \n68252     247       454775  2017-03-16             5.0            -1.0   \n69533     247       454813  2019-04-01             2.0            -2.0   \n114239    249       450347  2018-12-28             4.0            -1.0   \n155981    257       240911  2016-10-18             7.0            -1.0   \n...       ...          ...         ...             ...             ...   \n8289141  9977       249486  2017-09-02            10.0            -1.0   \n8297424  9977       342682  2017-07-21             5.0            -2.0   \n8301405  9977       342745  2018-07-28             7.0            -1.0   \n8302475  9977       342762  2019-03-28             2.0            -1.0   \n8337377  9977       468735  2018-07-28             8.0            -1.0   \n\n         precio_unitario  cd_abast  is_prod_rol_local  \n36280              17.60         0                  0  \n68252              17.60         0                  1  \n69533              90.15      9217                  1  \n114239             67.73      9217                  1  \n155981             15.82         0                  1  \n...                  ...       ...                ...  \n8289141            34.82         0                  1  \n8297424            19.63         0                  1  \n8301405            23.98      9217                  1  \n8302475            71.12      9217                  1  \n8337377            91.13      9217                  1  \n\n[580 rows x 8 columns]",
      "text/html": "<div>\n<style scoped>\n    .dataframe tbody tr th:only-of-type {\n        vertical-align: middle;\n    }\n\n    .dataframe tbody tr th {\n        vertical-align: top;\n    }\n\n    .dataframe thead th {\n        text-align: right;\n    }\n</style>\n<table border=\"1\" class=\"dataframe\">\n  <thead>\n    <tr style=\"text-align: right;\">\n      <th></th>\n      <th>idb</th>\n      <th>id_producto</th>\n      <th>fecha_trans</th>\n      <th>stock_unidades</th>\n      <th>venta_unidades</th>\n      <th>precio_unitario</th>\n      <th>cd_abast</th>\n      <th>is_prod_rol_local</th>\n    </tr>\n  </thead>\n  <tbody>\n    <tr>\n      <th>36280</th>\n      <td>247</td>\n      <td>242232</td>\n      <td>2017-03-16</td>\n      <td>9.0</td>\n      <td>-1.0</td>\n      <td>17.60</td>\n      <td>0</td>\n      <td>0</td>\n    </tr>\n    <tr>\n      <th>68252</th>\n      <td>247</td>\n      <td>454775</td>\n      <td>2017-03-16</td>\n      <td>5.0</td>\n      <td>-1.0</td>\n      <td>17.60</td>\n      <td>0</td>\n      <td>1</td>\n    </tr>\n    <tr>\n      <th>69533</th>\n      <td>247</td>\n      <td>454813</td>\n      <td>2019-04-01</td>\n      <td>2.0</td>\n      <td>-2.0</td>\n      <td>90.15</td>\n      <td>9217</td>\n      <td>1</td>\n    </tr>\n    <tr>\n      <th>114239</th>\n      <td>249</td>\n      <td>450347</td>\n      <td>2018-12-28</td>\n      <td>4.0</td>\n      <td>-1.0</td>\n      <td>67.73</td>\n      <td>9217</td>\n      <td>1</td>\n    </tr>\n    <tr>\n      <th>155981</th>\n      <td>257</td>\n      <td>240911</td>\n      <td>2016-10-18</td>\n      <td>7.0</td>\n      <td>-1.0</td>\n      <td>15.82</td>\n      <td>0</td>\n      <td>1</td>\n    </tr>\n    <tr>\n      <th>...</th>\n      <td>...</td>\n      <td>...</td>\n      <td>...</td>\n      <td>...</td>\n      <td>...</td>\n      <td>...</td>\n      <td>...</td>\n      <td>...</td>\n    </tr>\n    <tr>\n      <th>8289141</th>\n      <td>9977</td>\n      <td>249486</td>\n      <td>2017-09-02</td>\n      <td>10.0</td>\n      <td>-1.0</td>\n      <td>34.82</td>\n      <td>0</td>\n      <td>1</td>\n    </tr>\n    <tr>\n      <th>8297424</th>\n      <td>9977</td>\n      <td>342682</td>\n      <td>2017-07-21</td>\n      <td>5.0</td>\n      <td>-2.0</td>\n      <td>19.63</td>\n      <td>0</td>\n      <td>1</td>\n    </tr>\n    <tr>\n      <th>8301405</th>\n      <td>9977</td>\n      <td>342745</td>\n      <td>2018-07-28</td>\n      <td>7.0</td>\n      <td>-1.0</td>\n      <td>23.98</td>\n      <td>9217</td>\n      <td>1</td>\n    </tr>\n    <tr>\n      <th>8302475</th>\n      <td>9977</td>\n      <td>342762</td>\n      <td>2019-03-28</td>\n      <td>2.0</td>\n      <td>-1.0</td>\n      <td>71.12</td>\n      <td>9217</td>\n      <td>1</td>\n    </tr>\n    <tr>\n      <th>8337377</th>\n      <td>9977</td>\n      <td>468735</td>\n      <td>2018-07-28</td>\n      <td>8.0</td>\n      <td>-1.0</td>\n      <td>91.13</td>\n      <td>9217</td>\n      <td>1</td>\n    </tr>\n  </tbody>\n</table>\n<p>580 rows × 8 columns</p>\n</div>"
     },
     "execution_count": 41,
     "metadata": {},
     "output_type": "execute_result"
    }
   ],
   "source": [
    "# Verificar cuantos valores negativos tenemos en la columna venta_unidades\n",
    "ventas_unidades_negativas = movimientos_df[movimientos_df['venta_unidades'] < 0]\n",
    "ventas_unidades_negativas"
   ],
   "metadata": {
    "collapsed": false
   }
  },
  {
   "cell_type": "code",
   "execution_count": 42,
   "outputs": [
    {
     "name": "stdout",
     "output_type": "stream",
     "text": [
      "          idb  id_producto fecha_trans  stock_unidades  venta_unidades  \\\n",
      "998       242       228683  2018-08-15            -1.0             0.0   \n",
      "999       242       228683  2018-08-16            -1.0             1.0   \n",
      "2757      242       240911  2016-09-20            -6.0             1.0   \n",
      "2758      242       240911  2016-09-21            -6.0             6.0   \n",
      "2759      242       240911  2016-09-22            -6.0             0.0   \n",
      "...       ...          ...         ...             ...             ...   \n",
      "8340073  9977       470446  2016-12-23            -1.0             0.0   \n",
      "8340080  9977       470446  2016-12-30            -2.0             0.0   \n",
      "8340081  9977       470446  2016-12-31            -2.0             2.0   \n",
      "8340082  9977       470446  2017-01-01            -2.0             0.0   \n",
      "8340083  9977       470446  2017-01-02            -2.0             0.0   \n",
      "\n",
      "         precio_unitario  cd_abast  is_prod_rol_local  \n",
      "998                40.26      9217                  1  \n",
      "999                40.26      9217                  1  \n",
      "2757               15.06         0                  1  \n",
      "2758               15.06         0                  1  \n",
      "2759               15.06         0                  1  \n",
      "...                  ...       ...                ...  \n",
      "8340073            66.92         0                  1  \n",
      "8340080            66.92         0                  1  \n",
      "8340081            66.92         0                  1  \n",
      "8340082            66.92         0                  1  \n",
      "8340083            66.92         0                  1  \n",
      "\n",
      "[45483 rows x 8 columns]\n"
     ]
    },
    {
     "data": {
      "text/plain": "-172870.0"
     },
     "execution_count": 42,
     "metadata": {},
     "output_type": "execute_result"
    }
   ],
   "source": [
    "# Verificar cuantos valores negativos tenemos en la columna stock unidades\n",
    "stock_unidades_negativas = movimientos_df[movimientos_df['stock_unidades'] < 0]\n",
    "print(stock_unidades_negativas)\n",
    "stock_unidades_negativas.stock_unidades.sum()"
   ],
   "metadata": {
    "collapsed": false
   }
  },
  {
   "cell_type": "markdown",
   "source": [
    "#### Observaciones dataset Movimientos-20190716"
   ],
   "metadata": {
    "collapsed": false
   }
  },
  {
   "cell_type": "markdown",
   "source": [
    "1. El dataset contiene la información referente a los movimientos de productos comprendidos entre Julio 15 de 2016 hasta el día 14 de Julio de 2019.\n",
    "2. El dataset contiene 8347817 registros y 8 columnas identificadas así:\n",
    "    - idb: Identificador interno de Boca\n",
    "    - id_producto: Identificador interno de Artículo\n",
    "    - fecha: Fecha de la Transacción,  1 dia menos que la fecha actual\n",
    "    - stock_unidades: Stock en unidades del Artículo en la Boca\n",
    "    - venta_unidades: Venta en unidades\n",
    "    - precio_unitario: Precio de venta unitario\n",
    "    - cd_abast: Que CD de la region del local abastece este producto al local para productos almacenados.\n",
    "    - is_prod_rol_local: SI= sigue en Rol, NO= no esta en Rol el producto en el local.\n",
    "3. No se observan valores NAN ó valores repetidos.\n",
    "4. El valor medio de inventario en unidades es de 20.65585 unidades.\n",
    "5. El valor medio de ventas en unidades es de 0.3133696 unidades.\n",
    "6. La media del precio unitario es de 64.26050 pesos.\n",
    "7. Se observan 580 registros que contienen valores de ventas en unidades con valores negativos.\n",
    "8. Se observan 45483 registros que contienen valores de stock en unidades negativos, como se observa en la columna stock_unidades."
   ],
   "metadata": {
    "collapsed": false
   }
  },
  {
   "cell_type": "markdown",
   "source": [
    "### Guardar el dataset limpio"
   ],
   "metadata": {
    "collapsed": false
   }
  },
  {
   "cell_type": "code",
   "execution_count": 43,
   "outputs": [],
   "source": [
    "movimientos_df.to_csv('../clean_data/movimientos_clean.csv', index=False)"
   ],
   "metadata": {
    "collapsed": false
   }
  }
 ],
 "metadata": {
  "kernelspec": {
   "display_name": "Python 3 (ipykernel)",
   "language": "python",
   "name": "python3"
  },
  "language_info": {
   "codemirror_mode": {
    "name": "ipython",
    "version": 3
   },
   "file_extension": ".py",
   "mimetype": "text/x-python",
   "name": "python",
   "nbconvert_exporter": "python",
   "pygments_lexer": "ipython3",
   "version": "3.10.8"
  },
  "toc": {
   "base_numbering": 1,
   "nav_menu": {},
   "number_sections": true,
   "sideBar": true,
   "skip_h1_title": false,
   "title_cell": "Table of Contents",
   "title_sidebar": "Contents",
   "toc_cell": false,
   "toc_position": {},
   "toc_section_display": true,
   "toc_window_display": false
  },
  "varInspector": {
   "cols": {
    "lenName": 16,
    "lenType": 16,
    "lenVar": 40
   },
   "kernels_config": {
    "python": {
     "delete_cmd_postfix": "",
     "delete_cmd_prefix": "del ",
     "library": "var_list.py",
     "varRefreshCmd": "print(var_dic_list())"
    },
    "r": {
     "delete_cmd_postfix": ") ",
     "delete_cmd_prefix": "rm(",
     "library": "var_list.r",
     "varRefreshCmd": "cat(var_dic_list()) "
    }
   },
   "types_to_exclude": [
    "module",
    "function",
    "builtin_function_or_method",
    "instance",
    "_Feature"
   ],
   "window_display": false
  }
 },
 "nbformat": 4,
 "nbformat_minor": 5
}
