{
 "cells": [
  {
   "cell_type": "markdown",
   "source": [
    "# Limpieza de Datos Locales 20190712"
   ],
   "metadata": {
    "collapsed": false
   }
  },
  {
   "cell_type": "code",
   "execution_count": 1,
   "id": "396705b3",
   "metadata": {},
   "outputs": [],
   "source": [
    "import pandas as pd\n",
    "from utils_functions import  replace_regex, remove_non_ascii"
   ]
  },
  {
   "cell_type": "markdown",
   "id": "dbd04701",
   "metadata": {},
   "source": [
    "# Importar Datasets"
   ]
  },
  {
   "cell_type": "code",
   "execution_count": 2,
   "outputs": [],
   "source": [
    "locales_col_names = [\n",
    "    'id_cadena', 'desc_cadena', 'id_region', 'desc_region', 'idb',\n",
    "    'desc_local', 'latitud', 'longitud', 'punto_dist'\n",
    "]"
   ],
   "metadata": {
    "collapsed": false
   }
  },
  {
   "cell_type": "code",
   "execution_count": 3,
   "outputs": [],
   "source": [
    "locales_df = pd.read_csv(\"../data/Locales.txt\",\n",
    "                         encoding=\"UTF-8\",\n",
    "                         header=None,\n",
    "                         delimiter='\\t',\n",
    "                         names=locales_col_names)"
   ],
   "metadata": {
    "collapsed": false
   }
  },
  {
   "cell_type": "code",
   "execution_count": 4,
   "outputs": [
    {
     "data": {
      "text/plain": "    id_cadena                     desc_cadena  id_region  \\\n0           1  Plaza Vea                               1   \n1           1  Plaza Vea                               1   \n2           1  Plaza Vea                               1   \n3           1  Plaza Vea                               1   \n4           1  Plaza Vea                               1   \n5           2  Disco                                   1   \n6           2  Disco                                   1   \n7           2  Disco                                   1   \n8           2  Disco                                   1   \n9           2  Disco                                   1   \n10          2  Disco                                   1   \n11          2  Disco                                   1   \n12          2  Disco                                   1   \n13          2  Disco                                   1   \n14          2  Disco                                   1   \n15          2  Disco                                   1   \n16          2  Disco                                   1   \n17          2  Disco                                   1   \n18          2  Disco                                   1   \n19          2  Disco                                   1   \n20          2  Disco                                   1   \n21          2  Disco                                   1   \n22          2  Disco                                   1   \n23          2  Disco                                   1   \n24          2  Disco                                   1   \n25          2  Disco                                   1   \n26          2  Disco                                   1   \n27          2  Disco                                   1   \n28          2  Disco                                   1   \n29          2  Disco                                   1   \n30          2  Disco                                   1   \n31          2  Disco                                   1   \n32          2  Disco                                   1   \n33          2  Disco                                   1   \n34          2  Disco                                   1   \n35          2  Disco                                   1   \n36          2  Disco                                   1   \n37          2  Disco                                   1   \n38          2  Disco                                   1   \n39          2  Disco                                   1   \n\n                       desc_region   idb                      desc_local  \\\n0   Buenos Aires                    9693     9693 - P Vea Villa Urquiza.   \n1   Buenos Aires                    9694          9694 - P Vea JB Justo.   \n2   Buenos Aires                    9695             695 - P Vea Acoyte.   \n3   Buenos Aires                    9699          699 - P Vea Rivadavia.   \n4   Buenos Aires                    9889  889 - Plaza Vea Carpa de liqui   \n5   Buenos Aires                     247         916 - SM 916 Gorostiaga   \n6   Buenos Aires                     257                61 - Tortuguitas   \n7   Buenos Aires                     285             953 - Venado Tuerto   \n8   Buenos Aires                     740                   740 - Canning   \n9   Buenos Aires                     961              961 - Av. Santa FÇ   \n10  Buenos Aires                    1190  6190 - BT SAF (Importaciones).   \n11  Buenos Aires                    1914    3914 - Interno SLL BsAs 217.   \n12  Buenos Aires                    9001                 1 - San Isidro.   \n13  Buenos Aires                    9002                 2 - Talcahuano.   \n14  Buenos Aires                    9003                    3 - Camacua.   \n15  Buenos Aires                    9004              4 - Vicente L¢pez.   \n16  Buenos Aires                    9007                 7 - Pte. Per¢n.   \n17  Buenos Aires                    9009            9 - Lomas de Zamora.   \n18  Buenos Aires                    9012                     12 - Sucre.   \n19  Buenos Aires                    9014                14 - Las Heras..   \n20  Buenos Aires                    9015                  15 - Salguero.   \n21  Buenos Aires                    9016                  16 - Paraguay.   \n22  Buenos Aires                    9017           17 - Virrey del Pino.   \n23  Buenos Aires                    9018                  18 - Quintana.   \n24  Buenos Aires                    9022                  22 - Santa Fe.   \n25  Buenos Aires                    9023              23 - Alto Palermo.   \n26  Buenos Aires                    9025            25 - Rodr°guez Pe§a.   \n27  Buenos Aires                    9026                26 - Av. Callao.   \n28  Buenos Aires                    9030                 30 - Rivadavia.   \n29  Buenos Aires                    9035                   35 - Uriburu.   \n30  Buenos Aires                    9037                   37 - AdroguÇ.   \n31  Buenos Aires                    9038                     38 - Arcos.   \n32  Buenos Aires                    9039                      39 - Pe§a.   \n33  Buenos Aires                    9042                42 - La Plata I.   \n34  Buenos Aires                    9045          45 - Gesell Boulevard.   \n35  Buenos Aires                    9046                 46 - Esmeralda.   \n36  Buenos Aires                    9048                    48 - Gasc¢n.   \n37  Buenos Aires                    9049                   49 - Pinamar.   \n38  Buenos Aires                    9050            50 - Gesell Central.   \n39  Buenos Aires                    9054                    54 - Elcano.   \n\n      latitud   longitud punto_dist  \n0         NaN        NaN          N  \n1         NaN        NaN          N  \n2    0.000000   0.000000          N  \n3    0.000000   0.000000          N  \n4         NaN        NaN          N  \n5  -34.565259 -58.436583          N  \n6  -34.446043 -58.745098          N  \n7         NaN        NaN          N  \n8  -34.853221 -58.502247          N  \n9         NaN        NaN          N  \n10        NaN        NaN          S  \n11        NaN        NaN          S  \n12 -34.471531 -58.515350          N  \n13 -34.596256 -58.385701          N  \n14 -34.627893 -58.458295          N  \n15 -34.520825 -58.485332          N  \n16   0.000000   0.000000          N  \n17 -34.764091 -58.398621          N  \n18 -34.560842 -58.449841          N  \n19 -34.581691 -58.414435          N  \n20 -34.580101 -58.408191          N  \n21 -34.586090 -58.422310          N  \n22 -34.566744 -58.453445          N  \n23 -34.589375 -58.388536          N  \n24 -34.590488 -58.408384          N  \n25 -34.587061 -58.410916          N  \n26 -34.593032 -58.391347          N  \n27 -34.608787 -58.392012          N  \n28 -34.617352 -58.434391          N  \n29 -34.593885 -58.397898          N  \n30 -34.798951 -58.404243          N  \n31 -34.561708 -58.452373          N  \n32 -34.585935 -58.405188          N  \n33 -34.934655 -57.975326          N  \n34 -37.259025 -56.982672          N  \n35 -34.591519 -58.378118          N  \n36 -34.603435 -58.424113          N  \n37 -37.108689 -56.871028          N  \n38 -37.263550 -56.974521          N  \n39 -34.572857 -58.459282          N  ",
      "text/html": "<div>\n<style scoped>\n    .dataframe tbody tr th:only-of-type {\n        vertical-align: middle;\n    }\n\n    .dataframe tbody tr th {\n        vertical-align: top;\n    }\n\n    .dataframe thead th {\n        text-align: right;\n    }\n</style>\n<table border=\"1\" class=\"dataframe\">\n  <thead>\n    <tr style=\"text-align: right;\">\n      <th></th>\n      <th>id_cadena</th>\n      <th>desc_cadena</th>\n      <th>id_region</th>\n      <th>desc_region</th>\n      <th>idb</th>\n      <th>desc_local</th>\n      <th>latitud</th>\n      <th>longitud</th>\n      <th>punto_dist</th>\n    </tr>\n  </thead>\n  <tbody>\n    <tr>\n      <th>0</th>\n      <td>1</td>\n      <td>Plaza Vea</td>\n      <td>1</td>\n      <td>Buenos Aires</td>\n      <td>9693</td>\n      <td>9693 - P Vea Villa Urquiza.</td>\n      <td>NaN</td>\n      <td>NaN</td>\n      <td>N</td>\n    </tr>\n    <tr>\n      <th>1</th>\n      <td>1</td>\n      <td>Plaza Vea</td>\n      <td>1</td>\n      <td>Buenos Aires</td>\n      <td>9694</td>\n      <td>9694 - P Vea JB Justo.</td>\n      <td>NaN</td>\n      <td>NaN</td>\n      <td>N</td>\n    </tr>\n    <tr>\n      <th>2</th>\n      <td>1</td>\n      <td>Plaza Vea</td>\n      <td>1</td>\n      <td>Buenos Aires</td>\n      <td>9695</td>\n      <td>695 - P Vea Acoyte.</td>\n      <td>0.000000</td>\n      <td>0.000000</td>\n      <td>N</td>\n    </tr>\n    <tr>\n      <th>3</th>\n      <td>1</td>\n      <td>Plaza Vea</td>\n      <td>1</td>\n      <td>Buenos Aires</td>\n      <td>9699</td>\n      <td>699 - P Vea Rivadavia.</td>\n      <td>0.000000</td>\n      <td>0.000000</td>\n      <td>N</td>\n    </tr>\n    <tr>\n      <th>4</th>\n      <td>1</td>\n      <td>Plaza Vea</td>\n      <td>1</td>\n      <td>Buenos Aires</td>\n      <td>9889</td>\n      <td>889 - Plaza Vea Carpa de liqui</td>\n      <td>NaN</td>\n      <td>NaN</td>\n      <td>N</td>\n    </tr>\n    <tr>\n      <th>5</th>\n      <td>2</td>\n      <td>Disco</td>\n      <td>1</td>\n      <td>Buenos Aires</td>\n      <td>247</td>\n      <td>916 - SM 916 Gorostiaga</td>\n      <td>-34.565259</td>\n      <td>-58.436583</td>\n      <td>N</td>\n    </tr>\n    <tr>\n      <th>6</th>\n      <td>2</td>\n      <td>Disco</td>\n      <td>1</td>\n      <td>Buenos Aires</td>\n      <td>257</td>\n      <td>61 - Tortuguitas</td>\n      <td>-34.446043</td>\n      <td>-58.745098</td>\n      <td>N</td>\n    </tr>\n    <tr>\n      <th>7</th>\n      <td>2</td>\n      <td>Disco</td>\n      <td>1</td>\n      <td>Buenos Aires</td>\n      <td>285</td>\n      <td>953 - Venado Tuerto</td>\n      <td>NaN</td>\n      <td>NaN</td>\n      <td>N</td>\n    </tr>\n    <tr>\n      <th>8</th>\n      <td>2</td>\n      <td>Disco</td>\n      <td>1</td>\n      <td>Buenos Aires</td>\n      <td>740</td>\n      <td>740 - Canning</td>\n      <td>-34.853221</td>\n      <td>-58.502247</td>\n      <td>N</td>\n    </tr>\n    <tr>\n      <th>9</th>\n      <td>2</td>\n      <td>Disco</td>\n      <td>1</td>\n      <td>Buenos Aires</td>\n      <td>961</td>\n      <td>961 - Av. Santa FÇ</td>\n      <td>NaN</td>\n      <td>NaN</td>\n      <td>N</td>\n    </tr>\n    <tr>\n      <th>10</th>\n      <td>2</td>\n      <td>Disco</td>\n      <td>1</td>\n      <td>Buenos Aires</td>\n      <td>1190</td>\n      <td>6190 - BT SAF (Importaciones).</td>\n      <td>NaN</td>\n      <td>NaN</td>\n      <td>S</td>\n    </tr>\n    <tr>\n      <th>11</th>\n      <td>2</td>\n      <td>Disco</td>\n      <td>1</td>\n      <td>Buenos Aires</td>\n      <td>1914</td>\n      <td>3914 - Interno SLL BsAs 217.</td>\n      <td>NaN</td>\n      <td>NaN</td>\n      <td>S</td>\n    </tr>\n    <tr>\n      <th>12</th>\n      <td>2</td>\n      <td>Disco</td>\n      <td>1</td>\n      <td>Buenos Aires</td>\n      <td>9001</td>\n      <td>1 - San Isidro.</td>\n      <td>-34.471531</td>\n      <td>-58.515350</td>\n      <td>N</td>\n    </tr>\n    <tr>\n      <th>13</th>\n      <td>2</td>\n      <td>Disco</td>\n      <td>1</td>\n      <td>Buenos Aires</td>\n      <td>9002</td>\n      <td>2 - Talcahuano.</td>\n      <td>-34.596256</td>\n      <td>-58.385701</td>\n      <td>N</td>\n    </tr>\n    <tr>\n      <th>14</th>\n      <td>2</td>\n      <td>Disco</td>\n      <td>1</td>\n      <td>Buenos Aires</td>\n      <td>9003</td>\n      <td>3 - Camacua.</td>\n      <td>-34.627893</td>\n      <td>-58.458295</td>\n      <td>N</td>\n    </tr>\n    <tr>\n      <th>15</th>\n      <td>2</td>\n      <td>Disco</td>\n      <td>1</td>\n      <td>Buenos Aires</td>\n      <td>9004</td>\n      <td>4 - Vicente L¢pez.</td>\n      <td>-34.520825</td>\n      <td>-58.485332</td>\n      <td>N</td>\n    </tr>\n    <tr>\n      <th>16</th>\n      <td>2</td>\n      <td>Disco</td>\n      <td>1</td>\n      <td>Buenos Aires</td>\n      <td>9007</td>\n      <td>7 - Pte. Per¢n.</td>\n      <td>0.000000</td>\n      <td>0.000000</td>\n      <td>N</td>\n    </tr>\n    <tr>\n      <th>17</th>\n      <td>2</td>\n      <td>Disco</td>\n      <td>1</td>\n      <td>Buenos Aires</td>\n      <td>9009</td>\n      <td>9 - Lomas de Zamora.</td>\n      <td>-34.764091</td>\n      <td>-58.398621</td>\n      <td>N</td>\n    </tr>\n    <tr>\n      <th>18</th>\n      <td>2</td>\n      <td>Disco</td>\n      <td>1</td>\n      <td>Buenos Aires</td>\n      <td>9012</td>\n      <td>12 - Sucre.</td>\n      <td>-34.560842</td>\n      <td>-58.449841</td>\n      <td>N</td>\n    </tr>\n    <tr>\n      <th>19</th>\n      <td>2</td>\n      <td>Disco</td>\n      <td>1</td>\n      <td>Buenos Aires</td>\n      <td>9014</td>\n      <td>14 - Las Heras..</td>\n      <td>-34.581691</td>\n      <td>-58.414435</td>\n      <td>N</td>\n    </tr>\n    <tr>\n      <th>20</th>\n      <td>2</td>\n      <td>Disco</td>\n      <td>1</td>\n      <td>Buenos Aires</td>\n      <td>9015</td>\n      <td>15 - Salguero.</td>\n      <td>-34.580101</td>\n      <td>-58.408191</td>\n      <td>N</td>\n    </tr>\n    <tr>\n      <th>21</th>\n      <td>2</td>\n      <td>Disco</td>\n      <td>1</td>\n      <td>Buenos Aires</td>\n      <td>9016</td>\n      <td>16 - Paraguay.</td>\n      <td>-34.586090</td>\n      <td>-58.422310</td>\n      <td>N</td>\n    </tr>\n    <tr>\n      <th>22</th>\n      <td>2</td>\n      <td>Disco</td>\n      <td>1</td>\n      <td>Buenos Aires</td>\n      <td>9017</td>\n      <td>17 - Virrey del Pino.</td>\n      <td>-34.566744</td>\n      <td>-58.453445</td>\n      <td>N</td>\n    </tr>\n    <tr>\n      <th>23</th>\n      <td>2</td>\n      <td>Disco</td>\n      <td>1</td>\n      <td>Buenos Aires</td>\n      <td>9018</td>\n      <td>18 - Quintana.</td>\n      <td>-34.589375</td>\n      <td>-58.388536</td>\n      <td>N</td>\n    </tr>\n    <tr>\n      <th>24</th>\n      <td>2</td>\n      <td>Disco</td>\n      <td>1</td>\n      <td>Buenos Aires</td>\n      <td>9022</td>\n      <td>22 - Santa Fe.</td>\n      <td>-34.590488</td>\n      <td>-58.408384</td>\n      <td>N</td>\n    </tr>\n    <tr>\n      <th>25</th>\n      <td>2</td>\n      <td>Disco</td>\n      <td>1</td>\n      <td>Buenos Aires</td>\n      <td>9023</td>\n      <td>23 - Alto Palermo.</td>\n      <td>-34.587061</td>\n      <td>-58.410916</td>\n      <td>N</td>\n    </tr>\n    <tr>\n      <th>26</th>\n      <td>2</td>\n      <td>Disco</td>\n      <td>1</td>\n      <td>Buenos Aires</td>\n      <td>9025</td>\n      <td>25 - Rodr°guez Pe§a.</td>\n      <td>-34.593032</td>\n      <td>-58.391347</td>\n      <td>N</td>\n    </tr>\n    <tr>\n      <th>27</th>\n      <td>2</td>\n      <td>Disco</td>\n      <td>1</td>\n      <td>Buenos Aires</td>\n      <td>9026</td>\n      <td>26 - Av. Callao.</td>\n      <td>-34.608787</td>\n      <td>-58.392012</td>\n      <td>N</td>\n    </tr>\n    <tr>\n      <th>28</th>\n      <td>2</td>\n      <td>Disco</td>\n      <td>1</td>\n      <td>Buenos Aires</td>\n      <td>9030</td>\n      <td>30 - Rivadavia.</td>\n      <td>-34.617352</td>\n      <td>-58.434391</td>\n      <td>N</td>\n    </tr>\n    <tr>\n      <th>29</th>\n      <td>2</td>\n      <td>Disco</td>\n      <td>1</td>\n      <td>Buenos Aires</td>\n      <td>9035</td>\n      <td>35 - Uriburu.</td>\n      <td>-34.593885</td>\n      <td>-58.397898</td>\n      <td>N</td>\n    </tr>\n    <tr>\n      <th>30</th>\n      <td>2</td>\n      <td>Disco</td>\n      <td>1</td>\n      <td>Buenos Aires</td>\n      <td>9037</td>\n      <td>37 - AdroguÇ.</td>\n      <td>-34.798951</td>\n      <td>-58.404243</td>\n      <td>N</td>\n    </tr>\n    <tr>\n      <th>31</th>\n      <td>2</td>\n      <td>Disco</td>\n      <td>1</td>\n      <td>Buenos Aires</td>\n      <td>9038</td>\n      <td>38 - Arcos.</td>\n      <td>-34.561708</td>\n      <td>-58.452373</td>\n      <td>N</td>\n    </tr>\n    <tr>\n      <th>32</th>\n      <td>2</td>\n      <td>Disco</td>\n      <td>1</td>\n      <td>Buenos Aires</td>\n      <td>9039</td>\n      <td>39 - Pe§a.</td>\n      <td>-34.585935</td>\n      <td>-58.405188</td>\n      <td>N</td>\n    </tr>\n    <tr>\n      <th>33</th>\n      <td>2</td>\n      <td>Disco</td>\n      <td>1</td>\n      <td>Buenos Aires</td>\n      <td>9042</td>\n      <td>42 - La Plata I.</td>\n      <td>-34.934655</td>\n      <td>-57.975326</td>\n      <td>N</td>\n    </tr>\n    <tr>\n      <th>34</th>\n      <td>2</td>\n      <td>Disco</td>\n      <td>1</td>\n      <td>Buenos Aires</td>\n      <td>9045</td>\n      <td>45 - Gesell Boulevard.</td>\n      <td>-37.259025</td>\n      <td>-56.982672</td>\n      <td>N</td>\n    </tr>\n    <tr>\n      <th>35</th>\n      <td>2</td>\n      <td>Disco</td>\n      <td>1</td>\n      <td>Buenos Aires</td>\n      <td>9046</td>\n      <td>46 - Esmeralda.</td>\n      <td>-34.591519</td>\n      <td>-58.378118</td>\n      <td>N</td>\n    </tr>\n    <tr>\n      <th>36</th>\n      <td>2</td>\n      <td>Disco</td>\n      <td>1</td>\n      <td>Buenos Aires</td>\n      <td>9048</td>\n      <td>48 - Gasc¢n.</td>\n      <td>-34.603435</td>\n      <td>-58.424113</td>\n      <td>N</td>\n    </tr>\n    <tr>\n      <th>37</th>\n      <td>2</td>\n      <td>Disco</td>\n      <td>1</td>\n      <td>Buenos Aires</td>\n      <td>9049</td>\n      <td>49 - Pinamar.</td>\n      <td>-37.108689</td>\n      <td>-56.871028</td>\n      <td>N</td>\n    </tr>\n    <tr>\n      <th>38</th>\n      <td>2</td>\n      <td>Disco</td>\n      <td>1</td>\n      <td>Buenos Aires</td>\n      <td>9050</td>\n      <td>50 - Gesell Central.</td>\n      <td>-37.263550</td>\n      <td>-56.974521</td>\n      <td>N</td>\n    </tr>\n    <tr>\n      <th>39</th>\n      <td>2</td>\n      <td>Disco</td>\n      <td>1</td>\n      <td>Buenos Aires</td>\n      <td>9054</td>\n      <td>54 - Elcano.</td>\n      <td>-34.572857</td>\n      <td>-58.459282</td>\n      <td>N</td>\n    </tr>\n  </tbody>\n</table>\n</div>"
     },
     "execution_count": 4,
     "metadata": {},
     "output_type": "execute_result"
    }
   ],
   "source": [
    "locales_df.head(40)\n"
   ],
   "metadata": {
    "collapsed": false
   }
  },
  {
   "cell_type": "code",
   "execution_count": 5,
   "outputs": [
    {
     "name": "stdout",
     "output_type": "stream",
     "text": [
      "<class 'pandas.core.frame.DataFrame'>\n",
      "RangeIndex: 175 entries, 0 to 174\n",
      "Data columns (total 9 columns):\n",
      " #   Column       Non-Null Count  Dtype  \n",
      "---  ------       --------------  -----  \n",
      " 0   id_cadena    175 non-null    int64  \n",
      " 1   desc_cadena  175 non-null    object \n",
      " 2   id_region    175 non-null    int64  \n",
      " 3   desc_region  175 non-null    object \n",
      " 4   idb          175 non-null    int64  \n",
      " 5   desc_local   175 non-null    object \n",
      " 6   latitud      140 non-null    float64\n",
      " 7   longitud     140 non-null    float64\n",
      " 8   punto_dist   175 non-null    object \n",
      "dtypes: float64(2), int64(3), object(4)\n",
      "memory usage: 12.4+ KB\n"
     ]
    }
   ],
   "source": [
    "locales_df.info()"
   ],
   "metadata": {
    "collapsed": false
   }
  },
  {
   "cell_type": "markdown",
   "source": [
    "#### Ajustes al dataframe\n",
    "\n",
    "- Limpiar la descripcion de la región, eliminando el numero y el simbolo (-).\n",
    "- Convertir a minusculas todos los tipos de datos object o string.\n",
    "- Remplazar caracteres especiales con espacio.\n",
    "- Verificar si existen valores nulos o duplicados.\n",
    "- Convertir a 1 y 0 la columna punto de distribucción con la siguiente regla si el valor es 's' = 1 que significa que es un punto de distribucción de lo contrario sería 0.\n",
    "- Crear una nueva columna llamada local usando la columna punto de distribucción.\n",
    "- Rellenar los valores de latitud y longitud con valores Nan con la media de la columna de latitud y longitud.\n",
    "- Buscar los valores de latitud y longitud de regiones con valores 0.00\n"
   ],
   "metadata": {
    "collapsed": false
   }
  },
  {
   "cell_type": "code",
   "execution_count": 6,
   "outputs": [],
   "source": [
    "locales_df = locales_df.applymap(lambda x: x.lower() if isinstance(x, str) else x)"
   ],
   "metadata": {
    "collapsed": false
   }
  },
  {
   "cell_type": "code",
   "execution_count": 7,
   "outputs": [],
   "source": [
    "replace_regex(locales_df, 'desc_local', r'^\\d+\\s*-\\s*', '')"
   ],
   "metadata": {
    "collapsed": false
   }
  },
  {
   "cell_type": "code",
   "execution_count": 8,
   "outputs": [],
   "source": [
    "replace_regex(locales_df, 'desc_local', r'f', 'fé')\n",
    "replace_regex(locales_df, 'desc_local', r'crdoba', 'cordoba')\n",
    "replace_regex(locales_df, 'desc_local', r'fééernando', 'fernando')\n",
    "replace_regex(locales_df, 'desc_local', r'\\bjumbo\\b', '')\n",
    "replace_regex(locales_df, 'desc_local', r'\\brincn\\b', '')\n",
    "replace_regex(locales_df, 'desc_local', r'\\bplaza vea\\b', '')\n",
    "replace_regex(locales_df, 'desc_local', r'\\bp vea\\b', '')"
   ],
   "metadata": {
    "collapsed": false
   }
  },
  {
   "cell_type": "code",
   "execution_count": 9,
   "outputs": [],
   "source": [
    "remove_non_ascii(locales_df, 'desc_local')\n",
    "#locales_df['desc_local'] = locales_df['desc_local'].replace(to_replace=r'[^\\x00-\\x7F]+', value='', regex=True)"
   ],
   "metadata": {
    "collapsed": false
   }
  },
  {
   "cell_type": "code",
   "execution_count": 10,
   "outputs": [
    {
     "name": "stdout",
     "output_type": "stream",
     "text": [
      "id_cadena       0\n",
      "desc_cadena     0\n",
      "id_region       0\n",
      "desc_region     0\n",
      "idb             0\n",
      "desc_local      0\n",
      "latitud        35\n",
      "longitud       35\n",
      "punto_dist      0\n",
      "dtype: int64\n"
     ]
    }
   ],
   "source": [
    "print(locales_df.isna().sum())"
   ],
   "metadata": {
    "collapsed": false
   }
  },
  {
   "cell_type": "code",
   "execution_count": 11,
   "outputs": [
    {
     "data": {
      "text/plain": "id_cadena       0\ndesc_cadena     0\nid_region       0\ndesc_region     0\nidb             0\ndesc_local      0\nlatitud        35\nlongitud       35\npunto_dist      0\ndtype: int64"
     },
     "execution_count": 11,
     "metadata": {},
     "output_type": "execute_result"
    }
   ],
   "source": [
    "locales_df.isnull().sum(axis=0)"
   ],
   "metadata": {
    "collapsed": false
   }
  },
  {
   "cell_type": "code",
   "execution_count": 12,
   "outputs": [
    {
     "name": "stdout",
     "output_type": "stream",
     "text": [
      "Columna desc_cadena: 5 subnivele(s)\n",
      "Columna desc_region: 1 subnivele(s)\n",
      "Columna desc_local: 175 subnivele(s)\n"
     ]
    }
   ],
   "source": [
    "# Conteo de los niveles en las diferentes columnas categóricas\n",
    "col_categoricas = ['desc_cadena', 'desc_region', 'desc_local']\n",
    "for col in col_categoricas:\n",
    "    print(f'Columna {col}: {locales_df[col].nunique()} subnivele(s)')"
   ],
   "metadata": {
    "collapsed": false
   }
  },
  {
   "cell_type": "code",
   "execution_count": 13,
   "outputs": [],
   "source": [
    "# Convertir la columna categorica punto_dist a numerica, si el valor es s significa que es un punto de distribucción y se asignará el valor de 1, de lo contrario será  un local y se asignara el valor de 0.\n",
    "punto_dist_mapping = {\"s\": 1, \"n\": 0}\n",
    "locales_df['punto_dist'] = locales_df['punto_dist'].map(punto_dist_mapping)"
   ],
   "metadata": {
    "collapsed": false
   }
  },
  {
   "cell_type": "code",
   "execution_count": 14,
   "outputs": [],
   "source": [
    "# Crear una columna para determinar si es un local con base en la columna punto_dist, si el local no es un punto de distribuccion entonces es un local.  Asignaremos 1 para local 0 para no local.\n",
    "locales_df['local'] = locales_df['punto_dist'].apply(lambda x: 1 if x == 0 else 0)"
   ],
   "metadata": {
    "collapsed": false
   }
  },
  {
   "cell_type": "code",
   "execution_count": 15,
   "outputs": [],
   "source": [
    "# Llenar los valores missing de latitud y longitud con la media de cada columna.\n",
    "mean_latitud = locales_df['latitud'].mean()\n",
    "mean_longitud = locales_df['longitud'].mean()\n",
    "locales_df['latitud'].fillna(mean_latitud, inplace=True)\n",
    "locales_df['longitud'].fillna(mean_longitud, inplace=True)"
   ],
   "metadata": {
    "collapsed": false
   }
  },
  {
   "cell_type": "code",
   "execution_count": 16,
   "outputs": [
    {
     "data": {
      "text/plain": "     id_cadena                     desc_cadena  id_region  \\\n0            1  plaza vea                               1   \n1            1  plaza vea                               1   \n2            1  plaza vea                               1   \n3            1  plaza vea                               1   \n4            1  plaza vea                               1   \n..         ...                             ...        ...   \n170         11  rincon jumbo                            1   \n171         11  rincon jumbo                            1   \n172         11  rincon jumbo                            1   \n173         11  rincon jumbo                            1   \n174         11  rincon jumbo                            1   \n\n                        desc_region   idb       desc_local    latitud  \\\n0    buenos aires                    9693   villa urquiza. -31.533832   \n1    buenos aires                    9694        jb justo. -31.533832   \n2    buenos aires                    9695          acoyte.   0.000000   \n3    buenos aires                    9699       rivadavia.   0.000000   \n4    buenos aires                    9889   carpa de liqui -31.533832   \n..                              ...   ...              ...        ...   \n170  buenos aires                    8306    rincn palermo -31.533832   \n171  buenos aires                    8311      rincn pilar   0.000000   \n172  buenos aires                    8314    rincn escobar -31.533832   \n173  buenos aires                    8318    rincn rosario -31.533832   \n174  buenos aires                    8331    rincn almagro -31.533832   \n\n      longitud  punto_dist  local  \n0   -52.839588           0      1  \n1   -52.839588           0      1  \n2     0.000000           0      1  \n3     0.000000           0      1  \n4   -52.839588           0      1  \n..         ...         ...    ...  \n170 -52.839588           0      1  \n171   0.000000           0      1  \n172 -52.839588           0      1  \n173 -52.839588           0      1  \n174 -52.839588           0      1  \n\n[175 rows x 10 columns]",
      "text/html": "<div>\n<style scoped>\n    .dataframe tbody tr th:only-of-type {\n        vertical-align: middle;\n    }\n\n    .dataframe tbody tr th {\n        vertical-align: top;\n    }\n\n    .dataframe thead th {\n        text-align: right;\n    }\n</style>\n<table border=\"1\" class=\"dataframe\">\n  <thead>\n    <tr style=\"text-align: right;\">\n      <th></th>\n      <th>id_cadena</th>\n      <th>desc_cadena</th>\n      <th>id_region</th>\n      <th>desc_region</th>\n      <th>idb</th>\n      <th>desc_local</th>\n      <th>latitud</th>\n      <th>longitud</th>\n      <th>punto_dist</th>\n      <th>local</th>\n    </tr>\n  </thead>\n  <tbody>\n    <tr>\n      <th>0</th>\n      <td>1</td>\n      <td>plaza vea</td>\n      <td>1</td>\n      <td>buenos aires</td>\n      <td>9693</td>\n      <td>villa urquiza.</td>\n      <td>-31.533832</td>\n      <td>-52.839588</td>\n      <td>0</td>\n      <td>1</td>\n    </tr>\n    <tr>\n      <th>1</th>\n      <td>1</td>\n      <td>plaza vea</td>\n      <td>1</td>\n      <td>buenos aires</td>\n      <td>9694</td>\n      <td>jb justo.</td>\n      <td>-31.533832</td>\n      <td>-52.839588</td>\n      <td>0</td>\n      <td>1</td>\n    </tr>\n    <tr>\n      <th>2</th>\n      <td>1</td>\n      <td>plaza vea</td>\n      <td>1</td>\n      <td>buenos aires</td>\n      <td>9695</td>\n      <td>acoyte.</td>\n      <td>0.000000</td>\n      <td>0.000000</td>\n      <td>0</td>\n      <td>1</td>\n    </tr>\n    <tr>\n      <th>3</th>\n      <td>1</td>\n      <td>plaza vea</td>\n      <td>1</td>\n      <td>buenos aires</td>\n      <td>9699</td>\n      <td>rivadavia.</td>\n      <td>0.000000</td>\n      <td>0.000000</td>\n      <td>0</td>\n      <td>1</td>\n    </tr>\n    <tr>\n      <th>4</th>\n      <td>1</td>\n      <td>plaza vea</td>\n      <td>1</td>\n      <td>buenos aires</td>\n      <td>9889</td>\n      <td>carpa de liqui</td>\n      <td>-31.533832</td>\n      <td>-52.839588</td>\n      <td>0</td>\n      <td>1</td>\n    </tr>\n    <tr>\n      <th>...</th>\n      <td>...</td>\n      <td>...</td>\n      <td>...</td>\n      <td>...</td>\n      <td>...</td>\n      <td>...</td>\n      <td>...</td>\n      <td>...</td>\n      <td>...</td>\n      <td>...</td>\n    </tr>\n    <tr>\n      <th>170</th>\n      <td>11</td>\n      <td>rincon jumbo</td>\n      <td>1</td>\n      <td>buenos aires</td>\n      <td>8306</td>\n      <td>rincn palermo</td>\n      <td>-31.533832</td>\n      <td>-52.839588</td>\n      <td>0</td>\n      <td>1</td>\n    </tr>\n    <tr>\n      <th>171</th>\n      <td>11</td>\n      <td>rincon jumbo</td>\n      <td>1</td>\n      <td>buenos aires</td>\n      <td>8311</td>\n      <td>rincn pilar</td>\n      <td>0.000000</td>\n      <td>0.000000</td>\n      <td>0</td>\n      <td>1</td>\n    </tr>\n    <tr>\n      <th>172</th>\n      <td>11</td>\n      <td>rincon jumbo</td>\n      <td>1</td>\n      <td>buenos aires</td>\n      <td>8314</td>\n      <td>rincn escobar</td>\n      <td>-31.533832</td>\n      <td>-52.839588</td>\n      <td>0</td>\n      <td>1</td>\n    </tr>\n    <tr>\n      <th>173</th>\n      <td>11</td>\n      <td>rincon jumbo</td>\n      <td>1</td>\n      <td>buenos aires</td>\n      <td>8318</td>\n      <td>rincn rosario</td>\n      <td>-31.533832</td>\n      <td>-52.839588</td>\n      <td>0</td>\n      <td>1</td>\n    </tr>\n    <tr>\n      <th>174</th>\n      <td>11</td>\n      <td>rincon jumbo</td>\n      <td>1</td>\n      <td>buenos aires</td>\n      <td>8331</td>\n      <td>rincn almagro</td>\n      <td>-31.533832</td>\n      <td>-52.839588</td>\n      <td>0</td>\n      <td>1</td>\n    </tr>\n  </tbody>\n</table>\n<p>175 rows × 10 columns</p>\n</div>"
     },
     "execution_count": 16,
     "metadata": {},
     "output_type": "execute_result"
    }
   ],
   "source": [
    "locales_df.head(200)"
   ],
   "metadata": {
    "collapsed": false
   }
  },
  {
   "cell_type": "code",
   "execution_count": 17,
   "outputs": [
    {
     "data": {
      "text/plain": "        id_cadena  id_region          idb     latitud    longitud  punto_dist  \\\ncount  175.000000      175.0   175.000000  175.000000  175.000000  175.000000   \nmean     4.502857        1.0  6909.617143  -31.533832  -52.839588    0.034286   \nstd      2.945627        0.0  3421.539461    9.580378   15.841742    0.182484   \nmin      1.000000        1.0   242.000000  -45.872649  -67.496036    0.000000   \n25%      2.000000        1.0  5213.500000  -34.660845  -58.535721    0.000000   \n50%      4.000000        1.0  9019.000000  -34.583457  -58.404329    0.000000   \n75%      4.000000        1.0  9158.500000  -31.533832  -52.839588    0.000000   \nmax     11.000000        1.0  9977.000000    0.000000    0.000000    1.000000   \n\n            local  \ncount  175.000000  \nmean     0.965714  \nstd      0.182484  \nmin      0.000000  \n25%      1.000000  \n50%      1.000000  \n75%      1.000000  \nmax      1.000000  ",
      "text/html": "<div>\n<style scoped>\n    .dataframe tbody tr th:only-of-type {\n        vertical-align: middle;\n    }\n\n    .dataframe tbody tr th {\n        vertical-align: top;\n    }\n\n    .dataframe thead th {\n        text-align: right;\n    }\n</style>\n<table border=\"1\" class=\"dataframe\">\n  <thead>\n    <tr style=\"text-align: right;\">\n      <th></th>\n      <th>id_cadena</th>\n      <th>id_region</th>\n      <th>idb</th>\n      <th>latitud</th>\n      <th>longitud</th>\n      <th>punto_dist</th>\n      <th>local</th>\n    </tr>\n  </thead>\n  <tbody>\n    <tr>\n      <th>count</th>\n      <td>175.000000</td>\n      <td>175.0</td>\n      <td>175.000000</td>\n      <td>175.000000</td>\n      <td>175.000000</td>\n      <td>175.000000</td>\n      <td>175.000000</td>\n    </tr>\n    <tr>\n      <th>mean</th>\n      <td>4.502857</td>\n      <td>1.0</td>\n      <td>6909.617143</td>\n      <td>-31.533832</td>\n      <td>-52.839588</td>\n      <td>0.034286</td>\n      <td>0.965714</td>\n    </tr>\n    <tr>\n      <th>std</th>\n      <td>2.945627</td>\n      <td>0.0</td>\n      <td>3421.539461</td>\n      <td>9.580378</td>\n      <td>15.841742</td>\n      <td>0.182484</td>\n      <td>0.182484</td>\n    </tr>\n    <tr>\n      <th>min</th>\n      <td>1.000000</td>\n      <td>1.0</td>\n      <td>242.000000</td>\n      <td>-45.872649</td>\n      <td>-67.496036</td>\n      <td>0.000000</td>\n      <td>0.000000</td>\n    </tr>\n    <tr>\n      <th>25%</th>\n      <td>2.000000</td>\n      <td>1.0</td>\n      <td>5213.500000</td>\n      <td>-34.660845</td>\n      <td>-58.535721</td>\n      <td>0.000000</td>\n      <td>1.000000</td>\n    </tr>\n    <tr>\n      <th>50%</th>\n      <td>4.000000</td>\n      <td>1.0</td>\n      <td>9019.000000</td>\n      <td>-34.583457</td>\n      <td>-58.404329</td>\n      <td>0.000000</td>\n      <td>1.000000</td>\n    </tr>\n    <tr>\n      <th>75%</th>\n      <td>4.000000</td>\n      <td>1.0</td>\n      <td>9158.500000</td>\n      <td>-31.533832</td>\n      <td>-52.839588</td>\n      <td>0.000000</td>\n      <td>1.000000</td>\n    </tr>\n    <tr>\n      <th>max</th>\n      <td>11.000000</td>\n      <td>1.0</td>\n      <td>9977.000000</td>\n      <td>0.000000</td>\n      <td>0.000000</td>\n      <td>1.000000</td>\n      <td>1.000000</td>\n    </tr>\n  </tbody>\n</table>\n</div>"
     },
     "execution_count": 17,
     "metadata": {},
     "output_type": "execute_result"
    }
   ],
   "source": [
    "locales_df.describe()"
   ],
   "metadata": {
    "collapsed": false
   }
  },
  {
   "cell_type": "markdown",
   "source": [
    "#### Observaciones\n",
    "\n",
    "\n"
   ],
   "metadata": {
    "collapsed": false
   }
  },
  {
   "cell_type": "markdown",
   "source": [],
   "metadata": {
    "collapsed": false
   }
  },
  {
   "cell_type": "code",
   "execution_count": 18,
   "outputs": [
    {
     "data": {
      "text/plain": "<folium.folium.Map at 0x7fe2da5eff40>",
      "text/html": "<div style=\"width:100%;\"><div style=\"position:relative;width:100%;height:0;padding-bottom:60%;\"><span style=\"color:#565656\">Make this Notebook Trusted to load map: File -> Trust Notebook</span><iframe srcdoc=\"&lt;!DOCTYPE html&gt;\n&lt;html&gt;\n&lt;head&gt;\n    \n    &lt;meta http-equiv=&quot;content-type&quot; content=&quot;text/html; charset=UTF-8&quot; /&gt;\n    \n        &lt;script&gt;\n            L_NO_TOUCH = false;\n            L_DISABLE_3D = false;\n        &lt;/script&gt;\n    \n    &lt;style&gt;html, body {width: 100%;height: 100%;margin: 0;padding: 0;}&lt;/style&gt;\n    &lt;style&gt;#map {position:absolute;top:0;bottom:0;right:0;left:0;}&lt;/style&gt;\n    &lt;script src=&quot;https://cdn.jsdelivr.net/npm/leaflet@1.9.3/dist/leaflet.js&quot;&gt;&lt;/script&gt;\n    &lt;script src=&quot;https://code.jquery.com/jquery-1.12.4.min.js&quot;&gt;&lt;/script&gt;\n    &lt;script src=&quot;https://cdn.jsdelivr.net/npm/bootstrap@5.2.2/dist/js/bootstrap.bundle.min.js&quot;&gt;&lt;/script&gt;\n    &lt;script src=&quot;https://cdnjs.cloudflare.com/ajax/libs/Leaflet.awesome-markers/2.0.2/leaflet.awesome-markers.js&quot;&gt;&lt;/script&gt;\n    &lt;link rel=&quot;stylesheet&quot; href=&quot;https://cdn.jsdelivr.net/npm/leaflet@1.9.3/dist/leaflet.css&quot;/&gt;\n    &lt;link rel=&quot;stylesheet&quot; href=&quot;https://cdn.jsdelivr.net/npm/bootstrap@5.2.2/dist/css/bootstrap.min.css&quot;/&gt;\n    &lt;link rel=&quot;stylesheet&quot; href=&quot;https://netdna.bootstrapcdn.com/bootstrap/3.0.0/css/bootstrap.min.css&quot;/&gt;\n    &lt;link rel=&quot;stylesheet&quot; href=&quot;https://cdn.jsdelivr.net/npm/@fortawesome/fontawesome-free@6.2.0/css/all.min.css&quot;/&gt;\n    &lt;link rel=&quot;stylesheet&quot; href=&quot;https://cdnjs.cloudflare.com/ajax/libs/Leaflet.awesome-markers/2.0.2/leaflet.awesome-markers.css&quot;/&gt;\n    &lt;link rel=&quot;stylesheet&quot; href=&quot;https://cdn.jsdelivr.net/gh/python-visualization/folium/folium/templates/leaflet.awesome.rotate.min.css&quot;/&gt;\n    \n            &lt;meta name=&quot;viewport&quot; content=&quot;width=device-width,\n                initial-scale=1.0, maximum-scale=1.0, user-scalable=no&quot; /&gt;\n            &lt;style&gt;\n                #map_61d15e9e114611f4a405abaed7a65231 {\n                    position: relative;\n                    width: 100.0%;\n                    height: 100.0%;\n                    left: 0.0%;\n                    top: 0.0%;\n                }\n                .leaflet-container { font-size: 1rem; }\n            &lt;/style&gt;\n        \n&lt;/head&gt;\n&lt;body&gt;\n    \n    \n            &lt;div class=&quot;folium-map&quot; id=&quot;map_61d15e9e114611f4a405abaed7a65231&quot; &gt;&lt;/div&gt;\n        \n&lt;/body&gt;\n&lt;script&gt;\n    \n    \n            var map_61d15e9e114611f4a405abaed7a65231 = L.map(\n                &quot;map_61d15e9e114611f4a405abaed7a65231&quot;,\n                {\n                    center: [-31.533831567142858, -52.83958754857142],\n                    crs: L.CRS.EPSG3857,\n                    zoom: 5,\n                    zoomControl: true,\n                    preferCanvas: false,\n                }\n            );\n\n            \n\n        \n    \n            var tile_layer_61277cff09d7411a90f0b7f74b51a99e = L.tileLayer(\n                &quot;https://{s}.tile.openstreetmap.org/{z}/{x}/{y}.png&quot;,\n                {&quot;attribution&quot;: &quot;Data by \\u0026copy; \\u003ca target=\\&quot;_blank\\&quot; href=\\&quot;http://openstreetmap.org\\&quot;\\u003eOpenStreetMap\\u003c/a\\u003e, under \\u003ca target=\\&quot;_blank\\&quot; href=\\&quot;http://www.openstreetmap.org/copyright\\&quot;\\u003eODbL\\u003c/a\\u003e.&quot;, &quot;detectRetina&quot;: false, &quot;maxNativeZoom&quot;: 18, &quot;maxZoom&quot;: 18, &quot;minZoom&quot;: 0, &quot;noWrap&quot;: false, &quot;opacity&quot;: 1, &quot;subdomains&quot;: &quot;abc&quot;, &quot;tms&quot;: false}\n            ).addTo(map_61d15e9e114611f4a405abaed7a65231);\n        \n    \n            var marker_bc8d2848ab3fdeb93c62da4c519ab3f0 = L.marker(\n                [-31.533831567142858, -52.83958754857142],\n                {}\n            ).addTo(map_61d15e9e114611f4a405abaed7a65231);\n        \n    \n            var marker_43760a384760a20ef6195f698d46decd = L.marker(\n                [-31.533831567142858, -52.83958754857142],\n                {}\n            ).addTo(map_61d15e9e114611f4a405abaed7a65231);\n        \n    \n            var marker_eec362806776e6ddb97f64267dfca84a = L.marker(\n                [0.0, 0.0],\n                {}\n            ).addTo(map_61d15e9e114611f4a405abaed7a65231);\n        \n    \n            var marker_6095d2c71ff30cbbe3bd28133fed7901 = L.marker(\n                [0.0, 0.0],\n                {}\n            ).addTo(map_61d15e9e114611f4a405abaed7a65231);\n        \n    \n            var marker_3dd5e1e79345ba44d17cfa40d62849b5 = L.marker(\n                [-31.533831567142858, -52.83958754857142],\n                {}\n            ).addTo(map_61d15e9e114611f4a405abaed7a65231);\n        \n    \n            var marker_32c593274de33584df4610a8cca8fd0b = L.marker(\n                [-34.565259, -58.436583],\n                {}\n            ).addTo(map_61d15e9e114611f4a405abaed7a65231);\n        \n    \n            var marker_fce98f169034665a5a26db107ee6d219 = L.marker(\n                [-34.446043, -58.745098],\n                {}\n            ).addTo(map_61d15e9e114611f4a405abaed7a65231);\n        \n    \n            var marker_58c774e273354d40d5a5ffaaf8e6cc86 = L.marker(\n                [-31.533831567142858, -52.83958754857142],\n                {}\n            ).addTo(map_61d15e9e114611f4a405abaed7a65231);\n        \n    \n            var marker_f398f2424d8d91a4c9e8761dbaec7072 = L.marker(\n                [-34.853221, -58.502247],\n                {}\n            ).addTo(map_61d15e9e114611f4a405abaed7a65231);\n        \n    \n            var marker_fd5b254ec26233c8b1904273577b680e = L.marker(\n                [-31.533831567142858, -52.83958754857142],\n                {}\n            ).addTo(map_61d15e9e114611f4a405abaed7a65231);\n        \n    \n            var marker_4b18a2cc88c7ca6587e520786fc6ea14 = L.marker(\n                [-31.533831567142858, -52.83958754857142],\n                {}\n            ).addTo(map_61d15e9e114611f4a405abaed7a65231);\n        \n    \n            var marker_c3a1f19bbf3820f54c1c26a1ea4ebb7a = L.marker(\n                [-31.533831567142858, -52.83958754857142],\n                {}\n            ).addTo(map_61d15e9e114611f4a405abaed7a65231);\n        \n    \n            var marker_2fa8ea13e5a58c1eed6f071e5850746c = L.marker(\n                [-34.4715309, -58.5153501],\n                {}\n            ).addTo(map_61d15e9e114611f4a405abaed7a65231);\n        \n    \n            var marker_e527803fe1757899759d442ec1b4ce6f = L.marker(\n                [-34.5962563, -58.3857009],\n                {}\n            ).addTo(map_61d15e9e114611f4a405abaed7a65231);\n        \n    \n            var marker_0080b1a6cbe5ef12f6b6485b775c0f71 = L.marker(\n                [-34.627893, -58.458295],\n                {}\n            ).addTo(map_61d15e9e114611f4a405abaed7a65231);\n        \n    \n            var marker_fc28c92a057d9eace63050ffeda373c6 = L.marker(\n                [-34.520825, -58.485332],\n                {}\n            ).addTo(map_61d15e9e114611f4a405abaed7a65231);\n        \n    \n            var marker_a7c287834e609d96b9e30513d157cbcf = L.marker(\n                [0.0, 0.0],\n                {}\n            ).addTo(map_61d15e9e114611f4a405abaed7a65231);\n        \n    \n            var marker_2d103a20c48f7bb295309d688e247ef7 = L.marker(\n                [-34.764091, -58.398621],\n                {}\n            ).addTo(map_61d15e9e114611f4a405abaed7a65231);\n        \n    \n            var marker_4a02ef82a2a45b6faeff7503e93dd8c4 = L.marker(\n                [-34.560842, -58.449841],\n                {}\n            ).addTo(map_61d15e9e114611f4a405abaed7a65231);\n        \n    \n            var marker_b0e95c1b971c6ca3d26bcd44268bf345 = L.marker(\n                [-34.581691, -58.414435],\n                {}\n            ).addTo(map_61d15e9e114611f4a405abaed7a65231);\n        \n    \n            var marker_a4c74ac39e84d61f6e880187ae22ab72 = L.marker(\n                [-34.580101, -58.408191],\n                {}\n            ).addTo(map_61d15e9e114611f4a405abaed7a65231);\n        \n    \n            var marker_7ed054ca76c950e9e5b029d157e14fe3 = L.marker(\n                [-34.58609, -58.42231],\n                {}\n            ).addTo(map_61d15e9e114611f4a405abaed7a65231);\n        \n    \n            var marker_571f1db6d80b7ac819cbf04fc482f2c3 = L.marker(\n                [-34.566744, -58.453445],\n                {}\n            ).addTo(map_61d15e9e114611f4a405abaed7a65231);\n        \n    \n            var marker_173d58466569736c303065076e42caea = L.marker(\n                [-34.589375, -58.388536],\n                {}\n            ).addTo(map_61d15e9e114611f4a405abaed7a65231);\n        \n    \n            var marker_14178dca472113afb90abbdce0030b06 = L.marker(\n                [-34.590488, -58.408384],\n                {}\n            ).addTo(map_61d15e9e114611f4a405abaed7a65231);\n        \n    \n            var marker_6abde650821b470bcff33941bd15cfd9 = L.marker(\n                [-34.587061, -58.410916],\n                {}\n            ).addTo(map_61d15e9e114611f4a405abaed7a65231);\n        \n    \n            var marker_64a849a91eecba44395ff4dd63c38c9b = L.marker(\n                [-34.593032, -58.391347],\n                {}\n            ).addTo(map_61d15e9e114611f4a405abaed7a65231);\n        \n    \n            var marker_f270343a9a055374246c1bb40cbaf8d3 = L.marker(\n                [-34.608787, -58.392012],\n                {}\n            ).addTo(map_61d15e9e114611f4a405abaed7a65231);\n        \n    \n            var marker_3bf59170299791fe3517b500d782a14f = L.marker(\n                [-34.617352, -58.434391],\n                {}\n            ).addTo(map_61d15e9e114611f4a405abaed7a65231);\n        \n    \n            var marker_067d9f7bdabfb7df813af0b6e8cf259e = L.marker(\n                [-34.593885, -58.3978981],\n                {}\n            ).addTo(map_61d15e9e114611f4a405abaed7a65231);\n        \n    \n            var marker_2744b1be8f32fd139ea722a00dd3ebcc = L.marker(\n                [-34.798951, -58.404243],\n                {}\n            ).addTo(map_61d15e9e114611f4a405abaed7a65231);\n        \n    \n            var marker_320a31d2e88229c4f93a9074c9c7216c = L.marker(\n                [-34.561708, -58.452373],\n                {}\n            ).addTo(map_61d15e9e114611f4a405abaed7a65231);\n        \n    \n            var marker_d5f9e3dc2fe6ee8c4e8732eadf9598bc = L.marker(\n                [-34.5859346, -58.4051877],\n                {}\n            ).addTo(map_61d15e9e114611f4a405abaed7a65231);\n        \n    \n            var marker_8d740419e01e0fd2c63e67490f1af792 = L.marker(\n                [-34.934655, -57.975326],\n                {}\n            ).addTo(map_61d15e9e114611f4a405abaed7a65231);\n        \n    \n            var marker_55d570818779f78362b0f55f7ec822f9 = L.marker(\n                [-37.259025, -56.982672],\n                {}\n            ).addTo(map_61d15e9e114611f4a405abaed7a65231);\n        \n    \n            var marker_43fadf864531a65326f2deafa219722f = L.marker(\n                [-34.5915193, -58.378118],\n                {}\n            ).addTo(map_61d15e9e114611f4a405abaed7a65231);\n        \n    \n            var marker_af7d4aa6ff8bdbdc3a9954952b93d2b6 = L.marker(\n                [-34.603435, -58.424113],\n                {}\n            ).addTo(map_61d15e9e114611f4a405abaed7a65231);\n        \n    \n            var marker_baef5c04112712dd44f40e2e7d2f37a5 = L.marker(\n                [-37.108689, -56.871028],\n                {}\n            ).addTo(map_61d15e9e114611f4a405abaed7a65231);\n        \n    \n            var marker_1888a8cdc8be301b617520857d9bbc74 = L.marker(\n                [-37.2635495, -56.9745208],\n                {}\n            ).addTo(map_61d15e9e114611f4a405abaed7a65231);\n        \n    \n            var marker_15756ea1856ada0786ab8bfc01cf5abe = L.marker(\n                [-34.572857, -58.459282],\n                {}\n            ).addTo(map_61d15e9e114611f4a405abaed7a65231);\n        \n    \n            var marker_92de411c51f8c2d4cdaf02544764b091 = L.marker(\n                [-38.024498, -57.563767],\n                {}\n            ).addTo(map_61d15e9e114611f4a405abaed7a65231);\n        \n    \n            var marker_377cba9af8a335b7d93b410055608f73 = L.marker(\n                [-38.0016165, -57.5499759],\n                {}\n            ).addTo(map_61d15e9e114611f4a405abaed7a65231);\n        \n    \n            var marker_c510d940845a4809b16417c2eaa38cfd = L.marker(\n                [-37.960018, -57.564476],\n                {}\n            ).addTo(map_61d15e9e114611f4a405abaed7a65231);\n        \n    \n            var marker_b704031e1e290634224edc9f15450580 = L.marker(\n                [-37.998259, -57.545421],\n                {}\n            ).addTo(map_61d15e9e114611f4a405abaed7a65231);\n        \n    \n            var marker_96009982ef6c9cdf6d625f2bfcc02d90 = L.marker(\n                [-34.915544, -57.942746],\n                {}\n            ).addTo(map_61d15e9e114611f4a405abaed7a65231);\n        \n    \n            var marker_e871a0d21cb58e553bc7a92a3ad78a03 = L.marker(\n                [-34.569783, -58.470676],\n                {}\n            ).addTo(map_61d15e9e114611f4a405abaed7a65231);\n        \n    \n            var marker_4c9438a6f2b6fd6b3132e5c415e3b770 = L.marker(\n                [-34.786031, -58.252974],\n                {}\n            ).addTo(map_61d15e9e114611f4a405abaed7a65231);\n        \n    \n            var marker_56fcbef43c99fccc15ded2d1ecf018c1 = L.marker(\n                [-34.738192, -58.408967],\n                {}\n            ).addTo(map_61d15e9e114611f4a405abaed7a65231);\n        \n    \n            var marker_d58c84047448b14c6afe9af9b87625f3 = L.marker(\n                [-34.596317, -58.389805],\n                {}\n            ).addTo(map_61d15e9e114611f4a405abaed7a65231);\n        \n    \n            var marker_9faffd07f605835b423c58c90fbea52f = L.marker(\n                [-34.6547671, -58.50615],\n                {}\n            ).addTo(map_61d15e9e114611f4a405abaed7a65231);\n        \n    \n            var marker_55c679f69da53ab4856fc5a4f5c936a4 = L.marker(\n                [-34.6417334, -58.5710307],\n                {}\n            ).addTo(map_61d15e9e114611f4a405abaed7a65231);\n        \n    \n            var marker_2a2b3be5406e110dc929fbc4aafe63c1 = L.marker(\n                [-34.6539, -58.6207],\n                {}\n            ).addTo(map_61d15e9e114611f4a405abaed7a65231);\n        \n    \n            var marker_c6aa89d290acc4399e015293488c9ed8 = L.marker(\n                [-34.649273, -58.654032],\n                {}\n            ).addTo(map_61d15e9e114611f4a405abaed7a65231);\n        \n    \n            var marker_b6accb70acfe05262f3154ad316ded86 = L.marker(\n                [-34.634367, -58.791778],\n                {}\n            ).addTo(map_61d15e9e114611f4a405abaed7a65231);\n        \n    \n            var marker_ec8ac4831aad26382d21675d6c4de6e2 = L.marker(\n                [-34.5614535, -58.6802181],\n                {}\n            ).addTo(map_61d15e9e114611f4a405abaed7a65231);\n        \n    \n            var marker_94b3c7b05ef3d0ddafa201b691d1298b = L.marker(\n                [0.0, 0.0],\n                {}\n            ).addTo(map_61d15e9e114611f4a405abaed7a65231);\n        \n    \n            var marker_ed09b26ea1bf16b5aab9ede593125b26 = L.marker(\n                [-34.807942, -58.508362],\n                {}\n            ).addTo(map_61d15e9e114611f4a405abaed7a65231);\n        \n    \n            var marker_b5ef82da4c1e5c75fc813194924599be = L.marker(\n                [-38.014727, -57.539134],\n                {}\n            ).addTo(map_61d15e9e114611f4a405abaed7a65231);\n        \n    \n            var marker_081b98dcc56a6def198a87f0b54188ab = L.marker(\n                [-34.4657445, -58.5749095],\n                {}\n            ).addTo(map_61d15e9e114611f4a405abaed7a65231);\n        \n    \n            var marker_4b1607e91b20c062824b3ef966699585 = L.marker(\n                [-34.6003328, -58.502862],\n                {}\n            ).addTo(map_61d15e9e114611f4a405abaed7a65231);\n        \n    \n            var marker_23c9876d5cab847e4f2d955baeacfe55 = L.marker(\n                [-34.6224616, -58.4348107],\n                {}\n            ).addTo(map_61d15e9e114611f4a405abaed7a65231);\n        \n    \n            var marker_33e30f25ff54feb44e88de04daa4488b = L.marker(\n                [-36.688037, -56.683531],\n                {}\n            ).addTo(map_61d15e9e114611f4a405abaed7a65231);\n        \n    \n            var marker_c836a464ebaeff72ca1d9f91676fe4e7 = L.marker(\n                [-34.6133869, -58.3917308],\n                {}\n            ).addTo(map_61d15e9e114611f4a405abaed7a65231);\n        \n    \n            var marker_9ea57550018ffa192b46196283f7838b = L.marker(\n                [0.0, 0.0],\n                {}\n            ).addTo(map_61d15e9e114611f4a405abaed7a65231);\n        \n    \n            var marker_0e59180abec4c1c6ac1a6204a688ffc6 = L.marker(\n                [-34.629588, -58.445295],\n                {}\n            ).addTo(map_61d15e9e114611f4a405abaed7a65231);\n        \n    \n            var marker_43781042bfd71e3e0557acfba5996ab7 = L.marker(\n                [-34.564535, -58.451564],\n                {}\n            ).addTo(map_61d15e9e114611f4a405abaed7a65231);\n        \n    \n            var marker_e1340adc0257086634abcf2e8915c392 = L.marker(\n                [-34.58321, -60.95419],\n                {}\n            ).addTo(map_61d15e9e114611f4a405abaed7a65231);\n        \n    \n            var marker_936e760543aacc45cb8085b6acea565e = L.marker(\n                [-31.533831567142858, -52.83958754857142],\n                {}\n            ).addTo(map_61d15e9e114611f4a405abaed7a65231);\n        \n    \n            var marker_376f0c080cfc572ddc378bb3b3070f92 = L.marker(\n                [-34.691168, -58.498985],\n                {}\n            ).addTo(map_61d15e9e114611f4a405abaed7a65231);\n        \n    \n            var marker_b531567a6da65301c66e40886e77e7e2 = L.marker(\n                [-31.533831567142858, -52.83958754857142],\n                {}\n            ).addTo(map_61d15e9e114611f4a405abaed7a65231);\n        \n    \n            var marker_a26771f5bf2d4fe6d8ad5253716d4eb0 = L.marker(\n                [0.0, 0.0],\n                {}\n            ).addTo(map_61d15e9e114611f4a405abaed7a65231);\n        \n    \n            var marker_0af9bf24cbdc0e1fdd82dbcc9e397dbd = L.marker(\n                [-31.533831567142858, -52.83958754857142],\n                {}\n            ).addTo(map_61d15e9e114611f4a405abaed7a65231);\n        \n    \n            var marker_037d78ff6eb18cbffd54d1993879b80b = L.marker(\n                [-34.8918342, -60.0206],\n                {}\n            ).addTo(map_61d15e9e114611f4a405abaed7a65231);\n        \n    \n            var marker_f64a8bfcc4fde540e5ec661fcc6d32f3 = L.marker(\n                [-38.561925, -58.729802],\n                {}\n            ).addTo(map_61d15e9e114611f4a405abaed7a65231);\n        \n    \n            var marker_1df4e7efc0b5a91a518514df35b9cd7d = L.marker(\n                [-34.665727, -58.696967],\n                {}\n            ).addTo(map_61d15e9e114611f4a405abaed7a65231);\n        \n    \n            var marker_a990106d18154f3fad6811cbc061a2ec = L.marker(\n                [-36.360308, -56.722051],\n                {}\n            ).addTo(map_61d15e9e114611f4a405abaed7a65231);\n        \n    \n            var marker_19b188c4b19cd6da90d377c22b1b7440 = L.marker(\n                [-32.946868, -60.636206],\n                {}\n            ).addTo(map_61d15e9e114611f4a405abaed7a65231);\n        \n    \n            var marker_8999fdf66f73ce5d46a3612ebb39ffc9 = L.marker(\n                [-33.677926, -59.668511],\n                {}\n            ).addTo(map_61d15e9e114611f4a405abaed7a65231);\n        \n    \n            var marker_d2780db651a7ac61ae9748b48f080170 = L.marker(\n                [-34.403227, -60.733159],\n                {}\n            ).addTo(map_61d15e9e114611f4a405abaed7a65231);\n        \n    \n            var marker_31ab9458b87f0f2199a5e04840375f00 = L.marker(\n                [-33.899131, -60.576621],\n                {}\n            ).addTo(map_61d15e9e114611f4a405abaed7a65231);\n        \n    \n            var marker_721412b064aa2a524631ceaa9ac43125 = L.marker(\n                [0.0, 0.0],\n                {}\n            ).addTo(map_61d15e9e114611f4a405abaed7a65231);\n        \n    \n            var marker_9bc6f4b130f7d30b254a0181d02bbda1 = L.marker(\n                [-35.635604, -59.776489],\n                {}\n            ).addTo(map_61d15e9e114611f4a405abaed7a65231);\n        \n    \n            var marker_4930dab1a5442ec6fb2415edf0ab0e10 = L.marker(\n                [-30.739331, -57.966514],\n                {}\n            ).addTo(map_61d15e9e114611f4a405abaed7a65231);\n        \n    \n            var marker_2063d9bfe8012f1192e9e9dd21220c1b = L.marker(\n                [-33.010391, -58.526405],\n                {}\n            ).addTo(map_61d15e9e114611f4a405abaed7a65231);\n        \n    \n            var marker_d0d6c674a78c89410e196bce40d040ec = L.marker(\n                [-29.141976, -59.265382],\n                {}\n            ).addTo(map_61d15e9e114611f4a405abaed7a65231);\n        \n    \n            var marker_7cee1d153f343839c1283214c0cf329b = L.marker(\n                [-29.715194, -57.088845],\n                {}\n            ).addTo(map_61d15e9e114611f4a405abaed7a65231);\n        \n    \n            var marker_776670d5880f2f3d995a551fc530c829 = L.marker(\n                [-34.4934, -58.627174],\n                {}\n            ).addTo(map_61d15e9e114611f4a405abaed7a65231);\n        \n    \n            var marker_7ad0b1b44f894a2eb894055e5be78571 = L.marker(\n                [-37.327035, -59.132931],\n                {}\n            ).addTo(map_61d15e9e114611f4a405abaed7a65231);\n        \n    \n            var marker_d48f2eab1fc0cfa8b6437737420c3825 = L.marker(\n                [-34.637957, -58.377636],\n                {}\n            ).addTo(map_61d15e9e114611f4a405abaed7a65231);\n        \n    \n            var marker_6fdde6d3e833d4a03218bc21020c2794 = L.marker(\n                [-43.2688, -65.281627],\n                {}\n            ).addTo(map_61d15e9e114611f4a405abaed7a65231);\n        \n    \n            var marker_56b2d6f684d43803469b6096e59f3df2 = L.marker(\n                [-34.595805, -60.928165],\n                {}\n            ).addTo(map_61d15e9e114611f4a405abaed7a65231);\n        \n    \n            var marker_3b3de4f7586b284e23fbf71845148511 = L.marker(\n                [-31.384417, -58.020819],\n                {}\n            ).addTo(map_61d15e9e114611f4a405abaed7a65231);\n        \n    \n            var marker_599a4670e05413dece1275d3feac18c9 = L.marker(\n                [-31.755795, -60.496477],\n                {}\n            ).addTo(map_61d15e9e114611f4a405abaed7a65231);\n        \n    \n            var marker_3d73d0e93d3d591280a9b788e5067f4b = L.marker(\n                [-34.590859, -58.414865],\n                {}\n            ).addTo(map_61d15e9e114611f4a405abaed7a65231);\n        \n    \n            var marker_ee7d3b34ef9beca2f835dbfe04bce23c = L.marker(\n                [-34.625104, -58.447309],\n                {}\n            ).addTo(map_61d15e9e114611f4a405abaed7a65231);\n        \n    \n            var marker_a3adad5ee62445773be7376f199ceb47 = L.marker(\n                [-34.598614, -58.402398],\n                {}\n            ).addTo(map_61d15e9e114611f4a405abaed7a65231);\n        \n    \n            var marker_dba44a5e5b186066ad80b910ffc8a50f = L.marker(\n                [-34.613838, -58.420486],\n                {}\n            ).addTo(map_61d15e9e114611f4a405abaed7a65231);\n        \n    \n            var marker_04f75e2d9008a1428457d64cfa028c95 = L.marker(\n                [-34.599373, -58.417697],\n                {}\n            ).addTo(map_61d15e9e114611f4a405abaed7a65231);\n        \n    \n            var marker_7d0bd565b5d26e883774929bf9d9279a = L.marker(\n                [-34.703165, -58.391991],\n                {}\n            ).addTo(map_61d15e9e114611f4a405abaed7a65231);\n        \n    \n            var marker_a513625cd8db4935651ca91c1649138b = L.marker(\n                [-34.593668, -58.404329],\n                {}\n            ).addTo(map_61d15e9e114611f4a405abaed7a65231);\n        \n    \n            var marker_874afab9650c1f60711f4693afde9713 = L.marker(\n                [-34.726218, -58.395638],\n                {}\n            ).addTo(map_61d15e9e114611f4a405abaed7a65231);\n        \n    \n            var marker_1bb2fda4b51dc509582b5db3d3380d4c = L.marker(\n                [-34.9074365, -57.949567],\n                {}\n            ).addTo(map_61d15e9e114611f4a405abaed7a65231);\n        \n    \n            var marker_27125b60be09127f294d7977ad553e0b = L.marker(\n                [-37.991867, -57.559326],\n                {}\n            ).addTo(map_61d15e9e114611f4a405abaed7a65231);\n        \n    \n            var marker_14c491ba020f255b3a3410d552939718 = L.marker(\n                [-34.61495, -58.434477],\n                {}\n            ).addTo(map_61d15e9e114611f4a405abaed7a65231);\n        \n    \n            var marker_bb14a01b62cf0ff45a9402756b12391e = L.marker(\n                [-31.533831567142858, -52.83958754857142],\n                {}\n            ).addTo(map_61d15e9e114611f4a405abaed7a65231);\n        \n    \n            var marker_f44bdaf8163f8809bff7e8c2a0d50e20 = L.marker(\n                [-31.533831567142858, -52.83958754857142],\n                {}\n            ).addTo(map_61d15e9e114611f4a405abaed7a65231);\n        \n    \n            var marker_eae79f8f54a7f603410dade1f12ac234 = L.marker(\n                [-34.6487126, -58.6115311],\n                {}\n            ).addTo(map_61d15e9e114611f4a405abaed7a65231);\n        \n    \n            var marker_3fd39a6ba720fabafb5fe6173b56aa19 = L.marker(\n                [-34.655963, -58.651543],\n                {}\n            ).addTo(map_61d15e9e114611f4a405abaed7a65231);\n        \n    \n            var marker_f7e833a6d2cde444c5b45f35257eabdb = L.marker(\n                [-34.568452, -58.742759],\n                {}\n            ).addTo(map_61d15e9e114611f4a405abaed7a65231);\n        \n    \n            var marker_eb53c1462c7d5efcc8f3c67b94b8ddd8 = L.marker(\n                [-34.6668243, -58.7273322],\n                {}\n            ).addTo(map_61d15e9e114611f4a405abaed7a65231);\n        \n    \n            var marker_6398f7fe285fe8c5976aae3d71e12b48 = L.marker(\n                [-34.6729584, -58.7239622],\n                {}\n            ).addTo(map_61d15e9e114611f4a405abaed7a65231);\n        \n    \n            var marker_d1bb48ba8e5e33bff91a03b73105442c = L.marker(\n                [-34.643518, -58.789194],\n                {}\n            ).addTo(map_61d15e9e114611f4a405abaed7a65231);\n        \n    \n            var marker_baad6850b86fd1c33d7da643218e32e9 = L.marker(\n                [-34.562532, -59.117523],\n                {}\n            ).addTo(map_61d15e9e114611f4a405abaed7a65231);\n        \n    \n            var marker_34d919530b2a88c35d87804ba36ee08f = L.marker(\n                [-34.602976, -58.635385],\n                {}\n            ).addTo(map_61d15e9e114611f4a405abaed7a65231);\n        \n    \n            var marker_1a4626996956dfda96babec7c778b230 = L.marker(\n                [-34.6531158, -59.4326084],\n                {}\n            ).addTo(map_61d15e9e114611f4a405abaed7a65231);\n        \n    \n            var marker_12ea129a90ce7971e5fa4f4f4aeb6f32 = L.marker(\n                [-34.6101417, -58.5615015],\n                {}\n            ).addTo(map_61d15e9e114611f4a405abaed7a65231);\n        \n    \n            var marker_e753a2520f380b5e69455c91e028628b = L.marker(\n                [-34.6217365, -58.4254639],\n                {}\n            ).addTo(map_61d15e9e114611f4a405abaed7a65231);\n        \n    \n            var marker_8250ef9699777bfaad1a304485cfa60c = L.marker(\n                [-38.046367, -57.55394],\n                {}\n            ).addTo(map_61d15e9e114611f4a405abaed7a65231);\n        \n    \n            var marker_e892459da9fbbff66574081aa0cba8fd = L.marker(\n                [-31.533831567142858, -52.83958754857142],\n                {}\n            ).addTo(map_61d15e9e114611f4a405abaed7a65231);\n        \n    \n            var marker_4c1c12bd2313ac7f15a58f6ad7d2ca39 = L.marker(\n                [-31.533831567142858, -52.83958754857142],\n                {}\n            ).addTo(map_61d15e9e114611f4a405abaed7a65231);\n        \n    \n            var marker_946f3ee6b844592d19f0c1c83d710bbf = L.marker(\n                [-31.533831567142858, -52.83958754857142],\n                {}\n            ).addTo(map_61d15e9e114611f4a405abaed7a65231);\n        \n    \n            var marker_31547ae1a32e17decb110e0457dc9a81 = L.marker(\n                [-34.91673, -57.956336],\n                {}\n            ).addTo(map_61d15e9e114611f4a405abaed7a65231);\n        \n    \n            var marker_4e20dc74e19c61482b716ebb5538ee7f = L.marker(\n                [-34.554674, -58.483486],\n                {}\n            ).addTo(map_61d15e9e114611f4a405abaed7a65231);\n        \n    \n            var marker_81e0f23698d0a709acce615fefc1305f = L.marker(\n                [-31.533831567142858, -52.83958754857142],\n                {}\n            ).addTo(map_61d15e9e114611f4a405abaed7a65231);\n        \n    \n            var marker_be68d5faff52777cb5fe29c01659d851 = L.marker(\n                [-31.533831567142858, -52.83958754857142],\n                {}\n            ).addTo(map_61d15e9e114611f4a405abaed7a65231);\n        \n    \n            var marker_6af72241d7df605227ed60861146fa16 = L.marker(\n                [-31.533831567142858, -52.83958754857142],\n                {}\n            ).addTo(map_61d15e9e114611f4a405abaed7a65231);\n        \n    \n            var marker_36ff2e279bc91c360015ac9744189d6f = L.marker(\n                [-31.533831567142858, -52.83958754857142],\n                {}\n            ).addTo(map_61d15e9e114611f4a405abaed7a65231);\n        \n    \n            var marker_5ebe557a870134babeef1ed66a8c7da8 = L.marker(\n                [-31.533831567142858, -52.83958754857142],\n                {}\n            ).addTo(map_61d15e9e114611f4a405abaed7a65231);\n        \n    \n            var marker_05202f7fcf913f9fde06a6bc00aa538f = L.marker(\n                [-35.18598, -59.097955],\n                {}\n            ).addTo(map_61d15e9e114611f4a405abaed7a65231);\n        \n    \n            var marker_3c6dcaae2b02544f19c535023e719b38 = L.marker(\n                [-35.050042, -58.756238],\n                {}\n            ).addTo(map_61d15e9e114611f4a405abaed7a65231);\n        \n    \n            var marker_9b00ea43e6468529d3eb1a402062ced0 = L.marker(\n                [-38.377394, -60.272848],\n                {}\n            ).addTo(map_61d15e9e114611f4a405abaed7a65231);\n        \n    \n            var marker_9e01cabe653ea2a3f3cf08631ee5434c = L.marker(\n                [-42.768281, -65.037972],\n                {}\n            ).addTo(map_61d15e9e114611f4a405abaed7a65231);\n        \n    \n            var marker_29fe897844a21cdd1c773ee69b43a0e7 = L.marker(\n                [-38.01236, -57.565788],\n                {}\n            ).addTo(map_61d15e9e114611f4a405abaed7a65231);\n        \n    \n            var marker_bd122108b117d3dd4c049cf987b7a23d = L.marker(\n                [-31.533831567142858, -52.83958754857142],\n                {}\n            ).addTo(map_61d15e9e114611f4a405abaed7a65231);\n        \n    \n            var marker_96d4db8c9979168e7fe098a05d05f1dc = L.marker(\n                [0.0, 0.0],\n                {}\n            ).addTo(map_61d15e9e114611f4a405abaed7a65231);\n        \n    \n            var marker_397e1753c357f9444cc3ae44de4234be = L.marker(\n                [-34.728113, -58.248973],\n                {}\n            ).addTo(map_61d15e9e114611f4a405abaed7a65231);\n        \n    \n            var marker_27e155d3d5b20c296a62b866e5cdcf24 = L.marker(\n                [-34.674547, -58.460834],\n                {}\n            ).addTo(map_61d15e9e114611f4a405abaed7a65231);\n        \n    \n            var marker_e411011f664ba99df47dcd58eeca2b14 = L.marker(\n                [-34.508767, -58.521727],\n                {}\n            ).addTo(map_61d15e9e114611f4a405abaed7a65231);\n        \n    \n            var marker_d45c8a970e1bf61208f29addeecaedb3 = L.marker(\n                [-34.792731, -58.414739],\n                {}\n            ).addTo(map_61d15e9e114611f4a405abaed7a65231);\n        \n    \n            var marker_c0c24019b4e057d2a2b037d193a0bc45 = L.marker(\n                [-34.565295, -58.554622],\n                {}\n            ).addTo(map_61d15e9e114611f4a405abaed7a65231);\n        \n    \n            var marker_29976abc29177e9e53a52d7d5dd4475b = L.marker(\n                [-34.575083, -58.425211],\n                {}\n            ).addTo(map_61d15e9e114611f4a405abaed7a65231);\n        \n    \n            var marker_56eb89f79061e311fb3fd746787543e1 = L.marker(\n                [-34.759719, -58.278783],\n                {}\n            ).addTo(map_61d15e9e114611f4a405abaed7a65231);\n        \n    \n            var marker_9f194bd054d8467acddfd64e88a59c33 = L.marker(\n                [-34.701083, -58.647552],\n                {}\n            ).addTo(map_61d15e9e114611f4a405abaed7a65231);\n        \n    \n            var marker_12aeaa54a8dc67e92072ecbbfb104b4c = L.marker(\n                [-34.446786, -58.870454],\n                {}\n            ).addTo(map_61d15e9e114611f4a405abaed7a65231);\n        \n    \n            var marker_c2a91bfdcea68d7861808e84cab4e21b = L.marker(\n                [-34.621431, -58.360854],\n                {}\n            ).addTo(map_61d15e9e114611f4a405abaed7a65231);\n        \n    \n            var marker_48bf461a45a1158272fe36cdfc32ed2a = L.marker(\n                [-34.355837, -58.797712],\n                {}\n            ).addTo(map_61d15e9e114611f4a405abaed7a65231);\n        \n    \n            var marker_7335edf3124a671b9aef8b069b46398c = L.marker(\n                [-32.909118, -60.683434],\n                {}\n            ).addTo(map_61d15e9e114611f4a405abaed7a65231);\n        \n    \n            var marker_833ec6a751c258cd51a950d516b57746 = L.marker(\n                [-31.533831567142858, -52.83958754857142],\n                {}\n            ).addTo(map_61d15e9e114611f4a405abaed7a65231);\n        \n    \n            var marker_9f5109898e54ff260dd706d84e1ac935 = L.marker(\n                [-34.599815, -58.429112],\n                {}\n            ).addTo(map_61d15e9e114611f4a405abaed7a65231);\n        \n    \n            var marker_ca5e71cdf3d14cd834556e0277f4ce18 = L.marker(\n                [-34.583457, -58.464818],\n                {}\n            ).addTo(map_61d15e9e114611f4a405abaed7a65231);\n        \n    \n            var marker_97a040181ca6b7bc86381dc55f2cc2b3 = L.marker(\n                [-34.610676, -58.439326],\n                {}\n            ).addTo(map_61d15e9e114611f4a405abaed7a65231);\n        \n    \n            var marker_acb259ec7340fa496b95a0f8ed9a408c = L.marker(\n                [-34.609829, -58.465505],\n                {}\n            ).addTo(map_61d15e9e114611f4a405abaed7a65231);\n        \n    \n            var marker_7983232fe87deb9c654c496428bbfead = L.marker(\n                [-31.533831567142858, -52.83958754857142],\n                {}\n            ).addTo(map_61d15e9e114611f4a405abaed7a65231);\n        \n    \n            var marker_0270bc7710d76ac160da9ef06d44df36 = L.marker(\n                [0.0, 0.0],\n                {}\n            ).addTo(map_61d15e9e114611f4a405abaed7a65231);\n        \n    \n            var marker_f0d7ec0359eeda7cbe2f102557f9aa3c = L.marker(\n                [-45.872649, -67.496036],\n                {}\n            ).addTo(map_61d15e9e114611f4a405abaed7a65231);\n        \n    \n            var marker_b6aa25c465078e3a815e23d0bd2455a0 = L.marker(\n                [0.0, 0.0],\n                {}\n            ).addTo(map_61d15e9e114611f4a405abaed7a65231);\n        \n    \n            var marker_c6bcfd161d07a05a932a65db62c2be74 = L.marker(\n                [0.0, 0.0],\n                {}\n            ).addTo(map_61d15e9e114611f4a405abaed7a65231);\n        \n    \n            var marker_f673f7c6b477f550cb0c42abcfdb955c = L.marker(\n                [-31.533831567142858, -52.83958754857142],\n                {}\n            ).addTo(map_61d15e9e114611f4a405abaed7a65231);\n        \n    \n            var marker_4ff9a009da0f66ddf7b905033ad61621 = L.marker(\n                [-31.533831567142858, -52.83958754857142],\n                {}\n            ).addTo(map_61d15e9e114611f4a405abaed7a65231);\n        \n    \n            var marker_af9969c0b61265000dccbe7e570962be = L.marker(\n                [-34.453186, -58.630924],\n                {}\n            ).addTo(map_61d15e9e114611f4a405abaed7a65231);\n        \n    \n            var marker_99238ce243672acd0ef98415c7fcd485 = L.marker(\n                [-34.577317, -58.428886],\n                {}\n            ).addTo(map_61d15e9e114611f4a405abaed7a65231);\n        \n    \n            var marker_948f721ed2702b5b68d04ef1d445ee4f = L.marker(\n                [-31.533831567142858, -52.83958754857142],\n                {}\n            ).addTo(map_61d15e9e114611f4a405abaed7a65231);\n        \n    \n            var marker_b6455197dba7e6f7064210d2b3423ebe = L.marker(\n                [-31.533831567142858, -52.83958754857142],\n                {}\n            ).addTo(map_61d15e9e114611f4a405abaed7a65231);\n        \n    \n            var marker_459ed7c29ab5b4c75142663d3673be69 = L.marker(\n                [-34.4467025, -58.5450372],\n                {}\n            ).addTo(map_61d15e9e114611f4a405abaed7a65231);\n        \n    \n            var marker_f639d35ab72df763c1a50321e7e1b6c8 = L.marker(\n                [-31.533831567142858, -52.83958754857142],\n                {}\n            ).addTo(map_61d15e9e114611f4a405abaed7a65231);\n        \n    \n            var marker_a46f7275795bc701c623141ab8bc718d = L.marker(\n                [-31.533831567142858, -52.83958754857142],\n                {}\n            ).addTo(map_61d15e9e114611f4a405abaed7a65231);\n        \n    \n            var marker_dfc5f01e0c1744b67cb04b517ad7e449 = L.marker(\n                [-31.533831567142858, -52.83958754857142],\n                {}\n            ).addTo(map_61d15e9e114611f4a405abaed7a65231);\n        \n    \n            var marker_f1555eafffbaea61f70e5064bef8c909 = L.marker(\n                [0.0, 0.0],\n                {}\n            ).addTo(map_61d15e9e114611f4a405abaed7a65231);\n        \n    \n            var marker_f0a4890a7305b5e90498e5e2445ab31d = L.marker(\n                [0.0, 0.0],\n                {}\n            ).addTo(map_61d15e9e114611f4a405abaed7a65231);\n        \n    \n            var marker_5007f633b51eec8d5f94ea7940146df2 = L.marker(\n                [-31.533831567142858, -52.83958754857142],\n                {}\n            ).addTo(map_61d15e9e114611f4a405abaed7a65231);\n        \n    \n            var marker_ec2fd7f29ab12cdc0cbad91eec228206 = L.marker(\n                [-31.533831567142858, -52.83958754857142],\n                {}\n            ).addTo(map_61d15e9e114611f4a405abaed7a65231);\n        \n    \n            var marker_519e870a7af9d879fdfca8c2d7443e3b = L.marker(\n                [0.0, 0.0],\n                {}\n            ).addTo(map_61d15e9e114611f4a405abaed7a65231);\n        \n    \n            var marker_8c8d5dcc8d8f298a7454760e118def1e = L.marker(\n                [-31.533831567142858, -52.83958754857142],\n                {}\n            ).addTo(map_61d15e9e114611f4a405abaed7a65231);\n        \n    \n            var marker_3fcd683f50d0e06c13a91c44d2efbd20 = L.marker(\n                [-31.533831567142858, -52.83958754857142],\n                {}\n            ).addTo(map_61d15e9e114611f4a405abaed7a65231);\n        \n    \n            var marker_ad8fa1f6f0e6c0935e31bb8dfdc5ffe3 = L.marker(\n                [-31.533831567142858, -52.83958754857142],\n                {}\n            ).addTo(map_61d15e9e114611f4a405abaed7a65231);\n        \n&lt;/script&gt;\n&lt;/html&gt;\" style=\"position:absolute;width:100%;height:100%;left:0;top:0;border:none !important;\" allowfullscreen webkitallowfullscreen mozallowfullscreen></iframe></div></div>"
     },
     "execution_count": 18,
     "metadata": {},
     "output_type": "execute_result"
    }
   ],
   "source": [
    "import folium\n",
    "\n",
    "# Combine the latitude and longitude columns into a list of locations\n",
    "locations = [[lat, lon] for lat, lon in zip(locales_df['latitud'], locales_df['longitud'])]\n",
    "\n",
    "# Create a map centered at the first location in the list\n",
    "m = folium.Map(location=locations[0], zoom_start=5)\n",
    "\n",
    "# Add markers to the map for each location in the list\n",
    "for location in locations:\n",
    "    folium.Marker(location=location).add_to(m)\n",
    "\n",
    "# Display the map\n",
    "m"
   ],
   "metadata": {
    "collapsed": false
   }
  },
  {
   "cell_type": "markdown",
   "source": [
    "#### Guardar el dataset limpio"
   ],
   "metadata": {
    "collapsed": false
   }
  },
  {
   "cell_type": "code",
   "execution_count": 19,
   "outputs": [],
   "source": [
    "locales_df.to_csv('../clean_data/locales_clean.csv', index=False)"
   ],
   "metadata": {
    "collapsed": false
   }
  },
  {
   "cell_type": "code",
   "execution_count": null,
   "outputs": [],
   "source": [],
   "metadata": {
    "collapsed": false
   }
  }
 ],
 "metadata": {
  "kernelspec": {
   "display_name": "Python 3 (ipykernel)",
   "language": "python",
   "name": "python3"
  },
  "language_info": {
   "codemirror_mode": {
    "name": "ipython",
    "version": 3
   },
   "file_extension": ".py",
   "mimetype": "text/x-python",
   "name": "python",
   "nbconvert_exporter": "python",
   "pygments_lexer": "ipython3",
   "version": "3.10.8"
  },
  "toc": {
   "base_numbering": 1,
   "nav_menu": {},
   "number_sections": true,
   "sideBar": true,
   "skip_h1_title": false,
   "title_cell": "Table of Contents",
   "title_sidebar": "Contents",
   "toc_cell": false,
   "toc_position": {},
   "toc_section_display": true,
   "toc_window_display": false
  },
  "varInspector": {
   "cols": {
    "lenName": 16,
    "lenType": 16,
    "lenVar": 40
   },
   "kernels_config": {
    "python": {
     "delete_cmd_postfix": "",
     "delete_cmd_prefix": "del ",
     "library": "var_list.py",
     "varRefreshCmd": "print(var_dic_list())"
    },
    "r": {
     "delete_cmd_postfix": ") ",
     "delete_cmd_prefix": "rm(",
     "library": "var_list.r",
     "varRefreshCmd": "cat(var_dic_list()) "
    }
   },
   "types_to_exclude": [
    "module",
    "function",
    "builtin_function_or_method",
    "instance",
    "_Feature"
   ],
   "window_display": false
  }
 },
 "nbformat": 4,
 "nbformat_minor": 5
}
