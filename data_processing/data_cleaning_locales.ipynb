{
 "cells": [
  {
   "cell_type": "markdown",
   "source": [
    "# Limpieza de Datos Locales 20190712"
   ],
   "metadata": {
    "collapsed": false
   }
  },
  {
   "cell_type": "code",
   "execution_count": 1,
   "id": "396705b3",
   "metadata": {},
   "outputs": [],
   "source": [
    "import pandas as pd\n",
    "from utils_functions import  replace_regex, remove_non_ascii"
   ]
  },
  {
   "cell_type": "markdown",
   "id": "dbd04701",
   "metadata": {},
   "source": [
    "# Importar Datasets"
   ]
  },
  {
   "cell_type": "code",
   "execution_count": 2,
   "outputs": [],
   "source": [
    "locales_col_names = [\n",
    "    'id_cadena', 'desc_cadena', 'id_region', 'desc_region', 'idb',\n",
    "    'desc_local', 'latitud', 'longitud', 'punto_dist'\n",
    "]"
   ],
   "metadata": {
    "collapsed": false
   }
  },
  {
   "cell_type": "code",
   "execution_count": 3,
   "outputs": [],
   "source": [
    "locales_df = pd.read_csv(\"../data/Locales.txt\",\n",
    "                         encoding=\"UTF-8\",\n",
    "                         header=None,\n",
    "                         delimiter='\\t',\n",
    "                         names=locales_col_names)"
   ],
   "metadata": {
    "collapsed": false
   }
  },
  {
   "cell_type": "code",
   "execution_count": 4,
   "outputs": [
    {
     "data": {
      "text/plain": "    id_cadena                     desc_cadena  id_region  \\\n0           1  Plaza Vea                               1   \n1           1  Plaza Vea                               1   \n2           1  Plaza Vea                               1   \n3           1  Plaza Vea                               1   \n4           1  Plaza Vea                               1   \n5           2  Disco                                   1   \n6           2  Disco                                   1   \n7           2  Disco                                   1   \n8           2  Disco                                   1   \n9           2  Disco                                   1   \n10          2  Disco                                   1   \n11          2  Disco                                   1   \n12          2  Disco                                   1   \n13          2  Disco                                   1   \n14          2  Disco                                   1   \n15          2  Disco                                   1   \n16          2  Disco                                   1   \n17          2  Disco                                   1   \n18          2  Disco                                   1   \n19          2  Disco                                   1   \n20          2  Disco                                   1   \n21          2  Disco                                   1   \n22          2  Disco                                   1   \n23          2  Disco                                   1   \n24          2  Disco                                   1   \n25          2  Disco                                   1   \n26          2  Disco                                   1   \n27          2  Disco                                   1   \n28          2  Disco                                   1   \n29          2  Disco                                   1   \n30          2  Disco                                   1   \n31          2  Disco                                   1   \n32          2  Disco                                   1   \n33          2  Disco                                   1   \n34          2  Disco                                   1   \n35          2  Disco                                   1   \n36          2  Disco                                   1   \n37          2  Disco                                   1   \n38          2  Disco                                   1   \n39          2  Disco                                   1   \n\n                       desc_region   idb                      desc_local  \\\n0   Buenos Aires                    9693     9693 - P Vea Villa Urquiza.   \n1   Buenos Aires                    9694          9694 - P Vea JB Justo.   \n2   Buenos Aires                    9695             695 - P Vea Acoyte.   \n3   Buenos Aires                    9699          699 - P Vea Rivadavia.   \n4   Buenos Aires                    9889  889 - Plaza Vea Carpa de liqui   \n5   Buenos Aires                     247         916 - SM 916 Gorostiaga   \n6   Buenos Aires                     257                61 - Tortuguitas   \n7   Buenos Aires                     285             953 - Venado Tuerto   \n8   Buenos Aires                     740                   740 - Canning   \n9   Buenos Aires                     961              961 - Av. Santa FÇ   \n10  Buenos Aires                    1190  6190 - BT SAF (Importaciones).   \n11  Buenos Aires                    1914    3914 - Interno SLL BsAs 217.   \n12  Buenos Aires                    9001                 1 - San Isidro.   \n13  Buenos Aires                    9002                 2 - Talcahuano.   \n14  Buenos Aires                    9003                    3 - Camacua.   \n15  Buenos Aires                    9004              4 - Vicente L¢pez.   \n16  Buenos Aires                    9007                 7 - Pte. Per¢n.   \n17  Buenos Aires                    9009            9 - Lomas de Zamora.   \n18  Buenos Aires                    9012                     12 - Sucre.   \n19  Buenos Aires                    9014                14 - Las Heras..   \n20  Buenos Aires                    9015                  15 - Salguero.   \n21  Buenos Aires                    9016                  16 - Paraguay.   \n22  Buenos Aires                    9017           17 - Virrey del Pino.   \n23  Buenos Aires                    9018                  18 - Quintana.   \n24  Buenos Aires                    9022                  22 - Santa Fe.   \n25  Buenos Aires                    9023              23 - Alto Palermo.   \n26  Buenos Aires                    9025            25 - Rodr°guez Pe§a.   \n27  Buenos Aires                    9026                26 - Av. Callao.   \n28  Buenos Aires                    9030                 30 - Rivadavia.   \n29  Buenos Aires                    9035                   35 - Uriburu.   \n30  Buenos Aires                    9037                   37 - AdroguÇ.   \n31  Buenos Aires                    9038                     38 - Arcos.   \n32  Buenos Aires                    9039                      39 - Pe§a.   \n33  Buenos Aires                    9042                42 - La Plata I.   \n34  Buenos Aires                    9045          45 - Gesell Boulevard.   \n35  Buenos Aires                    9046                 46 - Esmeralda.   \n36  Buenos Aires                    9048                    48 - Gasc¢n.   \n37  Buenos Aires                    9049                   49 - Pinamar.   \n38  Buenos Aires                    9050            50 - Gesell Central.   \n39  Buenos Aires                    9054                    54 - Elcano.   \n\n      latitud   longitud punto_dist  \n0         NaN        NaN          N  \n1         NaN        NaN          N  \n2    0.000000   0.000000          N  \n3    0.000000   0.000000          N  \n4         NaN        NaN          N  \n5  -34.565259 -58.436583          N  \n6  -34.446043 -58.745098          N  \n7         NaN        NaN          N  \n8  -34.853221 -58.502247          N  \n9         NaN        NaN          N  \n10        NaN        NaN          S  \n11        NaN        NaN          S  \n12 -34.471531 -58.515350          N  \n13 -34.596256 -58.385701          N  \n14 -34.627893 -58.458295          N  \n15 -34.520825 -58.485332          N  \n16   0.000000   0.000000          N  \n17 -34.764091 -58.398621          N  \n18 -34.560842 -58.449841          N  \n19 -34.581691 -58.414435          N  \n20 -34.580101 -58.408191          N  \n21 -34.586090 -58.422310          N  \n22 -34.566744 -58.453445          N  \n23 -34.589375 -58.388536          N  \n24 -34.590488 -58.408384          N  \n25 -34.587061 -58.410916          N  \n26 -34.593032 -58.391347          N  \n27 -34.608787 -58.392012          N  \n28 -34.617352 -58.434391          N  \n29 -34.593885 -58.397898          N  \n30 -34.798951 -58.404243          N  \n31 -34.561708 -58.452373          N  \n32 -34.585935 -58.405188          N  \n33 -34.934655 -57.975326          N  \n34 -37.259025 -56.982672          N  \n35 -34.591519 -58.378118          N  \n36 -34.603435 -58.424113          N  \n37 -37.108689 -56.871028          N  \n38 -37.263550 -56.974521          N  \n39 -34.572857 -58.459282          N  ",
      "text/html": "<div>\n<style scoped>\n    .dataframe tbody tr th:only-of-type {\n        vertical-align: middle;\n    }\n\n    .dataframe tbody tr th {\n        vertical-align: top;\n    }\n\n    .dataframe thead th {\n        text-align: right;\n    }\n</style>\n<table border=\"1\" class=\"dataframe\">\n  <thead>\n    <tr style=\"text-align: right;\">\n      <th></th>\n      <th>id_cadena</th>\n      <th>desc_cadena</th>\n      <th>id_region</th>\n      <th>desc_region</th>\n      <th>idb</th>\n      <th>desc_local</th>\n      <th>latitud</th>\n      <th>longitud</th>\n      <th>punto_dist</th>\n    </tr>\n  </thead>\n  <tbody>\n    <tr>\n      <th>0</th>\n      <td>1</td>\n      <td>Plaza Vea</td>\n      <td>1</td>\n      <td>Buenos Aires</td>\n      <td>9693</td>\n      <td>9693 - P Vea Villa Urquiza.</td>\n      <td>NaN</td>\n      <td>NaN</td>\n      <td>N</td>\n    </tr>\n    <tr>\n      <th>1</th>\n      <td>1</td>\n      <td>Plaza Vea</td>\n      <td>1</td>\n      <td>Buenos Aires</td>\n      <td>9694</td>\n      <td>9694 - P Vea JB Justo.</td>\n      <td>NaN</td>\n      <td>NaN</td>\n      <td>N</td>\n    </tr>\n    <tr>\n      <th>2</th>\n      <td>1</td>\n      <td>Plaza Vea</td>\n      <td>1</td>\n      <td>Buenos Aires</td>\n      <td>9695</td>\n      <td>695 - P Vea Acoyte.</td>\n      <td>0.000000</td>\n      <td>0.000000</td>\n      <td>N</td>\n    </tr>\n    <tr>\n      <th>3</th>\n      <td>1</td>\n      <td>Plaza Vea</td>\n      <td>1</td>\n      <td>Buenos Aires</td>\n      <td>9699</td>\n      <td>699 - P Vea Rivadavia.</td>\n      <td>0.000000</td>\n      <td>0.000000</td>\n      <td>N</td>\n    </tr>\n    <tr>\n      <th>4</th>\n      <td>1</td>\n      <td>Plaza Vea</td>\n      <td>1</td>\n      <td>Buenos Aires</td>\n      <td>9889</td>\n      <td>889 - Plaza Vea Carpa de liqui</td>\n      <td>NaN</td>\n      <td>NaN</td>\n      <td>N</td>\n    </tr>\n    <tr>\n      <th>5</th>\n      <td>2</td>\n      <td>Disco</td>\n      <td>1</td>\n      <td>Buenos Aires</td>\n      <td>247</td>\n      <td>916 - SM 916 Gorostiaga</td>\n      <td>-34.565259</td>\n      <td>-58.436583</td>\n      <td>N</td>\n    </tr>\n    <tr>\n      <th>6</th>\n      <td>2</td>\n      <td>Disco</td>\n      <td>1</td>\n      <td>Buenos Aires</td>\n      <td>257</td>\n      <td>61 - Tortuguitas</td>\n      <td>-34.446043</td>\n      <td>-58.745098</td>\n      <td>N</td>\n    </tr>\n    <tr>\n      <th>7</th>\n      <td>2</td>\n      <td>Disco</td>\n      <td>1</td>\n      <td>Buenos Aires</td>\n      <td>285</td>\n      <td>953 - Venado Tuerto</td>\n      <td>NaN</td>\n      <td>NaN</td>\n      <td>N</td>\n    </tr>\n    <tr>\n      <th>8</th>\n      <td>2</td>\n      <td>Disco</td>\n      <td>1</td>\n      <td>Buenos Aires</td>\n      <td>740</td>\n      <td>740 - Canning</td>\n      <td>-34.853221</td>\n      <td>-58.502247</td>\n      <td>N</td>\n    </tr>\n    <tr>\n      <th>9</th>\n      <td>2</td>\n      <td>Disco</td>\n      <td>1</td>\n      <td>Buenos Aires</td>\n      <td>961</td>\n      <td>961 - Av. Santa FÇ</td>\n      <td>NaN</td>\n      <td>NaN</td>\n      <td>N</td>\n    </tr>\n    <tr>\n      <th>10</th>\n      <td>2</td>\n      <td>Disco</td>\n      <td>1</td>\n      <td>Buenos Aires</td>\n      <td>1190</td>\n      <td>6190 - BT SAF (Importaciones).</td>\n      <td>NaN</td>\n      <td>NaN</td>\n      <td>S</td>\n    </tr>\n    <tr>\n      <th>11</th>\n      <td>2</td>\n      <td>Disco</td>\n      <td>1</td>\n      <td>Buenos Aires</td>\n      <td>1914</td>\n      <td>3914 - Interno SLL BsAs 217.</td>\n      <td>NaN</td>\n      <td>NaN</td>\n      <td>S</td>\n    </tr>\n    <tr>\n      <th>12</th>\n      <td>2</td>\n      <td>Disco</td>\n      <td>1</td>\n      <td>Buenos Aires</td>\n      <td>9001</td>\n      <td>1 - San Isidro.</td>\n      <td>-34.471531</td>\n      <td>-58.515350</td>\n      <td>N</td>\n    </tr>\n    <tr>\n      <th>13</th>\n      <td>2</td>\n      <td>Disco</td>\n      <td>1</td>\n      <td>Buenos Aires</td>\n      <td>9002</td>\n      <td>2 - Talcahuano.</td>\n      <td>-34.596256</td>\n      <td>-58.385701</td>\n      <td>N</td>\n    </tr>\n    <tr>\n      <th>14</th>\n      <td>2</td>\n      <td>Disco</td>\n      <td>1</td>\n      <td>Buenos Aires</td>\n      <td>9003</td>\n      <td>3 - Camacua.</td>\n      <td>-34.627893</td>\n      <td>-58.458295</td>\n      <td>N</td>\n    </tr>\n    <tr>\n      <th>15</th>\n      <td>2</td>\n      <td>Disco</td>\n      <td>1</td>\n      <td>Buenos Aires</td>\n      <td>9004</td>\n      <td>4 - Vicente L¢pez.</td>\n      <td>-34.520825</td>\n      <td>-58.485332</td>\n      <td>N</td>\n    </tr>\n    <tr>\n      <th>16</th>\n      <td>2</td>\n      <td>Disco</td>\n      <td>1</td>\n      <td>Buenos Aires</td>\n      <td>9007</td>\n      <td>7 - Pte. Per¢n.</td>\n      <td>0.000000</td>\n      <td>0.000000</td>\n      <td>N</td>\n    </tr>\n    <tr>\n      <th>17</th>\n      <td>2</td>\n      <td>Disco</td>\n      <td>1</td>\n      <td>Buenos Aires</td>\n      <td>9009</td>\n      <td>9 - Lomas de Zamora.</td>\n      <td>-34.764091</td>\n      <td>-58.398621</td>\n      <td>N</td>\n    </tr>\n    <tr>\n      <th>18</th>\n      <td>2</td>\n      <td>Disco</td>\n      <td>1</td>\n      <td>Buenos Aires</td>\n      <td>9012</td>\n      <td>12 - Sucre.</td>\n      <td>-34.560842</td>\n      <td>-58.449841</td>\n      <td>N</td>\n    </tr>\n    <tr>\n      <th>19</th>\n      <td>2</td>\n      <td>Disco</td>\n      <td>1</td>\n      <td>Buenos Aires</td>\n      <td>9014</td>\n      <td>14 - Las Heras..</td>\n      <td>-34.581691</td>\n      <td>-58.414435</td>\n      <td>N</td>\n    </tr>\n    <tr>\n      <th>20</th>\n      <td>2</td>\n      <td>Disco</td>\n      <td>1</td>\n      <td>Buenos Aires</td>\n      <td>9015</td>\n      <td>15 - Salguero.</td>\n      <td>-34.580101</td>\n      <td>-58.408191</td>\n      <td>N</td>\n    </tr>\n    <tr>\n      <th>21</th>\n      <td>2</td>\n      <td>Disco</td>\n      <td>1</td>\n      <td>Buenos Aires</td>\n      <td>9016</td>\n      <td>16 - Paraguay.</td>\n      <td>-34.586090</td>\n      <td>-58.422310</td>\n      <td>N</td>\n    </tr>\n    <tr>\n      <th>22</th>\n      <td>2</td>\n      <td>Disco</td>\n      <td>1</td>\n      <td>Buenos Aires</td>\n      <td>9017</td>\n      <td>17 - Virrey del Pino.</td>\n      <td>-34.566744</td>\n      <td>-58.453445</td>\n      <td>N</td>\n    </tr>\n    <tr>\n      <th>23</th>\n      <td>2</td>\n      <td>Disco</td>\n      <td>1</td>\n      <td>Buenos Aires</td>\n      <td>9018</td>\n      <td>18 - Quintana.</td>\n      <td>-34.589375</td>\n      <td>-58.388536</td>\n      <td>N</td>\n    </tr>\n    <tr>\n      <th>24</th>\n      <td>2</td>\n      <td>Disco</td>\n      <td>1</td>\n      <td>Buenos Aires</td>\n      <td>9022</td>\n      <td>22 - Santa Fe.</td>\n      <td>-34.590488</td>\n      <td>-58.408384</td>\n      <td>N</td>\n    </tr>\n    <tr>\n      <th>25</th>\n      <td>2</td>\n      <td>Disco</td>\n      <td>1</td>\n      <td>Buenos Aires</td>\n      <td>9023</td>\n      <td>23 - Alto Palermo.</td>\n      <td>-34.587061</td>\n      <td>-58.410916</td>\n      <td>N</td>\n    </tr>\n    <tr>\n      <th>26</th>\n      <td>2</td>\n      <td>Disco</td>\n      <td>1</td>\n      <td>Buenos Aires</td>\n      <td>9025</td>\n      <td>25 - Rodr°guez Pe§a.</td>\n      <td>-34.593032</td>\n      <td>-58.391347</td>\n      <td>N</td>\n    </tr>\n    <tr>\n      <th>27</th>\n      <td>2</td>\n      <td>Disco</td>\n      <td>1</td>\n      <td>Buenos Aires</td>\n      <td>9026</td>\n      <td>26 - Av. Callao.</td>\n      <td>-34.608787</td>\n      <td>-58.392012</td>\n      <td>N</td>\n    </tr>\n    <tr>\n      <th>28</th>\n      <td>2</td>\n      <td>Disco</td>\n      <td>1</td>\n      <td>Buenos Aires</td>\n      <td>9030</td>\n      <td>30 - Rivadavia.</td>\n      <td>-34.617352</td>\n      <td>-58.434391</td>\n      <td>N</td>\n    </tr>\n    <tr>\n      <th>29</th>\n      <td>2</td>\n      <td>Disco</td>\n      <td>1</td>\n      <td>Buenos Aires</td>\n      <td>9035</td>\n      <td>35 - Uriburu.</td>\n      <td>-34.593885</td>\n      <td>-58.397898</td>\n      <td>N</td>\n    </tr>\n    <tr>\n      <th>30</th>\n      <td>2</td>\n      <td>Disco</td>\n      <td>1</td>\n      <td>Buenos Aires</td>\n      <td>9037</td>\n      <td>37 - AdroguÇ.</td>\n      <td>-34.798951</td>\n      <td>-58.404243</td>\n      <td>N</td>\n    </tr>\n    <tr>\n      <th>31</th>\n      <td>2</td>\n      <td>Disco</td>\n      <td>1</td>\n      <td>Buenos Aires</td>\n      <td>9038</td>\n      <td>38 - Arcos.</td>\n      <td>-34.561708</td>\n      <td>-58.452373</td>\n      <td>N</td>\n    </tr>\n    <tr>\n      <th>32</th>\n      <td>2</td>\n      <td>Disco</td>\n      <td>1</td>\n      <td>Buenos Aires</td>\n      <td>9039</td>\n      <td>39 - Pe§a.</td>\n      <td>-34.585935</td>\n      <td>-58.405188</td>\n      <td>N</td>\n    </tr>\n    <tr>\n      <th>33</th>\n      <td>2</td>\n      <td>Disco</td>\n      <td>1</td>\n      <td>Buenos Aires</td>\n      <td>9042</td>\n      <td>42 - La Plata I.</td>\n      <td>-34.934655</td>\n      <td>-57.975326</td>\n      <td>N</td>\n    </tr>\n    <tr>\n      <th>34</th>\n      <td>2</td>\n      <td>Disco</td>\n      <td>1</td>\n      <td>Buenos Aires</td>\n      <td>9045</td>\n      <td>45 - Gesell Boulevard.</td>\n      <td>-37.259025</td>\n      <td>-56.982672</td>\n      <td>N</td>\n    </tr>\n    <tr>\n      <th>35</th>\n      <td>2</td>\n      <td>Disco</td>\n      <td>1</td>\n      <td>Buenos Aires</td>\n      <td>9046</td>\n      <td>46 - Esmeralda.</td>\n      <td>-34.591519</td>\n      <td>-58.378118</td>\n      <td>N</td>\n    </tr>\n    <tr>\n      <th>36</th>\n      <td>2</td>\n      <td>Disco</td>\n      <td>1</td>\n      <td>Buenos Aires</td>\n      <td>9048</td>\n      <td>48 - Gasc¢n.</td>\n      <td>-34.603435</td>\n      <td>-58.424113</td>\n      <td>N</td>\n    </tr>\n    <tr>\n      <th>37</th>\n      <td>2</td>\n      <td>Disco</td>\n      <td>1</td>\n      <td>Buenos Aires</td>\n      <td>9049</td>\n      <td>49 - Pinamar.</td>\n      <td>-37.108689</td>\n      <td>-56.871028</td>\n      <td>N</td>\n    </tr>\n    <tr>\n      <th>38</th>\n      <td>2</td>\n      <td>Disco</td>\n      <td>1</td>\n      <td>Buenos Aires</td>\n      <td>9050</td>\n      <td>50 - Gesell Central.</td>\n      <td>-37.263550</td>\n      <td>-56.974521</td>\n      <td>N</td>\n    </tr>\n    <tr>\n      <th>39</th>\n      <td>2</td>\n      <td>Disco</td>\n      <td>1</td>\n      <td>Buenos Aires</td>\n      <td>9054</td>\n      <td>54 - Elcano.</td>\n      <td>-34.572857</td>\n      <td>-58.459282</td>\n      <td>N</td>\n    </tr>\n  </tbody>\n</table>\n</div>"
     },
     "execution_count": 4,
     "metadata": {},
     "output_type": "execute_result"
    }
   ],
   "source": [
    "locales_df.head(40)\n"
   ],
   "metadata": {
    "collapsed": false
   }
  },
  {
   "cell_type": "code",
   "execution_count": 5,
   "outputs": [
    {
     "name": "stdout",
     "output_type": "stream",
     "text": [
      "<class 'pandas.core.frame.DataFrame'>\n",
      "RangeIndex: 175 entries, 0 to 174\n",
      "Data columns (total 9 columns):\n",
      " #   Column       Non-Null Count  Dtype  \n",
      "---  ------       --------------  -----  \n",
      " 0   id_cadena    175 non-null    int64  \n",
      " 1   desc_cadena  175 non-null    object \n",
      " 2   id_region    175 non-null    int64  \n",
      " 3   desc_region  175 non-null    object \n",
      " 4   idb          175 non-null    int64  \n",
      " 5   desc_local   175 non-null    object \n",
      " 6   latitud      140 non-null    float64\n",
      " 7   longitud     140 non-null    float64\n",
      " 8   punto_dist   175 non-null    object \n",
      "dtypes: float64(2), int64(3), object(4)\n",
      "memory usage: 12.4+ KB\n"
     ]
    }
   ],
   "source": [
    "locales_df.info()"
   ],
   "metadata": {
    "collapsed": false
   }
  },
  {
   "cell_type": "markdown",
   "source": [
    "#### Ajustes al dataframe\n",
    "\n",
    "- Limpiar la descripcion de la región, eliminando el numero y el simbolo (-).\n",
    "- Convertir a minusculas todos los tipos de datos object o string.\n",
    "- Remplazar caracteres especiales con espacio.\n",
    "- Verificar si existen valores nulos o duplicados.\n",
    "- Convertir a 1 y 0 la columna punto de distribucción con la siguiente regla si el valor es 's' = 1 que significa que es un punto de distribucción de lo contrario sería 0.\n",
    "- Crear una nueva columna llamada local usando la columna punto de distribucción.\n",
    "- Rellenar los valores de latitud y longitud con valores Nan con la media de la columna de latitud y longitud.\n",
    "- Buscar los valores de latitud y longitud de regiones con valores 0.00\n"
   ],
   "metadata": {
    "collapsed": false
   }
  },
  {
   "cell_type": "code",
   "execution_count": 6,
   "outputs": [],
   "source": [
    "locales_df = locales_df.applymap(lambda x: x.lower() if isinstance(x, str) else x)"
   ],
   "metadata": {
    "collapsed": false
   }
  },
  {
   "cell_type": "code",
   "execution_count": 7,
   "outputs": [],
   "source": [
    "replace_regex(locales_df, 'desc_local', r'^\\d+\\s*-\\s*', '')"
   ],
   "metadata": {
    "collapsed": false
   }
  },
  {
   "cell_type": "code",
   "execution_count": 8,
   "outputs": [],
   "source": [
    "replace_regex(locales_df, 'desc_local', r'f', 'fé')\n",
    "replace_regex(locales_df, 'desc_local', r'crdoba', 'cordoba')\n",
    "replace_regex(locales_df, 'desc_local', r'fééernando', 'fernando')\n",
    "replace_regex(locales_df, 'desc_local', r'\\bjumbo\\b', '')\n",
    "replace_regex(locales_df, 'desc_local', r'\\brincn\\b', '')\n",
    "replace_regex(locales_df, 'desc_local', r'\\bplaza vea\\b', '')\n",
    "replace_regex(locales_df, 'desc_local', r'\\bp vea\\b', '')"
   ],
   "metadata": {
    "collapsed": false
   }
  },
  {
   "cell_type": "code",
   "execution_count": 9,
   "outputs": [],
   "source": [
    "#locales_df['desc_local'] = locales_df['desc_local'].replace(to_replace=r'[^\\x00-\\x7F]+', value='', regex=True)"
   ],
   "metadata": {
    "collapsed": false
   }
  },
  {
   "cell_type": "code",
   "execution_count": 10,
   "outputs": [
    {
     "name": "stdout",
     "output_type": "stream",
     "text": [
      "id_cadena       0\n",
      "desc_cadena     0\n",
      "id_region       0\n",
      "desc_region     0\n",
      "idb             0\n",
      "desc_local      0\n",
      "latitud        35\n",
      "longitud       35\n",
      "punto_dist      0\n",
      "dtype: int64\n"
     ]
    }
   ],
   "source": [
    "print(locales_df.isna().sum())"
   ],
   "metadata": {
    "collapsed": false
   }
  },
  {
   "cell_type": "code",
   "execution_count": 19,
   "outputs": [
    {
     "data": {
      "text/plain": "id_cadena      0\ndesc_cadena    0\nid_region      0\ndesc_region    0\nidb            0\ndesc_local     0\nlatitud        0\nlongitud       0\npunto_dist     0\nlocal          0\ndtype: int64"
     },
     "execution_count": 19,
     "metadata": {},
     "output_type": "execute_result"
    }
   ],
   "source": [
    "locales_df.isnull().sum(axis=0)"
   ],
   "metadata": {
    "collapsed": false
   }
  },
  {
   "cell_type": "code",
   "execution_count": 12,
   "outputs": [
    {
     "name": "stdout",
     "output_type": "stream",
     "text": [
      "Columna desc_cadena: 5 subnivele(s)\n",
      "Columna desc_region: 1 subnivele(s)\n",
      "Columna desc_local: 175 subnivele(s)\n"
     ]
    }
   ],
   "source": [
    "# Conteo de los niveles en las diferentes columnas categóricas\n",
    "col_categoricas = ['desc_cadena', 'desc_region', 'desc_local']\n",
    "for col in col_categoricas:\n",
    "    print(f'Columna {col}: {locales_df[col].nunique()} subnivele(s)')"
   ],
   "metadata": {
    "collapsed": false
   }
  },
  {
   "cell_type": "code",
   "execution_count": 13,
   "outputs": [],
   "source": [
    "# Convertir la columna categorica punto_dist a numerica, si el valor es s significa que es un punto de distribucción y se asignará el valor de 1, de lo contrario será 0.\n",
    "punto_dist_mapping = {\"s\": 1, \"n\": 0}\n",
    "locales_df['punto_dist'] = locales_df['punto_dist'].map(punto_dist_mapping)"
   ],
   "metadata": {
    "collapsed": false
   }
  },
  {
   "cell_type": "code",
   "execution_count": 14,
   "outputs": [],
   "source": [
    "# Crear una columna para determinar si es un local con base en la columna punto_dist, si el local no es un punto de distribuccion entonces es un local.  Asignaremos 1 para local 0 para no local.\n",
    "locales_df['local'] = locales_df['punto_dist'].apply(lambda x: 1 if x == 0 else 0)"
   ],
   "metadata": {
    "collapsed": false
   }
  },
  {
   "cell_type": "code",
   "execution_count": 15,
   "outputs": [],
   "source": [
    "mean_latitud = locales_df['latitud'].mean()\n",
    "mean_longitud = locales_df['longitud'].mean()\n",
    "locales_df['latitud'].fillna(mean_latitud, inplace=True)\n",
    "locales_df['longitud'].fillna(mean_longitud, inplace=True)"
   ],
   "metadata": {
    "collapsed": false
   }
  },
  {
   "cell_type": "code",
   "execution_count": 16,
   "outputs": [
    {
     "data": {
      "text/plain": "     id_cadena                     desc_cadena  id_region  \\\n0            1  plaza vea                               1   \n1            1  plaza vea                               1   \n2            1  plaza vea                               1   \n3            1  plaza vea                               1   \n4            1  plaza vea                               1   \n..         ...                             ...        ...   \n170         11  rincon jumbo                            1   \n171         11  rincon jumbo                            1   \n172         11  rincon jumbo                            1   \n173         11  rincon jumbo                            1   \n174         11  rincon jumbo                            1   \n\n                        desc_region   idb       desc_local    latitud  \\\n0    buenos aires                    9693   villa urquiza. -31.533832   \n1    buenos aires                    9694        jb justo. -31.533832   \n2    buenos aires                    9695          acoyte.   0.000000   \n3    buenos aires                    9699       rivadavia.   0.000000   \n4    buenos aires                    9889   carpa de liqui -31.533832   \n..                              ...   ...              ...        ...   \n170  buenos aires                    8306   rinc¢n palermo -31.533832   \n171  buenos aires                    8311     rinc¢n pilar   0.000000   \n172  buenos aires                    8314   rinc¢n escobar -31.533832   \n173  buenos aires                    8318   rinc¢n rosario -31.533832   \n174  buenos aires                    8331   rinc¢n almagro -31.533832   \n\n      longitud  punto_dist  local  \n0   -52.839588           0      1  \n1   -52.839588           0      1  \n2     0.000000           0      1  \n3     0.000000           0      1  \n4   -52.839588           0      1  \n..         ...         ...    ...  \n170 -52.839588           0      1  \n171   0.000000           0      1  \n172 -52.839588           0      1  \n173 -52.839588           0      1  \n174 -52.839588           0      1  \n\n[175 rows x 10 columns]",
      "text/html": "<div>\n<style scoped>\n    .dataframe tbody tr th:only-of-type {\n        vertical-align: middle;\n    }\n\n    .dataframe tbody tr th {\n        vertical-align: top;\n    }\n\n    .dataframe thead th {\n        text-align: right;\n    }\n</style>\n<table border=\"1\" class=\"dataframe\">\n  <thead>\n    <tr style=\"text-align: right;\">\n      <th></th>\n      <th>id_cadena</th>\n      <th>desc_cadena</th>\n      <th>id_region</th>\n      <th>desc_region</th>\n      <th>idb</th>\n      <th>desc_local</th>\n      <th>latitud</th>\n      <th>longitud</th>\n      <th>punto_dist</th>\n      <th>local</th>\n    </tr>\n  </thead>\n  <tbody>\n    <tr>\n      <th>0</th>\n      <td>1</td>\n      <td>plaza vea</td>\n      <td>1</td>\n      <td>buenos aires</td>\n      <td>9693</td>\n      <td>villa urquiza.</td>\n      <td>-31.533832</td>\n      <td>-52.839588</td>\n      <td>0</td>\n      <td>1</td>\n    </tr>\n    <tr>\n      <th>1</th>\n      <td>1</td>\n      <td>plaza vea</td>\n      <td>1</td>\n      <td>buenos aires</td>\n      <td>9694</td>\n      <td>jb justo.</td>\n      <td>-31.533832</td>\n      <td>-52.839588</td>\n      <td>0</td>\n      <td>1</td>\n    </tr>\n    <tr>\n      <th>2</th>\n      <td>1</td>\n      <td>plaza vea</td>\n      <td>1</td>\n      <td>buenos aires</td>\n      <td>9695</td>\n      <td>acoyte.</td>\n      <td>0.000000</td>\n      <td>0.000000</td>\n      <td>0</td>\n      <td>1</td>\n    </tr>\n    <tr>\n      <th>3</th>\n      <td>1</td>\n      <td>plaza vea</td>\n      <td>1</td>\n      <td>buenos aires</td>\n      <td>9699</td>\n      <td>rivadavia.</td>\n      <td>0.000000</td>\n      <td>0.000000</td>\n      <td>0</td>\n      <td>1</td>\n    </tr>\n    <tr>\n      <th>4</th>\n      <td>1</td>\n      <td>plaza vea</td>\n      <td>1</td>\n      <td>buenos aires</td>\n      <td>9889</td>\n      <td>carpa de liqui</td>\n      <td>-31.533832</td>\n      <td>-52.839588</td>\n      <td>0</td>\n      <td>1</td>\n    </tr>\n    <tr>\n      <th>...</th>\n      <td>...</td>\n      <td>...</td>\n      <td>...</td>\n      <td>...</td>\n      <td>...</td>\n      <td>...</td>\n      <td>...</td>\n      <td>...</td>\n      <td>...</td>\n      <td>...</td>\n    </tr>\n    <tr>\n      <th>170</th>\n      <td>11</td>\n      <td>rincon jumbo</td>\n      <td>1</td>\n      <td>buenos aires</td>\n      <td>8306</td>\n      <td>rinc¢n palermo</td>\n      <td>-31.533832</td>\n      <td>-52.839588</td>\n      <td>0</td>\n      <td>1</td>\n    </tr>\n    <tr>\n      <th>171</th>\n      <td>11</td>\n      <td>rincon jumbo</td>\n      <td>1</td>\n      <td>buenos aires</td>\n      <td>8311</td>\n      <td>rinc¢n pilar</td>\n      <td>0.000000</td>\n      <td>0.000000</td>\n      <td>0</td>\n      <td>1</td>\n    </tr>\n    <tr>\n      <th>172</th>\n      <td>11</td>\n      <td>rincon jumbo</td>\n      <td>1</td>\n      <td>buenos aires</td>\n      <td>8314</td>\n      <td>rinc¢n escobar</td>\n      <td>-31.533832</td>\n      <td>-52.839588</td>\n      <td>0</td>\n      <td>1</td>\n    </tr>\n    <tr>\n      <th>173</th>\n      <td>11</td>\n      <td>rincon jumbo</td>\n      <td>1</td>\n      <td>buenos aires</td>\n      <td>8318</td>\n      <td>rinc¢n rosario</td>\n      <td>-31.533832</td>\n      <td>-52.839588</td>\n      <td>0</td>\n      <td>1</td>\n    </tr>\n    <tr>\n      <th>174</th>\n      <td>11</td>\n      <td>rincon jumbo</td>\n      <td>1</td>\n      <td>buenos aires</td>\n      <td>8331</td>\n      <td>rinc¢n almagro</td>\n      <td>-31.533832</td>\n      <td>-52.839588</td>\n      <td>0</td>\n      <td>1</td>\n    </tr>\n  </tbody>\n</table>\n<p>175 rows × 10 columns</p>\n</div>"
     },
     "execution_count": 16,
     "metadata": {},
     "output_type": "execute_result"
    }
   ],
   "source": [
    "locales_df.head(200)"
   ],
   "metadata": {
    "collapsed": false
   }
  },
  {
   "cell_type": "code",
   "execution_count": 17,
   "outputs": [
    {
     "data": {
      "text/plain": "        id_cadena  id_region          idb     latitud    longitud  punto_dist  \\\ncount  175.000000      175.0   175.000000  175.000000  175.000000  175.000000   \nmean     4.502857        1.0  6909.617143  -31.533832  -52.839588    0.034286   \nstd      2.945627        0.0  3421.539461    9.580378   15.841742    0.182484   \nmin      1.000000        1.0   242.000000  -45.872649  -67.496036    0.000000   \n25%      2.000000        1.0  5213.500000  -34.660845  -58.535721    0.000000   \n50%      4.000000        1.0  9019.000000  -34.583457  -58.404329    0.000000   \n75%      4.000000        1.0  9158.500000  -31.533832  -52.839588    0.000000   \nmax     11.000000        1.0  9977.000000    0.000000    0.000000    1.000000   \n\n            local  \ncount  175.000000  \nmean     0.965714  \nstd      0.182484  \nmin      0.000000  \n25%      1.000000  \n50%      1.000000  \n75%      1.000000  \nmax      1.000000  ",
      "text/html": "<div>\n<style scoped>\n    .dataframe tbody tr th:only-of-type {\n        vertical-align: middle;\n    }\n\n    .dataframe tbody tr th {\n        vertical-align: top;\n    }\n\n    .dataframe thead th {\n        text-align: right;\n    }\n</style>\n<table border=\"1\" class=\"dataframe\">\n  <thead>\n    <tr style=\"text-align: right;\">\n      <th></th>\n      <th>id_cadena</th>\n      <th>id_region</th>\n      <th>idb</th>\n      <th>latitud</th>\n      <th>longitud</th>\n      <th>punto_dist</th>\n      <th>local</th>\n    </tr>\n  </thead>\n  <tbody>\n    <tr>\n      <th>count</th>\n      <td>175.000000</td>\n      <td>175.0</td>\n      <td>175.000000</td>\n      <td>175.000000</td>\n      <td>175.000000</td>\n      <td>175.000000</td>\n      <td>175.000000</td>\n    </tr>\n    <tr>\n      <th>mean</th>\n      <td>4.502857</td>\n      <td>1.0</td>\n      <td>6909.617143</td>\n      <td>-31.533832</td>\n      <td>-52.839588</td>\n      <td>0.034286</td>\n      <td>0.965714</td>\n    </tr>\n    <tr>\n      <th>std</th>\n      <td>2.945627</td>\n      <td>0.0</td>\n      <td>3421.539461</td>\n      <td>9.580378</td>\n      <td>15.841742</td>\n      <td>0.182484</td>\n      <td>0.182484</td>\n    </tr>\n    <tr>\n      <th>min</th>\n      <td>1.000000</td>\n      <td>1.0</td>\n      <td>242.000000</td>\n      <td>-45.872649</td>\n      <td>-67.496036</td>\n      <td>0.000000</td>\n      <td>0.000000</td>\n    </tr>\n    <tr>\n      <th>25%</th>\n      <td>2.000000</td>\n      <td>1.0</td>\n      <td>5213.500000</td>\n      <td>-34.660845</td>\n      <td>-58.535721</td>\n      <td>0.000000</td>\n      <td>1.000000</td>\n    </tr>\n    <tr>\n      <th>50%</th>\n      <td>4.000000</td>\n      <td>1.0</td>\n      <td>9019.000000</td>\n      <td>-34.583457</td>\n      <td>-58.404329</td>\n      <td>0.000000</td>\n      <td>1.000000</td>\n    </tr>\n    <tr>\n      <th>75%</th>\n      <td>4.000000</td>\n      <td>1.0</td>\n      <td>9158.500000</td>\n      <td>-31.533832</td>\n      <td>-52.839588</td>\n      <td>0.000000</td>\n      <td>1.000000</td>\n    </tr>\n    <tr>\n      <th>max</th>\n      <td>11.000000</td>\n      <td>1.0</td>\n      <td>9977.000000</td>\n      <td>0.000000</td>\n      <td>0.000000</td>\n      <td>1.000000</td>\n      <td>1.000000</td>\n    </tr>\n  </tbody>\n</table>\n</div>"
     },
     "execution_count": 17,
     "metadata": {},
     "output_type": "execute_result"
    }
   ],
   "source": [
    "locales_df.describe()"
   ],
   "metadata": {
    "collapsed": false
   }
  },
  {
   "cell_type": "markdown",
   "source": [
    "#### Observaciones\n",
    "\n",
    "\n"
   ],
   "metadata": {
    "collapsed": false
   }
  },
  {
   "cell_type": "markdown",
   "source": [],
   "metadata": {
    "collapsed": false
   }
  },
  {
   "cell_type": "code",
   "execution_count": 24,
   "outputs": [
    {
     "data": {
      "text/plain": "<folium.folium.Map at 0x7f8187f9cbe0>",
      "text/html": "<div style=\"width:100%;\"><div style=\"position:relative;width:100%;height:0;padding-bottom:60%;\"><span style=\"color:#565656\">Make this Notebook Trusted to load map: File -> Trust Notebook</span><iframe srcdoc=\"&lt;!DOCTYPE html&gt;\n&lt;html&gt;\n&lt;head&gt;\n    \n    &lt;meta http-equiv=&quot;content-type&quot; content=&quot;text/html; charset=UTF-8&quot; /&gt;\n    \n        &lt;script&gt;\n            L_NO_TOUCH = false;\n            L_DISABLE_3D = false;\n        &lt;/script&gt;\n    \n    &lt;style&gt;html, body {width: 100%;height: 100%;margin: 0;padding: 0;}&lt;/style&gt;\n    &lt;style&gt;#map {position:absolute;top:0;bottom:0;right:0;left:0;}&lt;/style&gt;\n    &lt;script src=&quot;https://cdn.jsdelivr.net/npm/leaflet@1.9.3/dist/leaflet.js&quot;&gt;&lt;/script&gt;\n    &lt;script src=&quot;https://code.jquery.com/jquery-1.12.4.min.js&quot;&gt;&lt;/script&gt;\n    &lt;script src=&quot;https://cdn.jsdelivr.net/npm/bootstrap@5.2.2/dist/js/bootstrap.bundle.min.js&quot;&gt;&lt;/script&gt;\n    &lt;script src=&quot;https://cdnjs.cloudflare.com/ajax/libs/Leaflet.awesome-markers/2.0.2/leaflet.awesome-markers.js&quot;&gt;&lt;/script&gt;\n    &lt;link rel=&quot;stylesheet&quot; href=&quot;https://cdn.jsdelivr.net/npm/leaflet@1.9.3/dist/leaflet.css&quot;/&gt;\n    &lt;link rel=&quot;stylesheet&quot; href=&quot;https://cdn.jsdelivr.net/npm/bootstrap@5.2.2/dist/css/bootstrap.min.css&quot;/&gt;\n    &lt;link rel=&quot;stylesheet&quot; href=&quot;https://netdna.bootstrapcdn.com/bootstrap/3.0.0/css/bootstrap.min.css&quot;/&gt;\n    &lt;link rel=&quot;stylesheet&quot; href=&quot;https://cdn.jsdelivr.net/npm/@fortawesome/fontawesome-free@6.2.0/css/all.min.css&quot;/&gt;\n    &lt;link rel=&quot;stylesheet&quot; href=&quot;https://cdnjs.cloudflare.com/ajax/libs/Leaflet.awesome-markers/2.0.2/leaflet.awesome-markers.css&quot;/&gt;\n    &lt;link rel=&quot;stylesheet&quot; href=&quot;https://cdn.jsdelivr.net/gh/python-visualization/folium/folium/templates/leaflet.awesome.rotate.min.css&quot;/&gt;\n    \n            &lt;meta name=&quot;viewport&quot; content=&quot;width=device-width,\n                initial-scale=1.0, maximum-scale=1.0, user-scalable=no&quot; /&gt;\n            &lt;style&gt;\n                #map_bf9ccbfd00f7e9f4be4b1735f935be03 {\n                    position: relative;\n                    width: 100.0%;\n                    height: 100.0%;\n                    left: 0.0%;\n                    top: 0.0%;\n                }\n                .leaflet-container { font-size: 1rem; }\n            &lt;/style&gt;\n        \n&lt;/head&gt;\n&lt;body&gt;\n    \n    \n            &lt;div class=&quot;folium-map&quot; id=&quot;map_bf9ccbfd00f7e9f4be4b1735f935be03&quot; &gt;&lt;/div&gt;\n        \n&lt;/body&gt;\n&lt;script&gt;\n    \n    \n            var map_bf9ccbfd00f7e9f4be4b1735f935be03 = L.map(\n                &quot;map_bf9ccbfd00f7e9f4be4b1735f935be03&quot;,\n                {\n                    center: [-31.533831567142858, -52.83958754857142],\n                    crs: L.CRS.EPSG3857,\n                    zoom: 5,\n                    zoomControl: true,\n                    preferCanvas: false,\n                }\n            );\n\n            \n\n        \n    \n            var tile_layer_ddfdf515db55db65fe75196b43b37465 = L.tileLayer(\n                &quot;https://{s}.tile.openstreetmap.org/{z}/{x}/{y}.png&quot;,\n                {&quot;attribution&quot;: &quot;Data by \\u0026copy; \\u003ca target=\\&quot;_blank\\&quot; href=\\&quot;http://openstreetmap.org\\&quot;\\u003eOpenStreetMap\\u003c/a\\u003e, under \\u003ca target=\\&quot;_blank\\&quot; href=\\&quot;http://www.openstreetmap.org/copyright\\&quot;\\u003eODbL\\u003c/a\\u003e.&quot;, &quot;detectRetina&quot;: false, &quot;maxNativeZoom&quot;: 18, &quot;maxZoom&quot;: 18, &quot;minZoom&quot;: 0, &quot;noWrap&quot;: false, &quot;opacity&quot;: 1, &quot;subdomains&quot;: &quot;abc&quot;, &quot;tms&quot;: false}\n            ).addTo(map_bf9ccbfd00f7e9f4be4b1735f935be03);\n        \n    \n            var marker_721b153b339021235c2ec35f960f20eb = L.marker(\n                [-31.533831567142858, -52.83958754857142],\n                {}\n            ).addTo(map_bf9ccbfd00f7e9f4be4b1735f935be03);\n        \n    \n            var marker_36c068eed2ef9da5c07fba0f02d5ba43 = L.marker(\n                [-31.533831567142858, -52.83958754857142],\n                {}\n            ).addTo(map_bf9ccbfd00f7e9f4be4b1735f935be03);\n        \n    \n            var marker_593d8814e5588393596825984b5fc9e1 = L.marker(\n                [0.0, 0.0],\n                {}\n            ).addTo(map_bf9ccbfd00f7e9f4be4b1735f935be03);\n        \n    \n            var marker_fe64d327f163da3a9e1c1b2b578359c4 = L.marker(\n                [0.0, 0.0],\n                {}\n            ).addTo(map_bf9ccbfd00f7e9f4be4b1735f935be03);\n        \n    \n            var marker_8b5e6c36f9f9dc5831cd4850ebd56341 = L.marker(\n                [-31.533831567142858, -52.83958754857142],\n                {}\n            ).addTo(map_bf9ccbfd00f7e9f4be4b1735f935be03);\n        \n    \n            var marker_1a3045a93928eb7589ba4b0c859a0a2a = L.marker(\n                [-34.565259, -58.436583],\n                {}\n            ).addTo(map_bf9ccbfd00f7e9f4be4b1735f935be03);\n        \n    \n            var marker_dff81656efc3ed527a07b70f9f6089b4 = L.marker(\n                [-34.446043, -58.745098],\n                {}\n            ).addTo(map_bf9ccbfd00f7e9f4be4b1735f935be03);\n        \n    \n            var marker_30f1a32726dd33d641f2f90b3c1821cd = L.marker(\n                [-31.533831567142858, -52.83958754857142],\n                {}\n            ).addTo(map_bf9ccbfd00f7e9f4be4b1735f935be03);\n        \n    \n            var marker_6bb4ec00674cd9e8c56389201910da68 = L.marker(\n                [-34.853221, -58.502247],\n                {}\n            ).addTo(map_bf9ccbfd00f7e9f4be4b1735f935be03);\n        \n    \n            var marker_cdf93654c64150b7e8443790b2a7e1a2 = L.marker(\n                [-31.533831567142858, -52.83958754857142],\n                {}\n            ).addTo(map_bf9ccbfd00f7e9f4be4b1735f935be03);\n        \n    \n            var marker_f3645649aeaf807af4f9571665ccf7d3 = L.marker(\n                [-31.533831567142858, -52.83958754857142],\n                {}\n            ).addTo(map_bf9ccbfd00f7e9f4be4b1735f935be03);\n        \n    \n            var marker_f3874c91604ef0cb5a9d626f19f286da = L.marker(\n                [-31.533831567142858, -52.83958754857142],\n                {}\n            ).addTo(map_bf9ccbfd00f7e9f4be4b1735f935be03);\n        \n    \n            var marker_e0ae1732020285b50f5f49745fc9c6aa = L.marker(\n                [-34.4715309, -58.5153501],\n                {}\n            ).addTo(map_bf9ccbfd00f7e9f4be4b1735f935be03);\n        \n    \n            var marker_1b9a51f082833197dd28427497aae9b5 = L.marker(\n                [-34.5962563, -58.3857009],\n                {}\n            ).addTo(map_bf9ccbfd00f7e9f4be4b1735f935be03);\n        \n    \n            var marker_4cfe914d0093de0b90a754f0250839f0 = L.marker(\n                [-34.627893, -58.458295],\n                {}\n            ).addTo(map_bf9ccbfd00f7e9f4be4b1735f935be03);\n        \n    \n            var marker_869854aedc9e64bd2b9f5c9ccde95e44 = L.marker(\n                [-34.520825, -58.485332],\n                {}\n            ).addTo(map_bf9ccbfd00f7e9f4be4b1735f935be03);\n        \n    \n            var marker_a396684e9d4a820ffe2373d9fc6af9be = L.marker(\n                [0.0, 0.0],\n                {}\n            ).addTo(map_bf9ccbfd00f7e9f4be4b1735f935be03);\n        \n    \n            var marker_26f66f77445b558b5f0701cdca5e6006 = L.marker(\n                [-34.764091, -58.398621],\n                {}\n            ).addTo(map_bf9ccbfd00f7e9f4be4b1735f935be03);\n        \n    \n            var marker_78d8e9c6c00e29b34745c04374d3c313 = L.marker(\n                [-34.560842, -58.449841],\n                {}\n            ).addTo(map_bf9ccbfd00f7e9f4be4b1735f935be03);\n        \n    \n            var marker_7d9fd13cf6e513dd1ffe4ead664430cb = L.marker(\n                [-34.581691, -58.414435],\n                {}\n            ).addTo(map_bf9ccbfd00f7e9f4be4b1735f935be03);\n        \n    \n            var marker_3f8d349587956a1ceb2fc859bbe93b5b = L.marker(\n                [-34.580101, -58.408191],\n                {}\n            ).addTo(map_bf9ccbfd00f7e9f4be4b1735f935be03);\n        \n    \n            var marker_9855b8f4e044841945c63b2cbdd8ea12 = L.marker(\n                [-34.58609, -58.42231],\n                {}\n            ).addTo(map_bf9ccbfd00f7e9f4be4b1735f935be03);\n        \n    \n            var marker_766a07d9801ea87791a6a52bcba75385 = L.marker(\n                [-34.566744, -58.453445],\n                {}\n            ).addTo(map_bf9ccbfd00f7e9f4be4b1735f935be03);\n        \n    \n            var marker_3d9c38758bebcb0c113799a2218482ba = L.marker(\n                [-34.589375, -58.388536],\n                {}\n            ).addTo(map_bf9ccbfd00f7e9f4be4b1735f935be03);\n        \n    \n            var marker_bbfc6fec0c48d298eee990059e946459 = L.marker(\n                [-34.590488, -58.408384],\n                {}\n            ).addTo(map_bf9ccbfd00f7e9f4be4b1735f935be03);\n        \n    \n            var marker_4afd440d305b99fa067e9263afb6eacc = L.marker(\n                [-34.587061, -58.410916],\n                {}\n            ).addTo(map_bf9ccbfd00f7e9f4be4b1735f935be03);\n        \n    \n            var marker_2a5256194f0d43edb4fb592558c2e739 = L.marker(\n                [-34.593032, -58.391347],\n                {}\n            ).addTo(map_bf9ccbfd00f7e9f4be4b1735f935be03);\n        \n    \n            var marker_d2ee11791c35e9180f2b891e5a498835 = L.marker(\n                [-34.608787, -58.392012],\n                {}\n            ).addTo(map_bf9ccbfd00f7e9f4be4b1735f935be03);\n        \n    \n            var marker_c7b984a889c731017c96225e4e631238 = L.marker(\n                [-34.617352, -58.434391],\n                {}\n            ).addTo(map_bf9ccbfd00f7e9f4be4b1735f935be03);\n        \n    \n            var marker_3d194041b99751d2081c5c8e9a469cc4 = L.marker(\n                [-34.593885, -58.3978981],\n                {}\n            ).addTo(map_bf9ccbfd00f7e9f4be4b1735f935be03);\n        \n    \n            var marker_16edb8889ee95a74d3f905ef10aeb793 = L.marker(\n                [-34.798951, -58.404243],\n                {}\n            ).addTo(map_bf9ccbfd00f7e9f4be4b1735f935be03);\n        \n    \n            var marker_2b2e4883de2469fae4934ffb23cf8f82 = L.marker(\n                [-34.561708, -58.452373],\n                {}\n            ).addTo(map_bf9ccbfd00f7e9f4be4b1735f935be03);\n        \n    \n            var marker_14a25219ace07f367a3e9be3c998c496 = L.marker(\n                [-34.5859346, -58.4051877],\n                {}\n            ).addTo(map_bf9ccbfd00f7e9f4be4b1735f935be03);\n        \n    \n            var marker_25a279d428c1e272d28933be744749d3 = L.marker(\n                [-34.934655, -57.975326],\n                {}\n            ).addTo(map_bf9ccbfd00f7e9f4be4b1735f935be03);\n        \n    \n            var marker_e2826e4554c96c1dfe3aaed82e3ddf23 = L.marker(\n                [-37.259025, -56.982672],\n                {}\n            ).addTo(map_bf9ccbfd00f7e9f4be4b1735f935be03);\n        \n    \n            var marker_95987ffedde75526b92ceb3565b1c73e = L.marker(\n                [-34.5915193, -58.378118],\n                {}\n            ).addTo(map_bf9ccbfd00f7e9f4be4b1735f935be03);\n        \n    \n            var marker_2522a867621f0e416f64a0ddadea980a = L.marker(\n                [-34.603435, -58.424113],\n                {}\n            ).addTo(map_bf9ccbfd00f7e9f4be4b1735f935be03);\n        \n    \n            var marker_b98bee5cb789074fb2b1bee200aa7182 = L.marker(\n                [-37.108689, -56.871028],\n                {}\n            ).addTo(map_bf9ccbfd00f7e9f4be4b1735f935be03);\n        \n    \n            var marker_ee071fef7bca627ca61235a1d50e0024 = L.marker(\n                [-37.2635495, -56.9745208],\n                {}\n            ).addTo(map_bf9ccbfd00f7e9f4be4b1735f935be03);\n        \n    \n            var marker_0fde06d41f9fde4cc24f91e85b769baf = L.marker(\n                [-34.572857, -58.459282],\n                {}\n            ).addTo(map_bf9ccbfd00f7e9f4be4b1735f935be03);\n        \n    \n            var marker_254be95bb297000f3f39615597287f80 = L.marker(\n                [-38.024498, -57.563767],\n                {}\n            ).addTo(map_bf9ccbfd00f7e9f4be4b1735f935be03);\n        \n    \n            var marker_ec39f59ddf421d3ddd7deb81c8d917d3 = L.marker(\n                [-38.0016165, -57.5499759],\n                {}\n            ).addTo(map_bf9ccbfd00f7e9f4be4b1735f935be03);\n        \n    \n            var marker_1c72d6d83a9b43910d7982424cc111ae = L.marker(\n                [-37.960018, -57.564476],\n                {}\n            ).addTo(map_bf9ccbfd00f7e9f4be4b1735f935be03);\n        \n    \n            var marker_bc134e6f2174313a8ce9606065b71792 = L.marker(\n                [-37.998259, -57.545421],\n                {}\n            ).addTo(map_bf9ccbfd00f7e9f4be4b1735f935be03);\n        \n    \n            var marker_906495e5098b6ebc88c1fedadcc59835 = L.marker(\n                [-34.915544, -57.942746],\n                {}\n            ).addTo(map_bf9ccbfd00f7e9f4be4b1735f935be03);\n        \n    \n            var marker_8f0e5255e684319bf54630a8f92fbd45 = L.marker(\n                [-34.569783, -58.470676],\n                {}\n            ).addTo(map_bf9ccbfd00f7e9f4be4b1735f935be03);\n        \n    \n            var marker_ebf723bd430a76c3d1a8e91cd35a242d = L.marker(\n                [-34.786031, -58.252974],\n                {}\n            ).addTo(map_bf9ccbfd00f7e9f4be4b1735f935be03);\n        \n    \n            var marker_ae846119394a21072c630793c4980895 = L.marker(\n                [-34.738192, -58.408967],\n                {}\n            ).addTo(map_bf9ccbfd00f7e9f4be4b1735f935be03);\n        \n    \n            var marker_a3cc8ef792232b8420d622f04084b89c = L.marker(\n                [-34.596317, -58.389805],\n                {}\n            ).addTo(map_bf9ccbfd00f7e9f4be4b1735f935be03);\n        \n    \n            var marker_11dadc82f98505569a00d6005908a8b1 = L.marker(\n                [-34.6547671, -58.50615],\n                {}\n            ).addTo(map_bf9ccbfd00f7e9f4be4b1735f935be03);\n        \n    \n            var marker_a70201468a3ba1e46fe9136ebf3fb290 = L.marker(\n                [-34.6417334, -58.5710307],\n                {}\n            ).addTo(map_bf9ccbfd00f7e9f4be4b1735f935be03);\n        \n    \n            var marker_1452e886f44decf9d4df3c7843212f1d = L.marker(\n                [-34.6539, -58.6207],\n                {}\n            ).addTo(map_bf9ccbfd00f7e9f4be4b1735f935be03);\n        \n    \n            var marker_36bc1b75a8e23e4c8729d4eed2d1daed = L.marker(\n                [-34.649273, -58.654032],\n                {}\n            ).addTo(map_bf9ccbfd00f7e9f4be4b1735f935be03);\n        \n    \n            var marker_e1950265e077da0bf74b59c981e7fea6 = L.marker(\n                [-34.634367, -58.791778],\n                {}\n            ).addTo(map_bf9ccbfd00f7e9f4be4b1735f935be03);\n        \n    \n            var marker_cc304e642d36e52914ec091aa13d738b = L.marker(\n                [-34.5614535, -58.6802181],\n                {}\n            ).addTo(map_bf9ccbfd00f7e9f4be4b1735f935be03);\n        \n    \n            var marker_1cd9d320dead48725ee18ec6393215f3 = L.marker(\n                [0.0, 0.0],\n                {}\n            ).addTo(map_bf9ccbfd00f7e9f4be4b1735f935be03);\n        \n    \n            var marker_71781a8c8d51eb52a0a16d68d447795d = L.marker(\n                [-34.807942, -58.508362],\n                {}\n            ).addTo(map_bf9ccbfd00f7e9f4be4b1735f935be03);\n        \n    \n            var marker_4427f879997736781da8bcf39452148c = L.marker(\n                [-38.014727, -57.539134],\n                {}\n            ).addTo(map_bf9ccbfd00f7e9f4be4b1735f935be03);\n        \n    \n            var marker_f0ac842d0ae14a3368fb2a6ab3fdf048 = L.marker(\n                [-34.4657445, -58.5749095],\n                {}\n            ).addTo(map_bf9ccbfd00f7e9f4be4b1735f935be03);\n        \n    \n            var marker_1bfa03c361c8de1ff39781d6c8e8cb95 = L.marker(\n                [-34.6003328, -58.502862],\n                {}\n            ).addTo(map_bf9ccbfd00f7e9f4be4b1735f935be03);\n        \n    \n            var marker_91fbcefae0adc0bfce7c10af4dd93c69 = L.marker(\n                [-34.6224616, -58.4348107],\n                {}\n            ).addTo(map_bf9ccbfd00f7e9f4be4b1735f935be03);\n        \n    \n            var marker_338ec6dac6572560dc214192fc1666d4 = L.marker(\n                [-36.688037, -56.683531],\n                {}\n            ).addTo(map_bf9ccbfd00f7e9f4be4b1735f935be03);\n        \n    \n            var marker_63885e8ec6f37d30ff9c6b187e6a50cf = L.marker(\n                [-34.6133869, -58.3917308],\n                {}\n            ).addTo(map_bf9ccbfd00f7e9f4be4b1735f935be03);\n        \n    \n            var marker_79cd24e597b4698437c57dc7a39f7aed = L.marker(\n                [0.0, 0.0],\n                {}\n            ).addTo(map_bf9ccbfd00f7e9f4be4b1735f935be03);\n        \n    \n            var marker_f13f845026f9ea9a235d58b371df0f3c = L.marker(\n                [-34.629588, -58.445295],\n                {}\n            ).addTo(map_bf9ccbfd00f7e9f4be4b1735f935be03);\n        \n    \n            var marker_14265d44cb8c6b511c11e186eef18390 = L.marker(\n                [-34.564535, -58.451564],\n                {}\n            ).addTo(map_bf9ccbfd00f7e9f4be4b1735f935be03);\n        \n    \n            var marker_1867435f91895214a0531c46ae7b2dc9 = L.marker(\n                [-34.58321, -60.95419],\n                {}\n            ).addTo(map_bf9ccbfd00f7e9f4be4b1735f935be03);\n        \n    \n            var marker_7effa4fb22492570730bc7664b474020 = L.marker(\n                [-31.533831567142858, -52.83958754857142],\n                {}\n            ).addTo(map_bf9ccbfd00f7e9f4be4b1735f935be03);\n        \n    \n            var marker_f7eb62b85aa5ccec8af4af18d0e1429d = L.marker(\n                [-34.691168, -58.498985],\n                {}\n            ).addTo(map_bf9ccbfd00f7e9f4be4b1735f935be03);\n        \n    \n            var marker_46aee5be644ca983b73f2e0ea3ecd96f = L.marker(\n                [-31.533831567142858, -52.83958754857142],\n                {}\n            ).addTo(map_bf9ccbfd00f7e9f4be4b1735f935be03);\n        \n    \n            var marker_66a85f3da3529b0fde36bb651e9b91ca = L.marker(\n                [0.0, 0.0],\n                {}\n            ).addTo(map_bf9ccbfd00f7e9f4be4b1735f935be03);\n        \n    \n            var marker_3a2329b6d0cb1e1548b9f816de42ae7e = L.marker(\n                [-31.533831567142858, -52.83958754857142],\n                {}\n            ).addTo(map_bf9ccbfd00f7e9f4be4b1735f935be03);\n        \n    \n            var marker_052b6647089533b061af9d1ca68e1d22 = L.marker(\n                [-34.8918342, -60.0206],\n                {}\n            ).addTo(map_bf9ccbfd00f7e9f4be4b1735f935be03);\n        \n    \n            var marker_2a7385443d03254b521098e8704dbe1b = L.marker(\n                [-38.561925, -58.729802],\n                {}\n            ).addTo(map_bf9ccbfd00f7e9f4be4b1735f935be03);\n        \n    \n            var marker_9cb7b73398574af2b0b8c4292e0633e3 = L.marker(\n                [-34.665727, -58.696967],\n                {}\n            ).addTo(map_bf9ccbfd00f7e9f4be4b1735f935be03);\n        \n    \n            var marker_56b1539bc7df9ce7418fc1c8141f4e7d = L.marker(\n                [-36.360308, -56.722051],\n                {}\n            ).addTo(map_bf9ccbfd00f7e9f4be4b1735f935be03);\n        \n    \n            var marker_f97e13205463aa0b46fb02588cd30e2d = L.marker(\n                [-32.946868, -60.636206],\n                {}\n            ).addTo(map_bf9ccbfd00f7e9f4be4b1735f935be03);\n        \n    \n            var marker_f2bf3e3699eeaf19776920a7ae8ccd21 = L.marker(\n                [-33.677926, -59.668511],\n                {}\n            ).addTo(map_bf9ccbfd00f7e9f4be4b1735f935be03);\n        \n    \n            var marker_3982da7012486a297244a88fdd034067 = L.marker(\n                [-34.403227, -60.733159],\n                {}\n            ).addTo(map_bf9ccbfd00f7e9f4be4b1735f935be03);\n        \n    \n            var marker_ac34a849b89b1bdf436910e750c18b3f = L.marker(\n                [-33.899131, -60.576621],\n                {}\n            ).addTo(map_bf9ccbfd00f7e9f4be4b1735f935be03);\n        \n    \n            var marker_74baee869f50263d6986d3daeec091c6 = L.marker(\n                [0.0, 0.0],\n                {}\n            ).addTo(map_bf9ccbfd00f7e9f4be4b1735f935be03);\n        \n    \n            var marker_eb2fce31da3ce103f18472e314d8c571 = L.marker(\n                [-35.635604, -59.776489],\n                {}\n            ).addTo(map_bf9ccbfd00f7e9f4be4b1735f935be03);\n        \n    \n            var marker_5b366b1423224deb54e1a4a5e1162edf = L.marker(\n                [-30.739331, -57.966514],\n                {}\n            ).addTo(map_bf9ccbfd00f7e9f4be4b1735f935be03);\n        \n    \n            var marker_f1553f9e71a681783a832f9f93000283 = L.marker(\n                [-33.010391, -58.526405],\n                {}\n            ).addTo(map_bf9ccbfd00f7e9f4be4b1735f935be03);\n        \n    \n            var marker_6a8f9a8fac988cf1da3c457836f137fd = L.marker(\n                [-29.141976, -59.265382],\n                {}\n            ).addTo(map_bf9ccbfd00f7e9f4be4b1735f935be03);\n        \n    \n            var marker_4894be1e3a61abe0c2d7bb82b29f5554 = L.marker(\n                [-29.715194, -57.088845],\n                {}\n            ).addTo(map_bf9ccbfd00f7e9f4be4b1735f935be03);\n        \n    \n            var marker_b2571c50ddea1902917315357acc8c56 = L.marker(\n                [-34.4934, -58.627174],\n                {}\n            ).addTo(map_bf9ccbfd00f7e9f4be4b1735f935be03);\n        \n    \n            var marker_13b5089de511f1f68d8a058b41a701f5 = L.marker(\n                [-37.327035, -59.132931],\n                {}\n            ).addTo(map_bf9ccbfd00f7e9f4be4b1735f935be03);\n        \n    \n            var marker_4135cbf4063aba176226961e39f7c3fd = L.marker(\n                [-34.637957, -58.377636],\n                {}\n            ).addTo(map_bf9ccbfd00f7e9f4be4b1735f935be03);\n        \n    \n            var marker_b4a04e006bb53abfc15bde0e97473759 = L.marker(\n                [-43.2688, -65.281627],\n                {}\n            ).addTo(map_bf9ccbfd00f7e9f4be4b1735f935be03);\n        \n    \n            var marker_32d1d3cce06d9fd8f73f669440595349 = L.marker(\n                [-34.595805, -60.928165],\n                {}\n            ).addTo(map_bf9ccbfd00f7e9f4be4b1735f935be03);\n        \n    \n            var marker_5eff1f8f56150902b35fa27137a95f95 = L.marker(\n                [-31.384417, -58.020819],\n                {}\n            ).addTo(map_bf9ccbfd00f7e9f4be4b1735f935be03);\n        \n    \n            var marker_4f2370800bd6e0a679972ea35f1c7578 = L.marker(\n                [-31.755795, -60.496477],\n                {}\n            ).addTo(map_bf9ccbfd00f7e9f4be4b1735f935be03);\n        \n    \n            var marker_db8658684ef54fc195bc8fe771ffda97 = L.marker(\n                [-34.590859, -58.414865],\n                {}\n            ).addTo(map_bf9ccbfd00f7e9f4be4b1735f935be03);\n        \n    \n            var marker_385a023accbb6bd65e155d81208bae28 = L.marker(\n                [-34.625104, -58.447309],\n                {}\n            ).addTo(map_bf9ccbfd00f7e9f4be4b1735f935be03);\n        \n    \n            var marker_0e228eb5f48ed80b77728e118bd6f726 = L.marker(\n                [-34.598614, -58.402398],\n                {}\n            ).addTo(map_bf9ccbfd00f7e9f4be4b1735f935be03);\n        \n    \n            var marker_f37bb81909c2fe68c18082fcebbb0c6c = L.marker(\n                [-34.613838, -58.420486],\n                {}\n            ).addTo(map_bf9ccbfd00f7e9f4be4b1735f935be03);\n        \n    \n            var marker_31fdd7e7b1e0125975d197dd2e81151f = L.marker(\n                [-34.599373, -58.417697],\n                {}\n            ).addTo(map_bf9ccbfd00f7e9f4be4b1735f935be03);\n        \n    \n            var marker_9ba019ada0079c08e8e61fd28e587f26 = L.marker(\n                [-34.703165, -58.391991],\n                {}\n            ).addTo(map_bf9ccbfd00f7e9f4be4b1735f935be03);\n        \n    \n            var marker_ff8af8ca45c4ca4b9028bea76beacd5c = L.marker(\n                [-34.593668, -58.404329],\n                {}\n            ).addTo(map_bf9ccbfd00f7e9f4be4b1735f935be03);\n        \n    \n            var marker_905bbd5fe225c34cad960f2ae737ba43 = L.marker(\n                [-34.726218, -58.395638],\n                {}\n            ).addTo(map_bf9ccbfd00f7e9f4be4b1735f935be03);\n        \n    \n            var marker_612608c65f6c4dbf2cf689db1f6b63b7 = L.marker(\n                [-34.9074365, -57.949567],\n                {}\n            ).addTo(map_bf9ccbfd00f7e9f4be4b1735f935be03);\n        \n    \n            var marker_976bf9544a1511c8cbeefa498feedf81 = L.marker(\n                [-37.991867, -57.559326],\n                {}\n            ).addTo(map_bf9ccbfd00f7e9f4be4b1735f935be03);\n        \n    \n            var marker_944d5c2328855b2eb7a9e1d1ab9ff1bf = L.marker(\n                [-34.61495, -58.434477],\n                {}\n            ).addTo(map_bf9ccbfd00f7e9f4be4b1735f935be03);\n        \n    \n            var marker_6e5540f245e7682bd9bef2cff88c48ef = L.marker(\n                [-31.533831567142858, -52.83958754857142],\n                {}\n            ).addTo(map_bf9ccbfd00f7e9f4be4b1735f935be03);\n        \n    \n            var marker_219be679119ef607cef628a497528d13 = L.marker(\n                [-31.533831567142858, -52.83958754857142],\n                {}\n            ).addTo(map_bf9ccbfd00f7e9f4be4b1735f935be03);\n        \n    \n            var marker_a1e897ed5a42d09a1d5c6b9ddc2aedb1 = L.marker(\n                [-34.6487126, -58.6115311],\n                {}\n            ).addTo(map_bf9ccbfd00f7e9f4be4b1735f935be03);\n        \n    \n            var marker_e835d718a27b03003deb1553cd1312b9 = L.marker(\n                [-34.655963, -58.651543],\n                {}\n            ).addTo(map_bf9ccbfd00f7e9f4be4b1735f935be03);\n        \n    \n            var marker_0cfeb9a9ea7f751a0c763cde919eaef3 = L.marker(\n                [-34.568452, -58.742759],\n                {}\n            ).addTo(map_bf9ccbfd00f7e9f4be4b1735f935be03);\n        \n    \n            var marker_19fec43a7b6bf1fe89a5d6141e2bcea4 = L.marker(\n                [-34.6668243, -58.7273322],\n                {}\n            ).addTo(map_bf9ccbfd00f7e9f4be4b1735f935be03);\n        \n    \n            var marker_fabd320a5cc43917bb8a23caaa54f874 = L.marker(\n                [-34.6729584, -58.7239622],\n                {}\n            ).addTo(map_bf9ccbfd00f7e9f4be4b1735f935be03);\n        \n    \n            var marker_c45d6482f5c2c07cc41b3805b0ae2245 = L.marker(\n                [-34.643518, -58.789194],\n                {}\n            ).addTo(map_bf9ccbfd00f7e9f4be4b1735f935be03);\n        \n    \n            var marker_a282e970a3343e004e6a31e7e0c30105 = L.marker(\n                [-34.562532, -59.117523],\n                {}\n            ).addTo(map_bf9ccbfd00f7e9f4be4b1735f935be03);\n        \n    \n            var marker_e86786dd2b1dd4ba3a004eb585e74a61 = L.marker(\n                [-34.602976, -58.635385],\n                {}\n            ).addTo(map_bf9ccbfd00f7e9f4be4b1735f935be03);\n        \n    \n            var marker_42007b52fdebe81e2f24e2955abe6ba3 = L.marker(\n                [-34.6531158, -59.4326084],\n                {}\n            ).addTo(map_bf9ccbfd00f7e9f4be4b1735f935be03);\n        \n    \n            var marker_d9ef0b16436cc61cd91f37e5c2a6546b = L.marker(\n                [-34.6101417, -58.5615015],\n                {}\n            ).addTo(map_bf9ccbfd00f7e9f4be4b1735f935be03);\n        \n    \n            var marker_7b1e9b048b154ddb50f122bee4d86b87 = L.marker(\n                [-34.6217365, -58.4254639],\n                {}\n            ).addTo(map_bf9ccbfd00f7e9f4be4b1735f935be03);\n        \n    \n            var marker_8eeb8d752191b13a52716b1451f22e2f = L.marker(\n                [-38.046367, -57.55394],\n                {}\n            ).addTo(map_bf9ccbfd00f7e9f4be4b1735f935be03);\n        \n    \n            var marker_bca3349b94917361817bf142172698a9 = L.marker(\n                [-31.533831567142858, -52.83958754857142],\n                {}\n            ).addTo(map_bf9ccbfd00f7e9f4be4b1735f935be03);\n        \n    \n            var marker_9111082eab2acb9f5a54d721474df4c1 = L.marker(\n                [-31.533831567142858, -52.83958754857142],\n                {}\n            ).addTo(map_bf9ccbfd00f7e9f4be4b1735f935be03);\n        \n    \n            var marker_de533d601939d09690bb576b34dd16f9 = L.marker(\n                [-31.533831567142858, -52.83958754857142],\n                {}\n            ).addTo(map_bf9ccbfd00f7e9f4be4b1735f935be03);\n        \n    \n            var marker_773f431f345f6a717c4c8b0da7fa963f = L.marker(\n                [-34.91673, -57.956336],\n                {}\n            ).addTo(map_bf9ccbfd00f7e9f4be4b1735f935be03);\n        \n    \n            var marker_95f1c1f6dcc84ef404bc65f519246236 = L.marker(\n                [-34.554674, -58.483486],\n                {}\n            ).addTo(map_bf9ccbfd00f7e9f4be4b1735f935be03);\n        \n    \n            var marker_2d7f1e5ee9158558f9433fef050220bb = L.marker(\n                [-31.533831567142858, -52.83958754857142],\n                {}\n            ).addTo(map_bf9ccbfd00f7e9f4be4b1735f935be03);\n        \n    \n            var marker_a73fa8336c05d750186e45263f74f443 = L.marker(\n                [-31.533831567142858, -52.83958754857142],\n                {}\n            ).addTo(map_bf9ccbfd00f7e9f4be4b1735f935be03);\n        \n    \n            var marker_15ddaa055c34a1b54bbb30be935c094d = L.marker(\n                [-31.533831567142858, -52.83958754857142],\n                {}\n            ).addTo(map_bf9ccbfd00f7e9f4be4b1735f935be03);\n        \n    \n            var marker_e502f7639ffcdd11bfda77153293a61d = L.marker(\n                [-31.533831567142858, -52.83958754857142],\n                {}\n            ).addTo(map_bf9ccbfd00f7e9f4be4b1735f935be03);\n        \n    \n            var marker_96e45e2e145428df22b43d6c0cd3f315 = L.marker(\n                [-31.533831567142858, -52.83958754857142],\n                {}\n            ).addTo(map_bf9ccbfd00f7e9f4be4b1735f935be03);\n        \n    \n            var marker_9d59ac9585997790f74850b0576214c5 = L.marker(\n                [-35.18598, -59.097955],\n                {}\n            ).addTo(map_bf9ccbfd00f7e9f4be4b1735f935be03);\n        \n    \n            var marker_8ce6adfb7fe811906a7753978b130321 = L.marker(\n                [-35.050042, -58.756238],\n                {}\n            ).addTo(map_bf9ccbfd00f7e9f4be4b1735f935be03);\n        \n    \n            var marker_9e451ad2375198d7e95410549476f8cf = L.marker(\n                [-38.377394, -60.272848],\n                {}\n            ).addTo(map_bf9ccbfd00f7e9f4be4b1735f935be03);\n        \n    \n            var marker_13033afb8d59fe4a53ef310b18791556 = L.marker(\n                [-42.768281, -65.037972],\n                {}\n            ).addTo(map_bf9ccbfd00f7e9f4be4b1735f935be03);\n        \n    \n            var marker_18c6c5d6e6997e12134a6229f6bdaa82 = L.marker(\n                [-38.01236, -57.565788],\n                {}\n            ).addTo(map_bf9ccbfd00f7e9f4be4b1735f935be03);\n        \n    \n            var marker_79ddeb4e057f4be94eefc85e6fa50bdc = L.marker(\n                [-31.533831567142858, -52.83958754857142],\n                {}\n            ).addTo(map_bf9ccbfd00f7e9f4be4b1735f935be03);\n        \n    \n            var marker_70191c1c9614c28e3fac43efa3ddd191 = L.marker(\n                [0.0, 0.0],\n                {}\n            ).addTo(map_bf9ccbfd00f7e9f4be4b1735f935be03);\n        \n    \n            var marker_a7db98c7858d507f15749dfaea9ab151 = L.marker(\n                [-34.728113, -58.248973],\n                {}\n            ).addTo(map_bf9ccbfd00f7e9f4be4b1735f935be03);\n        \n    \n            var marker_3d49150e19d090131c44d138b45555d7 = L.marker(\n                [-34.674547, -58.460834],\n                {}\n            ).addTo(map_bf9ccbfd00f7e9f4be4b1735f935be03);\n        \n    \n            var marker_00d9e848a4b3b037fc4251d8339994d4 = L.marker(\n                [-34.508767, -58.521727],\n                {}\n            ).addTo(map_bf9ccbfd00f7e9f4be4b1735f935be03);\n        \n    \n            var marker_ecfaa710c54caaf6faf3b7e5cfdefde1 = L.marker(\n                [-34.792731, -58.414739],\n                {}\n            ).addTo(map_bf9ccbfd00f7e9f4be4b1735f935be03);\n        \n    \n            var marker_9186679438b9c42936b5d3e09b55080a = L.marker(\n                [-34.565295, -58.554622],\n                {}\n            ).addTo(map_bf9ccbfd00f7e9f4be4b1735f935be03);\n        \n    \n            var marker_017bad5f6688d57434ceef406683e695 = L.marker(\n                [-34.575083, -58.425211],\n                {}\n            ).addTo(map_bf9ccbfd00f7e9f4be4b1735f935be03);\n        \n    \n            var marker_cba81b6b2999e5f40808f1187319f42f = L.marker(\n                [-34.759719, -58.278783],\n                {}\n            ).addTo(map_bf9ccbfd00f7e9f4be4b1735f935be03);\n        \n    \n            var marker_d7ec7f76049d7f7369041e9a7b23433f = L.marker(\n                [-34.701083, -58.647552],\n                {}\n            ).addTo(map_bf9ccbfd00f7e9f4be4b1735f935be03);\n        \n    \n            var marker_68102395b88388083252463b32df2185 = L.marker(\n                [-34.446786, -58.870454],\n                {}\n            ).addTo(map_bf9ccbfd00f7e9f4be4b1735f935be03);\n        \n    \n            var marker_5346b44924e337118416af33f307c43e = L.marker(\n                [-34.621431, -58.360854],\n                {}\n            ).addTo(map_bf9ccbfd00f7e9f4be4b1735f935be03);\n        \n    \n            var marker_4a1e028787d16b849c5ded3c327ed93f = L.marker(\n                [-34.355837, -58.797712],\n                {}\n            ).addTo(map_bf9ccbfd00f7e9f4be4b1735f935be03);\n        \n    \n            var marker_6b12990e974782aef8acf06717ad883f = L.marker(\n                [-32.909118, -60.683434],\n                {}\n            ).addTo(map_bf9ccbfd00f7e9f4be4b1735f935be03);\n        \n    \n            var marker_c9f4d76a71642ee94ee7dd7cd0c5b0af = L.marker(\n                [-31.533831567142858, -52.83958754857142],\n                {}\n            ).addTo(map_bf9ccbfd00f7e9f4be4b1735f935be03);\n        \n    \n            var marker_4bfdd46f39f9094e75f4485c6594b080 = L.marker(\n                [-34.599815, -58.429112],\n                {}\n            ).addTo(map_bf9ccbfd00f7e9f4be4b1735f935be03);\n        \n    \n            var marker_95586097aa79d164daa80ff0bcc14c7c = L.marker(\n                [-34.583457, -58.464818],\n                {}\n            ).addTo(map_bf9ccbfd00f7e9f4be4b1735f935be03);\n        \n    \n            var marker_e88375fffa3f68aa24df0714fcf177e9 = L.marker(\n                [-34.610676, -58.439326],\n                {}\n            ).addTo(map_bf9ccbfd00f7e9f4be4b1735f935be03);\n        \n    \n            var marker_c80489644ec6c4f027df01a74adcca3e = L.marker(\n                [-34.609829, -58.465505],\n                {}\n            ).addTo(map_bf9ccbfd00f7e9f4be4b1735f935be03);\n        \n    \n            var marker_a5356b5c001786f428c064250f32968b = L.marker(\n                [-31.533831567142858, -52.83958754857142],\n                {}\n            ).addTo(map_bf9ccbfd00f7e9f4be4b1735f935be03);\n        \n    \n            var marker_c35e70b521b9e85b330bcdeebe3c1cbc = L.marker(\n                [0.0, 0.0],\n                {}\n            ).addTo(map_bf9ccbfd00f7e9f4be4b1735f935be03);\n        \n    \n            var marker_f3695089ceaca581f485dc072b9b6973 = L.marker(\n                [-45.872649, -67.496036],\n                {}\n            ).addTo(map_bf9ccbfd00f7e9f4be4b1735f935be03);\n        \n    \n            var marker_4d902305a99a5f1ce13cb0c8a81aa239 = L.marker(\n                [0.0, 0.0],\n                {}\n            ).addTo(map_bf9ccbfd00f7e9f4be4b1735f935be03);\n        \n    \n            var marker_8ea0a9a87f1cd5905c8247d598a1b85b = L.marker(\n                [0.0, 0.0],\n                {}\n            ).addTo(map_bf9ccbfd00f7e9f4be4b1735f935be03);\n        \n    \n            var marker_01af80dc53610257ee627f6de4a6b203 = L.marker(\n                [-31.533831567142858, -52.83958754857142],\n                {}\n            ).addTo(map_bf9ccbfd00f7e9f4be4b1735f935be03);\n        \n    \n            var marker_0fd94ec2aceac465113fa51d32f60bf1 = L.marker(\n                [-31.533831567142858, -52.83958754857142],\n                {}\n            ).addTo(map_bf9ccbfd00f7e9f4be4b1735f935be03);\n        \n    \n            var marker_90546b1e44563745fab74f4b2b89886d = L.marker(\n                [-34.453186, -58.630924],\n                {}\n            ).addTo(map_bf9ccbfd00f7e9f4be4b1735f935be03);\n        \n    \n            var marker_ac1e2f444a813182784082715ec39a8c = L.marker(\n                [-34.577317, -58.428886],\n                {}\n            ).addTo(map_bf9ccbfd00f7e9f4be4b1735f935be03);\n        \n    \n            var marker_7099d5bed7ab1031b132476afc00569a = L.marker(\n                [-31.533831567142858, -52.83958754857142],\n                {}\n            ).addTo(map_bf9ccbfd00f7e9f4be4b1735f935be03);\n        \n    \n            var marker_4fe8012128ab008ede9c86891c96ae92 = L.marker(\n                [-31.533831567142858, -52.83958754857142],\n                {}\n            ).addTo(map_bf9ccbfd00f7e9f4be4b1735f935be03);\n        \n    \n            var marker_33bd96b9b0df2844c3c97faf62b7d98b = L.marker(\n                [-34.4467025, -58.5450372],\n                {}\n            ).addTo(map_bf9ccbfd00f7e9f4be4b1735f935be03);\n        \n    \n            var marker_56f3817f076b94a275aea8d4f3d95bb8 = L.marker(\n                [-31.533831567142858, -52.83958754857142],\n                {}\n            ).addTo(map_bf9ccbfd00f7e9f4be4b1735f935be03);\n        \n    \n            var marker_57fe2d41d9ca965c5f89266343eba6be = L.marker(\n                [-31.533831567142858, -52.83958754857142],\n                {}\n            ).addTo(map_bf9ccbfd00f7e9f4be4b1735f935be03);\n        \n    \n            var marker_71d28c25533cc53add67e402c5ebf009 = L.marker(\n                [-31.533831567142858, -52.83958754857142],\n                {}\n            ).addTo(map_bf9ccbfd00f7e9f4be4b1735f935be03);\n        \n    \n            var marker_b18e2d7fa7575c150481c6412717d5a1 = L.marker(\n                [0.0, 0.0],\n                {}\n            ).addTo(map_bf9ccbfd00f7e9f4be4b1735f935be03);\n        \n    \n            var marker_5c091bb56d1fad801857a1cb9871e10d = L.marker(\n                [0.0, 0.0],\n                {}\n            ).addTo(map_bf9ccbfd00f7e9f4be4b1735f935be03);\n        \n    \n            var marker_2e2dcaa03de03257624e9b7d0c7a7f44 = L.marker(\n                [-31.533831567142858, -52.83958754857142],\n                {}\n            ).addTo(map_bf9ccbfd00f7e9f4be4b1735f935be03);\n        \n    \n            var marker_1cb9dc3cd439193b9538bc141d75ed80 = L.marker(\n                [-31.533831567142858, -52.83958754857142],\n                {}\n            ).addTo(map_bf9ccbfd00f7e9f4be4b1735f935be03);\n        \n    \n            var marker_b2df89ea6c916d813677ddacdc0f2858 = L.marker(\n                [0.0, 0.0],\n                {}\n            ).addTo(map_bf9ccbfd00f7e9f4be4b1735f935be03);\n        \n    \n            var marker_8678e7ea020bc203932ab29d9f649c95 = L.marker(\n                [-31.533831567142858, -52.83958754857142],\n                {}\n            ).addTo(map_bf9ccbfd00f7e9f4be4b1735f935be03);\n        \n    \n            var marker_2a6baf3098d3ef3643b3df63e52987de = L.marker(\n                [-31.533831567142858, -52.83958754857142],\n                {}\n            ).addTo(map_bf9ccbfd00f7e9f4be4b1735f935be03);\n        \n    \n            var marker_24cfb8c88ddc176acff9752e0ecd2d18 = L.marker(\n                [-31.533831567142858, -52.83958754857142],\n                {}\n            ).addTo(map_bf9ccbfd00f7e9f4be4b1735f935be03);\n        \n&lt;/script&gt;\n&lt;/html&gt;\" style=\"position:absolute;width:100%;height:100%;left:0;top:0;border:none !important;\" allowfullscreen webkitallowfullscreen mozallowfullscreen></iframe></div></div>"
     },
     "execution_count": 24,
     "metadata": {},
     "output_type": "execute_result"
    }
   ],
   "source": [
    "import folium\n",
    "\n",
    "# Combine the latitude and longitude columns into a list of locations\n",
    "locations = [[lat, lon] for lat, lon in zip(locales_df['latitud'], locales_df['longitud'])]\n",
    "\n",
    "# Create a map centered at the first location in the list\n",
    "m = folium.Map(location=locations[0], zoom_start=5)\n",
    "\n",
    "# Add markers to the map for each location in the list\n",
    "for location in locations:\n",
    "    folium.Marker(location=location).add_to(m)\n",
    "\n",
    "# Display the map\n",
    "m"
   ],
   "metadata": {
    "collapsed": false
   }
  },
  {
   "cell_type": "markdown",
   "source": [
    "#### Guardar el dataset limpio"
   ],
   "metadata": {
    "collapsed": false
   }
  },
  {
   "cell_type": "code",
   "execution_count": 26,
   "outputs": [],
   "source": [
    "locales_df.to_csv('../clean_data/locales_clean.csv', index=False)"
   ],
   "metadata": {
    "collapsed": false
   }
  }
 ],
 "metadata": {
  "kernelspec": {
   "display_name": "Python 3 (ipykernel)",
   "language": "python",
   "name": "python3"
  },
  "language_info": {
   "codemirror_mode": {
    "name": "ipython",
    "version": 3
   },
   "file_extension": ".py",
   "mimetype": "text/x-python",
   "name": "python",
   "nbconvert_exporter": "python",
   "pygments_lexer": "ipython3",
   "version": "3.10.8"
  },
  "toc": {
   "base_numbering": 1,
   "nav_menu": {},
   "number_sections": true,
   "sideBar": true,
   "skip_h1_title": false,
   "title_cell": "Table of Contents",
   "title_sidebar": "Contents",
   "toc_cell": false,
   "toc_position": {},
   "toc_section_display": true,
   "toc_window_display": false
  },
  "varInspector": {
   "cols": {
    "lenName": 16,
    "lenType": 16,
    "lenVar": 40
   },
   "kernels_config": {
    "python": {
     "delete_cmd_postfix": "",
     "delete_cmd_prefix": "del ",
     "library": "var_list.py",
     "varRefreshCmd": "print(var_dic_list())"
    },
    "r": {
     "delete_cmd_postfix": ") ",
     "delete_cmd_prefix": "rm(",
     "library": "var_list.r",
     "varRefreshCmd": "cat(var_dic_list()) "
    }
   },
   "types_to_exclude": [
    "module",
    "function",
    "builtin_function_or_method",
    "instance",
    "_Feature"
   ],
   "window_display": false
  }
 },
 "nbformat": 4,
 "nbformat_minor": 5
}
