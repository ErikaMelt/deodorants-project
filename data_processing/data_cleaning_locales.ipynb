{
 "cells": [
  {
   "cell_type": "markdown",
   "source": [
    "# Limpieza de Datos Locales 20190712"
   ],
   "metadata": {
    "collapsed": false
   }
  },
  {
   "cell_type": "code",
   "execution_count": 1,
   "id": "396705b3",
   "metadata": {},
   "outputs": [],
   "source": [
    "import pandas as pd\n",
    "from utils_functions import  replace_regex, remove_non_ascii, upload_to_bucket"
   ]
  },
  {
   "cell_type": "markdown",
   "id": "dbd04701",
   "metadata": {},
   "source": [
    "# Importar Datasets"
   ]
  },
  {
   "cell_type": "code",
   "execution_count": 2,
   "outputs": [],
   "source": [
    "locales_col_names = [\n",
    "    'id_cadena', 'desc_cadena', 'id_region', 'desc_region', 'idb',\n",
    "    'desc_local', 'latitud', 'longitud', 'punto_dist'\n",
    "]"
   ],
   "metadata": {
    "collapsed": false
   }
  },
  {
   "cell_type": "code",
   "execution_count": 3,
   "outputs": [],
   "source": [
    "locales_df = pd.read_csv(\"../data/Locales.txt\",\n",
    "                         encoding=\"UTF-8\",\n",
    "                         header=None,\n",
    "                         delimiter='\\t',\n",
    "                         names=locales_col_names)"
   ],
   "metadata": {
    "collapsed": false
   }
  },
  {
   "cell_type": "code",
   "execution_count": 4,
   "outputs": [
    {
     "data": {
      "text/plain": "    id_cadena                     desc_cadena  id_region  \\\n0           1  Plaza Vea                               1   \n1           1  Plaza Vea                               1   \n2           1  Plaza Vea                               1   \n3           1  Plaza Vea                               1   \n4           1  Plaza Vea                               1   \n5           2  Disco                                   1   \n6           2  Disco                                   1   \n7           2  Disco                                   1   \n8           2  Disco                                   1   \n9           2  Disco                                   1   \n10          2  Disco                                   1   \n11          2  Disco                                   1   \n12          2  Disco                                   1   \n13          2  Disco                                   1   \n14          2  Disco                                   1   \n15          2  Disco                                   1   \n16          2  Disco                                   1   \n17          2  Disco                                   1   \n18          2  Disco                                   1   \n19          2  Disco                                   1   \n20          2  Disco                                   1   \n21          2  Disco                                   1   \n22          2  Disco                                   1   \n23          2  Disco                                   1   \n24          2  Disco                                   1   \n25          2  Disco                                   1   \n26          2  Disco                                   1   \n27          2  Disco                                   1   \n28          2  Disco                                   1   \n29          2  Disco                                   1   \n30          2  Disco                                   1   \n31          2  Disco                                   1   \n32          2  Disco                                   1   \n33          2  Disco                                   1   \n34          2  Disco                                   1   \n35          2  Disco                                   1   \n36          2  Disco                                   1   \n37          2  Disco                                   1   \n38          2  Disco                                   1   \n39          2  Disco                                   1   \n\n                       desc_region   idb                      desc_local  \\\n0   Buenos Aires                    9693     9693 - P Vea Villa Urquiza.   \n1   Buenos Aires                    9694          9694 - P Vea JB Justo.   \n2   Buenos Aires                    9695             695 - P Vea Acoyte.   \n3   Buenos Aires                    9699          699 - P Vea Rivadavia.   \n4   Buenos Aires                    9889  889 - Plaza Vea Carpa de liqui   \n5   Buenos Aires                     247         916 - SM 916 Gorostiaga   \n6   Buenos Aires                     257                61 - Tortuguitas   \n7   Buenos Aires                     285             953 - Venado Tuerto   \n8   Buenos Aires                     740                   740 - Canning   \n9   Buenos Aires                     961              961 - Av. Santa FÇ   \n10  Buenos Aires                    1190  6190 - BT SAF (Importaciones).   \n11  Buenos Aires                    1914    3914 - Interno SLL BsAs 217.   \n12  Buenos Aires                    9001                 1 - San Isidro.   \n13  Buenos Aires                    9002                 2 - Talcahuano.   \n14  Buenos Aires                    9003                    3 - Camacua.   \n15  Buenos Aires                    9004              4 - Vicente L¢pez.   \n16  Buenos Aires                    9007                 7 - Pte. Per¢n.   \n17  Buenos Aires                    9009            9 - Lomas de Zamora.   \n18  Buenos Aires                    9012                     12 - Sucre.   \n19  Buenos Aires                    9014                14 - Las Heras..   \n20  Buenos Aires                    9015                  15 - Salguero.   \n21  Buenos Aires                    9016                  16 - Paraguay.   \n22  Buenos Aires                    9017           17 - Virrey del Pino.   \n23  Buenos Aires                    9018                  18 - Quintana.   \n24  Buenos Aires                    9022                  22 - Santa Fe.   \n25  Buenos Aires                    9023              23 - Alto Palermo.   \n26  Buenos Aires                    9025            25 - Rodr°guez Pe§a.   \n27  Buenos Aires                    9026                26 - Av. Callao.   \n28  Buenos Aires                    9030                 30 - Rivadavia.   \n29  Buenos Aires                    9035                   35 - Uriburu.   \n30  Buenos Aires                    9037                   37 - AdroguÇ.   \n31  Buenos Aires                    9038                     38 - Arcos.   \n32  Buenos Aires                    9039                      39 - Pe§a.   \n33  Buenos Aires                    9042                42 - La Plata I.   \n34  Buenos Aires                    9045          45 - Gesell Boulevard.   \n35  Buenos Aires                    9046                 46 - Esmeralda.   \n36  Buenos Aires                    9048                    48 - Gasc¢n.   \n37  Buenos Aires                    9049                   49 - Pinamar.   \n38  Buenos Aires                    9050            50 - Gesell Central.   \n39  Buenos Aires                    9054                    54 - Elcano.   \n\n      latitud   longitud punto_dist  \n0         NaN        NaN          N  \n1         NaN        NaN          N  \n2    0.000000   0.000000          N  \n3    0.000000   0.000000          N  \n4         NaN        NaN          N  \n5  -34.565259 -58.436583          N  \n6  -34.446043 -58.745098          N  \n7         NaN        NaN          N  \n8  -34.853221 -58.502247          N  \n9         NaN        NaN          N  \n10        NaN        NaN          S  \n11        NaN        NaN          S  \n12 -34.471531 -58.515350          N  \n13 -34.596256 -58.385701          N  \n14 -34.627893 -58.458295          N  \n15 -34.520825 -58.485332          N  \n16   0.000000   0.000000          N  \n17 -34.764091 -58.398621          N  \n18 -34.560842 -58.449841          N  \n19 -34.581691 -58.414435          N  \n20 -34.580101 -58.408191          N  \n21 -34.586090 -58.422310          N  \n22 -34.566744 -58.453445          N  \n23 -34.589375 -58.388536          N  \n24 -34.590488 -58.408384          N  \n25 -34.587061 -58.410916          N  \n26 -34.593032 -58.391347          N  \n27 -34.608787 -58.392012          N  \n28 -34.617352 -58.434391          N  \n29 -34.593885 -58.397898          N  \n30 -34.798951 -58.404243          N  \n31 -34.561708 -58.452373          N  \n32 -34.585935 -58.405188          N  \n33 -34.934655 -57.975326          N  \n34 -37.259025 -56.982672          N  \n35 -34.591519 -58.378118          N  \n36 -34.603435 -58.424113          N  \n37 -37.108689 -56.871028          N  \n38 -37.263550 -56.974521          N  \n39 -34.572857 -58.459282          N  ",
      "text/html": "<div>\n<style scoped>\n    .dataframe tbody tr th:only-of-type {\n        vertical-align: middle;\n    }\n\n    .dataframe tbody tr th {\n        vertical-align: top;\n    }\n\n    .dataframe thead th {\n        text-align: right;\n    }\n</style>\n<table border=\"1\" class=\"dataframe\">\n  <thead>\n    <tr style=\"text-align: right;\">\n      <th></th>\n      <th>id_cadena</th>\n      <th>desc_cadena</th>\n      <th>id_region</th>\n      <th>desc_region</th>\n      <th>idb</th>\n      <th>desc_local</th>\n      <th>latitud</th>\n      <th>longitud</th>\n      <th>punto_dist</th>\n    </tr>\n  </thead>\n  <tbody>\n    <tr>\n      <th>0</th>\n      <td>1</td>\n      <td>Plaza Vea</td>\n      <td>1</td>\n      <td>Buenos Aires</td>\n      <td>9693</td>\n      <td>9693 - P Vea Villa Urquiza.</td>\n      <td>NaN</td>\n      <td>NaN</td>\n      <td>N</td>\n    </tr>\n    <tr>\n      <th>1</th>\n      <td>1</td>\n      <td>Plaza Vea</td>\n      <td>1</td>\n      <td>Buenos Aires</td>\n      <td>9694</td>\n      <td>9694 - P Vea JB Justo.</td>\n      <td>NaN</td>\n      <td>NaN</td>\n      <td>N</td>\n    </tr>\n    <tr>\n      <th>2</th>\n      <td>1</td>\n      <td>Plaza Vea</td>\n      <td>1</td>\n      <td>Buenos Aires</td>\n      <td>9695</td>\n      <td>695 - P Vea Acoyte.</td>\n      <td>0.000000</td>\n      <td>0.000000</td>\n      <td>N</td>\n    </tr>\n    <tr>\n      <th>3</th>\n      <td>1</td>\n      <td>Plaza Vea</td>\n      <td>1</td>\n      <td>Buenos Aires</td>\n      <td>9699</td>\n      <td>699 - P Vea Rivadavia.</td>\n      <td>0.000000</td>\n      <td>0.000000</td>\n      <td>N</td>\n    </tr>\n    <tr>\n      <th>4</th>\n      <td>1</td>\n      <td>Plaza Vea</td>\n      <td>1</td>\n      <td>Buenos Aires</td>\n      <td>9889</td>\n      <td>889 - Plaza Vea Carpa de liqui</td>\n      <td>NaN</td>\n      <td>NaN</td>\n      <td>N</td>\n    </tr>\n    <tr>\n      <th>5</th>\n      <td>2</td>\n      <td>Disco</td>\n      <td>1</td>\n      <td>Buenos Aires</td>\n      <td>247</td>\n      <td>916 - SM 916 Gorostiaga</td>\n      <td>-34.565259</td>\n      <td>-58.436583</td>\n      <td>N</td>\n    </tr>\n    <tr>\n      <th>6</th>\n      <td>2</td>\n      <td>Disco</td>\n      <td>1</td>\n      <td>Buenos Aires</td>\n      <td>257</td>\n      <td>61 - Tortuguitas</td>\n      <td>-34.446043</td>\n      <td>-58.745098</td>\n      <td>N</td>\n    </tr>\n    <tr>\n      <th>7</th>\n      <td>2</td>\n      <td>Disco</td>\n      <td>1</td>\n      <td>Buenos Aires</td>\n      <td>285</td>\n      <td>953 - Venado Tuerto</td>\n      <td>NaN</td>\n      <td>NaN</td>\n      <td>N</td>\n    </tr>\n    <tr>\n      <th>8</th>\n      <td>2</td>\n      <td>Disco</td>\n      <td>1</td>\n      <td>Buenos Aires</td>\n      <td>740</td>\n      <td>740 - Canning</td>\n      <td>-34.853221</td>\n      <td>-58.502247</td>\n      <td>N</td>\n    </tr>\n    <tr>\n      <th>9</th>\n      <td>2</td>\n      <td>Disco</td>\n      <td>1</td>\n      <td>Buenos Aires</td>\n      <td>961</td>\n      <td>961 - Av. Santa FÇ</td>\n      <td>NaN</td>\n      <td>NaN</td>\n      <td>N</td>\n    </tr>\n    <tr>\n      <th>10</th>\n      <td>2</td>\n      <td>Disco</td>\n      <td>1</td>\n      <td>Buenos Aires</td>\n      <td>1190</td>\n      <td>6190 - BT SAF (Importaciones).</td>\n      <td>NaN</td>\n      <td>NaN</td>\n      <td>S</td>\n    </tr>\n    <tr>\n      <th>11</th>\n      <td>2</td>\n      <td>Disco</td>\n      <td>1</td>\n      <td>Buenos Aires</td>\n      <td>1914</td>\n      <td>3914 - Interno SLL BsAs 217.</td>\n      <td>NaN</td>\n      <td>NaN</td>\n      <td>S</td>\n    </tr>\n    <tr>\n      <th>12</th>\n      <td>2</td>\n      <td>Disco</td>\n      <td>1</td>\n      <td>Buenos Aires</td>\n      <td>9001</td>\n      <td>1 - San Isidro.</td>\n      <td>-34.471531</td>\n      <td>-58.515350</td>\n      <td>N</td>\n    </tr>\n    <tr>\n      <th>13</th>\n      <td>2</td>\n      <td>Disco</td>\n      <td>1</td>\n      <td>Buenos Aires</td>\n      <td>9002</td>\n      <td>2 - Talcahuano.</td>\n      <td>-34.596256</td>\n      <td>-58.385701</td>\n      <td>N</td>\n    </tr>\n    <tr>\n      <th>14</th>\n      <td>2</td>\n      <td>Disco</td>\n      <td>1</td>\n      <td>Buenos Aires</td>\n      <td>9003</td>\n      <td>3 - Camacua.</td>\n      <td>-34.627893</td>\n      <td>-58.458295</td>\n      <td>N</td>\n    </tr>\n    <tr>\n      <th>15</th>\n      <td>2</td>\n      <td>Disco</td>\n      <td>1</td>\n      <td>Buenos Aires</td>\n      <td>9004</td>\n      <td>4 - Vicente L¢pez.</td>\n      <td>-34.520825</td>\n      <td>-58.485332</td>\n      <td>N</td>\n    </tr>\n    <tr>\n      <th>16</th>\n      <td>2</td>\n      <td>Disco</td>\n      <td>1</td>\n      <td>Buenos Aires</td>\n      <td>9007</td>\n      <td>7 - Pte. Per¢n.</td>\n      <td>0.000000</td>\n      <td>0.000000</td>\n      <td>N</td>\n    </tr>\n    <tr>\n      <th>17</th>\n      <td>2</td>\n      <td>Disco</td>\n      <td>1</td>\n      <td>Buenos Aires</td>\n      <td>9009</td>\n      <td>9 - Lomas de Zamora.</td>\n      <td>-34.764091</td>\n      <td>-58.398621</td>\n      <td>N</td>\n    </tr>\n    <tr>\n      <th>18</th>\n      <td>2</td>\n      <td>Disco</td>\n      <td>1</td>\n      <td>Buenos Aires</td>\n      <td>9012</td>\n      <td>12 - Sucre.</td>\n      <td>-34.560842</td>\n      <td>-58.449841</td>\n      <td>N</td>\n    </tr>\n    <tr>\n      <th>19</th>\n      <td>2</td>\n      <td>Disco</td>\n      <td>1</td>\n      <td>Buenos Aires</td>\n      <td>9014</td>\n      <td>14 - Las Heras..</td>\n      <td>-34.581691</td>\n      <td>-58.414435</td>\n      <td>N</td>\n    </tr>\n    <tr>\n      <th>20</th>\n      <td>2</td>\n      <td>Disco</td>\n      <td>1</td>\n      <td>Buenos Aires</td>\n      <td>9015</td>\n      <td>15 - Salguero.</td>\n      <td>-34.580101</td>\n      <td>-58.408191</td>\n      <td>N</td>\n    </tr>\n    <tr>\n      <th>21</th>\n      <td>2</td>\n      <td>Disco</td>\n      <td>1</td>\n      <td>Buenos Aires</td>\n      <td>9016</td>\n      <td>16 - Paraguay.</td>\n      <td>-34.586090</td>\n      <td>-58.422310</td>\n      <td>N</td>\n    </tr>\n    <tr>\n      <th>22</th>\n      <td>2</td>\n      <td>Disco</td>\n      <td>1</td>\n      <td>Buenos Aires</td>\n      <td>9017</td>\n      <td>17 - Virrey del Pino.</td>\n      <td>-34.566744</td>\n      <td>-58.453445</td>\n      <td>N</td>\n    </tr>\n    <tr>\n      <th>23</th>\n      <td>2</td>\n      <td>Disco</td>\n      <td>1</td>\n      <td>Buenos Aires</td>\n      <td>9018</td>\n      <td>18 - Quintana.</td>\n      <td>-34.589375</td>\n      <td>-58.388536</td>\n      <td>N</td>\n    </tr>\n    <tr>\n      <th>24</th>\n      <td>2</td>\n      <td>Disco</td>\n      <td>1</td>\n      <td>Buenos Aires</td>\n      <td>9022</td>\n      <td>22 - Santa Fe.</td>\n      <td>-34.590488</td>\n      <td>-58.408384</td>\n      <td>N</td>\n    </tr>\n    <tr>\n      <th>25</th>\n      <td>2</td>\n      <td>Disco</td>\n      <td>1</td>\n      <td>Buenos Aires</td>\n      <td>9023</td>\n      <td>23 - Alto Palermo.</td>\n      <td>-34.587061</td>\n      <td>-58.410916</td>\n      <td>N</td>\n    </tr>\n    <tr>\n      <th>26</th>\n      <td>2</td>\n      <td>Disco</td>\n      <td>1</td>\n      <td>Buenos Aires</td>\n      <td>9025</td>\n      <td>25 - Rodr°guez Pe§a.</td>\n      <td>-34.593032</td>\n      <td>-58.391347</td>\n      <td>N</td>\n    </tr>\n    <tr>\n      <th>27</th>\n      <td>2</td>\n      <td>Disco</td>\n      <td>1</td>\n      <td>Buenos Aires</td>\n      <td>9026</td>\n      <td>26 - Av. Callao.</td>\n      <td>-34.608787</td>\n      <td>-58.392012</td>\n      <td>N</td>\n    </tr>\n    <tr>\n      <th>28</th>\n      <td>2</td>\n      <td>Disco</td>\n      <td>1</td>\n      <td>Buenos Aires</td>\n      <td>9030</td>\n      <td>30 - Rivadavia.</td>\n      <td>-34.617352</td>\n      <td>-58.434391</td>\n      <td>N</td>\n    </tr>\n    <tr>\n      <th>29</th>\n      <td>2</td>\n      <td>Disco</td>\n      <td>1</td>\n      <td>Buenos Aires</td>\n      <td>9035</td>\n      <td>35 - Uriburu.</td>\n      <td>-34.593885</td>\n      <td>-58.397898</td>\n      <td>N</td>\n    </tr>\n    <tr>\n      <th>30</th>\n      <td>2</td>\n      <td>Disco</td>\n      <td>1</td>\n      <td>Buenos Aires</td>\n      <td>9037</td>\n      <td>37 - AdroguÇ.</td>\n      <td>-34.798951</td>\n      <td>-58.404243</td>\n      <td>N</td>\n    </tr>\n    <tr>\n      <th>31</th>\n      <td>2</td>\n      <td>Disco</td>\n      <td>1</td>\n      <td>Buenos Aires</td>\n      <td>9038</td>\n      <td>38 - Arcos.</td>\n      <td>-34.561708</td>\n      <td>-58.452373</td>\n      <td>N</td>\n    </tr>\n    <tr>\n      <th>32</th>\n      <td>2</td>\n      <td>Disco</td>\n      <td>1</td>\n      <td>Buenos Aires</td>\n      <td>9039</td>\n      <td>39 - Pe§a.</td>\n      <td>-34.585935</td>\n      <td>-58.405188</td>\n      <td>N</td>\n    </tr>\n    <tr>\n      <th>33</th>\n      <td>2</td>\n      <td>Disco</td>\n      <td>1</td>\n      <td>Buenos Aires</td>\n      <td>9042</td>\n      <td>42 - La Plata I.</td>\n      <td>-34.934655</td>\n      <td>-57.975326</td>\n      <td>N</td>\n    </tr>\n    <tr>\n      <th>34</th>\n      <td>2</td>\n      <td>Disco</td>\n      <td>1</td>\n      <td>Buenos Aires</td>\n      <td>9045</td>\n      <td>45 - Gesell Boulevard.</td>\n      <td>-37.259025</td>\n      <td>-56.982672</td>\n      <td>N</td>\n    </tr>\n    <tr>\n      <th>35</th>\n      <td>2</td>\n      <td>Disco</td>\n      <td>1</td>\n      <td>Buenos Aires</td>\n      <td>9046</td>\n      <td>46 - Esmeralda.</td>\n      <td>-34.591519</td>\n      <td>-58.378118</td>\n      <td>N</td>\n    </tr>\n    <tr>\n      <th>36</th>\n      <td>2</td>\n      <td>Disco</td>\n      <td>1</td>\n      <td>Buenos Aires</td>\n      <td>9048</td>\n      <td>48 - Gasc¢n.</td>\n      <td>-34.603435</td>\n      <td>-58.424113</td>\n      <td>N</td>\n    </tr>\n    <tr>\n      <th>37</th>\n      <td>2</td>\n      <td>Disco</td>\n      <td>1</td>\n      <td>Buenos Aires</td>\n      <td>9049</td>\n      <td>49 - Pinamar.</td>\n      <td>-37.108689</td>\n      <td>-56.871028</td>\n      <td>N</td>\n    </tr>\n    <tr>\n      <th>38</th>\n      <td>2</td>\n      <td>Disco</td>\n      <td>1</td>\n      <td>Buenos Aires</td>\n      <td>9050</td>\n      <td>50 - Gesell Central.</td>\n      <td>-37.263550</td>\n      <td>-56.974521</td>\n      <td>N</td>\n    </tr>\n    <tr>\n      <th>39</th>\n      <td>2</td>\n      <td>Disco</td>\n      <td>1</td>\n      <td>Buenos Aires</td>\n      <td>9054</td>\n      <td>54 - Elcano.</td>\n      <td>-34.572857</td>\n      <td>-58.459282</td>\n      <td>N</td>\n    </tr>\n  </tbody>\n</table>\n</div>"
     },
     "execution_count": 4,
     "metadata": {},
     "output_type": "execute_result"
    }
   ],
   "source": [
    "locales_df.head(40)\n"
   ],
   "metadata": {
    "collapsed": false
   }
  },
  {
   "cell_type": "code",
   "execution_count": 5,
   "outputs": [
    {
     "name": "stdout",
     "output_type": "stream",
     "text": [
      "<class 'pandas.core.frame.DataFrame'>\n",
      "RangeIndex: 175 entries, 0 to 174\n",
      "Data columns (total 9 columns):\n",
      " #   Column       Non-Null Count  Dtype  \n",
      "---  ------       --------------  -----  \n",
      " 0   id_cadena    175 non-null    int64  \n",
      " 1   desc_cadena  175 non-null    object \n",
      " 2   id_region    175 non-null    int64  \n",
      " 3   desc_region  175 non-null    object \n",
      " 4   idb          175 non-null    int64  \n",
      " 5   desc_local   175 non-null    object \n",
      " 6   latitud      140 non-null    float64\n",
      " 7   longitud     140 non-null    float64\n",
      " 8   punto_dist   175 non-null    object \n",
      "dtypes: float64(2), int64(3), object(4)\n",
      "memory usage: 12.4+ KB\n"
     ]
    }
   ],
   "source": [
    "locales_df.info()"
   ],
   "metadata": {
    "collapsed": false
   }
  },
  {
   "cell_type": "markdown",
   "source": [
    "#### Ajustes al dataframe\n",
    "\n",
    "- Limpiar la descripcion de la región, eliminando el numero y el simbolo (-).\n",
    "- Convertir a minusculas todos los tipos de datos object o string.\n",
    "- Remplazar caracteres especiales con espacio.\n",
    "- Verificar si existen valores nulos o duplicados.\n",
    "- Convertir a 1 y 0 la columna punto de distribucción con la siguiente regla si el valor es 's' = 1 que significa que es un punto de distribucción de lo contrario sería 0.\n",
    "- Crear una nueva columna llamada local usando la columna punto de distribucción.\n",
    "- Rellenar los valores de latitud y longitud con valores Nan con la media de la columna de latitud y longitud.\n",
    "- Buscar los valores de latitud y longitud de regiones con valores 0.00\n"
   ],
   "metadata": {
    "collapsed": false
   }
  },
  {
   "cell_type": "code",
   "execution_count": 6,
   "outputs": [],
   "source": [
    "locales_df = locales_df.applymap(lambda x: x.lower() if isinstance(x, str) else x)"
   ],
   "metadata": {
    "collapsed": false
   }
  },
  {
   "cell_type": "code",
   "execution_count": 7,
   "outputs": [],
   "source": [
    "replace_regex(locales_df, 'desc_local', r'^\\d+\\s*-\\s*', '')"
   ],
   "metadata": {
    "collapsed": false
   }
  },
  {
   "cell_type": "code",
   "execution_count": 8,
   "outputs": [],
   "source": [
    "replace_regex(locales_df, 'desc_local', r'f', 'fé')\n",
    "replace_regex(locales_df, 'desc_local', r'crdoba', 'cordoba')\n",
    "replace_regex(locales_df, 'desc_local', r'fééernando', 'fernando')\n",
    "replace_regex(locales_df, 'desc_local', r'\\bjumbo\\b', '')\n",
    "replace_regex(locales_df, 'desc_local', r'\\brincn\\b', '')\n",
    "replace_regex(locales_df, 'desc_local', r'\\bplaza vea\\b', '')\n",
    "replace_regex(locales_df, 'desc_local', r'\\bp vea\\b', '')"
   ],
   "metadata": {
    "collapsed": false
   }
  },
  {
   "cell_type": "code",
   "execution_count": 9,
   "outputs": [],
   "source": [
    "remove_non_ascii(locales_df, 'desc_local')\n",
    "#locales_df['desc_local'] = locales_df['desc_local'].replace(to_replace=r'[^\\x00-\\x7F]+', value='', regex=True)"
   ],
   "metadata": {
    "collapsed": false
   }
  },
  {
   "cell_type": "code",
   "execution_count": 10,
   "outputs": [
    {
     "name": "stdout",
     "output_type": "stream",
     "text": [
      "id_cadena       0\n",
      "desc_cadena     0\n",
      "id_region       0\n",
      "desc_region     0\n",
      "idb             0\n",
      "desc_local      0\n",
      "latitud        35\n",
      "longitud       35\n",
      "punto_dist      0\n",
      "dtype: int64\n"
     ]
    }
   ],
   "source": [
    "print(locales_df.isna().sum())"
   ],
   "metadata": {
    "collapsed": false
   }
  },
  {
   "cell_type": "code",
   "execution_count": 11,
   "outputs": [
    {
     "data": {
      "text/plain": "id_cadena       0\ndesc_cadena     0\nid_region       0\ndesc_region     0\nidb             0\ndesc_local      0\nlatitud        35\nlongitud       35\npunto_dist      0\ndtype: int64"
     },
     "execution_count": 11,
     "metadata": {},
     "output_type": "execute_result"
    }
   ],
   "source": [
    "locales_df.isnull().sum(axis=0)"
   ],
   "metadata": {
    "collapsed": false
   }
  },
  {
   "cell_type": "code",
   "execution_count": 12,
   "outputs": [
    {
     "name": "stdout",
     "output_type": "stream",
     "text": [
      "Columna desc_cadena: 5 subnivele(s)\n",
      "Columna desc_region: 1 subnivele(s)\n",
      "Columna desc_local: 175 subnivele(s)\n"
     ]
    }
   ],
   "source": [
    "# Conteo de los niveles en las diferentes columnas categóricas\n",
    "col_categoricas = ['desc_cadena', 'desc_region', 'desc_local']\n",
    "for col in col_categoricas:\n",
    "    print(f'Columna {col}: {locales_df[col].nunique()} subnivele(s)')"
   ],
   "metadata": {
    "collapsed": false
   }
  },
  {
   "cell_type": "code",
   "execution_count": 13,
   "outputs": [],
   "source": [
    "# Convertir la columna categorica punto_dist a numerica, si el valor es s significa que es un punto de distribucción y se asignará el valor de 1, de lo contrario será  un local y se asignara el valor de 0.\n",
    "punto_dist_mapping = {\"s\": 1, \"n\": 0}\n",
    "locales_df['punto_dist'] = locales_df['punto_dist'].map(punto_dist_mapping)"
   ],
   "metadata": {
    "collapsed": false
   }
  },
  {
   "cell_type": "code",
   "execution_count": 14,
   "outputs": [],
   "source": [
    "# Crear una columna para determinar si es un local con base en la columna punto_dist, si el local no es un punto de distribuccion entonces es un local.  Asignaremos 1 para local 0 para no local.\n",
    "locales_df['local'] = locales_df['punto_dist'].apply(lambda x: 1 if x == 0 else 0)"
   ],
   "metadata": {
    "collapsed": false
   }
  },
  {
   "cell_type": "code",
   "execution_count": 15,
   "outputs": [],
   "source": [
    "# Llenar los valores missing de latitud y longitud con la media de cada columna.\n",
    "mean_latitud = locales_df['latitud'].mean()\n",
    "mean_longitud = locales_df['longitud'].mean()\n",
    "locales_df['latitud'].fillna(mean_latitud, inplace=True)\n",
    "locales_df['longitud'].fillna(mean_longitud, inplace=True)"
   ],
   "metadata": {
    "collapsed": false
   }
  },
  {
   "cell_type": "code",
   "execution_count": 16,
   "outputs": [
    {
     "data": {
      "text/plain": "     id_cadena                     desc_cadena  id_region  \\\n0            1  plaza vea                               1   \n1            1  plaza vea                               1   \n2            1  plaza vea                               1   \n3            1  plaza vea                               1   \n4            1  plaza vea                               1   \n..         ...                             ...        ...   \n170         11  rincon jumbo                            1   \n171         11  rincon jumbo                            1   \n172         11  rincon jumbo                            1   \n173         11  rincon jumbo                            1   \n174         11  rincon jumbo                            1   \n\n                        desc_region   idb       desc_local    latitud  \\\n0    buenos aires                    9693   villa urquiza. -31.533832   \n1    buenos aires                    9694        jb justo. -31.533832   \n2    buenos aires                    9695          acoyte.   0.000000   \n3    buenos aires                    9699       rivadavia.   0.000000   \n4    buenos aires                    9889   carpa de liqui -31.533832   \n..                              ...   ...              ...        ...   \n170  buenos aires                    8306    rincn palermo -31.533832   \n171  buenos aires                    8311      rincn pilar   0.000000   \n172  buenos aires                    8314    rincn escobar -31.533832   \n173  buenos aires                    8318    rincn rosario -31.533832   \n174  buenos aires                    8331    rincn almagro -31.533832   \n\n      longitud  punto_dist  local  \n0   -52.839588           0      1  \n1   -52.839588           0      1  \n2     0.000000           0      1  \n3     0.000000           0      1  \n4   -52.839588           0      1  \n..         ...         ...    ...  \n170 -52.839588           0      1  \n171   0.000000           0      1  \n172 -52.839588           0      1  \n173 -52.839588           0      1  \n174 -52.839588           0      1  \n\n[175 rows x 10 columns]",
      "text/html": "<div>\n<style scoped>\n    .dataframe tbody tr th:only-of-type {\n        vertical-align: middle;\n    }\n\n    .dataframe tbody tr th {\n        vertical-align: top;\n    }\n\n    .dataframe thead th {\n        text-align: right;\n    }\n</style>\n<table border=\"1\" class=\"dataframe\">\n  <thead>\n    <tr style=\"text-align: right;\">\n      <th></th>\n      <th>id_cadena</th>\n      <th>desc_cadena</th>\n      <th>id_region</th>\n      <th>desc_region</th>\n      <th>idb</th>\n      <th>desc_local</th>\n      <th>latitud</th>\n      <th>longitud</th>\n      <th>punto_dist</th>\n      <th>local</th>\n    </tr>\n  </thead>\n  <tbody>\n    <tr>\n      <th>0</th>\n      <td>1</td>\n      <td>plaza vea</td>\n      <td>1</td>\n      <td>buenos aires</td>\n      <td>9693</td>\n      <td>villa urquiza.</td>\n      <td>-31.533832</td>\n      <td>-52.839588</td>\n      <td>0</td>\n      <td>1</td>\n    </tr>\n    <tr>\n      <th>1</th>\n      <td>1</td>\n      <td>plaza vea</td>\n      <td>1</td>\n      <td>buenos aires</td>\n      <td>9694</td>\n      <td>jb justo.</td>\n      <td>-31.533832</td>\n      <td>-52.839588</td>\n      <td>0</td>\n      <td>1</td>\n    </tr>\n    <tr>\n      <th>2</th>\n      <td>1</td>\n      <td>plaza vea</td>\n      <td>1</td>\n      <td>buenos aires</td>\n      <td>9695</td>\n      <td>acoyte.</td>\n      <td>0.000000</td>\n      <td>0.000000</td>\n      <td>0</td>\n      <td>1</td>\n    </tr>\n    <tr>\n      <th>3</th>\n      <td>1</td>\n      <td>plaza vea</td>\n      <td>1</td>\n      <td>buenos aires</td>\n      <td>9699</td>\n      <td>rivadavia.</td>\n      <td>0.000000</td>\n      <td>0.000000</td>\n      <td>0</td>\n      <td>1</td>\n    </tr>\n    <tr>\n      <th>4</th>\n      <td>1</td>\n      <td>plaza vea</td>\n      <td>1</td>\n      <td>buenos aires</td>\n      <td>9889</td>\n      <td>carpa de liqui</td>\n      <td>-31.533832</td>\n      <td>-52.839588</td>\n      <td>0</td>\n      <td>1</td>\n    </tr>\n    <tr>\n      <th>...</th>\n      <td>...</td>\n      <td>...</td>\n      <td>...</td>\n      <td>...</td>\n      <td>...</td>\n      <td>...</td>\n      <td>...</td>\n      <td>...</td>\n      <td>...</td>\n      <td>...</td>\n    </tr>\n    <tr>\n      <th>170</th>\n      <td>11</td>\n      <td>rincon jumbo</td>\n      <td>1</td>\n      <td>buenos aires</td>\n      <td>8306</td>\n      <td>rincn palermo</td>\n      <td>-31.533832</td>\n      <td>-52.839588</td>\n      <td>0</td>\n      <td>1</td>\n    </tr>\n    <tr>\n      <th>171</th>\n      <td>11</td>\n      <td>rincon jumbo</td>\n      <td>1</td>\n      <td>buenos aires</td>\n      <td>8311</td>\n      <td>rincn pilar</td>\n      <td>0.000000</td>\n      <td>0.000000</td>\n      <td>0</td>\n      <td>1</td>\n    </tr>\n    <tr>\n      <th>172</th>\n      <td>11</td>\n      <td>rincon jumbo</td>\n      <td>1</td>\n      <td>buenos aires</td>\n      <td>8314</td>\n      <td>rincn escobar</td>\n      <td>-31.533832</td>\n      <td>-52.839588</td>\n      <td>0</td>\n      <td>1</td>\n    </tr>\n    <tr>\n      <th>173</th>\n      <td>11</td>\n      <td>rincon jumbo</td>\n      <td>1</td>\n      <td>buenos aires</td>\n      <td>8318</td>\n      <td>rincn rosario</td>\n      <td>-31.533832</td>\n      <td>-52.839588</td>\n      <td>0</td>\n      <td>1</td>\n    </tr>\n    <tr>\n      <th>174</th>\n      <td>11</td>\n      <td>rincon jumbo</td>\n      <td>1</td>\n      <td>buenos aires</td>\n      <td>8331</td>\n      <td>rincn almagro</td>\n      <td>-31.533832</td>\n      <td>-52.839588</td>\n      <td>0</td>\n      <td>1</td>\n    </tr>\n  </tbody>\n</table>\n<p>175 rows × 10 columns</p>\n</div>"
     },
     "execution_count": 16,
     "metadata": {},
     "output_type": "execute_result"
    }
   ],
   "source": [
    "locales_df.head(200)"
   ],
   "metadata": {
    "collapsed": false
   }
  },
  {
   "cell_type": "code",
   "execution_count": 17,
   "outputs": [
    {
     "data": {
      "text/plain": "        id_cadena  id_region          idb     latitud    longitud  punto_dist  \\\ncount  175.000000      175.0   175.000000  175.000000  175.000000  175.000000   \nmean     4.502857        1.0  6909.617143  -31.533832  -52.839588    0.034286   \nstd      2.945627        0.0  3421.539461    9.580378   15.841742    0.182484   \nmin      1.000000        1.0   242.000000  -45.872649  -67.496036    0.000000   \n25%      2.000000        1.0  5213.500000  -34.660845  -58.535721    0.000000   \n50%      4.000000        1.0  9019.000000  -34.583457  -58.404329    0.000000   \n75%      4.000000        1.0  9158.500000  -31.533832  -52.839588    0.000000   \nmax     11.000000        1.0  9977.000000    0.000000    0.000000    1.000000   \n\n            local  \ncount  175.000000  \nmean     0.965714  \nstd      0.182484  \nmin      0.000000  \n25%      1.000000  \n50%      1.000000  \n75%      1.000000  \nmax      1.000000  ",
      "text/html": "<div>\n<style scoped>\n    .dataframe tbody tr th:only-of-type {\n        vertical-align: middle;\n    }\n\n    .dataframe tbody tr th {\n        vertical-align: top;\n    }\n\n    .dataframe thead th {\n        text-align: right;\n    }\n</style>\n<table border=\"1\" class=\"dataframe\">\n  <thead>\n    <tr style=\"text-align: right;\">\n      <th></th>\n      <th>id_cadena</th>\n      <th>id_region</th>\n      <th>idb</th>\n      <th>latitud</th>\n      <th>longitud</th>\n      <th>punto_dist</th>\n      <th>local</th>\n    </tr>\n  </thead>\n  <tbody>\n    <tr>\n      <th>count</th>\n      <td>175.000000</td>\n      <td>175.0</td>\n      <td>175.000000</td>\n      <td>175.000000</td>\n      <td>175.000000</td>\n      <td>175.000000</td>\n      <td>175.000000</td>\n    </tr>\n    <tr>\n      <th>mean</th>\n      <td>4.502857</td>\n      <td>1.0</td>\n      <td>6909.617143</td>\n      <td>-31.533832</td>\n      <td>-52.839588</td>\n      <td>0.034286</td>\n      <td>0.965714</td>\n    </tr>\n    <tr>\n      <th>std</th>\n      <td>2.945627</td>\n      <td>0.0</td>\n      <td>3421.539461</td>\n      <td>9.580378</td>\n      <td>15.841742</td>\n      <td>0.182484</td>\n      <td>0.182484</td>\n    </tr>\n    <tr>\n      <th>min</th>\n      <td>1.000000</td>\n      <td>1.0</td>\n      <td>242.000000</td>\n      <td>-45.872649</td>\n      <td>-67.496036</td>\n      <td>0.000000</td>\n      <td>0.000000</td>\n    </tr>\n    <tr>\n      <th>25%</th>\n      <td>2.000000</td>\n      <td>1.0</td>\n      <td>5213.500000</td>\n      <td>-34.660845</td>\n      <td>-58.535721</td>\n      <td>0.000000</td>\n      <td>1.000000</td>\n    </tr>\n    <tr>\n      <th>50%</th>\n      <td>4.000000</td>\n      <td>1.0</td>\n      <td>9019.000000</td>\n      <td>-34.583457</td>\n      <td>-58.404329</td>\n      <td>0.000000</td>\n      <td>1.000000</td>\n    </tr>\n    <tr>\n      <th>75%</th>\n      <td>4.000000</td>\n      <td>1.0</td>\n      <td>9158.500000</td>\n      <td>-31.533832</td>\n      <td>-52.839588</td>\n      <td>0.000000</td>\n      <td>1.000000</td>\n    </tr>\n    <tr>\n      <th>max</th>\n      <td>11.000000</td>\n      <td>1.0</td>\n      <td>9977.000000</td>\n      <td>0.000000</td>\n      <td>0.000000</td>\n      <td>1.000000</td>\n      <td>1.000000</td>\n    </tr>\n  </tbody>\n</table>\n</div>"
     },
     "execution_count": 17,
     "metadata": {},
     "output_type": "execute_result"
    }
   ],
   "source": [
    "locales_df.describe()"
   ],
   "metadata": {
    "collapsed": false
   }
  },
  {
   "cell_type": "markdown",
   "source": [
    "#### Observaciones\n",
    "\n",
    "\n"
   ],
   "metadata": {
    "collapsed": false
   }
  },
  {
   "cell_type": "markdown",
   "source": [],
   "metadata": {
    "collapsed": false
   }
  },
  {
   "cell_type": "code",
   "execution_count": 18,
   "outputs": [
    {
     "data": {
      "text/plain": "<folium.folium.Map at 0x7fe8d51054e0>",
      "text/html": "<div style=\"width:100%;\"><div style=\"position:relative;width:100%;height:0;padding-bottom:60%;\"><span style=\"color:#565656\">Make this Notebook Trusted to load map: File -> Trust Notebook</span><iframe srcdoc=\"&lt;!DOCTYPE html&gt;\n&lt;html&gt;\n&lt;head&gt;\n    \n    &lt;meta http-equiv=&quot;content-type&quot; content=&quot;text/html; charset=UTF-8&quot; /&gt;\n    \n        &lt;script&gt;\n            L_NO_TOUCH = false;\n            L_DISABLE_3D = false;\n        &lt;/script&gt;\n    \n    &lt;style&gt;html, body {width: 100%;height: 100%;margin: 0;padding: 0;}&lt;/style&gt;\n    &lt;style&gt;#map {position:absolute;top:0;bottom:0;right:0;left:0;}&lt;/style&gt;\n    &lt;script src=&quot;https://cdn.jsdelivr.net/npm/leaflet@1.9.3/dist/leaflet.js&quot;&gt;&lt;/script&gt;\n    &lt;script src=&quot;https://code.jquery.com/jquery-1.12.4.min.js&quot;&gt;&lt;/script&gt;\n    &lt;script src=&quot;https://cdn.jsdelivr.net/npm/bootstrap@5.2.2/dist/js/bootstrap.bundle.min.js&quot;&gt;&lt;/script&gt;\n    &lt;script src=&quot;https://cdnjs.cloudflare.com/ajax/libs/Leaflet.awesome-markers/2.0.2/leaflet.awesome-markers.js&quot;&gt;&lt;/script&gt;\n    &lt;link rel=&quot;stylesheet&quot; href=&quot;https://cdn.jsdelivr.net/npm/leaflet@1.9.3/dist/leaflet.css&quot;/&gt;\n    &lt;link rel=&quot;stylesheet&quot; href=&quot;https://cdn.jsdelivr.net/npm/bootstrap@5.2.2/dist/css/bootstrap.min.css&quot;/&gt;\n    &lt;link rel=&quot;stylesheet&quot; href=&quot;https://netdna.bootstrapcdn.com/bootstrap/3.0.0/css/bootstrap.min.css&quot;/&gt;\n    &lt;link rel=&quot;stylesheet&quot; href=&quot;https://cdn.jsdelivr.net/npm/@fortawesome/fontawesome-free@6.2.0/css/all.min.css&quot;/&gt;\n    &lt;link rel=&quot;stylesheet&quot; href=&quot;https://cdnjs.cloudflare.com/ajax/libs/Leaflet.awesome-markers/2.0.2/leaflet.awesome-markers.css&quot;/&gt;\n    &lt;link rel=&quot;stylesheet&quot; href=&quot;https://cdn.jsdelivr.net/gh/python-visualization/folium/folium/templates/leaflet.awesome.rotate.min.css&quot;/&gt;\n    \n            &lt;meta name=&quot;viewport&quot; content=&quot;width=device-width,\n                initial-scale=1.0, maximum-scale=1.0, user-scalable=no&quot; /&gt;\n            &lt;style&gt;\n                #map_43f3ee775a63e55c8a866d77d8ca0c24 {\n                    position: relative;\n                    width: 100.0%;\n                    height: 100.0%;\n                    left: 0.0%;\n                    top: 0.0%;\n                }\n                .leaflet-container { font-size: 1rem; }\n            &lt;/style&gt;\n        \n&lt;/head&gt;\n&lt;body&gt;\n    \n    \n            &lt;div class=&quot;folium-map&quot; id=&quot;map_43f3ee775a63e55c8a866d77d8ca0c24&quot; &gt;&lt;/div&gt;\n        \n&lt;/body&gt;\n&lt;script&gt;\n    \n    \n            var map_43f3ee775a63e55c8a866d77d8ca0c24 = L.map(\n                &quot;map_43f3ee775a63e55c8a866d77d8ca0c24&quot;,\n                {\n                    center: [-31.533831567142858, -52.83958754857142],\n                    crs: L.CRS.EPSG3857,\n                    zoom: 5,\n                    zoomControl: true,\n                    preferCanvas: false,\n                }\n            );\n\n            \n\n        \n    \n            var tile_layer_fc7bef1c2d072833cb6d17ad1cc1a815 = L.tileLayer(\n                &quot;https://{s}.tile.openstreetmap.org/{z}/{x}/{y}.png&quot;,\n                {&quot;attribution&quot;: &quot;Data by \\u0026copy; \\u003ca target=\\&quot;_blank\\&quot; href=\\&quot;http://openstreetmap.org\\&quot;\\u003eOpenStreetMap\\u003c/a\\u003e, under \\u003ca target=\\&quot;_blank\\&quot; href=\\&quot;http://www.openstreetmap.org/copyright\\&quot;\\u003eODbL\\u003c/a\\u003e.&quot;, &quot;detectRetina&quot;: false, &quot;maxNativeZoom&quot;: 18, &quot;maxZoom&quot;: 18, &quot;minZoom&quot;: 0, &quot;noWrap&quot;: false, &quot;opacity&quot;: 1, &quot;subdomains&quot;: &quot;abc&quot;, &quot;tms&quot;: false}\n            ).addTo(map_43f3ee775a63e55c8a866d77d8ca0c24);\n        \n    \n            var marker_76d73df73cda3445246f860248a7d96e = L.marker(\n                [-31.533831567142858, -52.83958754857142],\n                {}\n            ).addTo(map_43f3ee775a63e55c8a866d77d8ca0c24);\n        \n    \n            var marker_7a8d8f98fb0e2007c512ae76ba357421 = L.marker(\n                [-31.533831567142858, -52.83958754857142],\n                {}\n            ).addTo(map_43f3ee775a63e55c8a866d77d8ca0c24);\n        \n    \n            var marker_1f4bf3306f0db5320a385e4eb9a4431d = L.marker(\n                [0.0, 0.0],\n                {}\n            ).addTo(map_43f3ee775a63e55c8a866d77d8ca0c24);\n        \n    \n            var marker_beed915f59be2573f3e3e85e4c954f6c = L.marker(\n                [0.0, 0.0],\n                {}\n            ).addTo(map_43f3ee775a63e55c8a866d77d8ca0c24);\n        \n    \n            var marker_fa5b7377b7e7dafe46f1d4f02cb9f987 = L.marker(\n                [-31.533831567142858, -52.83958754857142],\n                {}\n            ).addTo(map_43f3ee775a63e55c8a866d77d8ca0c24);\n        \n    \n            var marker_a5f8d0460a715e3f69b2b0a7f604b914 = L.marker(\n                [-34.565259, -58.436583],\n                {}\n            ).addTo(map_43f3ee775a63e55c8a866d77d8ca0c24);\n        \n    \n            var marker_0e1171b93301e3f140f81a08d3dffc46 = L.marker(\n                [-34.446043, -58.745098],\n                {}\n            ).addTo(map_43f3ee775a63e55c8a866d77d8ca0c24);\n        \n    \n            var marker_6e01da8504f49f1a5b68c70c752d23a5 = L.marker(\n                [-31.533831567142858, -52.83958754857142],\n                {}\n            ).addTo(map_43f3ee775a63e55c8a866d77d8ca0c24);\n        \n    \n            var marker_ad5c457a9a36a5e2515e30c438121f54 = L.marker(\n                [-34.853221, -58.502247],\n                {}\n            ).addTo(map_43f3ee775a63e55c8a866d77d8ca0c24);\n        \n    \n            var marker_0c4c3792130b7d7da3931cf65c73748b = L.marker(\n                [-31.533831567142858, -52.83958754857142],\n                {}\n            ).addTo(map_43f3ee775a63e55c8a866d77d8ca0c24);\n        \n    \n            var marker_1b010ab311313372908546b62dc06cfd = L.marker(\n                [-31.533831567142858, -52.83958754857142],\n                {}\n            ).addTo(map_43f3ee775a63e55c8a866d77d8ca0c24);\n        \n    \n            var marker_05e4f5976c6496b9ef9ec2c0f5c3d8b3 = L.marker(\n                [-31.533831567142858, -52.83958754857142],\n                {}\n            ).addTo(map_43f3ee775a63e55c8a866d77d8ca0c24);\n        \n    \n            var marker_7b547c70aefbcfc03181068faa76034e = L.marker(\n                [-34.4715309, -58.5153501],\n                {}\n            ).addTo(map_43f3ee775a63e55c8a866d77d8ca0c24);\n        \n    \n            var marker_1c69d6b07f6d77ba07115649d1c3adca = L.marker(\n                [-34.5962563, -58.3857009],\n                {}\n            ).addTo(map_43f3ee775a63e55c8a866d77d8ca0c24);\n        \n    \n            var marker_f9407e963e1b009548e98f1f1447073b = L.marker(\n                [-34.627893, -58.458295],\n                {}\n            ).addTo(map_43f3ee775a63e55c8a866d77d8ca0c24);\n        \n    \n            var marker_e51f1879d1551b24d0df79abf3ead3ea = L.marker(\n                [-34.520825, -58.485332],\n                {}\n            ).addTo(map_43f3ee775a63e55c8a866d77d8ca0c24);\n        \n    \n            var marker_4bb5ed65f3c07b423255b0faf23ff510 = L.marker(\n                [0.0, 0.0],\n                {}\n            ).addTo(map_43f3ee775a63e55c8a866d77d8ca0c24);\n        \n    \n            var marker_8a5121e4c74761e5dcdbde4f8ca85565 = L.marker(\n                [-34.764091, -58.398621],\n                {}\n            ).addTo(map_43f3ee775a63e55c8a866d77d8ca0c24);\n        \n    \n            var marker_fa00a85b007278372916b0c1d6fff030 = L.marker(\n                [-34.560842, -58.449841],\n                {}\n            ).addTo(map_43f3ee775a63e55c8a866d77d8ca0c24);\n        \n    \n            var marker_ce383df8958e709588b5cfad492c0dda = L.marker(\n                [-34.581691, -58.414435],\n                {}\n            ).addTo(map_43f3ee775a63e55c8a866d77d8ca0c24);\n        \n    \n            var marker_68c586d50415a3a492f86eec9003cc8b = L.marker(\n                [-34.580101, -58.408191],\n                {}\n            ).addTo(map_43f3ee775a63e55c8a866d77d8ca0c24);\n        \n    \n            var marker_a97bb788e024c85fbc84c05ec2b9988c = L.marker(\n                [-34.58609, -58.42231],\n                {}\n            ).addTo(map_43f3ee775a63e55c8a866d77d8ca0c24);\n        \n    \n            var marker_9c9cbc2cfa699b82dc721243e6fd7b97 = L.marker(\n                [-34.566744, -58.453445],\n                {}\n            ).addTo(map_43f3ee775a63e55c8a866d77d8ca0c24);\n        \n    \n            var marker_a8942569612707e0851ab4cb3703f452 = L.marker(\n                [-34.589375, -58.388536],\n                {}\n            ).addTo(map_43f3ee775a63e55c8a866d77d8ca0c24);\n        \n    \n            var marker_5dcac058152c82be5d3a5f65cf8819c6 = L.marker(\n                [-34.590488, -58.408384],\n                {}\n            ).addTo(map_43f3ee775a63e55c8a866d77d8ca0c24);\n        \n    \n            var marker_f71473df88fb7cfe888537785cb77ae7 = L.marker(\n                [-34.587061, -58.410916],\n                {}\n            ).addTo(map_43f3ee775a63e55c8a866d77d8ca0c24);\n        \n    \n            var marker_b3442aaac7de7930e19009a59260b0f9 = L.marker(\n                [-34.593032, -58.391347],\n                {}\n            ).addTo(map_43f3ee775a63e55c8a866d77d8ca0c24);\n        \n    \n            var marker_ac5e8d907f70107bf91cb0ac91f0ae1b = L.marker(\n                [-34.608787, -58.392012],\n                {}\n            ).addTo(map_43f3ee775a63e55c8a866d77d8ca0c24);\n        \n    \n            var marker_de41e3f3c213b1b09c1f33c1831d4d87 = L.marker(\n                [-34.617352, -58.434391],\n                {}\n            ).addTo(map_43f3ee775a63e55c8a866d77d8ca0c24);\n        \n    \n            var marker_9c47eeb09de1b7ce5b704815daee9a40 = L.marker(\n                [-34.593885, -58.3978981],\n                {}\n            ).addTo(map_43f3ee775a63e55c8a866d77d8ca0c24);\n        \n    \n            var marker_264d04c511621fcd4e6a42e38dd65b4a = L.marker(\n                [-34.798951, -58.404243],\n                {}\n            ).addTo(map_43f3ee775a63e55c8a866d77d8ca0c24);\n        \n    \n            var marker_27d99df065a3f8cba468cb13ae6d7e76 = L.marker(\n                [-34.561708, -58.452373],\n                {}\n            ).addTo(map_43f3ee775a63e55c8a866d77d8ca0c24);\n        \n    \n            var marker_e9df5be0579010d574e6462be4af1bb4 = L.marker(\n                [-34.5859346, -58.4051877],\n                {}\n            ).addTo(map_43f3ee775a63e55c8a866d77d8ca0c24);\n        \n    \n            var marker_8ebc9c9ef55fbf5cc0043c840b3337a9 = L.marker(\n                [-34.934655, -57.975326],\n                {}\n            ).addTo(map_43f3ee775a63e55c8a866d77d8ca0c24);\n        \n    \n            var marker_a9f81856b2e18b2254d5c55611bc5b51 = L.marker(\n                [-37.259025, -56.982672],\n                {}\n            ).addTo(map_43f3ee775a63e55c8a866d77d8ca0c24);\n        \n    \n            var marker_c7c053bface18be99dcc461efb74ba59 = L.marker(\n                [-34.5915193, -58.378118],\n                {}\n            ).addTo(map_43f3ee775a63e55c8a866d77d8ca0c24);\n        \n    \n            var marker_bc024f90f939da77848319b7df71cfc5 = L.marker(\n                [-34.603435, -58.424113],\n                {}\n            ).addTo(map_43f3ee775a63e55c8a866d77d8ca0c24);\n        \n    \n            var marker_56a40371fb9c13eb101823a8f9773f1a = L.marker(\n                [-37.108689, -56.871028],\n                {}\n            ).addTo(map_43f3ee775a63e55c8a866d77d8ca0c24);\n        \n    \n            var marker_c3f6da6c91811901d37c1fc222ed73fe = L.marker(\n                [-37.2635495, -56.9745208],\n                {}\n            ).addTo(map_43f3ee775a63e55c8a866d77d8ca0c24);\n        \n    \n            var marker_0ae37cf993274b219c3b16545bd4421d = L.marker(\n                [-34.572857, -58.459282],\n                {}\n            ).addTo(map_43f3ee775a63e55c8a866d77d8ca0c24);\n        \n    \n            var marker_86fbc54c63effa6d510cd03424e0898a = L.marker(\n                [-38.024498, -57.563767],\n                {}\n            ).addTo(map_43f3ee775a63e55c8a866d77d8ca0c24);\n        \n    \n            var marker_68bead28c9465417c2be286ee937d185 = L.marker(\n                [-38.0016165, -57.5499759],\n                {}\n            ).addTo(map_43f3ee775a63e55c8a866d77d8ca0c24);\n        \n    \n            var marker_3a11052745a957381cd082fddee6dc84 = L.marker(\n                [-37.960018, -57.564476],\n                {}\n            ).addTo(map_43f3ee775a63e55c8a866d77d8ca0c24);\n        \n    \n            var marker_8770e619efccca96417c40c4bba373da = L.marker(\n                [-37.998259, -57.545421],\n                {}\n            ).addTo(map_43f3ee775a63e55c8a866d77d8ca0c24);\n        \n    \n            var marker_e3f0341843c57b709110c41fe1bb3faa = L.marker(\n                [-34.915544, -57.942746],\n                {}\n            ).addTo(map_43f3ee775a63e55c8a866d77d8ca0c24);\n        \n    \n            var marker_3d72048ecdff0fa40f557349b7e61627 = L.marker(\n                [-34.569783, -58.470676],\n                {}\n            ).addTo(map_43f3ee775a63e55c8a866d77d8ca0c24);\n        \n    \n            var marker_0e25721a4657e3318f5f21bcffc0e93e = L.marker(\n                [-34.786031, -58.252974],\n                {}\n            ).addTo(map_43f3ee775a63e55c8a866d77d8ca0c24);\n        \n    \n            var marker_7ab0fd993089c293e6443f5e44c047ca = L.marker(\n                [-34.738192, -58.408967],\n                {}\n            ).addTo(map_43f3ee775a63e55c8a866d77d8ca0c24);\n        \n    \n            var marker_2c96ef56fddf2c63a197d1833c7eb8cb = L.marker(\n                [-34.596317, -58.389805],\n                {}\n            ).addTo(map_43f3ee775a63e55c8a866d77d8ca0c24);\n        \n    \n            var marker_c6a046d22fb4959e3cad5d6d47b3df62 = L.marker(\n                [-34.6547671, -58.50615],\n                {}\n            ).addTo(map_43f3ee775a63e55c8a866d77d8ca0c24);\n        \n    \n            var marker_afde7abe70beda42ca772cd56d08fc61 = L.marker(\n                [-34.6417334, -58.5710307],\n                {}\n            ).addTo(map_43f3ee775a63e55c8a866d77d8ca0c24);\n        \n    \n            var marker_970f4567e851d3f5064a577cbbcf21ff = L.marker(\n                [-34.6539, -58.6207],\n                {}\n            ).addTo(map_43f3ee775a63e55c8a866d77d8ca0c24);\n        \n    \n            var marker_90adb542dc48933931201eed81757368 = L.marker(\n                [-34.649273, -58.654032],\n                {}\n            ).addTo(map_43f3ee775a63e55c8a866d77d8ca0c24);\n        \n    \n            var marker_3dcb7f6ee08f260900fe95de8a50e5af = L.marker(\n                [-34.634367, -58.791778],\n                {}\n            ).addTo(map_43f3ee775a63e55c8a866d77d8ca0c24);\n        \n    \n            var marker_7184bcc1b12f964f05da43c39614cc85 = L.marker(\n                [-34.5614535, -58.6802181],\n                {}\n            ).addTo(map_43f3ee775a63e55c8a866d77d8ca0c24);\n        \n    \n            var marker_dbb31e0b5ba2d167a0013f5e2bdcd131 = L.marker(\n                [0.0, 0.0],\n                {}\n            ).addTo(map_43f3ee775a63e55c8a866d77d8ca0c24);\n        \n    \n            var marker_9b16a5c12711ec9b5caebcf9a253a18d = L.marker(\n                [-34.807942, -58.508362],\n                {}\n            ).addTo(map_43f3ee775a63e55c8a866d77d8ca0c24);\n        \n    \n            var marker_3dd8ea2f0271c4774eb14687a47b3d76 = L.marker(\n                [-38.014727, -57.539134],\n                {}\n            ).addTo(map_43f3ee775a63e55c8a866d77d8ca0c24);\n        \n    \n            var marker_19e5844583d9776927706e40eed720dd = L.marker(\n                [-34.4657445, -58.5749095],\n                {}\n            ).addTo(map_43f3ee775a63e55c8a866d77d8ca0c24);\n        \n    \n            var marker_2a975db88591bb17b02ed4b8c5eff561 = L.marker(\n                [-34.6003328, -58.502862],\n                {}\n            ).addTo(map_43f3ee775a63e55c8a866d77d8ca0c24);\n        \n    \n            var marker_28d4107b672152d1118a656c8b1da80c = L.marker(\n                [-34.6224616, -58.4348107],\n                {}\n            ).addTo(map_43f3ee775a63e55c8a866d77d8ca0c24);\n        \n    \n            var marker_bcac551dd76eb687cc6e49ceda70b19b = L.marker(\n                [-36.688037, -56.683531],\n                {}\n            ).addTo(map_43f3ee775a63e55c8a866d77d8ca0c24);\n        \n    \n            var marker_1dd5a2e038b79e9f2fe4f6e837a3f26c = L.marker(\n                [-34.6133869, -58.3917308],\n                {}\n            ).addTo(map_43f3ee775a63e55c8a866d77d8ca0c24);\n        \n    \n            var marker_a7c321a1cf723bdaa4e2e5296a93f7b8 = L.marker(\n                [0.0, 0.0],\n                {}\n            ).addTo(map_43f3ee775a63e55c8a866d77d8ca0c24);\n        \n    \n            var marker_1ed72a1cbf43d7d5500e9a944b0d65c8 = L.marker(\n                [-34.629588, -58.445295],\n                {}\n            ).addTo(map_43f3ee775a63e55c8a866d77d8ca0c24);\n        \n    \n            var marker_b5c6c30015c0b047fec199312afd79f9 = L.marker(\n                [-34.564535, -58.451564],\n                {}\n            ).addTo(map_43f3ee775a63e55c8a866d77d8ca0c24);\n        \n    \n            var marker_ef42bd27f15ad34b1dde170421c019f1 = L.marker(\n                [-34.58321, -60.95419],\n                {}\n            ).addTo(map_43f3ee775a63e55c8a866d77d8ca0c24);\n        \n    \n            var marker_2728f883e12ddfdb77e2184c61a67933 = L.marker(\n                [-31.533831567142858, -52.83958754857142],\n                {}\n            ).addTo(map_43f3ee775a63e55c8a866d77d8ca0c24);\n        \n    \n            var marker_aa0ffafdd263326747507355e3788fce = L.marker(\n                [-34.691168, -58.498985],\n                {}\n            ).addTo(map_43f3ee775a63e55c8a866d77d8ca0c24);\n        \n    \n            var marker_6d6a11c3abce0bebcbaf72711f157b68 = L.marker(\n                [-31.533831567142858, -52.83958754857142],\n                {}\n            ).addTo(map_43f3ee775a63e55c8a866d77d8ca0c24);\n        \n    \n            var marker_2fd4d2f99d84d3cdc1f479d2a175128e = L.marker(\n                [0.0, 0.0],\n                {}\n            ).addTo(map_43f3ee775a63e55c8a866d77d8ca0c24);\n        \n    \n            var marker_e279a00b2320c1dd38e2e80e2fcf049e = L.marker(\n                [-31.533831567142858, -52.83958754857142],\n                {}\n            ).addTo(map_43f3ee775a63e55c8a866d77d8ca0c24);\n        \n    \n            var marker_abda63c31196ad1fd56e261b39d6a8da = L.marker(\n                [-34.8918342, -60.0206],\n                {}\n            ).addTo(map_43f3ee775a63e55c8a866d77d8ca0c24);\n        \n    \n            var marker_616aaa0ebf091933232a3fb0594d3823 = L.marker(\n                [-38.561925, -58.729802],\n                {}\n            ).addTo(map_43f3ee775a63e55c8a866d77d8ca0c24);\n        \n    \n            var marker_3d11ba906e4094a3585e4a51a6fa0e58 = L.marker(\n                [-34.665727, -58.696967],\n                {}\n            ).addTo(map_43f3ee775a63e55c8a866d77d8ca0c24);\n        \n    \n            var marker_d77dd9805594ea36241b9c3915ae1a56 = L.marker(\n                [-36.360308, -56.722051],\n                {}\n            ).addTo(map_43f3ee775a63e55c8a866d77d8ca0c24);\n        \n    \n            var marker_934a80f707ac5b0dbeec4714641a19e1 = L.marker(\n                [-32.946868, -60.636206],\n                {}\n            ).addTo(map_43f3ee775a63e55c8a866d77d8ca0c24);\n        \n    \n            var marker_3b82565ddd3381b92cf4eaf7203681ae = L.marker(\n                [-33.677926, -59.668511],\n                {}\n            ).addTo(map_43f3ee775a63e55c8a866d77d8ca0c24);\n        \n    \n            var marker_1a2e7396ac6a1b1c3f3d95457a42fc0c = L.marker(\n                [-34.403227, -60.733159],\n                {}\n            ).addTo(map_43f3ee775a63e55c8a866d77d8ca0c24);\n        \n    \n            var marker_403e689a12fd7a4f15926b8f7766f2c2 = L.marker(\n                [-33.899131, -60.576621],\n                {}\n            ).addTo(map_43f3ee775a63e55c8a866d77d8ca0c24);\n        \n    \n            var marker_44ade370ceae61b90ae90290af4f4354 = L.marker(\n                [0.0, 0.0],\n                {}\n            ).addTo(map_43f3ee775a63e55c8a866d77d8ca0c24);\n        \n    \n            var marker_4742a58d7515e58951190c85be1029e8 = L.marker(\n                [-35.635604, -59.776489],\n                {}\n            ).addTo(map_43f3ee775a63e55c8a866d77d8ca0c24);\n        \n    \n            var marker_508b3249cd4513e68d43c74c69e70507 = L.marker(\n                [-30.739331, -57.966514],\n                {}\n            ).addTo(map_43f3ee775a63e55c8a866d77d8ca0c24);\n        \n    \n            var marker_3dedb655d963f875d8664f38b5ee4d95 = L.marker(\n                [-33.010391, -58.526405],\n                {}\n            ).addTo(map_43f3ee775a63e55c8a866d77d8ca0c24);\n        \n    \n            var marker_e10cff8205dfa80ce247bc00aa8eddec = L.marker(\n                [-29.141976, -59.265382],\n                {}\n            ).addTo(map_43f3ee775a63e55c8a866d77d8ca0c24);\n        \n    \n            var marker_ced8b096c8a1febd5fb08c72a01e2aaf = L.marker(\n                [-29.715194, -57.088845],\n                {}\n            ).addTo(map_43f3ee775a63e55c8a866d77d8ca0c24);\n        \n    \n            var marker_56ed0c66495577e7d44ac8b0e2df9e2d = L.marker(\n                [-34.4934, -58.627174],\n                {}\n            ).addTo(map_43f3ee775a63e55c8a866d77d8ca0c24);\n        \n    \n            var marker_d2399e26874cb341fb955be3e19a8908 = L.marker(\n                [-37.327035, -59.132931],\n                {}\n            ).addTo(map_43f3ee775a63e55c8a866d77d8ca0c24);\n        \n    \n            var marker_94bd6ce3eee743dbb0bc4c47c8fb4b40 = L.marker(\n                [-34.637957, -58.377636],\n                {}\n            ).addTo(map_43f3ee775a63e55c8a866d77d8ca0c24);\n        \n    \n            var marker_082a1968e868bd80056ca7b1f2313657 = L.marker(\n                [-43.2688, -65.281627],\n                {}\n            ).addTo(map_43f3ee775a63e55c8a866d77d8ca0c24);\n        \n    \n            var marker_44d6786ca131a5eb613faf8819ae4af9 = L.marker(\n                [-34.595805, -60.928165],\n                {}\n            ).addTo(map_43f3ee775a63e55c8a866d77d8ca0c24);\n        \n    \n            var marker_6325f622b6c6ee860808a4a5e938bf13 = L.marker(\n                [-31.384417, -58.020819],\n                {}\n            ).addTo(map_43f3ee775a63e55c8a866d77d8ca0c24);\n        \n    \n            var marker_cc4c97301f947ae67eb3411054469f1d = L.marker(\n                [-31.755795, -60.496477],\n                {}\n            ).addTo(map_43f3ee775a63e55c8a866d77d8ca0c24);\n        \n    \n            var marker_f3fb13fb3670062f1894f5f73474ef6a = L.marker(\n                [-34.590859, -58.414865],\n                {}\n            ).addTo(map_43f3ee775a63e55c8a866d77d8ca0c24);\n        \n    \n            var marker_7e6e5fc6600c80be37cf5b891f69424c = L.marker(\n                [-34.625104, -58.447309],\n                {}\n            ).addTo(map_43f3ee775a63e55c8a866d77d8ca0c24);\n        \n    \n            var marker_5a0ffa5770e3ff630a308d87cc63380d = L.marker(\n                [-34.598614, -58.402398],\n                {}\n            ).addTo(map_43f3ee775a63e55c8a866d77d8ca0c24);\n        \n    \n            var marker_81a1b5942199e0fda8c269f8ae7591b7 = L.marker(\n                [-34.613838, -58.420486],\n                {}\n            ).addTo(map_43f3ee775a63e55c8a866d77d8ca0c24);\n        \n    \n            var marker_d75ce225a0ec0c14e79887a17bc9c92a = L.marker(\n                [-34.599373, -58.417697],\n                {}\n            ).addTo(map_43f3ee775a63e55c8a866d77d8ca0c24);\n        \n    \n            var marker_818eed0ecc6de03d491aa8c22b673e9c = L.marker(\n                [-34.703165, -58.391991],\n                {}\n            ).addTo(map_43f3ee775a63e55c8a866d77d8ca0c24);\n        \n    \n            var marker_62ee193d106f7b9a00a676467c64a1d4 = L.marker(\n                [-34.593668, -58.404329],\n                {}\n            ).addTo(map_43f3ee775a63e55c8a866d77d8ca0c24);\n        \n    \n            var marker_148c6df1010cb44328ae6fa32c4e27d2 = L.marker(\n                [-34.726218, -58.395638],\n                {}\n            ).addTo(map_43f3ee775a63e55c8a866d77d8ca0c24);\n        \n    \n            var marker_68bc638d0a1d9c1f4c8aeba03ac70650 = L.marker(\n                [-34.9074365, -57.949567],\n                {}\n            ).addTo(map_43f3ee775a63e55c8a866d77d8ca0c24);\n        \n    \n            var marker_7940298922e7cc33f71526e5009e5de7 = L.marker(\n                [-37.991867, -57.559326],\n                {}\n            ).addTo(map_43f3ee775a63e55c8a866d77d8ca0c24);\n        \n    \n            var marker_f297f8be835bef6263e9263b1b560971 = L.marker(\n                [-34.61495, -58.434477],\n                {}\n            ).addTo(map_43f3ee775a63e55c8a866d77d8ca0c24);\n        \n    \n            var marker_44c0d169de130fdb4138c0e64cd862f2 = L.marker(\n                [-31.533831567142858, -52.83958754857142],\n                {}\n            ).addTo(map_43f3ee775a63e55c8a866d77d8ca0c24);\n        \n    \n            var marker_4a8bd5cab3b15de715d16a1e070988f2 = L.marker(\n                [-31.533831567142858, -52.83958754857142],\n                {}\n            ).addTo(map_43f3ee775a63e55c8a866d77d8ca0c24);\n        \n    \n            var marker_577e2f4dc4b3537572bab1b8beffe410 = L.marker(\n                [-34.6487126, -58.6115311],\n                {}\n            ).addTo(map_43f3ee775a63e55c8a866d77d8ca0c24);\n        \n    \n            var marker_229ddb02d75fe970328c25534bbf6861 = L.marker(\n                [-34.655963, -58.651543],\n                {}\n            ).addTo(map_43f3ee775a63e55c8a866d77d8ca0c24);\n        \n    \n            var marker_2a868926d229cb9d00793afe8f08754d = L.marker(\n                [-34.568452, -58.742759],\n                {}\n            ).addTo(map_43f3ee775a63e55c8a866d77d8ca0c24);\n        \n    \n            var marker_a7b492390a1de51e2a974e4e82652c9b = L.marker(\n                [-34.6668243, -58.7273322],\n                {}\n            ).addTo(map_43f3ee775a63e55c8a866d77d8ca0c24);\n        \n    \n            var marker_9881ef9df50a82360b2544a9214ee87c = L.marker(\n                [-34.6729584, -58.7239622],\n                {}\n            ).addTo(map_43f3ee775a63e55c8a866d77d8ca0c24);\n        \n    \n            var marker_922e4d7cd71898a1f55e9f55b0ff545f = L.marker(\n                [-34.643518, -58.789194],\n                {}\n            ).addTo(map_43f3ee775a63e55c8a866d77d8ca0c24);\n        \n    \n            var marker_4b3f7b5cae2e03b41232eb2b2e1530d4 = L.marker(\n                [-34.562532, -59.117523],\n                {}\n            ).addTo(map_43f3ee775a63e55c8a866d77d8ca0c24);\n        \n    \n            var marker_dcde6f66c5f8153bf622bcd39b0516de = L.marker(\n                [-34.602976, -58.635385],\n                {}\n            ).addTo(map_43f3ee775a63e55c8a866d77d8ca0c24);\n        \n    \n            var marker_3dc423ced3e1a8fd5d75b11942decd2d = L.marker(\n                [-34.6531158, -59.4326084],\n                {}\n            ).addTo(map_43f3ee775a63e55c8a866d77d8ca0c24);\n        \n    \n            var marker_3825e962a7b7683621c37fbf8f803726 = L.marker(\n                [-34.6101417, -58.5615015],\n                {}\n            ).addTo(map_43f3ee775a63e55c8a866d77d8ca0c24);\n        \n    \n            var marker_0cb78813c04ef9e61f0a06e278486b80 = L.marker(\n                [-34.6217365, -58.4254639],\n                {}\n            ).addTo(map_43f3ee775a63e55c8a866d77d8ca0c24);\n        \n    \n            var marker_51f66c3908d3e46c834f8f96962a24d8 = L.marker(\n                [-38.046367, -57.55394],\n                {}\n            ).addTo(map_43f3ee775a63e55c8a866d77d8ca0c24);\n        \n    \n            var marker_183ba4cace835688968f03fe5fe85453 = L.marker(\n                [-31.533831567142858, -52.83958754857142],\n                {}\n            ).addTo(map_43f3ee775a63e55c8a866d77d8ca0c24);\n        \n    \n            var marker_9fc2bd3a410ef4d68121f018859fea4b = L.marker(\n                [-31.533831567142858, -52.83958754857142],\n                {}\n            ).addTo(map_43f3ee775a63e55c8a866d77d8ca0c24);\n        \n    \n            var marker_1d843e1405999e4fc6c5fc3e53d1db69 = L.marker(\n                [-31.533831567142858, -52.83958754857142],\n                {}\n            ).addTo(map_43f3ee775a63e55c8a866d77d8ca0c24);\n        \n    \n            var marker_4a3ed38a44fd879b979b310ad56b81a4 = L.marker(\n                [-34.91673, -57.956336],\n                {}\n            ).addTo(map_43f3ee775a63e55c8a866d77d8ca0c24);\n        \n    \n            var marker_7d96cadc612e5c553f4bc967bd4f124c = L.marker(\n                [-34.554674, -58.483486],\n                {}\n            ).addTo(map_43f3ee775a63e55c8a866d77d8ca0c24);\n        \n    \n            var marker_1dbbeece1f78363831e4d0786848f3f9 = L.marker(\n                [-31.533831567142858, -52.83958754857142],\n                {}\n            ).addTo(map_43f3ee775a63e55c8a866d77d8ca0c24);\n        \n    \n            var marker_ceb4540fec4aa0e98add6c2b596220e9 = L.marker(\n                [-31.533831567142858, -52.83958754857142],\n                {}\n            ).addTo(map_43f3ee775a63e55c8a866d77d8ca0c24);\n        \n    \n            var marker_39a7675f9b61d8ea29eb783b6561e5cd = L.marker(\n                [-31.533831567142858, -52.83958754857142],\n                {}\n            ).addTo(map_43f3ee775a63e55c8a866d77d8ca0c24);\n        \n    \n            var marker_538e32655b2a861030c0e6fd9ab9fab7 = L.marker(\n                [-31.533831567142858, -52.83958754857142],\n                {}\n            ).addTo(map_43f3ee775a63e55c8a866d77d8ca0c24);\n        \n    \n            var marker_ead376f792e96ecc721c8392151f1473 = L.marker(\n                [-31.533831567142858, -52.83958754857142],\n                {}\n            ).addTo(map_43f3ee775a63e55c8a866d77d8ca0c24);\n        \n    \n            var marker_2d0f026cd93d4a125c58db335bf39954 = L.marker(\n                [-35.18598, -59.097955],\n                {}\n            ).addTo(map_43f3ee775a63e55c8a866d77d8ca0c24);\n        \n    \n            var marker_c32a7959283bb445510a5a23828a8423 = L.marker(\n                [-35.050042, -58.756238],\n                {}\n            ).addTo(map_43f3ee775a63e55c8a866d77d8ca0c24);\n        \n    \n            var marker_3b1356bfd13d7ef63b4ebad3dc735f1d = L.marker(\n                [-38.377394, -60.272848],\n                {}\n            ).addTo(map_43f3ee775a63e55c8a866d77d8ca0c24);\n        \n    \n            var marker_e689a2998e0a9ed57351b919a681bd9a = L.marker(\n                [-42.768281, -65.037972],\n                {}\n            ).addTo(map_43f3ee775a63e55c8a866d77d8ca0c24);\n        \n    \n            var marker_5fb331ed7099fbf094e356412aa28805 = L.marker(\n                [-38.01236, -57.565788],\n                {}\n            ).addTo(map_43f3ee775a63e55c8a866d77d8ca0c24);\n        \n    \n            var marker_e0a0a1aebed82a79784c54c9ef249889 = L.marker(\n                [-31.533831567142858, -52.83958754857142],\n                {}\n            ).addTo(map_43f3ee775a63e55c8a866d77d8ca0c24);\n        \n    \n            var marker_d5b0a08af836617460f4373525065fa6 = L.marker(\n                [0.0, 0.0],\n                {}\n            ).addTo(map_43f3ee775a63e55c8a866d77d8ca0c24);\n        \n    \n            var marker_9aa0e3cb3241a09a6830afcb62d2e866 = L.marker(\n                [-34.728113, -58.248973],\n                {}\n            ).addTo(map_43f3ee775a63e55c8a866d77d8ca0c24);\n        \n    \n            var marker_1bfc22451da8000c59fe0f65cdf3e2df = L.marker(\n                [-34.674547, -58.460834],\n                {}\n            ).addTo(map_43f3ee775a63e55c8a866d77d8ca0c24);\n        \n    \n            var marker_25869f9bad76523e79bc1176e4631d63 = L.marker(\n                [-34.508767, -58.521727],\n                {}\n            ).addTo(map_43f3ee775a63e55c8a866d77d8ca0c24);\n        \n    \n            var marker_4b47e743d04feae80da3437861f200a5 = L.marker(\n                [-34.792731, -58.414739],\n                {}\n            ).addTo(map_43f3ee775a63e55c8a866d77d8ca0c24);\n        \n    \n            var marker_636f1b483fc70ff61151f774f034c23d = L.marker(\n                [-34.565295, -58.554622],\n                {}\n            ).addTo(map_43f3ee775a63e55c8a866d77d8ca0c24);\n        \n    \n            var marker_cfbac253f5864d22d685827eda294267 = L.marker(\n                [-34.575083, -58.425211],\n                {}\n            ).addTo(map_43f3ee775a63e55c8a866d77d8ca0c24);\n        \n    \n            var marker_67dafbb609023351e5343a6d8071eb61 = L.marker(\n                [-34.759719, -58.278783],\n                {}\n            ).addTo(map_43f3ee775a63e55c8a866d77d8ca0c24);\n        \n    \n            var marker_9c8c61d9d309abd7e8a09fc21b1e6c1a = L.marker(\n                [-34.701083, -58.647552],\n                {}\n            ).addTo(map_43f3ee775a63e55c8a866d77d8ca0c24);\n        \n    \n            var marker_4005cd3b9956c4801d6b594b7e22dbf4 = L.marker(\n                [-34.446786, -58.870454],\n                {}\n            ).addTo(map_43f3ee775a63e55c8a866d77d8ca0c24);\n        \n    \n            var marker_0557eadc683b19843542fecef4f4c470 = L.marker(\n                [-34.621431, -58.360854],\n                {}\n            ).addTo(map_43f3ee775a63e55c8a866d77d8ca0c24);\n        \n    \n            var marker_441b8daec637cb6a85788c8eb70fad67 = L.marker(\n                [-34.355837, -58.797712],\n                {}\n            ).addTo(map_43f3ee775a63e55c8a866d77d8ca0c24);\n        \n    \n            var marker_427eb5391745a5b23a06253fe59e64a2 = L.marker(\n                [-32.909118, -60.683434],\n                {}\n            ).addTo(map_43f3ee775a63e55c8a866d77d8ca0c24);\n        \n    \n            var marker_801d38ff11924703aa9b4926c42d8c7b = L.marker(\n                [-31.533831567142858, -52.83958754857142],\n                {}\n            ).addTo(map_43f3ee775a63e55c8a866d77d8ca0c24);\n        \n    \n            var marker_365bc873229a37d6d085ad89c8bf2ce0 = L.marker(\n                [-34.599815, -58.429112],\n                {}\n            ).addTo(map_43f3ee775a63e55c8a866d77d8ca0c24);\n        \n    \n            var marker_8548c34a611547dc4b1d14296f25ccfc = L.marker(\n                [-34.583457, -58.464818],\n                {}\n            ).addTo(map_43f3ee775a63e55c8a866d77d8ca0c24);\n        \n    \n            var marker_d0c10f52fa7ded72dd6aef16d3808d37 = L.marker(\n                [-34.610676, -58.439326],\n                {}\n            ).addTo(map_43f3ee775a63e55c8a866d77d8ca0c24);\n        \n    \n            var marker_665a0798fd37970e7b208679bd06ecb2 = L.marker(\n                [-34.609829, -58.465505],\n                {}\n            ).addTo(map_43f3ee775a63e55c8a866d77d8ca0c24);\n        \n    \n            var marker_876e68efce35c94ef5c56aacec919af2 = L.marker(\n                [-31.533831567142858, -52.83958754857142],\n                {}\n            ).addTo(map_43f3ee775a63e55c8a866d77d8ca0c24);\n        \n    \n            var marker_a40b0229e1e8aa7e634b84dc7e215fc7 = L.marker(\n                [0.0, 0.0],\n                {}\n            ).addTo(map_43f3ee775a63e55c8a866d77d8ca0c24);\n        \n    \n            var marker_458b1b4b529f0fbd64156837f6c36a8d = L.marker(\n                [-45.872649, -67.496036],\n                {}\n            ).addTo(map_43f3ee775a63e55c8a866d77d8ca0c24);\n        \n    \n            var marker_944283f36277e907ae0429c9a22eedf3 = L.marker(\n                [0.0, 0.0],\n                {}\n            ).addTo(map_43f3ee775a63e55c8a866d77d8ca0c24);\n        \n    \n            var marker_8cb84dc5f4e6eaf1086d2d6e4f8d6ada = L.marker(\n                [0.0, 0.0],\n                {}\n            ).addTo(map_43f3ee775a63e55c8a866d77d8ca0c24);\n        \n    \n            var marker_dba9e2c2400d622df581a4d92a131016 = L.marker(\n                [-31.533831567142858, -52.83958754857142],\n                {}\n            ).addTo(map_43f3ee775a63e55c8a866d77d8ca0c24);\n        \n    \n            var marker_b2f7a48244f32ce0f169aca4be0f2e3e = L.marker(\n                [-31.533831567142858, -52.83958754857142],\n                {}\n            ).addTo(map_43f3ee775a63e55c8a866d77d8ca0c24);\n        \n    \n            var marker_e779a931355c6fa6ed000e1889d15a2f = L.marker(\n                [-34.453186, -58.630924],\n                {}\n            ).addTo(map_43f3ee775a63e55c8a866d77d8ca0c24);\n        \n    \n            var marker_cd47b732adc8d136cb768c56463954a1 = L.marker(\n                [-34.577317, -58.428886],\n                {}\n            ).addTo(map_43f3ee775a63e55c8a866d77d8ca0c24);\n        \n    \n            var marker_9a1acdf3553fee529d9fe9acf3950c55 = L.marker(\n                [-31.533831567142858, -52.83958754857142],\n                {}\n            ).addTo(map_43f3ee775a63e55c8a866d77d8ca0c24);\n        \n    \n            var marker_b9318acdcb41dfe49a054bcb98656a1a = L.marker(\n                [-31.533831567142858, -52.83958754857142],\n                {}\n            ).addTo(map_43f3ee775a63e55c8a866d77d8ca0c24);\n        \n    \n            var marker_0d244e51451420e6dcdc8cf9ff5ad17e = L.marker(\n                [-34.4467025, -58.5450372],\n                {}\n            ).addTo(map_43f3ee775a63e55c8a866d77d8ca0c24);\n        \n    \n            var marker_25125ce4db2e03fd29b4e20e6db9c7e0 = L.marker(\n                [-31.533831567142858, -52.83958754857142],\n                {}\n            ).addTo(map_43f3ee775a63e55c8a866d77d8ca0c24);\n        \n    \n            var marker_33e8f6d4a8e25460129fcbacf5fbc357 = L.marker(\n                [-31.533831567142858, -52.83958754857142],\n                {}\n            ).addTo(map_43f3ee775a63e55c8a866d77d8ca0c24);\n        \n    \n            var marker_bfd4d54381f8fc3b94473ae8373c66d2 = L.marker(\n                [-31.533831567142858, -52.83958754857142],\n                {}\n            ).addTo(map_43f3ee775a63e55c8a866d77d8ca0c24);\n        \n    \n            var marker_27aa523e1da3610d86f99774d3cf043f = L.marker(\n                [0.0, 0.0],\n                {}\n            ).addTo(map_43f3ee775a63e55c8a866d77d8ca0c24);\n        \n    \n            var marker_7835107bd53dd90fdd10dae7f8408c68 = L.marker(\n                [0.0, 0.0],\n                {}\n            ).addTo(map_43f3ee775a63e55c8a866d77d8ca0c24);\n        \n    \n            var marker_3188f42c5dcba3acc2d8ab538d38fca5 = L.marker(\n                [-31.533831567142858, -52.83958754857142],\n                {}\n            ).addTo(map_43f3ee775a63e55c8a866d77d8ca0c24);\n        \n    \n            var marker_ee194acef4e8dd5cd6bc998ec122c0fc = L.marker(\n                [-31.533831567142858, -52.83958754857142],\n                {}\n            ).addTo(map_43f3ee775a63e55c8a866d77d8ca0c24);\n        \n    \n            var marker_0c7ad0ff2eaedab388d72b572ae9a401 = L.marker(\n                [0.0, 0.0],\n                {}\n            ).addTo(map_43f3ee775a63e55c8a866d77d8ca0c24);\n        \n    \n            var marker_c4831e413a79059eb49565f53bf58003 = L.marker(\n                [-31.533831567142858, -52.83958754857142],\n                {}\n            ).addTo(map_43f3ee775a63e55c8a866d77d8ca0c24);\n        \n    \n            var marker_0cb3750e2f4d49742deae0b1f3fbf8af = L.marker(\n                [-31.533831567142858, -52.83958754857142],\n                {}\n            ).addTo(map_43f3ee775a63e55c8a866d77d8ca0c24);\n        \n    \n            var marker_2acfaffb5648c8efdb6b35b4c44dec54 = L.marker(\n                [-31.533831567142858, -52.83958754857142],\n                {}\n            ).addTo(map_43f3ee775a63e55c8a866d77d8ca0c24);\n        \n&lt;/script&gt;\n&lt;/html&gt;\" style=\"position:absolute;width:100%;height:100%;left:0;top:0;border:none !important;\" allowfullscreen webkitallowfullscreen mozallowfullscreen></iframe></div></div>"
     },
     "execution_count": 18,
     "metadata": {},
     "output_type": "execute_result"
    }
   ],
   "source": [
    "import folium\n",
    "\n",
    "# Combine the latitude and longitude columns into a list of locations\n",
    "locations = [[lat, lon] for lat, lon in zip(locales_df['latitud'], locales_df['longitud'])]\n",
    "\n",
    "# Create a map centered at the first location in the list\n",
    "m = folium.Map(location=locations[0], zoom_start=5)\n",
    "\n",
    "# Add markers to the map for each location in the list\n",
    "for location in locations:\n",
    "    folium.Marker(location=location).add_to(m)\n",
    "\n",
    "# Display the map\n",
    "m"
   ],
   "metadata": {
    "collapsed": false
   }
  },
  {
   "cell_type": "markdown",
   "source": [
    "#### Guardar el dataset limpio"
   ],
   "metadata": {
    "collapsed": false
   }
  },
  {
   "cell_type": "code",
   "execution_count": 19,
   "outputs": [],
   "source": [
    "locales_df.to_csv('../clean_data/locales_clean.csv', index=False)"
   ],
   "metadata": {
    "collapsed": false
   }
  },
  {
   "cell_type": "markdown",
   "source": [
    "#### Subir csv a google cloud storage"
   ],
   "metadata": {
    "collapsed": false
   }
  },
  {
   "cell_type": "code",
   "execution_count": 20,
   "outputs": [
    {
     "name": "stdout",
     "output_type": "stream",
     "text": [
      "File ../clean_data/locales_clean.csv uploaded successfully to bucket deodorants/locales\n"
     ]
    }
   ],
   "source": [
    "upload_to_bucket('deodorants', '../clean_data/locales_clean.csv', 'locales')"
   ],
   "metadata": {
    "collapsed": false
   }
  }
 ],
 "metadata": {
  "kernelspec": {
   "display_name": "Python 3 (ipykernel)",
   "language": "python",
   "name": "python3"
  },
  "language_info": {
   "codemirror_mode": {
    "name": "ipython",
    "version": 3
   },
   "file_extension": ".py",
   "mimetype": "text/x-python",
   "name": "python",
   "nbconvert_exporter": "python",
   "pygments_lexer": "ipython3",
   "version": "3.10.8"
  },
  "toc": {
   "base_numbering": 1,
   "nav_menu": {},
   "number_sections": true,
   "sideBar": true,
   "skip_h1_title": false,
   "title_cell": "Table of Contents",
   "title_sidebar": "Contents",
   "toc_cell": false,
   "toc_position": {},
   "toc_section_display": true,
   "toc_window_display": false
  },
  "varInspector": {
   "cols": {
    "lenName": 16,
    "lenType": 16,
    "lenVar": 40
   },
   "kernels_config": {
    "python": {
     "delete_cmd_postfix": "",
     "delete_cmd_prefix": "del ",
     "library": "var_list.py",
     "varRefreshCmd": "print(var_dic_list())"
    },
    "r": {
     "delete_cmd_postfix": ") ",
     "delete_cmd_prefix": "rm(",
     "library": "var_list.r",
     "varRefreshCmd": "cat(var_dic_list()) "
    }
   },
   "types_to_exclude": [
    "module",
    "function",
    "builtin_function_or_method",
    "instance",
    "_Feature"
   ],
   "window_display": false
  }
 },
 "nbformat": 4,
 "nbformat_minor": 5
}
