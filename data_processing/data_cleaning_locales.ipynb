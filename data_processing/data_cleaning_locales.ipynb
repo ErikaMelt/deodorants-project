{
 "cells": [
  {
   "cell_type": "markdown",
   "source": [
    "# Limpieza de Datos Locales 20190712"
   ],
   "metadata": {
    "collapsed": false
   }
  },
  {
   "cell_type": "code",
   "execution_count": 3,
   "id": "396705b3",
   "metadata": {},
   "outputs": [],
   "source": [
    "import pandas as pd"
   ]
  },
  {
   "cell_type": "markdown",
   "id": "dbd04701",
   "metadata": {},
   "source": [
    "# Importar Datasets"
   ]
  },
  {
   "cell_type": "code",
   "execution_count": 4,
   "outputs": [],
   "source": [
    "locales_col_names = [\n",
    "    'id_cadena', 'desc_cadena', 'id_region', 'desc_region', 'idb',\n",
    "    'desc_local', 'latitud', 'longitud', 'punto_dist'\n",
    "]"
   ],
   "metadata": {
    "collapsed": false
   }
  },
  {
   "cell_type": "code",
   "execution_count": 5,
   "outputs": [],
   "source": [
    "locales_df = pd.read_csv(\"../data/Locales.txt\",\n",
    "                         encoding=\"UTF-8\",\n",
    "                         header=None,\n",
    "                         delimiter='\\t',\n",
    "                         names=locales_col_names)"
   ],
   "metadata": {
    "collapsed": false
   }
  },
  {
   "cell_type": "code",
   "execution_count": 6,
   "outputs": [
    {
     "data": {
      "text/plain": "    id_cadena                     desc_cadena  id_region  \\\n0           1  Plaza Vea                               1   \n1           1  Plaza Vea                               1   \n2           1  Plaza Vea                               1   \n3           1  Plaza Vea                               1   \n4           1  Plaza Vea                               1   \n5           2  Disco                                   1   \n6           2  Disco                                   1   \n7           2  Disco                                   1   \n8           2  Disco                                   1   \n9           2  Disco                                   1   \n10          2  Disco                                   1   \n11          2  Disco                                   1   \n12          2  Disco                                   1   \n13          2  Disco                                   1   \n14          2  Disco                                   1   \n15          2  Disco                                   1   \n16          2  Disco                                   1   \n17          2  Disco                                   1   \n18          2  Disco                                   1   \n19          2  Disco                                   1   \n20          2  Disco                                   1   \n21          2  Disco                                   1   \n22          2  Disco                                   1   \n23          2  Disco                                   1   \n24          2  Disco                                   1   \n25          2  Disco                                   1   \n26          2  Disco                                   1   \n27          2  Disco                                   1   \n28          2  Disco                                   1   \n29          2  Disco                                   1   \n30          2  Disco                                   1   \n31          2  Disco                                   1   \n32          2  Disco                                   1   \n33          2  Disco                                   1   \n34          2  Disco                                   1   \n35          2  Disco                                   1   \n36          2  Disco                                   1   \n37          2  Disco                                   1   \n38          2  Disco                                   1   \n39          2  Disco                                   1   \n\n                       desc_region   idb                      desc_local  \\\n0   Buenos Aires                    9693     9693 - P Vea Villa Urquiza.   \n1   Buenos Aires                    9694          9694 - P Vea JB Justo.   \n2   Buenos Aires                    9695             695 - P Vea Acoyte.   \n3   Buenos Aires                    9699          699 - P Vea Rivadavia.   \n4   Buenos Aires                    9889  889 - Plaza Vea Carpa de liqui   \n5   Buenos Aires                     247         916 - SM 916 Gorostiaga   \n6   Buenos Aires                     257                61 - Tortuguitas   \n7   Buenos Aires                     285             953 - Venado Tuerto   \n8   Buenos Aires                     740                   740 - Canning   \n9   Buenos Aires                     961              961 - Av. Santa FÇ   \n10  Buenos Aires                    1190  6190 - BT SAF (Importaciones).   \n11  Buenos Aires                    1914    3914 - Interno SLL BsAs 217.   \n12  Buenos Aires                    9001                 1 - San Isidro.   \n13  Buenos Aires                    9002                 2 - Talcahuano.   \n14  Buenos Aires                    9003                    3 - Camacua.   \n15  Buenos Aires                    9004              4 - Vicente L¢pez.   \n16  Buenos Aires                    9007                 7 - Pte. Per¢n.   \n17  Buenos Aires                    9009            9 - Lomas de Zamora.   \n18  Buenos Aires                    9012                     12 - Sucre.   \n19  Buenos Aires                    9014                14 - Las Heras..   \n20  Buenos Aires                    9015                  15 - Salguero.   \n21  Buenos Aires                    9016                  16 - Paraguay.   \n22  Buenos Aires                    9017           17 - Virrey del Pino.   \n23  Buenos Aires                    9018                  18 - Quintana.   \n24  Buenos Aires                    9022                  22 - Santa Fe.   \n25  Buenos Aires                    9023              23 - Alto Palermo.   \n26  Buenos Aires                    9025            25 - Rodr°guez Pe§a.   \n27  Buenos Aires                    9026                26 - Av. Callao.   \n28  Buenos Aires                    9030                 30 - Rivadavia.   \n29  Buenos Aires                    9035                   35 - Uriburu.   \n30  Buenos Aires                    9037                   37 - AdroguÇ.   \n31  Buenos Aires                    9038                     38 - Arcos.   \n32  Buenos Aires                    9039                      39 - Pe§a.   \n33  Buenos Aires                    9042                42 - La Plata I.   \n34  Buenos Aires                    9045          45 - Gesell Boulevard.   \n35  Buenos Aires                    9046                 46 - Esmeralda.   \n36  Buenos Aires                    9048                    48 - Gasc¢n.   \n37  Buenos Aires                    9049                   49 - Pinamar.   \n38  Buenos Aires                    9050            50 - Gesell Central.   \n39  Buenos Aires                    9054                    54 - Elcano.   \n\n      latitud   longitud punto_dist  \n0         NaN        NaN          N  \n1         NaN        NaN          N  \n2    0.000000   0.000000          N  \n3    0.000000   0.000000          N  \n4         NaN        NaN          N  \n5  -34.565259 -58.436583          N  \n6  -34.446043 -58.745098          N  \n7         NaN        NaN          N  \n8  -34.853221 -58.502247          N  \n9         NaN        NaN          N  \n10        NaN        NaN          S  \n11        NaN        NaN          S  \n12 -34.471531 -58.515350          N  \n13 -34.596256 -58.385701          N  \n14 -34.627893 -58.458295          N  \n15 -34.520825 -58.485332          N  \n16   0.000000   0.000000          N  \n17 -34.764091 -58.398621          N  \n18 -34.560842 -58.449841          N  \n19 -34.581691 -58.414435          N  \n20 -34.580101 -58.408191          N  \n21 -34.586090 -58.422310          N  \n22 -34.566744 -58.453445          N  \n23 -34.589375 -58.388536          N  \n24 -34.590488 -58.408384          N  \n25 -34.587061 -58.410916          N  \n26 -34.593032 -58.391347          N  \n27 -34.608787 -58.392012          N  \n28 -34.617352 -58.434391          N  \n29 -34.593885 -58.397898          N  \n30 -34.798951 -58.404243          N  \n31 -34.561708 -58.452373          N  \n32 -34.585935 -58.405188          N  \n33 -34.934655 -57.975326          N  \n34 -37.259025 -56.982672          N  \n35 -34.591519 -58.378118          N  \n36 -34.603435 -58.424113          N  \n37 -37.108689 -56.871028          N  \n38 -37.263550 -56.974521          N  \n39 -34.572857 -58.459282          N  ",
      "text/html": "<div>\n<style scoped>\n    .dataframe tbody tr th:only-of-type {\n        vertical-align: middle;\n    }\n\n    .dataframe tbody tr th {\n        vertical-align: top;\n    }\n\n    .dataframe thead th {\n        text-align: right;\n    }\n</style>\n<table border=\"1\" class=\"dataframe\">\n  <thead>\n    <tr style=\"text-align: right;\">\n      <th></th>\n      <th>id_cadena</th>\n      <th>desc_cadena</th>\n      <th>id_region</th>\n      <th>desc_region</th>\n      <th>idb</th>\n      <th>desc_local</th>\n      <th>latitud</th>\n      <th>longitud</th>\n      <th>punto_dist</th>\n    </tr>\n  </thead>\n  <tbody>\n    <tr>\n      <th>0</th>\n      <td>1</td>\n      <td>Plaza Vea</td>\n      <td>1</td>\n      <td>Buenos Aires</td>\n      <td>9693</td>\n      <td>9693 - P Vea Villa Urquiza.</td>\n      <td>NaN</td>\n      <td>NaN</td>\n      <td>N</td>\n    </tr>\n    <tr>\n      <th>1</th>\n      <td>1</td>\n      <td>Plaza Vea</td>\n      <td>1</td>\n      <td>Buenos Aires</td>\n      <td>9694</td>\n      <td>9694 - P Vea JB Justo.</td>\n      <td>NaN</td>\n      <td>NaN</td>\n      <td>N</td>\n    </tr>\n    <tr>\n      <th>2</th>\n      <td>1</td>\n      <td>Plaza Vea</td>\n      <td>1</td>\n      <td>Buenos Aires</td>\n      <td>9695</td>\n      <td>695 - P Vea Acoyte.</td>\n      <td>0.000000</td>\n      <td>0.000000</td>\n      <td>N</td>\n    </tr>\n    <tr>\n      <th>3</th>\n      <td>1</td>\n      <td>Plaza Vea</td>\n      <td>1</td>\n      <td>Buenos Aires</td>\n      <td>9699</td>\n      <td>699 - P Vea Rivadavia.</td>\n      <td>0.000000</td>\n      <td>0.000000</td>\n      <td>N</td>\n    </tr>\n    <tr>\n      <th>4</th>\n      <td>1</td>\n      <td>Plaza Vea</td>\n      <td>1</td>\n      <td>Buenos Aires</td>\n      <td>9889</td>\n      <td>889 - Plaza Vea Carpa de liqui</td>\n      <td>NaN</td>\n      <td>NaN</td>\n      <td>N</td>\n    </tr>\n    <tr>\n      <th>5</th>\n      <td>2</td>\n      <td>Disco</td>\n      <td>1</td>\n      <td>Buenos Aires</td>\n      <td>247</td>\n      <td>916 - SM 916 Gorostiaga</td>\n      <td>-34.565259</td>\n      <td>-58.436583</td>\n      <td>N</td>\n    </tr>\n    <tr>\n      <th>6</th>\n      <td>2</td>\n      <td>Disco</td>\n      <td>1</td>\n      <td>Buenos Aires</td>\n      <td>257</td>\n      <td>61 - Tortuguitas</td>\n      <td>-34.446043</td>\n      <td>-58.745098</td>\n      <td>N</td>\n    </tr>\n    <tr>\n      <th>7</th>\n      <td>2</td>\n      <td>Disco</td>\n      <td>1</td>\n      <td>Buenos Aires</td>\n      <td>285</td>\n      <td>953 - Venado Tuerto</td>\n      <td>NaN</td>\n      <td>NaN</td>\n      <td>N</td>\n    </tr>\n    <tr>\n      <th>8</th>\n      <td>2</td>\n      <td>Disco</td>\n      <td>1</td>\n      <td>Buenos Aires</td>\n      <td>740</td>\n      <td>740 - Canning</td>\n      <td>-34.853221</td>\n      <td>-58.502247</td>\n      <td>N</td>\n    </tr>\n    <tr>\n      <th>9</th>\n      <td>2</td>\n      <td>Disco</td>\n      <td>1</td>\n      <td>Buenos Aires</td>\n      <td>961</td>\n      <td>961 - Av. Santa FÇ</td>\n      <td>NaN</td>\n      <td>NaN</td>\n      <td>N</td>\n    </tr>\n    <tr>\n      <th>10</th>\n      <td>2</td>\n      <td>Disco</td>\n      <td>1</td>\n      <td>Buenos Aires</td>\n      <td>1190</td>\n      <td>6190 - BT SAF (Importaciones).</td>\n      <td>NaN</td>\n      <td>NaN</td>\n      <td>S</td>\n    </tr>\n    <tr>\n      <th>11</th>\n      <td>2</td>\n      <td>Disco</td>\n      <td>1</td>\n      <td>Buenos Aires</td>\n      <td>1914</td>\n      <td>3914 - Interno SLL BsAs 217.</td>\n      <td>NaN</td>\n      <td>NaN</td>\n      <td>S</td>\n    </tr>\n    <tr>\n      <th>12</th>\n      <td>2</td>\n      <td>Disco</td>\n      <td>1</td>\n      <td>Buenos Aires</td>\n      <td>9001</td>\n      <td>1 - San Isidro.</td>\n      <td>-34.471531</td>\n      <td>-58.515350</td>\n      <td>N</td>\n    </tr>\n    <tr>\n      <th>13</th>\n      <td>2</td>\n      <td>Disco</td>\n      <td>1</td>\n      <td>Buenos Aires</td>\n      <td>9002</td>\n      <td>2 - Talcahuano.</td>\n      <td>-34.596256</td>\n      <td>-58.385701</td>\n      <td>N</td>\n    </tr>\n    <tr>\n      <th>14</th>\n      <td>2</td>\n      <td>Disco</td>\n      <td>1</td>\n      <td>Buenos Aires</td>\n      <td>9003</td>\n      <td>3 - Camacua.</td>\n      <td>-34.627893</td>\n      <td>-58.458295</td>\n      <td>N</td>\n    </tr>\n    <tr>\n      <th>15</th>\n      <td>2</td>\n      <td>Disco</td>\n      <td>1</td>\n      <td>Buenos Aires</td>\n      <td>9004</td>\n      <td>4 - Vicente L¢pez.</td>\n      <td>-34.520825</td>\n      <td>-58.485332</td>\n      <td>N</td>\n    </tr>\n    <tr>\n      <th>16</th>\n      <td>2</td>\n      <td>Disco</td>\n      <td>1</td>\n      <td>Buenos Aires</td>\n      <td>9007</td>\n      <td>7 - Pte. Per¢n.</td>\n      <td>0.000000</td>\n      <td>0.000000</td>\n      <td>N</td>\n    </tr>\n    <tr>\n      <th>17</th>\n      <td>2</td>\n      <td>Disco</td>\n      <td>1</td>\n      <td>Buenos Aires</td>\n      <td>9009</td>\n      <td>9 - Lomas de Zamora.</td>\n      <td>-34.764091</td>\n      <td>-58.398621</td>\n      <td>N</td>\n    </tr>\n    <tr>\n      <th>18</th>\n      <td>2</td>\n      <td>Disco</td>\n      <td>1</td>\n      <td>Buenos Aires</td>\n      <td>9012</td>\n      <td>12 - Sucre.</td>\n      <td>-34.560842</td>\n      <td>-58.449841</td>\n      <td>N</td>\n    </tr>\n    <tr>\n      <th>19</th>\n      <td>2</td>\n      <td>Disco</td>\n      <td>1</td>\n      <td>Buenos Aires</td>\n      <td>9014</td>\n      <td>14 - Las Heras..</td>\n      <td>-34.581691</td>\n      <td>-58.414435</td>\n      <td>N</td>\n    </tr>\n    <tr>\n      <th>20</th>\n      <td>2</td>\n      <td>Disco</td>\n      <td>1</td>\n      <td>Buenos Aires</td>\n      <td>9015</td>\n      <td>15 - Salguero.</td>\n      <td>-34.580101</td>\n      <td>-58.408191</td>\n      <td>N</td>\n    </tr>\n    <tr>\n      <th>21</th>\n      <td>2</td>\n      <td>Disco</td>\n      <td>1</td>\n      <td>Buenos Aires</td>\n      <td>9016</td>\n      <td>16 - Paraguay.</td>\n      <td>-34.586090</td>\n      <td>-58.422310</td>\n      <td>N</td>\n    </tr>\n    <tr>\n      <th>22</th>\n      <td>2</td>\n      <td>Disco</td>\n      <td>1</td>\n      <td>Buenos Aires</td>\n      <td>9017</td>\n      <td>17 - Virrey del Pino.</td>\n      <td>-34.566744</td>\n      <td>-58.453445</td>\n      <td>N</td>\n    </tr>\n    <tr>\n      <th>23</th>\n      <td>2</td>\n      <td>Disco</td>\n      <td>1</td>\n      <td>Buenos Aires</td>\n      <td>9018</td>\n      <td>18 - Quintana.</td>\n      <td>-34.589375</td>\n      <td>-58.388536</td>\n      <td>N</td>\n    </tr>\n    <tr>\n      <th>24</th>\n      <td>2</td>\n      <td>Disco</td>\n      <td>1</td>\n      <td>Buenos Aires</td>\n      <td>9022</td>\n      <td>22 - Santa Fe.</td>\n      <td>-34.590488</td>\n      <td>-58.408384</td>\n      <td>N</td>\n    </tr>\n    <tr>\n      <th>25</th>\n      <td>2</td>\n      <td>Disco</td>\n      <td>1</td>\n      <td>Buenos Aires</td>\n      <td>9023</td>\n      <td>23 - Alto Palermo.</td>\n      <td>-34.587061</td>\n      <td>-58.410916</td>\n      <td>N</td>\n    </tr>\n    <tr>\n      <th>26</th>\n      <td>2</td>\n      <td>Disco</td>\n      <td>1</td>\n      <td>Buenos Aires</td>\n      <td>9025</td>\n      <td>25 - Rodr°guez Pe§a.</td>\n      <td>-34.593032</td>\n      <td>-58.391347</td>\n      <td>N</td>\n    </tr>\n    <tr>\n      <th>27</th>\n      <td>2</td>\n      <td>Disco</td>\n      <td>1</td>\n      <td>Buenos Aires</td>\n      <td>9026</td>\n      <td>26 - Av. Callao.</td>\n      <td>-34.608787</td>\n      <td>-58.392012</td>\n      <td>N</td>\n    </tr>\n    <tr>\n      <th>28</th>\n      <td>2</td>\n      <td>Disco</td>\n      <td>1</td>\n      <td>Buenos Aires</td>\n      <td>9030</td>\n      <td>30 - Rivadavia.</td>\n      <td>-34.617352</td>\n      <td>-58.434391</td>\n      <td>N</td>\n    </tr>\n    <tr>\n      <th>29</th>\n      <td>2</td>\n      <td>Disco</td>\n      <td>1</td>\n      <td>Buenos Aires</td>\n      <td>9035</td>\n      <td>35 - Uriburu.</td>\n      <td>-34.593885</td>\n      <td>-58.397898</td>\n      <td>N</td>\n    </tr>\n    <tr>\n      <th>30</th>\n      <td>2</td>\n      <td>Disco</td>\n      <td>1</td>\n      <td>Buenos Aires</td>\n      <td>9037</td>\n      <td>37 - AdroguÇ.</td>\n      <td>-34.798951</td>\n      <td>-58.404243</td>\n      <td>N</td>\n    </tr>\n    <tr>\n      <th>31</th>\n      <td>2</td>\n      <td>Disco</td>\n      <td>1</td>\n      <td>Buenos Aires</td>\n      <td>9038</td>\n      <td>38 - Arcos.</td>\n      <td>-34.561708</td>\n      <td>-58.452373</td>\n      <td>N</td>\n    </tr>\n    <tr>\n      <th>32</th>\n      <td>2</td>\n      <td>Disco</td>\n      <td>1</td>\n      <td>Buenos Aires</td>\n      <td>9039</td>\n      <td>39 - Pe§a.</td>\n      <td>-34.585935</td>\n      <td>-58.405188</td>\n      <td>N</td>\n    </tr>\n    <tr>\n      <th>33</th>\n      <td>2</td>\n      <td>Disco</td>\n      <td>1</td>\n      <td>Buenos Aires</td>\n      <td>9042</td>\n      <td>42 - La Plata I.</td>\n      <td>-34.934655</td>\n      <td>-57.975326</td>\n      <td>N</td>\n    </tr>\n    <tr>\n      <th>34</th>\n      <td>2</td>\n      <td>Disco</td>\n      <td>1</td>\n      <td>Buenos Aires</td>\n      <td>9045</td>\n      <td>45 - Gesell Boulevard.</td>\n      <td>-37.259025</td>\n      <td>-56.982672</td>\n      <td>N</td>\n    </tr>\n    <tr>\n      <th>35</th>\n      <td>2</td>\n      <td>Disco</td>\n      <td>1</td>\n      <td>Buenos Aires</td>\n      <td>9046</td>\n      <td>46 - Esmeralda.</td>\n      <td>-34.591519</td>\n      <td>-58.378118</td>\n      <td>N</td>\n    </tr>\n    <tr>\n      <th>36</th>\n      <td>2</td>\n      <td>Disco</td>\n      <td>1</td>\n      <td>Buenos Aires</td>\n      <td>9048</td>\n      <td>48 - Gasc¢n.</td>\n      <td>-34.603435</td>\n      <td>-58.424113</td>\n      <td>N</td>\n    </tr>\n    <tr>\n      <th>37</th>\n      <td>2</td>\n      <td>Disco</td>\n      <td>1</td>\n      <td>Buenos Aires</td>\n      <td>9049</td>\n      <td>49 - Pinamar.</td>\n      <td>-37.108689</td>\n      <td>-56.871028</td>\n      <td>N</td>\n    </tr>\n    <tr>\n      <th>38</th>\n      <td>2</td>\n      <td>Disco</td>\n      <td>1</td>\n      <td>Buenos Aires</td>\n      <td>9050</td>\n      <td>50 - Gesell Central.</td>\n      <td>-37.263550</td>\n      <td>-56.974521</td>\n      <td>N</td>\n    </tr>\n    <tr>\n      <th>39</th>\n      <td>2</td>\n      <td>Disco</td>\n      <td>1</td>\n      <td>Buenos Aires</td>\n      <td>9054</td>\n      <td>54 - Elcano.</td>\n      <td>-34.572857</td>\n      <td>-58.459282</td>\n      <td>N</td>\n    </tr>\n  </tbody>\n</table>\n</div>"
     },
     "execution_count": 6,
     "metadata": {},
     "output_type": "execute_result"
    }
   ],
   "source": [
    "locales_df.head(40)\n"
   ],
   "metadata": {
    "collapsed": false
   }
  },
  {
   "cell_type": "code",
   "execution_count": 7,
   "outputs": [
    {
     "ename": "TypeError",
     "evalue": "Series.apply() missing 1 required positional argument: 'func'",
     "output_type": "error",
     "traceback": [
      "\u001B[0;31m---------------------------------------------------------------------------\u001B[0m",
      "\u001B[0;31mTypeError\u001B[0m                                 Traceback (most recent call last)",
      "Cell \u001B[0;32mIn[7], line 1\u001B[0m\n\u001B[0;32m----> 1\u001B[0m locales_df[\u001B[38;5;124m'\u001B[39m\u001B[38;5;124mdesc_local\u001B[39m\u001B[38;5;124m'\u001B[39m] \u001B[38;5;241m=\u001B[39m \u001B[43mlocales_df\u001B[49m\u001B[43m[\u001B[49m\u001B[38;5;124;43m'\u001B[39;49m\u001B[38;5;124;43mdesc_local\u001B[39;49m\u001B[38;5;124;43m'\u001B[39;49m\u001B[43m]\u001B[49m\u001B[38;5;241;43m.\u001B[39;49m\u001B[43mapply\u001B[49m\u001B[43m(\u001B[49m\u001B[43m)\u001B[49m\n",
      "\u001B[0;31mTypeError\u001B[0m: Series.apply() missing 1 required positional argument: 'func'"
     ]
    }
   ],
   "source": [
    "locales_df['desc_local'] = locales_df['desc_local'].apply()"
   ],
   "metadata": {
    "collapsed": false
   }
  },
  {
   "cell_type": "code",
   "execution_count": 8,
   "outputs": [
    {
     "name": "stdout",
     "output_type": "stream",
     "text": [
      "<class 'pandas.core.frame.DataFrame'>\n",
      "RangeIndex: 175 entries, 0 to 174\n",
      "Data columns (total 9 columns):\n",
      " #   Column       Non-Null Count  Dtype  \n",
      "---  ------       --------------  -----  \n",
      " 0   id_cadena    175 non-null    int64  \n",
      " 1   desc_cadena  175 non-null    object \n",
      " 2   id_region    175 non-null    int64  \n",
      " 3   desc_region  175 non-null    object \n",
      " 4   idb          175 non-null    int64  \n",
      " 5   desc_local   175 non-null    object \n",
      " 6   latitud      140 non-null    float64\n",
      " 7   longitud     140 non-null    float64\n",
      " 8   punto_dist   175 non-null    object \n",
      "dtypes: float64(2), int64(3), object(4)\n",
      "memory usage: 12.4+ KB\n"
     ]
    }
   ],
   "source": [
    "locales_df.info()"
   ],
   "metadata": {
    "collapsed": false
   }
  },
  {
   "cell_type": "markdown",
   "source": [
    "#### Ajustes al dataframe\n",
    "\n",
    "- Limpiar la descripcion de la región, eliminando el numero y el simbolo (-) y convertir el nombre a minuscula.\n",
    "- Convertir a 1 y 0 la columna punto de distribucción con la siguiente regla si el valor es 'S' = 1 que significa que es un punto de distribucción de lo contrario sería 0.\n",
    "- Convertir a minusculas todos los tipos de datos object o string."
   ],
   "metadata": {
    "collapsed": false
   }
  },
  {
   "cell_type": "code",
   "execution_count": 9,
   "outputs": [],
   "source": [
    "locales_df = locales_df.applymap(lambda x: x.lower() if isinstance(x, str) else x)"
   ],
   "metadata": {
    "collapsed": false
   }
  },
  {
   "cell_type": "code",
   "execution_count": 10,
   "outputs": [],
   "source": [
    "locales_df['desc_local'] = locales_df['desc_local'].replace(to_replace=r'^\\d+\\s*-\\s*', value='', regex=True)"
   ],
   "metadata": {
    "collapsed": false
   }
  },
  {
   "cell_type": "code",
   "execution_count": 11,
   "outputs": [],
   "source": [
    "locales_df['desc_local'] = locales_df['desc_local'].replace(to_replace=r'Ba¤o', value='Baño', regex=True)"
   ],
   "metadata": {
    "collapsed": false
   }
  },
  {
   "cell_type": "code",
   "execution_count": 12,
   "outputs": [],
   "source": [
    "locales_df['desc_local'] = locales_df['desc_local'].replace(to_replace=r'Rinc¢n', value='Rincón', regex=True)"
   ],
   "metadata": {
    "collapsed": false
   }
  },
  {
   "cell_type": "code",
   "execution_count": 13,
   "outputs": [],
   "source": [
    "locales_df['desc_local'] = locales_df['desc_local'].replace(to_replace=r'F', value='Fé', regex=True)"
   ],
   "metadata": {
    "collapsed": false
   }
  },
  {
   "cell_type": "code",
   "execution_count": 14,
   "outputs": [],
   "source": [
    "locales_df['desc_local'] = locales_df['desc_local'].replace(to_replace=r'Mor¢n', value='Morén', regex=True)"
   ],
   "metadata": {
    "collapsed": false
   }
  },
  {
   "cell_type": "code",
   "execution_count": 15,
   "outputs": [
    {
     "name": "stdout",
     "output_type": "stream",
     "text": [
      "id_cadena       0\n",
      "desc_cadena     0\n",
      "id_region       0\n",
      "desc_region     0\n",
      "idb             0\n",
      "desc_local      0\n",
      "latitud        35\n",
      "longitud       35\n",
      "punto_dist      0\n",
      "dtype: int64\n"
     ]
    }
   ],
   "source": [
    "print(locales_df.isna().sum())"
   ],
   "metadata": {
    "collapsed": false
   }
  },
  {
   "cell_type": "code",
   "execution_count": 15,
   "outputs": [],
   "source": [],
   "metadata": {
    "collapsed": false
   }
  },
  {
   "cell_type": "code",
   "execution_count": 16,
   "outputs": [
    {
     "data": {
      "text/plain": "id_cadena       0\ndesc_cadena     0\nid_region       0\ndesc_region     0\nidb             0\ndesc_local      0\nlatitud        35\nlongitud       35\npunto_dist      0\ndtype: int64"
     },
     "execution_count": 16,
     "metadata": {},
     "output_type": "execute_result"
    }
   ],
   "source": [
    "locales_df.isnull().sum(axis=0)"
   ],
   "metadata": {
    "collapsed": false
   }
  },
  {
   "cell_type": "code",
   "execution_count": null,
   "outputs": [],
   "source": [
    "locales_df.head(175)  Pte. Per¢n. Rodr¡guez Pe¤a."
   ],
   "metadata": {
    "collapsed": false
   }
  },
  {
   "cell_type": "code",
   "execution_count": 17,
   "outputs": [
    {
     "data": {
      "text/plain": "        id_cadena  id_region          idb     latitud    longitud\ncount  175.000000      175.0   175.000000  140.000000  140.000000\nmean     4.502857        1.0  6909.617143  -31.533832  -52.839588\nstd      2.945627        0.0  3421.539461   10.718891   17.724343\nmin      1.000000        1.0   242.000000  -45.872649  -67.496036\n25%      2.000000        1.0  5213.500000  -34.730633  -58.632039\n50%      4.000000        1.0  9019.000000  -34.601654  -58.434434\n75%      4.000000        1.0  9158.500000  -34.546212  -58.251974\nmax     11.000000        1.0  9977.000000    0.000000    0.000000",
      "text/html": "<div>\n<style scoped>\n    .dataframe tbody tr th:only-of-type {\n        vertical-align: middle;\n    }\n\n    .dataframe tbody tr th {\n        vertical-align: top;\n    }\n\n    .dataframe thead th {\n        text-align: right;\n    }\n</style>\n<table border=\"1\" class=\"dataframe\">\n  <thead>\n    <tr style=\"text-align: right;\">\n      <th></th>\n      <th>id_cadena</th>\n      <th>id_region</th>\n      <th>idb</th>\n      <th>latitud</th>\n      <th>longitud</th>\n    </tr>\n  </thead>\n  <tbody>\n    <tr>\n      <th>count</th>\n      <td>175.000000</td>\n      <td>175.0</td>\n      <td>175.000000</td>\n      <td>140.000000</td>\n      <td>140.000000</td>\n    </tr>\n    <tr>\n      <th>mean</th>\n      <td>4.502857</td>\n      <td>1.0</td>\n      <td>6909.617143</td>\n      <td>-31.533832</td>\n      <td>-52.839588</td>\n    </tr>\n    <tr>\n      <th>std</th>\n      <td>2.945627</td>\n      <td>0.0</td>\n      <td>3421.539461</td>\n      <td>10.718891</td>\n      <td>17.724343</td>\n    </tr>\n    <tr>\n      <th>min</th>\n      <td>1.000000</td>\n      <td>1.0</td>\n      <td>242.000000</td>\n      <td>-45.872649</td>\n      <td>-67.496036</td>\n    </tr>\n    <tr>\n      <th>25%</th>\n      <td>2.000000</td>\n      <td>1.0</td>\n      <td>5213.500000</td>\n      <td>-34.730633</td>\n      <td>-58.632039</td>\n    </tr>\n    <tr>\n      <th>50%</th>\n      <td>4.000000</td>\n      <td>1.0</td>\n      <td>9019.000000</td>\n      <td>-34.601654</td>\n      <td>-58.434434</td>\n    </tr>\n    <tr>\n      <th>75%</th>\n      <td>4.000000</td>\n      <td>1.0</td>\n      <td>9158.500000</td>\n      <td>-34.546212</td>\n      <td>-58.251974</td>\n    </tr>\n    <tr>\n      <th>max</th>\n      <td>11.000000</td>\n      <td>1.0</td>\n      <td>9977.000000</td>\n      <td>0.000000</td>\n      <td>0.000000</td>\n    </tr>\n  </tbody>\n</table>\n</div>"
     },
     "execution_count": 17,
     "metadata": {},
     "output_type": "execute_result"
    }
   ],
   "source": [
    "locales_df.describe()"
   ],
   "metadata": {
    "collapsed": false
   }
  },
  {
   "cell_type": "markdown",
   "source": [
    "#### Guardar el dataset limpio"
   ],
   "metadata": {
    "collapsed": false
   }
  },
  {
   "cell_type": "code",
   "execution_count": 19,
   "outputs": [],
   "source": [
    "locales_df.to_csv('../clean_data/locales_clean.csv', index=False)"
   ],
   "metadata": {
    "collapsed": false
   }
  },
  {
   "cell_type": "code",
   "execution_count": null,
   "outputs": [],
   "source": [],
   "metadata": {
    "collapsed": false
   }
  }
 ],
 "metadata": {
  "kernelspec": {
   "display_name": "Python 3 (ipykernel)",
   "language": "python",
   "name": "python3"
  },
  "language_info": {
   "codemirror_mode": {
    "name": "ipython",
    "version": 3
   },
   "file_extension": ".py",
   "mimetype": "text/x-python",
   "name": "python",
   "nbconvert_exporter": "python",
   "pygments_lexer": "ipython3",
   "version": "3.10.8"
  },
  "toc": {
   "base_numbering": 1,
   "nav_menu": {},
   "number_sections": true,
   "sideBar": true,
   "skip_h1_title": false,
   "title_cell": "Table of Contents",
   "title_sidebar": "Contents",
   "toc_cell": false,
   "toc_position": {},
   "toc_section_display": true,
   "toc_window_display": false
  },
  "varInspector": {
   "cols": {
    "lenName": 16,
    "lenType": 16,
    "lenVar": 40
   },
   "kernels_config": {
    "python": {
     "delete_cmd_postfix": "",
     "delete_cmd_prefix": "del ",
     "library": "var_list.py",
     "varRefreshCmd": "print(var_dic_list())"
    },
    "r": {
     "delete_cmd_postfix": ") ",
     "delete_cmd_prefix": "rm(",
     "library": "var_list.r",
     "varRefreshCmd": "cat(var_dic_list()) "
    }
   },
   "types_to_exclude": [
    "module",
    "function",
    "builtin_function_or_method",
    "instance",
    "_Feature"
   ],
   "window_display": false
  }
 },
 "nbformat": 4,
 "nbformat_minor": 5
}
