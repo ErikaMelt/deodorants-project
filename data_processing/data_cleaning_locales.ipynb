{
 "cells": [
  {
   "cell_type": "markdown",
   "source": [
    "# Limpieza de Datos Locales 20190712"
   ],
   "metadata": {
    "collapsed": false
   }
  },
  {
   "cell_type": "code",
   "execution_count": 2,
   "id": "396705b3",
   "metadata": {},
   "outputs": [],
   "source": [
    "import pandas as pd"
   ]
  },
  {
   "cell_type": "markdown",
   "id": "dbd04701",
   "metadata": {},
   "source": [
    "# Importar Datasets"
   ]
  },
  {
   "cell_type": "code",
   "execution_count": 39,
   "outputs": [],
   "source": [
    "locales_col_names = [\n",
    "    'id_cadena', 'desc_cadena', 'id_region', 'desc_region', 'idb',\n",
    "    'desc_local', 'latitud', 'longitud', 'punto_dist'\n",
    "]"
   ],
   "metadata": {
    "collapsed": false
   }
  },
  {
   "cell_type": "code",
   "execution_count": 40,
   "outputs": [],
   "source": [
    "locales_df = pd.read_csv(\"../data/Locales.txt\",\n",
    "                         encoding=\"UTF-8\",\n",
    "                         header=None,\n",
    "                         delimiter='\\t',\n",
    "                         names=locales_col_names)"
   ],
   "metadata": {
    "collapsed": false
   }
  },
  {
   "cell_type": "code",
   "execution_count": 41,
   "outputs": [
    {
     "data": {
      "text/plain": "    id_cadena                     desc_cadena  id_region  \\\n0           1  Plaza Vea                               1   \n1           1  Plaza Vea                               1   \n2           1  Plaza Vea                               1   \n3           1  Plaza Vea                               1   \n4           1  Plaza Vea                               1   \n5           2  Disco                                   1   \n6           2  Disco                                   1   \n7           2  Disco                                   1   \n8           2  Disco                                   1   \n9           2  Disco                                   1   \n10          2  Disco                                   1   \n11          2  Disco                                   1   \n12          2  Disco                                   1   \n13          2  Disco                                   1   \n14          2  Disco                                   1   \n15          2  Disco                                   1   \n16          2  Disco                                   1   \n17          2  Disco                                   1   \n18          2  Disco                                   1   \n19          2  Disco                                   1   \n20          2  Disco                                   1   \n21          2  Disco                                   1   \n22          2  Disco                                   1   \n23          2  Disco                                   1   \n24          2  Disco                                   1   \n25          2  Disco                                   1   \n26          2  Disco                                   1   \n27          2  Disco                                   1   \n28          2  Disco                                   1   \n29          2  Disco                                   1   \n30          2  Disco                                   1   \n31          2  Disco                                   1   \n32          2  Disco                                   1   \n33          2  Disco                                   1   \n34          2  Disco                                   1   \n35          2  Disco                                   1   \n36          2  Disco                                   1   \n37          2  Disco                                   1   \n38          2  Disco                                   1   \n39          2  Disco                                   1   \n\n                       desc_region   idb                      desc_local  \\\n0   Buenos Aires                    9693     9693 - P Vea Villa Urquiza.   \n1   Buenos Aires                    9694          9694 - P Vea JB Justo.   \n2   Buenos Aires                    9695             695 - P Vea Acoyte.   \n3   Buenos Aires                    9699          699 - P Vea Rivadavia.   \n4   Buenos Aires                    9889  889 - Plaza Vea Carpa de liqui   \n5   Buenos Aires                     247         916 - SM 916 Gorostiaga   \n6   Buenos Aires                     257                61 - Tortuguitas   \n7   Buenos Aires                     285             953 - Venado Tuerto   \n8   Buenos Aires                     740                   740 - Canning   \n9   Buenos Aires                     961              961 - Av. Santa FÇ   \n10  Buenos Aires                    1190  6190 - BT SAF (Importaciones).   \n11  Buenos Aires                    1914    3914 - Interno SLL BsAs 217.   \n12  Buenos Aires                    9001                 1 - San Isidro.   \n13  Buenos Aires                    9002                 2 - Talcahuano.   \n14  Buenos Aires                    9003                    3 - Camacua.   \n15  Buenos Aires                    9004              4 - Vicente L¢pez.   \n16  Buenos Aires                    9007                 7 - Pte. Per¢n.   \n17  Buenos Aires                    9009            9 - Lomas de Zamora.   \n18  Buenos Aires                    9012                     12 - Sucre.   \n19  Buenos Aires                    9014                14 - Las Heras..   \n20  Buenos Aires                    9015                  15 - Salguero.   \n21  Buenos Aires                    9016                  16 - Paraguay.   \n22  Buenos Aires                    9017           17 - Virrey del Pino.   \n23  Buenos Aires                    9018                  18 - Quintana.   \n24  Buenos Aires                    9022                  22 - Santa Fe.   \n25  Buenos Aires                    9023              23 - Alto Palermo.   \n26  Buenos Aires                    9025            25 - Rodr°guez Pe§a.   \n27  Buenos Aires                    9026                26 - Av. Callao.   \n28  Buenos Aires                    9030                 30 - Rivadavia.   \n29  Buenos Aires                    9035                   35 - Uriburu.   \n30  Buenos Aires                    9037                   37 - AdroguÇ.   \n31  Buenos Aires                    9038                     38 - Arcos.   \n32  Buenos Aires                    9039                      39 - Pe§a.   \n33  Buenos Aires                    9042                42 - La Plata I.   \n34  Buenos Aires                    9045          45 - Gesell Boulevard.   \n35  Buenos Aires                    9046                 46 - Esmeralda.   \n36  Buenos Aires                    9048                    48 - Gasc¢n.   \n37  Buenos Aires                    9049                   49 - Pinamar.   \n38  Buenos Aires                    9050            50 - Gesell Central.   \n39  Buenos Aires                    9054                    54 - Elcano.   \n\n      latitud   longitud punto_dist  \n0         NaN        NaN          N  \n1         NaN        NaN          N  \n2    0.000000   0.000000          N  \n3    0.000000   0.000000          N  \n4         NaN        NaN          N  \n5  -34.565259 -58.436583          N  \n6  -34.446043 -58.745098          N  \n7         NaN        NaN          N  \n8  -34.853221 -58.502247          N  \n9         NaN        NaN          N  \n10        NaN        NaN          S  \n11        NaN        NaN          S  \n12 -34.471531 -58.515350          N  \n13 -34.596256 -58.385701          N  \n14 -34.627893 -58.458295          N  \n15 -34.520825 -58.485332          N  \n16   0.000000   0.000000          N  \n17 -34.764091 -58.398621          N  \n18 -34.560842 -58.449841          N  \n19 -34.581691 -58.414435          N  \n20 -34.580101 -58.408191          N  \n21 -34.586090 -58.422310          N  \n22 -34.566744 -58.453445          N  \n23 -34.589375 -58.388536          N  \n24 -34.590488 -58.408384          N  \n25 -34.587061 -58.410916          N  \n26 -34.593032 -58.391347          N  \n27 -34.608787 -58.392012          N  \n28 -34.617352 -58.434391          N  \n29 -34.593885 -58.397898          N  \n30 -34.798951 -58.404243          N  \n31 -34.561708 -58.452373          N  \n32 -34.585935 -58.405188          N  \n33 -34.934655 -57.975326          N  \n34 -37.259025 -56.982672          N  \n35 -34.591519 -58.378118          N  \n36 -34.603435 -58.424113          N  \n37 -37.108689 -56.871028          N  \n38 -37.263550 -56.974521          N  \n39 -34.572857 -58.459282          N  ",
      "text/html": "<div>\n<style scoped>\n    .dataframe tbody tr th:only-of-type {\n        vertical-align: middle;\n    }\n\n    .dataframe tbody tr th {\n        vertical-align: top;\n    }\n\n    .dataframe thead th {\n        text-align: right;\n    }\n</style>\n<table border=\"1\" class=\"dataframe\">\n  <thead>\n    <tr style=\"text-align: right;\">\n      <th></th>\n      <th>id_cadena</th>\n      <th>desc_cadena</th>\n      <th>id_region</th>\n      <th>desc_region</th>\n      <th>idb</th>\n      <th>desc_local</th>\n      <th>latitud</th>\n      <th>longitud</th>\n      <th>punto_dist</th>\n    </tr>\n  </thead>\n  <tbody>\n    <tr>\n      <th>0</th>\n      <td>1</td>\n      <td>Plaza Vea</td>\n      <td>1</td>\n      <td>Buenos Aires</td>\n      <td>9693</td>\n      <td>9693 - P Vea Villa Urquiza.</td>\n      <td>NaN</td>\n      <td>NaN</td>\n      <td>N</td>\n    </tr>\n    <tr>\n      <th>1</th>\n      <td>1</td>\n      <td>Plaza Vea</td>\n      <td>1</td>\n      <td>Buenos Aires</td>\n      <td>9694</td>\n      <td>9694 - P Vea JB Justo.</td>\n      <td>NaN</td>\n      <td>NaN</td>\n      <td>N</td>\n    </tr>\n    <tr>\n      <th>2</th>\n      <td>1</td>\n      <td>Plaza Vea</td>\n      <td>1</td>\n      <td>Buenos Aires</td>\n      <td>9695</td>\n      <td>695 - P Vea Acoyte.</td>\n      <td>0.000000</td>\n      <td>0.000000</td>\n      <td>N</td>\n    </tr>\n    <tr>\n      <th>3</th>\n      <td>1</td>\n      <td>Plaza Vea</td>\n      <td>1</td>\n      <td>Buenos Aires</td>\n      <td>9699</td>\n      <td>699 - P Vea Rivadavia.</td>\n      <td>0.000000</td>\n      <td>0.000000</td>\n      <td>N</td>\n    </tr>\n    <tr>\n      <th>4</th>\n      <td>1</td>\n      <td>Plaza Vea</td>\n      <td>1</td>\n      <td>Buenos Aires</td>\n      <td>9889</td>\n      <td>889 - Plaza Vea Carpa de liqui</td>\n      <td>NaN</td>\n      <td>NaN</td>\n      <td>N</td>\n    </tr>\n    <tr>\n      <th>5</th>\n      <td>2</td>\n      <td>Disco</td>\n      <td>1</td>\n      <td>Buenos Aires</td>\n      <td>247</td>\n      <td>916 - SM 916 Gorostiaga</td>\n      <td>-34.565259</td>\n      <td>-58.436583</td>\n      <td>N</td>\n    </tr>\n    <tr>\n      <th>6</th>\n      <td>2</td>\n      <td>Disco</td>\n      <td>1</td>\n      <td>Buenos Aires</td>\n      <td>257</td>\n      <td>61 - Tortuguitas</td>\n      <td>-34.446043</td>\n      <td>-58.745098</td>\n      <td>N</td>\n    </tr>\n    <tr>\n      <th>7</th>\n      <td>2</td>\n      <td>Disco</td>\n      <td>1</td>\n      <td>Buenos Aires</td>\n      <td>285</td>\n      <td>953 - Venado Tuerto</td>\n      <td>NaN</td>\n      <td>NaN</td>\n      <td>N</td>\n    </tr>\n    <tr>\n      <th>8</th>\n      <td>2</td>\n      <td>Disco</td>\n      <td>1</td>\n      <td>Buenos Aires</td>\n      <td>740</td>\n      <td>740 - Canning</td>\n      <td>-34.853221</td>\n      <td>-58.502247</td>\n      <td>N</td>\n    </tr>\n    <tr>\n      <th>9</th>\n      <td>2</td>\n      <td>Disco</td>\n      <td>1</td>\n      <td>Buenos Aires</td>\n      <td>961</td>\n      <td>961 - Av. Santa FÇ</td>\n      <td>NaN</td>\n      <td>NaN</td>\n      <td>N</td>\n    </tr>\n    <tr>\n      <th>10</th>\n      <td>2</td>\n      <td>Disco</td>\n      <td>1</td>\n      <td>Buenos Aires</td>\n      <td>1190</td>\n      <td>6190 - BT SAF (Importaciones).</td>\n      <td>NaN</td>\n      <td>NaN</td>\n      <td>S</td>\n    </tr>\n    <tr>\n      <th>11</th>\n      <td>2</td>\n      <td>Disco</td>\n      <td>1</td>\n      <td>Buenos Aires</td>\n      <td>1914</td>\n      <td>3914 - Interno SLL BsAs 217.</td>\n      <td>NaN</td>\n      <td>NaN</td>\n      <td>S</td>\n    </tr>\n    <tr>\n      <th>12</th>\n      <td>2</td>\n      <td>Disco</td>\n      <td>1</td>\n      <td>Buenos Aires</td>\n      <td>9001</td>\n      <td>1 - San Isidro.</td>\n      <td>-34.471531</td>\n      <td>-58.515350</td>\n      <td>N</td>\n    </tr>\n    <tr>\n      <th>13</th>\n      <td>2</td>\n      <td>Disco</td>\n      <td>1</td>\n      <td>Buenos Aires</td>\n      <td>9002</td>\n      <td>2 - Talcahuano.</td>\n      <td>-34.596256</td>\n      <td>-58.385701</td>\n      <td>N</td>\n    </tr>\n    <tr>\n      <th>14</th>\n      <td>2</td>\n      <td>Disco</td>\n      <td>1</td>\n      <td>Buenos Aires</td>\n      <td>9003</td>\n      <td>3 - Camacua.</td>\n      <td>-34.627893</td>\n      <td>-58.458295</td>\n      <td>N</td>\n    </tr>\n    <tr>\n      <th>15</th>\n      <td>2</td>\n      <td>Disco</td>\n      <td>1</td>\n      <td>Buenos Aires</td>\n      <td>9004</td>\n      <td>4 - Vicente L¢pez.</td>\n      <td>-34.520825</td>\n      <td>-58.485332</td>\n      <td>N</td>\n    </tr>\n    <tr>\n      <th>16</th>\n      <td>2</td>\n      <td>Disco</td>\n      <td>1</td>\n      <td>Buenos Aires</td>\n      <td>9007</td>\n      <td>7 - Pte. Per¢n.</td>\n      <td>0.000000</td>\n      <td>0.000000</td>\n      <td>N</td>\n    </tr>\n    <tr>\n      <th>17</th>\n      <td>2</td>\n      <td>Disco</td>\n      <td>1</td>\n      <td>Buenos Aires</td>\n      <td>9009</td>\n      <td>9 - Lomas de Zamora.</td>\n      <td>-34.764091</td>\n      <td>-58.398621</td>\n      <td>N</td>\n    </tr>\n    <tr>\n      <th>18</th>\n      <td>2</td>\n      <td>Disco</td>\n      <td>1</td>\n      <td>Buenos Aires</td>\n      <td>9012</td>\n      <td>12 - Sucre.</td>\n      <td>-34.560842</td>\n      <td>-58.449841</td>\n      <td>N</td>\n    </tr>\n    <tr>\n      <th>19</th>\n      <td>2</td>\n      <td>Disco</td>\n      <td>1</td>\n      <td>Buenos Aires</td>\n      <td>9014</td>\n      <td>14 - Las Heras..</td>\n      <td>-34.581691</td>\n      <td>-58.414435</td>\n      <td>N</td>\n    </tr>\n    <tr>\n      <th>20</th>\n      <td>2</td>\n      <td>Disco</td>\n      <td>1</td>\n      <td>Buenos Aires</td>\n      <td>9015</td>\n      <td>15 - Salguero.</td>\n      <td>-34.580101</td>\n      <td>-58.408191</td>\n      <td>N</td>\n    </tr>\n    <tr>\n      <th>21</th>\n      <td>2</td>\n      <td>Disco</td>\n      <td>1</td>\n      <td>Buenos Aires</td>\n      <td>9016</td>\n      <td>16 - Paraguay.</td>\n      <td>-34.586090</td>\n      <td>-58.422310</td>\n      <td>N</td>\n    </tr>\n    <tr>\n      <th>22</th>\n      <td>2</td>\n      <td>Disco</td>\n      <td>1</td>\n      <td>Buenos Aires</td>\n      <td>9017</td>\n      <td>17 - Virrey del Pino.</td>\n      <td>-34.566744</td>\n      <td>-58.453445</td>\n      <td>N</td>\n    </tr>\n    <tr>\n      <th>23</th>\n      <td>2</td>\n      <td>Disco</td>\n      <td>1</td>\n      <td>Buenos Aires</td>\n      <td>9018</td>\n      <td>18 - Quintana.</td>\n      <td>-34.589375</td>\n      <td>-58.388536</td>\n      <td>N</td>\n    </tr>\n    <tr>\n      <th>24</th>\n      <td>2</td>\n      <td>Disco</td>\n      <td>1</td>\n      <td>Buenos Aires</td>\n      <td>9022</td>\n      <td>22 - Santa Fe.</td>\n      <td>-34.590488</td>\n      <td>-58.408384</td>\n      <td>N</td>\n    </tr>\n    <tr>\n      <th>25</th>\n      <td>2</td>\n      <td>Disco</td>\n      <td>1</td>\n      <td>Buenos Aires</td>\n      <td>9023</td>\n      <td>23 - Alto Palermo.</td>\n      <td>-34.587061</td>\n      <td>-58.410916</td>\n      <td>N</td>\n    </tr>\n    <tr>\n      <th>26</th>\n      <td>2</td>\n      <td>Disco</td>\n      <td>1</td>\n      <td>Buenos Aires</td>\n      <td>9025</td>\n      <td>25 - Rodr°guez Pe§a.</td>\n      <td>-34.593032</td>\n      <td>-58.391347</td>\n      <td>N</td>\n    </tr>\n    <tr>\n      <th>27</th>\n      <td>2</td>\n      <td>Disco</td>\n      <td>1</td>\n      <td>Buenos Aires</td>\n      <td>9026</td>\n      <td>26 - Av. Callao.</td>\n      <td>-34.608787</td>\n      <td>-58.392012</td>\n      <td>N</td>\n    </tr>\n    <tr>\n      <th>28</th>\n      <td>2</td>\n      <td>Disco</td>\n      <td>1</td>\n      <td>Buenos Aires</td>\n      <td>9030</td>\n      <td>30 - Rivadavia.</td>\n      <td>-34.617352</td>\n      <td>-58.434391</td>\n      <td>N</td>\n    </tr>\n    <tr>\n      <th>29</th>\n      <td>2</td>\n      <td>Disco</td>\n      <td>1</td>\n      <td>Buenos Aires</td>\n      <td>9035</td>\n      <td>35 - Uriburu.</td>\n      <td>-34.593885</td>\n      <td>-58.397898</td>\n      <td>N</td>\n    </tr>\n    <tr>\n      <th>30</th>\n      <td>2</td>\n      <td>Disco</td>\n      <td>1</td>\n      <td>Buenos Aires</td>\n      <td>9037</td>\n      <td>37 - AdroguÇ.</td>\n      <td>-34.798951</td>\n      <td>-58.404243</td>\n      <td>N</td>\n    </tr>\n    <tr>\n      <th>31</th>\n      <td>2</td>\n      <td>Disco</td>\n      <td>1</td>\n      <td>Buenos Aires</td>\n      <td>9038</td>\n      <td>38 - Arcos.</td>\n      <td>-34.561708</td>\n      <td>-58.452373</td>\n      <td>N</td>\n    </tr>\n    <tr>\n      <th>32</th>\n      <td>2</td>\n      <td>Disco</td>\n      <td>1</td>\n      <td>Buenos Aires</td>\n      <td>9039</td>\n      <td>39 - Pe§a.</td>\n      <td>-34.585935</td>\n      <td>-58.405188</td>\n      <td>N</td>\n    </tr>\n    <tr>\n      <th>33</th>\n      <td>2</td>\n      <td>Disco</td>\n      <td>1</td>\n      <td>Buenos Aires</td>\n      <td>9042</td>\n      <td>42 - La Plata I.</td>\n      <td>-34.934655</td>\n      <td>-57.975326</td>\n      <td>N</td>\n    </tr>\n    <tr>\n      <th>34</th>\n      <td>2</td>\n      <td>Disco</td>\n      <td>1</td>\n      <td>Buenos Aires</td>\n      <td>9045</td>\n      <td>45 - Gesell Boulevard.</td>\n      <td>-37.259025</td>\n      <td>-56.982672</td>\n      <td>N</td>\n    </tr>\n    <tr>\n      <th>35</th>\n      <td>2</td>\n      <td>Disco</td>\n      <td>1</td>\n      <td>Buenos Aires</td>\n      <td>9046</td>\n      <td>46 - Esmeralda.</td>\n      <td>-34.591519</td>\n      <td>-58.378118</td>\n      <td>N</td>\n    </tr>\n    <tr>\n      <th>36</th>\n      <td>2</td>\n      <td>Disco</td>\n      <td>1</td>\n      <td>Buenos Aires</td>\n      <td>9048</td>\n      <td>48 - Gasc¢n.</td>\n      <td>-34.603435</td>\n      <td>-58.424113</td>\n      <td>N</td>\n    </tr>\n    <tr>\n      <th>37</th>\n      <td>2</td>\n      <td>Disco</td>\n      <td>1</td>\n      <td>Buenos Aires</td>\n      <td>9049</td>\n      <td>49 - Pinamar.</td>\n      <td>-37.108689</td>\n      <td>-56.871028</td>\n      <td>N</td>\n    </tr>\n    <tr>\n      <th>38</th>\n      <td>2</td>\n      <td>Disco</td>\n      <td>1</td>\n      <td>Buenos Aires</td>\n      <td>9050</td>\n      <td>50 - Gesell Central.</td>\n      <td>-37.263550</td>\n      <td>-56.974521</td>\n      <td>N</td>\n    </tr>\n    <tr>\n      <th>39</th>\n      <td>2</td>\n      <td>Disco</td>\n      <td>1</td>\n      <td>Buenos Aires</td>\n      <td>9054</td>\n      <td>54 - Elcano.</td>\n      <td>-34.572857</td>\n      <td>-58.459282</td>\n      <td>N</td>\n    </tr>\n  </tbody>\n</table>\n</div>"
     },
     "execution_count": 41,
     "metadata": {},
     "output_type": "execute_result"
    }
   ],
   "source": [
    "locales_df.head(40)\n"
   ],
   "metadata": {
    "collapsed": false
   }
  },
  {
   "cell_type": "code",
   "execution_count": 42,
   "outputs": [
    {
     "name": "stdout",
     "output_type": "stream",
     "text": [
      "<class 'pandas.core.frame.DataFrame'>\n",
      "RangeIndex: 175 entries, 0 to 174\n",
      "Data columns (total 9 columns):\n",
      " #   Column       Non-Null Count  Dtype  \n",
      "---  ------       --------------  -----  \n",
      " 0   id_cadena    175 non-null    int64  \n",
      " 1   desc_cadena  175 non-null    object \n",
      " 2   id_region    175 non-null    int64  \n",
      " 3   desc_region  175 non-null    object \n",
      " 4   idb          175 non-null    int64  \n",
      " 5   desc_local   175 non-null    object \n",
      " 6   latitud      140 non-null    float64\n",
      " 7   longitud     140 non-null    float64\n",
      " 8   punto_dist   175 non-null    object \n",
      "dtypes: float64(2), int64(3), object(4)\n",
      "memory usage: 12.4+ KB\n"
     ]
    }
   ],
   "source": [
    "locales_df.info()"
   ],
   "metadata": {
    "collapsed": false
   }
  },
  {
   "cell_type": "markdown",
   "source": [
    "#### Ajustes al dataframe\n",
    "\n",
    "- Limpiar la descripcion de la región, eliminando el numero y el simbolo (-).\n",
    "- Convertir a minusculas todos los tipos de datos object o string.\n",
    "- Remplazar caracteres especiales con espacio.\n",
    "- Verificar si existen valores nulos o duplicados.\n",
    "- Convertir a 1 y 0 la columna punto de distribucción con la siguiente regla si el valor es 's' = 1 que significa que es un punto de distribucción de lo contrario sería 0.\n",
    "- Crear una nueva columna llamada local usando la columna punto de distribucción.\n"
   ],
   "metadata": {
    "collapsed": false
   }
  },
  {
   "cell_type": "code",
   "execution_count": 43,
   "outputs": [],
   "source": [
    "locales_df = locales_df.applymap(lambda x: x.lower() if isinstance(x, str) else x)"
   ],
   "metadata": {
    "collapsed": false
   }
  },
  {
   "cell_type": "code",
   "execution_count": 44,
   "outputs": [],
   "source": [
    "locales_df['desc_local'] = locales_df['desc_local'].replace(to_replace=r'^\\d+\\s*-\\s*', value='', regex=True)"
   ],
   "metadata": {
    "collapsed": false
   }
  },
  {
   "cell_type": "code",
   "execution_count": 45,
   "outputs": [],
   "source": [
    "# Ajustar los strings con errores ortograficos\n",
    "locales_df['desc_local'] = locales_df['desc_local'].replace(to_replace=r'f', value='fé', regex=True)\n",
    "locales_df['desc_local'] = locales_df['desc_local'].replace(to_replace=r'crdoba', value='cordoba', regex=True)\n",
    "locales_df['desc_local'] = locales_df['desc_local'].replace(to_replace=r'fééernando', value='fernando', regex=True)\n",
    "locales_df['desc_local'] = locales_df['desc_local'].replace(to_replace=r'\\bjumbo\\b', value='', regex=True)\n",
    "locales_df['desc_local'] = locales_df['desc_local'].replace(to_replace=r'\\brincn\\b', value='', regex=True)\n",
    "locales_df['desc_local'] = locales_df['desc_local'].replace(to_replace=r'\\bplaza vea\\b', value='', regex=True)\n",
    "locales_df['desc_local'] = locales_df['desc_local'].replace(to_replace=r'\\bp vea\\b', value='', regex=True)"
   ],
   "metadata": {
    "collapsed": false
   }
  },
  {
   "cell_type": "code",
   "execution_count": 46,
   "outputs": [],
   "source": [
    "locales_df['desc_local'] = locales_df['desc_local'].replace(to_replace=r'[^\\x00-\\x7F]+', value='', regex=True)"
   ],
   "metadata": {
    "collapsed": false
   }
  },
  {
   "cell_type": "code",
   "execution_count": 47,
   "outputs": [
    {
     "name": "stdout",
     "output_type": "stream",
     "text": [
      "id_cadena       0\n",
      "desc_cadena     0\n",
      "id_region       0\n",
      "desc_region     0\n",
      "idb             0\n",
      "desc_local      0\n",
      "latitud        35\n",
      "longitud       35\n",
      "punto_dist      0\n",
      "dtype: int64\n"
     ]
    }
   ],
   "source": [
    "print(locales_df.isna().sum())"
   ],
   "metadata": {
    "collapsed": false
   }
  },
  {
   "cell_type": "code",
   "execution_count": 48,
   "outputs": [
    {
     "data": {
      "text/plain": "id_cadena       0\ndesc_cadena     0\nid_region       0\ndesc_region     0\nidb             0\ndesc_local      0\nlatitud        35\nlongitud       35\npunto_dist      0\ndtype: int64"
     },
     "execution_count": 48,
     "metadata": {},
     "output_type": "execute_result"
    }
   ],
   "source": [
    "locales_df.isnull().sum(axis=0)"
   ],
   "metadata": {
    "collapsed": false
   }
  },
  {
   "cell_type": "code",
   "execution_count": 49,
   "outputs": [
    {
     "name": "stdout",
     "output_type": "stream",
     "text": [
      "Columna desc_cadena: 5 subnivele(s)\n",
      "Columna desc_region: 1 subnivele(s)\n",
      "Columna desc_local: 175 subnivele(s)\n"
     ]
    }
   ],
   "source": [
    "# Conteo de los niveles en las diferentes columnas categóricas\n",
    "col_categoricas = ['desc_cadena', 'desc_region', 'desc_local']\n",
    "for col in col_categoricas:\n",
    "    print(f'Columna {col}: {locales_df[col].nunique()} subnivele(s)')"
   ],
   "metadata": {
    "collapsed": false
   }
  },
  {
   "cell_type": "code",
   "execution_count": 50,
   "outputs": [],
   "source": [
    "# Convertir la columna categorica punto_dist a numerica, si el valor es s significa que es un punto de distribucción y se asignará el valor de 1, de lo contrario será 0.\n",
    "punto_dist_mapping = {\"s\": 1, \"n\": 0}\n",
    "locales_df['punto_dist'] = locales_df['punto_dist'].map(punto_dist_mapping)"
   ],
   "metadata": {
    "collapsed": false
   }
  },
  {
   "cell_type": "code",
   "execution_count": 51,
   "outputs": [],
   "source": [
    "# Crear una columna para determinar si es un local con base en la columna punto_dist, si el local no es un punto de distribuccion entonces es un local.  Asignaremos 1 para local 0 para no local.\n",
    "locales_df['local'] = locales_df['punto_dist'].apply(lambda x: 1 if x == 0 else 0)"
   ],
   "metadata": {
    "collapsed": false
   }
  },
  {
   "cell_type": "code",
   "execution_count": 59,
   "outputs": [
    {
     "data": {
      "text/plain": "     id_cadena                     desc_cadena  id_region  \\\n2            1  plaza vea                               1   \n3            1  plaza vea                               1   \n5            2  disco                                   1   \n6            2  disco                                   1   \n8            2  disco                                   1   \n..         ...                             ...        ...   \n160          9  jumbo                                   1   \n163          9  jumbo                                   1   \n167         11  rincon jumbo                            1   \n168         11  rincon jumbo                            1   \n171         11  rincon jumbo                            1   \n\n                        desc_region   idb          desc_local    latitud  \\\n2    buenos aires                    9695             acoyte.   0.000000   \n3    buenos aires                    9699          rivadavia.   0.000000   \n5    buenos aires                     247   sm 916 gorostiaga -34.565259   \n6    buenos aires                     257         tortuguitas -34.446043   \n8    buenos aires                     740             canning -34.853221   \n..                              ...   ...                 ...        ...   \n160  buenos aires                    5961         av. santa f -34.577317   \n163  buenos aires                    9628        san fernando -34.446703   \n167  buenos aires                    8262  rincn unicenter ii   0.000000   \n168  buenos aires                    8302     rincn unicenter   0.000000   \n171  buenos aires                    8311         rincn pilar   0.000000   \n\n      longitud  punto_dist  local  \n2     0.000000           0      1  \n3     0.000000           0      1  \n5   -58.436583           0      1  \n6   -58.745098           0      1  \n8   -58.502247           0      1  \n..         ...         ...    ...  \n160 -58.428886           0      1  \n163 -58.545037           0      1  \n167   0.000000           0      1  \n168   0.000000           0      1  \n171   0.000000           0      1  \n\n[140 rows x 10 columns]",
      "text/html": "<div>\n<style scoped>\n    .dataframe tbody tr th:only-of-type {\n        vertical-align: middle;\n    }\n\n    .dataframe tbody tr th {\n        vertical-align: top;\n    }\n\n    .dataframe thead th {\n        text-align: right;\n    }\n</style>\n<table border=\"1\" class=\"dataframe\">\n  <thead>\n    <tr style=\"text-align: right;\">\n      <th></th>\n      <th>id_cadena</th>\n      <th>desc_cadena</th>\n      <th>id_region</th>\n      <th>desc_region</th>\n      <th>idb</th>\n      <th>desc_local</th>\n      <th>latitud</th>\n      <th>longitud</th>\n      <th>punto_dist</th>\n      <th>local</th>\n    </tr>\n  </thead>\n  <tbody>\n    <tr>\n      <th>2</th>\n      <td>1</td>\n      <td>plaza vea</td>\n      <td>1</td>\n      <td>buenos aires</td>\n      <td>9695</td>\n      <td>acoyte.</td>\n      <td>0.000000</td>\n      <td>0.000000</td>\n      <td>0</td>\n      <td>1</td>\n    </tr>\n    <tr>\n      <th>3</th>\n      <td>1</td>\n      <td>plaza vea</td>\n      <td>1</td>\n      <td>buenos aires</td>\n      <td>9699</td>\n      <td>rivadavia.</td>\n      <td>0.000000</td>\n      <td>0.000000</td>\n      <td>0</td>\n      <td>1</td>\n    </tr>\n    <tr>\n      <th>5</th>\n      <td>2</td>\n      <td>disco</td>\n      <td>1</td>\n      <td>buenos aires</td>\n      <td>247</td>\n      <td>sm 916 gorostiaga</td>\n      <td>-34.565259</td>\n      <td>-58.436583</td>\n      <td>0</td>\n      <td>1</td>\n    </tr>\n    <tr>\n      <th>6</th>\n      <td>2</td>\n      <td>disco</td>\n      <td>1</td>\n      <td>buenos aires</td>\n      <td>257</td>\n      <td>tortuguitas</td>\n      <td>-34.446043</td>\n      <td>-58.745098</td>\n      <td>0</td>\n      <td>1</td>\n    </tr>\n    <tr>\n      <th>8</th>\n      <td>2</td>\n      <td>disco</td>\n      <td>1</td>\n      <td>buenos aires</td>\n      <td>740</td>\n      <td>canning</td>\n      <td>-34.853221</td>\n      <td>-58.502247</td>\n      <td>0</td>\n      <td>1</td>\n    </tr>\n    <tr>\n      <th>...</th>\n      <td>...</td>\n      <td>...</td>\n      <td>...</td>\n      <td>...</td>\n      <td>...</td>\n      <td>...</td>\n      <td>...</td>\n      <td>...</td>\n      <td>...</td>\n      <td>...</td>\n    </tr>\n    <tr>\n      <th>160</th>\n      <td>9</td>\n      <td>jumbo</td>\n      <td>1</td>\n      <td>buenos aires</td>\n      <td>5961</td>\n      <td>av. santa f</td>\n      <td>-34.577317</td>\n      <td>-58.428886</td>\n      <td>0</td>\n      <td>1</td>\n    </tr>\n    <tr>\n      <th>163</th>\n      <td>9</td>\n      <td>jumbo</td>\n      <td>1</td>\n      <td>buenos aires</td>\n      <td>9628</td>\n      <td>san fernando</td>\n      <td>-34.446703</td>\n      <td>-58.545037</td>\n      <td>0</td>\n      <td>1</td>\n    </tr>\n    <tr>\n      <th>167</th>\n      <td>11</td>\n      <td>rincon jumbo</td>\n      <td>1</td>\n      <td>buenos aires</td>\n      <td>8262</td>\n      <td>rincn unicenter ii</td>\n      <td>0.000000</td>\n      <td>0.000000</td>\n      <td>0</td>\n      <td>1</td>\n    </tr>\n    <tr>\n      <th>168</th>\n      <td>11</td>\n      <td>rincon jumbo</td>\n      <td>1</td>\n      <td>buenos aires</td>\n      <td>8302</td>\n      <td>rincn unicenter</td>\n      <td>0.000000</td>\n      <td>0.000000</td>\n      <td>0</td>\n      <td>1</td>\n    </tr>\n    <tr>\n      <th>171</th>\n      <td>11</td>\n      <td>rincon jumbo</td>\n      <td>1</td>\n      <td>buenos aires</td>\n      <td>8311</td>\n      <td>rincn pilar</td>\n      <td>0.000000</td>\n      <td>0.000000</td>\n      <td>0</td>\n      <td>1</td>\n    </tr>\n  </tbody>\n</table>\n<p>140 rows × 10 columns</p>\n</div>"
     },
     "execution_count": 59,
     "metadata": {},
     "output_type": "execute_result"
    }
   ],
   "source": [
    "locales_df.head(200)"
   ],
   "metadata": {
    "collapsed": false
   }
  },
  {
   "cell_type": "code",
   "execution_count": 53,
   "outputs": [
    {
     "data": {
      "text/plain": "        id_cadena  id_region          idb     latitud    longitud  punto_dist  \\\ncount  175.000000      175.0   175.000000  140.000000  140.000000  175.000000   \nmean     4.502857        1.0  6909.617143  -31.533832  -52.839588    0.034286   \nstd      2.945627        0.0  3421.539461   10.718891   17.724343    0.182484   \nmin      1.000000        1.0   242.000000  -45.872649  -67.496036    0.000000   \n25%      2.000000        1.0  5213.500000  -34.730633  -58.632039    0.000000   \n50%      4.000000        1.0  9019.000000  -34.601654  -58.434434    0.000000   \n75%      4.000000        1.0  9158.500000  -34.546212  -58.251974    0.000000   \nmax     11.000000        1.0  9977.000000    0.000000    0.000000    1.000000   \n\n            local  \ncount  175.000000  \nmean     0.965714  \nstd      0.182484  \nmin      0.000000  \n25%      1.000000  \n50%      1.000000  \n75%      1.000000  \nmax      1.000000  ",
      "text/html": "<div>\n<style scoped>\n    .dataframe tbody tr th:only-of-type {\n        vertical-align: middle;\n    }\n\n    .dataframe tbody tr th {\n        vertical-align: top;\n    }\n\n    .dataframe thead th {\n        text-align: right;\n    }\n</style>\n<table border=\"1\" class=\"dataframe\">\n  <thead>\n    <tr style=\"text-align: right;\">\n      <th></th>\n      <th>id_cadena</th>\n      <th>id_region</th>\n      <th>idb</th>\n      <th>latitud</th>\n      <th>longitud</th>\n      <th>punto_dist</th>\n      <th>local</th>\n    </tr>\n  </thead>\n  <tbody>\n    <tr>\n      <th>count</th>\n      <td>175.000000</td>\n      <td>175.0</td>\n      <td>175.000000</td>\n      <td>140.000000</td>\n      <td>140.000000</td>\n      <td>175.000000</td>\n      <td>175.000000</td>\n    </tr>\n    <tr>\n      <th>mean</th>\n      <td>4.502857</td>\n      <td>1.0</td>\n      <td>6909.617143</td>\n      <td>-31.533832</td>\n      <td>-52.839588</td>\n      <td>0.034286</td>\n      <td>0.965714</td>\n    </tr>\n    <tr>\n      <th>std</th>\n      <td>2.945627</td>\n      <td>0.0</td>\n      <td>3421.539461</td>\n      <td>10.718891</td>\n      <td>17.724343</td>\n      <td>0.182484</td>\n      <td>0.182484</td>\n    </tr>\n    <tr>\n      <th>min</th>\n      <td>1.000000</td>\n      <td>1.0</td>\n      <td>242.000000</td>\n      <td>-45.872649</td>\n      <td>-67.496036</td>\n      <td>0.000000</td>\n      <td>0.000000</td>\n    </tr>\n    <tr>\n      <th>25%</th>\n      <td>2.000000</td>\n      <td>1.0</td>\n      <td>5213.500000</td>\n      <td>-34.730633</td>\n      <td>-58.632039</td>\n      <td>0.000000</td>\n      <td>1.000000</td>\n    </tr>\n    <tr>\n      <th>50%</th>\n      <td>4.000000</td>\n      <td>1.0</td>\n      <td>9019.000000</td>\n      <td>-34.601654</td>\n      <td>-58.434434</td>\n      <td>0.000000</td>\n      <td>1.000000</td>\n    </tr>\n    <tr>\n      <th>75%</th>\n      <td>4.000000</td>\n      <td>1.0</td>\n      <td>9158.500000</td>\n      <td>-34.546212</td>\n      <td>-58.251974</td>\n      <td>0.000000</td>\n      <td>1.000000</td>\n    </tr>\n    <tr>\n      <th>max</th>\n      <td>11.000000</td>\n      <td>1.0</td>\n      <td>9977.000000</td>\n      <td>0.000000</td>\n      <td>0.000000</td>\n      <td>1.000000</td>\n      <td>1.000000</td>\n    </tr>\n  </tbody>\n</table>\n</div>"
     },
     "execution_count": 53,
     "metadata": {},
     "output_type": "execute_result"
    }
   ],
   "source": [
    "locales_df.describe()"
   ],
   "metadata": {
    "collapsed": false
   }
  },
  {
   "cell_type": "markdown",
   "source": [
    "#### Observaciones\n",
    "\n",
    "\n"
   ],
   "metadata": {
    "collapsed": false
   }
  },
  {
   "cell_type": "markdown",
   "source": [],
   "metadata": {
    "collapsed": false
   }
  },
  {
   "cell_type": "code",
   "execution_count": 54,
   "outputs": [],
   "source": [
    "locales_df['latitud'].dropna(inplace=True)\n",
    "locales_df['longitud'].dropna(inplace=True)"
   ],
   "metadata": {
    "collapsed": false
   }
  },
  {
   "cell_type": "code",
   "execution_count": 56,
   "outputs": [
    {
     "data": {
      "text/plain": "     id_cadena                     desc_cadena  id_region  \\\n2            1  plaza vea                               1   \n3            1  plaza vea                               1   \n5            2  disco                                   1   \n6            2  disco                                   1   \n8            2  disco                                   1   \n..         ...                             ...        ...   \n160          9  jumbo                                   1   \n163          9  jumbo                                   1   \n167         11  rincon jumbo                            1   \n168         11  rincon jumbo                            1   \n171         11  rincon jumbo                            1   \n\n                        desc_region   idb          desc_local    latitud  \\\n2    buenos aires                    9695             acoyte.   0.000000   \n3    buenos aires                    9699          rivadavia.   0.000000   \n5    buenos aires                     247   sm 916 gorostiaga -34.565259   \n6    buenos aires                     257         tortuguitas -34.446043   \n8    buenos aires                     740             canning -34.853221   \n..                              ...   ...                 ...        ...   \n160  buenos aires                    5961         av. santa f -34.577317   \n163  buenos aires                    9628        san fernando -34.446703   \n167  buenos aires                    8262  rincn unicenter ii   0.000000   \n168  buenos aires                    8302     rincn unicenter   0.000000   \n171  buenos aires                    8311         rincn pilar   0.000000   \n\n      longitud  punto_dist  local  \n2     0.000000           0      1  \n3     0.000000           0      1  \n5   -58.436583           0      1  \n6   -58.745098           0      1  \n8   -58.502247           0      1  \n..         ...         ...    ...  \n160 -58.428886           0      1  \n163 -58.545037           0      1  \n167   0.000000           0      1  \n168   0.000000           0      1  \n171   0.000000           0      1  \n\n[140 rows x 10 columns]",
      "text/html": "<div>\n<style scoped>\n    .dataframe tbody tr th:only-of-type {\n        vertical-align: middle;\n    }\n\n    .dataframe tbody tr th {\n        vertical-align: top;\n    }\n\n    .dataframe thead th {\n        text-align: right;\n    }\n</style>\n<table border=\"1\" class=\"dataframe\">\n  <thead>\n    <tr style=\"text-align: right;\">\n      <th></th>\n      <th>id_cadena</th>\n      <th>desc_cadena</th>\n      <th>id_region</th>\n      <th>desc_region</th>\n      <th>idb</th>\n      <th>desc_local</th>\n      <th>latitud</th>\n      <th>longitud</th>\n      <th>punto_dist</th>\n      <th>local</th>\n    </tr>\n  </thead>\n  <tbody>\n    <tr>\n      <th>2</th>\n      <td>1</td>\n      <td>plaza vea</td>\n      <td>1</td>\n      <td>buenos aires</td>\n      <td>9695</td>\n      <td>acoyte.</td>\n      <td>0.000000</td>\n      <td>0.000000</td>\n      <td>0</td>\n      <td>1</td>\n    </tr>\n    <tr>\n      <th>3</th>\n      <td>1</td>\n      <td>plaza vea</td>\n      <td>1</td>\n      <td>buenos aires</td>\n      <td>9699</td>\n      <td>rivadavia.</td>\n      <td>0.000000</td>\n      <td>0.000000</td>\n      <td>0</td>\n      <td>1</td>\n    </tr>\n    <tr>\n      <th>5</th>\n      <td>2</td>\n      <td>disco</td>\n      <td>1</td>\n      <td>buenos aires</td>\n      <td>247</td>\n      <td>sm 916 gorostiaga</td>\n      <td>-34.565259</td>\n      <td>-58.436583</td>\n      <td>0</td>\n      <td>1</td>\n    </tr>\n    <tr>\n      <th>6</th>\n      <td>2</td>\n      <td>disco</td>\n      <td>1</td>\n      <td>buenos aires</td>\n      <td>257</td>\n      <td>tortuguitas</td>\n      <td>-34.446043</td>\n      <td>-58.745098</td>\n      <td>0</td>\n      <td>1</td>\n    </tr>\n    <tr>\n      <th>8</th>\n      <td>2</td>\n      <td>disco</td>\n      <td>1</td>\n      <td>buenos aires</td>\n      <td>740</td>\n      <td>canning</td>\n      <td>-34.853221</td>\n      <td>-58.502247</td>\n      <td>0</td>\n      <td>1</td>\n    </tr>\n    <tr>\n      <th>...</th>\n      <td>...</td>\n      <td>...</td>\n      <td>...</td>\n      <td>...</td>\n      <td>...</td>\n      <td>...</td>\n      <td>...</td>\n      <td>...</td>\n      <td>...</td>\n      <td>...</td>\n    </tr>\n    <tr>\n      <th>160</th>\n      <td>9</td>\n      <td>jumbo</td>\n      <td>1</td>\n      <td>buenos aires</td>\n      <td>5961</td>\n      <td>av. santa f</td>\n      <td>-34.577317</td>\n      <td>-58.428886</td>\n      <td>0</td>\n      <td>1</td>\n    </tr>\n    <tr>\n      <th>163</th>\n      <td>9</td>\n      <td>jumbo</td>\n      <td>1</td>\n      <td>buenos aires</td>\n      <td>9628</td>\n      <td>san fernando</td>\n      <td>-34.446703</td>\n      <td>-58.545037</td>\n      <td>0</td>\n      <td>1</td>\n    </tr>\n    <tr>\n      <th>167</th>\n      <td>11</td>\n      <td>rincon jumbo</td>\n      <td>1</td>\n      <td>buenos aires</td>\n      <td>8262</td>\n      <td>rincn unicenter ii</td>\n      <td>0.000000</td>\n      <td>0.000000</td>\n      <td>0</td>\n      <td>1</td>\n    </tr>\n    <tr>\n      <th>168</th>\n      <td>11</td>\n      <td>rincon jumbo</td>\n      <td>1</td>\n      <td>buenos aires</td>\n      <td>8302</td>\n      <td>rincn unicenter</td>\n      <td>0.000000</td>\n      <td>0.000000</td>\n      <td>0</td>\n      <td>1</td>\n    </tr>\n    <tr>\n      <th>171</th>\n      <td>11</td>\n      <td>rincon jumbo</td>\n      <td>1</td>\n      <td>buenos aires</td>\n      <td>8311</td>\n      <td>rincn pilar</td>\n      <td>0.000000</td>\n      <td>0.000000</td>\n      <td>0</td>\n      <td>1</td>\n    </tr>\n  </tbody>\n</table>\n<p>140 rows × 10 columns</p>\n</div>"
     },
     "execution_count": 56,
     "metadata": {},
     "output_type": "execute_result"
    }
   ],
   "source": [
    "locales_df = locales_df[~(pd.isna(locales_df['latitud']) | pd.isna(locales_df['longitud']))]\n",
    "locales_df\n"
   ],
   "metadata": {
    "collapsed": false
   }
  },
  {
   "cell_type": "code",
   "execution_count": 57,
   "outputs": [
    {
     "data": {
      "text/plain": "   id_cadena                     desc_cadena  id_region  \\\n2          1  plaza vea                               1   \n3          1  plaza vea                               1   \n5          2  disco                                   1   \n6          2  disco                                   1   \n8          2  disco                                   1   \n\n                      desc_region   idb         desc_local    latitud  \\\n2  buenos aires                    9695            acoyte.   0.000000   \n3  buenos aires                    9699         rivadavia.   0.000000   \n5  buenos aires                     247  sm 916 gorostiaga -34.565259   \n6  buenos aires                     257        tortuguitas -34.446043   \n8  buenos aires                     740            canning -34.853221   \n\n    longitud  punto_dist  local  \n2   0.000000           0      1  \n3   0.000000           0      1  \n5 -58.436583           0      1  \n6 -58.745098           0      1  \n8 -58.502247           0      1  ",
      "text/html": "<div>\n<style scoped>\n    .dataframe tbody tr th:only-of-type {\n        vertical-align: middle;\n    }\n\n    .dataframe tbody tr th {\n        vertical-align: top;\n    }\n\n    .dataframe thead th {\n        text-align: right;\n    }\n</style>\n<table border=\"1\" class=\"dataframe\">\n  <thead>\n    <tr style=\"text-align: right;\">\n      <th></th>\n      <th>id_cadena</th>\n      <th>desc_cadena</th>\n      <th>id_region</th>\n      <th>desc_region</th>\n      <th>idb</th>\n      <th>desc_local</th>\n      <th>latitud</th>\n      <th>longitud</th>\n      <th>punto_dist</th>\n      <th>local</th>\n    </tr>\n  </thead>\n  <tbody>\n    <tr>\n      <th>2</th>\n      <td>1</td>\n      <td>plaza vea</td>\n      <td>1</td>\n      <td>buenos aires</td>\n      <td>9695</td>\n      <td>acoyte.</td>\n      <td>0.000000</td>\n      <td>0.000000</td>\n      <td>0</td>\n      <td>1</td>\n    </tr>\n    <tr>\n      <th>3</th>\n      <td>1</td>\n      <td>plaza vea</td>\n      <td>1</td>\n      <td>buenos aires</td>\n      <td>9699</td>\n      <td>rivadavia.</td>\n      <td>0.000000</td>\n      <td>0.000000</td>\n      <td>0</td>\n      <td>1</td>\n    </tr>\n    <tr>\n      <th>5</th>\n      <td>2</td>\n      <td>disco</td>\n      <td>1</td>\n      <td>buenos aires</td>\n      <td>247</td>\n      <td>sm 916 gorostiaga</td>\n      <td>-34.565259</td>\n      <td>-58.436583</td>\n      <td>0</td>\n      <td>1</td>\n    </tr>\n    <tr>\n      <th>6</th>\n      <td>2</td>\n      <td>disco</td>\n      <td>1</td>\n      <td>buenos aires</td>\n      <td>257</td>\n      <td>tortuguitas</td>\n      <td>-34.446043</td>\n      <td>-58.745098</td>\n      <td>0</td>\n      <td>1</td>\n    </tr>\n    <tr>\n      <th>8</th>\n      <td>2</td>\n      <td>disco</td>\n      <td>1</td>\n      <td>buenos aires</td>\n      <td>740</td>\n      <td>canning</td>\n      <td>-34.853221</td>\n      <td>-58.502247</td>\n      <td>0</td>\n      <td>1</td>\n    </tr>\n  </tbody>\n</table>\n</div>"
     },
     "execution_count": 57,
     "metadata": {},
     "output_type": "execute_result"
    }
   ],
   "source": [
    "locales_df.head()"
   ],
   "metadata": {
    "collapsed": false
   }
  },
  {
   "cell_type": "code",
   "execution_count": 62,
   "outputs": [
    {
     "data": {
      "text/plain": "     id_cadena                     desc_cadena  id_region  \\\n2            1  plaza vea                               1   \n3            1  plaza vea                               1   \n16           2  disco                                   1   \n55           2  disco                                   1   \n63           2  disco                                   1   \n70           4  vea                                     1   \n80           4  vea                                     1   \n134          9  jumbo                                   1   \n153          9  jumbo                                   1   \n155          9  jumbo                                   1   \n156          9  jumbo                                   1   \n167         11  rincon jumbo                            1   \n168         11  rincon jumbo                            1   \n171         11  rincon jumbo                            1   \n\n                        desc_region   idb           desc_local  latitud  \\\n2    buenos aires                    9695              acoyte.      0.0   \n3    buenos aires                    9699           rivadavia.      0.0   \n16   buenos aires                    9007           pte. pern.      0.0   \n55   buenos aires                    9205  carniceria central.      0.0   \n63   buenos aires                    9639         pinocho vii.      0.0   \n70   buenos aires                     252              miramar      0.0   \n80   buenos aires                     674          resistencia      0.0   \n134  buenos aires                     305   deposito cbn group      0.0   \n153  buenos aires                    5276             arenales      0.0   \n155  buenos aires                    5299  depsito tortuguitas      0.0   \n156  buenos aires                    5300        cd congelados      0.0   \n167  buenos aires                    8262   rincn unicenter ii      0.0   \n168  buenos aires                    8302      rincn unicenter      0.0   \n171  buenos aires                    8311          rincn pilar      0.0   \n\n     longitud  punto_dist  local  \n2         0.0           0      1  \n3         0.0           0      1  \n16        0.0           0      1  \n55        0.0           0      1  \n63        0.0           0      1  \n70        0.0           0      1  \n80        0.0           0      1  \n134       0.0           1      0  \n153       0.0           0      1  \n155       0.0           1      0  \n156       0.0           1      0  \n167       0.0           0      1  \n168       0.0           0      1  \n171       0.0           0      1  ",
      "text/html": "<div>\n<style scoped>\n    .dataframe tbody tr th:only-of-type {\n        vertical-align: middle;\n    }\n\n    .dataframe tbody tr th {\n        vertical-align: top;\n    }\n\n    .dataframe thead th {\n        text-align: right;\n    }\n</style>\n<table border=\"1\" class=\"dataframe\">\n  <thead>\n    <tr style=\"text-align: right;\">\n      <th></th>\n      <th>id_cadena</th>\n      <th>desc_cadena</th>\n      <th>id_region</th>\n      <th>desc_region</th>\n      <th>idb</th>\n      <th>desc_local</th>\n      <th>latitud</th>\n      <th>longitud</th>\n      <th>punto_dist</th>\n      <th>local</th>\n    </tr>\n  </thead>\n  <tbody>\n    <tr>\n      <th>2</th>\n      <td>1</td>\n      <td>plaza vea</td>\n      <td>1</td>\n      <td>buenos aires</td>\n      <td>9695</td>\n      <td>acoyte.</td>\n      <td>0.0</td>\n      <td>0.0</td>\n      <td>0</td>\n      <td>1</td>\n    </tr>\n    <tr>\n      <th>3</th>\n      <td>1</td>\n      <td>plaza vea</td>\n      <td>1</td>\n      <td>buenos aires</td>\n      <td>9699</td>\n      <td>rivadavia.</td>\n      <td>0.0</td>\n      <td>0.0</td>\n      <td>0</td>\n      <td>1</td>\n    </tr>\n    <tr>\n      <th>16</th>\n      <td>2</td>\n      <td>disco</td>\n      <td>1</td>\n      <td>buenos aires</td>\n      <td>9007</td>\n      <td>pte. pern.</td>\n      <td>0.0</td>\n      <td>0.0</td>\n      <td>0</td>\n      <td>1</td>\n    </tr>\n    <tr>\n      <th>55</th>\n      <td>2</td>\n      <td>disco</td>\n      <td>1</td>\n      <td>buenos aires</td>\n      <td>9205</td>\n      <td>carniceria central.</td>\n      <td>0.0</td>\n      <td>0.0</td>\n      <td>0</td>\n      <td>1</td>\n    </tr>\n    <tr>\n      <th>63</th>\n      <td>2</td>\n      <td>disco</td>\n      <td>1</td>\n      <td>buenos aires</td>\n      <td>9639</td>\n      <td>pinocho vii.</td>\n      <td>0.0</td>\n      <td>0.0</td>\n      <td>0</td>\n      <td>1</td>\n    </tr>\n    <tr>\n      <th>70</th>\n      <td>4</td>\n      <td>vea</td>\n      <td>1</td>\n      <td>buenos aires</td>\n      <td>252</td>\n      <td>miramar</td>\n      <td>0.0</td>\n      <td>0.0</td>\n      <td>0</td>\n      <td>1</td>\n    </tr>\n    <tr>\n      <th>80</th>\n      <td>4</td>\n      <td>vea</td>\n      <td>1</td>\n      <td>buenos aires</td>\n      <td>674</td>\n      <td>resistencia</td>\n      <td>0.0</td>\n      <td>0.0</td>\n      <td>0</td>\n      <td>1</td>\n    </tr>\n    <tr>\n      <th>134</th>\n      <td>9</td>\n      <td>jumbo</td>\n      <td>1</td>\n      <td>buenos aires</td>\n      <td>305</td>\n      <td>deposito cbn group</td>\n      <td>0.0</td>\n      <td>0.0</td>\n      <td>1</td>\n      <td>0</td>\n    </tr>\n    <tr>\n      <th>153</th>\n      <td>9</td>\n      <td>jumbo</td>\n      <td>1</td>\n      <td>buenos aires</td>\n      <td>5276</td>\n      <td>arenales</td>\n      <td>0.0</td>\n      <td>0.0</td>\n      <td>0</td>\n      <td>1</td>\n    </tr>\n    <tr>\n      <th>155</th>\n      <td>9</td>\n      <td>jumbo</td>\n      <td>1</td>\n      <td>buenos aires</td>\n      <td>5299</td>\n      <td>depsito tortuguitas</td>\n      <td>0.0</td>\n      <td>0.0</td>\n      <td>1</td>\n      <td>0</td>\n    </tr>\n    <tr>\n      <th>156</th>\n      <td>9</td>\n      <td>jumbo</td>\n      <td>1</td>\n      <td>buenos aires</td>\n      <td>5300</td>\n      <td>cd congelados</td>\n      <td>0.0</td>\n      <td>0.0</td>\n      <td>1</td>\n      <td>0</td>\n    </tr>\n    <tr>\n      <th>167</th>\n      <td>11</td>\n      <td>rincon jumbo</td>\n      <td>1</td>\n      <td>buenos aires</td>\n      <td>8262</td>\n      <td>rincn unicenter ii</td>\n      <td>0.0</td>\n      <td>0.0</td>\n      <td>0</td>\n      <td>1</td>\n    </tr>\n    <tr>\n      <th>168</th>\n      <td>11</td>\n      <td>rincon jumbo</td>\n      <td>1</td>\n      <td>buenos aires</td>\n      <td>8302</td>\n      <td>rincn unicenter</td>\n      <td>0.0</td>\n      <td>0.0</td>\n      <td>0</td>\n      <td>1</td>\n    </tr>\n    <tr>\n      <th>171</th>\n      <td>11</td>\n      <td>rincon jumbo</td>\n      <td>1</td>\n      <td>buenos aires</td>\n      <td>8311</td>\n      <td>rincn pilar</td>\n      <td>0.0</td>\n      <td>0.0</td>\n      <td>0</td>\n      <td>1</td>\n    </tr>\n  </tbody>\n</table>\n</div>"
     },
     "execution_count": 62,
     "metadata": {},
     "output_type": "execute_result"
    }
   ],
   "source": [
    "locales_df[locales_df['latitud']>=0.0]"
   ],
   "metadata": {
    "collapsed": false
   }
  },
  {
   "cell_type": "code",
   "execution_count": 58,
   "outputs": [
    {
     "data": {
      "text/plain": "<folium.folium.Map at 0x7f8e6b568a90>",
      "text/html": "<div style=\"width:100%;\"><div style=\"position:relative;width:100%;height:0;padding-bottom:60%;\"><span style=\"color:#565656\">Make this Notebook Trusted to load map: File -> Trust Notebook</span><iframe srcdoc=\"&lt;!DOCTYPE html&gt;\n&lt;html&gt;\n&lt;head&gt;\n    \n    &lt;meta http-equiv=&quot;content-type&quot; content=&quot;text/html; charset=UTF-8&quot; /&gt;\n    \n        &lt;script&gt;\n            L_NO_TOUCH = false;\n            L_DISABLE_3D = false;\n        &lt;/script&gt;\n    \n    &lt;style&gt;html, body {width: 100%;height: 100%;margin: 0;padding: 0;}&lt;/style&gt;\n    &lt;style&gt;#map {position:absolute;top:0;bottom:0;right:0;left:0;}&lt;/style&gt;\n    &lt;script src=&quot;https://cdn.jsdelivr.net/npm/leaflet@1.9.3/dist/leaflet.js&quot;&gt;&lt;/script&gt;\n    &lt;script src=&quot;https://code.jquery.com/jquery-1.12.4.min.js&quot;&gt;&lt;/script&gt;\n    &lt;script src=&quot;https://cdn.jsdelivr.net/npm/bootstrap@5.2.2/dist/js/bootstrap.bundle.min.js&quot;&gt;&lt;/script&gt;\n    &lt;script src=&quot;https://cdnjs.cloudflare.com/ajax/libs/Leaflet.awesome-markers/2.0.2/leaflet.awesome-markers.js&quot;&gt;&lt;/script&gt;\n    &lt;link rel=&quot;stylesheet&quot; href=&quot;https://cdn.jsdelivr.net/npm/leaflet@1.9.3/dist/leaflet.css&quot;/&gt;\n    &lt;link rel=&quot;stylesheet&quot; href=&quot;https://cdn.jsdelivr.net/npm/bootstrap@5.2.2/dist/css/bootstrap.min.css&quot;/&gt;\n    &lt;link rel=&quot;stylesheet&quot; href=&quot;https://netdna.bootstrapcdn.com/bootstrap/3.0.0/css/bootstrap.min.css&quot;/&gt;\n    &lt;link rel=&quot;stylesheet&quot; href=&quot;https://cdn.jsdelivr.net/npm/@fortawesome/fontawesome-free@6.2.0/css/all.min.css&quot;/&gt;\n    &lt;link rel=&quot;stylesheet&quot; href=&quot;https://cdnjs.cloudflare.com/ajax/libs/Leaflet.awesome-markers/2.0.2/leaflet.awesome-markers.css&quot;/&gt;\n    &lt;link rel=&quot;stylesheet&quot; href=&quot;https://cdn.jsdelivr.net/gh/python-visualization/folium/folium/templates/leaflet.awesome.rotate.min.css&quot;/&gt;\n    \n            &lt;meta name=&quot;viewport&quot; content=&quot;width=device-width,\n                initial-scale=1.0, maximum-scale=1.0, user-scalable=no&quot; /&gt;\n            &lt;style&gt;\n                #map_cf20066b902bbdc47ee40dd595475c1f {\n                    position: relative;\n                    width: 100.0%;\n                    height: 100.0%;\n                    left: 0.0%;\n                    top: 0.0%;\n                }\n                .leaflet-container { font-size: 1rem; }\n            &lt;/style&gt;\n        \n&lt;/head&gt;\n&lt;body&gt;\n    \n    \n            &lt;div class=&quot;folium-map&quot; id=&quot;map_cf20066b902bbdc47ee40dd595475c1f&quot; &gt;&lt;/div&gt;\n        \n&lt;/body&gt;\n&lt;script&gt;\n    \n    \n            var map_cf20066b902bbdc47ee40dd595475c1f = L.map(\n                &quot;map_cf20066b902bbdc47ee40dd595475c1f&quot;,\n                {\n                    center: [0.0, 0.0],\n                    crs: L.CRS.EPSG3857,\n                    zoom: 12,\n                    zoomControl: true,\n                    preferCanvas: false,\n                }\n            );\n\n            \n\n        \n    \n            var tile_layer_66dcb68fbe3346d0ca9cab98b2a33ffd = L.tileLayer(\n                &quot;https://{s}.tile.openstreetmap.org/{z}/{x}/{y}.png&quot;,\n                {&quot;attribution&quot;: &quot;Data by \\u0026copy; \\u003ca target=\\&quot;_blank\\&quot; href=\\&quot;http://openstreetmap.org\\&quot;\\u003eOpenStreetMap\\u003c/a\\u003e, under \\u003ca target=\\&quot;_blank\\&quot; href=\\&quot;http://www.openstreetmap.org/copyright\\&quot;\\u003eODbL\\u003c/a\\u003e.&quot;, &quot;detectRetina&quot;: false, &quot;maxNativeZoom&quot;: 18, &quot;maxZoom&quot;: 18, &quot;minZoom&quot;: 0, &quot;noWrap&quot;: false, &quot;opacity&quot;: 1, &quot;subdomains&quot;: &quot;abc&quot;, &quot;tms&quot;: false}\n            ).addTo(map_cf20066b902bbdc47ee40dd595475c1f);\n        \n    \n            var marker_32ee78e80cfb456b17e94ff179dbed7f = L.marker(\n                [0.0, 0.0],\n                {}\n            ).addTo(map_cf20066b902bbdc47ee40dd595475c1f);\n        \n    \n            var marker_77193963c981d06c76c47947a01e43da = L.marker(\n                [0.0, 0.0],\n                {}\n            ).addTo(map_cf20066b902bbdc47ee40dd595475c1f);\n        \n    \n            var marker_b0cd205a0ff3553bf4d5391c469c3117 = L.marker(\n                [-34.565259, -58.436583],\n                {}\n            ).addTo(map_cf20066b902bbdc47ee40dd595475c1f);\n        \n    \n            var marker_7d243e87f6d624d8dd32f366abe2027b = L.marker(\n                [-34.446043, -58.745098],\n                {}\n            ).addTo(map_cf20066b902bbdc47ee40dd595475c1f);\n        \n    \n            var marker_d5b6bb59c848f380a4aa6d379ef7b499 = L.marker(\n                [-34.853221, -58.502247],\n                {}\n            ).addTo(map_cf20066b902bbdc47ee40dd595475c1f);\n        \n    \n            var marker_ec1676af207d98047062c6627a6d40de = L.marker(\n                [-34.4715309, -58.5153501],\n                {}\n            ).addTo(map_cf20066b902bbdc47ee40dd595475c1f);\n        \n    \n            var marker_c068a8c4393e70e6b360c7e32b632a8c = L.marker(\n                [-34.5962563, -58.3857009],\n                {}\n            ).addTo(map_cf20066b902bbdc47ee40dd595475c1f);\n        \n    \n            var marker_d2b8ab206dda5fa6eb18b513aebfb762 = L.marker(\n                [-34.627893, -58.458295],\n                {}\n            ).addTo(map_cf20066b902bbdc47ee40dd595475c1f);\n        \n    \n            var marker_597b5c6ece886729252a768078a8eb4a = L.marker(\n                [-34.520825, -58.485332],\n                {}\n            ).addTo(map_cf20066b902bbdc47ee40dd595475c1f);\n        \n    \n            var marker_f3a1a7e429c8268faab67064028bef65 = L.marker(\n                [0.0, 0.0],\n                {}\n            ).addTo(map_cf20066b902bbdc47ee40dd595475c1f);\n        \n    \n            var marker_01e9cd78c4ac292b6ac0da840b0c269b = L.marker(\n                [-34.764091, -58.398621],\n                {}\n            ).addTo(map_cf20066b902bbdc47ee40dd595475c1f);\n        \n    \n            var marker_73b913b542af204c7a464cb0248832b8 = L.marker(\n                [-34.560842, -58.449841],\n                {}\n            ).addTo(map_cf20066b902bbdc47ee40dd595475c1f);\n        \n    \n            var marker_120aa4492d37f4fb8c72eab20d1b481a = L.marker(\n                [-34.581691, -58.414435],\n                {}\n            ).addTo(map_cf20066b902bbdc47ee40dd595475c1f);\n        \n    \n            var marker_17a0ea6129aa2556048f851e576b5447 = L.marker(\n                [-34.580101, -58.408191],\n                {}\n            ).addTo(map_cf20066b902bbdc47ee40dd595475c1f);\n        \n    \n            var marker_9a81405748ab578a338fa469097b0ba3 = L.marker(\n                [-34.58609, -58.42231],\n                {}\n            ).addTo(map_cf20066b902bbdc47ee40dd595475c1f);\n        \n    \n            var marker_17378fc05f3b9f6d5dae60751f537063 = L.marker(\n                [-34.566744, -58.453445],\n                {}\n            ).addTo(map_cf20066b902bbdc47ee40dd595475c1f);\n        \n    \n            var marker_b611f00cf45eb68ea63c2a829f471ab9 = L.marker(\n                [-34.589375, -58.388536],\n                {}\n            ).addTo(map_cf20066b902bbdc47ee40dd595475c1f);\n        \n    \n            var marker_8d7f18656d3a9ed0136f599741f00f98 = L.marker(\n                [-34.590488, -58.408384],\n                {}\n            ).addTo(map_cf20066b902bbdc47ee40dd595475c1f);\n        \n    \n            var marker_d40d8b38eff1c439512a9a20b3d5aff0 = L.marker(\n                [-34.587061, -58.410916],\n                {}\n            ).addTo(map_cf20066b902bbdc47ee40dd595475c1f);\n        \n    \n            var marker_6b3576a27ae1f6fe69a61ae240af6132 = L.marker(\n                [-34.593032, -58.391347],\n                {}\n            ).addTo(map_cf20066b902bbdc47ee40dd595475c1f);\n        \n    \n            var marker_5d1ccb835bffcefebc42ceefb76d2037 = L.marker(\n                [-34.608787, -58.392012],\n                {}\n            ).addTo(map_cf20066b902bbdc47ee40dd595475c1f);\n        \n    \n            var marker_25186385df308b7f3eaae880ce7a580e = L.marker(\n                [-34.617352, -58.434391],\n                {}\n            ).addTo(map_cf20066b902bbdc47ee40dd595475c1f);\n        \n    \n            var marker_d9b0e96bcce69301df9d49a50d2fc49a = L.marker(\n                [-34.593885, -58.3978981],\n                {}\n            ).addTo(map_cf20066b902bbdc47ee40dd595475c1f);\n        \n    \n            var marker_4c8d7eaef513394809ac5f33b4a443d2 = L.marker(\n                [-34.798951, -58.404243],\n                {}\n            ).addTo(map_cf20066b902bbdc47ee40dd595475c1f);\n        \n    \n            var marker_54f7592bced67e1119c38e19cb209ea5 = L.marker(\n                [-34.561708, -58.452373],\n                {}\n            ).addTo(map_cf20066b902bbdc47ee40dd595475c1f);\n        \n    \n            var marker_e849211e21b272f4682da06382c22086 = L.marker(\n                [-34.5859346, -58.4051877],\n                {}\n            ).addTo(map_cf20066b902bbdc47ee40dd595475c1f);\n        \n    \n            var marker_1f9df6cf375b6fbae068c036503cc447 = L.marker(\n                [-34.934655, -57.975326],\n                {}\n            ).addTo(map_cf20066b902bbdc47ee40dd595475c1f);\n        \n    \n            var marker_d1e768ecf73a083f7c9445f1e0dc5a6c = L.marker(\n                [-37.259025, -56.982672],\n                {}\n            ).addTo(map_cf20066b902bbdc47ee40dd595475c1f);\n        \n    \n            var marker_6f3cdc01878e4fc30f7e3d40e8f2cc77 = L.marker(\n                [-34.5915193, -58.378118],\n                {}\n            ).addTo(map_cf20066b902bbdc47ee40dd595475c1f);\n        \n    \n            var marker_c5a90d40edec2cc5a638c86853d341db = L.marker(\n                [-34.603435, -58.424113],\n                {}\n            ).addTo(map_cf20066b902bbdc47ee40dd595475c1f);\n        \n    \n            var marker_98619c6b1e638876fde65be69d79c96a = L.marker(\n                [-37.108689, -56.871028],\n                {}\n            ).addTo(map_cf20066b902bbdc47ee40dd595475c1f);\n        \n    \n            var marker_8cb6e9d53fee4ac8e67519a414ac124a = L.marker(\n                [-37.2635495, -56.9745208],\n                {}\n            ).addTo(map_cf20066b902bbdc47ee40dd595475c1f);\n        \n    \n            var marker_a4f1dc8012cda5706f9f2a3258b40962 = L.marker(\n                [-34.572857, -58.459282],\n                {}\n            ).addTo(map_cf20066b902bbdc47ee40dd595475c1f);\n        \n    \n            var marker_fce92bab6dd2f1aa55d1fb9474105e7d = L.marker(\n                [-38.024498, -57.563767],\n                {}\n            ).addTo(map_cf20066b902bbdc47ee40dd595475c1f);\n        \n    \n            var marker_14596e1342ecae477a8702326b488365 = L.marker(\n                [-38.0016165, -57.5499759],\n                {}\n            ).addTo(map_cf20066b902bbdc47ee40dd595475c1f);\n        \n    \n            var marker_f4db9ed6086e494878f496b8c5cf7431 = L.marker(\n                [-37.960018, -57.564476],\n                {}\n            ).addTo(map_cf20066b902bbdc47ee40dd595475c1f);\n        \n    \n            var marker_52d00b5f8471d6a969ab0a53ecbfcae5 = L.marker(\n                [-37.998259, -57.545421],\n                {}\n            ).addTo(map_cf20066b902bbdc47ee40dd595475c1f);\n        \n    \n            var marker_156743a441afb731adaff39e3d57a5aa = L.marker(\n                [-34.915544, -57.942746],\n                {}\n            ).addTo(map_cf20066b902bbdc47ee40dd595475c1f);\n        \n    \n            var marker_58cccb56500e47b7eb07a4970fc1d5fb = L.marker(\n                [-34.569783, -58.470676],\n                {}\n            ).addTo(map_cf20066b902bbdc47ee40dd595475c1f);\n        \n    \n            var marker_a0548a423052dab8e8017ef3ca0426de = L.marker(\n                [-34.786031, -58.252974],\n                {}\n            ).addTo(map_cf20066b902bbdc47ee40dd595475c1f);\n        \n    \n            var marker_a292edc96641e6ebbc039a178b510ed6 = L.marker(\n                [-34.738192, -58.408967],\n                {}\n            ).addTo(map_cf20066b902bbdc47ee40dd595475c1f);\n        \n    \n            var marker_bec7fbf29b74a66ef73a87e8c18a4830 = L.marker(\n                [-34.596317, -58.389805],\n                {}\n            ).addTo(map_cf20066b902bbdc47ee40dd595475c1f);\n        \n    \n            var marker_ca81b1ab98b28112a54b0fc5152ec39e = L.marker(\n                [-34.6547671, -58.50615],\n                {}\n            ).addTo(map_cf20066b902bbdc47ee40dd595475c1f);\n        \n    \n            var marker_e04eaf1d28674acb1bbc55173ad8b42e = L.marker(\n                [-34.6417334, -58.5710307],\n                {}\n            ).addTo(map_cf20066b902bbdc47ee40dd595475c1f);\n        \n    \n            var marker_0386b50c880db1f41c95c8d30133adfc = L.marker(\n                [-34.6539, -58.6207],\n                {}\n            ).addTo(map_cf20066b902bbdc47ee40dd595475c1f);\n        \n    \n            var marker_5d6f47bf8ba087aa659df69f9a0c2ed1 = L.marker(\n                [-34.649273, -58.654032],\n                {}\n            ).addTo(map_cf20066b902bbdc47ee40dd595475c1f);\n        \n    \n            var marker_633224c4da69c1fcd3ead81d961423e2 = L.marker(\n                [-34.634367, -58.791778],\n                {}\n            ).addTo(map_cf20066b902bbdc47ee40dd595475c1f);\n        \n    \n            var marker_d88be5a398e57d8cab556e3a309f9968 = L.marker(\n                [-34.5614535, -58.6802181],\n                {}\n            ).addTo(map_cf20066b902bbdc47ee40dd595475c1f);\n        \n    \n            var marker_1acc4b0cdf8fa776b372990e836ea6f7 = L.marker(\n                [0.0, 0.0],\n                {}\n            ).addTo(map_cf20066b902bbdc47ee40dd595475c1f);\n        \n    \n            var marker_cff9c55666f8ddca6949a3440232437a = L.marker(\n                [-34.807942, -58.508362],\n                {}\n            ).addTo(map_cf20066b902bbdc47ee40dd595475c1f);\n        \n    \n            var marker_9dcf26881258f46f0a4c9345ced51898 = L.marker(\n                [-38.014727, -57.539134],\n                {}\n            ).addTo(map_cf20066b902bbdc47ee40dd595475c1f);\n        \n    \n            var marker_0de1245116b5e713caac3abba49c9a5c = L.marker(\n                [-34.4657445, -58.5749095],\n                {}\n            ).addTo(map_cf20066b902bbdc47ee40dd595475c1f);\n        \n    \n            var marker_4616b03dfa17e46cf9fa9da17f89b5db = L.marker(\n                [-34.6003328, -58.502862],\n                {}\n            ).addTo(map_cf20066b902bbdc47ee40dd595475c1f);\n        \n    \n            var marker_529fc1dd23fcead6ec872b9469e2cf5d = L.marker(\n                [-34.6224616, -58.4348107],\n                {}\n            ).addTo(map_cf20066b902bbdc47ee40dd595475c1f);\n        \n    \n            var marker_753c52c7e58ca40aa0e19d555bf5a082 = L.marker(\n                [-36.688037, -56.683531],\n                {}\n            ).addTo(map_cf20066b902bbdc47ee40dd595475c1f);\n        \n    \n            var marker_d74ce3022799041d638d9f51a1d3392f = L.marker(\n                [-34.6133869, -58.3917308],\n                {}\n            ).addTo(map_cf20066b902bbdc47ee40dd595475c1f);\n        \n    \n            var marker_c798deaf9f18b1be1def296e7e3a2645 = L.marker(\n                [0.0, 0.0],\n                {}\n            ).addTo(map_cf20066b902bbdc47ee40dd595475c1f);\n        \n    \n            var marker_196353ff3ec796efe10a8db95ff36a88 = L.marker(\n                [-34.629588, -58.445295],\n                {}\n            ).addTo(map_cf20066b902bbdc47ee40dd595475c1f);\n        \n    \n            var marker_8f3abd7c227b4e686e66b297bf4ad16a = L.marker(\n                [-34.564535, -58.451564],\n                {}\n            ).addTo(map_cf20066b902bbdc47ee40dd595475c1f);\n        \n    \n            var marker_5c87fa692bde419b011a7a8d4012a3ad = L.marker(\n                [-34.58321, -60.95419],\n                {}\n            ).addTo(map_cf20066b902bbdc47ee40dd595475c1f);\n        \n    \n            var marker_54ce2d60eeddbe5204bf07e86bc773f3 = L.marker(\n                [-34.691168, -58.498985],\n                {}\n            ).addTo(map_cf20066b902bbdc47ee40dd595475c1f);\n        \n    \n            var marker_964705ad27ae280cdd47111b70031b1f = L.marker(\n                [0.0, 0.0],\n                {}\n            ).addTo(map_cf20066b902bbdc47ee40dd595475c1f);\n        \n    \n            var marker_ce6a06e99520f3868917927b5c82e53f = L.marker(\n                [-34.8918342, -60.0206],\n                {}\n            ).addTo(map_cf20066b902bbdc47ee40dd595475c1f);\n        \n    \n            var marker_07d414428c309a14e70e96922edf235e = L.marker(\n                [-38.561925, -58.729802],\n                {}\n            ).addTo(map_cf20066b902bbdc47ee40dd595475c1f);\n        \n    \n            var marker_cf2267280822abb25e9e6f1303cc1c42 = L.marker(\n                [-34.665727, -58.696967],\n                {}\n            ).addTo(map_cf20066b902bbdc47ee40dd595475c1f);\n        \n    \n            var marker_27a27fc2f99edee7af15373f3a319c76 = L.marker(\n                [-36.360308, -56.722051],\n                {}\n            ).addTo(map_cf20066b902bbdc47ee40dd595475c1f);\n        \n    \n            var marker_cf71dae31ef0b259de7a4acc4dde09c5 = L.marker(\n                [-32.946868, -60.636206],\n                {}\n            ).addTo(map_cf20066b902bbdc47ee40dd595475c1f);\n        \n    \n            var marker_ef60eb92b4e03a39bf54993f5dfb9f87 = L.marker(\n                [-33.677926, -59.668511],\n                {}\n            ).addTo(map_cf20066b902bbdc47ee40dd595475c1f);\n        \n    \n            var marker_1f03603d4de5b3ddacab6247035c2a9c = L.marker(\n                [-34.403227, -60.733159],\n                {}\n            ).addTo(map_cf20066b902bbdc47ee40dd595475c1f);\n        \n    \n            var marker_11edced4cda2a2134ffd87576f56ffe0 = L.marker(\n                [-33.899131, -60.576621],\n                {}\n            ).addTo(map_cf20066b902bbdc47ee40dd595475c1f);\n        \n    \n            var marker_f22582f5a2190f6ebb733b9f8d8ae63e = L.marker(\n                [0.0, 0.0],\n                {}\n            ).addTo(map_cf20066b902bbdc47ee40dd595475c1f);\n        \n    \n            var marker_ca57928f3b82d9a8318beb2ab7a84eae = L.marker(\n                [-35.635604, -59.776489],\n                {}\n            ).addTo(map_cf20066b902bbdc47ee40dd595475c1f);\n        \n    \n            var marker_fb18dce5292a4f1f869956ce8c930e21 = L.marker(\n                [-30.739331, -57.966514],\n                {}\n            ).addTo(map_cf20066b902bbdc47ee40dd595475c1f);\n        \n    \n            var marker_0138114775fa81892ae7a636d46f7de0 = L.marker(\n                [-33.010391, -58.526405],\n                {}\n            ).addTo(map_cf20066b902bbdc47ee40dd595475c1f);\n        \n    \n            var marker_15348df348cc0fcc36c583367fc83f15 = L.marker(\n                [-29.141976, -59.265382],\n                {}\n            ).addTo(map_cf20066b902bbdc47ee40dd595475c1f);\n        \n    \n            var marker_1b8c492014112b519995b282a6ee3cdd = L.marker(\n                [-29.715194, -57.088845],\n                {}\n            ).addTo(map_cf20066b902bbdc47ee40dd595475c1f);\n        \n    \n            var marker_ec22116b86bfc03cbc24ac0c6efd3bf7 = L.marker(\n                [-34.4934, -58.627174],\n                {}\n            ).addTo(map_cf20066b902bbdc47ee40dd595475c1f);\n        \n    \n            var marker_3237c6ea3e17e6ea28a7c26491173a1f = L.marker(\n                [-37.327035, -59.132931],\n                {}\n            ).addTo(map_cf20066b902bbdc47ee40dd595475c1f);\n        \n    \n            var marker_a259c87c2944b841c8d41321c0d43d04 = L.marker(\n                [-34.637957, -58.377636],\n                {}\n            ).addTo(map_cf20066b902bbdc47ee40dd595475c1f);\n        \n    \n            var marker_133bfd6b7ad9f6e3aa7b6b1f107383a0 = L.marker(\n                [-43.2688, -65.281627],\n                {}\n            ).addTo(map_cf20066b902bbdc47ee40dd595475c1f);\n        \n    \n            var marker_10720f56bda644d196a162cc2a544b13 = L.marker(\n                [-34.595805, -60.928165],\n                {}\n            ).addTo(map_cf20066b902bbdc47ee40dd595475c1f);\n        \n    \n            var marker_57ea2e603549927589a4cf99d9f7bdf9 = L.marker(\n                [-31.384417, -58.020819],\n                {}\n            ).addTo(map_cf20066b902bbdc47ee40dd595475c1f);\n        \n    \n            var marker_0ab55a069b7670b31837383684a223c5 = L.marker(\n                [-31.755795, -60.496477],\n                {}\n            ).addTo(map_cf20066b902bbdc47ee40dd595475c1f);\n        \n    \n            var marker_43ee525eb8033a28c5fe4587594728ba = L.marker(\n                [-34.590859, -58.414865],\n                {}\n            ).addTo(map_cf20066b902bbdc47ee40dd595475c1f);\n        \n    \n            var marker_3b58f46333e73317256f65abf4d708a5 = L.marker(\n                [-34.625104, -58.447309],\n                {}\n            ).addTo(map_cf20066b902bbdc47ee40dd595475c1f);\n        \n    \n            var marker_cb252730c04908a8550f0b7df9a7b173 = L.marker(\n                [-34.598614, -58.402398],\n                {}\n            ).addTo(map_cf20066b902bbdc47ee40dd595475c1f);\n        \n    \n            var marker_f938bdf0dc575928f182c40f42bdb476 = L.marker(\n                [-34.613838, -58.420486],\n                {}\n            ).addTo(map_cf20066b902bbdc47ee40dd595475c1f);\n        \n    \n            var marker_14ad02adfcdfe2ecf4928a8435e187ba = L.marker(\n                [-34.599373, -58.417697],\n                {}\n            ).addTo(map_cf20066b902bbdc47ee40dd595475c1f);\n        \n    \n            var marker_8f4c853c525cfeb8117b254ceda897a3 = L.marker(\n                [-34.703165, -58.391991],\n                {}\n            ).addTo(map_cf20066b902bbdc47ee40dd595475c1f);\n        \n    \n            var marker_b9e3c1976fae164a5da26996c6f7c050 = L.marker(\n                [-34.593668, -58.404329],\n                {}\n            ).addTo(map_cf20066b902bbdc47ee40dd595475c1f);\n        \n    \n            var marker_5f9d246cc8239f76a007cb79ad69b775 = L.marker(\n                [-34.726218, -58.395638],\n                {}\n            ).addTo(map_cf20066b902bbdc47ee40dd595475c1f);\n        \n    \n            var marker_975ff4b85bd0789d68303acb57bf10c5 = L.marker(\n                [-34.9074365, -57.949567],\n                {}\n            ).addTo(map_cf20066b902bbdc47ee40dd595475c1f);\n        \n    \n            var marker_91b69cc53c8727abd85998a1ffbf04e5 = L.marker(\n                [-37.991867, -57.559326],\n                {}\n            ).addTo(map_cf20066b902bbdc47ee40dd595475c1f);\n        \n    \n            var marker_587ca52575e71d07ce00f22d8b2ec6a2 = L.marker(\n                [-34.61495, -58.434477],\n                {}\n            ).addTo(map_cf20066b902bbdc47ee40dd595475c1f);\n        \n    \n            var marker_a13c83b505f0732a45181f0477880ae7 = L.marker(\n                [-34.6487126, -58.6115311],\n                {}\n            ).addTo(map_cf20066b902bbdc47ee40dd595475c1f);\n        \n    \n            var marker_e671aa6adecec7e9b79ffff52de6cb4c = L.marker(\n                [-34.655963, -58.651543],\n                {}\n            ).addTo(map_cf20066b902bbdc47ee40dd595475c1f);\n        \n    \n            var marker_36fde9867a1d2ab4262a68fc0688471a = L.marker(\n                [-34.568452, -58.742759],\n                {}\n            ).addTo(map_cf20066b902bbdc47ee40dd595475c1f);\n        \n    \n            var marker_c486d6b3bf231e4443cad8410b78aa6f = L.marker(\n                [-34.6668243, -58.7273322],\n                {}\n            ).addTo(map_cf20066b902bbdc47ee40dd595475c1f);\n        \n    \n            var marker_6adbc9c48ba92cb254404d2273b30563 = L.marker(\n                [-34.6729584, -58.7239622],\n                {}\n            ).addTo(map_cf20066b902bbdc47ee40dd595475c1f);\n        \n    \n            var marker_20a63a5c6fc606b878bafd23ea09335b = L.marker(\n                [-34.643518, -58.789194],\n                {}\n            ).addTo(map_cf20066b902bbdc47ee40dd595475c1f);\n        \n    \n            var marker_4562993f0ba259bff40e8a64bf0c2ad2 = L.marker(\n                [-34.562532, -59.117523],\n                {}\n            ).addTo(map_cf20066b902bbdc47ee40dd595475c1f);\n        \n    \n            var marker_bbf5c938fe0661e1f04749f637c9d754 = L.marker(\n                [-34.602976, -58.635385],\n                {}\n            ).addTo(map_cf20066b902bbdc47ee40dd595475c1f);\n        \n    \n            var marker_1f57e249fa434d5a1869e5570fe759ee = L.marker(\n                [-34.6531158, -59.4326084],\n                {}\n            ).addTo(map_cf20066b902bbdc47ee40dd595475c1f);\n        \n    \n            var marker_33464bb9b294fa27bdcf24b8df0a696a = L.marker(\n                [-34.6101417, -58.5615015],\n                {}\n            ).addTo(map_cf20066b902bbdc47ee40dd595475c1f);\n        \n    \n            var marker_d29ea0236cf4ea17bbf41cc5216bc9a2 = L.marker(\n                [-34.6217365, -58.4254639],\n                {}\n            ).addTo(map_cf20066b902bbdc47ee40dd595475c1f);\n        \n    \n            var marker_91ce2043c4745e9c5c0eb1383070c767 = L.marker(\n                [-38.046367, -57.55394],\n                {}\n            ).addTo(map_cf20066b902bbdc47ee40dd595475c1f);\n        \n    \n            var marker_7af9c177b8a44c449042fce97530d3a9 = L.marker(\n                [-34.91673, -57.956336],\n                {}\n            ).addTo(map_cf20066b902bbdc47ee40dd595475c1f);\n        \n    \n            var marker_54230af9e70111477ef9d84c4a8764e3 = L.marker(\n                [-34.554674, -58.483486],\n                {}\n            ).addTo(map_cf20066b902bbdc47ee40dd595475c1f);\n        \n    \n            var marker_ac797b07ebfb75960cc32e51787b1e78 = L.marker(\n                [-35.18598, -59.097955],\n                {}\n            ).addTo(map_cf20066b902bbdc47ee40dd595475c1f);\n        \n    \n            var marker_315810033bc3908c9007e20bb883eaaf = L.marker(\n                [-35.050042, -58.756238],\n                {}\n            ).addTo(map_cf20066b902bbdc47ee40dd595475c1f);\n        \n    \n            var marker_73856a402d78dfb561994c9aaedc2144 = L.marker(\n                [-38.377394, -60.272848],\n                {}\n            ).addTo(map_cf20066b902bbdc47ee40dd595475c1f);\n        \n    \n            var marker_cc6b1348a13f595f6215307f345ad750 = L.marker(\n                [-42.768281, -65.037972],\n                {}\n            ).addTo(map_cf20066b902bbdc47ee40dd595475c1f);\n        \n    \n            var marker_0581aed55e8ea8611f0184cda9082a71 = L.marker(\n                [-38.01236, -57.565788],\n                {}\n            ).addTo(map_cf20066b902bbdc47ee40dd595475c1f);\n        \n    \n            var marker_8d8c1393e694fd5fcb4f9e758b7d22cc = L.marker(\n                [0.0, 0.0],\n                {}\n            ).addTo(map_cf20066b902bbdc47ee40dd595475c1f);\n        \n    \n            var marker_d67efb5278823fb2324d6f6f4e640de8 = L.marker(\n                [-34.728113, -58.248973],\n                {}\n            ).addTo(map_cf20066b902bbdc47ee40dd595475c1f);\n        \n    \n            var marker_62a7dcf4b17f2c67108315b6ce07f47d = L.marker(\n                [-34.674547, -58.460834],\n                {}\n            ).addTo(map_cf20066b902bbdc47ee40dd595475c1f);\n        \n    \n            var marker_67449c196a3f9d7a1d7517b61be1ba72 = L.marker(\n                [-34.508767, -58.521727],\n                {}\n            ).addTo(map_cf20066b902bbdc47ee40dd595475c1f);\n        \n    \n            var marker_cac0f636f4bc7f9097db8c39674bcced = L.marker(\n                [-34.792731, -58.414739],\n                {}\n            ).addTo(map_cf20066b902bbdc47ee40dd595475c1f);\n        \n    \n            var marker_f0b87f90c104a89067e540749c5f5783 = L.marker(\n                [-34.565295, -58.554622],\n                {}\n            ).addTo(map_cf20066b902bbdc47ee40dd595475c1f);\n        \n    \n            var marker_70bcb8439d68b86bfc0664877be4324a = L.marker(\n                [-34.575083, -58.425211],\n                {}\n            ).addTo(map_cf20066b902bbdc47ee40dd595475c1f);\n        \n    \n            var marker_da0335f117e5d43e0ee201b59488768b = L.marker(\n                [-34.759719, -58.278783],\n                {}\n            ).addTo(map_cf20066b902bbdc47ee40dd595475c1f);\n        \n    \n            var marker_326257df8d60ac8f37853cf3257b3c45 = L.marker(\n                [-34.701083, -58.647552],\n                {}\n            ).addTo(map_cf20066b902bbdc47ee40dd595475c1f);\n        \n    \n            var marker_bdc2f40b4ffa8dd27820b0996f57705f = L.marker(\n                [-34.446786, -58.870454],\n                {}\n            ).addTo(map_cf20066b902bbdc47ee40dd595475c1f);\n        \n    \n            var marker_80363e0a689c4b4b3125811b7e7e5314 = L.marker(\n                [-34.621431, -58.360854],\n                {}\n            ).addTo(map_cf20066b902bbdc47ee40dd595475c1f);\n        \n    \n            var marker_01bd69d3d3f4aa671612fbc946ab8ae1 = L.marker(\n                [-34.355837, -58.797712],\n                {}\n            ).addTo(map_cf20066b902bbdc47ee40dd595475c1f);\n        \n    \n            var marker_e8b2755611e221872cd934179e13d638 = L.marker(\n                [-32.909118, -60.683434],\n                {}\n            ).addTo(map_cf20066b902bbdc47ee40dd595475c1f);\n        \n    \n            var marker_ebf61278507a3db6676a8f1388fa82d7 = L.marker(\n                [-34.599815, -58.429112],\n                {}\n            ).addTo(map_cf20066b902bbdc47ee40dd595475c1f);\n        \n    \n            var marker_bb50ad18d23bfb0dfc7c1f909718ddd9 = L.marker(\n                [-34.583457, -58.464818],\n                {}\n            ).addTo(map_cf20066b902bbdc47ee40dd595475c1f);\n        \n    \n            var marker_ba360394f3c099bb10fd9c582873982b = L.marker(\n                [-34.610676, -58.439326],\n                {}\n            ).addTo(map_cf20066b902bbdc47ee40dd595475c1f);\n        \n    \n            var marker_8ca16fef815cbee712496f5f8167fde2 = L.marker(\n                [-34.609829, -58.465505],\n                {}\n            ).addTo(map_cf20066b902bbdc47ee40dd595475c1f);\n        \n    \n            var marker_c72da90d13955c1612ef0085b626de7b = L.marker(\n                [0.0, 0.0],\n                {}\n            ).addTo(map_cf20066b902bbdc47ee40dd595475c1f);\n        \n    \n            var marker_8e92e6e77227481be3bf5a07f03b689a = L.marker(\n                [-45.872649, -67.496036],\n                {}\n            ).addTo(map_cf20066b902bbdc47ee40dd595475c1f);\n        \n    \n            var marker_71d85a2e08d9cd253d957777be1ccd93 = L.marker(\n                [0.0, 0.0],\n                {}\n            ).addTo(map_cf20066b902bbdc47ee40dd595475c1f);\n        \n    \n            var marker_4138697fcf4047866db8f5d10df2ac49 = L.marker(\n                [0.0, 0.0],\n                {}\n            ).addTo(map_cf20066b902bbdc47ee40dd595475c1f);\n        \n    \n            var marker_0d4ccc82b66598f3f71e68f4aa8fb40a = L.marker(\n                [-34.453186, -58.630924],\n                {}\n            ).addTo(map_cf20066b902bbdc47ee40dd595475c1f);\n        \n    \n            var marker_5e503112f05929ad3c2de2b1b7efa12a = L.marker(\n                [-34.577317, -58.428886],\n                {}\n            ).addTo(map_cf20066b902bbdc47ee40dd595475c1f);\n        \n    \n            var marker_697b83153dbc783c6c47fbcb87e5a922 = L.marker(\n                [-34.4467025, -58.5450372],\n                {}\n            ).addTo(map_cf20066b902bbdc47ee40dd595475c1f);\n        \n    \n            var marker_3f80f782c43fc271830292f913a5ab3a = L.marker(\n                [0.0, 0.0],\n                {}\n            ).addTo(map_cf20066b902bbdc47ee40dd595475c1f);\n        \n    \n            var marker_cfb1568473e7289e78e6c21a60df4c20 = L.marker(\n                [0.0, 0.0],\n                {}\n            ).addTo(map_cf20066b902bbdc47ee40dd595475c1f);\n        \n    \n            var marker_92d23acf7c354196e4c18b9e3415a586 = L.marker(\n                [0.0, 0.0],\n                {}\n            ).addTo(map_cf20066b902bbdc47ee40dd595475c1f);\n        \n&lt;/script&gt;\n&lt;/html&gt;\" style=\"position:absolute;width:100%;height:100%;left:0;top:0;border:none !important;\" allowfullscreen webkitallowfullscreen mozallowfullscreen></iframe></div></div>"
     },
     "execution_count": 58,
     "metadata": {},
     "output_type": "execute_result"
    }
   ],
   "source": [
    "import folium\n",
    "\n",
    "# Combine the latitude and longitude columns into a list of locations\n",
    "locations = [[lat, lon] for lat, lon in zip(locales_df['latitud'], locales_df['longitud'])]\n",
    "\n",
    "# Create a map centered at the first location in the list\n",
    "m = folium.Map(location=locations[0], zoom_start=12)\n",
    "\n",
    "# Add markers to the map for each location in the list\n",
    "for location in locations:\n",
    "    folium.Marker(location=location).add_to(m)\n",
    "\n",
    "# Display the map\n",
    "m\n",
    "\n"
   ],
   "metadata": {
    "collapsed": false
   }
  },
  {
   "cell_type": "markdown",
   "source": [
    "#### Guardar el dataset limpio"
   ],
   "metadata": {
    "collapsed": false
   }
  },
  {
   "cell_type": "code",
   "execution_count": 18,
   "outputs": [],
   "source": [
    "locales_df.to_csv('../clean_data/locales_clean.csv', index=False)"
   ],
   "metadata": {
    "collapsed": false
   }
  }
 ],
 "metadata": {
  "kernelspec": {
   "display_name": "Python 3 (ipykernel)",
   "language": "python",
   "name": "python3"
  },
  "language_info": {
   "codemirror_mode": {
    "name": "ipython",
    "version": 3
   },
   "file_extension": ".py",
   "mimetype": "text/x-python",
   "name": "python",
   "nbconvert_exporter": "python",
   "pygments_lexer": "ipython3",
   "version": "3.10.8"
  },
  "toc": {
   "base_numbering": 1,
   "nav_menu": {},
   "number_sections": true,
   "sideBar": true,
   "skip_h1_title": false,
   "title_cell": "Table of Contents",
   "title_sidebar": "Contents",
   "toc_cell": false,
   "toc_position": {},
   "toc_section_display": true,
   "toc_window_display": false
  },
  "varInspector": {
   "cols": {
    "lenName": 16,
    "lenType": 16,
    "lenVar": 40
   },
   "kernels_config": {
    "python": {
     "delete_cmd_postfix": "",
     "delete_cmd_prefix": "del ",
     "library": "var_list.py",
     "varRefreshCmd": "print(var_dic_list())"
    },
    "r": {
     "delete_cmd_postfix": ") ",
     "delete_cmd_prefix": "rm(",
     "library": "var_list.r",
     "varRefreshCmd": "cat(var_dic_list()) "
    }
   },
   "types_to_exclude": [
    "module",
    "function",
    "builtin_function_or_method",
    "instance",
    "_Feature"
   ],
   "window_display": false
  }
 },
 "nbformat": 4,
 "nbformat_minor": 5
}
