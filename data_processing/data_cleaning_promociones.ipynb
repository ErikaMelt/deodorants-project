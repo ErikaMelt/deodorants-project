{
 "cells": [
  {
   "cell_type": "markdown",
   "id": "7af5dfe1",
   "metadata": {},
   "source": [
    "# Limpieza de Datos Dataset Promociones-20190715"
   ]
  },
  {
   "cell_type": "code",
   "execution_count": 1,
   "id": "396705b3",
   "metadata": {},
   "outputs": [],
   "source": [
    "import pandas as pd\n",
    "from utils_functions import convert_file, upload_to_bucket"
   ]
  },
  {
   "cell_type": "markdown",
   "source": [
    "#### Importar el dataset y observar los primeros registros con head y verificar los tipos de datos con el método info."
   ],
   "metadata": {
    "collapsed": false
   }
  },
  {
   "cell_type": "code",
   "execution_count": 2,
   "outputs": [],
   "source": [
    "promo_col_names = [\n",
    "        'idb', 'id_producto', 'fecha_desde', 'fecha_hasta', 'ventas_estimadas_und',\n",
    "        'nro_prom', 'fecha_trans', 'porcentaje_dcto'\n",
    "]"
   ],
   "metadata": {
    "collapsed": false
   }
  },
  {
   "cell_type": "code",
   "execution_count": 3,
   "outputs": [],
   "source": [
    "promo_df = pd.read_csv(\"../data/VMI_Promociones-20190715.txt\",\n",
    "                       encoding=\"utf-8\",\n",
    "                       header=None,\n",
    "                       delimiter='\\t',\n",
    "                       names=promo_col_names)"
   ],
   "metadata": {
    "collapsed": false
   }
  },
  {
   "cell_type": "code",
   "execution_count": 4,
   "id": "8e7cd2e4",
   "metadata": {},
   "outputs": [
    {
     "data": {
      "text/plain": "   idb  id_producto  fecha_desde  fecha_hasta  ventas_estimadas_und  nro_prom  \\\n0  242       228217     20161023     20161030                  0.98    436830   \n1  242       228217     20161023     20161030                  0.98    436830   \n2  242       228217     20161023     20161030                  0.98    436830   \n3  242       228217     20161023     20161030                  0.98    436830   \n4  242       228217     20161023     20161030                  0.98    436830   \n\n   fecha_trans  porcentaje_dcto  \n0     20161005              7.0  \n1     20161006              7.0  \n2     20161007              7.0  \n3     20161008              7.0  \n4     20161009              7.0  ",
      "text/html": "<div>\n<style scoped>\n    .dataframe tbody tr th:only-of-type {\n        vertical-align: middle;\n    }\n\n    .dataframe tbody tr th {\n        vertical-align: top;\n    }\n\n    .dataframe thead th {\n        text-align: right;\n    }\n</style>\n<table border=\"1\" class=\"dataframe\">\n  <thead>\n    <tr style=\"text-align: right;\">\n      <th></th>\n      <th>idb</th>\n      <th>id_producto</th>\n      <th>fecha_desde</th>\n      <th>fecha_hasta</th>\n      <th>ventas_estimadas_und</th>\n      <th>nro_prom</th>\n      <th>fecha_trans</th>\n      <th>porcentaje_dcto</th>\n    </tr>\n  </thead>\n  <tbody>\n    <tr>\n      <th>0</th>\n      <td>242</td>\n      <td>228217</td>\n      <td>20161023</td>\n      <td>20161030</td>\n      <td>0.98</td>\n      <td>436830</td>\n      <td>20161005</td>\n      <td>7.0</td>\n    </tr>\n    <tr>\n      <th>1</th>\n      <td>242</td>\n      <td>228217</td>\n      <td>20161023</td>\n      <td>20161030</td>\n      <td>0.98</td>\n      <td>436830</td>\n      <td>20161006</td>\n      <td>7.0</td>\n    </tr>\n    <tr>\n      <th>2</th>\n      <td>242</td>\n      <td>228217</td>\n      <td>20161023</td>\n      <td>20161030</td>\n      <td>0.98</td>\n      <td>436830</td>\n      <td>20161007</td>\n      <td>7.0</td>\n    </tr>\n    <tr>\n      <th>3</th>\n      <td>242</td>\n      <td>228217</td>\n      <td>20161023</td>\n      <td>20161030</td>\n      <td>0.98</td>\n      <td>436830</td>\n      <td>20161008</td>\n      <td>7.0</td>\n    </tr>\n    <tr>\n      <th>4</th>\n      <td>242</td>\n      <td>228217</td>\n      <td>20161023</td>\n      <td>20161030</td>\n      <td>0.98</td>\n      <td>436830</td>\n      <td>20161009</td>\n      <td>7.0</td>\n    </tr>\n  </tbody>\n</table>\n</div>"
     },
     "execution_count": 4,
     "metadata": {},
     "output_type": "execute_result"
    }
   ],
   "source": [
    "promo_df.head()"
   ]
  },
  {
   "cell_type": "code",
   "execution_count": 5,
   "outputs": [
    {
     "name": "stdout",
     "output_type": "stream",
     "text": [
      "<class 'pandas.core.frame.DataFrame'>\n",
      "RangeIndex: 285253 entries, 0 to 285252\n",
      "Data columns (total 8 columns):\n",
      " #   Column                Non-Null Count   Dtype  \n",
      "---  ------                --------------   -----  \n",
      " 0   idb                   285253 non-null  int64  \n",
      " 1   id_producto           285253 non-null  int64  \n",
      " 2   fecha_desde           285253 non-null  int64  \n",
      " 3   fecha_hasta           285253 non-null  int64  \n",
      " 4   ventas_estimadas_und  285253 non-null  float64\n",
      " 5   nro_prom              285253 non-null  int64  \n",
      " 6   fecha_trans           285253 non-null  int64  \n",
      " 7   porcentaje_dcto       285253 non-null  float64\n",
      "dtypes: float64(2), int64(6)\n",
      "memory usage: 17.4 MB\n"
     ]
    }
   ],
   "source": [
    "promo_df.info()"
   ],
   "metadata": {
    "collapsed": false
   }
  },
  {
   "cell_type": "markdown",
   "source": [
    "#### Ajustes al dataframe\n",
    "- Convertir la columnas fecha_desde, fecha_hasta y fecha_trans a tipo de dato datetime.\n",
    "- Verificar si existen valores nulos y/o repetidos.\n",
    "- Obtener las fechas máximas y minimas de transaciones.\n",
    "- Crear una nueva columnas llamada duracion_promo para obtener el delta de tiempo entre la fecha_desde y la fecha_hasta de una promoción.\n",
    "- Obtener una análisis descriptivo de los datos."
   ],
   "metadata": {
    "collapsed": false
   }
  },
  {
   "cell_type": "code",
   "execution_count": 6,
   "outputs": [],
   "source": [
    "promo_df = convert_file(promo_df, 'fecha_desde',  'date')"
   ],
   "metadata": {
    "collapsed": false
   }
  },
  {
   "cell_type": "code",
   "execution_count": 7,
   "outputs": [],
   "source": [
    "promo_df = convert_file(promo_df, 'fecha_hasta',  'date')"
   ],
   "metadata": {
    "collapsed": false
   }
  },
  {
   "cell_type": "code",
   "execution_count": 8,
   "outputs": [],
   "source": [
    "promo_df = convert_file(promo_df, 'fecha_trans', 'date')"
   ],
   "metadata": {
    "collapsed": false
   }
  },
  {
   "cell_type": "code",
   "execution_count": 9,
   "outputs": [
    {
     "data": {
      "text/plain": "idb                     0\nid_producto             0\nfecha_desde             0\nfecha_hasta             0\nventas_estimadas_und    0\nnro_prom                0\nfecha_trans             0\nporcentaje_dcto         0\ndtype: int64"
     },
     "execution_count": 9,
     "metadata": {},
     "output_type": "execute_result"
    }
   ],
   "source": [
    "promo_df.isnull().sum(axis=0)"
   ],
   "metadata": {
    "collapsed": false
   }
  },
  {
   "cell_type": "code",
   "execution_count": 10,
   "outputs": [
    {
     "data": {
      "text/plain": "0"
     },
     "execution_count": 10,
     "metadata": {},
     "output_type": "execute_result"
    }
   ],
   "source": [
    "promo_df.duplicated().sum()"
   ],
   "metadata": {
    "collapsed": false
   }
  },
  {
   "cell_type": "code",
   "execution_count": 11,
   "outputs": [
    {
     "name": "stdout",
     "output_type": "stream",
     "text": [
      "Minimum date: 2016-07-19 00:00:00\n",
      "Maximum date: 2019-07-16 00:00:00\n"
     ]
    }
   ],
   "source": [
    "min_date = promo_df['fecha_desde'].min()\n",
    "max_date = promo_df['fecha_hasta'].max()\n",
    "\n",
    "\n",
    "print(f\"Minimum date: {min_date}\")\n",
    "print(f\"Maximum date: {max_date}\")"
   ],
   "metadata": {
    "collapsed": false
   }
  },
  {
   "cell_type": "code",
   "execution_count": 12,
   "outputs": [
    {
     "name": "stdout",
     "output_type": "stream",
     "text": [
      "Minimum date: 2016-07-14 00:00:00\n",
      "Maximum date: 2019-07-14 00:00:00\n"
     ]
    }
   ],
   "source": [
    "min_date = promo_df['fecha_trans'].min()\n",
    "max_date = promo_df['fecha_trans'].max()\n",
    "\n",
    "print(f\"Minimum date: {min_date}\")\n",
    "print(f\"Maximum date: {max_date}\")"
   ],
   "metadata": {
    "collapsed": false
   }
  },
  {
   "cell_type": "code",
   "execution_count": 13,
   "outputs": [],
   "source": [
    "# Crear una nueva columna llamada duracion de la promoción.\n",
    "promo_df['duracion_promo_delta'] = promo_df['fecha_hasta'] - promo_df['fecha_desde']\n",
    "\n",
    "# Convertir timedelta to float\n",
    "promo_df['duracion_promo'] = promo_df['duracion_promo_delta'].dt.days.astype(float)\n",
    "\n",
    "# Drop la columna duracion_promo\n",
    "promo_df.drop(columns=['duracion_promo_delta'], inplace=True)"
   ],
   "metadata": {
    "collapsed": false
   }
  },
  {
   "cell_type": "code",
   "execution_count": 14,
   "outputs": [
    {
     "data": {
      "text/plain": "                 idb    id_producto  ventas_estimadas_und       nro_prom  \\\ncount  285253.000000  285253.000000         285253.000000  285253.000000   \nmean     7065.578963  388393.367197             24.622701  471275.031435   \nstd      3169.254446   83906.420820             30.314661   37596.939924   \nmin       242.000000  164146.000000              0.000000  425196.000000   \n25%      5207.000000  342682.000000              6.000000  436830.000000   \n50%      9026.000000  427445.000000             12.520000  456807.000000   \n75%      9159.000000  458395.000000             30.440000  502702.000000   \nmax      9977.000000  507528.000000            300.820000  541066.000000   \n\n       porcentaje_dcto  duracion_promo  \ncount    285253.000000   285253.000000  \nmean          8.394103        8.394103  \nstd           2.893570        2.893570  \nmin           3.000000        3.000000  \n25%           7.000000        7.000000  \n50%           7.000000        7.000000  \n75%           8.000000        8.000000  \nmax          18.000000       18.000000  ",
      "text/html": "<div>\n<style scoped>\n    .dataframe tbody tr th:only-of-type {\n        vertical-align: middle;\n    }\n\n    .dataframe tbody tr th {\n        vertical-align: top;\n    }\n\n    .dataframe thead th {\n        text-align: right;\n    }\n</style>\n<table border=\"1\" class=\"dataframe\">\n  <thead>\n    <tr style=\"text-align: right;\">\n      <th></th>\n      <th>idb</th>\n      <th>id_producto</th>\n      <th>ventas_estimadas_und</th>\n      <th>nro_prom</th>\n      <th>porcentaje_dcto</th>\n      <th>duracion_promo</th>\n    </tr>\n  </thead>\n  <tbody>\n    <tr>\n      <th>count</th>\n      <td>285253.000000</td>\n      <td>285253.000000</td>\n      <td>285253.000000</td>\n      <td>285253.000000</td>\n      <td>285253.000000</td>\n      <td>285253.000000</td>\n    </tr>\n    <tr>\n      <th>mean</th>\n      <td>7065.578963</td>\n      <td>388393.367197</td>\n      <td>24.622701</td>\n      <td>471275.031435</td>\n      <td>8.394103</td>\n      <td>8.394103</td>\n    </tr>\n    <tr>\n      <th>std</th>\n      <td>3169.254446</td>\n      <td>83906.420820</td>\n      <td>30.314661</td>\n      <td>37596.939924</td>\n      <td>2.893570</td>\n      <td>2.893570</td>\n    </tr>\n    <tr>\n      <th>min</th>\n      <td>242.000000</td>\n      <td>164146.000000</td>\n      <td>0.000000</td>\n      <td>425196.000000</td>\n      <td>3.000000</td>\n      <td>3.000000</td>\n    </tr>\n    <tr>\n      <th>25%</th>\n      <td>5207.000000</td>\n      <td>342682.000000</td>\n      <td>6.000000</td>\n      <td>436830.000000</td>\n      <td>7.000000</td>\n      <td>7.000000</td>\n    </tr>\n    <tr>\n      <th>50%</th>\n      <td>9026.000000</td>\n      <td>427445.000000</td>\n      <td>12.520000</td>\n      <td>456807.000000</td>\n      <td>7.000000</td>\n      <td>7.000000</td>\n    </tr>\n    <tr>\n      <th>75%</th>\n      <td>9159.000000</td>\n      <td>458395.000000</td>\n      <td>30.440000</td>\n      <td>502702.000000</td>\n      <td>8.000000</td>\n      <td>8.000000</td>\n    </tr>\n    <tr>\n      <th>max</th>\n      <td>9977.000000</td>\n      <td>507528.000000</td>\n      <td>300.820000</td>\n      <td>541066.000000</td>\n      <td>18.000000</td>\n      <td>18.000000</td>\n    </tr>\n  </tbody>\n</table>\n</div>"
     },
     "execution_count": 14,
     "metadata": {},
     "output_type": "execute_result"
    }
   ],
   "source": [
    "promo_df.describe()"
   ],
   "metadata": {
    "collapsed": false
   }
  },
  {
   "cell_type": "code",
   "execution_count": 15,
   "outputs": [
    {
     "name": "stdout",
     "output_type": "stream",
     "text": [
      "<class 'pandas.core.frame.DataFrame'>\n",
      "RangeIndex: 285253 entries, 0 to 285252\n",
      "Data columns (total 9 columns):\n",
      " #   Column                Non-Null Count   Dtype         \n",
      "---  ------                --------------   -----         \n",
      " 0   idb                   285253 non-null  int64         \n",
      " 1   id_producto           285253 non-null  int64         \n",
      " 2   fecha_desde           285253 non-null  datetime64[ns]\n",
      " 3   fecha_hasta           285253 non-null  datetime64[ns]\n",
      " 4   ventas_estimadas_und  285253 non-null  float64       \n",
      " 5   nro_prom              285253 non-null  int64         \n",
      " 6   fecha_trans           285253 non-null  datetime64[ns]\n",
      " 7   porcentaje_dcto       285253 non-null  float64       \n",
      " 8   duracion_promo        285253 non-null  float64       \n",
      "dtypes: datetime64[ns](3), float64(3), int64(3)\n",
      "memory usage: 19.6 MB\n"
     ]
    }
   ],
   "source": [
    "promo_df.info()"
   ],
   "metadata": {
    "collapsed": false
   }
  },
  {
   "cell_type": "code",
   "execution_count": 16,
   "outputs": [
    {
     "data": {
      "text/plain": "   idb  id_producto fecha_desde fecha_hasta  ventas_estimadas_und  nro_prom  \\\n0  242       228217  2016-10-23  2016-10-30                  0.98    436830   \n1  242       228217  2016-10-23  2016-10-30                  0.98    436830   \n2  242       228217  2016-10-23  2016-10-30                  0.98    436830   \n3  242       228217  2016-10-23  2016-10-30                  0.98    436830   \n4  242       228217  2016-10-23  2016-10-30                  0.98    436830   \n\n  fecha_trans  porcentaje_dcto  duracion_promo  \n0  2016-10-05              7.0             7.0  \n1  2016-10-06              7.0             7.0  \n2  2016-10-07              7.0             7.0  \n3  2016-10-08              7.0             7.0  \n4  2016-10-09              7.0             7.0  ",
      "text/html": "<div>\n<style scoped>\n    .dataframe tbody tr th:only-of-type {\n        vertical-align: middle;\n    }\n\n    .dataframe tbody tr th {\n        vertical-align: top;\n    }\n\n    .dataframe thead th {\n        text-align: right;\n    }\n</style>\n<table border=\"1\" class=\"dataframe\">\n  <thead>\n    <tr style=\"text-align: right;\">\n      <th></th>\n      <th>idb</th>\n      <th>id_producto</th>\n      <th>fecha_desde</th>\n      <th>fecha_hasta</th>\n      <th>ventas_estimadas_und</th>\n      <th>nro_prom</th>\n      <th>fecha_trans</th>\n      <th>porcentaje_dcto</th>\n      <th>duracion_promo</th>\n    </tr>\n  </thead>\n  <tbody>\n    <tr>\n      <th>0</th>\n      <td>242</td>\n      <td>228217</td>\n      <td>2016-10-23</td>\n      <td>2016-10-30</td>\n      <td>0.98</td>\n      <td>436830</td>\n      <td>2016-10-05</td>\n      <td>7.0</td>\n      <td>7.0</td>\n    </tr>\n    <tr>\n      <th>1</th>\n      <td>242</td>\n      <td>228217</td>\n      <td>2016-10-23</td>\n      <td>2016-10-30</td>\n      <td>0.98</td>\n      <td>436830</td>\n      <td>2016-10-06</td>\n      <td>7.0</td>\n      <td>7.0</td>\n    </tr>\n    <tr>\n      <th>2</th>\n      <td>242</td>\n      <td>228217</td>\n      <td>2016-10-23</td>\n      <td>2016-10-30</td>\n      <td>0.98</td>\n      <td>436830</td>\n      <td>2016-10-07</td>\n      <td>7.0</td>\n      <td>7.0</td>\n    </tr>\n    <tr>\n      <th>3</th>\n      <td>242</td>\n      <td>228217</td>\n      <td>2016-10-23</td>\n      <td>2016-10-30</td>\n      <td>0.98</td>\n      <td>436830</td>\n      <td>2016-10-08</td>\n      <td>7.0</td>\n      <td>7.0</td>\n    </tr>\n    <tr>\n      <th>4</th>\n      <td>242</td>\n      <td>228217</td>\n      <td>2016-10-23</td>\n      <td>2016-10-30</td>\n      <td>0.98</td>\n      <td>436830</td>\n      <td>2016-10-09</td>\n      <td>7.0</td>\n      <td>7.0</td>\n    </tr>\n  </tbody>\n</table>\n</div>"
     },
     "execution_count": 16,
     "metadata": {},
     "output_type": "execute_result"
    }
   ],
   "source": [
    "promo_df.head()"
   ],
   "metadata": {
    "collapsed": false
   }
  },
  {
   "cell_type": "markdown",
   "source": [
    "#### Observaciones dataset Promociones-20190715"
   ],
   "metadata": {
    "collapsed": false
   }
  },
  {
   "cell_type": "markdown",
   "source": [
    "1. El dataset contiene la información referente a las promociones realizadas desde 2016-07-19 hasta el 2019-07-16.\n",
    "2. El dataset contiene 285253 registros y 9 columnas descritas así:\n",
    "    - idb:\tIdentificador interno de Boca\n",
    "    - id_producto:\tIdentificador interno de Artículo\n",
    "    - fecha-desde: \tFecha desde de la vigencia de la Promoción\n",
    "    - fecha_hasta:\tFecha hasta de la vigencia de la Promoción\n",
    "    - ventas_estimadas_und: Estimado de ventas en la promoción en Unidades\n",
    "    - nro_prom: Número de la Promoción\n",
    "    - fecha_trans: Fecha de la Información\n",
    "    - porcentaje_dcto: Porcentaje de Descuento\n",
    "    - duracion_promo: La diferencia entre fecha_desde y fecha_hasta.\n",
    "3. No se observan valores NAN ó duplicados.\n",
    "4. La media de ventas estimadas es de 24.62 unidades.\n",
    "5. El máximo porcentaje de descuento es de 18% y el mínimo es de 3%.\n",
    "6. La duración máxima de una promoción es de 18 días.\n",
    "7. La duración media de una promoción es de 8 días."
   ],
   "metadata": {
    "collapsed": false
   }
  },
  {
   "cell_type": "markdown",
   "source": [
    "### Guardar el dataset limpio"
   ],
   "metadata": {
    "collapsed": false
   }
  },
  {
   "cell_type": "code",
   "execution_count": 17,
   "outputs": [],
   "source": [
    "promo_df.to_csv('../clean_data/promociones_clean.csv', index=False)"
   ],
   "metadata": {
    "collapsed": false
   }
  },
  {
   "cell_type": "markdown",
   "source": [
    "#### Subir csv a google cloud storage"
   ],
   "metadata": {
    "collapsed": false
   }
  },
  {
   "cell_type": "code",
   "execution_count": 18,
   "outputs": [
    {
     "name": "stdout",
     "output_type": "stream",
     "text": [
      "File ../clean_data/promociones_clean.csv uploaded successfully to bucket deodorants/promociones\n"
     ]
    }
   ],
   "source": [
    "upload_to_bucket('deodorants', '../clean_data/promociones_clean.csv', 'promociones')"
   ],
   "metadata": {
    "collapsed": false
   }
  }
 ],
 "metadata": {
  "kernelspec": {
   "display_name": "Python 3 (ipykernel)",
   "language": "python",
   "name": "python3"
  },
  "language_info": {
   "codemirror_mode": {
    "name": "ipython",
    "version": 3
   },
   "file_extension": ".py",
   "mimetype": "text/x-python",
   "name": "python",
   "nbconvert_exporter": "python",
   "pygments_lexer": "ipython3",
   "version": "3.10.8"
  },
  "toc": {
   "base_numbering": 1,
   "nav_menu": {},
   "number_sections": true,
   "sideBar": true,
   "skip_h1_title": false,
   "title_cell": "Table of Contents",
   "title_sidebar": "Contents",
   "toc_cell": false,
   "toc_position": {},
   "toc_section_display": true,
   "toc_window_display": false
  },
  "varInspector": {
   "cols": {
    "lenName": 16,
    "lenType": 16,
    "lenVar": 40
   },
   "kernels_config": {
    "python": {
     "delete_cmd_postfix": "",
     "delete_cmd_prefix": "del ",
     "library": "var_list.py",
     "varRefreshCmd": "print(var_dic_list())"
    },
    "r": {
     "delete_cmd_postfix": ") ",
     "delete_cmd_prefix": "rm(",
     "library": "var_list.r",
     "varRefreshCmd": "cat(var_dic_list()) "
    }
   },
   "types_to_exclude": [
    "module",
    "function",
    "builtin_function_or_method",
    "instance",
    "_Feature"
   ],
   "window_display": false
  }
 },
 "nbformat": 4,
 "nbformat_minor": 5
}
