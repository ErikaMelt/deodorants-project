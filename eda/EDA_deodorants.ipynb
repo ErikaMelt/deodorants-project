{
 "cells": [
  {
   "attachments": {},
   "cell_type": "markdown",
   "metadata": {},
   "source": [
    "RESUMEN LISTA DE PREGUNTAS PARA EMPEZAR A TRABAJAR\n",
    "\n",
    "Tenemos tres grupos de datos:\n",
    "\n",
    "- Movimientos con Promociones   (136.278 registros)\n",
    "- Movimientos sin Promociones   (7.628.466 registros)\n",
    "- Movimientos sin  Promociones  y sin informacion de Producto (591.692)\n",
    "(Esto corresponde a los 10 productos adicionales que estan en la tabla de movimientos y no en la de productos)\n",
    "\n",
    "Preguntas:\n",
    "\n",
    "1. Cuales son los productos que tienen mayor volumen de ventas\n",
    "2. Cuales son los productos que tienen un precio unitario mayor a la media.\n",
    "3. Cuales son los productos que tienen un precio unitario menor a la media.\n",
    "4. Como es el comportamiento de ventas de productos por locales (idb)\n",
    "5. Como es el comportamiento de ventas de productos por meses agrupado por año y por locales.\n",
    "6. Cual es el comportamiento de ventas de productos por estaciones del ano (invierno, verano, primavera, otoño) crear una nueva columna para agrupar los meses por estaciones del año.\n",
    "Tener en cuenta estas fechas:\n",
    "En Argentina las estaciones son las siguientes:\n",
    "Verano (21 de diciembre a 20 de marzo).\n",
    "Otoño (21 de marzo a 20 de junio).\n",
    "Invierno (21 de junio a 20 de septiembre).\n",
    "Primavera (21 de septiembre a 20 de diciembre).\n",
    "También, del 18 al 29 de julio suelen ser las vacaciones escolares de invierno en Argentina. Y bueno, también está semana Santa, que es igual en todos lados.\n",
    "\n",
    "7. Cual es el producto que tiene mayor rotacion por local, por ano, por mes.\n",
    "8. Cual es el producto que tiene menor rotacion por local, por ano, por mes.\n",
    "9. Cual es el mes del anno que mas se venden desodorantes, que dia de la semana?\n",
    "10. Que tan acertada son las estimaciones de ventas en unidades d ela promocion vs. lo que realmente se vende del producto.\n",
    "11. Cambia el precio unitario de venta para productos dependiendo del local donde se venda?\n",
    "12. Cual local vende los productos mas caros en comparacion con otros locales.\n",
    "13. Cual local tiene el mayor volumen de ventas? - Es la zona del local una zona de ingresos altos, medios o bajos.  (podriamos crear una columna para clasificar los locales).\n",
    "\n",
    "14. Que impacto tiene la duracion de la promocion en el volumen de ventas?\n",
    "Realizar una comparación entre las ventas y la duración de la promoción, es decir, si la promoción duró más se produjeron más ventas? Esto es un poco complicado porque imagino que de acuerdo al % de descuento puede variar.\n",
    "\n",
    "15. Relación id_cadena con id_producto, supongo que con esta relación se puede ver que productos vende más una cadena en particular.\n",
    "16. Con respecto a latitud y longitud, se puede hacer un gráfico que relacione la ubicación con las ventas por ejemplo, para ver si hay alguna zona donde se produzcan más ventas que otras.\n",
    "\n",
    "\n"
   ]
  }
 ],
 "metadata": {
  "kernelspec": {
   "display_name": "Python 3",
   "language": "python",
   "name": "python3"
  },
  "language_info": {
   "codemirror_mode": {
    "name": "ipython",
    "version": 2
   },
   "file_extension": ".py",
   "mimetype": "text/x-python",
   "name": "python",
   "nbconvert_exporter": "python",
   "pygments_lexer": "ipython2",
   "version": "3.11.0"
  },
  "vscode": {
   "interpreter": {
    "hash": "5238573367df39f7286bb46f9ff5f08f63a01a80960060ce41e3c79b190280fa"
   }
  }
 },
 "nbformat": 4,
 "nbformat_minor": 0
}
