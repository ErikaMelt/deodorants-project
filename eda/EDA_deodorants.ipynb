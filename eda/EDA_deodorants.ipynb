{
 "cells": [
  {
   "cell_type": "code",
   "execution_count": null,
   "metadata": {
    "collapsed": true
   },
   "outputs": [],
   "source": []
  },
  {
   "attachments": {},
   "cell_type": "markdown",
   "metadata": {},
   "source": [
    "Posibles preguntas para análisis EDA:\n",
    "\n",
    "Del dataset de Movimientos:\n",
    "1. Ver cuál es el artículo que más se vende, a partir del Id del producto (relación entre id_producto y venta_unidades)\n",
    "2. También se podría hacer una comparación de las venta_unidades con el precio de venta (precio_unitario), para ver si el precio afecta a la cantidad de los productos que se venden, es decir, si es más económico se vende más el producto o no?\n",
    "3. Se podría ver de acuerdo a la fecha la cantidad de ventas, es decir, en qué fechas se vendió más. Según estimo, en invierno se debería vender más. En Argentina las estaciones son las siguientes: \n",
    "Verano (21 de diciembre a 20 de marzo).\n",
    "Otoño (21 de marzo a 20 de junio).\n",
    "Invierno (21 de junio a 20 de septiembre). Supongo que en estas fechas se debe vender más ya que las casas están más cerradas.\n",
    "Primavera (21 de septiembre a 20 de diciembre).\n",
    "También, del 18 al 29 de julio suelen ser las vacaciones escolares de invierno en Argentina. Y bueno, también está semana Santa, que es igual en todos lados.\n",
    "4. Con el Identificador interno de Boca (idb) quizás se podría analizar que idb ha tenido más ventas, quizás me equivoco pero el idb sería el local que lo vende? Porque si es así, se estaría viendo que local tiene más ventas. \n",
    "\n",
    "\n",
    "Del dataset de Promociones:\n",
    "Si ventas_estimadas_und son las ventas que se realizaron en la promoción se me ocurren algunas ideas:\n",
    "1. Comparar que productos se vendieron más (relación id_producto y ventas_estimadas_und).\n",
    "2. Ver si el porcentaje de descuento afecta a las ventas, es decir, si tienen más % de descuento se venden más? (relación porcentaje_dcto y ventas_estimadas_und)\n",
    "3. Realizar una comparación entre las ventas y la duración de la promoción, es decir, si la promoción duró más se produjeron más ventas? Esto es un poco complicado porque imagino que de acuerdo al % de descuento puede variar.\n",
    "4. De nuevo si el idb es el local, se podrían hacer 2 análisis, cuál local tuvo más promociones (relación idb y count(nro_prom)) y cuál local vendió más (realción idb y ventas_estimadas_und).\n",
    "\n",
    "\n",
    "De los dataset locales y proveedor, se pueden ver muchas cosas, pero no sé que grado de importancia tiene cada una:\n",
    "1. Relación id_cadena con id_producto, supongo que con esta relación se puede ver que productos vende más una cadena en particular.\n",
    "2. Con respecto a latitud y longitud, se puede hacer un gráfico que relacione la ubicación con las ventas por ejemplo, para ver si hay alguna zona donde se produzcan más ventas que otras, pero si falta mucha información quizás no tiene sentido. (abajo copio un código que se puede usar adaptándolo)\n",
    "\n",
    "\n",
    "No me queda claro, en la última tabla que hiciste merged.df que es  id_producto_x y  id_producto_y."
   ]
  },
  {
   "cell_type": "code",
   "execution_count": null,
   "metadata": {},
   "outputs": [],
   "source": [
    "# Hay que adaptar los datos\n",
    "# import plotly.express as px\n",
    "\n",
    "#room_privada = df.loc[(df['room_type'] == 'Private room')]\n",
    "#fig_room_privada = px.scatter_3d(room_privada, x=\"latitude\", y=\"longitude\", z=\"price\", color=\"neighbourhood_group\",\n",
    "#                                 symbol=\"room_type\", opacity=0.3, range_z=(0, 1000))\n",
    "#fig_room_privada.update_traces(marker_size=3)\n",
    "#fig_room_privada.show()"
   ]
  }
 ],
 "metadata": {
  "kernelspec": {
   "display_name": "Python 3",
   "language": "python",
   "name": "python3"
  },
  "language_info": {
   "codemirror_mode": {
    "name": "ipython",
    "version": 2
   },
   "file_extension": ".py",
   "mimetype": "text/x-python",
   "name": "python",
   "nbconvert_exporter": "python",
   "pygments_lexer": "ipython2",
   "version": "3.11.0"
  },
  "vscode": {
   "interpreter": {
    "hash": "5238573367df39f7286bb46f9ff5f08f63a01a80960060ce41e3c79b190280fa"
   }
  }
 },
 "nbformat": 4,
 "nbformat_minor": 0
}
