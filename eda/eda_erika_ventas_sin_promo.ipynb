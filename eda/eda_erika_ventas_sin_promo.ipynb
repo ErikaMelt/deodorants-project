{
 "cells": [
  {
   "cell_type": "markdown",
   "source": [
    "## Analisis ventas sin promociones"
   ],
   "metadata": {
    "collapsed": false
   }
  },
  {
   "cell_type": "code",
   "execution_count": 5,
   "outputs": [],
   "source": [
    "import pandas as pd"
   ],
   "metadata": {
    "collapsed": false
   }
  },
  {
   "cell_type": "code",
   "execution_count": 20,
   "outputs": [],
   "source": [
    "deodorants_df_without_prom = pd.read_csv(\"../clean_data/deodorants_without_promo.csv\")"
   ],
   "metadata": {
    "collapsed": false
   }
  },
  {
   "cell_type": "code",
   "execution_count": 21,
   "outputs": [
    {
     "name": "stdout",
     "output_type": "stream",
     "text": [
      "<class 'pandas.core.frame.DataFrame'>\n",
      "RangeIndex: 7628466 entries, 0 to 7628465\n",
      "Data columns (total 22 columns):\n",
      " #   Column             Dtype  \n",
      "---  ------             -----  \n",
      " 0   row_id             int64  \n",
      " 1   idb                int64  \n",
      " 2   id_producto        int64  \n",
      " 3   fecha_trans        object \n",
      " 4   stock_unidades     int64  \n",
      " 5   venta_unidades     int64  \n",
      " 6   precio_unitario    float64\n",
      " 7   sigue_prod_en_rol  int64  \n",
      " 8   cd_abast           int64  \n",
      " 9   mov_month          int64  \n",
      " 10  mov_year           int64  \n",
      " 11  mov_weekday        int64  \n",
      " 12  id_cadena          int64  \n",
      " 13  desc_cadena        object \n",
      " 14  desc_region        object \n",
      " 15  longitud           float64\n",
      " 16  latitud            float64\n",
      " 17  local              int64  \n",
      " 18  punto_dist         int64  \n",
      " 19  desc_producto      object \n",
      " 20  razon_social       object \n",
      " 21  id_region          int64  \n",
      "dtypes: float64(3), int64(14), object(5)\n",
      "memory usage: 1.3+ GB\n"
     ]
    }
   ],
   "source": [
    "deodorants_df_without_prom.info()"
   ],
   "metadata": {
    "collapsed": false
   }
  },
  {
   "cell_type": "code",
   "execution_count": null,
   "outputs": [],
   "source": [],
   "metadata": {
    "collapsed": false
   }
  }
 ],
 "metadata": {
  "kernelspec": {
   "display_name": "Python 3",
   "language": "python",
   "name": "python3"
  },
  "language_info": {
   "codemirror_mode": {
    "name": "ipython",
    "version": 2
   },
   "file_extension": ".py",
   "mimetype": "text/x-python",
   "name": "python",
   "nbconvert_exporter": "python",
   "pygments_lexer": "ipython2",
   "version": "2.7.6"
  }
 },
 "nbformat": 4,
 "nbformat_minor": 0
}
