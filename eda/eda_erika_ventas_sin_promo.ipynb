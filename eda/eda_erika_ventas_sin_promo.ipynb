{
 "cells": [
  {
   "cell_type": "markdown",
   "source": [
    "## Análisis de las ventas de desodorantes en aerosol con Promociones"
   ],
   "metadata": {
    "collapsed": false
   }
  },
  {
   "cell_type": "code",
   "execution_count": 2,
   "outputs": [],
   "source": [
    "import pandas as pd"
   ],
   "metadata": {
    "collapsed": false
   }
  },
  {
   "cell_type": "code",
   "execution_count": 3,
   "outputs": [],
   "source": [
    "deodorants_df_with_promo_df = pd.read_csv(\"../clean_data/deodorants_with_promo.csv\")"
   ],
   "metadata": {
    "collapsed": false
   }
  },
  {
   "cell_type": "code",
   "execution_count": 4,
   "outputs": [
    {
     "name": "stdout",
     "output_type": "stream",
     "text": [
      "<class 'pandas.core.frame.DataFrame'>\n",
      "RangeIndex: 136278 entries, 0 to 136277\n",
      "Data columns (total 26 columns):\n",
      " #   Column                  Non-Null Count   Dtype  \n",
      "---  ------                  --------------   -----  \n",
      " 0   idb                     136278 non-null  int64  \n",
      " 1   id_producto             136278 non-null  int64  \n",
      " 2   fecha_trans             136278 non-null  object \n",
      " 3   fecha_desde             136278 non-null  object \n",
      " 4   fecha_hasta             136278 non-null  object \n",
      " 5   stock_unidades          136278 non-null  int64  \n",
      " 6   venta_unidades          136278 non-null  int64  \n",
      " 7   precio_unitario         136278 non-null  float64\n",
      " 8   sigue_prod_en_rol       136278 non-null  int64  \n",
      " 9   cd_abast                136278 non-null  int64  \n",
      " 10  mov_month               136278 non-null  int64  \n",
      " 11  mov_year                136278 non-null  int64  \n",
      " 12  mov_weekday             136278 non-null  int64  \n",
      " 13  ventas_estimadas_promo  136278 non-null  int64  \n",
      " 14  nro_prom                136278 non-null  int64  \n",
      " 15  duracion_promo          136278 non-null  int64  \n",
      " 16  id_cadena               136278 non-null  int64  \n",
      " 17  desc_cadena             136278 non-null  object \n",
      " 18  desc_region             136278 non-null  object \n",
      " 19  longitud                136278 non-null  float64\n",
      " 20  latitud                 136278 non-null  float64\n",
      " 21  local                   136278 non-null  int64  \n",
      " 22  punto_dist              136278 non-null  int64  \n",
      " 23  desc_producto           129522 non-null  object \n",
      " 24  razon_social            129522 non-null  object \n",
      " 25  id_region               129522 non-null  float64\n",
      "dtypes: float64(4), int64(15), object(7)\n",
      "memory usage: 27.0+ MB\n"
     ]
    }
   ],
   "source": [
    "deodorants_df_with_promo_df.info()"
   ],
   "metadata": {
    "collapsed": false
   }
  },
  {
   "cell_type": "code",
   "execution_count": 7,
   "outputs": [],
   "source": [
    "deodorants_df_with_promo_df['fecha_desde'] = pd.to_datetime(deodorants_df_with_promo_df['fecha_desde'], format='%Y-%m-%d')\n",
    "deodorants_df_with_promo_df['fecha_hasta'] = pd.to_datetime(deodorants_df_with_promo_df['fecha_hasta'], format='%Y-%m-%d')\n",
    "deodorants_df_with_promo_df['fecha_trans'] = pd.to_datetime(deodorants_df_with_promo_df['fecha_trans'], format='%Y-%m-%d')"
   ],
   "metadata": {
    "collapsed": false
   }
  },
  {
   "cell_type": "code",
   "execution_count": 15,
   "outputs": [
    {
     "name": "stdout",
     "output_type": "stream",
     "text": [
      "<class 'pandas.core.frame.DataFrame'>\n",
      "RangeIndex: 136278 entries, 0 to 136277\n",
      "Data columns (total 26 columns):\n",
      " #   Column                  Non-Null Count   Dtype         \n",
      "---  ------                  --------------   -----         \n",
      " 0   idb                     136278 non-null  int64         \n",
      " 1   id_producto             136278 non-null  int64         \n",
      " 2   fecha_trans             136278 non-null  datetime64[ns]\n",
      " 3   fecha_desde             136278 non-null  datetime64[ns]\n",
      " 4   fecha_hasta             136278 non-null  datetime64[ns]\n",
      " 5   stock_unidades          136278 non-null  int64         \n",
      " 6   venta_unidades          136278 non-null  int64         \n",
      " 7   precio_unitario         136278 non-null  float64       \n",
      " 8   sigue_prod_en_rol       136278 non-null  int64         \n",
      " 9   cd_abast                136278 non-null  int64         \n",
      " 10  mov_month               136278 non-null  int64         \n",
      " 11  mov_year                136278 non-null  int64         \n",
      " 12  mov_weekday             136278 non-null  int64         \n",
      " 13  ventas_estimadas_promo  136278 non-null  int64         \n",
      " 14  nro_prom                136278 non-null  int64         \n",
      " 15  duracion_promo          136278 non-null  int64         \n",
      " 16  id_cadena               136278 non-null  int64         \n",
      " 17  desc_cadena             136278 non-null  object        \n",
      " 18  desc_region             136278 non-null  object        \n",
      " 19  longitud                136278 non-null  float64       \n",
      " 20  latitud                 136278 non-null  float64       \n",
      " 21  local                   136278 non-null  int64         \n",
      " 22  punto_dist              136278 non-null  int64         \n",
      " 23  desc_producto           129522 non-null  object        \n",
      " 24  razon_social            129522 non-null  object        \n",
      " 25  id_region               129522 non-null  float64       \n",
      "dtypes: datetime64[ns](3), float64(4), int64(15), object(4)\n",
      "memory usage: 27.0+ MB\n"
     ]
    }
   ],
   "source": [
    "deodorants_df_with_promo_df.info()"
   ],
   "metadata": {
    "collapsed": false
   }
  },
  {
   "cell_type": "markdown",
   "source": [
    "### Preguntas"
   ],
   "metadata": {
    "collapsed": false
   }
  },
  {
   "cell_type": "code",
   "execution_count": null,
   "outputs": [],
   "source": [],
   "metadata": {
    "collapsed": false
   }
  }
 ],
 "metadata": {
  "kernelspec": {
   "display_name": "Python 3",
   "language": "python",
   "name": "python3"
  },
  "language_info": {
   "codemirror_mode": {
    "name": "ipython",
    "version": 2
   },
   "file_extension": ".py",
   "mimetype": "text/x-python",
   "name": "python",
   "nbconvert_exporter": "python",
   "pygments_lexer": "ipython2",
   "version": "2.7.6"
  }
 },
 "nbformat": 4,
 "nbformat_minor": 0
}
