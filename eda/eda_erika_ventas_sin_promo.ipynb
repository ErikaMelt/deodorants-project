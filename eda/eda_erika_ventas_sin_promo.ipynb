{
 "cells": [
  {
   "cell_type": "markdown",
   "source": [
    "## Analisis ventas sin promociones"
   ],
   "metadata": {
    "collapsed": false
   }
  },
  {
   "cell_type": "code",
   "execution_count": 5,
   "outputs": [],
   "source": [
    "import pandas as pd"
   ],
   "metadata": {
    "collapsed": false
   }
  },
  {
   "cell_type": "code",
   "execution_count": 20,
   "outputs": [],
   "source": [
    "deodorants_df_without_prom = pd.read_csv(\"../clean_data/deodorants_without_promo.csv\")"
   ],
   "metadata": {
    "collapsed": false
   }
  },
  {
   "cell_type": "code",
   "execution_count": 21,
   "outputs": [
    {
     "name": "stdout",
     "output_type": "stream",
     "text": [
      "<class 'pandas.core.frame.DataFrame'>\n",
      "RangeIndex: 7628466 entries, 0 to 7628465\n",
      "Data columns (total 22 columns):\n",
      " #   Column             Dtype  \n",
      "---  ------             -----  \n",
      " 0   row_id             int64  \n",
      " 1   idb                int64  \n",
      " 2   id_producto        int64  \n",
      " 3   fecha_trans        object \n",
      " 4   stock_unidades     int64  \n",
      " 5   venta_unidades     int64  \n",
      " 6   precio_unitario    float64\n",
      " 7   sigue_prod_en_rol  int64  \n",
      " 8   cd_abast           int64  \n",
      " 9   mov_month          int64  \n",
      " 10  mov_year           int64  \n",
      " 11  mov_weekday        int64  \n",
      " 12  id_cadena          int64  \n",
      " 13  desc_cadena        object \n",
      " 14  desc_region        object \n",
      " 15  longitud           float64\n",
      " 16  latitud            float64\n",
      " 17  local              int64  \n",
      " 18  punto_dist         int64  \n",
      " 19  desc_producto      object \n",
      " 20  razon_social       object \n",
      " 21  id_region          int64  \n",
      "dtypes: float64(3), int64(14), object(5)\n",
      "memory usage: 1.3+ GB\n"
     ]
    }
   ],
   "source": [
    "deodorants_df_without_prom.info()"
   ],
   "metadata": {
    "collapsed": false
   }
  },
  {
   "cell_type": "code",
   "execution_count": null,
   "outputs": [],
   "source": [
    "# Vamos a dejar un solo dataset.\n",
    "# Vamos a decir que un producto con promocioes es aquel que hagan match movimientos y promociones.\n",
    "# 76 productos unicos con promo. de los 82 poductos realmente 76 han tenido alguna vez promo (verificar) si es asi nos quedaremos unicamente con esas referencias.\n",
    "# Comprobar de los 92 poductos que hay en movimientos cuantos han tenido al menos una promocion.  (eliminamos los registos de los 92-76 = 16 referencias que no se tienen en cuenta.\n",
    "# Revisar el deodorants_without_promo duplicados en el csv.\n",
    "# Agregar una nueva columna promo binaria 1 si 2 nunca para identifica los que han tenido o no promocion.\n",
    "# Sacar una columna para los dias de la semana\n",
    "# Arreglar el valor de inventario que tenga valores negativos con zero."
   ],
   "metadata": {
    "collapsed": false
   }
  },
  {
   "cell_type": "code",
   "execution_count": null,
   "outputs": [],
   "source": [],
   "metadata": {
    "collapsed": false
   }
  },
  {
   "cell_type": "markdown",
   "source": [],
   "metadata": {
    "collapsed": false
   }
  },
  {
   "cell_type": "code",
   "execution_count": 23,
   "outputs": [],
   "source": [
    "deodorants_df_without_prom.drop('row_id', axis=1, inplace=True)"
   ],
   "metadata": {
    "collapsed": false
   }
  },
  {
   "cell_type": "code",
   "execution_count": 24,
   "outputs": [
    {
     "data": {
      "text/plain": "2902249"
     },
     "execution_count": 24,
     "metadata": {},
     "output_type": "execute_result"
    }
   ],
   "source": [
    "deodorants_df_without_prom.duplicated().sum()"
   ],
   "metadata": {
    "collapsed": false
   }
  },
  {
   "cell_type": "code",
   "execution_count": 26,
   "outputs": [],
   "source": [
    "grouped_data = deodorants_df_without_prom.sort_values(by=['idb', 'id_producto', 'fecha_trans'], ascending=True)"
   ],
   "metadata": {
    "collapsed": false
   }
  },
  {
   "cell_type": "code",
   "execution_count": 27,
   "outputs": [
    {
     "data": {
      "text/plain": "         idb  id_producto fecha_trans  stock_unidades  venta_unidades  \\\n529961   242       228217  2016-07-15              24               0   \n5110359  242       228217  2016-07-15              24               0   \n1369586  242       228217  2016-07-16              24               0   \n2896543  242       228217  2016-07-16              24               0   \n5948668  242       228217  2016-07-16              24               0   \n...      ...          ...         ...             ...             ...   \n5755916  242       228683  2018-08-31              23               0   \n161155   242       228683  2018-09-02              34               1   \n768727   242       228683  2018-09-04              34               0   \n4831274  242       228683  2018-09-05              33               0   \n155933   242       228683  2018-09-07              33               0   \n\n         precio_unitario  sigue_prod_en_rol  cd_abast  mov_month  mov_year  \\\n529961             13.63                  1         0          7      2016   \n5110359            13.63                  1         0          7      2016   \n1369586            13.63                  1         0          7      2016   \n2896543            13.63                  1         0          7      2016   \n5948668            13.63                  1         0          7      2016   \n...                  ...                ...       ...        ...       ...   \n5755916            40.26                  1      9217          8      2018   \n161155             40.26                  1      9217          9      2018   \n768727             40.26                  1      9217          9      2018   \n4831274            40.26                  1      9217          9      2018   \n155933             40.26                  1      9217          9      2018   \n\n         ...  id_cadena                     desc_cadena  \\\n529961   ...          4  vea                              \n5110359  ...          4  vea                              \n1369586  ...          4  vea                              \n2896543  ...          4  vea                              \n5948668  ...          4  vea                              \n...      ...        ...                             ...   \n5755916  ...          4  vea                              \n161155   ...          4  vea                              \n768727   ...          4  vea                              \n4831274  ...          4  vea                              \n155933   ...          4  vea                              \n\n                            desc_region  longitud   latitud  local  \\\n529961   buenos aires                   -60.95419 -34.58321      1   \n5110359  buenos aires                   -60.95419 -34.58321      1   \n1369586  buenos aires                   -60.95419 -34.58321      1   \n2896543  buenos aires                   -60.95419 -34.58321      1   \n5948668  buenos aires                   -60.95419 -34.58321      1   \n...                                 ...       ...       ...    ...   \n5755916  buenos aires                   -60.95419 -34.58321      1   \n161155   buenos aires                   -60.95419 -34.58321      1   \n768727   buenos aires                   -60.95419 -34.58321      1   \n4831274  buenos aires                   -60.95419 -34.58321      1   \n155933   buenos aires                   -60.95419 -34.58321      1   \n\n         punto_dist                                      desc_producto  \\\n529961            0  glade toque toque rep limon 12mlx12 limon repu...   \n5110359           0  glade toque toque rep limon 12mlx12 limon repu...   \n1369586           0  glade toque toque rep limon 12mlx12 limon repu...   \n2896543           0  glade toque toque rep limon 12mlx12 limon repu...   \n5948668           0  glade toque toque rep limon 12mlx12 limon repu...   \n...             ...                                                ...   \n5755916           0  glade toque full limon 12mlx12 ar limon full 1...   \n161155            0  glade toque full limon 12mlx12 ar limon full 1...   \n768727            0  glade toque full limon 12mlx12 ar limon full 1...   \n4831274           0  glade toque full limon 12mlx12 ar limon full 1...   \n155933            0  glade toque full limon 12mlx12 ar limon full 1...   \n\n                             razon_social id_region  \n529961   s. c. johnson y son de arg. s.a.         1  \n5110359  s. c. johnson y son de arg. s.a.         1  \n1369586  s. c. johnson y son de arg. s.a.         1  \n2896543  s. c. johnson y son de arg. s.a.         1  \n5948668  s. c. johnson y son de arg. s.a.         1  \n...                                   ...       ...  \n5755916  s. c. johnson y son de arg. s.a.         1  \n161155   s. c. johnson y son de arg. s.a.         1  \n768727   s. c. johnson y son de arg. s.a.         1  \n4831274  s. c. johnson y son de arg. s.a.         1  \n155933   s. c. johnson y son de arg. s.a.         1  \n\n[1000 rows x 21 columns]",
      "text/html": "<div>\n<style scoped>\n    .dataframe tbody tr th:only-of-type {\n        vertical-align: middle;\n    }\n\n    .dataframe tbody tr th {\n        vertical-align: top;\n    }\n\n    .dataframe thead th {\n        text-align: right;\n    }\n</style>\n<table border=\"1\" class=\"dataframe\">\n  <thead>\n    <tr style=\"text-align: right;\">\n      <th></th>\n      <th>idb</th>\n      <th>id_producto</th>\n      <th>fecha_trans</th>\n      <th>stock_unidades</th>\n      <th>venta_unidades</th>\n      <th>precio_unitario</th>\n      <th>sigue_prod_en_rol</th>\n      <th>cd_abast</th>\n      <th>mov_month</th>\n      <th>mov_year</th>\n      <th>...</th>\n      <th>id_cadena</th>\n      <th>desc_cadena</th>\n      <th>desc_region</th>\n      <th>longitud</th>\n      <th>latitud</th>\n      <th>local</th>\n      <th>punto_dist</th>\n      <th>desc_producto</th>\n      <th>razon_social</th>\n      <th>id_region</th>\n    </tr>\n  </thead>\n  <tbody>\n    <tr>\n      <th>529961</th>\n      <td>242</td>\n      <td>228217</td>\n      <td>2016-07-15</td>\n      <td>24</td>\n      <td>0</td>\n      <td>13.63</td>\n      <td>1</td>\n      <td>0</td>\n      <td>7</td>\n      <td>2016</td>\n      <td>...</td>\n      <td>4</td>\n      <td>vea</td>\n      <td>buenos aires</td>\n      <td>-60.95419</td>\n      <td>-34.58321</td>\n      <td>1</td>\n      <td>0</td>\n      <td>glade toque toque rep limon 12mlx12 limon repu...</td>\n      <td>s. c. johnson y son de arg. s.a.</td>\n      <td>1</td>\n    </tr>\n    <tr>\n      <th>5110359</th>\n      <td>242</td>\n      <td>228217</td>\n      <td>2016-07-15</td>\n      <td>24</td>\n      <td>0</td>\n      <td>13.63</td>\n      <td>1</td>\n      <td>0</td>\n      <td>7</td>\n      <td>2016</td>\n      <td>...</td>\n      <td>4</td>\n      <td>vea</td>\n      <td>buenos aires</td>\n      <td>-60.95419</td>\n      <td>-34.58321</td>\n      <td>1</td>\n      <td>0</td>\n      <td>glade toque toque rep limon 12mlx12 limon repu...</td>\n      <td>s. c. johnson y son de arg. s.a.</td>\n      <td>1</td>\n    </tr>\n    <tr>\n      <th>1369586</th>\n      <td>242</td>\n      <td>228217</td>\n      <td>2016-07-16</td>\n      <td>24</td>\n      <td>0</td>\n      <td>13.63</td>\n      <td>1</td>\n      <td>0</td>\n      <td>7</td>\n      <td>2016</td>\n      <td>...</td>\n      <td>4</td>\n      <td>vea</td>\n      <td>buenos aires</td>\n      <td>-60.95419</td>\n      <td>-34.58321</td>\n      <td>1</td>\n      <td>0</td>\n      <td>glade toque toque rep limon 12mlx12 limon repu...</td>\n      <td>s. c. johnson y son de arg. s.a.</td>\n      <td>1</td>\n    </tr>\n    <tr>\n      <th>2896543</th>\n      <td>242</td>\n      <td>228217</td>\n      <td>2016-07-16</td>\n      <td>24</td>\n      <td>0</td>\n      <td>13.63</td>\n      <td>1</td>\n      <td>0</td>\n      <td>7</td>\n      <td>2016</td>\n      <td>...</td>\n      <td>4</td>\n      <td>vea</td>\n      <td>buenos aires</td>\n      <td>-60.95419</td>\n      <td>-34.58321</td>\n      <td>1</td>\n      <td>0</td>\n      <td>glade toque toque rep limon 12mlx12 limon repu...</td>\n      <td>s. c. johnson y son de arg. s.a.</td>\n      <td>1</td>\n    </tr>\n    <tr>\n      <th>5948668</th>\n      <td>242</td>\n      <td>228217</td>\n      <td>2016-07-16</td>\n      <td>24</td>\n      <td>0</td>\n      <td>13.63</td>\n      <td>1</td>\n      <td>0</td>\n      <td>7</td>\n      <td>2016</td>\n      <td>...</td>\n      <td>4</td>\n      <td>vea</td>\n      <td>buenos aires</td>\n      <td>-60.95419</td>\n      <td>-34.58321</td>\n      <td>1</td>\n      <td>0</td>\n      <td>glade toque toque rep limon 12mlx12 limon repu...</td>\n      <td>s. c. johnson y son de arg. s.a.</td>\n      <td>1</td>\n    </tr>\n    <tr>\n      <th>...</th>\n      <td>...</td>\n      <td>...</td>\n      <td>...</td>\n      <td>...</td>\n      <td>...</td>\n      <td>...</td>\n      <td>...</td>\n      <td>...</td>\n      <td>...</td>\n      <td>...</td>\n      <td>...</td>\n      <td>...</td>\n      <td>...</td>\n      <td>...</td>\n      <td>...</td>\n      <td>...</td>\n      <td>...</td>\n      <td>...</td>\n      <td>...</td>\n      <td>...</td>\n      <td>...</td>\n    </tr>\n    <tr>\n      <th>5755916</th>\n      <td>242</td>\n      <td>228683</td>\n      <td>2018-08-31</td>\n      <td>23</td>\n      <td>0</td>\n      <td>40.26</td>\n      <td>1</td>\n      <td>9217</td>\n      <td>8</td>\n      <td>2018</td>\n      <td>...</td>\n      <td>4</td>\n      <td>vea</td>\n      <td>buenos aires</td>\n      <td>-60.95419</td>\n      <td>-34.58321</td>\n      <td>1</td>\n      <td>0</td>\n      <td>glade toque full limon 12mlx12 ar limon full 1...</td>\n      <td>s. c. johnson y son de arg. s.a.</td>\n      <td>1</td>\n    </tr>\n    <tr>\n      <th>161155</th>\n      <td>242</td>\n      <td>228683</td>\n      <td>2018-09-02</td>\n      <td>34</td>\n      <td>1</td>\n      <td>40.26</td>\n      <td>1</td>\n      <td>9217</td>\n      <td>9</td>\n      <td>2018</td>\n      <td>...</td>\n      <td>4</td>\n      <td>vea</td>\n      <td>buenos aires</td>\n      <td>-60.95419</td>\n      <td>-34.58321</td>\n      <td>1</td>\n      <td>0</td>\n      <td>glade toque full limon 12mlx12 ar limon full 1...</td>\n      <td>s. c. johnson y son de arg. s.a.</td>\n      <td>1</td>\n    </tr>\n    <tr>\n      <th>768727</th>\n      <td>242</td>\n      <td>228683</td>\n      <td>2018-09-04</td>\n      <td>34</td>\n      <td>0</td>\n      <td>40.26</td>\n      <td>1</td>\n      <td>9217</td>\n      <td>9</td>\n      <td>2018</td>\n      <td>...</td>\n      <td>4</td>\n      <td>vea</td>\n      <td>buenos aires</td>\n      <td>-60.95419</td>\n      <td>-34.58321</td>\n      <td>1</td>\n      <td>0</td>\n      <td>glade toque full limon 12mlx12 ar limon full 1...</td>\n      <td>s. c. johnson y son de arg. s.a.</td>\n      <td>1</td>\n    </tr>\n    <tr>\n      <th>4831274</th>\n      <td>242</td>\n      <td>228683</td>\n      <td>2018-09-05</td>\n      <td>33</td>\n      <td>0</td>\n      <td>40.26</td>\n      <td>1</td>\n      <td>9217</td>\n      <td>9</td>\n      <td>2018</td>\n      <td>...</td>\n      <td>4</td>\n      <td>vea</td>\n      <td>buenos aires</td>\n      <td>-60.95419</td>\n      <td>-34.58321</td>\n      <td>1</td>\n      <td>0</td>\n      <td>glade toque full limon 12mlx12 ar limon full 1...</td>\n      <td>s. c. johnson y son de arg. s.a.</td>\n      <td>1</td>\n    </tr>\n    <tr>\n      <th>155933</th>\n      <td>242</td>\n      <td>228683</td>\n      <td>2018-09-07</td>\n      <td>33</td>\n      <td>0</td>\n      <td>40.26</td>\n      <td>1</td>\n      <td>9217</td>\n      <td>9</td>\n      <td>2018</td>\n      <td>...</td>\n      <td>4</td>\n      <td>vea</td>\n      <td>buenos aires</td>\n      <td>-60.95419</td>\n      <td>-34.58321</td>\n      <td>1</td>\n      <td>0</td>\n      <td>glade toque full limon 12mlx12 ar limon full 1...</td>\n      <td>s. c. johnson y son de arg. s.a.</td>\n      <td>1</td>\n    </tr>\n  </tbody>\n</table>\n<p>1000 rows × 21 columns</p>\n</div>"
     },
     "execution_count": 27,
     "metadata": {},
     "output_type": "execute_result"
    }
   ],
   "source": [
    "grouped_data.head(1000)"
   ],
   "metadata": {
    "collapsed": false
   }
  },
  {
   "cell_type": "code",
   "execution_count": null,
   "outputs": [],
   "source": [],
   "metadata": {
    "collapsed": false
   }
  }
 ],
 "metadata": {
  "kernelspec": {
   "display_name": "Python 3",
   "language": "python",
   "name": "python3"
  },
  "language_info": {
   "codemirror_mode": {
    "name": "ipython",
    "version": 2
   },
   "file_extension": ".py",
   "mimetype": "text/x-python",
   "name": "python",
   "nbconvert_exporter": "python",
   "pygments_lexer": "ipython2",
   "version": "2.7.6"
  }
 },
 "nbformat": 4,
 "nbformat_minor": 0
}
