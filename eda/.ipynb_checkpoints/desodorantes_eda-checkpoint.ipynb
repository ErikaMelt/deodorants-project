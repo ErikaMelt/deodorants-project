{
 "cells": [
  {
   "cell_type": "markdown",
   "id": "2b62f411",
   "metadata": {},
   "source": [
    "---\n",
    "title: \"Title of Your Report\"\n",
    "author: \"Your Name\"\n",
    "date: \"Date of Submission\"\n",
    "documentclass: report\n",
    "output:\n",
    "  pdf_document:\n",
    "    keep_tex: yes\n",
    "    pandoc_args: [\n",
    "      \"-H\", \"preamble.tex\"\n",
    "    ]\n",
    "header-includes:\n",
    "  - \\usepackage{graphicx}\n",
    "  - \\usepackage{biblatex}\n",
    "  - \\addbibresource{references.bib}\n",
    "---\n"
   ]
  },
  {
   "cell_type": "markdown",
   "id": "1b1d5d77",
   "metadata": {},
   "source": [
    "\\begin{titlepage}\n",
    "    \\begin{center}\n",
    "        \\vspace*{1cm}\n",
    "        \n",
    "        \\Huge\n",
    "        \\textbf{Title of Your Report}\n",
    "        \n",
    "        \\vspace{0.5cm}\n",
    "        \\LARGE\n",
    "        Subtitle of Your Report\n",
    "        \n",
    "        \\vspace{1.5cm}\n",
    "        \n",
    "        \\textbf{Your Name}\n",
    "        \n",
    "        \\vfill\n",
    "        \n",
    "        A report submitted in partial fulfillment\\\\\n",
    "        of the requirements for the degree of\\\\\n",
    "        Bachelor/Master of Your Degree Program\n",
    "        \n",
    "        \\vspace{0.8cm}\n",
    "        \n",
    "        \n",
    "        \\Large\n",
    "        Your University\\\\\n",
    "        Your Department\\\\\n",
    "        Your City, Country\\\\\n",
    "        Date of Submission\n",
    "        \n",
    "    \\end{center}\n",
    "\\end{titlepage}"
   ]
  },
  {
   "cell_type": "code",
   "execution_count": null,
   "id": "f8c087ce",
   "metadata": {},
   "outputs": [],
   "source": [
    "\\tableofcontents"
   ]
  },
  {
   "cell_type": "markdown",
   "id": "faaef220",
   "metadata": {},
   "source": [
    "# Introduction\n",
    "\n",
    "This is the introduction to my report.\n",
    "\n",
    "## Background\n",
    "\n",
    "Here is some background information.\n",
    "\n",
    "\\section{Methods}\n",
    "\n",
    "This chapter describes the methods used in this study.\n",
    "\n",
    "## Data Collection\n",
    "\n",
    "Data were collected from...\n",
    "\n",
    "## Data Analysis\n",
    "\n",
    "Data were analyzed using...\n",
    "\n",
    "\\section{Results}\n",
    "\n",
    "This chapter presents the results of the study.\n",
    "\n",
    "## Summary of Results\n",
    "\n",
    "The main results are...\n",
    "\n",
    "## Discussion\n",
    "\n",
    "The implications of these results are...\n",
    "\n",
    "\\bibliographystyle{plain}\n",
    "\\bibliography{references}\n"
   ]
  }
 ],
 "metadata": {
  "celltoolbar": "Tags",
  "kernelspec": {
   "display_name": "Python 3 (ipykernel)",
   "language": "python",
   "name": "python3"
  },
  "language_info": {
   "codemirror_mode": {
    "name": "ipython",
    "version": 3
   },
   "file_extension": ".py",
   "mimetype": "text/x-python",
   "name": "python",
   "nbconvert_exporter": "python",
   "pygments_lexer": "ipython3",
   "version": "3.10.8"
  },
  "toc": {
   "base_numbering": 1,
   "nav_menu": {
    "height": "95px",
    "width": "160px"
   },
   "number_sections": true,
   "sideBar": true,
   "skip_h1_title": false,
   "title_cell": "Table of Contents",
   "title_sidebar": "Contents",
   "toc_cell": false,
   "toc_position": {
    "height": "calc(100% - 180px)",
    "left": "10px",
    "top": "150px",
    "width": "233px"
   },
   "toc_section_display": true,
   "toc_window_display": true
  },
  "varInspector": {
   "cols": {
    "lenName": 16,
    "lenType": 16,
    "lenVar": 40
   },
   "kernels_config": {
    "python": {
     "delete_cmd_postfix": "",
     "delete_cmd_prefix": "del ",
     "library": "var_list.py",
     "varRefreshCmd": "print(var_dic_list())"
    },
    "r": {
     "delete_cmd_postfix": ") ",
     "delete_cmd_prefix": "rm(",
     "library": "var_list.r",
     "varRefreshCmd": "cat(var_dic_list()) "
    }
   },
   "position": {
    "height": "144.852px",
    "left": "1311px",
    "right": "20px",
    "top": "120px",
    "width": "350px"
   },
   "types_to_exclude": [
    "module",
    "function",
    "builtin_function_or_method",
    "instance",
    "_Feature"
   ],
   "window_display": false
  },
  "vscode": {
   "interpreter": {
    "hash": "5238573367df39f7286bb46f9ff5f08f63a01a80960060ce41e3c79b190280fa"
   }
  }
 },
 "nbformat": 4,
 "nbformat_minor": 5
}
