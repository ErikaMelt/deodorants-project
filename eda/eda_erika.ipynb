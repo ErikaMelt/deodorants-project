{
 "cells": [
  {
   "cell_type": "code",
   "execution_count": 5,
   "metadata": {
    "collapsed": true
   },
   "outputs": [],
   "source": [
    "import pandas as pd"
   ]
  },
  {
   "cell_type": "code",
   "execution_count": 56,
   "outputs": [],
   "source": [
    "deodorants_df = pd.read_csv(\"../clean_data/deodorants_without_promo_and_product_info.csv\")"
   ],
   "metadata": {
    "collapsed": false
   }
  },
  {
   "cell_type": "code",
   "execution_count": 58,
   "outputs": [
    {
     "name": "stdout",
     "output_type": "stream",
     "text": [
      "<class 'pandas.core.frame.DataFrame'>\n",
      "RangeIndex: 591692 entries, 0 to 591691\n",
      "Data columns (total 26 columns):\n",
      " #   Column                  Non-Null Count   Dtype  \n",
      "---  ------                  --------------   -----  \n",
      " 0   idb                     591692 non-null  int64  \n",
      " 1   id_producto             591692 non-null  int64  \n",
      " 2   fecha_trans             591692 non-null  object \n",
      " 3   fecha_desde             0 non-null       float64\n",
      " 4   fecha_hasta             0 non-null       float64\n",
      " 5   stock_unidades          591692 non-null  int64  \n",
      " 6   venta_unidades          591692 non-null  int64  \n",
      " 7   precio_unitario         591692 non-null  float64\n",
      " 8   sigue_prod_en_rol       591692 non-null  int64  \n",
      " 9   cd_abast                591692 non-null  int64  \n",
      " 10  mov_month               591692 non-null  int64  \n",
      " 11  mov_year                591692 non-null  int64  \n",
      " 12  mov_weekday             591692 non-null  int64  \n",
      " 13  ventas_estimadas_promo  0 non-null       float64\n",
      " 14  nro_prom                0 non-null       float64\n",
      " 15  duracion_promo          0 non-null       float64\n",
      " 16  id_cadena               591692 non-null  int64  \n",
      " 17  desc_cadena             591692 non-null  object \n",
      " 18  desc_region             591692 non-null  object \n",
      " 19  longitud                591692 non-null  float64\n",
      " 20  latitud                 591692 non-null  float64\n",
      " 21  local                   591692 non-null  int64  \n",
      " 22  punto_dist              591692 non-null  int64  \n",
      " 23  desc_producto           0 non-null       float64\n",
      " 24  razon_social            0 non-null       float64\n",
      " 25  id_region               0 non-null       float64\n",
      "dtypes: float64(11), int64(12), object(3)\n",
      "memory usage: 117.4+ MB\n"
     ]
    }
   ],
   "source": [
    "deodorants_df.info()"
   ],
   "metadata": {
    "collapsed": false
   }
  },
  {
   "cell_type": "code",
   "execution_count": 59,
   "outputs": [
    {
     "data": {
      "text/plain": "10"
     },
     "execution_count": 59,
     "metadata": {},
     "output_type": "execute_result"
    }
   ],
   "source": [
    "deodorants_df.id_producto.nunique()"
   ],
   "metadata": {
    "collapsed": false
   }
  },
  {
   "cell_type": "code",
   "execution_count": 60,
   "outputs": [
    {
     "data": {
      "text/plain": "id_producto\n164146     53242\n284013     47885\n292948    116732\n359571     68825\n370268    101664\n450347    111950\n462447     51733\n485719     20658\n497936      1521\n511325     17482\nName: id_producto, dtype: int64"
     },
     "execution_count": 60,
     "metadata": {},
     "output_type": "execute_result"
    }
   ],
   "source": [
    "deodorants_df.groupby('id_producto').id_producto.count()"
   ],
   "metadata": {
    "collapsed": false
   }
  },
  {
   "cell_type": "code",
   "execution_count": 31,
   "outputs": [
    {
     "name": "stderr",
     "output_type": "stream",
     "text": [
      "/var/folders/1b/q0vy8pzj2d5_w7tb8dkfmh2m0000gn/T/ipykernel_23820/1204176116.py:1: DtypeWarning: Columns (4,5) have mixed types. Specify dtype option on import or set low_memory=False.\n",
      "  deodorants_df_2 = pd.read_csv(\"../clean_data/deodorants_merged_2.csv\")\n"
     ]
    }
   ],
   "source": [
    "deodorants_df_2 = pd.read_csv(\"../clean_data/deodorants_merged_2.csv\")"
   ],
   "metadata": {
    "collapsed": false
   }
  },
  {
   "cell_type": "code",
   "execution_count": 32,
   "outputs": [],
   "source": [
    "deodorants_df = pd.concat([deodorants_df, deodorants_df_2], axis=0)"
   ],
   "metadata": {
    "collapsed": false
   }
  },
  {
   "cell_type": "code",
   "execution_count": 40,
   "outputs": [],
   "source": [
    "deodorants_df_with_promo_df = pd.read_csv(\"../clean_data/deodorants_with_promo.csv\")"
   ],
   "metadata": {
    "collapsed": false
   }
  },
  {
   "cell_type": "code",
   "execution_count": 41,
   "outputs": [
    {
     "data": {
      "text/plain": "    idb  id_producto fecha_trans fecha_desde fecha_hasta  stock_unidades  \\\n0  9022       458394  2019-07-14  2019-07-09  2019-07-16              12   \n1  9630       458394  2019-07-14  2019-07-09  2019-07-16              11   \n2  9630       470447  2019-07-14  2019-07-09  2019-07-16               5   \n3  9152       470447  2019-07-14  2019-07-09  2019-07-16               6   \n4  9042       470447  2019-07-14  2019-07-09  2019-07-16              16   \n\n   venta_unidades  precio_unitario  sigue_prod_en_rol  cd_abast  ...  \\\n0               0            45.66                  1      9217  ...   \n1               0            45.66                  1      9217  ...   \n2               0           145.10                  1      9217  ...   \n3               0           145.10                  1      9217  ...   \n4               0           145.10                  1      9217  ...   \n\n   id_cadena                     desc_cadena                     desc_region  \\\n0          2  disco                           buenos aires                     \n1          2  disco                           buenos aires                     \n2          2  disco                           buenos aires                     \n3          2  disco                           buenos aires                     \n4          2  disco                           buenos aires                     \n\n    longitud    latitud  local  punto_dist  \\\n0 -58.408384 -34.590488      1           0   \n1 -58.391731 -34.613387      1           0   \n2 -58.391731 -34.613387      1           0   \n3 -58.571031 -34.641733      1           0   \n4 -57.975326 -34.934655      1           0   \n\n                                       desc_producto  \\\n0  glade toque edicion limitada 1 12mlx12 pop fru...   \n1  glade toque edicion limitada 1 12mlx12 pop fru...   \n2  glade automatic ref lim ed 2 175gx6 ar natural...   \n3  glade automatic ref lim ed 2 175gx6 ar natural...   \n4  glade automatic ref lim ed 2 175gx6 ar natural...   \n\n                       razon_social  id_region  \n0  s. c. johnson y son de arg. s.a.        1.0  \n1  s. c. johnson y son de arg. s.a.        1.0  \n2  s. c. johnson y son de arg. s.a.        1.0  \n3  s. c. johnson y son de arg. s.a.        1.0  \n4  s. c. johnson y son de arg. s.a.        1.0  \n\n[5 rows x 26 columns]",
      "text/html": "<div>\n<style scoped>\n    .dataframe tbody tr th:only-of-type {\n        vertical-align: middle;\n    }\n\n    .dataframe tbody tr th {\n        vertical-align: top;\n    }\n\n    .dataframe thead th {\n        text-align: right;\n    }\n</style>\n<table border=\"1\" class=\"dataframe\">\n  <thead>\n    <tr style=\"text-align: right;\">\n      <th></th>\n      <th>idb</th>\n      <th>id_producto</th>\n      <th>fecha_trans</th>\n      <th>fecha_desde</th>\n      <th>fecha_hasta</th>\n      <th>stock_unidades</th>\n      <th>venta_unidades</th>\n      <th>precio_unitario</th>\n      <th>sigue_prod_en_rol</th>\n      <th>cd_abast</th>\n      <th>...</th>\n      <th>id_cadena</th>\n      <th>desc_cadena</th>\n      <th>desc_region</th>\n      <th>longitud</th>\n      <th>latitud</th>\n      <th>local</th>\n      <th>punto_dist</th>\n      <th>desc_producto</th>\n      <th>razon_social</th>\n      <th>id_region</th>\n    </tr>\n  </thead>\n  <tbody>\n    <tr>\n      <th>0</th>\n      <td>9022</td>\n      <td>458394</td>\n      <td>2019-07-14</td>\n      <td>2019-07-09</td>\n      <td>2019-07-16</td>\n      <td>12</td>\n      <td>0</td>\n      <td>45.66</td>\n      <td>1</td>\n      <td>9217</td>\n      <td>...</td>\n      <td>2</td>\n      <td>disco</td>\n      <td>buenos aires</td>\n      <td>-58.408384</td>\n      <td>-34.590488</td>\n      <td>1</td>\n      <td>0</td>\n      <td>glade toque edicion limitada 1 12mlx12 pop fru...</td>\n      <td>s. c. johnson y son de arg. s.a.</td>\n      <td>1.0</td>\n    </tr>\n    <tr>\n      <th>1</th>\n      <td>9630</td>\n      <td>458394</td>\n      <td>2019-07-14</td>\n      <td>2019-07-09</td>\n      <td>2019-07-16</td>\n      <td>11</td>\n      <td>0</td>\n      <td>45.66</td>\n      <td>1</td>\n      <td>9217</td>\n      <td>...</td>\n      <td>2</td>\n      <td>disco</td>\n      <td>buenos aires</td>\n      <td>-58.391731</td>\n      <td>-34.613387</td>\n      <td>1</td>\n      <td>0</td>\n      <td>glade toque edicion limitada 1 12mlx12 pop fru...</td>\n      <td>s. c. johnson y son de arg. s.a.</td>\n      <td>1.0</td>\n    </tr>\n    <tr>\n      <th>2</th>\n      <td>9630</td>\n      <td>470447</td>\n      <td>2019-07-14</td>\n      <td>2019-07-09</td>\n      <td>2019-07-16</td>\n      <td>5</td>\n      <td>0</td>\n      <td>145.10</td>\n      <td>1</td>\n      <td>9217</td>\n      <td>...</td>\n      <td>2</td>\n      <td>disco</td>\n      <td>buenos aires</td>\n      <td>-58.391731</td>\n      <td>-34.613387</td>\n      <td>1</td>\n      <td>0</td>\n      <td>glade automatic ref lim ed 2 175gx6 ar natural...</td>\n      <td>s. c. johnson y son de arg. s.a.</td>\n      <td>1.0</td>\n    </tr>\n    <tr>\n      <th>3</th>\n      <td>9152</td>\n      <td>470447</td>\n      <td>2019-07-14</td>\n      <td>2019-07-09</td>\n      <td>2019-07-16</td>\n      <td>6</td>\n      <td>0</td>\n      <td>145.10</td>\n      <td>1</td>\n      <td>9217</td>\n      <td>...</td>\n      <td>2</td>\n      <td>disco</td>\n      <td>buenos aires</td>\n      <td>-58.571031</td>\n      <td>-34.641733</td>\n      <td>1</td>\n      <td>0</td>\n      <td>glade automatic ref lim ed 2 175gx6 ar natural...</td>\n      <td>s. c. johnson y son de arg. s.a.</td>\n      <td>1.0</td>\n    </tr>\n    <tr>\n      <th>4</th>\n      <td>9042</td>\n      <td>470447</td>\n      <td>2019-07-14</td>\n      <td>2019-07-09</td>\n      <td>2019-07-16</td>\n      <td>16</td>\n      <td>0</td>\n      <td>145.10</td>\n      <td>1</td>\n      <td>9217</td>\n      <td>...</td>\n      <td>2</td>\n      <td>disco</td>\n      <td>buenos aires</td>\n      <td>-57.975326</td>\n      <td>-34.934655</td>\n      <td>1</td>\n      <td>0</td>\n      <td>glade automatic ref lim ed 2 175gx6 ar natural...</td>\n      <td>s. c. johnson y son de arg. s.a.</td>\n      <td>1.0</td>\n    </tr>\n  </tbody>\n</table>\n<p>5 rows × 26 columns</p>\n</div>"
     },
     "execution_count": 41,
     "metadata": {},
     "output_type": "execute_result"
    }
   ],
   "source": [
    "deodorants_df_with_promo_df.head()"
   ],
   "metadata": {
    "collapsed": false
   }
  },
  {
   "cell_type": "code",
   "execution_count": 51,
   "outputs": [
    {
     "data": {
      "text/plain": "          id_count  venta_unidades_count  ventas_estimadas_promo_count\nnro_prom                                                              \n425196        1393                  1116                         25438\n425198        1522                   883                         33575\n425200        3184                  2460                        121360\n428908        3200                  1866                         60168\n428910        4856                  2004                         82360\n...            ...                   ...                           ...\n537880        4440                  1719                        106020\n538897         564                    87                          5124\n540438         649                   273                          1584\n540948         104                    39                           168\n541066         161                    43                           154\n\n[116 rows x 3 columns]",
      "text/html": "<div>\n<style scoped>\n    .dataframe tbody tr th:only-of-type {\n        vertical-align: middle;\n    }\n\n    .dataframe tbody tr th {\n        vertical-align: top;\n    }\n\n    .dataframe thead th {\n        text-align: right;\n    }\n</style>\n<table border=\"1\" class=\"dataframe\">\n  <thead>\n    <tr style=\"text-align: right;\">\n      <th></th>\n      <th>id_count</th>\n      <th>venta_unidades_count</th>\n      <th>ventas_estimadas_promo_count</th>\n    </tr>\n    <tr>\n      <th>nro_prom</th>\n      <th></th>\n      <th></th>\n      <th></th>\n    </tr>\n  </thead>\n  <tbody>\n    <tr>\n      <th>425196</th>\n      <td>1393</td>\n      <td>1116</td>\n      <td>25438</td>\n    </tr>\n    <tr>\n      <th>425198</th>\n      <td>1522</td>\n      <td>883</td>\n      <td>33575</td>\n    </tr>\n    <tr>\n      <th>425200</th>\n      <td>3184</td>\n      <td>2460</td>\n      <td>121360</td>\n    </tr>\n    <tr>\n      <th>428908</th>\n      <td>3200</td>\n      <td>1866</td>\n      <td>60168</td>\n    </tr>\n    <tr>\n      <th>428910</th>\n      <td>4856</td>\n      <td>2004</td>\n      <td>82360</td>\n    </tr>\n    <tr>\n      <th>...</th>\n      <td>...</td>\n      <td>...</td>\n      <td>...</td>\n    </tr>\n    <tr>\n      <th>537880</th>\n      <td>4440</td>\n      <td>1719</td>\n      <td>106020</td>\n    </tr>\n    <tr>\n      <th>538897</th>\n      <td>564</td>\n      <td>87</td>\n      <td>5124</td>\n    </tr>\n    <tr>\n      <th>540438</th>\n      <td>649</td>\n      <td>273</td>\n      <td>1584</td>\n    </tr>\n    <tr>\n      <th>540948</th>\n      <td>104</td>\n      <td>39</td>\n      <td>168</td>\n    </tr>\n    <tr>\n      <th>541066</th>\n      <td>161</td>\n      <td>43</td>\n      <td>154</td>\n    </tr>\n  </tbody>\n</table>\n<p>116 rows × 3 columns</p>\n</div>"
     },
     "execution_count": 51,
     "metadata": {},
     "output_type": "execute_result"
    }
   ],
   "source": [
    "grouped = deodorants_df_with_promo_df.groupby('nro_prom').agg(\n",
    "    id_count=('id_producto', 'count'),\n",
    "    venta_unidades_count=('venta_unidades', 'sum'),\n",
    "    ventas_estimadas_promo_count=('ventas_estimadas_promo', 'sum')\n",
    ")\n",
    "grouped"
   ],
   "metadata": {
    "collapsed": false
   }
  },
  {
   "cell_type": "code",
   "execution_count": 53,
   "outputs": [
    {
     "data": {
      "text/plain": "6756"
     },
     "execution_count": 53,
     "metadata": {},
     "output_type": "execute_result"
    }
   ],
   "source": [
    "mask = deodorants_df_with_promo_df.desc_producto.isnull()\n",
    "result = deodorants_df_with_promo_df[mask]\n",
    "count = result.shape[0]\n",
    "count"
   ],
   "metadata": {
    "collapsed": false
   }
  },
  {
   "cell_type": "code",
   "execution_count": 55,
   "outputs": [
    {
     "name": "stdout",
     "output_type": "stream",
     "text": [
      "129522\n"
     ]
    }
   ],
   "source": [
    "print(len(deodorants_df_with_promo_df)-count)"
   ],
   "metadata": {
    "collapsed": false
   }
  },
  {
   "cell_type": "code",
   "execution_count": 33,
   "outputs": [
    {
     "data": {
      "text/plain": "         row_id   idb  id_producto fecha_trans fecha_desde fecha_hasta  \\\n30553     30554  9014       242234  2016-07-19  2016-07-19  2016-07-26   \n30554     30555  9014       240911  2016-07-19  2016-07-19  2016-07-26   \n30567     30568  9014       242231  2016-07-19  2016-07-19  2016-07-26   \n30585     30586  9014       242232  2016-07-19  2016-07-19  2016-07-26   \n30844     30845  9022       240911  2016-07-19  2016-07-19  2016-07-26   \n...         ...   ...          ...         ...         ...         ...   \n970665  1970666  9119       458392  2017-04-25  2017-04-18  2017-04-25   \n970667  1970668  9119       468734  2017-04-25  2017-04-18  2017-04-25   \n970669  1970670  9119       468736  2017-04-25  2017-04-18  2017-04-25   \n970672  1970673  9119       474300  2017-04-25  2017-04-18  2017-04-25   \n970674  1970675  9119       468735  2017-04-25  2017-04-18  2017-04-25   \n\n        stock_unidades  venta_unidades  precio_unitario  sigue_prod_en_rol  \\\n30553               19               0            15.06                  1   \n30554               28               0            15.06                  1   \n30567               25               0            15.06                  1   \n30585               41               1            15.06                  1   \n30844                0               0            15.06                  1   \n...                ...             ...              ...                ...   \n970665              41               0            18.52                  1   \n970667               6               0            66.92                  1   \n970669               8               1            66.92                  1   \n970672               9               0            66.92                  1   \n970674               7               0            66.92                  1   \n\n        ...  id_cadena                     desc_cadena  \\\n30553   ...          2  disco                            \n30554   ...          2  disco                            \n30567   ...          2  disco                            \n30585   ...          2  disco                            \n30844   ...          2  disco                            \n...     ...        ...                             ...   \n970665  ...          4  vea                              \n970667  ...          4  vea                              \n970669  ...          4  vea                              \n970672  ...          4  vea                              \n970674  ...          4  vea                              \n\n                           desc_region   longitud    latitud  local  \\\n30553   buenos aires                   -58.414435 -34.581691      1   \n30554   buenos aires                   -58.414435 -34.581691      1   \n30567   buenos aires                   -58.414435 -34.581691      1   \n30585   buenos aires                   -58.414435 -34.581691      1   \n30844   buenos aires                   -58.408384 -34.590488      1   \n...                                ...        ...        ...    ...   \n970665  buenos aires                   -58.434477 -34.614950      1   \n970667  buenos aires                   -58.434477 -34.614950      1   \n970669  buenos aires                   -58.434477 -34.614950      1   \n970672  buenos aires                   -58.434477 -34.614950      1   \n970674  buenos aires                   -58.434477 -34.614950      1   \n\n        punto_dist                                      desc_producto  \\\n30553            0  poett ambiental suavidad de algodon nuevo d 0....   \n30554            0           poett ambiental lavanda nuevo d 0.377 kg   \n30567            0         poett ambiental primavera nuevo d 0.377 kg   \n30585            0              poett ambiental bebe nuevo d 0.377 kg   \n30844            0           poett ambiental lavanda nuevo d 0.377 kg   \n...            ...                                                ...   \n970665           0  glade aerosol limited edition 1 360cc/6 ar pop...   \n970667           0  glade automatico 3 en 1 aromatizante de ambien...   \n970669           0  glade automatico 3 en 1 aromatizante de ambien...   \n970672           0    glade automatic desodorante de ambientes 619 cc   \n970674           0  glade automatico 3 en 1 aromatizante de ambien...   \n\n                            razon_social id_region  \n30553              clorox argentina s.a.       1.0  \n30554              clorox argentina s.a.       1.0  \n30567              clorox argentina s.a.       1.0  \n30585              clorox argentina s.a.       1.0  \n30844              clorox argentina s.a.       1.0  \n...                                  ...       ...  \n970665  s. c. johnson y son de arg. s.a.       1.0  \n970667  s. c. johnson y son de arg. s.a.       1.0  \n970669  s. c. johnson y son de arg. s.a.       1.0  \n970672  s. c. johnson y son de arg. s.a.       1.0  \n970674  s. c. johnson y son de arg. s.a.       1.0  \n\n[63442 rows x 27 columns]",
      "text/html": "<div>\n<style scoped>\n    .dataframe tbody tr th:only-of-type {\n        vertical-align: middle;\n    }\n\n    .dataframe tbody tr th {\n        vertical-align: top;\n    }\n\n    .dataframe thead th {\n        text-align: right;\n    }\n</style>\n<table border=\"1\" class=\"dataframe\">\n  <thead>\n    <tr style=\"text-align: right;\">\n      <th></th>\n      <th>row_id</th>\n      <th>idb</th>\n      <th>id_producto</th>\n      <th>fecha_trans</th>\n      <th>fecha_desde</th>\n      <th>fecha_hasta</th>\n      <th>stock_unidades</th>\n      <th>venta_unidades</th>\n      <th>precio_unitario</th>\n      <th>sigue_prod_en_rol</th>\n      <th>...</th>\n      <th>id_cadena</th>\n      <th>desc_cadena</th>\n      <th>desc_region</th>\n      <th>longitud</th>\n      <th>latitud</th>\n      <th>local</th>\n      <th>punto_dist</th>\n      <th>desc_producto</th>\n      <th>razon_social</th>\n      <th>id_region</th>\n    </tr>\n  </thead>\n  <tbody>\n    <tr>\n      <th>30553</th>\n      <td>30554</td>\n      <td>9014</td>\n      <td>242234</td>\n      <td>2016-07-19</td>\n      <td>2016-07-19</td>\n      <td>2016-07-26</td>\n      <td>19</td>\n      <td>0</td>\n      <td>15.06</td>\n      <td>1</td>\n      <td>...</td>\n      <td>2</td>\n      <td>disco</td>\n      <td>buenos aires</td>\n      <td>-58.414435</td>\n      <td>-34.581691</td>\n      <td>1</td>\n      <td>0</td>\n      <td>poett ambiental suavidad de algodon nuevo d 0....</td>\n      <td>clorox argentina s.a.</td>\n      <td>1.0</td>\n    </tr>\n    <tr>\n      <th>30554</th>\n      <td>30555</td>\n      <td>9014</td>\n      <td>240911</td>\n      <td>2016-07-19</td>\n      <td>2016-07-19</td>\n      <td>2016-07-26</td>\n      <td>28</td>\n      <td>0</td>\n      <td>15.06</td>\n      <td>1</td>\n      <td>...</td>\n      <td>2</td>\n      <td>disco</td>\n      <td>buenos aires</td>\n      <td>-58.414435</td>\n      <td>-34.581691</td>\n      <td>1</td>\n      <td>0</td>\n      <td>poett ambiental lavanda nuevo d 0.377 kg</td>\n      <td>clorox argentina s.a.</td>\n      <td>1.0</td>\n    </tr>\n    <tr>\n      <th>30567</th>\n      <td>30568</td>\n      <td>9014</td>\n      <td>242231</td>\n      <td>2016-07-19</td>\n      <td>2016-07-19</td>\n      <td>2016-07-26</td>\n      <td>25</td>\n      <td>0</td>\n      <td>15.06</td>\n      <td>1</td>\n      <td>...</td>\n      <td>2</td>\n      <td>disco</td>\n      <td>buenos aires</td>\n      <td>-58.414435</td>\n      <td>-34.581691</td>\n      <td>1</td>\n      <td>0</td>\n      <td>poett ambiental primavera nuevo d 0.377 kg</td>\n      <td>clorox argentina s.a.</td>\n      <td>1.0</td>\n    </tr>\n    <tr>\n      <th>30585</th>\n      <td>30586</td>\n      <td>9014</td>\n      <td>242232</td>\n      <td>2016-07-19</td>\n      <td>2016-07-19</td>\n      <td>2016-07-26</td>\n      <td>41</td>\n      <td>1</td>\n      <td>15.06</td>\n      <td>1</td>\n      <td>...</td>\n      <td>2</td>\n      <td>disco</td>\n      <td>buenos aires</td>\n      <td>-58.414435</td>\n      <td>-34.581691</td>\n      <td>1</td>\n      <td>0</td>\n      <td>poett ambiental bebe nuevo d 0.377 kg</td>\n      <td>clorox argentina s.a.</td>\n      <td>1.0</td>\n    </tr>\n    <tr>\n      <th>30844</th>\n      <td>30845</td>\n      <td>9022</td>\n      <td>240911</td>\n      <td>2016-07-19</td>\n      <td>2016-07-19</td>\n      <td>2016-07-26</td>\n      <td>0</td>\n      <td>0</td>\n      <td>15.06</td>\n      <td>1</td>\n      <td>...</td>\n      <td>2</td>\n      <td>disco</td>\n      <td>buenos aires</td>\n      <td>-58.408384</td>\n      <td>-34.590488</td>\n      <td>1</td>\n      <td>0</td>\n      <td>poett ambiental lavanda nuevo d 0.377 kg</td>\n      <td>clorox argentina s.a.</td>\n      <td>1.0</td>\n    </tr>\n    <tr>\n      <th>...</th>\n      <td>...</td>\n      <td>...</td>\n      <td>...</td>\n      <td>...</td>\n      <td>...</td>\n      <td>...</td>\n      <td>...</td>\n      <td>...</td>\n      <td>...</td>\n      <td>...</td>\n      <td>...</td>\n      <td>...</td>\n      <td>...</td>\n      <td>...</td>\n      <td>...</td>\n      <td>...</td>\n      <td>...</td>\n      <td>...</td>\n      <td>...</td>\n      <td>...</td>\n      <td>...</td>\n    </tr>\n    <tr>\n      <th>970665</th>\n      <td>1970666</td>\n      <td>9119</td>\n      <td>458392</td>\n      <td>2017-04-25</td>\n      <td>2017-04-18</td>\n      <td>2017-04-25</td>\n      <td>41</td>\n      <td>0</td>\n      <td>18.52</td>\n      <td>1</td>\n      <td>...</td>\n      <td>4</td>\n      <td>vea</td>\n      <td>buenos aires</td>\n      <td>-58.434477</td>\n      <td>-34.614950</td>\n      <td>1</td>\n      <td>0</td>\n      <td>glade aerosol limited edition 1 360cc/6 ar pop...</td>\n      <td>s. c. johnson y son de arg. s.a.</td>\n      <td>1.0</td>\n    </tr>\n    <tr>\n      <th>970667</th>\n      <td>1970668</td>\n      <td>9119</td>\n      <td>468734</td>\n      <td>2017-04-25</td>\n      <td>2017-04-18</td>\n      <td>2017-04-25</td>\n      <td>6</td>\n      <td>0</td>\n      <td>66.92</td>\n      <td>1</td>\n      <td>...</td>\n      <td>4</td>\n      <td>vea</td>\n      <td>buenos aires</td>\n      <td>-58.434477</td>\n      <td>-34.614950</td>\n      <td>1</td>\n      <td>0</td>\n      <td>glade automatico 3 en 1 aromatizante de ambien...</td>\n      <td>s. c. johnson y son de arg. s.a.</td>\n      <td>1.0</td>\n    </tr>\n    <tr>\n      <th>970669</th>\n      <td>1970670</td>\n      <td>9119</td>\n      <td>468736</td>\n      <td>2017-04-25</td>\n      <td>2017-04-18</td>\n      <td>2017-04-25</td>\n      <td>8</td>\n      <td>1</td>\n      <td>66.92</td>\n      <td>1</td>\n      <td>...</td>\n      <td>4</td>\n      <td>vea</td>\n      <td>buenos aires</td>\n      <td>-58.434477</td>\n      <td>-34.614950</td>\n      <td>1</td>\n      <td>0</td>\n      <td>glade automatico 3 en 1 aromatizante de ambien...</td>\n      <td>s. c. johnson y son de arg. s.a.</td>\n      <td>1.0</td>\n    </tr>\n    <tr>\n      <th>970672</th>\n      <td>1970673</td>\n      <td>9119</td>\n      <td>474300</td>\n      <td>2017-04-25</td>\n      <td>2017-04-18</td>\n      <td>2017-04-25</td>\n      <td>9</td>\n      <td>0</td>\n      <td>66.92</td>\n      <td>1</td>\n      <td>...</td>\n      <td>4</td>\n      <td>vea</td>\n      <td>buenos aires</td>\n      <td>-58.434477</td>\n      <td>-34.614950</td>\n      <td>1</td>\n      <td>0</td>\n      <td>glade automatic desodorante de ambientes 619 cc</td>\n      <td>s. c. johnson y son de arg. s.a.</td>\n      <td>1.0</td>\n    </tr>\n    <tr>\n      <th>970674</th>\n      <td>1970675</td>\n      <td>9119</td>\n      <td>468735</td>\n      <td>2017-04-25</td>\n      <td>2017-04-18</td>\n      <td>2017-04-25</td>\n      <td>7</td>\n      <td>0</td>\n      <td>66.92</td>\n      <td>1</td>\n      <td>...</td>\n      <td>4</td>\n      <td>vea</td>\n      <td>buenos aires</td>\n      <td>-58.434477</td>\n      <td>-34.614950</td>\n      <td>1</td>\n      <td>0</td>\n      <td>glade automatico 3 en 1 aromatizante de ambien...</td>\n      <td>s. c. johnson y son de arg. s.a.</td>\n      <td>1.0</td>\n    </tr>\n  </tbody>\n</table>\n<p>63442 rows × 27 columns</p>\n</div>"
     },
     "execution_count": 33,
     "metadata": {},
     "output_type": "execute_result"
    }
   ],
   "source": [
    "prod_with_prom_df = deodorants_df[~pd.isna(deodorants_df['nro_prom'])]\n",
    "prod_with_prom_df"
   ],
   "metadata": {
    "collapsed": false
   }
  },
  {
   "cell_type": "code",
   "execution_count": 34,
   "outputs": [
    {
     "data": {
      "text/plain": "         row_id  idb  id_producto fecha_trans fecha_desde fecha_hasta  \\\n0             1  242       249486  2016-07-15         NaN         NaN   \n1             2  242       458394  2016-07-15         NaN         NaN   \n2             3  242       468734  2016-07-15         NaN         NaN   \n3             4  242       242234  2016-07-15         NaN         NaN   \n4             5  242       450265  2016-07-15         NaN         NaN   \n...         ...  ...          ...         ...         ...         ...   \n999995  1999996  691       273920  2017-04-30         NaN         NaN   \n999996  1999997  691       387945  2017-04-30         NaN         NaN   \n999997  1999998  691       342745  2017-04-30         NaN         NaN   \n999998  1999999  691       342686  2017-04-30         NaN         NaN   \n999999  2000000  691       238239  2017-04-30         NaN         NaN   \n\n        stock_unidades  venta_unidades  precio_unitario  sigue_prod_en_rol  \\\n0                    0               0            27.72                  1   \n1                    5               0            16.31                  1   \n2                    6               0            60.84                  1   \n3                    5               0            15.06                  1   \n4                    8               0           151.59                  1   \n...                ...             ...              ...                ...   \n999995              11               0            73.36                  1   \n999996              16               1            50.24                  1   \n999997              36               1            18.52                  1   \n999998              12               1            18.52                  1   \n999999              16               0            16.77                  1   \n\n        ...  id_cadena                     desc_cadena  \\\n0       ...          4  vea                              \n1       ...          4  vea                              \n2       ...          4  vea                              \n3       ...          4  vea                              \n4       ...          4  vea                              \n...     ...        ...                             ...   \n999995  ...          4  vea                              \n999996  ...          4  vea                              \n999997  ...          4  vea                              \n999998  ...          4  vea                              \n999999  ...          4  vea                              \n\n                           desc_region   longitud    latitud  local  \\\n0       buenos aires                   -60.954190 -34.583210      1   \n1       buenos aires                   -60.954190 -34.583210      1   \n2       buenos aires                   -60.954190 -34.583210      1   \n3       buenos aires                   -60.954190 -34.583210      1   \n4       buenos aires                   -60.954190 -34.583210      1   \n...                                ...        ...        ...    ...   \n999995  buenos aires                   -57.088845 -29.715194      1   \n999996  buenos aires                   -57.088845 -29.715194      1   \n999997  buenos aires                   -57.088845 -29.715194      1   \n999998  buenos aires                   -57.088845 -29.715194      1   \n999999  buenos aires                   -57.088845 -29.715194      1   \n\n        punto_dist                                      desc_producto  \\\n0                0  glade toque toque rep lavandax2 9gr/6 lavanda ...   \n1                0  glade toque edicion limitada 1 12mlx12 pop fru...   \n2                0  glade automatico 3 en 1 aromatizante de ambien...   \n3                0  poett ambiental suavidad de algodon nuevo d 0....   \n4                0  glade glade glade glade automatico 3 en 1 ap+ ...   \n...            ...                                                ...   \n999995           0  refill citrico  oil escence air wick citricos ...   \n999996           0  glade sense y spray glade sense y spray glade ...   \n999997           0  glade desodorante de ambientes jazmin nueva fo...   \n999998           0  glade desodorante de ambientes lavander nueva ...   \n999999           0  poett poett lavanda refill ab nuevo poett lava...   \n\n                            razon_social id_region  \n0       s. c. johnson y son de arg. s.a.       1.0  \n1       s. c. johnson y son de arg. s.a.       1.0  \n2       s. c. johnson y son de arg. s.a.       1.0  \n3                  clorox argentina s.a.       1.0  \n4       s. c. johnson y son de arg. s.a.       1.0  \n...                                  ...       ...  \n999995  reckitt benckiser argentina s.a.       1.0  \n999996  s. c. johnson y son de arg. s.a.       1.0  \n999997  s. c. johnson y son de arg. s.a.       1.0  \n999998  s. c. johnson y son de arg. s.a.       1.0  \n999999             clorox argentina s.a.       1.0  \n\n[1941982 rows x 27 columns]",
      "text/html": "<div>\n<style scoped>\n    .dataframe tbody tr th:only-of-type {\n        vertical-align: middle;\n    }\n\n    .dataframe tbody tr th {\n        vertical-align: top;\n    }\n\n    .dataframe thead th {\n        text-align: right;\n    }\n</style>\n<table border=\"1\" class=\"dataframe\">\n  <thead>\n    <tr style=\"text-align: right;\">\n      <th></th>\n      <th>row_id</th>\n      <th>idb</th>\n      <th>id_producto</th>\n      <th>fecha_trans</th>\n      <th>fecha_desde</th>\n      <th>fecha_hasta</th>\n      <th>stock_unidades</th>\n      <th>venta_unidades</th>\n      <th>precio_unitario</th>\n      <th>sigue_prod_en_rol</th>\n      <th>...</th>\n      <th>id_cadena</th>\n      <th>desc_cadena</th>\n      <th>desc_region</th>\n      <th>longitud</th>\n      <th>latitud</th>\n      <th>local</th>\n      <th>punto_dist</th>\n      <th>desc_producto</th>\n      <th>razon_social</th>\n      <th>id_region</th>\n    </tr>\n  </thead>\n  <tbody>\n    <tr>\n      <th>0</th>\n      <td>1</td>\n      <td>242</td>\n      <td>249486</td>\n      <td>2016-07-15</td>\n      <td>NaN</td>\n      <td>NaN</td>\n      <td>0</td>\n      <td>0</td>\n      <td>27.72</td>\n      <td>1</td>\n      <td>...</td>\n      <td>4</td>\n      <td>vea</td>\n      <td>buenos aires</td>\n      <td>-60.954190</td>\n      <td>-34.583210</td>\n      <td>1</td>\n      <td>0</td>\n      <td>glade toque toque rep lavandax2 9gr/6 lavanda ...</td>\n      <td>s. c. johnson y son de arg. s.a.</td>\n      <td>1.0</td>\n    </tr>\n    <tr>\n      <th>1</th>\n      <td>2</td>\n      <td>242</td>\n      <td>458394</td>\n      <td>2016-07-15</td>\n      <td>NaN</td>\n      <td>NaN</td>\n      <td>5</td>\n      <td>0</td>\n      <td>16.31</td>\n      <td>1</td>\n      <td>...</td>\n      <td>4</td>\n      <td>vea</td>\n      <td>buenos aires</td>\n      <td>-60.954190</td>\n      <td>-34.583210</td>\n      <td>1</td>\n      <td>0</td>\n      <td>glade toque edicion limitada 1 12mlx12 pop fru...</td>\n      <td>s. c. johnson y son de arg. s.a.</td>\n      <td>1.0</td>\n    </tr>\n    <tr>\n      <th>2</th>\n      <td>3</td>\n      <td>242</td>\n      <td>468734</td>\n      <td>2016-07-15</td>\n      <td>NaN</td>\n      <td>NaN</td>\n      <td>6</td>\n      <td>0</td>\n      <td>60.84</td>\n      <td>1</td>\n      <td>...</td>\n      <td>4</td>\n      <td>vea</td>\n      <td>buenos aires</td>\n      <td>-60.954190</td>\n      <td>-34.583210</td>\n      <td>1</td>\n      <td>0</td>\n      <td>glade automatico 3 en 1 aromatizante de ambien...</td>\n      <td>s. c. johnson y son de arg. s.a.</td>\n      <td>1.0</td>\n    </tr>\n    <tr>\n      <th>3</th>\n      <td>4</td>\n      <td>242</td>\n      <td>242234</td>\n      <td>2016-07-15</td>\n      <td>NaN</td>\n      <td>NaN</td>\n      <td>5</td>\n      <td>0</td>\n      <td>15.06</td>\n      <td>1</td>\n      <td>...</td>\n      <td>4</td>\n      <td>vea</td>\n      <td>buenos aires</td>\n      <td>-60.954190</td>\n      <td>-34.583210</td>\n      <td>1</td>\n      <td>0</td>\n      <td>poett ambiental suavidad de algodon nuevo d 0....</td>\n      <td>clorox argentina s.a.</td>\n      <td>1.0</td>\n    </tr>\n    <tr>\n      <th>4</th>\n      <td>5</td>\n      <td>242</td>\n      <td>450265</td>\n      <td>2016-07-15</td>\n      <td>NaN</td>\n      <td>NaN</td>\n      <td>8</td>\n      <td>0</td>\n      <td>151.59</td>\n      <td>1</td>\n      <td>...</td>\n      <td>4</td>\n      <td>vea</td>\n      <td>buenos aires</td>\n      <td>-60.954190</td>\n      <td>-34.583210</td>\n      <td>1</td>\n      <td>0</td>\n      <td>glade glade glade glade automatico 3 en 1 ap+ ...</td>\n      <td>s. c. johnson y son de arg. s.a.</td>\n      <td>1.0</td>\n    </tr>\n    <tr>\n      <th>...</th>\n      <td>...</td>\n      <td>...</td>\n      <td>...</td>\n      <td>...</td>\n      <td>...</td>\n      <td>...</td>\n      <td>...</td>\n      <td>...</td>\n      <td>...</td>\n      <td>...</td>\n      <td>...</td>\n      <td>...</td>\n      <td>...</td>\n      <td>...</td>\n      <td>...</td>\n      <td>...</td>\n      <td>...</td>\n      <td>...</td>\n      <td>...</td>\n      <td>...</td>\n      <td>...</td>\n    </tr>\n    <tr>\n      <th>999995</th>\n      <td>1999996</td>\n      <td>691</td>\n      <td>273920</td>\n      <td>2017-04-30</td>\n      <td>NaN</td>\n      <td>NaN</td>\n      <td>11</td>\n      <td>0</td>\n      <td>73.36</td>\n      <td>1</td>\n      <td>...</td>\n      <td>4</td>\n      <td>vea</td>\n      <td>buenos aires</td>\n      <td>-57.088845</td>\n      <td>-29.715194</td>\n      <td>1</td>\n      <td>0</td>\n      <td>refill citrico  oil escence air wick citricos ...</td>\n      <td>reckitt benckiser argentina s.a.</td>\n      <td>1.0</td>\n    </tr>\n    <tr>\n      <th>999996</th>\n      <td>1999997</td>\n      <td>691</td>\n      <td>387945</td>\n      <td>2017-04-30</td>\n      <td>NaN</td>\n      <td>NaN</td>\n      <td>16</td>\n      <td>1</td>\n      <td>50.24</td>\n      <td>1</td>\n      <td>...</td>\n      <td>4</td>\n      <td>vea</td>\n      <td>buenos aires</td>\n      <td>-57.088845</td>\n      <td>-29.715194</td>\n      <td>1</td>\n      <td>0</td>\n      <td>glade sense y spray glade sense y spray glade ...</td>\n      <td>s. c. johnson y son de arg. s.a.</td>\n      <td>1.0</td>\n    </tr>\n    <tr>\n      <th>999997</th>\n      <td>1999998</td>\n      <td>691</td>\n      <td>342745</td>\n      <td>2017-04-30</td>\n      <td>NaN</td>\n      <td>NaN</td>\n      <td>36</td>\n      <td>1</td>\n      <td>18.52</td>\n      <td>1</td>\n      <td>...</td>\n      <td>4</td>\n      <td>vea</td>\n      <td>buenos aires</td>\n      <td>-57.088845</td>\n      <td>-29.715194</td>\n      <td>1</td>\n      <td>0</td>\n      <td>glade desodorante de ambientes jazmin nueva fo...</td>\n      <td>s. c. johnson y son de arg. s.a.</td>\n      <td>1.0</td>\n    </tr>\n    <tr>\n      <th>999998</th>\n      <td>1999999</td>\n      <td>691</td>\n      <td>342686</td>\n      <td>2017-04-30</td>\n      <td>NaN</td>\n      <td>NaN</td>\n      <td>12</td>\n      <td>1</td>\n      <td>18.52</td>\n      <td>1</td>\n      <td>...</td>\n      <td>4</td>\n      <td>vea</td>\n      <td>buenos aires</td>\n      <td>-57.088845</td>\n      <td>-29.715194</td>\n      <td>1</td>\n      <td>0</td>\n      <td>glade desodorante de ambientes lavander nueva ...</td>\n      <td>s. c. johnson y son de arg. s.a.</td>\n      <td>1.0</td>\n    </tr>\n    <tr>\n      <th>999999</th>\n      <td>2000000</td>\n      <td>691</td>\n      <td>238239</td>\n      <td>2017-04-30</td>\n      <td>NaN</td>\n      <td>NaN</td>\n      <td>16</td>\n      <td>0</td>\n      <td>16.77</td>\n      <td>1</td>\n      <td>...</td>\n      <td>4</td>\n      <td>vea</td>\n      <td>buenos aires</td>\n      <td>-57.088845</td>\n      <td>-29.715194</td>\n      <td>1</td>\n      <td>0</td>\n      <td>poett poett lavanda refill ab nuevo poett lava...</td>\n      <td>clorox argentina s.a.</td>\n      <td>1.0</td>\n    </tr>\n  </tbody>\n</table>\n<p>1941982 rows × 27 columns</p>\n</div>"
     },
     "execution_count": 34,
     "metadata": {},
     "output_type": "execute_result"
    }
   ],
   "source": [
    "mask = deodorants_df.isnull().any(axis=1)\n",
    "prod_without_prom_df= deodorants_df[mask]\n",
    "prod_without_prom_df"
   ],
   "metadata": {
    "collapsed": false
   }
  },
  {
   "cell_type": "code",
   "execution_count": 61,
   "outputs": [],
   "source": [
    "deodorants_without_promo_df = pd.read_csv(\"../clean_data/deodorants_without_promo_1.csv\")"
   ],
   "metadata": {
    "collapsed": false
   }
  },
  {
   "cell_type": "code",
   "execution_count": 63,
   "outputs": [
    {
     "name": "stdout",
     "output_type": "stream",
     "text": [
      "<class 'pandas.core.frame.DataFrame'>\n",
      "RangeIndex: 1000000 entries, 0 to 999999\n",
      "Data columns (total 22 columns):\n",
      " #   Column             Non-Null Count    Dtype  \n",
      "---  ------             --------------    -----  \n",
      " 0   row_id             1000000 non-null  int64  \n",
      " 1   idb                1000000 non-null  int64  \n",
      " 2   id_producto        1000000 non-null  int64  \n",
      " 3   fecha_trans        1000000 non-null  object \n",
      " 4   stock_unidades     1000000 non-null  int64  \n",
      " 5   venta_unidades     1000000 non-null  int64  \n",
      " 6   precio_unitario    1000000 non-null  float64\n",
      " 7   sigue_prod_en_rol  1000000 non-null  int64  \n",
      " 8   cd_abast           1000000 non-null  int64  \n",
      " 9   mov_month          1000000 non-null  int64  \n",
      " 10  mov_year           1000000 non-null  int64  \n",
      " 11  mov_weekday        1000000 non-null  int64  \n",
      " 12  id_cadena          1000000 non-null  int64  \n",
      " 13  desc_cadena        1000000 non-null  object \n",
      " 14  desc_region        1000000 non-null  object \n",
      " 15  longitud           1000000 non-null  float64\n",
      " 16  latitud            1000000 non-null  float64\n",
      " 17  local              1000000 non-null  int64  \n",
      " 18  punto_dist         1000000 non-null  int64  \n",
      " 19  desc_producto      1000000 non-null  object \n",
      " 20  razon_social       1000000 non-null  object \n",
      " 21  id_region          1000000 non-null  int64  \n",
      "dtypes: float64(3), int64(14), object(5)\n",
      "memory usage: 167.8+ MB\n"
     ]
    }
   ],
   "source": [
    "deodorants_without_promo_df.info()"
   ],
   "metadata": {
    "collapsed": false
   }
  },
  {
   "cell_type": "code",
   "execution_count": null,
   "outputs": [],
   "source": [],
   "metadata": {
    "collapsed": false
   }
  }
 ],
 "metadata": {
  "kernelspec": {
   "display_name": "Python 3",
   "language": "python",
   "name": "python3"
  },
  "language_info": {
   "codemirror_mode": {
    "name": "ipython",
    "version": 2
   },
   "file_extension": ".py",
   "mimetype": "text/x-python",
   "name": "python",
   "nbconvert_exporter": "python",
   "pygments_lexer": "ipython2",
   "version": "2.7.6"
  }
 },
 "nbformat": 4,
 "nbformat_minor": 0
}
