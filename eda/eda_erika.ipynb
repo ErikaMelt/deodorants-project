{
 "cells": [
  {
   "cell_type": "markdown",
   "metadata": {},
   "source": [
    "## Análisis de las ventas de desodorantes en aerosol "
   ]
  },
  {
   "cell_type": "code",
   "execution_count": 1,
   "metadata": {},
   "outputs": [],
   "source": [
    "import pandas as pd\n",
    "import matplotlib.pyplot as plt\n",
    "import seaborn as sns\n",
    "import plotly.graph_objs as go\n",
    "import plotly.io as pio"
   ]
  },
  {
   "cell_type": "code",
   "execution_count": 2,
   "metadata": {},
   "outputs": [],
   "source": [
    "deodorants_df = pd.read_csv(\"../clean_data/deodorants_final_merged.csv\",\n",
    "                            parse_dates=['fecha_trans'])"
   ]
  },
  {
   "cell_type": "code",
   "execution_count": 3,
   "metadata": {},
   "outputs": [
    {
     "name": "stdout",
     "output_type": "stream",
     "text": [
      "<class 'pandas.core.frame.DataFrame'>\n",
      "RangeIndex: 8356436 entries, 0 to 8356435\n",
      "Data columns (total 27 columns):\n",
      " #   Column                  Dtype         \n",
      "---  ------                  -----         \n",
      " 0   idb                     int64         \n",
      " 1   id_producto             int64         \n",
      " 2   fecha_trans             datetime64[ns]\n",
      " 3   stock_unidades          int64         \n",
      " 4   venta_unidades          int64         \n",
      " 5   precio_unitario         float64       \n",
      " 6   sigue_prod_en_rol       int64         \n",
      " 7   cd_abast                int64         \n",
      " 8   mov_month               int64         \n",
      " 9   mov_year                int64         \n",
      " 10  mov_weekday             int64         \n",
      " 11  ventas_estimadas_promo  int64         \n",
      " 12  nro_prom                int64         \n",
      " 13  duracion_promo          int64         \n",
      " 14  id_cadena               int64         \n",
      " 15  desc_cadena             object        \n",
      " 16  longitud                float64       \n",
      " 17  latitud                 float64       \n",
      " 18  local                   int64         \n",
      " 19  punto_dist              int64         \n",
      " 20  desc_producto           object        \n",
      " 21  razon_social            object        \n",
      " 22  id_region               int64         \n",
      " 23  dia_semana              object        \n",
      " 24  is_weekend              int64         \n",
      " 25  tiene_promo             int64         \n",
      " 26  estacion                object        \n",
      "dtypes: datetime64[ns](1), float64(3), int64(18), object(5)\n",
      "memory usage: 1.7+ GB\n"
     ]
    }
   ],
   "source": [
    "deodorants_df.info()"
   ]
  },
  {
   "cell_type": "code",
   "execution_count": 4,
   "metadata": {},
   "outputs": [],
   "source": [
    "filtered_df = deodorants_df[[\n",
    "    'stock_unidades', 'venta_unidades', 'ventas_estimadas_promo',\n",
    "    'precio_unitario', 'duracion_promo'\n",
    "]]"
   ]
  },
  {
   "cell_type": "code",
   "execution_count": 5,
   "metadata": {},
   "outputs": [],
   "source": [
    "stats = filtered_df.describe()"
   ]
  },
  {
   "cell_type": "code",
   "execution_count": 9,
   "metadata": {},
   "outputs": [],
   "source": [
    "stats = stats.round(3)\n",
    "\n",
    "# Create a Plotly table\n",
    "table = go.Table(header=dict(values=['Statistic'] + list(stats.columns),\n",
    "                              fill_color=\"lightsteelblue\",\n",
    "                              font=dict(color='white', size=14),\n",
    "                              align='center'),\n",
    "                 cells=dict(values=[['mean', 'std', 'min', '25%', '50%', '75%', 'max']] + [stats[col] for col in stats.columns],\n",
    "                            fill_color='#f2f2f2',\n",
    "                            font=dict(color='#404040', size=12),\n",
    "                            align='center'))\n",
    "\n",
    "# Create a layout for the table\n",
    "layout = go.Layout(width=900, height=500)\n",
    "\n",
    "# Create a figure object with the table and layout\n",
    "fig = go.Figure(data=[table], layout=layout)\n",
    "\n",
    "# Save the figure as an image file\n",
    "pio.write_image(fig, 'images/deodorants_stats.png')"
   ]
  },
  {
   "cell_type": "markdown",
   "metadata": {},
   "source": [
    "### Preguntas"
   ]
  },
  {
   "cell_type": "markdown",
   "metadata": {},
   "source": [
    "- ¿Cuáles son los productos con mayor volumen de ventas?"
   ]
  },
  {
   "cell_type": "code",
   "execution_count": null,
   "metadata": {},
   "outputs": [],
   "source": [
    "product_grouped_top10 = deodorants_df.groupby(\n",
    "    ['id_producto', 'desc_producto'])['venta_unidades'].sum().sort_values(\n",
    "        ascending=False).nlargest(10).reset_index()\n",
    "product_grouped_top10"
   ]
  },
  {
   "cell_type": "code",
   "execution_count": null,
   "metadata": {},
   "outputs": [],
   "source": [
    "product_grouped_top10['desc_producto']=product_grouped_top10['desc_producto'].replace(to_replace='ma�ana', value='manana', regex=True)"
   ]
  },
  {
   "cell_type": "code",
   "execution_count": null,
   "metadata": {},
   "outputs": [],
   "source": [
    "product_grouped_bottom10 = deodorants_df.groupby(\n",
    "    ['id_producto', 'desc_producto'])['venta_unidades'].sum().sort_values(\n",
    "        ascending=False).nsmallest(10).reset_index()\n",
    "product_grouped_bottom10"
   ]
  },
  {
   "cell_type": "code",
   "execution_count": null,
   "metadata": {},
   "outputs": [],
   "source": [
    "# concatenate the id_producto and desc_producto columns\n",
    "product_grouped_bottom10['desc_producto'] = product_grouped_bottom10.apply(lambda row: 'id_prod:' + str( row['id_producto']) + ' - ' + row['desc_producto'], axis=1)"
   ]
  },
  {
   "cell_type": "code",
   "execution_count": null,
   "metadata": {},
   "outputs": [],
   "source": [
    "def plot_sales_chart(df, title, save_title):\n",
    "    # set the seaborn theme\n",
    "    sns.set_style(\"whitegrid\")\n",
    "    \n",
    "    # set the color palette\n",
    "    color = \"blend:#7AB,#EDA\"\n",
    "    sns.set_palette(sns.color_palette(color))\n",
    "\n",
    "    # create the bar plot\n",
    "    ax = sns.barplot(x=\"venta_unidades\", y=\"desc_producto\", data=df, palette=color)\n",
    "   \n",
    "    # add labels to the bars\n",
    "    for i, v in enumerate(df['venta_unidades']):\n",
    "        ax.text(v + 1, i, str(v), color='black')\n",
    "\n",
    "    plt.figure(figsize=(12, 8))\n",
    "    # set the chart title and labels\n",
    "    plt.title(title, fontweight='bold', fontsize=14)\n",
    "    plt.xlabel(\"Ventas en Unidades\", fontsize=10)\n",
    "    plt.ylabel(\"Descripción del Producto\", fontsize=10)\n",
    "    \n",
    "     # save the plot as a PNG file\n",
    "    plt.savefig(f'images/{save_title}', dpi=300, bbox_inches='tight')\n",
    "\n",
    "    # show the plot\n",
    "    plt.show()\n"
   ]
  },
  {
   "cell_type": "code",
   "execution_count": null,
   "metadata": {},
   "outputs": [],
   "source": [
    "plot_sales_chart(product_grouped_top10,\n",
    "                 'Top 10 desodorantes en aerosol más vendidos',\n",
    "                 'ventas_desodorantes_top10')"
   ]
  },
  {
   "cell_type": "code",
   "execution_count": null,
   "metadata": {},
   "outputs": [],
   "source": [
    "plot_sales_chart(product_grouped_bottom10,\n",
    "                 'Top 10 desodorantes en aerosol menos vendidos',\n",
    "                 'ventas_desodorantes_bot10')"
   ]
  },
  {
   "cell_type": "markdown",
   "metadata": {},
   "source": [
    "Esta lista de 16 productos tienen ventas zero y nunca han tenido una promoción por lo tanto las vamos a eliminar del dataset. "
   ]
  },
  {
   "cell_type": "code",
   "execution_count": null,
   "metadata": {},
   "outputs": [],
   "source": [
    "# Group the DataFrame by 'id_producto' and 'tiene_promo', and count the number of rows for each group\n",
    "promo_counts = deodorants_df.groupby(['id_producto', 'tiene_promo'\n",
    "                                      ]).size().reset_index(name='count')\n",
    "\n",
    "# Create a Boolean Series indicating if a product has a count for both 'tiene_promo' values\n",
    "has_both_promos = promo_counts.groupby(\n",
    "    'id_producto')['tiene_promo'].count() == 2\n",
    "\n",
    "# Filter the DataFrame to get the products that do not have a count for either 'tiene_promo' value\n",
    "no_promos = promo_counts[~promo_counts['id_producto'].\n",
    "                         isin(has_both_promos[has_both_promos].index)]\n",
    "\n",
    "# Get the unique products IDs that do not have a count for either 'tiene_promo' value\n",
    "no_promo_products = no_promos['id_producto'].unique()\n",
    "\n",
    "no_promo_products"
   ]
  },
  {
   "cell_type": "code",
   "execution_count": null,
   "metadata": {},
   "outputs": [],
   "source": [
    "deodorants_without_promo = deodorants_df[deodorants_df['id_producto'].isin(\n",
    "    no_promo_products)]\n",
    "deodorants_without_promo"
   ]
  },
  {
   "cell_type": "code",
   "execution_count": null,
   "metadata": {},
   "outputs": [],
   "source": [
    "# filter the dataframe based on venta_unidades == 0\n",
    "ventas_zero_df = deodorants_df[deodorants_df['venta_unidades'] == 0]\n",
    "\n",
    "# group the resulting dataframe by id_producto and desc_producto, and sum the units sold\n",
    "ventas_zero_grouped = ventas_zero_df.groupby(['id_producto', 'desc_producto'\n",
    "                                              ])['venta_unidades'].sum()\n",
    "\n",
    "# reset the index to convert the resulting series to a dataframe\n",
    "ventas_zero_df = ventas_zero_grouped.reset_index()\n",
    "\n",
    "ventas_zero_df"
   ]
  },
  {
   "cell_type": "code",
   "execution_count": null,
   "metadata": {},
   "outputs": [],
   "source": [
    "# print the resulting dataframe\n",
    "result = ventas_zero_df[ventas_zero_df['desc_producto']=='unknown']\n",
    "result"
   ]
  },
  {
   "cell_type": "code",
   "execution_count": null,
   "metadata": {},
   "outputs": [],
   "source": [
    "unknown = deodorants_df['desc_producto']\n",
    "unknown"
   ]
  },
  {
   "cell_type": "code",
   "execution_count": null,
   "metadata": {},
   "outputs": [],
   "source": [
    "# filter ventas_zero_df based on the condition that id_producto is in no_promo_products list\n",
    "ventas_zero_in_no_promos = ventas_zero_df[ventas_zero_df['id_producto'].isin(\n",
    "    no_promo_products)]\n",
    "\n",
    "# print the resulting dataframe\n",
    "ventas_zero_in_no_promos"
   ]
  },
  {
   "cell_type": "code",
   "execution_count": null,
   "metadata": {},
   "outputs": [],
   "source": [
    "# create a boolean mask indicating which rows in deodorants_df have an id_producto that is present in ventas_zero_in_no_promos\n",
    "mask = deodorants_df['id_producto'].isin(\n",
    "    ventas_zero_in_no_promos['id_producto'])\n",
    "\n",
    "# create a new dataframe without the rows that meet the condition\n",
    "deodorants_df_filtered = deodorants_df[~mask]\n",
    "\n",
    "# print the resulting dataframe\n",
    "len(deodorants_df_filtered)"
   ]
  },
  {
   "cell_type": "code",
   "execution_count": null,
   "metadata": {},
   "outputs": [],
   "source": [
    "plot_sales_chart(\n",
    "    product_grouped_top10,\n",
    "    'Top 10 desodorantes con mayor volumen de ventas desde Julio 2016 hasta Julio 2019',\n",
    "    'ventas_producto_top10')"
   ]
  },
  {
   "cell_type": "code",
   "execution_count": null,
   "metadata": {},
   "outputs": [],
   "source": []
  }
 ],
 "metadata": {
  "kernelspec": {
   "display_name": "Python 3 (ipykernel)",
   "language": "python",
   "name": "python3"
  },
  "language_info": {
   "codemirror_mode": {
    "name": "ipython",
    "version": 3
   },
   "file_extension": ".py",
   "mimetype": "text/x-python",
   "name": "python",
   "nbconvert_exporter": "python",
   "pygments_lexer": "ipython3",
   "version": "3.10.9"
  },
  "toc": {
   "base_numbering": 1,
   "nav_menu": {},
   "number_sections": true,
   "sideBar": true,
   "skip_h1_title": false,
   "title_cell": "Table of Contents",
   "title_sidebar": "Contents",
   "toc_cell": false,
   "toc_position": {},
   "toc_section_display": true,
   "toc_window_display": false
  },
  "varInspector": {
   "cols": {
    "lenName": 16,
    "lenType": 16,
    "lenVar": 40
   },
   "kernels_config": {
    "python": {
     "delete_cmd_postfix": "",
     "delete_cmd_prefix": "del ",
     "library": "var_list.py",
     "varRefreshCmd": "print(var_dic_list())"
    },
    "r": {
     "delete_cmd_postfix": ") ",
     "delete_cmd_prefix": "rm(",
     "library": "var_list.r",
     "varRefreshCmd": "cat(var_dic_list()) "
    }
   },
   "types_to_exclude": [
    "module",
    "function",
    "builtin_function_or_method",
    "instance",
    "_Feature"
   ],
   "window_display": false
  }
 },
 "nbformat": 4,
 "nbformat_minor": 1
}
