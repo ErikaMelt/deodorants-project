{
 "cells": [
  {
   "cell_type": "code",
   "execution_count": 2,
   "metadata": {
    "collapsed": true
   },
   "outputs": [],
   "source": [
    "# Importamos las librerías:\n",
    "import matplotlib.pyplot as plt\n",
    "plt.style.use('classic')\n",
    "# Línea necesaria para que Matplotlib muestre por defecto los gráficos en nuestro Notebook:\n",
    "%matplotlib inline\n",
    "import numpy as np\n",
    "import pandas as pd\n",
    "import seaborn as sns\n",
    "import statsmodels.api as sm\n",
    "from datetime import datetime"
   ]
  },
  {
   "cell_type": "code",
   "execution_count": 12,
   "outputs": [],
   "source": [
    "movimientos_wp=\"G:\\Mi unidad\\CARME\\Trabajos\\csv\\deodorants_with_promo.csv\"\n",
    "df_wp = pd.read_csv(movimientos_wp, sep=\",\", skiprows=0)"
   ],
   "metadata": {
    "collapsed": false
   }
  },
  {
   "cell_type": "code",
   "execution_count": 3,
   "outputs": [],
   "source": [
    "movimientos_wop=\"G:\\Mi unidad\\CARME\\Trabajos\\csv\\deodorants_without_promo.csv\"\n",
    "df_wop = pd.read_csv(movimientos_wop, sep=\",\", skiprows=0)"
   ],
   "metadata": {
    "collapsed": false
   }
  },
  {
   "cell_type": "code",
   "execution_count": 17,
   "outputs": [],
   "source": [
    "movimientos_wopp=\"G:\\Mi unidad\\CARME\\Trabajos\\csv\\deodorants_without_promo_and_product_info.csv\"\n",
    "df_wopp = pd.read_csv(movimientos_wopp, sep=\",\", skiprows=0)"
   ],
   "metadata": {
    "collapsed": false
   }
  },
  {
   "cell_type": "code",
   "execution_count": 13,
   "outputs": [
    {
     "name": "stdout",
     "output_type": "stream",
     "text": [
      "<class 'pandas.core.frame.DataFrame'>\n",
      "RangeIndex: 136278 entries, 0 to 136277\n",
      "Data columns (total 26 columns):\n",
      " #   Column                  Non-Null Count   Dtype  \n",
      "---  ------                  --------------   -----  \n",
      " 0   idb                     136278 non-null  int64  \n",
      " 1   id_producto             136278 non-null  int64  \n",
      " 2   fecha_trans             136278 non-null  object \n",
      " 3   fecha_desde             136278 non-null  object \n",
      " 4   fecha_hasta             136278 non-null  object \n",
      " 5   stock_unidades          136278 non-null  int64  \n",
      " 6   venta_unidades          136278 non-null  int64  \n",
      " 7   precio_unitario         136278 non-null  float64\n",
      " 8   sigue_prod_en_rol       136278 non-null  int64  \n",
      " 9   cd_abast                136278 non-null  int64  \n",
      " 10  mov_month               136278 non-null  int64  \n",
      " 11  mov_year                136278 non-null  int64  \n",
      " 12  mov_weekday             136278 non-null  int64  \n",
      " 13  ventas_estimadas_promo  136278 non-null  int64  \n",
      " 14  nro_prom                136278 non-null  int64  \n",
      " 15  duracion_promo          136278 non-null  int64  \n",
      " 16  id_cadena               136278 non-null  int64  \n",
      " 17  desc_cadena             136278 non-null  object \n",
      " 18  desc_region             136278 non-null  object \n",
      " 19  longitud                136278 non-null  float64\n",
      " 20  latitud                 136278 non-null  float64\n",
      " 21  local                   136278 non-null  int64  \n",
      " 22  punto_dist              136278 non-null  int64  \n",
      " 23  desc_producto           129522 non-null  object \n",
      " 24  razon_social            129522 non-null  object \n",
      " 25  id_region               129522 non-null  float64\n",
      "dtypes: float64(4), int64(15), object(7)\n",
      "memory usage: 27.0+ MB\n"
     ]
    }
   ],
   "source": [
    "df_wp.info()"
   ],
   "metadata": {
    "collapsed": false
   }
  },
  {
   "cell_type": "code",
   "execution_count": 18,
   "outputs": [
    {
     "data": {
      "text/plain": "                 idb    id_producto  stock_unidades  venta_unidades  \\\ncount  136278.000000  136278.000000   136278.000000   136278.000000   \nmean     7143.039126  386199.659622       19.362634        0.543015   \nstd      3189.393528   83475.499421       25.297721        1.134547   \nmin       242.000000  164146.000000      -41.000000       -2.000000   \n25%      5207.000000  342682.000000        6.000000        0.000000   \n50%      9036.000000  427444.000000       12.000000        0.000000   \n75%      9161.000000  458393.000000       23.000000        1.000000   \nmax      9977.000000  507528.000000      679.000000       21.000000   \n\n       precio_unitario  sigue_prod_en_rol       cd_abast      mov_month  \\\ncount    136278.000000      136278.000000  136278.000000  136278.000000   \nmean         47.134959           0.984664    4297.790289       6.216587   \nstd          41.762189           0.122887    4598.030759       2.948122   \nmin          15.060000           0.000000       0.000000       1.000000   \n25%          18.520000           1.000000       0.000000       4.000000   \n50%          40.140000           1.000000       0.000000       6.000000   \n75%          66.920000           1.000000    9217.000000       8.000000   \nmax         416.520000           1.000000    9217.000000      12.000000   \n\n            mov_year    mov_weekday  ventas_estimadas_promo       nro_prom  \\\ncount  136278.000000  136278.000000           136278.000000  136278.000000   \nmean     2017.388507       2.861298               23.915526  477085.219096   \nstd         1.148644       2.043863               31.778576   39563.177966   \nmin      2016.000000       0.000000                0.000000  425196.000000   \n25%      2016.000000       1.000000                4.000000  440560.000000   \n50%      2017.000000       3.000000               12.000000  473864.000000   \n75%      2018.000000       5.000000               30.000000  518153.000000   \nmax      2019.000000       6.000000              300.000000  541066.000000   \n\n       duracion_promo      id_cadena       longitud        latitud     local  \\\ncount   136278.000000  136278.000000  136278.000000  136278.000000  136278.0   \nmean         9.107919       4.473033     -58.651164     -34.980155       1.0   \nstd          3.569107       2.540857       1.239358       1.884530       0.0   \nmin          3.000000       2.000000     -67.496036     -45.872649       1.0   \n25%          7.000000       2.000000     -58.696112     -34.989573       1.0   \n50%          7.000000       4.000000     -58.459282     -34.637957       1.0   \n75%          9.000000       4.000000     -58.391991     -34.583457       1.0   \nmax         18.000000       9.000000     -56.722051     -29.141976       1.0   \n\n       punto_dist  id_region  \ncount    136278.0   129522.0  \nmean          0.0        1.0  \nstd           0.0        0.0  \nmin           0.0        1.0  \n25%           0.0        1.0  \n50%           0.0        1.0  \n75%           0.0        1.0  \nmax           0.0        1.0  ",
      "text/html": "<div>\n<style scoped>\n    .dataframe tbody tr th:only-of-type {\n        vertical-align: middle;\n    }\n\n    .dataframe tbody tr th {\n        vertical-align: top;\n    }\n\n    .dataframe thead th {\n        text-align: right;\n    }\n</style>\n<table border=\"1\" class=\"dataframe\">\n  <thead>\n    <tr style=\"text-align: right;\">\n      <th></th>\n      <th>idb</th>\n      <th>id_producto</th>\n      <th>stock_unidades</th>\n      <th>venta_unidades</th>\n      <th>precio_unitario</th>\n      <th>sigue_prod_en_rol</th>\n      <th>cd_abast</th>\n      <th>mov_month</th>\n      <th>mov_year</th>\n      <th>mov_weekday</th>\n      <th>ventas_estimadas_promo</th>\n      <th>nro_prom</th>\n      <th>duracion_promo</th>\n      <th>id_cadena</th>\n      <th>longitud</th>\n      <th>latitud</th>\n      <th>local</th>\n      <th>punto_dist</th>\n      <th>id_region</th>\n    </tr>\n  </thead>\n  <tbody>\n    <tr>\n      <th>count</th>\n      <td>136278.000000</td>\n      <td>136278.000000</td>\n      <td>136278.000000</td>\n      <td>136278.000000</td>\n      <td>136278.000000</td>\n      <td>136278.000000</td>\n      <td>136278.000000</td>\n      <td>136278.000000</td>\n      <td>136278.000000</td>\n      <td>136278.000000</td>\n      <td>136278.000000</td>\n      <td>136278.000000</td>\n      <td>136278.000000</td>\n      <td>136278.000000</td>\n      <td>136278.000000</td>\n      <td>136278.000000</td>\n      <td>136278.0</td>\n      <td>136278.0</td>\n      <td>129522.0</td>\n    </tr>\n    <tr>\n      <th>mean</th>\n      <td>7143.039126</td>\n      <td>386199.659622</td>\n      <td>19.362634</td>\n      <td>0.543015</td>\n      <td>47.134959</td>\n      <td>0.984664</td>\n      <td>4297.790289</td>\n      <td>6.216587</td>\n      <td>2017.388507</td>\n      <td>2.861298</td>\n      <td>23.915526</td>\n      <td>477085.219096</td>\n      <td>9.107919</td>\n      <td>4.473033</td>\n      <td>-58.651164</td>\n      <td>-34.980155</td>\n      <td>1.0</td>\n      <td>0.0</td>\n      <td>1.0</td>\n    </tr>\n    <tr>\n      <th>std</th>\n      <td>3189.393528</td>\n      <td>83475.499421</td>\n      <td>25.297721</td>\n      <td>1.134547</td>\n      <td>41.762189</td>\n      <td>0.122887</td>\n      <td>4598.030759</td>\n      <td>2.948122</td>\n      <td>1.148644</td>\n      <td>2.043863</td>\n      <td>31.778576</td>\n      <td>39563.177966</td>\n      <td>3.569107</td>\n      <td>2.540857</td>\n      <td>1.239358</td>\n      <td>1.884530</td>\n      <td>0.0</td>\n      <td>0.0</td>\n      <td>0.0</td>\n    </tr>\n    <tr>\n      <th>min</th>\n      <td>242.000000</td>\n      <td>164146.000000</td>\n      <td>-41.000000</td>\n      <td>-2.000000</td>\n      <td>15.060000</td>\n      <td>0.000000</td>\n      <td>0.000000</td>\n      <td>1.000000</td>\n      <td>2016.000000</td>\n      <td>0.000000</td>\n      <td>0.000000</td>\n      <td>425196.000000</td>\n      <td>3.000000</td>\n      <td>2.000000</td>\n      <td>-67.496036</td>\n      <td>-45.872649</td>\n      <td>1.0</td>\n      <td>0.0</td>\n      <td>1.0</td>\n    </tr>\n    <tr>\n      <th>25%</th>\n      <td>5207.000000</td>\n      <td>342682.000000</td>\n      <td>6.000000</td>\n      <td>0.000000</td>\n      <td>18.520000</td>\n      <td>1.000000</td>\n      <td>0.000000</td>\n      <td>4.000000</td>\n      <td>2016.000000</td>\n      <td>1.000000</td>\n      <td>4.000000</td>\n      <td>440560.000000</td>\n      <td>7.000000</td>\n      <td>2.000000</td>\n      <td>-58.696112</td>\n      <td>-34.989573</td>\n      <td>1.0</td>\n      <td>0.0</td>\n      <td>1.0</td>\n    </tr>\n    <tr>\n      <th>50%</th>\n      <td>9036.000000</td>\n      <td>427444.000000</td>\n      <td>12.000000</td>\n      <td>0.000000</td>\n      <td>40.140000</td>\n      <td>1.000000</td>\n      <td>0.000000</td>\n      <td>6.000000</td>\n      <td>2017.000000</td>\n      <td>3.000000</td>\n      <td>12.000000</td>\n      <td>473864.000000</td>\n      <td>7.000000</td>\n      <td>4.000000</td>\n      <td>-58.459282</td>\n      <td>-34.637957</td>\n      <td>1.0</td>\n      <td>0.0</td>\n      <td>1.0</td>\n    </tr>\n    <tr>\n      <th>75%</th>\n      <td>9161.000000</td>\n      <td>458393.000000</td>\n      <td>23.000000</td>\n      <td>1.000000</td>\n      <td>66.920000</td>\n      <td>1.000000</td>\n      <td>9217.000000</td>\n      <td>8.000000</td>\n      <td>2018.000000</td>\n      <td>5.000000</td>\n      <td>30.000000</td>\n      <td>518153.000000</td>\n      <td>9.000000</td>\n      <td>4.000000</td>\n      <td>-58.391991</td>\n      <td>-34.583457</td>\n      <td>1.0</td>\n      <td>0.0</td>\n      <td>1.0</td>\n    </tr>\n    <tr>\n      <th>max</th>\n      <td>9977.000000</td>\n      <td>507528.000000</td>\n      <td>679.000000</td>\n      <td>21.000000</td>\n      <td>416.520000</td>\n      <td>1.000000</td>\n      <td>9217.000000</td>\n      <td>12.000000</td>\n      <td>2019.000000</td>\n      <td>6.000000</td>\n      <td>300.000000</td>\n      <td>541066.000000</td>\n      <td>18.000000</td>\n      <td>9.000000</td>\n      <td>-56.722051</td>\n      <td>-29.141976</td>\n      <td>1.0</td>\n      <td>0.0</td>\n      <td>1.0</td>\n    </tr>\n  </tbody>\n</table>\n</div>"
     },
     "execution_count": 18,
     "metadata": {},
     "output_type": "execute_result"
    }
   ],
   "source": [
    "df_wp.describe()"
   ],
   "metadata": {
    "collapsed": false
   }
  },
  {
   "cell_type": "code",
   "execution_count": 19,
   "outputs": [
    {
     "data": {
      "text/plain": "idb                       138\nid_producto                76\nfecha_trans               481\nfecha_desde                75\nfecha_hasta                69\nstock_unidades            331\nventa_unidades             24\nprecio_unitario            69\nsigue_prod_en_rol           2\ncd_abast                    2\nmov_month                  12\nmov_year                    4\nmov_weekday                 7\nventas_estimadas_promo    152\nnro_prom                  116\nduracion_promo             13\nid_cadena                   3\ndesc_cadena                 3\ndesc_region                 1\nlongitud                  123\nlatitud                   123\nlocal                       1\npunto_dist                  1\ndesc_producto              68\nrazon_social                3\nid_region                   1\ndtype: int64"
     },
     "execution_count": 19,
     "metadata": {},
     "output_type": "execute_result"
    }
   ],
   "source": [
    "df_wp.nunique()"
   ],
   "metadata": {
    "collapsed": false
   }
  },
  {
   "cell_type": "code",
   "execution_count": 20,
   "outputs": [
    {
     "data": {
      "text/plain": "0"
     },
     "execution_count": 20,
     "metadata": {},
     "output_type": "execute_result"
    }
   ],
   "source": [
    "df_wp.duplicated().sum()"
   ],
   "metadata": {
    "collapsed": false
   }
  },
  {
   "cell_type": "code",
   "execution_count": 21,
   "outputs": [
    {
     "name": "stdout",
     "output_type": "stream",
     "text": [
      "<class 'pandas.core.frame.DataFrame'>\n",
      "RangeIndex: 7628466 entries, 0 to 7628465\n",
      "Data columns (total 22 columns):\n",
      " #   Column             Dtype  \n",
      "---  ------             -----  \n",
      " 0   row_id             int64  \n",
      " 1   idb                int64  \n",
      " 2   id_producto        int64  \n",
      " 3   fecha_trans        object \n",
      " 4   stock_unidades     int64  \n",
      " 5   venta_unidades     int64  \n",
      " 6   precio_unitario    float64\n",
      " 7   sigue_prod_en_rol  int64  \n",
      " 8   cd_abast           int64  \n",
      " 9   mov_month          int64  \n",
      " 10  mov_year           int64  \n",
      " 11  mov_weekday        int64  \n",
      " 12  id_cadena          int64  \n",
      " 13  desc_cadena        object \n",
      " 14  desc_region        object \n",
      " 15  longitud           float64\n",
      " 16  latitud            float64\n",
      " 17  local              int64  \n",
      " 18  punto_dist         int64  \n",
      " 19  desc_producto      object \n",
      " 20  razon_social       object \n",
      " 21  id_region          int64  \n",
      "dtypes: float64(3), int64(14), object(5)\n",
      "memory usage: 1.3+ GB\n"
     ]
    }
   ],
   "source": [
    "df_wop.info()"
   ],
   "metadata": {
    "collapsed": false
   }
  },
  {
   "cell_type": "code",
   "execution_count": 22,
   "outputs": [
    {
     "data": {
      "text/plain": "             row_id           idb   id_producto  stock_unidades  \\\ncount  7.628466e+06  7.628466e+06  7.628466e+06    7.628466e+06   \nmean   3.814234e+06  6.988987e+03  3.799335e+05    2.111803e+01   \nstd    2.202149e+06  3.305814e+03  9.145256e+04    1.517671e+02   \nmin    1.000000e+00  2.420000e+02  1.641490e+05   -5.420000e+02   \n25%    1.907117e+06  5.211000e+03  2.840120e+05    6.000000e+00   \n50%    3.814234e+06  9.026000e+03  4.218840e+05    1.000000e+01   \n75%    5.721350e+06  9.159000e+03  4.583940e+05    1.700000e+01   \nmax    7.628466e+06  9.977000e+03  5.113260e+05    1.621800e+04   \n\n       venta_unidades  precio_unitario  sigue_prod_en_rol      cd_abast  \\\ncount    7.628466e+06     7.628466e+06       7.628466e+06  7.628466e+06   \nmean     3.233868e-01     6.488032e+01       9.677600e-01  5.574024e+03   \nstd      9.033925e-01     6.792035e+01       1.766370e-01  4.506222e+03   \nmin     -1.200000e+01     0.000000e+00       0.000000e+00  0.000000e+00   \n25%      0.000000e+00     2.224000e+01       1.000000e+00  0.000000e+00   \n50%      0.000000e+00     3.760000e+01       1.000000e+00  9.217000e+03   \n75%      0.000000e+00     7.895000e+01       1.000000e+00  9.217000e+03   \nmax      6.120000e+02     4.238100e+02       1.000000e+00  9.217000e+03   \n\n          mov_month      mov_year   mov_weekday     id_cadena      longitud  \\\ncount  7.628466e+06  7.628466e+06  7.628466e+06  7.628466e+06  7.628466e+06   \nmean   6.492431e+00  2.017676e+03  3.004350e+00  4.267013e+00 -5.872792e+01   \nstd    3.459326e+00  9.762576e-01  1.999314e+00  2.612152e+00  1.392877e+00   \nmin    1.000000e+00  2.016000e+03  0.000000e+00  2.000000e+00 -6.749604e+01   \n25%    3.000000e+00  2.017000e+03  1.000000e+00  2.000000e+00 -5.869611e+01   \n50%    6.000000e+00  2.018000e+03  3.000000e+00  4.000000e+00 -5.846482e+01   \n75%    1.000000e+01  2.018000e+03  5.000000e+00  4.000000e+00 -5.839790e+01   \nmax    1.200000e+01  2.019000e+03  6.000000e+00  9.000000e+00 -5.668353e+01   \n\n            latitud         local    punto_dist  id_region  \ncount  7.628466e+06  7.628466e+06  7.628466e+06  7628466.0  \nmean  -3.506435e+01  9.896953e-01  1.030469e-02        1.0  \nstd    2.034668e+00  1.009877e-01  1.009877e-01        0.0  \nmin   -4.587265e+01  0.000000e+00  0.000000e+00        1.0  \n25%   -3.498957e+01  1.000000e+00  0.000000e+00        1.0  \n50%   -3.462789e+01  1.000000e+00  0.000000e+00        1.0  \n75%   -3.457732e+01  1.000000e+00  0.000000e+00        1.0  \nmax   -2.914198e+01  1.000000e+00  1.000000e+00        1.0  ",
      "text/html": "<div>\n<style scoped>\n    .dataframe tbody tr th:only-of-type {\n        vertical-align: middle;\n    }\n\n    .dataframe tbody tr th {\n        vertical-align: top;\n    }\n\n    .dataframe thead th {\n        text-align: right;\n    }\n</style>\n<table border=\"1\" class=\"dataframe\">\n  <thead>\n    <tr style=\"text-align: right;\">\n      <th></th>\n      <th>row_id</th>\n      <th>idb</th>\n      <th>id_producto</th>\n      <th>stock_unidades</th>\n      <th>venta_unidades</th>\n      <th>precio_unitario</th>\n      <th>sigue_prod_en_rol</th>\n      <th>cd_abast</th>\n      <th>mov_month</th>\n      <th>mov_year</th>\n      <th>mov_weekday</th>\n      <th>id_cadena</th>\n      <th>longitud</th>\n      <th>latitud</th>\n      <th>local</th>\n      <th>punto_dist</th>\n      <th>id_region</th>\n    </tr>\n  </thead>\n  <tbody>\n    <tr>\n      <th>count</th>\n      <td>7.628466e+06</td>\n      <td>7.628466e+06</td>\n      <td>7.628466e+06</td>\n      <td>7.628466e+06</td>\n      <td>7.628466e+06</td>\n      <td>7.628466e+06</td>\n      <td>7.628466e+06</td>\n      <td>7.628466e+06</td>\n      <td>7.628466e+06</td>\n      <td>7.628466e+06</td>\n      <td>7.628466e+06</td>\n      <td>7.628466e+06</td>\n      <td>7.628466e+06</td>\n      <td>7.628466e+06</td>\n      <td>7.628466e+06</td>\n      <td>7.628466e+06</td>\n      <td>7628466.0</td>\n    </tr>\n    <tr>\n      <th>mean</th>\n      <td>3.814234e+06</td>\n      <td>6.988987e+03</td>\n      <td>3.799335e+05</td>\n      <td>2.111803e+01</td>\n      <td>3.233868e-01</td>\n      <td>6.488032e+01</td>\n      <td>9.677600e-01</td>\n      <td>5.574024e+03</td>\n      <td>6.492431e+00</td>\n      <td>2.017676e+03</td>\n      <td>3.004350e+00</td>\n      <td>4.267013e+00</td>\n      <td>-5.872792e+01</td>\n      <td>-3.506435e+01</td>\n      <td>9.896953e-01</td>\n      <td>1.030469e-02</td>\n      <td>1.0</td>\n    </tr>\n    <tr>\n      <th>std</th>\n      <td>2.202149e+06</td>\n      <td>3.305814e+03</td>\n      <td>9.145256e+04</td>\n      <td>1.517671e+02</td>\n      <td>9.033925e-01</td>\n      <td>6.792035e+01</td>\n      <td>1.766370e-01</td>\n      <td>4.506222e+03</td>\n      <td>3.459326e+00</td>\n      <td>9.762576e-01</td>\n      <td>1.999314e+00</td>\n      <td>2.612152e+00</td>\n      <td>1.392877e+00</td>\n      <td>2.034668e+00</td>\n      <td>1.009877e-01</td>\n      <td>1.009877e-01</td>\n      <td>0.0</td>\n    </tr>\n    <tr>\n      <th>min</th>\n      <td>1.000000e+00</td>\n      <td>2.420000e+02</td>\n      <td>1.641490e+05</td>\n      <td>-5.420000e+02</td>\n      <td>-1.200000e+01</td>\n      <td>0.000000e+00</td>\n      <td>0.000000e+00</td>\n      <td>0.000000e+00</td>\n      <td>1.000000e+00</td>\n      <td>2.016000e+03</td>\n      <td>0.000000e+00</td>\n      <td>2.000000e+00</td>\n      <td>-6.749604e+01</td>\n      <td>-4.587265e+01</td>\n      <td>0.000000e+00</td>\n      <td>0.000000e+00</td>\n      <td>1.0</td>\n    </tr>\n    <tr>\n      <th>25%</th>\n      <td>1.907117e+06</td>\n      <td>5.211000e+03</td>\n      <td>2.840120e+05</td>\n      <td>6.000000e+00</td>\n      <td>0.000000e+00</td>\n      <td>2.224000e+01</td>\n      <td>1.000000e+00</td>\n      <td>0.000000e+00</td>\n      <td>3.000000e+00</td>\n      <td>2.017000e+03</td>\n      <td>1.000000e+00</td>\n      <td>2.000000e+00</td>\n      <td>-5.869611e+01</td>\n      <td>-3.498957e+01</td>\n      <td>1.000000e+00</td>\n      <td>0.000000e+00</td>\n      <td>1.0</td>\n    </tr>\n    <tr>\n      <th>50%</th>\n      <td>3.814234e+06</td>\n      <td>9.026000e+03</td>\n      <td>4.218840e+05</td>\n      <td>1.000000e+01</td>\n      <td>0.000000e+00</td>\n      <td>3.760000e+01</td>\n      <td>1.000000e+00</td>\n      <td>9.217000e+03</td>\n      <td>6.000000e+00</td>\n      <td>2.018000e+03</td>\n      <td>3.000000e+00</td>\n      <td>4.000000e+00</td>\n      <td>-5.846482e+01</td>\n      <td>-3.462789e+01</td>\n      <td>1.000000e+00</td>\n      <td>0.000000e+00</td>\n      <td>1.0</td>\n    </tr>\n    <tr>\n      <th>75%</th>\n      <td>5.721350e+06</td>\n      <td>9.159000e+03</td>\n      <td>4.583940e+05</td>\n      <td>1.700000e+01</td>\n      <td>0.000000e+00</td>\n      <td>7.895000e+01</td>\n      <td>1.000000e+00</td>\n      <td>9.217000e+03</td>\n      <td>1.000000e+01</td>\n      <td>2.018000e+03</td>\n      <td>5.000000e+00</td>\n      <td>4.000000e+00</td>\n      <td>-5.839790e+01</td>\n      <td>-3.457732e+01</td>\n      <td>1.000000e+00</td>\n      <td>0.000000e+00</td>\n      <td>1.0</td>\n    </tr>\n    <tr>\n      <th>max</th>\n      <td>7.628466e+06</td>\n      <td>9.977000e+03</td>\n      <td>5.113260e+05</td>\n      <td>1.621800e+04</td>\n      <td>6.120000e+02</td>\n      <td>4.238100e+02</td>\n      <td>1.000000e+00</td>\n      <td>9.217000e+03</td>\n      <td>1.200000e+01</td>\n      <td>2.019000e+03</td>\n      <td>6.000000e+00</td>\n      <td>9.000000e+00</td>\n      <td>-5.668353e+01</td>\n      <td>-2.914198e+01</td>\n      <td>1.000000e+00</td>\n      <td>1.000000e+00</td>\n      <td>1.0</td>\n    </tr>\n  </tbody>\n</table>\n</div>"
     },
     "execution_count": 22,
     "metadata": {},
     "output_type": "execute_result"
    }
   ],
   "source": [
    "df_wop.describe()"
   ],
   "metadata": {
    "collapsed": false
   }
  },
  {
   "cell_type": "code",
   "execution_count": 23,
   "outputs": [
    {
     "data": {
      "text/plain": "row_id               7628466\nidb                      142\nid_producto               82\nfecha_trans             1092\nstock_unidades          3545\nventa_unidades            68\nprecio_unitario          282\nsigue_prod_en_rol          2\ncd_abast                   2\nmov_month                 12\nmov_year                   4\nmov_weekday                7\nid_cadena                  3\ndesc_cadena                3\ndesc_region                1\nlongitud                 127\nlatitud                  127\nlocal                      2\npunto_dist                 2\ndesc_producto             81\nrazon_social               4\nid_region                  1\ndtype: int64"
     },
     "execution_count": 23,
     "metadata": {},
     "output_type": "execute_result"
    }
   ],
   "source": [
    "df_wop.nunique(axis=0)"
   ],
   "metadata": {
    "collapsed": false
   }
  },
  {
   "cell_type": "code",
   "execution_count": 24,
   "outputs": [
    {
     "data": {
      "text/plain": "0"
     },
     "execution_count": 24,
     "metadata": {},
     "output_type": "execute_result"
    }
   ],
   "source": [
    "df_wop.duplicated().sum()"
   ],
   "metadata": {
    "collapsed": false
   }
  },
  {
   "cell_type": "code",
   "execution_count": 25,
   "outputs": [],
   "source": [
    "df_wop=df_wop.drop(['row_id'], axis=1)"
   ],
   "metadata": {
    "collapsed": false
   }
  },
  {
   "cell_type": "code",
   "execution_count": 141,
   "outputs": [
    {
     "data": {
      "text/plain": "         idb  id_producto fecha_trans  stock_unidades  venta_unidades  \\\n529961   242       228217  2016-07-15              24               0   \n5110359  242       228217  2016-07-15              24               0   \n1369586  242       228217  2016-07-16              24               0   \n2896543  242       228217  2016-07-16              24               0   \n5948668  242       228217  2016-07-16              24               0   \n...      ...          ...         ...             ...             ...   \n1304838  242       228217  2016-10-13              15               0   \n2826277  242       228217  2016-10-13              15               0   \n5879236  242       228217  2016-10-13              15               0   \n715612   242       228217  2016-10-16              15               0   \n1701754  242       228217  2016-10-18              14               0   \n\n         precio_unitario  sigue_prod_en_rol  cd_abast  mov_month  mov_year  \\\n529961             13.63                  1         0          7      2016   \n5110359            13.63                  1         0          7      2016   \n1369586            13.63                  1         0          7      2016   \n2896543            13.63                  1         0          7      2016   \n5948668            13.63                  1         0          7      2016   \n...                  ...                ...       ...        ...       ...   \n1304838            16.16                  1         0         10      2016   \n2826277            16.16                  1         0         10      2016   \n5879236            16.16                  1         0         10      2016   \n715612             16.16                  1         0         10      2016   \n1701754            16.16                  1         0         10      2016   \n\n         ...  id_cadena                     desc_cadena  \\\n529961   ...          4  vea                              \n5110359  ...          4  vea                              \n1369586  ...          4  vea                              \n2896543  ...          4  vea                              \n5948668  ...          4  vea                              \n...      ...        ...                             ...   \n1304838  ...          4  vea                              \n2826277  ...          4  vea                              \n5879236  ...          4  vea                              \n715612   ...          4  vea                              \n1701754  ...          4  vea                              \n\n                            desc_region  longitud   latitud  local  \\\n529961   buenos aires                   -60.95419 -34.58321      1   \n5110359  buenos aires                   -60.95419 -34.58321      1   \n1369586  buenos aires                   -60.95419 -34.58321      1   \n2896543  buenos aires                   -60.95419 -34.58321      1   \n5948668  buenos aires                   -60.95419 -34.58321      1   \n...                                 ...       ...       ...    ...   \n1304838  buenos aires                   -60.95419 -34.58321      1   \n2826277  buenos aires                   -60.95419 -34.58321      1   \n5879236  buenos aires                   -60.95419 -34.58321      1   \n715612   buenos aires                   -60.95419 -34.58321      1   \n1701754  buenos aires                   -60.95419 -34.58321      1   \n\n         punto_dist                                      desc_producto  \\\n529961            0  glade toque toque rep limon 12mlx12 limon repu...   \n5110359           0  glade toque toque rep limon 12mlx12 limon repu...   \n1369586           0  glade toque toque rep limon 12mlx12 limon repu...   \n2896543           0  glade toque toque rep limon 12mlx12 limon repu...   \n5948668           0  glade toque toque rep limon 12mlx12 limon repu...   \n...             ...                                                ...   \n1304838           0  glade toque toque rep limon 12mlx12 limon repu...   \n2826277           0  glade toque toque rep limon 12mlx12 limon repu...   \n5879236           0  glade toque toque rep limon 12mlx12 limon repu...   \n715612            0  glade toque toque rep limon 12mlx12 limon repu...   \n1701754           0  glade toque toque rep limon 12mlx12 limon repu...   \n\n                             razon_social id_region  \n529961   s. c. johnson y son de arg. s.a.         1  \n5110359  s. c. johnson y son de arg. s.a.         1  \n1369586  s. c. johnson y son de arg. s.a.         1  \n2896543  s. c. johnson y son de arg. s.a.         1  \n5948668  s. c. johnson y son de arg. s.a.         1  \n...                                   ...       ...  \n1304838  s. c. johnson y son de arg. s.a.         1  \n2826277  s. c. johnson y son de arg. s.a.         1  \n5879236  s. c. johnson y son de arg. s.a.         1  \n715612   s. c. johnson y son de arg. s.a.         1  \n1701754  s. c. johnson y son de arg. s.a.         1  \n\n[100 rows x 21 columns]",
      "text/html": "<div>\n<style scoped>\n    .dataframe tbody tr th:only-of-type {\n        vertical-align: middle;\n    }\n\n    .dataframe tbody tr th {\n        vertical-align: top;\n    }\n\n    .dataframe thead th {\n        text-align: right;\n    }\n</style>\n<table border=\"1\" class=\"dataframe\">\n  <thead>\n    <tr style=\"text-align: right;\">\n      <th></th>\n      <th>idb</th>\n      <th>id_producto</th>\n      <th>fecha_trans</th>\n      <th>stock_unidades</th>\n      <th>venta_unidades</th>\n      <th>precio_unitario</th>\n      <th>sigue_prod_en_rol</th>\n      <th>cd_abast</th>\n      <th>mov_month</th>\n      <th>mov_year</th>\n      <th>...</th>\n      <th>id_cadena</th>\n      <th>desc_cadena</th>\n      <th>desc_region</th>\n      <th>longitud</th>\n      <th>latitud</th>\n      <th>local</th>\n      <th>punto_dist</th>\n      <th>desc_producto</th>\n      <th>razon_social</th>\n      <th>id_region</th>\n    </tr>\n  </thead>\n  <tbody>\n    <tr>\n      <th>529961</th>\n      <td>242</td>\n      <td>228217</td>\n      <td>2016-07-15</td>\n      <td>24</td>\n      <td>0</td>\n      <td>13.63</td>\n      <td>1</td>\n      <td>0</td>\n      <td>7</td>\n      <td>2016</td>\n      <td>...</td>\n      <td>4</td>\n      <td>vea</td>\n      <td>buenos aires</td>\n      <td>-60.95419</td>\n      <td>-34.58321</td>\n      <td>1</td>\n      <td>0</td>\n      <td>glade toque toque rep limon 12mlx12 limon repu...</td>\n      <td>s. c. johnson y son de arg. s.a.</td>\n      <td>1</td>\n    </tr>\n    <tr>\n      <th>5110359</th>\n      <td>242</td>\n      <td>228217</td>\n      <td>2016-07-15</td>\n      <td>24</td>\n      <td>0</td>\n      <td>13.63</td>\n      <td>1</td>\n      <td>0</td>\n      <td>7</td>\n      <td>2016</td>\n      <td>...</td>\n      <td>4</td>\n      <td>vea</td>\n      <td>buenos aires</td>\n      <td>-60.95419</td>\n      <td>-34.58321</td>\n      <td>1</td>\n      <td>0</td>\n      <td>glade toque toque rep limon 12mlx12 limon repu...</td>\n      <td>s. c. johnson y son de arg. s.a.</td>\n      <td>1</td>\n    </tr>\n    <tr>\n      <th>1369586</th>\n      <td>242</td>\n      <td>228217</td>\n      <td>2016-07-16</td>\n      <td>24</td>\n      <td>0</td>\n      <td>13.63</td>\n      <td>1</td>\n      <td>0</td>\n      <td>7</td>\n      <td>2016</td>\n      <td>...</td>\n      <td>4</td>\n      <td>vea</td>\n      <td>buenos aires</td>\n      <td>-60.95419</td>\n      <td>-34.58321</td>\n      <td>1</td>\n      <td>0</td>\n      <td>glade toque toque rep limon 12mlx12 limon repu...</td>\n      <td>s. c. johnson y son de arg. s.a.</td>\n      <td>1</td>\n    </tr>\n    <tr>\n      <th>2896543</th>\n      <td>242</td>\n      <td>228217</td>\n      <td>2016-07-16</td>\n      <td>24</td>\n      <td>0</td>\n      <td>13.63</td>\n      <td>1</td>\n      <td>0</td>\n      <td>7</td>\n      <td>2016</td>\n      <td>...</td>\n      <td>4</td>\n      <td>vea</td>\n      <td>buenos aires</td>\n      <td>-60.95419</td>\n      <td>-34.58321</td>\n      <td>1</td>\n      <td>0</td>\n      <td>glade toque toque rep limon 12mlx12 limon repu...</td>\n      <td>s. c. johnson y son de arg. s.a.</td>\n      <td>1</td>\n    </tr>\n    <tr>\n      <th>5948668</th>\n      <td>242</td>\n      <td>228217</td>\n      <td>2016-07-16</td>\n      <td>24</td>\n      <td>0</td>\n      <td>13.63</td>\n      <td>1</td>\n      <td>0</td>\n      <td>7</td>\n      <td>2016</td>\n      <td>...</td>\n      <td>4</td>\n      <td>vea</td>\n      <td>buenos aires</td>\n      <td>-60.95419</td>\n      <td>-34.58321</td>\n      <td>1</td>\n      <td>0</td>\n      <td>glade toque toque rep limon 12mlx12 limon repu...</td>\n      <td>s. c. johnson y son de arg. s.a.</td>\n      <td>1</td>\n    </tr>\n    <tr>\n      <th>...</th>\n      <td>...</td>\n      <td>...</td>\n      <td>...</td>\n      <td>...</td>\n      <td>...</td>\n      <td>...</td>\n      <td>...</td>\n      <td>...</td>\n      <td>...</td>\n      <td>...</td>\n      <td>...</td>\n      <td>...</td>\n      <td>...</td>\n      <td>...</td>\n      <td>...</td>\n      <td>...</td>\n      <td>...</td>\n      <td>...</td>\n      <td>...</td>\n      <td>...</td>\n      <td>...</td>\n    </tr>\n    <tr>\n      <th>1304838</th>\n      <td>242</td>\n      <td>228217</td>\n      <td>2016-10-13</td>\n      <td>15</td>\n      <td>0</td>\n      <td>16.16</td>\n      <td>1</td>\n      <td>0</td>\n      <td>10</td>\n      <td>2016</td>\n      <td>...</td>\n      <td>4</td>\n      <td>vea</td>\n      <td>buenos aires</td>\n      <td>-60.95419</td>\n      <td>-34.58321</td>\n      <td>1</td>\n      <td>0</td>\n      <td>glade toque toque rep limon 12mlx12 limon repu...</td>\n      <td>s. c. johnson y son de arg. s.a.</td>\n      <td>1</td>\n    </tr>\n    <tr>\n      <th>2826277</th>\n      <td>242</td>\n      <td>228217</td>\n      <td>2016-10-13</td>\n      <td>15</td>\n      <td>0</td>\n      <td>16.16</td>\n      <td>1</td>\n      <td>0</td>\n      <td>10</td>\n      <td>2016</td>\n      <td>...</td>\n      <td>4</td>\n      <td>vea</td>\n      <td>buenos aires</td>\n      <td>-60.95419</td>\n      <td>-34.58321</td>\n      <td>1</td>\n      <td>0</td>\n      <td>glade toque toque rep limon 12mlx12 limon repu...</td>\n      <td>s. c. johnson y son de arg. s.a.</td>\n      <td>1</td>\n    </tr>\n    <tr>\n      <th>5879236</th>\n      <td>242</td>\n      <td>228217</td>\n      <td>2016-10-13</td>\n      <td>15</td>\n      <td>0</td>\n      <td>16.16</td>\n      <td>1</td>\n      <td>0</td>\n      <td>10</td>\n      <td>2016</td>\n      <td>...</td>\n      <td>4</td>\n      <td>vea</td>\n      <td>buenos aires</td>\n      <td>-60.95419</td>\n      <td>-34.58321</td>\n      <td>1</td>\n      <td>0</td>\n      <td>glade toque toque rep limon 12mlx12 limon repu...</td>\n      <td>s. c. johnson y son de arg. s.a.</td>\n      <td>1</td>\n    </tr>\n    <tr>\n      <th>715612</th>\n      <td>242</td>\n      <td>228217</td>\n      <td>2016-10-16</td>\n      <td>15</td>\n      <td>0</td>\n      <td>16.16</td>\n      <td>1</td>\n      <td>0</td>\n      <td>10</td>\n      <td>2016</td>\n      <td>...</td>\n      <td>4</td>\n      <td>vea</td>\n      <td>buenos aires</td>\n      <td>-60.95419</td>\n      <td>-34.58321</td>\n      <td>1</td>\n      <td>0</td>\n      <td>glade toque toque rep limon 12mlx12 limon repu...</td>\n      <td>s. c. johnson y son de arg. s.a.</td>\n      <td>1</td>\n    </tr>\n    <tr>\n      <th>1701754</th>\n      <td>242</td>\n      <td>228217</td>\n      <td>2016-10-18</td>\n      <td>14</td>\n      <td>0</td>\n      <td>16.16</td>\n      <td>1</td>\n      <td>0</td>\n      <td>10</td>\n      <td>2016</td>\n      <td>...</td>\n      <td>4</td>\n      <td>vea</td>\n      <td>buenos aires</td>\n      <td>-60.95419</td>\n      <td>-34.58321</td>\n      <td>1</td>\n      <td>0</td>\n      <td>glade toque toque rep limon 12mlx12 limon repu...</td>\n      <td>s. c. johnson y son de arg. s.a.</td>\n      <td>1</td>\n    </tr>\n  </tbody>\n</table>\n<p>100 rows × 21 columns</p>\n</div>"
     },
     "execution_count": 141,
     "metadata": {},
     "output_type": "execute_result"
    }
   ],
   "source": [
    "df_wop=df_wop.sort_values(by=['idb','id_producto', 'fecha_trans'], ascending=True)\n",
    "df_wop.head(100)"
   ],
   "metadata": {
    "collapsed": false
   }
  },
  {
   "cell_type": "code",
   "execution_count": 26,
   "outputs": [
    {
     "data": {
      "text/plain": "2902249"
     },
     "execution_count": 26,
     "metadata": {},
     "output_type": "execute_result"
    }
   ],
   "source": [
    "df_wop.duplicated().sum()"
   ],
   "metadata": {
    "collapsed": false
   }
  },
  {
   "cell_type": "code",
   "execution_count": 27,
   "outputs": [
    {
     "data": {
      "text/plain": "          idb  id_producto fecha_trans  stock_unidades  venta_unidades  \\\n0        9023       507832  2019-03-29               0               0   \n1        9119       238237  2019-03-29               3               0   \n2         430       164149  2019-03-29              26               0   \n3         686       443521  2019-03-29               1               0   \n4        5626       342689  2019-03-29               5               0   \n...       ...          ...         ...             ...             ...   \n7628461  5207       415268  2018-02-12               5               0   \n7628462   266       467698  2018-02-12              13               0   \n7628463  9042       342745  2018-02-12              18               0   \n7628464  9025       427444  2018-02-12               6               0   \n7628465  5207       454813  2018-02-12              47               1   \n\n         precio_unitario  sigue_prod_en_rol  cd_abast  mov_month  mov_year  \\\n0                  34.70                  1      9217          3      2019   \n1                  45.70                  1      9217          3      2019   \n2                  39.48                  1      9217          3      2019   \n3                  53.22                  1      9217          3      2019   \n4                  38.23                  1      9217          3      2019   \n...                  ...                ...       ...        ...       ...   \n7628461           197.98                  1      9217          2      2018   \n7628462           207.08                  1      9217          2      2018   \n7628463            22.51                  1      9217          2      2018   \n7628464            76.73                  1      9217          2      2018   \n7628465            46.21                  1      9217          2      2018   \n\n         ...  id_cadena                     desc_cadena  \\\n0        ...          2  disco                            \n1        ...          4  vea                              \n2        ...          4  vea                              \n3        ...          4  vea                              \n4        ...          9  jumbo                            \n...      ...        ...                             ...   \n7628461  ...          9  jumbo                            \n7628462  ...          4  vea                              \n7628463  ...          2  disco                            \n7628464  ...          2  disco                            \n7628465  ...          9  jumbo                            \n\n                            desc_region   longitud    latitud  local  \\\n0        buenos aires                   -58.410916 -34.587061      1   \n1        buenos aires                   -58.434477 -34.614950      1   \n2        buenos aires                   -60.636206 -32.946868      1   \n3        buenos aires                   -58.526405 -33.010391      1   \n4        buenos aires                   -58.630924 -34.453186      1   \n...                                 ...        ...        ...    ...   \n7628461  buenos aires                   -58.278783 -34.759719      1   \n7628462  buenos aires                   -58.729802 -38.561925      1   \n7628463  buenos aires                   -57.975326 -34.934655      1   \n7628464  buenos aires                   -58.391347 -34.593032      1   \n7628465  buenos aires                   -58.278783 -34.759719      1   \n\n         punto_dist                                      desc_producto  \\\n0                 0  poett aerosol desodorante ambiental despertar ...   \n1                 0  poett poett lavanda full ab nuevo poett lavand...   \n2                 0    glade toque rep lavanda 9gr/12 ar lavanda 9 grm   \n3                 0           poett poett natural blends floral 450 gr   \n4                 0  glade desodorante de ambientes baby crss nueva...   \n...             ...                                                ...   \n7628461           0  freshmatic bosque magico aparato air wick lush...   \n7628462           0  glade automatico desodorante de ambientes manz...   \n7628463           0  glade desodorante de ambientes jazmin nueva fo...   \n7628464           0  glade aerosol gld automatico rep manzana y can...   \n7628465           0  glade glade aromatizante de ambientes frescura...   \n\n                             razon_social id_region  \n0                   clorox argentina s.a.         1  \n1                   clorox argentina s.a.         1  \n2        s. c. johnson y son de arg. s.a.         1  \n3                   clorox argentina s.a.         1  \n4        s. c. johnson y son de arg. s.a.         1  \n...                                   ...       ...  \n7628461  reckitt benckiser argentina s.a.         1  \n7628462  s. c. johnson y son de arg. s.a.         1  \n7628463  s. c. johnson y son de arg. s.a.         1  \n7628464  s. c. johnson y son de arg. s.a.         1  \n7628465  s. c. johnson y son de arg. s.a.         1  \n\n[4726217 rows x 21 columns]",
      "text/html": "<div>\n<style scoped>\n    .dataframe tbody tr th:only-of-type {\n        vertical-align: middle;\n    }\n\n    .dataframe tbody tr th {\n        vertical-align: top;\n    }\n\n    .dataframe thead th {\n        text-align: right;\n    }\n</style>\n<table border=\"1\" class=\"dataframe\">\n  <thead>\n    <tr style=\"text-align: right;\">\n      <th></th>\n      <th>idb</th>\n      <th>id_producto</th>\n      <th>fecha_trans</th>\n      <th>stock_unidades</th>\n      <th>venta_unidades</th>\n      <th>precio_unitario</th>\n      <th>sigue_prod_en_rol</th>\n      <th>cd_abast</th>\n      <th>mov_month</th>\n      <th>mov_year</th>\n      <th>...</th>\n      <th>id_cadena</th>\n      <th>desc_cadena</th>\n      <th>desc_region</th>\n      <th>longitud</th>\n      <th>latitud</th>\n      <th>local</th>\n      <th>punto_dist</th>\n      <th>desc_producto</th>\n      <th>razon_social</th>\n      <th>id_region</th>\n    </tr>\n  </thead>\n  <tbody>\n    <tr>\n      <th>0</th>\n      <td>9023</td>\n      <td>507832</td>\n      <td>2019-03-29</td>\n      <td>0</td>\n      <td>0</td>\n      <td>34.70</td>\n      <td>1</td>\n      <td>9217</td>\n      <td>3</td>\n      <td>2019</td>\n      <td>...</td>\n      <td>2</td>\n      <td>disco</td>\n      <td>buenos aires</td>\n      <td>-58.410916</td>\n      <td>-34.587061</td>\n      <td>1</td>\n      <td>0</td>\n      <td>poett aerosol desodorante ambiental despertar ...</td>\n      <td>clorox argentina s.a.</td>\n      <td>1</td>\n    </tr>\n    <tr>\n      <th>1</th>\n      <td>9119</td>\n      <td>238237</td>\n      <td>2019-03-29</td>\n      <td>3</td>\n      <td>0</td>\n      <td>45.70</td>\n      <td>1</td>\n      <td>9217</td>\n      <td>3</td>\n      <td>2019</td>\n      <td>...</td>\n      <td>4</td>\n      <td>vea</td>\n      <td>buenos aires</td>\n      <td>-58.434477</td>\n      <td>-34.614950</td>\n      <td>1</td>\n      <td>0</td>\n      <td>poett poett lavanda full ab nuevo poett lavand...</td>\n      <td>clorox argentina s.a.</td>\n      <td>1</td>\n    </tr>\n    <tr>\n      <th>2</th>\n      <td>430</td>\n      <td>164149</td>\n      <td>2019-03-29</td>\n      <td>26</td>\n      <td>0</td>\n      <td>39.48</td>\n      <td>1</td>\n      <td>9217</td>\n      <td>3</td>\n      <td>2019</td>\n      <td>...</td>\n      <td>4</td>\n      <td>vea</td>\n      <td>buenos aires</td>\n      <td>-60.636206</td>\n      <td>-32.946868</td>\n      <td>1</td>\n      <td>0</td>\n      <td>glade toque rep lavanda 9gr/12 ar lavanda 9 grm</td>\n      <td>s. c. johnson y son de arg. s.a.</td>\n      <td>1</td>\n    </tr>\n    <tr>\n      <th>3</th>\n      <td>686</td>\n      <td>443521</td>\n      <td>2019-03-29</td>\n      <td>1</td>\n      <td>0</td>\n      <td>53.22</td>\n      <td>1</td>\n      <td>9217</td>\n      <td>3</td>\n      <td>2019</td>\n      <td>...</td>\n      <td>4</td>\n      <td>vea</td>\n      <td>buenos aires</td>\n      <td>-58.526405</td>\n      <td>-33.010391</td>\n      <td>1</td>\n      <td>0</td>\n      <td>poett poett natural blends floral 450 gr</td>\n      <td>clorox argentina s.a.</td>\n      <td>1</td>\n    </tr>\n    <tr>\n      <th>4</th>\n      <td>5626</td>\n      <td>342689</td>\n      <td>2019-03-29</td>\n      <td>5</td>\n      <td>0</td>\n      <td>38.23</td>\n      <td>1</td>\n      <td>9217</td>\n      <td>3</td>\n      <td>2019</td>\n      <td>...</td>\n      <td>9</td>\n      <td>jumbo</td>\n      <td>buenos aires</td>\n      <td>-58.630924</td>\n      <td>-34.453186</td>\n      <td>1</td>\n      <td>0</td>\n      <td>glade desodorante de ambientes baby crss nueva...</td>\n      <td>s. c. johnson y son de arg. s.a.</td>\n      <td>1</td>\n    </tr>\n    <tr>\n      <th>...</th>\n      <td>...</td>\n      <td>...</td>\n      <td>...</td>\n      <td>...</td>\n      <td>...</td>\n      <td>...</td>\n      <td>...</td>\n      <td>...</td>\n      <td>...</td>\n      <td>...</td>\n      <td>...</td>\n      <td>...</td>\n      <td>...</td>\n      <td>...</td>\n      <td>...</td>\n      <td>...</td>\n      <td>...</td>\n      <td>...</td>\n      <td>...</td>\n      <td>...</td>\n      <td>...</td>\n    </tr>\n    <tr>\n      <th>7628461</th>\n      <td>5207</td>\n      <td>415268</td>\n      <td>2018-02-12</td>\n      <td>5</td>\n      <td>0</td>\n      <td>197.98</td>\n      <td>1</td>\n      <td>9217</td>\n      <td>2</td>\n      <td>2018</td>\n      <td>...</td>\n      <td>9</td>\n      <td>jumbo</td>\n      <td>buenos aires</td>\n      <td>-58.278783</td>\n      <td>-34.759719</td>\n      <td>1</td>\n      <td>0</td>\n      <td>freshmatic bosque magico aparato air wick lush...</td>\n      <td>reckitt benckiser argentina s.a.</td>\n      <td>1</td>\n    </tr>\n    <tr>\n      <th>7628462</th>\n      <td>266</td>\n      <td>467698</td>\n      <td>2018-02-12</td>\n      <td>13</td>\n      <td>0</td>\n      <td>207.08</td>\n      <td>1</td>\n      <td>9217</td>\n      <td>2</td>\n      <td>2018</td>\n      <td>...</td>\n      <td>4</td>\n      <td>vea</td>\n      <td>buenos aires</td>\n      <td>-58.729802</td>\n      <td>-38.561925</td>\n      <td>1</td>\n      <td>0</td>\n      <td>glade automatico desodorante de ambientes manz...</td>\n      <td>s. c. johnson y son de arg. s.a.</td>\n      <td>1</td>\n    </tr>\n    <tr>\n      <th>7628463</th>\n      <td>9042</td>\n      <td>342745</td>\n      <td>2018-02-12</td>\n      <td>18</td>\n      <td>0</td>\n      <td>22.51</td>\n      <td>1</td>\n      <td>9217</td>\n      <td>2</td>\n      <td>2018</td>\n      <td>...</td>\n      <td>2</td>\n      <td>disco</td>\n      <td>buenos aires</td>\n      <td>-57.975326</td>\n      <td>-34.934655</td>\n      <td>1</td>\n      <td>0</td>\n      <td>glade desodorante de ambientes jazmin nueva fo...</td>\n      <td>s. c. johnson y son de arg. s.a.</td>\n      <td>1</td>\n    </tr>\n    <tr>\n      <th>7628464</th>\n      <td>9025</td>\n      <td>427444</td>\n      <td>2018-02-12</td>\n      <td>6</td>\n      <td>0</td>\n      <td>76.73</td>\n      <td>1</td>\n      <td>9217</td>\n      <td>2</td>\n      <td>2018</td>\n      <td>...</td>\n      <td>2</td>\n      <td>disco</td>\n      <td>buenos aires</td>\n      <td>-58.391347</td>\n      <td>-34.593032</td>\n      <td>1</td>\n      <td>0</td>\n      <td>glade aerosol gld automatico rep manzana y can...</td>\n      <td>s. c. johnson y son de arg. s.a.</td>\n      <td>1</td>\n    </tr>\n    <tr>\n      <th>7628465</th>\n      <td>5207</td>\n      <td>454813</td>\n      <td>2018-02-12</td>\n      <td>47</td>\n      <td>1</td>\n      <td>46.21</td>\n      <td>1</td>\n      <td>9217</td>\n      <td>2</td>\n      <td>2018</td>\n      <td>...</td>\n      <td>9</td>\n      <td>jumbo</td>\n      <td>buenos aires</td>\n      <td>-58.278783</td>\n      <td>-34.759719</td>\n      <td>1</td>\n      <td>0</td>\n      <td>glade glade aromatizante de ambientes frescura...</td>\n      <td>s. c. johnson y son de arg. s.a.</td>\n      <td>1</td>\n    </tr>\n  </tbody>\n</table>\n<p>4726217 rows × 21 columns</p>\n</div>"
     },
     "execution_count": 27,
     "metadata": {},
     "output_type": "execute_result"
    }
   ],
   "source": [
    "df_wop.drop_duplicates()"
   ],
   "metadata": {
    "collapsed": false
   }
  },
  {
   "cell_type": "code",
   "execution_count": 28,
   "outputs": [
    {
     "name": "stdout",
     "output_type": "stream",
     "text": [
      "<class 'pandas.core.frame.DataFrame'>\n",
      "RangeIndex: 7628466 entries, 0 to 7628465\n",
      "Data columns (total 21 columns):\n",
      " #   Column             Dtype  \n",
      "---  ------             -----  \n",
      " 0   idb                int64  \n",
      " 1   id_producto        int64  \n",
      " 2   fecha_trans        object \n",
      " 3   stock_unidades     int64  \n",
      " 4   venta_unidades     int64  \n",
      " 5   precio_unitario    float64\n",
      " 6   sigue_prod_en_rol  int64  \n",
      " 7   cd_abast           int64  \n",
      " 8   mov_month          int64  \n",
      " 9   mov_year           int64  \n",
      " 10  mov_weekday        int64  \n",
      " 11  id_cadena          int64  \n",
      " 12  desc_cadena        object \n",
      " 13  desc_region        object \n",
      " 14  longitud           float64\n",
      " 15  latitud            float64\n",
      " 16  local              int64  \n",
      " 17  punto_dist         int64  \n",
      " 18  desc_producto      object \n",
      " 19  razon_social       object \n",
      " 20  id_region          int64  \n",
      "dtypes: float64(3), int64(13), object(5)\n",
      "memory usage: 1.2+ GB\n"
     ]
    }
   ],
   "source": [
    "df_wop.info()"
   ],
   "metadata": {
    "collapsed": false
   }
  },
  {
   "cell_type": "code",
   "execution_count": 29,
   "outputs": [
    {
     "name": "stdout",
     "output_type": "stream",
     "text": [
      "<class 'pandas.core.frame.DataFrame'>\n",
      "RangeIndex: 591692 entries, 0 to 591691\n",
      "Data columns (total 26 columns):\n",
      " #   Column                  Non-Null Count   Dtype  \n",
      "---  ------                  --------------   -----  \n",
      " 0   idb                     591692 non-null  int64  \n",
      " 1   id_producto             591692 non-null  int64  \n",
      " 2   fecha_trans             591692 non-null  object \n",
      " 3   fecha_desde             0 non-null       float64\n",
      " 4   fecha_hasta             0 non-null       float64\n",
      " 5   stock_unidades          591692 non-null  int64  \n",
      " 6   venta_unidades          591692 non-null  int64  \n",
      " 7   precio_unitario         591692 non-null  float64\n",
      " 8   sigue_prod_en_rol       591692 non-null  int64  \n",
      " 9   cd_abast                591692 non-null  int64  \n",
      " 10  mov_month               591692 non-null  int64  \n",
      " 11  mov_year                591692 non-null  int64  \n",
      " 12  mov_weekday             591692 non-null  int64  \n",
      " 13  ventas_estimadas_promo  0 non-null       float64\n",
      " 14  nro_prom                0 non-null       float64\n",
      " 15  duracion_promo          0 non-null       float64\n",
      " 16  id_cadena               591692 non-null  int64  \n",
      " 17  desc_cadena             591692 non-null  object \n",
      " 18  desc_region             591692 non-null  object \n",
      " 19  longitud                591692 non-null  float64\n",
      " 20  latitud                 591692 non-null  float64\n",
      " 21  local                   591692 non-null  int64  \n",
      " 22  punto_dist              591692 non-null  int64  \n",
      " 23  desc_producto           0 non-null       float64\n",
      " 24  razon_social            0 non-null       float64\n",
      " 25  id_region               0 non-null       float64\n",
      "dtypes: float64(11), int64(12), object(3)\n",
      "memory usage: 117.4+ MB\n"
     ]
    }
   ],
   "source": [
    "df_wopp.info()"
   ],
   "metadata": {
    "collapsed": false
   }
  },
  {
   "cell_type": "code",
   "execution_count": 30,
   "outputs": [
    {
     "data": {
      "text/plain": "0"
     },
     "execution_count": 30,
     "metadata": {},
     "output_type": "execute_result"
    }
   ],
   "source": [
    "df_wopp.duplicated().sum()"
   ],
   "metadata": {
    "collapsed": false
   }
  },
  {
   "cell_type": "code",
   "execution_count": 52,
   "outputs": [],
   "source": [
    "df=pd.concat([df_wop, df_wp, df_wopp],keys=[\"with promo\", \"without promo\", \"without product info\"], names=\"type\", sort=False, ignore_index=True)"
   ],
   "metadata": {
    "collapsed": false
   }
  },
  {
   "cell_type": "code",
   "execution_count": 53,
   "outputs": [
    {
     "data": {
      "text/plain": "                idb   id_producto  stock_unidades  venta_unidades  \\\ncount  8.356436e+06  8.356436e+06    8.356436e+06    8.356436e+06   \nmean   6.989843e+03  3.786228e+05    2.049318e+01    3.136131e-01   \nstd    3.299995e+03  9.155368e+04    1.453685e+02    8.866158e-01   \nmin    2.420000e+02  1.641460e+05   -5.420000e+02   -1.200000e+01   \n25%    5.208000e+03  2.929450e+05    6.000000e+00    0.000000e+00   \n50%    9.026000e+03  4.152680e+05    1.000000e+01    0.000000e+00   \n75%    9.159000e+03  4.583930e+05    1.700000e+01    0.000000e+00   \nmax    9.977000e+03  5.113260e+05    1.621800e+04    6.120000e+02   \n\n       precio_unitario  sigue_prod_en_rol      cd_abast     mov_month  \\\ncount     8.356436e+06       8.356436e+06  8.356436e+06  8.356436e+06   \nmean      6.428687e+01       9.610044e-01  5.434157e+03  6.487117e+00   \nstd       6.586838e+01       1.935844e-01  4.533935e+03  3.452958e+00   \nmin       0.000000e+00       0.000000e+00  0.000000e+00  1.000000e+00   \n25%       2.251000e+01       1.000000e+00  0.000000e+00  4.000000e+00   \n50%       3.823000e+01       1.000000e+00  9.217000e+03  6.000000e+00   \n75%       7.673000e+01       1.000000e+00  9.217000e+03  1.000000e+01   \nmax       4.238100e+02       1.000000e+00  9.217000e+03  1.200000e+01   \n\n           mov_year   mov_weekday     id_cadena      longitud       latitud  \\\ncount  8.356436e+06  8.356436e+06  8.356436e+06  8.356436e+06  8.356436e+06   \nmean   2.017666e+03  3.001924e+00  4.277516e+00 -5.872825e+01 -3.506379e+01   \nstd    9.812633e-01  2.000141e+00  2.618616e+00  1.394622e+00  2.035644e+00   \nmin    2.016000e+03  0.000000e+00  2.000000e+00 -6.749604e+01 -4.587265e+01   \n25%    2.017000e+03  1.000000e+00  2.000000e+00 -5.869611e+01 -3.498957e+01   \n50%    2.018000e+03  3.000000e+00  4.000000e+00 -5.846482e+01 -3.462789e+01   \n75%    2.018000e+03  5.000000e+00  4.000000e+00 -5.839790e+01 -3.457732e+01   \nmax    2.019000e+03  6.000000e+00  9.000000e+00 -5.668353e+01 -2.914198e+01   \n\n              local    punto_dist  id_region  ventas_estimadas_promo  \\\ncount  8.356436e+06  8.356436e+06  7757988.0           136278.000000   \nmean   9.897814e-01  1.021859e-02        1.0               23.915526   \nstd    1.005692e-01  1.005692e-01        0.0               31.778576   \nmin    0.000000e+00  0.000000e+00        1.0                0.000000   \n25%    1.000000e+00  0.000000e+00        1.0                4.000000   \n50%    1.000000e+00  0.000000e+00        1.0               12.000000   \n75%    1.000000e+00  0.000000e+00        1.0               30.000000   \nmax    1.000000e+00  1.000000e+00        1.0              300.000000   \n\n            nro_prom  duracion_promo  \ncount  136278.000000   136278.000000  \nmean   477085.219096        9.107919  \nstd     39563.177966        3.569107  \nmin    425196.000000        3.000000  \n25%    440560.000000        7.000000  \n50%    473864.000000        7.000000  \n75%    518153.000000        9.000000  \nmax    541066.000000       18.000000  ",
      "text/html": "<div>\n<style scoped>\n    .dataframe tbody tr th:only-of-type {\n        vertical-align: middle;\n    }\n\n    .dataframe tbody tr th {\n        vertical-align: top;\n    }\n\n    .dataframe thead th {\n        text-align: right;\n    }\n</style>\n<table border=\"1\" class=\"dataframe\">\n  <thead>\n    <tr style=\"text-align: right;\">\n      <th></th>\n      <th>idb</th>\n      <th>id_producto</th>\n      <th>stock_unidades</th>\n      <th>venta_unidades</th>\n      <th>precio_unitario</th>\n      <th>sigue_prod_en_rol</th>\n      <th>cd_abast</th>\n      <th>mov_month</th>\n      <th>mov_year</th>\n      <th>mov_weekday</th>\n      <th>id_cadena</th>\n      <th>longitud</th>\n      <th>latitud</th>\n      <th>local</th>\n      <th>punto_dist</th>\n      <th>id_region</th>\n      <th>ventas_estimadas_promo</th>\n      <th>nro_prom</th>\n      <th>duracion_promo</th>\n    </tr>\n  </thead>\n  <tbody>\n    <tr>\n      <th>count</th>\n      <td>8.356436e+06</td>\n      <td>8.356436e+06</td>\n      <td>8.356436e+06</td>\n      <td>8.356436e+06</td>\n      <td>8.356436e+06</td>\n      <td>8.356436e+06</td>\n      <td>8.356436e+06</td>\n      <td>8.356436e+06</td>\n      <td>8.356436e+06</td>\n      <td>8.356436e+06</td>\n      <td>8.356436e+06</td>\n      <td>8.356436e+06</td>\n      <td>8.356436e+06</td>\n      <td>8.356436e+06</td>\n      <td>8.356436e+06</td>\n      <td>7757988.0</td>\n      <td>136278.000000</td>\n      <td>136278.000000</td>\n      <td>136278.000000</td>\n    </tr>\n    <tr>\n      <th>mean</th>\n      <td>6.989843e+03</td>\n      <td>3.786228e+05</td>\n      <td>2.049318e+01</td>\n      <td>3.136131e-01</td>\n      <td>6.428687e+01</td>\n      <td>9.610044e-01</td>\n      <td>5.434157e+03</td>\n      <td>6.487117e+00</td>\n      <td>2.017666e+03</td>\n      <td>3.001924e+00</td>\n      <td>4.277516e+00</td>\n      <td>-5.872825e+01</td>\n      <td>-3.506379e+01</td>\n      <td>9.897814e-01</td>\n      <td>1.021859e-02</td>\n      <td>1.0</td>\n      <td>23.915526</td>\n      <td>477085.219096</td>\n      <td>9.107919</td>\n    </tr>\n    <tr>\n      <th>std</th>\n      <td>3.299995e+03</td>\n      <td>9.155368e+04</td>\n      <td>1.453685e+02</td>\n      <td>8.866158e-01</td>\n      <td>6.586838e+01</td>\n      <td>1.935844e-01</td>\n      <td>4.533935e+03</td>\n      <td>3.452958e+00</td>\n      <td>9.812633e-01</td>\n      <td>2.000141e+00</td>\n      <td>2.618616e+00</td>\n      <td>1.394622e+00</td>\n      <td>2.035644e+00</td>\n      <td>1.005692e-01</td>\n      <td>1.005692e-01</td>\n      <td>0.0</td>\n      <td>31.778576</td>\n      <td>39563.177966</td>\n      <td>3.569107</td>\n    </tr>\n    <tr>\n      <th>min</th>\n      <td>2.420000e+02</td>\n      <td>1.641460e+05</td>\n      <td>-5.420000e+02</td>\n      <td>-1.200000e+01</td>\n      <td>0.000000e+00</td>\n      <td>0.000000e+00</td>\n      <td>0.000000e+00</td>\n      <td>1.000000e+00</td>\n      <td>2.016000e+03</td>\n      <td>0.000000e+00</td>\n      <td>2.000000e+00</td>\n      <td>-6.749604e+01</td>\n      <td>-4.587265e+01</td>\n      <td>0.000000e+00</td>\n      <td>0.000000e+00</td>\n      <td>1.0</td>\n      <td>0.000000</td>\n      <td>425196.000000</td>\n      <td>3.000000</td>\n    </tr>\n    <tr>\n      <th>25%</th>\n      <td>5.208000e+03</td>\n      <td>2.929450e+05</td>\n      <td>6.000000e+00</td>\n      <td>0.000000e+00</td>\n      <td>2.251000e+01</td>\n      <td>1.000000e+00</td>\n      <td>0.000000e+00</td>\n      <td>4.000000e+00</td>\n      <td>2.017000e+03</td>\n      <td>1.000000e+00</td>\n      <td>2.000000e+00</td>\n      <td>-5.869611e+01</td>\n      <td>-3.498957e+01</td>\n      <td>1.000000e+00</td>\n      <td>0.000000e+00</td>\n      <td>1.0</td>\n      <td>4.000000</td>\n      <td>440560.000000</td>\n      <td>7.000000</td>\n    </tr>\n    <tr>\n      <th>50%</th>\n      <td>9.026000e+03</td>\n      <td>4.152680e+05</td>\n      <td>1.000000e+01</td>\n      <td>0.000000e+00</td>\n      <td>3.823000e+01</td>\n      <td>1.000000e+00</td>\n      <td>9.217000e+03</td>\n      <td>6.000000e+00</td>\n      <td>2.018000e+03</td>\n      <td>3.000000e+00</td>\n      <td>4.000000e+00</td>\n      <td>-5.846482e+01</td>\n      <td>-3.462789e+01</td>\n      <td>1.000000e+00</td>\n      <td>0.000000e+00</td>\n      <td>1.0</td>\n      <td>12.000000</td>\n      <td>473864.000000</td>\n      <td>7.000000</td>\n    </tr>\n    <tr>\n      <th>75%</th>\n      <td>9.159000e+03</td>\n      <td>4.583930e+05</td>\n      <td>1.700000e+01</td>\n      <td>0.000000e+00</td>\n      <td>7.673000e+01</td>\n      <td>1.000000e+00</td>\n      <td>9.217000e+03</td>\n      <td>1.000000e+01</td>\n      <td>2.018000e+03</td>\n      <td>5.000000e+00</td>\n      <td>4.000000e+00</td>\n      <td>-5.839790e+01</td>\n      <td>-3.457732e+01</td>\n      <td>1.000000e+00</td>\n      <td>0.000000e+00</td>\n      <td>1.0</td>\n      <td>30.000000</td>\n      <td>518153.000000</td>\n      <td>9.000000</td>\n    </tr>\n    <tr>\n      <th>max</th>\n      <td>9.977000e+03</td>\n      <td>5.113260e+05</td>\n      <td>1.621800e+04</td>\n      <td>6.120000e+02</td>\n      <td>4.238100e+02</td>\n      <td>1.000000e+00</td>\n      <td>9.217000e+03</td>\n      <td>1.200000e+01</td>\n      <td>2.019000e+03</td>\n      <td>6.000000e+00</td>\n      <td>9.000000e+00</td>\n      <td>-5.668353e+01</td>\n      <td>-2.914198e+01</td>\n      <td>1.000000e+00</td>\n      <td>1.000000e+00</td>\n      <td>1.0</td>\n      <td>300.000000</td>\n      <td>541066.000000</td>\n      <td>18.000000</td>\n    </tr>\n  </tbody>\n</table>\n</div>"
     },
     "execution_count": 53,
     "metadata": {},
     "output_type": "execute_result"
    }
   ],
   "source": [
    "df.describe()"
   ],
   "metadata": {
    "collapsed": false
   }
  },
  {
   "cell_type": "code",
   "execution_count": 54,
   "outputs": [
    {
     "name": "stdout",
     "output_type": "stream",
     "text": [
      "<class 'pandas.core.frame.DataFrame'>\n",
      "RangeIndex: 8356436 entries, 0 to 8356435\n",
      "Data columns (total 26 columns):\n",
      " #   Column                  Dtype  \n",
      "---  ------                  -----  \n",
      " 0   idb                     int64  \n",
      " 1   id_producto             int64  \n",
      " 2   fecha_trans             object \n",
      " 3   stock_unidades          int64  \n",
      " 4   venta_unidades          int64  \n",
      " 5   precio_unitario         float64\n",
      " 6   sigue_prod_en_rol       int64  \n",
      " 7   cd_abast                int64  \n",
      " 8   mov_month               int64  \n",
      " 9   mov_year                int64  \n",
      " 10  mov_weekday             int64  \n",
      " 11  id_cadena               int64  \n",
      " 12  desc_cadena             object \n",
      " 13  desc_region             object \n",
      " 14  longitud                float64\n",
      " 15  latitud                 float64\n",
      " 16  local                   int64  \n",
      " 17  punto_dist              int64  \n",
      " 18  desc_producto           object \n",
      " 19  razon_social            object \n",
      " 20  id_region               float64\n",
      " 21  fecha_desde             object \n",
      " 22  fecha_hasta             object \n",
      " 23  ventas_estimadas_promo  float64\n",
      " 24  nro_prom                float64\n",
      " 25  duracion_promo          float64\n",
      "dtypes: float64(7), int64(12), object(7)\n",
      "memory usage: 1.6+ GB\n"
     ]
    }
   ],
   "source": [
    "df.info()"
   ],
   "metadata": {
    "collapsed": false
   }
  },
  {
   "cell_type": "code",
   "execution_count": 55,
   "outputs": [
    {
     "data": {
      "text/plain": "2902249"
     },
     "execution_count": 55,
     "metadata": {},
     "output_type": "execute_result"
    }
   ],
   "source": [
    "df.duplicated().sum()"
   ],
   "metadata": {
    "collapsed": false
   }
  },
  {
   "cell_type": "code",
   "execution_count": 95,
   "outputs": [],
   "source": [
    "df_cleaned=df.drop_duplicates()"
   ],
   "metadata": {
    "collapsed": false
   }
  },
  {
   "cell_type": "code",
   "execution_count": 57,
   "outputs": [
    {
     "name": "stdout",
     "output_type": "stream",
     "text": [
      "<class 'pandas.core.frame.DataFrame'>\n",
      "Int64Index: 5454187 entries, 0 to 8356435\n",
      "Data columns (total 26 columns):\n",
      " #   Column                  Dtype  \n",
      "---  ------                  -----  \n",
      " 0   idb                     int64  \n",
      " 1   id_producto             int64  \n",
      " 2   fecha_trans             object \n",
      " 3   stock_unidades          int64  \n",
      " 4   venta_unidades          int64  \n",
      " 5   precio_unitario         float64\n",
      " 6   sigue_prod_en_rol       int64  \n",
      " 7   cd_abast                int64  \n",
      " 8   mov_month               int64  \n",
      " 9   mov_year                int64  \n",
      " 10  mov_weekday             int64  \n",
      " 11  id_cadena               int64  \n",
      " 12  desc_cadena             object \n",
      " 13  desc_region             object \n",
      " 14  longitud                float64\n",
      " 15  latitud                 float64\n",
      " 16  local                   int64  \n",
      " 17  punto_dist              int64  \n",
      " 18  desc_producto           object \n",
      " 19  razon_social            object \n",
      " 20  id_region               float64\n",
      " 21  fecha_desde             object \n",
      " 22  fecha_hasta             object \n",
      " 23  ventas_estimadas_promo  float64\n",
      " 24  nro_prom                float64\n",
      " 25  duracion_promo          float64\n",
      "dtypes: float64(7), int64(12), object(7)\n",
      "memory usage: 1.1+ GB\n"
     ]
    }
   ],
   "source": [
    "df_cleaned.info()"
   ],
   "metadata": {
    "collapsed": false
   }
  },
  {
   "cell_type": "code",
   "execution_count": 45,
   "outputs": [
    {
     "data": {
      "text/plain": "array([    nan, 538897., 541066., 540948., 537641., 540438., 537880.,\n       537640., 537526., 534329., 528346., 533035., 531117., 530475.,\n       527744., 523202., 523199., 528354., 528297., 526642., 518153.,\n       521675., 508392., 517111., 517727., 516706., 514859., 502704.,\n       502706., 509499., 508138., 502702., 502700., 506453., 506458.,\n       505308., 503379., 501260., 497898., 494122., 493122., 495391.,\n       491206., 493272., 491204., 491205., 492977., 490361., 490360.,\n       488290., 484090., 484088., 484062., 480036., 480040., 480039.,\n       482626., 482703., 479935., 476757., 476707., 473865., 473868.,\n       473864., 470166., 469699., 459100., 459098., 463518., 463031.,\n       459096., 462509., 459088., 459441., 459444., 459445., 456807.,\n       456804., 457107., 453690., 453692., 449953., 452913., 452976.,\n       450777., 450801., 446144., 446146., 446149., 444289., 440560.,\n       440561., 443296., 440565., 440666., 436828., 436833., 436830.,\n       439935., 437028., 432481., 432456., 432776., 435968., 432344.,\n       432327., 432217., 432218., 428918., 428908., 428910., 425198.,\n       425196., 425200., 429067., 429068., 429151.])"
     },
     "execution_count": 45,
     "metadata": {},
     "output_type": "execute_result"
    }
   ],
   "source": [
    "df_cleaned.nro_prom.unique()"
   ],
   "metadata": {
    "collapsed": false
   }
  },
  {
   "cell_type": "code",
   "execution_count": 58,
   "outputs": [],
   "source": [
    "df_cleaned=df.fillna(0)"
   ],
   "metadata": {
    "collapsed": false
   }
  },
  {
   "cell_type": "code",
   "execution_count": 59,
   "outputs": [
    {
     "data": {
      "text/plain": "array([    nan, 538897., 541066., 540948., 537641., 540438., 537880.,\n       537640., 537526., 534329., 528346., 533035., 531117., 530475.,\n       527744., 523202., 523199., 528354., 528297., 526642., 518153.,\n       521675., 508392., 517111., 517727., 516706., 514859., 502704.,\n       502706., 509499., 508138., 502702., 502700., 506453., 506458.,\n       505308., 503379., 501260., 497898., 494122., 493122., 495391.,\n       491206., 493272., 491204., 491205., 492977., 490361., 490360.,\n       488290., 484090., 484088., 484062., 480036., 480040., 480039.,\n       482626., 482703., 479935., 476757., 476707., 473865., 473868.,\n       473864., 470166., 469699., 459100., 459098., 463518., 463031.,\n       459096., 462509., 459088., 459441., 459444., 459445., 456807.,\n       456804., 457107., 453690., 453692., 449953., 452913., 452976.,\n       450777., 450801., 446144., 446146., 446149., 444289., 440560.,\n       440561., 443296., 440565., 440666., 436828., 436833., 436830.,\n       439935., 437028., 432481., 432456., 432776., 435968., 432344.,\n       432327., 432217., 432218., 428918., 428908., 428910., 425198.,\n       425196., 425200., 429067., 429068., 429151.])"
     },
     "execution_count": 59,
     "metadata": {},
     "output_type": "execute_result"
    }
   ],
   "source": [
    "df_cleaned.nro_prom.unique()"
   ],
   "metadata": {
    "collapsed": false
   }
  },
  {
   "cell_type": "code",
   "execution_count": 96,
   "outputs": [],
   "source": [
    "df_cleaned=df_cleaned.sort_values(by=['idb','id_producto', 'fecha_trans'], ascending=True)\n",
    "#df_pproducto=df3.groupby(['idb', id_producto],as_index=False )"
   ],
   "metadata": {
    "collapsed": false
   }
  },
  {
   "cell_type": "code",
   "execution_count": 97,
   "outputs": [
    {
     "data": {
      "text/plain": "         idb  id_producto fecha_trans  stock_unidades  venta_unidades  \\\n529961   242       228217  2016-07-15              24               0   \n1369586  242       228217  2016-07-16              24               0   \n2133603  242       228217  2016-07-17              24               0   \n529630   242       228217  2016-07-21              24               0   \n2285438  242       228217  2016-07-22              24               0   \n...      ...          ...         ...             ...             ...   \n3587331  242       238239  2017-04-25              12               0   \n6882858  242       238239  2017-04-27              12               0   \n2614115  242       238239  2017-04-28              12               0   \n701310   242       238239  2017-04-29              12               0   \n15767    242       238239  2017-05-01              12               0   \n\n         precio_unitario  sigue_prod_en_rol  cd_abast  mov_month  mov_year  \\\n529961             13.63                  1         0          7      2016   \n1369586            13.63                  1         0          7      2016   \n2133603            13.63                  1         0          7      2016   \n529630             13.63                  1         0          7      2016   \n2285438            13.63                  1         0          7      2016   \n...                  ...                ...       ...        ...       ...   \n3587331            16.77                  1         0          4      2017   \n6882858            16.77                  1         0          4      2017   \n2614115            16.77                  1         0          4      2017   \n701310             16.77                  1         0          4      2017   \n15767              16.77                  1         0          5      2017   \n\n         ...  local  punto_dist  \\\n529961   ...      1           0   \n1369586  ...      1           0   \n2133603  ...      1           0   \n529630   ...      1           0   \n2285438  ...      1           0   \n...      ...    ...         ...   \n3587331  ...      1           0   \n6882858  ...      1           0   \n2614115  ...      1           0   \n701310   ...      1           0   \n15767    ...      1           0   \n\n                                             desc_producto  \\\n529961   glade toque toque rep limon 12mlx12 limon repu...   \n1369586  glade toque toque rep limon 12mlx12 limon repu...   \n2133603  glade toque toque rep limon 12mlx12 limon repu...   \n529630   glade toque toque rep limon 12mlx12 limon repu...   \n2285438  glade toque toque rep limon 12mlx12 limon repu...   \n...                                                    ...   \n3587331  poett poett lavanda refill ab nuevo poett lava...   \n6882858  poett poett lavanda refill ab nuevo poett lava...   \n2614115  poett poett lavanda refill ab nuevo poett lava...   \n701310   poett poett lavanda refill ab nuevo poett lava...   \n15767    poett poett lavanda refill ab nuevo poett lava...   \n\n                             razon_social  id_region  fecha_desde  \\\n529961   s. c. johnson y son de arg. s.a.        1.0          NaN   \n1369586  s. c. johnson y son de arg. s.a.        1.0          NaN   \n2133603  s. c. johnson y son de arg. s.a.        1.0          NaN   \n529630   s. c. johnson y son de arg. s.a.        1.0          NaN   \n2285438  s. c. johnson y son de arg. s.a.        1.0          NaN   \n...                                   ...        ...          ...   \n3587331             clorox argentina s.a.        1.0          NaN   \n6882858             clorox argentina s.a.        1.0          NaN   \n2614115             clorox argentina s.a.        1.0          NaN   \n701310              clorox argentina s.a.        1.0          NaN   \n15767               clorox argentina s.a.        1.0          NaN   \n\n         fecha_hasta  ventas_estimadas_promo nro_prom duracion_promo  \n529961           NaN                     NaN      NaN            NaN  \n1369586          NaN                     NaN      NaN            NaN  \n2133603          NaN                     NaN      NaN            NaN  \n529630           NaN                     NaN      NaN            NaN  \n2285438          NaN                     NaN      NaN            NaN  \n...              ...                     ...      ...            ...  \n3587331          NaN                     NaN      NaN            NaN  \n6882858          NaN                     NaN      NaN            NaN  \n2614115          NaN                     NaN      NaN            NaN  \n701310           NaN                     NaN      NaN            NaN  \n15767            NaN                     NaN      NaN            NaN  \n\n[1000 rows x 26 columns]",
      "text/html": "<div>\n<style scoped>\n    .dataframe tbody tr th:only-of-type {\n        vertical-align: middle;\n    }\n\n    .dataframe tbody tr th {\n        vertical-align: top;\n    }\n\n    .dataframe thead th {\n        text-align: right;\n    }\n</style>\n<table border=\"1\" class=\"dataframe\">\n  <thead>\n    <tr style=\"text-align: right;\">\n      <th></th>\n      <th>idb</th>\n      <th>id_producto</th>\n      <th>fecha_trans</th>\n      <th>stock_unidades</th>\n      <th>venta_unidades</th>\n      <th>precio_unitario</th>\n      <th>sigue_prod_en_rol</th>\n      <th>cd_abast</th>\n      <th>mov_month</th>\n      <th>mov_year</th>\n      <th>...</th>\n      <th>local</th>\n      <th>punto_dist</th>\n      <th>desc_producto</th>\n      <th>razon_social</th>\n      <th>id_region</th>\n      <th>fecha_desde</th>\n      <th>fecha_hasta</th>\n      <th>ventas_estimadas_promo</th>\n      <th>nro_prom</th>\n      <th>duracion_promo</th>\n    </tr>\n  </thead>\n  <tbody>\n    <tr>\n      <th>529961</th>\n      <td>242</td>\n      <td>228217</td>\n      <td>2016-07-15</td>\n      <td>24</td>\n      <td>0</td>\n      <td>13.63</td>\n      <td>1</td>\n      <td>0</td>\n      <td>7</td>\n      <td>2016</td>\n      <td>...</td>\n      <td>1</td>\n      <td>0</td>\n      <td>glade toque toque rep limon 12mlx12 limon repu...</td>\n      <td>s. c. johnson y son de arg. s.a.</td>\n      <td>1.0</td>\n      <td>NaN</td>\n      <td>NaN</td>\n      <td>NaN</td>\n      <td>NaN</td>\n      <td>NaN</td>\n    </tr>\n    <tr>\n      <th>1369586</th>\n      <td>242</td>\n      <td>228217</td>\n      <td>2016-07-16</td>\n      <td>24</td>\n      <td>0</td>\n      <td>13.63</td>\n      <td>1</td>\n      <td>0</td>\n      <td>7</td>\n      <td>2016</td>\n      <td>...</td>\n      <td>1</td>\n      <td>0</td>\n      <td>glade toque toque rep limon 12mlx12 limon repu...</td>\n      <td>s. c. johnson y son de arg. s.a.</td>\n      <td>1.0</td>\n      <td>NaN</td>\n      <td>NaN</td>\n      <td>NaN</td>\n      <td>NaN</td>\n      <td>NaN</td>\n    </tr>\n    <tr>\n      <th>2133603</th>\n      <td>242</td>\n      <td>228217</td>\n      <td>2016-07-17</td>\n      <td>24</td>\n      <td>0</td>\n      <td>13.63</td>\n      <td>1</td>\n      <td>0</td>\n      <td>7</td>\n      <td>2016</td>\n      <td>...</td>\n      <td>1</td>\n      <td>0</td>\n      <td>glade toque toque rep limon 12mlx12 limon repu...</td>\n      <td>s. c. johnson y son de arg. s.a.</td>\n      <td>1.0</td>\n      <td>NaN</td>\n      <td>NaN</td>\n      <td>NaN</td>\n      <td>NaN</td>\n      <td>NaN</td>\n    </tr>\n    <tr>\n      <th>529630</th>\n      <td>242</td>\n      <td>228217</td>\n      <td>2016-07-21</td>\n      <td>24</td>\n      <td>0</td>\n      <td>13.63</td>\n      <td>1</td>\n      <td>0</td>\n      <td>7</td>\n      <td>2016</td>\n      <td>...</td>\n      <td>1</td>\n      <td>0</td>\n      <td>glade toque toque rep limon 12mlx12 limon repu...</td>\n      <td>s. c. johnson y son de arg. s.a.</td>\n      <td>1.0</td>\n      <td>NaN</td>\n      <td>NaN</td>\n      <td>NaN</td>\n      <td>NaN</td>\n      <td>NaN</td>\n    </tr>\n    <tr>\n      <th>2285438</th>\n      <td>242</td>\n      <td>228217</td>\n      <td>2016-07-22</td>\n      <td>24</td>\n      <td>0</td>\n      <td>13.63</td>\n      <td>1</td>\n      <td>0</td>\n      <td>7</td>\n      <td>2016</td>\n      <td>...</td>\n      <td>1</td>\n      <td>0</td>\n      <td>glade toque toque rep limon 12mlx12 limon repu...</td>\n      <td>s. c. johnson y son de arg. s.a.</td>\n      <td>1.0</td>\n      <td>NaN</td>\n      <td>NaN</td>\n      <td>NaN</td>\n      <td>NaN</td>\n      <td>NaN</td>\n    </tr>\n    <tr>\n      <th>...</th>\n      <td>...</td>\n      <td>...</td>\n      <td>...</td>\n      <td>...</td>\n      <td>...</td>\n      <td>...</td>\n      <td>...</td>\n      <td>...</td>\n      <td>...</td>\n      <td>...</td>\n      <td>...</td>\n      <td>...</td>\n      <td>...</td>\n      <td>...</td>\n      <td>...</td>\n      <td>...</td>\n      <td>...</td>\n      <td>...</td>\n      <td>...</td>\n      <td>...</td>\n      <td>...</td>\n    </tr>\n    <tr>\n      <th>3587331</th>\n      <td>242</td>\n      <td>238239</td>\n      <td>2017-04-25</td>\n      <td>12</td>\n      <td>0</td>\n      <td>16.77</td>\n      <td>1</td>\n      <td>0</td>\n      <td>4</td>\n      <td>2017</td>\n      <td>...</td>\n      <td>1</td>\n      <td>0</td>\n      <td>poett poett lavanda refill ab nuevo poett lava...</td>\n      <td>clorox argentina s.a.</td>\n      <td>1.0</td>\n      <td>NaN</td>\n      <td>NaN</td>\n      <td>NaN</td>\n      <td>NaN</td>\n      <td>NaN</td>\n    </tr>\n    <tr>\n      <th>6882858</th>\n      <td>242</td>\n      <td>238239</td>\n      <td>2017-04-27</td>\n      <td>12</td>\n      <td>0</td>\n      <td>16.77</td>\n      <td>1</td>\n      <td>0</td>\n      <td>4</td>\n      <td>2017</td>\n      <td>...</td>\n      <td>1</td>\n      <td>0</td>\n      <td>poett poett lavanda refill ab nuevo poett lava...</td>\n      <td>clorox argentina s.a.</td>\n      <td>1.0</td>\n      <td>NaN</td>\n      <td>NaN</td>\n      <td>NaN</td>\n      <td>NaN</td>\n      <td>NaN</td>\n    </tr>\n    <tr>\n      <th>2614115</th>\n      <td>242</td>\n      <td>238239</td>\n      <td>2017-04-28</td>\n      <td>12</td>\n      <td>0</td>\n      <td>16.77</td>\n      <td>1</td>\n      <td>0</td>\n      <td>4</td>\n      <td>2017</td>\n      <td>...</td>\n      <td>1</td>\n      <td>0</td>\n      <td>poett poett lavanda refill ab nuevo poett lava...</td>\n      <td>clorox argentina s.a.</td>\n      <td>1.0</td>\n      <td>NaN</td>\n      <td>NaN</td>\n      <td>NaN</td>\n      <td>NaN</td>\n      <td>NaN</td>\n    </tr>\n    <tr>\n      <th>701310</th>\n      <td>242</td>\n      <td>238239</td>\n      <td>2017-04-29</td>\n      <td>12</td>\n      <td>0</td>\n      <td>16.77</td>\n      <td>1</td>\n      <td>0</td>\n      <td>4</td>\n      <td>2017</td>\n      <td>...</td>\n      <td>1</td>\n      <td>0</td>\n      <td>poett poett lavanda refill ab nuevo poett lava...</td>\n      <td>clorox argentina s.a.</td>\n      <td>1.0</td>\n      <td>NaN</td>\n      <td>NaN</td>\n      <td>NaN</td>\n      <td>NaN</td>\n      <td>NaN</td>\n    </tr>\n    <tr>\n      <th>15767</th>\n      <td>242</td>\n      <td>238239</td>\n      <td>2017-05-01</td>\n      <td>12</td>\n      <td>0</td>\n      <td>16.77</td>\n      <td>1</td>\n      <td>0</td>\n      <td>5</td>\n      <td>2017</td>\n      <td>...</td>\n      <td>1</td>\n      <td>0</td>\n      <td>poett poett lavanda refill ab nuevo poett lava...</td>\n      <td>clorox argentina s.a.</td>\n      <td>1.0</td>\n      <td>NaN</td>\n      <td>NaN</td>\n      <td>NaN</td>\n      <td>NaN</td>\n      <td>NaN</td>\n    </tr>\n  </tbody>\n</table>\n<p>1000 rows × 26 columns</p>\n</div>"
     },
     "execution_count": 97,
     "metadata": {},
     "output_type": "execute_result"
    }
   ],
   "source": [
    "df_cleaned.head(1000)"
   ],
   "metadata": {
    "collapsed": false
   }
  },
  {
   "cell_type": "markdown",
   "source": [
    "Cual es el producto que tiene mayor rotacion por local, por ano, por mes.\n",
    "La rotacion de un producto se calcula por Rotación = Ventas del periodo (precio de coste) / Stock medio del periodo\n",
    "Que es lo mismo que Ventas del periodo/(Ud stock al inicio - Ud stok al final del periodo)"
   ],
   "metadata": {
    "collapsed": false
   }
  },
  {
   "cell_type": "code",
   "execution_count": 113,
   "outputs": [],
   "source": [
    "df_tasa=df.groupby(['idb','id_producto','mov_year'], as_index=False)['venta_unidades'].sum()"
   ],
   "metadata": {
    "collapsed": false
   }
  },
  {
   "cell_type": "code",
   "execution_count": 114,
   "outputs": [
    {
     "data": {
      "text/plain": "        idb  id_producto  mov_year  venta_unidades\n0       242       228217      2016              22\n1       242       228217      2017              14\n2       242       228217      2018              38\n3       242       228217      2019              40\n4       242       228683      2018               8\n...     ...          ...       ...             ...\n35251  9977       511324      2019              22\n35252  9977       511325      2018              10\n35253  9977       511325      2019              22\n35254  9977       511326      2018               0\n35255  9977       511326      2019              24\n\n[35256 rows x 4 columns]",
      "text/html": "<div>\n<style scoped>\n    .dataframe tbody tr th:only-of-type {\n        vertical-align: middle;\n    }\n\n    .dataframe tbody tr th {\n        vertical-align: top;\n    }\n\n    .dataframe thead th {\n        text-align: right;\n    }\n</style>\n<table border=\"1\" class=\"dataframe\">\n  <thead>\n    <tr style=\"text-align: right;\">\n      <th></th>\n      <th>idb</th>\n      <th>id_producto</th>\n      <th>mov_year</th>\n      <th>venta_unidades</th>\n    </tr>\n  </thead>\n  <tbody>\n    <tr>\n      <th>0</th>\n      <td>242</td>\n      <td>228217</td>\n      <td>2016</td>\n      <td>22</td>\n    </tr>\n    <tr>\n      <th>1</th>\n      <td>242</td>\n      <td>228217</td>\n      <td>2017</td>\n      <td>14</td>\n    </tr>\n    <tr>\n      <th>2</th>\n      <td>242</td>\n      <td>228217</td>\n      <td>2018</td>\n      <td>38</td>\n    </tr>\n    <tr>\n      <th>3</th>\n      <td>242</td>\n      <td>228217</td>\n      <td>2019</td>\n      <td>40</td>\n    </tr>\n    <tr>\n      <th>4</th>\n      <td>242</td>\n      <td>228683</td>\n      <td>2018</td>\n      <td>8</td>\n    </tr>\n    <tr>\n      <th>...</th>\n      <td>...</td>\n      <td>...</td>\n      <td>...</td>\n      <td>...</td>\n    </tr>\n    <tr>\n      <th>35251</th>\n      <td>9977</td>\n      <td>511324</td>\n      <td>2019</td>\n      <td>22</td>\n    </tr>\n    <tr>\n      <th>35252</th>\n      <td>9977</td>\n      <td>511325</td>\n      <td>2018</td>\n      <td>10</td>\n    </tr>\n    <tr>\n      <th>35253</th>\n      <td>9977</td>\n      <td>511325</td>\n      <td>2019</td>\n      <td>22</td>\n    </tr>\n    <tr>\n      <th>35254</th>\n      <td>9977</td>\n      <td>511326</td>\n      <td>2018</td>\n      <td>0</td>\n    </tr>\n    <tr>\n      <th>35255</th>\n      <td>9977</td>\n      <td>511326</td>\n      <td>2019</td>\n      <td>24</td>\n    </tr>\n  </tbody>\n</table>\n<p>35256 rows × 4 columns</p>\n</div>"
     },
     "execution_count": 114,
     "metadata": {},
     "output_type": "execute_result"
    }
   ],
   "source": [
    "df_tasa"
   ],
   "metadata": {
    "collapsed": false
   }
  },
  {
   "cell_type": "code",
   "execution_count": 115,
   "outputs": [],
   "source": [
    "df_stock_medio=df.groupby(['idb','id_producto','mov_year'], as_index=False)['stock_unidades'].mean()"
   ],
   "metadata": {
    "collapsed": false
   }
  },
  {
   "cell_type": "code",
   "execution_count": 116,
   "outputs": [
    {
     "data": {
      "text/plain": "        idb  id_producto  mov_year  stock_unidades\n0       242       228217      2016       21.122905\n1       242       228217      2017       12.413265\n2       242       228217      2018        7.878676\n3       242       228217      2019       15.824742\n4       242       228683      2018       14.262238\n...     ...          ...       ...             ...\n35251  9977       511324      2019        4.888268\n35252  9977       511325      2018        4.200000\n35253  9977       511325      2019        4.025907\n35254  9977       511326      2018        3.965517\n35255  9977       511326      2019        6.104046\n\n[35256 rows x 4 columns]",
      "text/html": "<div>\n<style scoped>\n    .dataframe tbody tr th:only-of-type {\n        vertical-align: middle;\n    }\n\n    .dataframe tbody tr th {\n        vertical-align: top;\n    }\n\n    .dataframe thead th {\n        text-align: right;\n    }\n</style>\n<table border=\"1\" class=\"dataframe\">\n  <thead>\n    <tr style=\"text-align: right;\">\n      <th></th>\n      <th>idb</th>\n      <th>id_producto</th>\n      <th>mov_year</th>\n      <th>stock_unidades</th>\n    </tr>\n  </thead>\n  <tbody>\n    <tr>\n      <th>0</th>\n      <td>242</td>\n      <td>228217</td>\n      <td>2016</td>\n      <td>21.122905</td>\n    </tr>\n    <tr>\n      <th>1</th>\n      <td>242</td>\n      <td>228217</td>\n      <td>2017</td>\n      <td>12.413265</td>\n    </tr>\n    <tr>\n      <th>2</th>\n      <td>242</td>\n      <td>228217</td>\n      <td>2018</td>\n      <td>7.878676</td>\n    </tr>\n    <tr>\n      <th>3</th>\n      <td>242</td>\n      <td>228217</td>\n      <td>2019</td>\n      <td>15.824742</td>\n    </tr>\n    <tr>\n      <th>4</th>\n      <td>242</td>\n      <td>228683</td>\n      <td>2018</td>\n      <td>14.262238</td>\n    </tr>\n    <tr>\n      <th>...</th>\n      <td>...</td>\n      <td>...</td>\n      <td>...</td>\n      <td>...</td>\n    </tr>\n    <tr>\n      <th>35251</th>\n      <td>9977</td>\n      <td>511324</td>\n      <td>2019</td>\n      <td>4.888268</td>\n    </tr>\n    <tr>\n      <th>35252</th>\n      <td>9977</td>\n      <td>511325</td>\n      <td>2018</td>\n      <td>4.200000</td>\n    </tr>\n    <tr>\n      <th>35253</th>\n      <td>9977</td>\n      <td>511325</td>\n      <td>2019</td>\n      <td>4.025907</td>\n    </tr>\n    <tr>\n      <th>35254</th>\n      <td>9977</td>\n      <td>511326</td>\n      <td>2018</td>\n      <td>3.965517</td>\n    </tr>\n    <tr>\n      <th>35255</th>\n      <td>9977</td>\n      <td>511326</td>\n      <td>2019</td>\n      <td>6.104046</td>\n    </tr>\n  </tbody>\n</table>\n<p>35256 rows × 4 columns</p>\n</div>"
     },
     "execution_count": 116,
     "metadata": {},
     "output_type": "execute_result"
    }
   ],
   "source": [
    "df_stock_medio"
   ],
   "metadata": {
    "collapsed": false
   }
  },
  {
   "cell_type": "code",
   "execution_count": 129,
   "outputs": [],
   "source": [
    "df_tasa_2['media_stock']=df_stock_medio['stock_unidades']\n",
    "df_tasa_2['RI']=df_tasa['venta_unidades']/df_stock_medio['stock_unidades']\n",
    "df_tasa_2=df_tasa_2.drop(['stock_unidades'], axis=1)"
   ],
   "metadata": {
    "collapsed": false
   }
  },
  {
   "cell_type": "code",
   "execution_count": 130,
   "outputs": [
    {
     "data": {
      "text/plain": "       id_producto   idb  mov_year  venta_unidades  media_stock        RI\n0           228217   242      2016            22.0    21.122905  1.041523\n1           228217   242      2017            14.0    12.413265  1.127826\n2           228217   242      2018            38.0     7.878676  4.823145\n3           228217   242      2019            40.0    15.824742  2.527687\n4           228683   242      2018             8.0    14.262238  0.560922\n...            ...   ...       ...             ...          ...       ...\n35251       511324  9977      2019             NaN     4.888268  4.500571\n35252       511325  9977      2018             NaN     4.200000  2.380952\n35253       511325  9977      2019             NaN     4.025907  5.464607\n35254       511326  9977      2018             NaN     3.965517  0.000000\n35255       511326  9977      2019             NaN     6.104046  3.931818\n\n[70512 rows x 6 columns]",
      "text/html": "<div>\n<style scoped>\n    .dataframe tbody tr th:only-of-type {\n        vertical-align: middle;\n    }\n\n    .dataframe tbody tr th {\n        vertical-align: top;\n    }\n\n    .dataframe thead th {\n        text-align: right;\n    }\n</style>\n<table border=\"1\" class=\"dataframe\">\n  <thead>\n    <tr style=\"text-align: right;\">\n      <th></th>\n      <th>id_producto</th>\n      <th>idb</th>\n      <th>mov_year</th>\n      <th>venta_unidades</th>\n      <th>media_stock</th>\n      <th>RI</th>\n    </tr>\n  </thead>\n  <tbody>\n    <tr>\n      <th>0</th>\n      <td>228217</td>\n      <td>242</td>\n      <td>2016</td>\n      <td>22.0</td>\n      <td>21.122905</td>\n      <td>1.041523</td>\n    </tr>\n    <tr>\n      <th>1</th>\n      <td>228217</td>\n      <td>242</td>\n      <td>2017</td>\n      <td>14.0</td>\n      <td>12.413265</td>\n      <td>1.127826</td>\n    </tr>\n    <tr>\n      <th>2</th>\n      <td>228217</td>\n      <td>242</td>\n      <td>2018</td>\n      <td>38.0</td>\n      <td>7.878676</td>\n      <td>4.823145</td>\n    </tr>\n    <tr>\n      <th>3</th>\n      <td>228217</td>\n      <td>242</td>\n      <td>2019</td>\n      <td>40.0</td>\n      <td>15.824742</td>\n      <td>2.527687</td>\n    </tr>\n    <tr>\n      <th>4</th>\n      <td>228683</td>\n      <td>242</td>\n      <td>2018</td>\n      <td>8.0</td>\n      <td>14.262238</td>\n      <td>0.560922</td>\n    </tr>\n    <tr>\n      <th>...</th>\n      <td>...</td>\n      <td>...</td>\n      <td>...</td>\n      <td>...</td>\n      <td>...</td>\n      <td>...</td>\n    </tr>\n    <tr>\n      <th>35251</th>\n      <td>511324</td>\n      <td>9977</td>\n      <td>2019</td>\n      <td>NaN</td>\n      <td>4.888268</td>\n      <td>4.500571</td>\n    </tr>\n    <tr>\n      <th>35252</th>\n      <td>511325</td>\n      <td>9977</td>\n      <td>2018</td>\n      <td>NaN</td>\n      <td>4.200000</td>\n      <td>2.380952</td>\n    </tr>\n    <tr>\n      <th>35253</th>\n      <td>511325</td>\n      <td>9977</td>\n      <td>2019</td>\n      <td>NaN</td>\n      <td>4.025907</td>\n      <td>5.464607</td>\n    </tr>\n    <tr>\n      <th>35254</th>\n      <td>511326</td>\n      <td>9977</td>\n      <td>2018</td>\n      <td>NaN</td>\n      <td>3.965517</td>\n      <td>0.000000</td>\n    </tr>\n    <tr>\n      <th>35255</th>\n      <td>511326</td>\n      <td>9977</td>\n      <td>2019</td>\n      <td>NaN</td>\n      <td>6.104046</td>\n      <td>3.931818</td>\n    </tr>\n  </tbody>\n</table>\n<p>70512 rows × 6 columns</p>\n</div>"
     },
     "execution_count": 130,
     "metadata": {},
     "output_type": "execute_result"
    }
   ],
   "source": [
    "df_tasa_2"
   ],
   "metadata": {
    "collapsed": false
   }
  },
  {
   "cell_type": "code",
   "execution_count": 139,
   "outputs": [
    {
     "ename": "SyntaxError",
     "evalue": "invalid syntax (2431421448.py, line 1)",
     "output_type": "error",
     "traceback": [
      "\u001B[1;36m  File \u001B[1;32m\"C:\\Users\\carmi\\AppData\\Local\\Temp\\ipykernel_16668\\2431421448.py\"\u001B[1;36m, line \u001B[1;32m1\u001B[0m\n\u001B[1;33m    df_tasa_2.groupby(['id_producto','mov_year']).[RI].nlargest()\u001B[0m\n\u001B[1;37m                                                  ^\u001B[0m\n\u001B[1;31mSyntaxError\u001B[0m\u001B[1;31m:\u001B[0m invalid syntax\n"
     ]
    }
   ],
   "source": [
    "df_tasa_2.groupby(['id_producto','mov_year']).[RI].nlargest()"
   ],
   "metadata": {
    "collapsed": false
   }
  },
  {
   "cell_type": "code",
   "execution_count": 136,
   "outputs": [
    {
     "ename": "NameError",
     "evalue": "name 'h' is not defined",
     "output_type": "error",
     "traceback": [
      "\u001B[1;31m---------------------------------------------------------------------------\u001B[0m",
      "\u001B[1;31mNameError\u001B[0m                                 Traceback (most recent call last)",
      "\u001B[1;32m~\\AppData\\Local\\Temp\\ipykernel_16668\\1343816225.py\u001B[0m in \u001B[0;36m<module>\u001B[1;34m\u001B[0m\n\u001B[0;32m      1\u001B[0m \u001B[1;31m#df_tasa_2.plot(x='id_producto', y= 'RI', kind=\"bar\",figsize=(20,2))\u001B[0m\u001B[1;33m\u001B[0m\u001B[1;33m\u001B[0m\u001B[0m\n\u001B[1;32m----> 2\u001B[1;33m \u001B[0msns\u001B[0m\u001B[1;33m.\u001B[0m\u001B[0mcatplot\u001B[0m\u001B[1;33m(\u001B[0m\u001B[0mx\u001B[0m\u001B[1;33m=\u001B[0m\u001B[1;34m\"id_producto\"\u001B[0m\u001B[1;33m,\u001B[0m \u001B[0my\u001B[0m\u001B[1;33m=\u001B[0m\u001B[1;34m\"RI\"\u001B[0m\u001B[1;33m,\u001B[0m \u001B[0mdata\u001B[0m\u001B[1;33m=\u001B[0m\u001B[0mdf_tasa_2\u001B[0m\u001B[1;33m,\u001B[0m \u001B[0mkind\u001B[0m\u001B[1;33m=\u001B[0m \u001B[1;34m\"bar\"\u001B[0m \u001B[1;33m,\u001B[0m\u001B[0mheight\u001B[0m\u001B[1;33m=\u001B[0m\u001B[1;36m20\u001B[0m\u001B[1;33m,\u001B[0m \u001B[0maspect\u001B[0m\u001B[1;33m=\u001B[0m\u001B[1;36m2\u001B[0m\u001B[1;33m,\u001B[0m \u001B[0morient\u001B[0m\u001B[1;33m=\u001B[0m\u001B[0mh\u001B[0m\u001B[1;33m,\u001B[0m \u001B[0mrow\u001B[0m\u001B[1;33m=\u001B[0m\u001B[1;34m'mov_year'\u001B[0m\u001B[1;33m)\u001B[0m\u001B[1;33m\u001B[0m\u001B[1;33m\u001B[0m\u001B[0m\n\u001B[0m\u001B[0;32m      3\u001B[0m \u001B[0mplt\u001B[0m\u001B[1;33m.\u001B[0m\u001B[0mtitle\u001B[0m\u001B[1;33m(\u001B[0m\u001B[1;34m\"RI by product & idb\"\u001B[0m\u001B[1;33m)\u001B[0m\u001B[1;33m\u001B[0m\u001B[1;33m\u001B[0m\u001B[0m\n\u001B[0;32m      4\u001B[0m \u001B[0mplt\u001B[0m\u001B[1;33m.\u001B[0m\u001B[0mxlabel\u001B[0m\u001B[1;33m(\u001B[0m\u001B[1;34m\"product\"\u001B[0m\u001B[1;33m)\u001B[0m\u001B[1;33m\u001B[0m\u001B[1;33m\u001B[0m\u001B[0m\n\u001B[0;32m      5\u001B[0m \u001B[0mplt\u001B[0m\u001B[1;33m.\u001B[0m\u001B[0mxticks\u001B[0m\u001B[1;33m(\u001B[0m\u001B[0mrotation\u001B[0m\u001B[1;33m=\u001B[0m\u001B[1;36m90\u001B[0m\u001B[1;33m)\u001B[0m\u001B[1;33m\u001B[0m\u001B[1;33m\u001B[0m\u001B[0m\n",
      "\u001B[1;31mNameError\u001B[0m: name 'h' is not defined"
     ]
    }
   ],
   "source": [
    "#df_tasa_2.plot(x='id_producto', y= 'RI', kind=\"bar\",figsize=(20,2))\n",
    "sns.catplot(x=\"id_producto\", y=\"RI\", data=df_tasa_2, kind= \"bar\" ,height=20, aspect=2,row='mov_year')\n",
    "plt.title(\"RI by product & idb\")\n",
    "plt.xlabel(\"product\")\n",
    "plt.xticks(rotation=90)\n",
    "plt.ylabel('RI')\n",
    "plt.show()"
   ],
   "metadata": {
    "collapsed": false
   }
  },
  {
   "cell_type": "code",
   "execution_count": 69,
   "outputs": [
    {
     "data": {
      "text/plain": "<Figure size 1600x160 with 1 Axes>",
      "image/png": "[encoded data removed]"
     },
     "metadata": {},
     "output_type": "display_data"
    }
   ],
   "source": [
    "df_stock0.id_producto.value_counts().plot(kind=\"bar\",figsize=(20,2))\n",
    "plt.title(\"Value counts by product stock==0\")\n",
    "plt.xlabel(\"product\")\n",
    "plt.xticks(rotation=90)\n",
    "plt.ylabel(\"Count\")\n",
    "plt.show()"
   ],
   "metadata": {
    "collapsed": false
   }
  },
  {
   "cell_type": "code",
   "execution_count": 76,
   "outputs": [],
   "source": [
    "df_1=df_0.id_producto.value_counts().nlargest(5)\n",
    "df"
   ],
   "metadata": {
    "collapsed": false
   }
  },
  {
   "cell_type": "code",
   "execution_count": 75,
   "outputs": [
    {
     "data": {
      "text/plain": "450265    56078\n450347    52183\n458395    23937\n470447    17248\n427445    15506\nName: id_producto, dtype: int64"
     },
     "execution_count": 75,
     "metadata": {},
     "output_type": "execute_result"
    }
   ],
   "source": [
    "df_1.nlargest(5)"
   ],
   "metadata": {
    "collapsed": false
   }
  },
  {
   "cell_type": "code",
   "execution_count": 108,
   "outputs": [
    {
     "data": {
      "text/plain": "0"
     },
     "execution_count": 108,
     "metadata": {},
     "output_type": "execute_result"
    }
   ],
   "source": [
    "df4.duplicated().sum()"
   ],
   "metadata": {
    "collapsed": false
   }
  },
  {
   "cell_type": "code",
   "execution_count": 109,
   "outputs": [],
   "source": [
    "df4=df4.drop(['row_id'], axis=1)"
   ],
   "metadata": {
    "collapsed": false
   }
  },
  {
   "cell_type": "code",
   "execution_count": 111,
   "outputs": [
    {
     "data": {
      "text/plain": "         idb  id_producto fecha_trans  stock_unidades  venta_unidades  \\\n529961   242       228217  2016-07-15              24               0   \n5110359  242       228217  2016-07-15              24               0   \n1369586  242       228217  2016-07-16              24               0   \n2896543  242       228217  2016-07-16              24               0   \n5948668  242       228217  2016-07-16              24               0   \n...      ...          ...         ...             ...             ...   \n4543950  247       228217  2016-12-20               0               0   \n3938536  247       228217  2016-12-22               0               0   \n4696979  247       228217  2016-12-22               0               0   \n4007916  247       228217  2016-12-24               0               0   \n511027   247       228217  2016-12-26               0               0   \n\n         precio_unitario  sigue_prod_en_rol  cd_abast  mov_month  mov_year  \\\n529961             13.63                  1         0          7      2016   \n5110359            13.63                  1         0          7      2016   \n1369586            13.63                  1         0          7      2016   \n2896543            13.63                  1         0          7      2016   \n5948668            13.63                  1         0          7      2016   \n...                  ...                ...       ...        ...       ...   \n4543950            17.53                  1         0         12      2016   \n3938536            17.53                  1         0         12      2016   \n4696979            17.53                  1         0         12      2016   \n4007916            17.53                  1         0         12      2016   \n511027             17.53                  1         0         12      2016   \n\n         ...  local  punto_dist  \\\n529961   ...      1           0   \n5110359  ...      1           0   \n1369586  ...      1           0   \n2896543  ...      1           0   \n5948668  ...      1           0   \n...      ...    ...         ...   \n4543950  ...      1           0   \n3938536  ...      1           0   \n4696979  ...      1           0   \n4007916  ...      1           0   \n511027   ...      1           0   \n\n                                             desc_producto  \\\n529961   glade toque toque rep limon 12mlx12 limon repu...   \n5110359  glade toque toque rep limon 12mlx12 limon repu...   \n1369586  glade toque toque rep limon 12mlx12 limon repu...   \n2896543  glade toque toque rep limon 12mlx12 limon repu...   \n5948668  glade toque toque rep limon 12mlx12 limon repu...   \n...                                                    ...   \n4543950  glade toque toque rep limon 12mlx12 limon repu...   \n3938536  glade toque toque rep limon 12mlx12 limon repu...   \n4696979  glade toque toque rep limon 12mlx12 limon repu...   \n4007916  glade toque toque rep limon 12mlx12 limon repu...   \n511027   glade toque toque rep limon 12mlx12 limon repu...   \n\n                             razon_social  id_region  fecha_desde  \\\n529961   s. c. johnson y son de arg. s.a.        1.0          NaN   \n5110359  s. c. johnson y son de arg. s.a.        1.0          NaN   \n1369586  s. c. johnson y son de arg. s.a.        1.0          NaN   \n2896543  s. c. johnson y son de arg. s.a.        1.0          NaN   \n5948668  s. c. johnson y son de arg. s.a.        1.0          NaN   \n...                                   ...        ...          ...   \n4543950  s. c. johnson y son de arg. s.a.        1.0          NaN   \n3938536  s. c. johnson y son de arg. s.a.        1.0          NaN   \n4696979  s. c. johnson y son de arg. s.a.        1.0          NaN   \n4007916  s. c. johnson y son de arg. s.a.        1.0          NaN   \n511027   s. c. johnson y son de arg. s.a.        1.0          NaN   \n\n         fecha_hasta  ventas_estimadas_promo nro_prom duracion_promo  \n529961           NaN                     NaN      NaN            NaN  \n5110359          NaN                     NaN      NaN            NaN  \n1369586          NaN                     NaN      NaN            NaN  \n2896543          NaN                     NaN      NaN            NaN  \n5948668          NaN                     NaN      NaN            NaN  \n...              ...                     ...      ...            ...  \n4543950          NaN                     NaN      NaN            NaN  \n3938536          NaN                     NaN      NaN            NaN  \n4696979          NaN                     NaN      NaN            NaN  \n4007916          NaN                     NaN      NaN            NaN  \n511027           NaN                     NaN      NaN            NaN  \n\n[1000 rows x 26 columns]",
      "text/html": "<div>\n<style scoped>\n    .dataframe tbody tr th:only-of-type {\n        vertical-align: middle;\n    }\n\n    .dataframe tbody tr th {\n        vertical-align: top;\n    }\n\n    .dataframe thead th {\n        text-align: right;\n    }\n</style>\n<table border=\"1\" class=\"dataframe\">\n  <thead>\n    <tr style=\"text-align: right;\">\n      <th></th>\n      <th>idb</th>\n      <th>id_producto</th>\n      <th>fecha_trans</th>\n      <th>stock_unidades</th>\n      <th>venta_unidades</th>\n      <th>precio_unitario</th>\n      <th>sigue_prod_en_rol</th>\n      <th>cd_abast</th>\n      <th>mov_month</th>\n      <th>mov_year</th>\n      <th>...</th>\n      <th>local</th>\n      <th>punto_dist</th>\n      <th>desc_producto</th>\n      <th>razon_social</th>\n      <th>id_region</th>\n      <th>fecha_desde</th>\n      <th>fecha_hasta</th>\n      <th>ventas_estimadas_promo</th>\n      <th>nro_prom</th>\n      <th>duracion_promo</th>\n    </tr>\n  </thead>\n  <tbody>\n    <tr>\n      <th>529961</th>\n      <td>242</td>\n      <td>228217</td>\n      <td>2016-07-15</td>\n      <td>24</td>\n      <td>0</td>\n      <td>13.63</td>\n      <td>1</td>\n      <td>0</td>\n      <td>7</td>\n      <td>2016</td>\n      <td>...</td>\n      <td>1</td>\n      <td>0</td>\n      <td>glade toque toque rep limon 12mlx12 limon repu...</td>\n      <td>s. c. johnson y son de arg. s.a.</td>\n      <td>1.0</td>\n      <td>NaN</td>\n      <td>NaN</td>\n      <td>NaN</td>\n      <td>NaN</td>\n      <td>NaN</td>\n    </tr>\n    <tr>\n      <th>5110359</th>\n      <td>242</td>\n      <td>228217</td>\n      <td>2016-07-15</td>\n      <td>24</td>\n      <td>0</td>\n      <td>13.63</td>\n      <td>1</td>\n      <td>0</td>\n      <td>7</td>\n      <td>2016</td>\n      <td>...</td>\n      <td>1</td>\n      <td>0</td>\n      <td>glade toque toque rep limon 12mlx12 limon repu...</td>\n      <td>s. c. johnson y son de arg. s.a.</td>\n      <td>1.0</td>\n      <td>NaN</td>\n      <td>NaN</td>\n      <td>NaN</td>\n      <td>NaN</td>\n      <td>NaN</td>\n    </tr>\n    <tr>\n      <th>1369586</th>\n      <td>242</td>\n      <td>228217</td>\n      <td>2016-07-16</td>\n      <td>24</td>\n      <td>0</td>\n      <td>13.63</td>\n      <td>1</td>\n      <td>0</td>\n      <td>7</td>\n      <td>2016</td>\n      <td>...</td>\n      <td>1</td>\n      <td>0</td>\n      <td>glade toque toque rep limon 12mlx12 limon repu...</td>\n      <td>s. c. johnson y son de arg. s.a.</td>\n      <td>1.0</td>\n      <td>NaN</td>\n      <td>NaN</td>\n      <td>NaN</td>\n      <td>NaN</td>\n      <td>NaN</td>\n    </tr>\n    <tr>\n      <th>2896543</th>\n      <td>242</td>\n      <td>228217</td>\n      <td>2016-07-16</td>\n      <td>24</td>\n      <td>0</td>\n      <td>13.63</td>\n      <td>1</td>\n      <td>0</td>\n      <td>7</td>\n      <td>2016</td>\n      <td>...</td>\n      <td>1</td>\n      <td>0</td>\n      <td>glade toque toque rep limon 12mlx12 limon repu...</td>\n      <td>s. c. johnson y son de arg. s.a.</td>\n      <td>1.0</td>\n      <td>NaN</td>\n      <td>NaN</td>\n      <td>NaN</td>\n      <td>NaN</td>\n      <td>NaN</td>\n    </tr>\n    <tr>\n      <th>5948668</th>\n      <td>242</td>\n      <td>228217</td>\n      <td>2016-07-16</td>\n      <td>24</td>\n      <td>0</td>\n      <td>13.63</td>\n      <td>1</td>\n      <td>0</td>\n      <td>7</td>\n      <td>2016</td>\n      <td>...</td>\n      <td>1</td>\n      <td>0</td>\n      <td>glade toque toque rep limon 12mlx12 limon repu...</td>\n      <td>s. c. johnson y son de arg. s.a.</td>\n      <td>1.0</td>\n      <td>NaN</td>\n      <td>NaN</td>\n      <td>NaN</td>\n      <td>NaN</td>\n      <td>NaN</td>\n    </tr>\n    <tr>\n      <th>...</th>\n      <td>...</td>\n      <td>...</td>\n      <td>...</td>\n      <td>...</td>\n      <td>...</td>\n      <td>...</td>\n      <td>...</td>\n      <td>...</td>\n      <td>...</td>\n      <td>...</td>\n      <td>...</td>\n      <td>...</td>\n      <td>...</td>\n      <td>...</td>\n      <td>...</td>\n      <td>...</td>\n      <td>...</td>\n      <td>...</td>\n      <td>...</td>\n      <td>...</td>\n      <td>...</td>\n    </tr>\n    <tr>\n      <th>4543950</th>\n      <td>247</td>\n      <td>228217</td>\n      <td>2016-12-20</td>\n      <td>0</td>\n      <td>0</td>\n      <td>17.53</td>\n      <td>1</td>\n      <td>0</td>\n      <td>12</td>\n      <td>2016</td>\n      <td>...</td>\n      <td>1</td>\n      <td>0</td>\n      <td>glade toque toque rep limon 12mlx12 limon repu...</td>\n      <td>s. c. johnson y son de arg. s.a.</td>\n      <td>1.0</td>\n      <td>NaN</td>\n      <td>NaN</td>\n      <td>NaN</td>\n      <td>NaN</td>\n      <td>NaN</td>\n    </tr>\n    <tr>\n      <th>3938536</th>\n      <td>247</td>\n      <td>228217</td>\n      <td>2016-12-22</td>\n      <td>0</td>\n      <td>0</td>\n      <td>17.53</td>\n      <td>1</td>\n      <td>0</td>\n      <td>12</td>\n      <td>2016</td>\n      <td>...</td>\n      <td>1</td>\n      <td>0</td>\n      <td>glade toque toque rep limon 12mlx12 limon repu...</td>\n      <td>s. c. johnson y son de arg. s.a.</td>\n      <td>1.0</td>\n      <td>NaN</td>\n      <td>NaN</td>\n      <td>NaN</td>\n      <td>NaN</td>\n      <td>NaN</td>\n    </tr>\n    <tr>\n      <th>4696979</th>\n      <td>247</td>\n      <td>228217</td>\n      <td>2016-12-22</td>\n      <td>0</td>\n      <td>0</td>\n      <td>17.53</td>\n      <td>1</td>\n      <td>0</td>\n      <td>12</td>\n      <td>2016</td>\n      <td>...</td>\n      <td>1</td>\n      <td>0</td>\n      <td>glade toque toque rep limon 12mlx12 limon repu...</td>\n      <td>s. c. johnson y son de arg. s.a.</td>\n      <td>1.0</td>\n      <td>NaN</td>\n      <td>NaN</td>\n      <td>NaN</td>\n      <td>NaN</td>\n      <td>NaN</td>\n    </tr>\n    <tr>\n      <th>4007916</th>\n      <td>247</td>\n      <td>228217</td>\n      <td>2016-12-24</td>\n      <td>0</td>\n      <td>0</td>\n      <td>17.53</td>\n      <td>1</td>\n      <td>0</td>\n      <td>12</td>\n      <td>2016</td>\n      <td>...</td>\n      <td>1</td>\n      <td>0</td>\n      <td>glade toque toque rep limon 12mlx12 limon repu...</td>\n      <td>s. c. johnson y son de arg. s.a.</td>\n      <td>1.0</td>\n      <td>NaN</td>\n      <td>NaN</td>\n      <td>NaN</td>\n      <td>NaN</td>\n      <td>NaN</td>\n    </tr>\n    <tr>\n      <th>511027</th>\n      <td>247</td>\n      <td>228217</td>\n      <td>2016-12-26</td>\n      <td>0</td>\n      <td>0</td>\n      <td>17.53</td>\n      <td>1</td>\n      <td>0</td>\n      <td>12</td>\n      <td>2016</td>\n      <td>...</td>\n      <td>1</td>\n      <td>0</td>\n      <td>glade toque toque rep limon 12mlx12 limon repu...</td>\n      <td>s. c. johnson y son de arg. s.a.</td>\n      <td>1.0</td>\n      <td>NaN</td>\n      <td>NaN</td>\n      <td>NaN</td>\n      <td>NaN</td>\n      <td>NaN</td>\n    </tr>\n  </tbody>\n</table>\n<p>1000 rows × 26 columns</p>\n</div>"
     },
     "execution_count": 111,
     "metadata": {},
     "output_type": "execute_result"
    }
   ],
   "source": [
    "df4.head(1000)"
   ],
   "metadata": {
    "collapsed": false
   }
  },
  {
   "cell_type": "code",
   "execution_count": 112,
   "outputs": [
    {
     "data": {
      "text/plain": "48621"
     },
     "execution_count": 112,
     "metadata": {},
     "output_type": "execute_result"
    }
   ],
   "source": [
    "df4.duplicated().sum()"
   ],
   "metadata": {
    "collapsed": false
   }
  },
  {
   "cell_type": "code",
   "execution_count": null,
   "outputs": [],
   "source": [
    "df4=df4.drop(df4[df4['venta_unidades']==0], axis=1)"
   ],
   "metadata": {
    "collapsed": false
   }
  },
  {
   "cell_type": "code",
   "execution_count": 105,
   "outputs": [
    {
     "data": {
      "text/plain": "Empty DataFrame\nColumns: []\nIndex: [529961, 5110359, 1369586, 2896543, 5948668, 2133603, 4424198, 529630, 5107910, 2285438, 4575320, 3198739, 6936025, 452822, 1977434, 5031124, 4880365, 7013444, 7470273, 148222, 1672903, 2131792, 4421641, 528962, 5107242, 981068, 2507197, 5557701, 6630744, 294367, 1818320, 3804174, 599362, 5175906, 3727617, 1514155, 3956791, 4721593, 7540043, 2200991, 4492111, 3345760, 4949523, 6013424, 3184198, 6386320, 3565308, 6766828, 1277840, 2800797, 5853813, 1201803, 2724464, 5777811, 6919027, 4865447, 3793345, 2180515, 4474194, 6603869, 7367722, 7596839, 3098454, 351259, 1875402, 6679393, 1419427, 2942597, 5996285, 7291402, 122668, 1646962, 6603356, 4931324, 4080190, 3237940, 4920579, 3542350, 4232193, 869156, 2389898, 5442467, 1381536, 2902824, 5955949, 775826, 2292948, 5346045, 4213559, 166489, 1685306, 2063503, 4367208, 7334713, 4901569, 1304838, 2826277, 5879236, 715612, 1701754, ...]\n\n[1000 rows x 0 columns]",
      "text/html": "<div>\n<style scoped>\n    .dataframe tbody tr th:only-of-type {\n        vertical-align: middle;\n    }\n\n    .dataframe tbody tr th {\n        vertical-align: top;\n    }\n\n    .dataframe thead th {\n        text-align: right;\n    }\n</style>\n<table border=\"1\" class=\"dataframe\">\n  <thead>\n    <tr style=\"text-align: right;\">\n      <th></th>\n    </tr>\n  </thead>\n  <tbody>\n    <tr>\n      <th>529961</th>\n    </tr>\n    <tr>\n      <th>5110359</th>\n    </tr>\n    <tr>\n      <th>1369586</th>\n    </tr>\n    <tr>\n      <th>2896543</th>\n    </tr>\n    <tr>\n      <th>5948668</th>\n    </tr>\n    <tr>\n      <th>...</th>\n    </tr>\n    <tr>\n      <th>4543950</th>\n    </tr>\n    <tr>\n      <th>3938536</th>\n    </tr>\n    <tr>\n      <th>4696979</th>\n    </tr>\n    <tr>\n      <th>4007916</th>\n    </tr>\n    <tr>\n      <th>511027</th>\n    </tr>\n  </tbody>\n</table>\n<p>1000 rows × 0 columns</p>\n</div>"
     },
     "execution_count": 105,
     "metadata": {},
     "output_type": "execute_result"
    }
   ],
   "source": [
    "df4.head(1000)"
   ],
   "metadata": {
    "collapsed": false
   }
  },
  {
   "cell_type": "code",
   "execution_count": null,
   "outputs": [],
   "source": [],
   "metadata": {
    "collapsed": false
   }
  }
 ],
 "metadata": {
  "kernelspec": {
   "display_name": "Python 3",
   "language": "python",
   "name": "python3"
  },
  "language_info": {
   "codemirror_mode": {
    "name": "ipython",
    "version": 2
   },
   "file_extension": ".py",
   "mimetype": "text/x-python",
   "name": "python",
   "nbconvert_exporter": "python",
   "pygments_lexer": "ipython2",
   "version": "2.7.6"
  }
 },
 "nbformat": 4,
 "nbformat_minor": 0
}
