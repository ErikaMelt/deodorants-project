{
 "cells": [
  {
   "cell_type": "markdown",
   "id": "dd6e3e46",
   "metadata": {},
   "source": [
    "---\n",
    "documentclass: report\n",
    "output:\n",
    "  pdf_document:\n",
    "    keep_tex: no\n",
    "    pandoc_args: [\n",
    "      \"-H\", \"preamble.tex\"\n",
    "    ]\n",
    "header-includes:\n",
    "  - \\usepackage{biblatex}\n",
    "  - \\addbibresource{references.bib}\n",
    "---"
   ]
  },
  {
   "cell_type": "markdown",
   "id": "991d67c9",
   "metadata": {},
   "source": [
    "\\renewcommand\\refname{Bibliografía}\n",
    "\\renewcommand{\\contentsname}{Contenido}\n",
    "\\renewcommand{\\listfigurename}{Lista de Figuras}\n",
    "\\linespread{1.3}"
   ]
  },
  {
   "cell_type": "markdown",
   "id": "2dca9101",
   "metadata": {},
   "source": [
    "\\begin{titlepage}\n",
    "    \\centering\n",
    "    \\vspace*{2cm}\n",
    "    \\LARGE\n",
    "    \\textbf{Análisis del impacto que tienen las promociones en las ventas de desodorantes en aerosol}\n",
    "    \n",
    "    \\vspace{1cm}\n",
    "    \\large\n",
    "    Análisis de las ventas de desodorantes en aerosol en cinco cadenas de supermercados ubicados en Argentina\n",
    "    \n",
    "    \\vspace{2cm}\n",
    "    \n",
    "    \\begin{tabular}{c}\n",
    "        \\Large Erika Ortiz \\\\\n",
    "        \\Large Romina Iglesias \\\\\n",
    "        \\Large Carme Alegret \\\\\n",
    "    \\end{tabular}\n",
    "    \n",
    "    \\vfill\n",
    "    \\large\n",
    "    Este reporte se presenta como requisito para el Master en Data Science y Advanced Analytics \n",
    "    \n",
    "    \\vspace{0.5cm}\n",
    "    Universitat Internacional de Catalunya\\\\\n",
    "    Barcelona, España\\\\\n",
    "    Abril 2023\n",
    "\\end{titlepage}"
   ]
  },
  {
   "cell_type": "markdown",
   "id": "45d57ee9",
   "metadata": {},
   "source": [
    "\\newpage"
   ]
  },
  {
   "cell_type": "markdown",
   "id": "1537aa47",
   "metadata": {},
   "source": [
    "\\tableofcontents"
   ]
  },
  {
   "cell_type": "markdown",
   "id": "667c445e",
   "metadata": {},
   "source": [
    "\\newpage"
   ]
  },
  {
   "cell_type": "markdown",
   "id": "a173741e",
   "metadata": {},
   "source": [
    "\\listoffigures"
   ]
  },
  {
   "cell_type": "markdown",
   "id": "2fc9f196",
   "metadata": {},
   "source": [
    "\\newpage"
   ]
  },
  {
   "cell_type": "markdown",
   "id": "7e96ae3a",
   "metadata": {},
   "source": [
    "\\section{Introducción}\n",
    "\n",
    "En este trabajo se llevará a cabo un análisis exploratorio de datos de los movimientos de ventas de desodorantes en aerosol y las diferentes promociones aplicadas a los distintos productos. El producto seleccionado para el estudio son los desodorantes en aerosol pertenecientes a la familia de productos de limpieza para el baño y el hogar distribuidos en diferentes supermercados de Argentina.\n",
    "\n",
    "El análisis se realizará con cadenas de supermercados ubicados en Argentina durante el período del 15 de julio de 2016 al 14 de julio de 2019. El conjunto de datos se compone de cuatro conjuntos de datos: movimientos, promociones, proveedores y productos, y locales, que tienen los siguientes tamaños:\n",
    "\n",
    "\n",
    "- Movimientos de ventas: 8,347,817 registros\n",
    "- Promociones: 15,270 registros\n",
    "- Locales: 175 registros\n",
    "- Productos y proveedores: 82 registros\n",
    "\n",
    "En este análisis, se identifaron: \n",
    "\n",
    "Cinco cadenas de supermercados: \n",
    "\n",
    "- Plaza Vea\n",
    "- Vea\n",
    "- Disco\n",
    "- Jumbo\n",
    "- Rincón Jumbo\n",
    "- 2 son puntos de distribuccion: Jumbo y Disco. \n",
    "\n",
    "Cuatro proveedores. \n",
    "\n",
    "- S.C. Johnson & Son de Argentina S.A. \n",
    "- Clorox Argentina S.A.\n",
    "- Reckitt Benckiser Argentina S.A.\n",
    "- Industrias Iberia S.A.I.C.\n",
    "\n",
    "Además, se encontraron 82 referencias de desodorantes en aerosol pertenecientes a la familia Limpieza de Baño y Hogar. \n",
    "\n",
    "En resumen, el objetivo de este trabajo es desarrollar un análisis de las ventas de desodorantes en función de las promociones para poder predecir el volumen de ventas. También se identificarán patrones y tendencias en la venta de desodorantes en aerosol y, potencialmente, se brindará información útil a las cadenas de supermercados involucradas para mejorar sus estrategias de ventas."
   ]
  },
  {
   "cell_type": "markdown",
   "id": "e142baf3",
   "metadata": {},
   "source": [
    "\\newpage"
   ]
  },
  {
   "cell_type": "markdown",
   "id": "0caa3e92",
   "metadata": {},
   "source": [
    "\\section{Objetivos}\n",
    "\n",
    "1. Determinar el efecto de las promociones en las ventas de desodorantes en aerosol a partir del análisis del conjunto de datos disponible desde el 15 de Julio de 2016 hasta  14 de Julio de 2019.\n",
    "\n",
    "2. Evaluar las ventas de desodorantes en aerosol que no fueron promocionados para identificar patrones y tendencias en la demanda.\n",
    "\n",
    "3. Desarrollar un modelo predictivo que permita estimar el volumen de ventas de desodorantes en aerosol cuando se implementa una promoción.\n",
    "\n",
    "4. Establecer una arquitectura adecuada para la creación, mantenimiento y despliegue del modelo predictivo, considerando factores como la escalabilidad y la eficiencia del proceso."
   ]
  },
  {
   "cell_type": "markdown",
   "id": "8e45a0c6",
   "metadata": {},
   "source": [
    "\\newpage"
   ]
  },
  {
   "cell_type": "markdown",
   "id": "50ba3821",
   "metadata": {},
   "source": [
    "\\section{Análisis Exploratorio de los Datos}\n",
    "\n",
    "### Análisis del dataset \n",
    "\n",
    "Al realizar la limpieza y análisis preliminar de los diferentes conjuntos de datos, encontramos lo siguiente: \n",
    "\n",
    "#### Información Movimientos de ventas \n",
    "\n",
    "1. La tabla de movimientos de ventas contiene un total de 8.347.817 registros.\n",
    "\n",
    "2. Esta tabla es transaccional y registra las ventas realizadas por cada producto, la cantidad vendida en unidades, el stock en unidades, el precio de venta unitario y la fecha de transacción.\n",
    "\n",
    "3. El conjunto de datos abarca desde el 15 de julio de 2016 hasta el 14 de julio de 2019.\n",
    "\n",
    "4. El número de registros por año se distribuye de la siguiente manera:\n",
    "\n",
    "- 2016: 1.177.264\n",
    "- 2017: 2.343.400\n",
    "- 2018: 2.914.155\n",
    "- 2019: 1.912.998\n",
    "\n",
    "5. No se observan valores faltantes o duplicados en la tabla.\n",
    "\n",
    "6. Se detectaron 580 registros con valores negativos en la columna venta_unidades.\n",
    "\n",
    "7. También se observaron 45.483 registros con valores negativos en la columna stock_unidades.\n",
    "\n",
    "8. El conjunto de datos contiene un total de 92 referencias únicas de desodorantes.\n",
    "\n",
    "9. En conclusión, este análisis exploratorio de datos permitió identificar características importantes de la tabla de movimientos de ventas y obtener información valiosa para futuros análisis y predicciones del volumen de ventas. Además, se encontraron algunas anomalías en los registros de ventas que podrían requerir una investigación adicional.\n",
    "\n",
    "\n",
    "#### Información de las promociones realizadas a los productos \n",
    "\n",
    "1. Durante el análisis exploratorio de datos se encontraron 268,692 registros duplicados en la tabla de promociones. Tras verificar que estos registros eran efectivamente duplicados, se procedió a eliminarlos del dataset. La tabla de promociones resultante quedó con un total de 15,270 registros y contiene información sobre el identificador del producto, el id de la promoción, la fecha de inicio y final, la cantidad de ventas estimadas y el local en el cual se realizó la promoción. También se realizó un left join con la tabla de movimientos para establecer los movimientos que tengan promociones.\n",
    "\n",
    "2. El conjunto de datos contiene información sobre promociones realizadas desde el 19 de julio de 2016 hasta el 16 de julio de 2019.\n",
    "\n",
    "3. Durante la revisión del dataset, se notó que la columna \"porcentaje_dcto\" que contenía información sobre el descuento aplicado no correspondía a un porcentaje. Al verificar la diferencia entre las fechas de finalización y de inicio de las promociones, se concluyó que la columna hace referencia a la duración de la promoción en días. Por lo tanto, se creó la columna \"duracion_promo\" calculando el tiempo transcurrido entre la fecha de inicio y la fecha de finalización de la promoción.\n",
    "\n",
    "\n",
    "\n",
    "#### Información de los Proveedores y descripción de Productos\n",
    "\n",
    "1. Se puede concluir que en el conjunto de datos hay un total de 82 productos únicos suministrados por cuatro proveedores principales. Todos los productos son desodorantes en aerosol que pertenecen a la categoría de productos de limpieza para el hogar y baño.\n",
    "\n",
    "2. Para este análisis, se han seleccionado únicamente las columnas de razon social, id del proveedor, id del producto y descripción del producto, eliminando las demás columnas del dataset.  \n",
    "\n",
    "3. Es importante mencionar que se eliminaron las columnas que no eran relevantes para los objetivos específicos del análisis, tales como la columna de familia, subfamilia y gran familia, ya que todos los productos del dataset corresponden a la misma familia, subfamilia y gran familia. Además, se eliminaron los IDs, ya que solo existía una referencia y no eran relevantes para el análisis.\n",
    "\n",
    "La agrupación de los productos por gran familia, familia y subfamilia se muestra en la siguiente tabla:\n",
    "\n",
    "| **desc_sector** | **desc_seccion** | **desc_gran_flia** | **desc_flia**             | **desc_sub_flia**       |\n",
    "|:---------------:|:----------------:|:------------------:|:-------------------------:|:-----------------------:|\n",
    "| Almacén         | Limpieza         | Baño y Hogar       | Desodorantes de ambientes | Desodorantes en aerosol |\n",
    "|                 |                  |                    |                           | **Total productos: 82** |\n",
    "\n",
    "\n",
    "4. Se encontraron 10 referencias de productos que no tienen correspondencia en la tabla proveedores_productos. La tabla movimientos contiene 92 referencias únicas, mientras que la tabla proveedores_productos solo tiene 82 referencias únicas. Por lo tanto, 10 referencias no tienen información sobre la descripción del producto o la razón social.\n",
    "\n",
    "5. Según el análisis de la cantidad de desodorantes en aerosol suministrados por proveedor (ver Figura 1), se puede concluir lo siguiente:\n",
    "\n",
    "\\begin{figure}\n",
    "\\centering % imagen centrada\n",
    "\\captionsetup{justification=centering,margin=2cm}\n",
    "\\includegraphics[width=1\\textwidth]{images/productos_por_proveedor.png}\n",
    "\\caption{Figura 1.Análisis de la cantidad de desodorantes en aeresol suministrado por proveedor}\n",
    "Figura 1. Análisis de la cantidad de desodorantes en aeresol suministrado por proveedor\n",
    "\\end{figure}\n",
    "\n",
    "- S.C. Johnson & Son de Argentina S.A. suministra 50 referencias, lo que representa el 61% de las referencias incluidas en el análisis.\n",
    "- Clorox Argentina S.A. suministra 21 referencias.\n",
    "- Reckitt Benckiser Argentina S.A. suministra 10 referencias.\n",
    "- Industrias Iberia S.A.I.C. suministra 1 referencia.\n",
    "\n",
    "\n",
    "#### Información de ubicación de Locales \n",
    "\n",
    "\n",
    "1. La tabla de locales, contiene la informacion referente a la ubicacion de los locales, contiene las coordenadas y el id de la región. \n",
    "\n",
    "2. Se encontraron 35 valores de latitud y longitud que contenían valores nulos y 14 registros con valores en 0.0. Para los valores nulos se rellenaron con el valor medio de las columnas de latitud y longitud, y para los registros con valores en 0.0 se encontraron los valores correspondientes de las coordenadas y se realizaron las imputaciones.\n",
    "\n",
    "3. Se agruparon las categorías de la columna \"desc_cadena\" de la siguiente manera ver Figura 2. \n",
    "\n",
    "\\begin{figure}\n",
    "\\centering % imagen centrada\n",
    "\\captionsetup{justification=centering,margin=2cm}\n",
    "\\includegraphics[width=1\\textwidth]{images/porcentaje_locales.png}\n",
    "\\caption{Figura 2. Porcentaje de locales por cadena de supermercado}\n",
    "Figura 2. Porcentaje de locales por cadena de supermercado\n",
    "\\end{figure}\n",
    "\n",
    "| **Cadena**   | **Total Locales** |\n",
    "|:------------:|:-----------------:|\n",
    "| Vea          | 68                |\n",
    "| Disco        | 61                |\n",
    "| Jumbo        | 31                |\n",
    "| Rincon Jumbo | 10                |\n",
    "| Plaza Vea    | 5                 |\n",
    "| Total        | 175               |\n",
    "\n",
    "\n",
    "4. Como se puede observar, se puede concluir que las cadenas de supermercados Vea y Disco contienen la mayor cantidad de locales, seguidas por las cadenas Jumbo. En último lugar, se encuentran las cadenas de supermercados Plaza Vea.\n",
    "Sin embargo, se encontró que la mayoría de los movimientos de ventas corresponden a los locales de las cadenas Vea, Disco y Jumbo.\n",
    "\n",
    "5. El conjunto de datos contiene 6 centros de distribución y 169 locales.\n",
    "\n",
    "#### Conjunto de Datos Final Merged \n",
    "\n",
    "Después de realizar la unión de las tablas de Movimientos, Promociones, Locales y Proveedores_Productos, se concluye lo siguiente:\n",
    "\n",
    "En total, se tienen 8.356.436 registros y 27 columnas identificadas de la siguiente manera:\n",
    "\n",
    "**1. Variables numéricas:**\n",
    "\n",
    "- idb: Identificador interno del local.\n",
    "- id_producto: Identificador interno del producto.\n",
    "- fecha_trans: Fecha de la transacción (un día antes de la fecha actual).\n",
    "- stock_unidades: Número de unidades de producto en el local.\n",
    "- venta_unidades: Número de unidades vendidas.\n",
    "- precio_unitario: Precio de venta unitario.\n",
    "- mov_month.\n",
    "- mov_year.\n",
    "- mov_weekday.\n",
    "- id_cadena: Identificador interno de la cadena.\n",
    "- id_region: Identificador interno de la región.\n",
    "- latitud: Ubicación en el eje Y de la boca.\n",
    "- longitud: Ubicación en el eje X de la boca.\n",
    "- ventas_estimadas_promo: Estimación de ventas en unidades durante la promoción.\n",
    "- nro_prom: Número de la promoción.\n",
    "- duracion_promo: Duración de la promoción (diferencia entre fecha_desde y fecha_hasta).\n",
    "\n",
    "**2. Variables binarias:**\n",
    "\n",
    "- cd_abast: Identificador de la ubicación de la tienda que suministra el producto a la ubicación actual.\n",
    "- sigue_prod_en_rol: Indica si el producto sigue en rol (SI) o no (NO) en la ubicación actual.\n",
    "- punto_distr: Indica si el valor es 1 que es un centro de distribución, de lo contrario es un local.\n",
    "- local: Indica si el valor es 1 que es un local, si es 0 no es un local.\n",
    "- is_weekend.\n",
    "- tiene_promo.\n",
    "\n",
    "**3. Variables categóricas:**\n",
    "\n",
    "- desc_cadena: Tiene 5 subniveles: Plaza Vea, Vea, Jumbo, Disco y Rincón Jumbo.\n",
    "- dia_semana.\n",
    "- estación.\n",
    "\n",
    "**4. Variables string:**\n",
    "\n",
    "- desc_producto.\n",
    "- razon_social.\n",
    "\n",
    "**5. Columnas que se eliminaron:**\n",
    "\n",
    "- desc_region: Tiene 1 subnivel, el cual es Buenos Aires para todos los registros, lo que indica que solo hay una región para todos. Se decidió eliminarla para el propósito del análisis.\n",
    "- desc_local: Debido a que no aporta información relevante para el análisis y se dispone de las coordenadas de latitud y longitud.\n",
    "- fecha_desde: Fecha de inicio de la promoción, ya que se calculó la columna duracion_promo con base en estos resultados.\n",
    "- fecha_hasta: Fecha de finalización de la promoción.\n",
    "- Las columnas relacionadas con familia, subfamilia y gran familia, ya que solo teníamos un nivel para todos los productos del dataset, lo que no lo hace relevante para el análisis.\n",
    "\n",
    "**6. Columnas que se crearon:**\n",
    "\n",
    "- La duración_promo se refiere a la diferencia de tiempo entre la fecha de inicio y la fecha de finalización de una promoción.\n",
    "\n",
    "- La variable is_weekend es una variable binaria que toma el valor 1 si el día es fin de semana (sábado o domingo) y 0 si es día entre semana.\n",
    "\n",
    "- Se crearon las variables mov_year, mov_month y mov_day.\n",
    "\n",
    "- La variable tiene_promo es una variable binaria que toma el valor 1 si el producto tiene una promoción y 0 si no tiene promoción.\n",
    "\n",
    "- La variable estacion contiene la clasificación de las estaciones del año (invierno, verano, primavera y otoño). Se establecieron las fechas para cada estación de la siguiente manera:\n",
    "\n",
    "    - Invierno: del 21 de diciembre al 20 de marzo.\n",
    "    - Primavera: del 21 de marzo al 20 de junio.\n",
    "    - Verano: del 21 de junio al 20 de septiembre.\n",
    "    - Otoño: del 21 de septiembre al 20 de diciembre.\n",
    "\n",
    "- La variable dia_semana contiene el nombre del día de la semana."
   ]
  },
  {
   "cell_type": "markdown",
   "id": "9ffb461a",
   "metadata": {},
   "source": [
    "\\newpage"
   ]
  },
  {
   "cell_type": "markdown",
   "id": "aa1fb4ec",
   "metadata": {},
   "source": [
    "### Análisis descriptivo de las ventas de desodorantes \n",
    "\n",
    "\n",
    "A continuación, presentamos un análisis descriptivo de las columnas de ventas, precio unitario, ventas estimadas en promociones y duración de la promoción. Para obtener mas detalles veamos la figura.\n",
    "\n",
    "\\begin{figure}\n",
    "\\centering % imagen centrada\n",
    "\\captionsetup{justification=centering,margin=2cm}\n",
    "\\includegraphics[width=0.5\\textwidth]{images/deodorants_stats.png}\n",
    "\\caption{Figura 3. Análisis Descriptivo de los movimientos de desodorantes}\n",
    "Figura 3. Análisis Descriptivo de los movimientos de desodorantes\n",
    "\\end{figure}\n",
    "\n",
    "Podemos concluir lo siguiente: \n",
    "\n",
    "1. El total medio de unidades en stock es de 21 unidades.\n",
    "2. El total de ventas en unidades de desodorantes en aerosol es de 0.314 unidades por día.\n",
    "3. El máximo de ventas de desodorantes en aerosol fue de 612 unidades\n",
    "4. En promedio, se venden 0.39 unidades diarias de desodorantes en aerosol durante una promoción. \n",
    "5. El precio unitario medio de un desodorante en aerosol es de 64 pesos.\n",
    "6. La duración máxima de una promoción es de 18 días."
   ]
  },
  {
   "cell_type": "markdown",
   "id": "9fdeb18c",
   "metadata": {},
   "source": [
    "\\newpage"
   ]
  },
  {
   "cell_type": "markdown",
   "id": "1c7bff41",
   "metadata": {},
   "source": [
    "### Preguntas a Responder \n",
    "\n",
    "Para realizar el analisis explotario de datos vamos a responder las siguientes preguntas para definir el impacto de las demás variables en las ventas de desodorantes en aerosol. \n",
    "\n",
    "1. ¿Cuáles son los productos con mayor y menor volumen de ventas?\n",
    "2. ¿Cuáles son los productos con precio unitario por encima y por debajo de la media?\n",
    "3. ¿En qué local se registra el mayor volumen de ventas y en qué zona se ubica?\n",
    "4. ¿Hay alguna marca de desodorante que tenga mejor venta en ciertas regiones geográficas?\n",
    "5. ¿Hay un patrón estacional en las ventas de desodorantes?\n",
    "6. ¿Cuáles son los desodorantes más vendidos en diferentes cadenas de supermercados?"
   ]
  },
  {
   "cell_type": "markdown",
   "id": "891e6c5e",
   "metadata": {},
   "source": [
    "\\newpage"
   ]
  },
  {
   "cell_type": "markdown",
   "id": "7b39b261",
   "metadata": {},
   "source": [
    "### Análisis de la relación de variables y el efecto en las ventas de desodorantes\n",
    "\n",
    "#### 1. ¿Cuáles son los productos con mayor y menor volumen de ventas?\n",
    "\n",
    "**Desodorantes de aerosol más vendidos** \n",
    "\n",
    "A continuación se muestra un gráfico que presenta los 10 desodorantes más vendidos durante el período de julio de 2016 hasta julio de 2019.\n",
    "\n",
    "\\begin{figure}\n",
    "\\centering % imagen centrada\n",
    "\\captionsetup{justification=centering,margin=2cm}\n",
    "\\includegraphics[width=1\\textwidth]{images/ventas_desodorantes_top10.png}\n",
    "\\caption{Figura 4. Top 10 de desodorantes de ambiente en aerosol con mayor volumen de ventas}\n",
    "Figura 4. Top 10 desodorantes de ambiente en aerosol con mayor volumen de ventas\n",
    "\\end{figure}\n",
    "\n",
    "- Podemos concluir que el desodorante más vendido es el producto con el ID 342686 y la descripción \"glade desodorante de ambientes lavander nueva formula 751 cc\", suministrado por S. C. Johnson. Se vendieron un total de 109531 unidades de este producto.\n",
    "\n",
    "- El segundo producto más vendido es el producto con el ID 240911 y la descripción \"poett ambiental lavanda nuevo d 0.377 kg\", suministrado por Clorox Argentina S.A. Se vendieron un total de 100861 unidades de este producto.\n",
    "\n",
    "**Desodorantes de aerosol menos vendidos** \n",
    "\n",
    "El siguiente gráfico presenta los 10 desodorantes menos vendidos durante el período de julio de 2016 hasta julio de 2019.\n",
    "\n",
    "\\begin{figure}\n",
    "\\centering % imagen centrada\n",
    "\\captionsetup{justification=centering,margin=2cm}\n",
    "\\includegraphics[width=1\\textwidth]{images/ventas_desodorantes_bot10.png}\n",
    "\\caption{Figura 5. Top 10 desodorantes de ambiente en aerosol con menor volumen de ventas}\n",
    "Figura 5. Top 10 desodorantes de ambiente en aerosol con menor volumen de ventas\n",
    "\\end{figure}\n",
    "\n",
    "Observamos que los primeros tres productos con menor volumen de ventas no tienen descripción en la tabla de productos, posiblemente debido a un error en la recopilación de datos. Sin embargo, en cuarto lugar se encuentra el desodorante con id 466069 y descripción \"glade toque aromatizante de ambientes campos\" del proveedor S.C. Johnson, con un total de 2812 unidades vendidas."
   ]
  },
  {
   "cell_type": "markdown",
   "id": "059203e2",
   "metadata": {},
   "source": []
  },
  {
   "cell_type": "markdown",
   "id": "999e14f1",
   "metadata": {},
   "source": [
    "#### 2. ¿Cuáles son los productos con precio unitario por encima y por debajo de la media?\n",
    "\n"
   ]
  },
  {
   "cell_type": "markdown",
   "id": "078a1c34",
   "metadata": {},
   "source": [
    "\\newpage"
   ]
  },
  {
   "cell_type": "markdown",
   "id": "2cedae59",
   "metadata": {},
   "source": [
    "\n",
    "\n",
    "\\bibliographystyle{plain}\n",
    "\\bibliography{references}\n"
   ]
  },
  {
   "cell_type": "code",
   "execution_count": null,
   "outputs": [],
   "source": [],
   "metadata": {
    "collapsed": false
   }
  },
  {
   "cell_type": "markdown",
   "source": [],
   "metadata": {
    "collapsed": false
   }
  },
  {
   "cell_type": "markdown",
   "source": [],
   "metadata": {
    "collapsed": false
   }
  }
 ],
 "metadata": {
  "celltoolbar": "Tags",
  "kernelspec": {
   "display_name": "Python 3 (ipykernel)",
   "language": "python",
   "name": "python3"
  },
  "language_info": {
   "codemirror_mode": {
    "name": "ipython",
    "version": 3
   },
   "file_extension": ".py",
   "mimetype": "text/x-python",
   "name": "python",
   "nbconvert_exporter": "python",
   "pygments_lexer": "ipython3",
   "version": "3.10.9"
  },
  "toc": {
   "base_numbering": 1,
   "nav_menu": {
    "height": "95px",
    "width": "160px"
   },
   "number_sections": true,
   "sideBar": true,
   "skip_h1_title": false,
   "title_cell": "Table of Contents",
   "title_sidebar": "Contents",
   "toc_cell": false,
   "toc_position": {
    "height": "calc(100% - 180px)",
    "left": "10px",
    "top": "150px",
    "width": "259px"
   },
   "toc_section_display": true,
   "toc_window_display": true
  },
  "varInspector": {
   "cols": {
    "lenName": 16,
    "lenType": 16,
    "lenVar": 40
   },
   "kernels_config": {
    "python": {
     "delete_cmd_postfix": "",
     "delete_cmd_prefix": "del ",
     "library": "var_list.py",
     "varRefreshCmd": "print(var_dic_list())"
    },
    "r": {
     "delete_cmd_postfix": ") ",
     "delete_cmd_prefix": "rm(",
     "library": "var_list.r",
     "varRefreshCmd": "cat(var_dic_list()) "
    }
   },
   "position": {
    "height": "144.852px",
    "left": "1311px",
    "right": "20px",
    "top": "120px",
    "width": "350px"
   },
   "types_to_exclude": [
    "module",
    "function",
    "builtin_function_or_method",
    "instance",
    "_Feature"
   ],
   "window_display": false
  },
  "vscode": {
   "interpreter": {
    "hash": "5238573367df39f7286bb46f9ff5f08f63a01a80960060ce41e3c79b190280fa"
   }
  }
 },
 "nbformat": 4,
 "nbformat_minor": 5
}
