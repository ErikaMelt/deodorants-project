{
 "cells": [
  {
   "cell_type": "markdown",
   "id": "dd6e3e46",
   "metadata": {},
   "source": [
    "---\n",
    "documentclass: report\n",
    "output:\n",
    "  pdf_document:\n",
    "    keep_tex: no\n",
    "    pandoc_args: [\n",
    "      \"-H\", \"preamble.tex\"\n",
    "    ]\n",
    "header-includes:\n",
    "  - \\usepackage{graphicx}\n",
    "  - \\usepackage{biblatex}\n",
    "  - \\addbibresource{references.bib}\n",
    "---"
   ]
  },
  {
   "cell_type": "markdown",
   "id": "2b47c158",
   "metadata": {},
   "source": [
    "\\renewcommand\\refname{Bibliografía}\n",
    "\\renewcommand{\\contentsname}{Contenido}\n",
    "\\renewcommand{\\listfigurename}{Lista de Figuras}\n",
    "\\linespread{1.3}"
   ]
  },
  {
   "cell_type": "markdown",
   "id": "0d79ba81",
   "metadata": {},
   "source": [
    "\\begin{titlepage}\n",
    "    \\begin{center}\n",
    "        \\vspace*{1cm}\n",
    "        \n",
    "        \\Huge\n",
    "        \\textbf{Análisis del impacto que tienen las promociones en las ventas de desodorantes en aerosol en cinco cadenas de supermercados ubicados en Argentina}\n",
    "        \n",
    "        \\vspace{0.5cm}\n",
    "        \\LARGE\n",
    "        Análisis de las ventas de desodorantes en aerosol\n",
    "        \n",
    "        \\vspace{1.5cm}\n",
    "        \n",
    "        \\textbf{\\large Erika Ortiz \\\\ Romina Iglesias \\\\ Carme Alegret}\n",
    "        \n",
    "        \\vfill\n",
    "        \n",
    "        Este reporte se presenta\\\\\n",
    "        como requisito para el\\\\\n",
    "        Master en Data Science y Advanced Analytics \n",
    "        \n",
    "        \\vspace{0.8cm}\n",
    "        \n",
    "        \n",
    "        \\Large\n",
    "        Universitat Internacional de Catalunya\\\\\n",
    "        Barcelona\\\\\n",
    "        España\\\\\n",
    "        Abril 2023\n",
    "        \n",
    "    \\end{center}\n",
    "\\end{titlepage}"
   ]
  },
  {
   "cell_type": "markdown",
   "id": "45d57ee9",
   "metadata": {},
   "source": [
    "\\newpage\n",
    "\\tableofcontents"
   ]
  },
  {
   "cell_type": "markdown",
   "id": "a3779035",
   "metadata": {},
   "source": [
    "\\section{Introducción}\n",
    "\n",
    "En el presente trabajo, se llevará a cabo un análisis de datos provenientes de diversas fuentes. El conjunto de datos se compone de cuatro datasets: uno que contiene información de productos y proveedores, otro con los movimientos de ventas registrados por fecha, una tabla con los datos de las promociones realizadas y, por último, un dataset con la información de los locales, que incluye su ubicación y su tipo (punto de distribución o local). El objetivo es analizar tendencias y patrones, realizar un análisis descriptivo de los datos, diseñar una arquitectura para la implementación del modelo y crear un modelo predictivo para estimar el volumen de ventas en función de las promociones y otros factores.\n",
    "\n",
    "En este análisis se identificaron cinco cadenas de supermercados involucradas: \n",
    "- Plaza Vea\n",
    "- Vea\n",
    "- Disco\n",
    "- Jumbo\n",
    "- Rincón Jumbo. \n",
    "\n",
    "El producto seleccionado para el estudio son los desodorantes en aerosol pertenecientes a la familia de productos de Limpieza para el baño y el hogar.\n",
    "\n",
    "Los datasets utilizados en este análisis son de tamaño considerable. \n",
    "- Productos y proveedores: 82 registros\n",
    "- Movimientos de ventas: 8.347.817 registros\n",
    "- Promociones: 15.270 registros\n",
    "- Locales: 175 registros\n",
    "\n",
    "En resumen, este trabajo tiene como objetivo desarrollar un análisis completo de los datos, diseñar un modelo predictivo para predecir el volumen de ventas y aplicarlo a los datos disponibles. Esto permitirá identificar patrones y tendencias en la venta de desodorantes en aerosol y, potencialmente, brindar información útil a las cadenas de supermercados involucradas para mejorar sus estrategias de ventas.\n"
   ]
  },
  {
   "cell_type": "markdown",
   "id": "46b2d35e",
   "metadata": {},
   "source": [
    "\\section{Objetivos}\n",
    "\n",
    "1. Determinar el efecto de las promociones en las ventas de desodorantes en aerosol a partir del análisis del conjunto de datos disponible desde el 15 de Julio de 2016 hasta  14 de Julio de 2019.\n",
    "\n",
    "2. Evaluar las ventas de desodorantes en aerosol que no fueron promocionados para identificar patrones y tendencias en la demanda.\n",
    "\n",
    "3. Desarrollar un modelo predictivo que permita estimar el volumen de ventas de desodorantes en aerosol cuando se implementa una promoción.\n",
    "\n",
    "4. Establecer una arquitectura adecuada para la creación, mantenimiento y despliegue del modelo predictivo, considerando factores como la escalabilidad y la eficiencia del proceso."
   ]
  },
  {
   "cell_type": "markdown",
   "id": "e814c703",
   "metadata": {},
   "source": [
    "\\section{Análisis Exploratorio de Datos}\n",
    "\n",
    "Para realizar el analisis explotario de datos vamos a responder las siguientes preguntas: \n",
    "\n",
    "- ¿Cuáles son los productos con mayor volumen de ventas?\n",
    "- ¿Cuáles son los productos con un precio unitario superior a la media?\n",
    "- ¿Cuáles son los productos con un precio unitario inferior a la media?\n",
    "- ¿Cuál es el comportamiento de las ventas de productos en función de los locales (idb)?\n",
    "- ¿Cómo varía el comportamiento de las ventas de productos por mes, agrupado por año y por local?\n",
    "- ¿Cómo varía el comportamiento de las ventas de productos según la estación del año (invierno, verano, primavera, otoño)? Para esto, se creará una nueva columna que agrupe los meses por estaciones del año\n",
    "\n",
    "\n",
    "Al realizar la union de los datos nos encontramos con lo siguiente: \n",
    "\n",
    "### Movimientos de ventas con promociones\n",
    "\n",
    "Esta categoría incluye los movimientos de ventas que están relacionados con promociones registradas en la tabla de promociones. Al cruzar la información, se pudo comprobar que para los productos en la tabla de movimientos, existe una promoción y, además, se encontró en la tabla de productos la descripción correspondiente del producto.\n",
    "Esta categoría contiene un total de 136,278 registros.\n",
    "\n",
    "### Movimientos de ventas sin promociones\n",
    "\n",
    "Se encontraron movimientos de ventas que no tienen promociones registradas en la tabla de promociones. En total, existen 7,628,466 registros en esta categoría.\n",
    "\n",
    "### Movimientos de ventas sin promociones ni información de productos\n",
    "\n",
    "Se encontraron movimientos de ventas que no tienen promociones y tampoco tienen información de la descripción del producto. En la tabla de productos, existen 82 referencias únicas, pero en la tabla de movimientos, hay 92 referencias únicas. Esto significa que este conjunto de datos agrupa las 10 referencias de productos que no estaban relacionadas en la tabla de productos, por lo tanto, no contamos con información acerca de la descripción del producto para estos casos.\n",
    "\n"
   ]
  },
  {
   "cell_type": "markdown",
   "id": "2cedae59",
   "metadata": {},
   "source": [
    "\n",
    "\n",
    "\\bibliographystyle{plain}\n",
    "\\bibliography{references}\n"
   ]
  }
 ],
 "metadata": {
  "celltoolbar": "Tags",
  "kernelspec": {
   "display_name": "Python 3 (ipykernel)",
   "language": "python",
   "name": "python3"
  },
  "language_info": {
   "codemirror_mode": {
    "name": "ipython",
    "version": 3
   },
   "file_extension": ".py",
   "mimetype": "text/x-python",
   "name": "python",
   "nbconvert_exporter": "python",
   "pygments_lexer": "ipython3",
   "version": "3.10.8"
  },
  "toc": {
   "base_numbering": 1,
   "nav_menu": {
    "height": "95px",
    "width": "160px"
   },
   "number_sections": true,
   "sideBar": true,
   "skip_h1_title": false,
   "title_cell": "Table of Contents",
   "title_sidebar": "Contents",
   "toc_cell": false,
   "toc_position": {
    "height": "calc(100% - 180px)",
    "left": "10px",
    "top": "150px",
    "width": "233px"
   },
   "toc_section_display": true,
   "toc_window_display": true
  },
  "varInspector": {
   "cols": {
    "lenName": 16,
    "lenType": 16,
    "lenVar": 40
   },
   "kernels_config": {
    "python": {
     "delete_cmd_postfix": "",
     "delete_cmd_prefix": "del ",
     "library": "var_list.py",
     "varRefreshCmd": "print(var_dic_list())"
    },
    "r": {
     "delete_cmd_postfix": ") ",
     "delete_cmd_prefix": "rm(",
     "library": "var_list.r",
     "varRefreshCmd": "cat(var_dic_list()) "
    }
   },
   "position": {
    "height": "144.852px",
    "left": "1311px",
    "right": "20px",
    "top": "120px",
    "width": "350px"
   },
   "types_to_exclude": [
    "module",
    "function",
    "builtin_function_or_method",
    "instance",
    "_Feature"
   ],
   "window_display": false
  },
  "vscode": {
   "interpreter": {
    "hash": "5238573367df39f7286bb46f9ff5f08f63a01a80960060ce41e3c79b190280fa"
   }
  }
 },
 "nbformat": 4,
 "nbformat_minor": 5
}
