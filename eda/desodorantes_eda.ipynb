{
 "cells": [
  {
   "cell_type": "markdown",
   "id": "dd6e3e46",
   "metadata": {},
   "source": [
    "---\n",
    "documentclass: report\n",
    "output:\n",
    "  pdf_document:\n",
    "    keep_tex: no\n",
    "    pandoc_args: [\n",
    "      \"-H\", \"preamble.tex\"\n",
    "    ]\n",
    "header-includes:\n",
    "  - \\usepackage{biblatex}\n",
    "  - \\addbibresource{references.bib}\n",
    "---"
   ]
  },
  {
   "cell_type": "markdown",
   "id": "991d67c9",
   "metadata": {},
   "source": [
    "\\renewcommand\\refname{Bibliografía}\n",
    "\\renewcommand{\\contentsname}{Contenido}\n",
    "\\renewcommand{\\listfigurename}{Lista de Figuras}\n",
    "\\linespread{1.3}"
   ]
  },
  {
   "cell_type": "markdown",
   "id": "f4a9fe85",
   "metadata": {},
   "source": [
    "\\begin{titlepage}\n",
    "    \\centering\n",
    "    \\vspace*{2cm}\n",
    "    \\LARGE\n",
    "    \\textbf{Análisis del impacto que tienen las promociones en las ventas de desodorantes en aerosol}\n",
    "    \n",
    "    \\vspace{1cm}\n",
    "    \\large\n",
    "    Análisis de las ventas de desodorantes en aerosol en cinco cadenas de supermercados ubicados en Argentina\n",
    "    \n",
    "    \\vspace{2cm}\n",
    "    \n",
    "    \\begin{tabular}{c}\n",
    "        \\Large Erika Ortiz \\\\\n",
    "        \\Large Romina Iglesias \\\\\n",
    "        \\Large Carme Alegret \\\\\n",
    "    \\end{tabular}\n",
    "    \n",
    "    \\vfill\n",
    "    \\large\n",
    "    Este reporte se presenta como requisito para el Master en Data Science y Advanced Analytics \n",
    "    \n",
    "    \\vspace{0.5cm}\n",
    "    Universitat Internacional de Catalunya\\\\\n",
    "    Barcelona, España\\\\\n",
    "    Abril 2023\n",
    "\\end{titlepage}"
   ]
  },
  {
   "cell_type": "markdown",
   "id": "45d57ee9",
   "metadata": {},
   "source": [
    "\\newpage"
   ]
  },
  {
   "cell_type": "markdown",
   "id": "cbe2783b",
   "metadata": {},
   "source": [
    "\\tableofcontents"
   ]
  },
  {
   "cell_type": "markdown",
   "id": "b1073c62",
   "metadata": {},
   "source": [
    "\\newpage"
   ]
  },
  {
   "cell_type": "markdown",
   "id": "a173741e",
   "metadata": {},
   "source": [
    "\\listoffigures"
   ]
  },
  {
   "cell_type": "markdown",
   "id": "aae6e4a9",
   "metadata": {},
   "source": [
    "\\newpage"
   ]
  },
  {
   "cell_type": "markdown",
   "id": "7e96ae3a",
   "metadata": {},
   "source": [
    "\\section{Introducción}\n",
    "\n",
    "En el presente trabajo, se llevará a cabo un análisis de datos provenientes de diversas fuentes. El conjunto de datos se compone de cuatro datasets: uno que contiene información de productos y proveedores, otro con los movimientos de ventas registrados por fecha, una tabla con los datos de las promociones realizadas y, por último, un dataset con la información de los locales, que incluye su ubicación y su tipo (punto de distribución o local). El objetivo es analizar tendencias y patrones, realizar un análisis descriptivo de los datos, diseñar una arquitectura para la implementación del modelo y crear un modelo predictivo para estimar el volumen de ventas en función de las promociones y otros factores.\n",
    "\n",
    "En este análisis se identificaron cinco cadenas de supermercados involucradas las cuales dos son puntos de distribuccion.  \n",
    "\n",
    "- Plaza Vea\n",
    "- Vea\n",
    "- Disco\n",
    "- Jumbo\n",
    "- Rincón Jumbo\n",
    "\n",
    "El producto seleccionado para el estudio son los desodorantes en aerosol pertenecientes a la familia de productos de Limpieza para el baño y el hogar.\n",
    "\n",
    "Los datasets utilizados en este análisis son de tamaño considerable:\n",
    "\n",
    "- Productos y proveedores: 82 registros\n",
    "- Movimientos de ventas: 8.347.817 registros\n",
    "- Promociones: 15.270 registros\n",
    "- Locales: 175 registros\n",
    "\n",
    "En resumen, este trabajo tiene como objetivo desarrollar un análisis de las ventas de desodorantes en función de las promociones para poder predecir el volumen de ventas. \n",
    "\n",
    "Igualmente vamos a identificar patrones y tendencias en la venta de desodorantes en aerosol y, potencialmente, brindar información útil a las cadenas de supermercados involucradas para mejorar sus estrategias de ventas.\n"
   ]
  },
  {
   "cell_type": "markdown",
   "id": "ecdce7b7",
   "metadata": {},
   "source": [
    "\\newpage"
   ]
  },
  {
   "cell_type": "markdown",
   "id": "0caa3e92",
   "metadata": {},
   "source": [
    "\\section{Objetivos}\n",
    "\n",
    "1. Determinar el efecto de las promociones en las ventas de desodorantes en aerosol a partir del análisis del conjunto de datos disponible desde el 15 de Julio de 2016 hasta  14 de Julio de 2019.\n",
    "\n",
    "2. Evaluar las ventas de desodorantes en aerosol que no fueron promocionados para identificar patrones y tendencias en la demanda.\n",
    "\n",
    "3. Desarrollar un modelo predictivo que permita estimar el volumen de ventas de desodorantes en aerosol cuando se implementa una promoción.\n",
    "\n",
    "4. Establecer una arquitectura adecuada para la creación, mantenimiento y despliegue del modelo predictivo, considerando factores como la escalabilidad y la eficiencia del proceso."
   ]
  },
  {
   "cell_type": "markdown",
   "id": "ffa63f4b",
   "metadata": {},
   "source": [
    "\\newpage"
   ]
  },
  {
   "cell_type": "markdown",
   "id": "f4b453dd",
   "metadata": {},
   "source": [
    "\\section{Análisis Exploratorio de Datos}"
   ]
  },
  {
   "cell_type": "markdown",
   "id": "50ba3821",
   "metadata": {},
   "source": [
    "### Análisis del dataset \n",
    "\n",
    "Al realizar la unión de los diferentes conjuntos de datos, encontramos lo siguiente: \n",
    "\n",
    "#### Dataset principal Movimientos de ventas \n",
    "\n",
    "- La tabla maestra es la tabla movimientos de ventas que es un tabla transaccional que contiene las ventas registradas por cada producto, la cantidad vendida en unidades y el stock en unidades, igualmente contiene el precio de venta unitario.   \n",
    "\n",
    "- Esta tabla contiene 8.347.817 de registros\n",
    "\n",
    "#### Información de las promociones realizadas a los productos \n",
    "\n",
    "- La tabla de promociones contiene 15.270 registros, los cuales contienen el identificador del producto, el id de la promocion, la fecha de inicio y final, la cantidad de ventas estimadas y el local en el cual se realizo la promoción, se realizo un left join con la tabla movimientos para establecer los movimientos que tengan promociones.  \n",
    "\n",
    "- El conjunto de datos contiene información sobre promociones realizadas desde el 19 de julio de 2016 hasta el 16 de julio de 2019.\n",
    "\n",
    "Minimum date: 2016-07-19 00:00:00\n",
    "Maximum date: 2019-07-16 00:00:00\n",
    "\n",
    "- Después de analizar los datos, hemos encontrado 268,692 registros duplicados en la tabla de promociones. Estos registros tienen la misma información, excepto por la fecha de transacción. Como esta información no es relevante en este caso, la hemos eliminado de nuestro conjunto de datos.\n",
    "\n",
    "\n",
    "- También hemos notado que la columna \"porcentaje_dcto\" que contiene el dataset segun el mapping no corresponde a un porcentaje, procedimos a verificar sacando la diferencia de entre fecha hasta-fecha desde y nos dan los mismo valores, por lo cual concluimos que el porcentaje no esta en el dataset sino hace referencia a la duracion de la promoción. La columna \"duracion_promo\" se ha creado calculando el tiempo transcurrido entre la fecha de inicio y la fecha de finalización de la promoción.\n",
    "\n",
    "\n",
    "\n",
    "#### Información de los Proveedores y descripción de Productos\n",
    "\n",
    "- Podemos concluir que el conjunto de datos contiene un total de 82 productos únicos que son suministrados por cuatro proveedores principales. En su mayoría, estos productos pertenecen a la categoría de desodorantes en aerosol, que se encuentra dentro de la familia de desodorantes de ambientes clasificados como productos de limpieza para el baño y hogar.\n",
    "\n",
    "- En función de los objetivos específicos de este análisis, se ha decidido que las columnas de razon social, id del proveedor, id del producto y descripción del producto son las únicas que se utilizarán, eliminando así las demás columnas del dataset.\n",
    "\n",
    "- Encontramos que existen 10 referencias de productos que no se encontro un match en la tabla proveedores_productos, ya que esta tabla contiene solamente 82 referencias unicas, peroo la tabla movimientos contiene 92. por lo tanto 10 referencias no contienen informacion acerca de la descripcion del producto o informacion de la razon social. \n",
    "\n",
    "\n",
    "\\begin{figure}\n",
    "\\centering % imagen centrada\n",
    "\\captionsetup{justification=centering,margin=2cm}\n",
    "\\includegraphics[width=1\\textwidth]{images/productos_por_proveedor.png}\n",
    "\\caption{Figura 1.Análisis de la cantidad de desodorantes en aeresol suministrado por proveedor}\n",
    "Figura 1. Análisis de la cantidad de desodorantes en aeresol suministrado por proveedor\n",
    "\\end{figure}\n",
    "\n",
    "\n",
    "#### Información de ubicación de Locales \n",
    "\n",
    "- La tabla de locales, contiene la informacion referente a la ubicacion de los locales, contiene las coordenadas y el id de la regioon, con esta tabla hicimos un inner join con la tabla movimientos para poder obtener de las cooordenadas de los locales. \n",
    "\n",
    "\n",
    "#### Dataset Final Merged \n",
    "\n",
    "Despues de hacer el merge de las tablas de promociones, locales y provedores_productos con la tabla de movimientos de las ventas de desodorantes podemos concluir lo siguiente: \n",
    "\n",
    "- En total tenemos 8.356.436 registros de ventas y las siguientes columnas que significan las siguientes variables identificadas así: \n",
    "\n",
    "**Variables Númerica*** \n",
    "\n",
    "    - idb: identificador interno del local. \n",
    "    - id_producto: identificador interno del producto. \n",
    "    - fecha_trans: fecha de la transacción (un día antes de la fecha actual)\n",
    "    - stock_unidades: número de unidades de producto en el local. \n",
    "    - venta_unidades: número de unidades vendidas. \n",
    "    - precio_unitario: precio de venta unitario\n",
    "    - id_cadena: Identificador interno de la cadena.       \n",
    "    - id_region: Identificador interno de la región.\n",
    "    - latitud: Ubicación en el eje Y de la boca.\n",
    "    - longitud: Ubicación en el eje X de la boca.\n",
    "    - ventas_estimadas_und: Estimación de ventas en unidades durante la promoción\n",
    "    - nro_prom: Número de la promoción\n",
    "    - duracion_promo: Duración de la promoción (diferencia entre fecha_desde y fecha_hasta)\n",
    "\n",
    "**Variables binarias** \n",
    "\n",
    "    - cd_abast: identificador de la ubicación de la tienda que suministra el producto a la ubicación actual.\n",
    "    - sigue_prod_en_rol: indica si el producto sigue en rol (SI) o no (NO) en la ubicación actual.\n",
    "    - punto_distr: Indica si el valor es 1 que es un centro de distribución, de lo contrario es un local.\n",
    "                - local: Indica si el valor es 1 que es un local, si es 0 no es un local.\n",
    "           \n",
    "**Variables categoricas** \n",
    "\n",
    "    - La columna \"desc_cadena\" tiene 5 subniveles: Plaza Vea, Vea, Jumbo, Disco y Rinco Jumbo.\n",
    "    - La columna \"desc_region\" tiene 1 subnivel, el cual es Buenos Aires.\n",
    "\n",
    "\n",
    "**Se eliminaron** \n",
    "\n",
    "    - desc_region: Descripción de la región\n",
    "    - desc_local: debido a que no aporta información relevante para el análisis y se dispone de las coordenadas de latitud y longitud.\n",
    "    fecha_desde: Fecha de inicio de la promoción\n",
    "    fecha_hasta: Fecha de finalización de la promoción\n",
    "    \n",
    "    \n",
    "    \n",
    "\n",
    "\n",
    "\n",
    "4. Es importante tener en cuenta que esta tabla no registra transacciones, sino que registra el número de promoción, la fecha de inicio y final, y el valor estimado de las ventas en la promoción. Por esta razón, la fecha de transacción no es relevante en este caso.\n",
    "\n",
    "5. La media de ventas estimadas en unidades durante las promociones es de 22 unidades.\n",
    "\n",
    "6. La duración máxima de una promoción es de 18 días, mientras que la duración mínima es de 8 días, la media es de 8 días.\n",
    "\n",
    "3. Se encontraron 35 valores de latitud y longitud que contenían valores nulos y 14 registros con valores en 0.0. Para los valores nulos se rellenaron con el valor medio de las columnas de latitud y longitud, y para los registros con valores en 0.0 se encontraron los valores correspondientes de las coordenadas y se realizaron las imputaciones.\n",
    "\n",
    "4. Se encontraron dos columnas categóricas con los siguientes subniveles:\n",
    "\n",
    "\n",
    "5. Todos los registros de la columna \"desc_region\" tienen el valor \"Buenos Aires\", lo que indica que solo hay una región.\n",
    "\n",
    "6. Se agruparon las categorías de la columna \"desc_cadena\" de la siguiente manera:\n",
    "\n",
    "    | **Cadena** | **Total Locales** |\n",
    "        Plaza Vea | 5\n",
    "        Disco | 61\n",
    "        Vea | 68\n",
    "        Jumbo | 31\n",
    "        Rincon Jumbo | 10\n",
    "\n",
    "7. El conjunto de datos contiene 6 centros de distribución y 169 locales.\n"
   ]
  },
  {
   "cell_type": "markdown",
   "id": "b4d936e0",
   "metadata": {},
   "source": [
    "### Preguntas a Responder \n",
    "\n",
    "Para realizar el analisis explotario de datos vamos a responder las siguientes preguntas para definir el impacto de las demás variables en las ventas de desodorantes en aerosol. \n",
    "\n",
    "- ¿Cuáles son los top 10 productos con mayor y menor volumen de ventas?\n",
    "- ¿Cuáles son los top 10 productos con un precio unitario superior e inferior a la media?\n",
    "- ¿Cuál es el comportamiento de las ventas de productos en función de los locales (idb)?\n",
    "- ¿Cómo varía el comportamiento de las ventas de productos por mes, agrupado por año y por local?\n",
    "- ¿Cómo varía el comportamiento de las ventas de productos según la estación del año (invierno, verano, primavera, otoño)? Para esto, se creará una nueva columna que agrupe los meses por estaciones del año\n"
   ]
  },
  {
   "cell_type": "markdown",
   "id": "2a045d50",
   "metadata": {},
   "source": [
    "### Análisis descriptivo de las ventas de desodorantes \n",
    "\n",
    "\\begin{figure}\n",
    "\\centering % imagen centrada\n",
    "\\captionsetup{justification=centering,margin=2cm}\n",
    "\\includegraphics[width=1\\textwidth]{images/deodorants_stats.png}\n",
    "\\caption{Figura 2. Análisis Descriptivo de los movimientos de desodorantes}\n",
    "Figura 2. Análisis Descriptivo de los movimientos de desodorantes\n",
    "\\end{figure}\n"
   ]
  },
  {
   "cell_type": "markdown",
   "id": "78be8f24",
   "metadata": {},
   "source": [
    "\\newpage"
   ]
  },
  {
   "cell_type": "markdown",
   "id": "7b39b261",
   "metadata": {},
   "source": [
    "### Análisis de la relación de variables y el efecto en las ventas \n",
    "\n",
    "#### ¿Cuáles son los top 10 productos con mayor y menor volumen de ventas?\n",
    "\n",
    "\\begin{figure}\n",
    "\\centering % imagen centrada\n",
    "\\captionsetup{justification=centering,margin=2cm}\n",
    "\\includegraphics[width=1\\textwidth]{images/ventas_desodorantes_top10.png}\n",
    "\\caption{Figura 3. Top 10 de desodorantes de ambiente en aerosol con mayor volumen de ventas}\n",
    "Figura 3. Top 10 desodorantes de ambiente en aerosol con mayor volumen de ventas\n",
    "\\end{figure}"
   ]
  },
  {
   "cell_type": "markdown",
   "id": "059203e2",
   "metadata": {},
   "source": [
    "\\begin{figure}\n",
    "\\centering % imagen centrada\n",
    "\\captionsetup{justification=centering,margin=2cm}\n",
    "\\includegraphics[width=1\\textwidth]{images/ventas_desodorantes_bot10.png}\n",
    "\\caption{Figura 4. Top 10 desodorantes de ambiente en aerosol con menor volumen de ventas}\n",
    "Figura 4. Top 10 desodorantes de ambiente en aerosol con menor volumen de ventas\n",
    "\\end{figure}"
   ]
  },
  {
   "cell_type": "markdown",
   "id": "2100135b",
   "metadata": {},
   "source": [
    "**0bservaciones**\n",
    "\n"
   ]
  },
  {
   "cell_type": "markdown",
   "id": "2cedae59",
   "metadata": {},
   "source": [
    "\n",
    "\n",
    "\\bibliographystyle{plain}\n",
    "\\bibliography{references}\n"
   ]
  }
 ],
 "metadata": {
  "celltoolbar": "Tags",
  "kernelspec": {
   "display_name": "Python 3 (ipykernel)",
   "language": "python",
   "name": "python3"
  },
  "language_info": {
   "codemirror_mode": {
    "name": "ipython",
    "version": 3
   },
   "file_extension": ".py",
   "mimetype": "text/x-python",
   "name": "python",
   "nbconvert_exporter": "python",
   "pygments_lexer": "ipython3",
   "version": "3.10.9"
  },
  "toc": {
   "base_numbering": 1,
   "nav_menu": {
    "height": "95px",
    "width": "160px"
   },
   "number_sections": true,
   "sideBar": true,
   "skip_h1_title": false,
   "title_cell": "Table of Contents",
   "title_sidebar": "Contents",
   "toc_cell": false,
   "toc_position": {
    "height": "calc(100% - 180px)",
    "left": "10px",
    "top": "150px",
    "width": "320px"
   },
   "toc_section_display": true,
   "toc_window_display": true
  },
  "varInspector": {
   "cols": {
    "lenName": 16,
    "lenType": 16,
    "lenVar": 40
   },
   "kernels_config": {
    "python": {
     "delete_cmd_postfix": "",
     "delete_cmd_prefix": "del ",
     "library": "var_list.py",
     "varRefreshCmd": "print(var_dic_list())"
    },
    "r": {
     "delete_cmd_postfix": ") ",
     "delete_cmd_prefix": "rm(",
     "library": "var_list.r",
     "varRefreshCmd": "cat(var_dic_list()) "
    }
   },
   "position": {
    "height": "144.852px",
    "left": "1311px",
    "right": "20px",
    "top": "120px",
    "width": "350px"
   },
   "types_to_exclude": [
    "module",
    "function",
    "builtin_function_or_method",
    "instance",
    "_Feature"
   ],
   "window_display": false
  },
  "vscode": {
   "interpreter": {
    "hash": "5238573367df39f7286bb46f9ff5f08f63a01a80960060ce41e3c79b190280fa"
   }
  }
 },
 "nbformat": 4,
 "nbformat_minor": 5
}
