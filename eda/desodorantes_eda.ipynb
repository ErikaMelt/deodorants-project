{
 "cells": [
  {
   "attachments": {},
   "cell_type": "markdown",
   "id": "5b7ee43c",
   "metadata": {},
   "source": [
    "\\documentclass[12pt]{report}\n",
    "\\renewcommand\\refname{Bibliografía}\n",
    "\\renewcommand{\\contentsname}{Contenido}\n",
    "\\renewcommand{\\listfigurename}{Lista de Figuras}\n",
    "\\linespread{1.3}"
   ]
  },
  {
   "attachments": {},
   "cell_type": "markdown",
   "id": "5fceb8d0",
   "metadata": {},
   "source": [
    "\\tableofcontents\n",
    "\n",
    "1. Data_cleaning   \n",
    "2. EDA    \n",
    "3. Creación del Modelo. \n",
    "4. Arquitectura y Deployment \n",
    "5. Ejecución del modelo"
   ]
  },
  {
   "cell_type": "markdown",
   "id": "2fee4f86",
   "metadata": {},
   "source": [
    "\\newpage"
   ]
  },
  {
   "cell_type": "markdown",
   "id": "4b9b9252",
   "metadata": {},
   "source": [
    "\\listoffigures"
   ]
  },
  {
   "cell_type": "markdown",
   "id": "db47401b",
   "metadata": {},
   "source": [
    "\\newpage"
   ]
  },
  {
   "attachments": {},
   "cell_type": "markdown",
   "id": "5427963c",
   "metadata": {},
   "source": [
    "\\section{Palabras clave}\n",
    "\n",
    "Quizás no es necesario este apartado\n"
   ]
  },
  {
   "cell_type": "markdown",
   "id": "519361f8",
   "metadata": {},
   "source": [
    "\\newpage"
   ]
  },
  {
   "attachments": {},
   "cell_type": "markdown",
   "id": "c4acfcbc",
   "metadata": {},
   "source": [
    "\\section{Introducción}\n",
    "\n",
    "En el mundo empresarial actual, la toma de decisiones basada en datos se ha convertido en una necesidad para las empresas que desean mantenerse competitivas. En este contexto, surge la necesidad de predecir el volumen de ventas de productos en promoción para poder planificar de manera efectiva y eficiente.\n",
    "\n",
    "Este ejercicio se enfoca en un conjunto de supermercados con varios años de datos acumulados de productos de limpieza del hogar. El objetivo es poder predecir el volumen de ventas según las promociones que realizan de forma permanente. Para ello, se debe abordar el problema completo, desde que el cliente plantea la necesidad hasta la entrega de una solución práctica y útil para el negocio.\n",
    "\n",
    "El proyecto se dividirá en varias fases, que incluyen desde la recolección y limpieza de los datos, pasando por el análisis exploratorio y la selección de las mejores técnicas de modelado, hasta la entrega de la solución final. Para cada fase se utilizará la tecnología más adecuada y se definirá una arquitectura que permita la escalabilidad y el rendimiento óptimo.\n",
    "\n",
    "El resultado final del proyecto será un informe que detalle el proceso seguido, las tecnologías utilizadas, la arquitectura definida y los resultados obtenidos en una primera estimación base. Este informe servirá como base para la toma de decisiones futuras y la planificación de nuevas iniciativas en el área de la analítica de datos para el cliente.\n",
    "\n"
   ]
  },
  {
   "cell_type": "markdown",
   "id": "786bd7cc",
   "metadata": {},
   "source": [
    "\\newpage"
   ]
  },
  {
   "attachments": {},
   "cell_type": "markdown",
   "id": "30f3ec91",
   "metadata": {},
   "source": [
    "\\section{Objetivos} \n",
    "\n",
    "El caso:\n",
    "Se trata de un conjunto de supermercados que tienen varios años de datos acumulados de productos de limpieza del hogar.\n",
    "\n",
    "Realizan promociones de forma permanente y quieren poder predecir el volumen de ventas según las promociones que realizan.\n",
    "\n",
    "Objetivo:\n",
    "Se trata de plantear como abordar el problema completo, desde que el cliente plantea la necesidad:\n",
    "\n",
    "Como abordar el problema?\n",
    "Fases del proyecto y del proceso analítico?\n",
    "Tecnología a utilizar según las fases?\n",
    "Arquitectura según las fases?\n",
    "Propuestas de valor para el cliente a lo largo del proyecto?\n",
    "Esfuerzos necesarios y perfiles necesarios?\n",
    "Baseline de resultados iniciales?\n"
   ]
  },
  {
   "cell_type": "markdown",
   "id": "7dd39f4c",
   "metadata": {},
   "source": [
    "\\newpage"
   ]
  },
  {
   "attachments": {},
   "cell_type": "markdown",
   "id": "946ccb95",
   "metadata": {},
   "source": [
    "\\section{Data_cleaning} \n",
    "\\subsection{Importar datos} \n",
    "\n",
    "\n",
    "\n",
    "\n",
    "\n"
   ]
  },
  {
   "attachments": {},
   "cell_type": "markdown",
   "id": "f6d9932a",
   "metadata": {},
   "source": [
    "\\subsubsection{Análisis Descriptivo}\n",
    "\n"
   ]
  },
  {
   "cell_type": "markdown",
   "id": "49216a3d",
   "metadata": {},
   "source": [
    "\\newpage"
   ]
  },
  {
   "attachments": {},
   "cell_type": "markdown",
   "id": "6dcad384",
   "metadata": {},
   "source": [
    "\\section{EDA} \n",
    "\n"
   ]
  },
  {
   "attachments": {},
   "cell_type": "markdown",
   "id": "b9e36386",
   "metadata": {},
   "source": [
    "\\subsection{} "
   ]
  },
  {
   "attachments": {},
   "cell_type": "markdown",
   "id": "a7e66bfb",
   "metadata": {},
   "source": [
    "\\newpage"
   ]
  },
  {
   "attachments": {},
   "cell_type": "markdown",
   "id": "ed71e0bd",
   "metadata": {},
   "source": [
    "\\section{Creación del Modelo}\n",
    "\n"
   ]
  },
  {
   "cell_type": "markdown",
   "id": "3b71aa36",
   "metadata": {},
   "source": [
    "\\newpage"
   ]
  },
  {
   "attachments": {},
   "cell_type": "markdown",
   "id": "216e5c84",
   "metadata": {},
   "source": [
    "\\section{Arquitectura y Deployment}"
   ]
  },
  {
   "attachments": {},
   "cell_type": "markdown",
   "id": "66d3e275",
   "metadata": {},
   "source": [
    "\\newpage"
   ]
  },
  {
   "attachments": {},
   "cell_type": "markdown",
   "id": "69758bb8",
   "metadata": {},
   "source": [
    "\\section{Ejecución del modelo}"
   ]
  },
  {
   "attachments": {},
   "cell_type": "markdown",
   "id": "3627d2ec",
   "metadata": {},
   "source": [
    "\\newpage"
   ]
  },
  {
   "attachments": {},
   "cell_type": "markdown",
   "id": "2ec4f1f6",
   "metadata": {},
   "source": [
    "\\section{Conclusiones}\n",
    "\n"
   ]
  },
  {
   "cell_type": "markdown",
   "id": "1488c5f3",
   "metadata": {},
   "source": [
    "\\newpage"
   ]
  },
  {
   "cell_type": "markdown",
   "id": "1ed07ed1",
   "metadata": {},
   "source": [
    "\\bibliographystyle{apalike}\n",
    "\\bibliography{references}"
   ]
  }
 ],
 "metadata": {
  "authors": [
   {
    "name": "Erika Paola Ortiz"
   },
   {
    "name": "Romina Iglesias"
   }
  ],
  "celltoolbar": "Tags",
  "kernelspec": {
   "display_name": "Python 3 (ipykernel)",
   "language": "python",
   "name": "python3"
  },
  "language_info": {
   "codemirror_mode": {
    "name": "ipython",
    "version": 3
   },
   "file_extension": ".py",
   "mimetype": "text/x-python",
   "name": "python",
   "nbconvert_exporter": "python",
   "pygments_lexer": "ipython3",
   "version": "3.11.0"
  },
  "title": "Hablemos de BERT Red Neuronal",
  "toc": {
   "base_numbering": 1,
   "nav_menu": {
    "height": "95px",
    "width": "160px"
   },
   "number_sections": true,
   "sideBar": true,
   "skip_h1_title": false,
   "title_cell": "Table of Contents",
   "title_sidebar": "Contents",
   "toc_cell": false,
   "toc_position": {
    "height": "calc(100% - 180px)",
    "left": "10px",
    "top": "150px",
    "width": "233px"
   },
   "toc_section_display": true,
   "toc_window_display": true
  },
  "varInspector": {
   "cols": {
    "lenName": 16,
    "lenType": 16,
    "lenVar": 40
   },
   "kernels_config": {
    "python": {
     "delete_cmd_postfix": "",
     "delete_cmd_prefix": "del ",
     "library": "var_list.py",
     "varRefreshCmd": "print(var_dic_list())"
    },
    "r": {
     "delete_cmd_postfix": ") ",
     "delete_cmd_prefix": "rm(",
     "library": "var_list.r",
     "varRefreshCmd": "cat(var_dic_list()) "
    }
   },
   "position": {
    "height": "144.852px",
    "left": "1311px",
    "right": "20px",
    "top": "120px",
    "width": "350px"
   },
   "types_to_exclude": [
    "module",
    "function",
    "builtin_function_or_method",
    "instance",
    "_Feature"
   ],
   "window_display": false
  },
  "vscode": {
   "interpreter": {
    "hash": "5238573367df39f7286bb46f9ff5f08f63a01a80960060ce41e3c79b190280fa"
   }
  }
 },
 "nbformat": 4,
 "nbformat_minor": 5
}
