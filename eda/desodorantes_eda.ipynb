{
 "cells": [
  {
   "cell_type": "markdown",
   "id": "dd6e3e46",
   "metadata": {},
   "source": [
    "---\n",
    "title: \"Análisis de ventas de desodorantes de aerosol en Supermercados de Argentina\"\n",
    "author: \"Your Name\"\n",
    "date: \"Date of Submission\"\n",
    "documentclass: report\n",
    "output:\n",
    "  pdf_document:\n",
    "    keep_tex: yes\n",
    "    pandoc_args: [\n",
    "      \"-H\", \"preamble.tex\"\n",
    "    ]\n",
    "header-includes:\n",
    "  - \\usepackage{graphicx}\n",
    "  - \\usepackage{biblatex}\n",
    "  - \\addbibresource{references.bib}\n",
    "---\n"
   ]
  },
  {
   "cell_type": "code",
   "execution_count": null,
   "id": "27b1fa4f",
   "metadata": {},
   "outputs": [],
   "source": [
    "\\renewcommand\\refname{Bibliografía}\n",
    "\\renewcommand{\\contentsname}{Contenido}\n",
    "\\renewcommand{\\listfigurename}{Lista de Figuras}\n",
    "\\linespread{1.3}"
   ]
  },
  {
   "cell_type": "markdown",
   "id": "0d79ba81",
   "metadata": {},
   "source": [
    "\\begin{titlepage}\n",
    "    \\begin{center}\n",
    "        \\vspace*{1cm}\n",
    "        \n",
    "        \\Huge\n",
    "        \\textbf{Análisis del impacto que tienen las promociones en las ventas de desodorantes en aerosol en cinco cadenas de supermercados ubicados en Argentina}\n",
    "        \n",
    "        \\vspace{0.5cm}\n",
    "        \\LARGE\n",
    "        Análisis de las ventas de desodorantes en aerosol\n",
    "        \n",
    "        \\vspace{1.5cm}\n",
    "        \n",
    "        \\textbf{\\large Erika Ortiz \\\\ Romina Iglesias \\\\ Carme Alegret}\n",
    "        \n",
    "        \\vfill\n",
    "        \n",
    "        Este reporte se presenta\\\\\n",
    "        como requisito para el\\\\\n",
    "        Master en Data Science y Advanced Analytics \n",
    "        \n",
    "        \\vspace{0.8cm}\n",
    "        \n",
    "        \n",
    "        \\Large\n",
    "        Universitat Internacional de Catalunya\\\\\n",
    "        Barcelona\\\\\n",
    "        España\\\\\n",
    "        Abril 2023\n",
    "        \n",
    "    \\end{center}\n",
    "\\end{titlepage}"
   ]
  },
  {
   "cell_type": "markdown",
   "id": "45d57ee9",
   "metadata": {},
   "source": [
    "\\newpage\n",
    "\\tableofcontents"
   ]
  },
  {
   "cell_type": "markdown",
   "id": "0515aac4",
   "metadata": {},
   "source": [
    "\\section{Introducción}\n",
    "\n",
    "\n",
    "Se trata de un conjunto de supermercados que tienen varios años de datos acumulados de productos de limpieza del hogar.\n",
    "Realizan promociones de forma permanente y quieren poder predecir el volumen de ventas según las promociones que realizan.\n",
    "\n",
    "Objetivo:\n",
    "Se trata de plantear como abordar el problema completo, desde que el cliente plantea la necesidad:"
   ]
  },
  {
   "cell_type": "markdown",
   "id": "8c197258",
   "metadata": {},
   "source": [
    "\\section{Objetivos}\n",
    "\n",
    "1. Determinar el efecto de las promociones en las ventas de desodorantes en aerosol a partir del análisis del conjunto de datos disponible desde julio de 2016 hasta julio de 2019.\n",
    "\n",
    "2. Evaluar las ventas de desodorantes en aerosol que no fueron promocionados para identificar patrones y tendencias en la demanda.\n",
    "\n",
    "3. Desarrollar un modelo predictivo que permita estimar el volumen de ventas de desodorantes en aerosol cuando se implementa una promoción.\n",
    "\n",
    "4. Establecer una arquitectura adecuada para la creación, mantenimiento y despliegue del modelo predictivo, considerando factores como la escalabilidad y la eficiencia del proceso."
   ]
  },
  {
   "cell_type": "markdown",
   "id": "446f8cd8",
   "metadata": {},
   "source": [
    "\\section{Análisis Exploratorio de Datos}\n",
    "\n",
    "##"
   ]
  },
  {
   "cell_type": "markdown",
   "id": "2cedae59",
   "metadata": {},
   "source": [
    "\n",
    "# Introduction\n",
    "\n",
    "This is the introduction to my report.\n",
    "\n",
    "## Background\n",
    "\n",
    "Here is some background information.\n",
    "\n",
    "\n",
    "This chapter describes the methods used in this study.\n",
    "\n",
    "## Data Collection\n",
    "\n",
    "Data were collected from...\n",
    "\n",
    "## Data Analysis\n",
    "\n",
    "Data were analyzed using...\n",
    "\n",
    "\\section{Results}\n",
    "\n",
    "This chapter presents the results of the study.\n",
    "\n",
    "## Summary of Results\n",
    "\n",
    "The main results are...\n",
    "\n",
    "## Discussion\n",
    "\n",
    "The implications of these results are...\n",
    "\n",
    "\\bibliographystyle{plain}\n",
    "\\bibliography{references}\n"
   ]
  }
 ],
 "metadata": {
  "celltoolbar": "Tags",
  "kernelspec": {
   "display_name": "Python 3 (ipykernel)",
   "language": "python",
   "name": "python3"
  },
  "language_info": {
   "codemirror_mode": {
    "name": "ipython",
    "version": 3
   },
   "file_extension": ".py",
   "mimetype": "text/x-python",
   "name": "python",
   "nbconvert_exporter": "python",
   "pygments_lexer": "ipython3",
   "version": "3.10.8"
  },
  "toc": {
   "base_numbering": 1,
   "nav_menu": {
    "height": "95px",
    "width": "160px"
   },
   "number_sections": true,
   "sideBar": true,
   "skip_h1_title": false,
   "title_cell": "Table of Contents",
   "title_sidebar": "Contents",
   "toc_cell": false,
   "toc_position": {
    "height": "calc(100% - 180px)",
    "left": "10px",
    "top": "150px",
    "width": "233px"
   },
   "toc_section_display": true,
   "toc_window_display": true
  },
  "varInspector": {
   "cols": {
    "lenName": 16,
    "lenType": 16,
    "lenVar": 40
   },
   "kernels_config": {
    "python": {
     "delete_cmd_postfix": "",
     "delete_cmd_prefix": "del ",
     "library": "var_list.py",
     "varRefreshCmd": "print(var_dic_list())"
    },
    "r": {
     "delete_cmd_postfix": ") ",
     "delete_cmd_prefix": "rm(",
     "library": "var_list.r",
     "varRefreshCmd": "cat(var_dic_list()) "
    }
   },
   "position": {
    "height": "144.852px",
    "left": "1311px",
    "right": "20px",
    "top": "120px",
    "width": "350px"
   },
   "types_to_exclude": [
    "module",
    "function",
    "builtin_function_or_method",
    "instance",
    "_Feature"
   ],
   "window_display": false
  },
  "vscode": {
   "interpreter": {
    "hash": "5238573367df39f7286bb46f9ff5f08f63a01a80960060ce41e3c79b190280fa"
   }
  }
 },
 "nbformat": 4,
 "nbformat_minor": 5
}
